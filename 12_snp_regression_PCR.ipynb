{
 "cells": [
  {
   "cell_type": "markdown",
   "metadata": {},
   "source": [
    "# <p style=\"text-align: justify;\"><div class=\"alert alert-info\" role=\"alert\">Multiple Linear Regression with genetic predictors coupled with Principal Components Analysis</div></p>\n",
    "\n",
    "## `Ana González Guerra` \n",
    "\n",
    "### ` Student of the master in Data Science at the University of Cantabria` "
   ]
  },
  {
   "cell_type": "markdown",
   "metadata": {},
   "source": [
    "## Index<a class=\"anchor\" id=\"index\"></a>\n",
    "* [Loading data](#1)\n",
    "    * [Genetic predictors](#2)\n",
    "    * [Target variables](#3)\n",
    "* [Train/test partition](#4)\n",
    "* [Multiple Linear Regression coupled with PCA](#5)\n",
    "    * [Training the model](#6)\n",
    "    * [Cross-validation](#7)\n",
    "        * [RMSE error in the test prediction after cross-validation](#8)\n",
    "   "
   ]
  },
  {
   "cell_type": "markdown",
   "metadata": {},
   "source": [
    "## Loading data <a class=\"anchor\" id =\"1\" ></a>\n",
    "\n",
    "* [Returning to the index of contents](#index)\n",
    "\n",
    "### Genetic predictors <a class=\"anchor\" id=\"2\"></a>\n",
    "\n",
    "* [Returning to the index of contents](#index)"
   ]
  },
  {
   "cell_type": "markdown",
   "metadata": {},
   "source": [
    "Cargamos los datos de las variables genéticas codificadas, donde se ha traducido cada nivel de las mismas en 1, 2 y 3 por orden alfabético."
   ]
  },
  {
   "cell_type": "code",
   "execution_count": 1,
   "metadata": {},
   "outputs": [
    {
     "data": {
      "text/html": [
       "<table>\n",
       "<thead><tr><th scope=col>rs10034661</th><th scope=col>rs10063949</th><th scope=col>rs1024610</th><th scope=col>rs1024611</th><th scope=col>rs1042713</th><th scope=col>rs1045485</th><th scope=col>rs10491003</th><th scope=col>rs1049305</th><th scope=col>rs1049434</th><th scope=col>rs10497520</th><th scope=col>...</th><th scope=col>rs8111989</th><th scope=col>rs8192678</th><th scope=col>rs824205</th><th scope=col>rs833070</th><th scope=col>rs884736</th><th scope=col>rs921943</th><th scope=col>rs9469199</th><th scope=col>rs970547</th><th scope=col>rs9902453</th><th scope=col>rs9939609</th></tr></thead>\n",
       "<tbody>\n",
       "\t<tr><td>3  </td><td>2  </td><td>2  </td><td>3  </td><td>1  </td><td>2  </td><td>3  </td><td>2  </td><td>2  </td><td>2  </td><td>...</td><td>2  </td><td>2  </td><td>2  </td><td>2  </td><td>2  </td><td>2  </td><td>2  </td><td>1  </td><td>2  </td><td>1  </td></tr>\n",
       "\t<tr><td>3  </td><td>2  </td><td>2  </td><td>2  </td><td>2  </td><td>3  </td><td>3  </td><td>3  </td><td>1  </td><td>1  </td><td>...</td><td>2  </td><td>2  </td><td>1  </td><td>2  </td><td>2  </td><td>2  </td><td>3  </td><td>2  </td><td>2  </td><td>3  </td></tr>\n",
       "\t<tr><td>3  </td><td>3  </td><td>2  </td><td>3  </td><td>2  </td><td>3  </td><td>3  </td><td>2  </td><td>1  </td><td>1  </td><td>...</td><td>2  </td><td>2  </td><td>2  </td><td>2  </td><td>2  </td><td>1  </td><td>3  </td><td>2  </td><td>2  </td><td>1  </td></tr>\n",
       "\t<tr><td>3  </td><td>3  </td><td>3  </td><td>2  </td><td>2  </td><td>3  </td><td>3  </td><td>1  </td><td>2  </td><td>1  </td><td>...</td><td>2  </td><td>2  </td><td>2  </td><td>2  </td><td>2  </td><td>2  </td><td>3  </td><td>1  </td><td>1  </td><td>1  </td></tr>\n",
       "\t<tr><td>3  </td><td>2  </td><td>3  </td><td>2  </td><td>3  </td><td>1  </td><td>3  </td><td>2  </td><td>3  </td><td>1  </td><td>...</td><td>2  </td><td>2  </td><td>2  </td><td>3  </td><td>3  </td><td>3  </td><td>3  </td><td>1  </td><td>2  </td><td>2  </td></tr>\n",
       "\t<tr><td>3  </td><td>2  </td><td>3  </td><td>2  </td><td>2  </td><td>3  </td><td>3  </td><td>2  </td><td>2  </td><td>1  </td><td>...</td><td>2  </td><td>2  </td><td>2  </td><td>3  </td><td>2  </td><td>2  </td><td>3  </td><td>2  </td><td>3  </td><td>3  </td></tr>\n",
       "</tbody>\n",
       "</table>\n"
      ],
      "text/latex": [
       "\\begin{tabular}{r|llllllllllllllllllllllllllllllllllllllllllllllllllllllllllllllllllllllllllllllllllllllllllllllllllllllllllllllllllllllllllllllllllllllllllllllllllllllllllllllllllllllllllllllllll}\n",
       " rs10034661 & rs10063949 & rs1024610 & rs1024611 & rs1042713 & rs1045485 & rs10491003 & rs1049305 & rs1049434 & rs10497520 & ... & rs8111989 & rs8192678 & rs824205 & rs833070 & rs884736 & rs921943 & rs9469199 & rs970547 & rs9902453 & rs9939609\\\\\n",
       "\\hline\n",
       "\t 3   & 2   & 2   & 3   & 1   & 2   & 3   & 2   & 2   & 2   & ... & 2   & 2   & 2   & 2   & 2   & 2   & 2   & 1   & 2   & 1  \\\\\n",
       "\t 3   & 2   & 2   & 2   & 2   & 3   & 3   & 3   & 1   & 1   & ... & 2   & 2   & 1   & 2   & 2   & 2   & 3   & 2   & 2   & 3  \\\\\n",
       "\t 3   & 3   & 2   & 3   & 2   & 3   & 3   & 2   & 1   & 1   & ... & 2   & 2   & 2   & 2   & 2   & 1   & 3   & 2   & 2   & 1  \\\\\n",
       "\t 3   & 3   & 3   & 2   & 2   & 3   & 3   & 1   & 2   & 1   & ... & 2   & 2   & 2   & 2   & 2   & 2   & 3   & 1   & 1   & 1  \\\\\n",
       "\t 3   & 2   & 3   & 2   & 3   & 1   & 3   & 2   & 3   & 1   & ... & 2   & 2   & 2   & 3   & 3   & 3   & 3   & 1   & 2   & 2  \\\\\n",
       "\t 3   & 2   & 3   & 2   & 2   & 3   & 3   & 2   & 2   & 1   & ... & 2   & 2   & 2   & 3   & 2   & 2   & 3   & 2   & 3   & 3  \\\\\n",
       "\\end{tabular}\n"
      ],
      "text/markdown": [
       "\n",
       "| rs10034661 | rs10063949 | rs1024610 | rs1024611 | rs1042713 | rs1045485 | rs10491003 | rs1049305 | rs1049434 | rs10497520 | ... | rs8111989 | rs8192678 | rs824205 | rs833070 | rs884736 | rs921943 | rs9469199 | rs970547 | rs9902453 | rs9939609 |\n",
       "|---|---|---|---|---|---|---|---|---|---|---|---|---|---|---|---|---|---|---|---|---|\n",
       "| 3   | 2   | 2   | 3   | 1   | 2   | 3   | 2   | 2   | 2   | ... | 2   | 2   | 2   | 2   | 2   | 2   | 2   | 1   | 2   | 1   |\n",
       "| 3   | 2   | 2   | 2   | 2   | 3   | 3   | 3   | 1   | 1   | ... | 2   | 2   | 1   | 2   | 2   | 2   | 3   | 2   | 2   | 3   |\n",
       "| 3   | 3   | 2   | 3   | 2   | 3   | 3   | 2   | 1   | 1   | ... | 2   | 2   | 2   | 2   | 2   | 1   | 3   | 2   | 2   | 1   |\n",
       "| 3   | 3   | 3   | 2   | 2   | 3   | 3   | 1   | 2   | 1   | ... | 2   | 2   | 2   | 2   | 2   | 2   | 3   | 1   | 1   | 1   |\n",
       "| 3   | 2   | 3   | 2   | 3   | 1   | 3   | 2   | 3   | 1   | ... | 2   | 2   | 2   | 3   | 3   | 3   | 3   | 1   | 2   | 2   |\n",
       "| 3   | 2   | 3   | 2   | 2   | 3   | 3   | 2   | 2   | 1   | ... | 2   | 2   | 2   | 3   | 2   | 2   | 3   | 2   | 3   | 3   |\n",
       "\n"
      ],
      "text/plain": [
       "  rs10034661 rs10063949 rs1024610 rs1024611 rs1042713 rs1045485 rs10491003\n",
       "1 3          2          2         3         1         2         3         \n",
       "2 3          2          2         2         2         3         3         \n",
       "3 3          3          2         3         2         3         3         \n",
       "4 3          3          3         2         2         3         3         \n",
       "5 3          2          3         2         3         1         3         \n",
       "6 3          2          3         2         2         3         3         \n",
       "  rs1049305 rs1049434 rs10497520 ... rs8111989 rs8192678 rs824205 rs833070\n",
       "1 2         2         2          ... 2         2         2        2       \n",
       "2 3         1         1          ... 2         2         1        2       \n",
       "3 2         1         1          ... 2         2         2        2       \n",
       "4 1         2         1          ... 2         2         2        2       \n",
       "5 2         3         1          ... 2         2         2        3       \n",
       "6 2         2         1          ... 2         2         2        3       \n",
       "  rs884736 rs921943 rs9469199 rs970547 rs9902453 rs9939609\n",
       "1 2        2        2         1        2         1        \n",
       "2 2        2        3         2        2         3        \n",
       "3 2        1        3         2        2         1        \n",
       "4 2        2        3         1        1         1        \n",
       "5 3        3        3         1        2         2        \n",
       "6 2        2        3         2        3         3        "
      ]
     },
     "metadata": {},
     "output_type": "display_data"
    }
   ],
   "source": [
    "handle_genetic <-  read.csv('handle_genetic_cod_28_04_20.csv')\n",
    "\n",
    "head(handle_genetic)"
   ]
  },
  {
   "cell_type": "markdown",
   "metadata": {},
   "source": [
    "### Target variables <a class=\"anchor\" id=\"3\"></a>"
   ]
  },
  {
   "cell_type": "markdown",
   "metadata": {},
   "source": [
    "* [Returning to the index of contents](#index)"
   ]
  },
  {
   "cell_type": "code",
   "execution_count": 2,
   "metadata": {},
   "outputs": [
    {
     "data": {
      "text/html": [
       "<table>\n",
       "<thead><tr><th></th><th scope=col>W1MaxWAbs</th><th scope=col>W1MaxWRel</th><th scope=col>W1maxRPM</th><th scope=col>W1MedWAbs</th><th scope=col>W1MedWRel</th><th scope=col>W1medRPM</th><th scope=col>W2MaxWAbs</th><th scope=col>W2MaxWRel</th><th scope=col>W2maxRPM</th><th scope=col>W2MedWAbs</th><th scope=col>...</th><th scope=col>W2DifWRelFFM1</th><th scope=col>W2DifWRelFFM2</th><th scope=col>W1.2MaxDifWAbs</th><th scope=col>W1.2MaxDifWRel</th><th scope=col>W1.2MaxDifWRelFFM1</th><th scope=col>W1.2MaxDifWRelFFM2</th><th scope=col>W1.2MedDifWAbs</th><th scope=col>W1.2MedDifWRel</th><th scope=col>W1.2MedDifWRelFFM1</th><th scope=col>W1.2MedDifWRelFFM2</th></tr></thead>\n",
       "<tbody>\n",
       "\t<tr><th scope=row>0</th><td>398        </td><td> 8.747253  </td><td>122        </td><td>206        </td><td>4.527473   </td><td>100        </td><td>397        </td><td>8.725275   </td><td>122        </td><td>224        </td><td>...        </td><td> 4.479981  </td><td> 4.544592  </td><td>  1        </td><td> 0.02197802</td><td> 0.02589585</td><td> 0.02626932</td><td>-18        </td><td>-0.39560440</td><td>-0.46612522</td><td>-0.47284774</td></tr>\n",
       "\t<tr><th scope=row>4</th><td>511        </td><td> 8.964912  </td><td>128        </td><td>294        </td><td>5.157895   </td><td>109        </td><td>523        </td><td>9.175439   </td><td>122        </td><td>295        </td><td>...        </td><td> 4.552187  </td><td> 4.889881  </td><td>-12        </td><td>-0.21052632</td><td>-0.23958880</td><td>-0.25736216</td><td> -1        </td><td>-0.01754386</td><td>-0.01996573</td><td>-0.02144685</td></tr>\n",
       "\t<tr><th scope=row>7</th><td>524        </td><td>10.174757  </td><td>130        </td><td>262        </td><td>5.087379   </td><td>107        </td><td>476        </td><td>9.242718   </td><td>125        </td><td>245        </td><td>...        </td><td> 4.958966  </td><td> 5.566747  </td><td> 48        </td><td> 0.93203883</td><td> 1.03043453</td><td> 1.15672661</td><td> 17        </td><td> 0.33009709</td><td> 0.36494556</td><td> 0.40967401</td></tr>\n",
       "\t<tr><th scope=row>8</th><td>541        </td><td> 8.868852  </td><td>128        </td><td>351        </td><td>5.754098   </td><td>118        </td><td>472        </td><td>7.737705   </td><td>130        </td><td>333        </td><td>...        </td><td> 2.792441  </td><td> 3.020719  </td><td> 69        </td><td> 1.13114754</td><td> 1.38617564</td><td> 1.49949379</td><td> 18        </td><td> 0.29508197</td><td> 0.36161104</td><td> 0.39117229</td></tr>\n",
       "\t<tr><th scope=row>9</th><td>547        </td><td> 9.596491  </td><td>143        </td><td>291        </td><td>5.105263   </td><td>116        </td><td>169        </td><td>2.964912   </td><td>130        </td><td>302        </td><td>...        </td><td>-3.215855  </td><td>-3.248973  </td><td>378        </td><td> 6.63157895</td><td> 9.13979775</td><td> 9.23392354</td><td>-11        </td><td>-0.19298246</td><td>-0.26597295</td><td>-0.26871206</td></tr>\n",
       "\t<tr><th scope=row>11</th><td>553        </td><td> 9.701754  </td><td>133        </td><td>365        </td><td>6.403509   </td><td>121        </td><td>556        </td><td>9.754386   </td><td>136        </td><td>355        </td><td>...        </td><td> 4.113095  </td><td> 4.408965  </td><td> -3        </td><td>-0.05263158</td><td>-0.06138948</td><td>-0.06580544</td><td> 10        </td><td> 0.17543860</td><td> 0.20463161</td><td> 0.21935148</td></tr>\n",
       "</tbody>\n",
       "</table>\n"
      ],
      "text/latex": [
       "\\begin{tabular}{r|llllllllllllllllllllllllllllllllllll}\n",
       "  & W1MaxWAbs & W1MaxWRel & W1maxRPM & W1MedWAbs & W1MedWRel & W1medRPM & W2MaxWAbs & W2MaxWRel & W2maxRPM & W2MedWAbs & ... & W2DifWRelFFM1 & W2DifWRelFFM2 & W1.2MaxDifWAbs & W1.2MaxDifWRel & W1.2MaxDifWRelFFM1 & W1.2MaxDifWRelFFM2 & W1.2MedDifWAbs & W1.2MedDifWRel & W1.2MedDifWRelFFM1 & W1.2MedDifWRelFFM2\\\\\n",
       "\\hline\n",
       "\t0 & 398         &  8.747253   & 122         & 206         & 4.527473    & 100         & 397         & 8.725275    & 122         & 224         & ...         &  4.479981   &  4.544592   &   1         &  0.02197802 &  0.02589585 &  0.02626932 & -18         & -0.39560440 & -0.46612522 & -0.47284774\\\\\n",
       "\t4 & 511         &  8.964912   & 128         & 294         & 5.157895    & 109         & 523         & 9.175439    & 122         & 295         & ...         &  4.552187   &  4.889881   & -12         & -0.21052632 & -0.23958880 & -0.25736216 &  -1         & -0.01754386 & -0.01996573 & -0.02144685\\\\\n",
       "\t7 & 524         & 10.174757   & 130         & 262         & 5.087379    & 107         & 476         & 9.242718    & 125         & 245         & ...         &  4.958966   &  5.566747   &  48         &  0.93203883 &  1.03043453 &  1.15672661 &  17         &  0.33009709 &  0.36494556 &  0.40967401\\\\\n",
       "\t8 & 541         &  8.868852   & 128         & 351         & 5.754098    & 118         & 472         & 7.737705    & 130         & 333         & ...         &  2.792441   &  3.020719   &  69         &  1.13114754 &  1.38617564 &  1.49949379 &  18         &  0.29508197 &  0.36161104 &  0.39117229\\\\\n",
       "\t9 & 547         &  9.596491   & 143         & 291         & 5.105263    & 116         & 169         & 2.964912    & 130         & 302         & ...         & -3.215855   & -3.248973   & 378         &  6.63157895 &  9.13979775 &  9.23392354 & -11         & -0.19298246 & -0.26597295 & -0.26871206\\\\\n",
       "\t11 & 553         &  9.701754   & 133         & 365         & 6.403509    & 121         & 556         & 9.754386    & 136         & 355         & ...         &  4.113095   &  4.408965   &  -3         & -0.05263158 & -0.06138948 & -0.06580544 &  10         &  0.17543860 &  0.20463161 &  0.21935148\\\\\n",
       "\\end{tabular}\n"
      ],
      "text/markdown": [
       "\n",
       "| <!--/--> | W1MaxWAbs | W1MaxWRel | W1maxRPM | W1MedWAbs | W1MedWRel | W1medRPM | W2MaxWAbs | W2MaxWRel | W2maxRPM | W2MedWAbs | ... | W2DifWRelFFM1 | W2DifWRelFFM2 | W1.2MaxDifWAbs | W1.2MaxDifWRel | W1.2MaxDifWRelFFM1 | W1.2MaxDifWRelFFM2 | W1.2MedDifWAbs | W1.2MedDifWRel | W1.2MedDifWRelFFM1 | W1.2MedDifWRelFFM2 |\n",
       "|---|---|---|---|---|---|---|---|---|---|---|---|---|---|---|---|---|---|---|---|---|---|\n",
       "| 0 | 398         |  8.747253   | 122         | 206         | 4.527473    | 100         | 397         | 8.725275    | 122         | 224         | ...         |  4.479981   |  4.544592   |   1         |  0.02197802 |  0.02589585 |  0.02626932 | -18         | -0.39560440 | -0.46612522 | -0.47284774 |\n",
       "| 4 | 511         |  8.964912   | 128         | 294         | 5.157895    | 109         | 523         | 9.175439    | 122         | 295         | ...         |  4.552187   |  4.889881   | -12         | -0.21052632 | -0.23958880 | -0.25736216 |  -1         | -0.01754386 | -0.01996573 | -0.02144685 |\n",
       "| 7 | 524         | 10.174757   | 130         | 262         | 5.087379    | 107         | 476         | 9.242718    | 125         | 245         | ...         |  4.958966   |  5.566747   |  48         |  0.93203883 |  1.03043453 |  1.15672661 |  17         |  0.33009709 |  0.36494556 |  0.40967401 |\n",
       "| 8 | 541         |  8.868852   | 128         | 351         | 5.754098    | 118         | 472         | 7.737705    | 130         | 333         | ...         |  2.792441   |  3.020719   |  69         |  1.13114754 |  1.38617564 |  1.49949379 |  18         |  0.29508197 |  0.36161104 |  0.39117229 |\n",
       "| 9 | 547         |  9.596491   | 143         | 291         | 5.105263    | 116         | 169         | 2.964912    | 130         | 302         | ...         | -3.215855   | -3.248973   | 378         |  6.63157895 |  9.13979775 |  9.23392354 | -11         | -0.19298246 | -0.26597295 | -0.26871206 |\n",
       "| 11 | 553         |  9.701754   | 133         | 365         | 6.403509    | 121         | 556         | 9.754386    | 136         | 355         | ...         |  4.113095   |  4.408965   |  -3         | -0.05263158 | -0.06138948 | -0.06580544 |  10         |  0.17543860 |  0.20463161 |  0.21935148 |\n",
       "\n"
      ],
      "text/plain": [
       "   W1MaxWAbs W1MaxWRel W1maxRPM W1MedWAbs W1MedWRel W1medRPM W2MaxWAbs\n",
       "0  398        8.747253 122      206       4.527473  100      397      \n",
       "4  511        8.964912 128      294       5.157895  109      523      \n",
       "7  524       10.174757 130      262       5.087379  107      476      \n",
       "8  541        8.868852 128      351       5.754098  118      472      \n",
       "9  547        9.596491 143      291       5.105263  116      169      \n",
       "11 553        9.701754 133      365       6.403509  121      556      \n",
       "   W2MaxWRel W2maxRPM W2MedWAbs ... W2DifWRelFFM1 W2DifWRelFFM2 W1.2MaxDifWAbs\n",
       "0  8.725275  122      224       ...  4.479981      4.544592       1           \n",
       "4  9.175439  122      295       ...  4.552187      4.889881     -12           \n",
       "7  9.242718  125      245       ...  4.958966      5.566747      48           \n",
       "8  7.737705  130      333       ...  2.792441      3.020719      69           \n",
       "9  2.964912  130      302       ... -3.215855     -3.248973     378           \n",
       "11 9.754386  136      355       ...  4.113095      4.408965      -3           \n",
       "   W1.2MaxDifWRel W1.2MaxDifWRelFFM1 W1.2MaxDifWRelFFM2 W1.2MedDifWAbs\n",
       "0   0.02197802     0.02589585         0.02626932        -18           \n",
       "4  -0.21052632    -0.23958880        -0.25736216         -1           \n",
       "7   0.93203883     1.03043453         1.15672661         17           \n",
       "8   1.13114754     1.38617564         1.49949379         18           \n",
       "9   6.63157895     9.13979775         9.23392354        -11           \n",
       "11 -0.05263158    -0.06138948        -0.06580544         10           \n",
       "   W1.2MedDifWRel W1.2MedDifWRelFFM1 W1.2MedDifWRelFFM2\n",
       "0  -0.39560440    -0.46612522        -0.47284774       \n",
       "4  -0.01754386    -0.01996573        -0.02144685       \n",
       "7   0.33009709     0.36494556         0.40967401       \n",
       "8   0.29508197     0.36161104         0.39117229       \n",
       "9  -0.19298246    -0.26597295        -0.26871206       \n",
       "11  0.17543860     0.20463161         0.21935148       "
      ]
     },
     "metadata": {},
     "output_type": "display_data"
    }
   ],
   "source": [
    "handle_target <- read.csv('handle_target_fusion_31_03_20.csv', row.name = 1)\n",
    "\n",
    "head(handle_target)"
   ]
  },
  {
   "cell_type": "code",
   "execution_count": 3,
   "metadata": {},
   "outputs": [
    {
     "data": {
      "text/html": [
       "<table>\n",
       "<thead><tr><th></th><th scope=col>W1.2MedDifWRelFFM1</th></tr></thead>\n",
       "<tbody>\n",
       "\t<tr><th scope=row>0</th><td>-0.46612522</td></tr>\n",
       "\t<tr><th scope=row>4</th><td>-0.01996573</td></tr>\n",
       "\t<tr><th scope=row>7</th><td> 0.36494556</td></tr>\n",
       "\t<tr><th scope=row>8</th><td> 0.36161104</td></tr>\n",
       "\t<tr><th scope=row>9</th><td>-0.26597295</td></tr>\n",
       "\t<tr><th scope=row>11</th><td> 0.20463161</td></tr>\n",
       "</tbody>\n",
       "</table>\n"
      ],
      "text/latex": [
       "\\begin{tabular}{r|l}\n",
       "  & W1.2MedDifWRelFFM1\\\\\n",
       "\\hline\n",
       "\t0 & -0.46612522\\\\\n",
       "\t4 & -0.01996573\\\\\n",
       "\t7 &  0.36494556\\\\\n",
       "\t8 &  0.36161104\\\\\n",
       "\t9 & -0.26597295\\\\\n",
       "\t11 &  0.20463161\\\\\n",
       "\\end{tabular}\n"
      ],
      "text/markdown": [
       "\n",
       "| <!--/--> | W1.2MedDifWRelFFM1 |\n",
       "|---|---|\n",
       "| 0 | -0.46612522 |\n",
       "| 4 | -0.01996573 |\n",
       "| 7 |  0.36494556 |\n",
       "| 8 |  0.36161104 |\n",
       "| 9 | -0.26597295 |\n",
       "| 11 |  0.20463161 |\n",
       "\n"
      ],
      "text/plain": [
       "   W1.2MedDifWRelFFM1\n",
       "0  -0.46612522       \n",
       "4  -0.01996573       \n",
       "7   0.36494556       \n",
       "8   0.36161104       \n",
       "9  -0.26597295       \n",
       "11  0.20463161       "
      ]
     },
     "metadata": {},
     "output_type": "display_data"
    }
   ],
   "source": [
    "target <- handle_target['W1.2MedDifWRelFFM1']\n",
    "head(target)"
   ]
  },
  {
   "cell_type": "markdown",
   "metadata": {},
   "source": [
    "We create the dataframe for the analysis:"
   ]
  },
  {
   "cell_type": "code",
   "execution_count": 4,
   "metadata": {},
   "outputs": [
    {
     "data": {
      "text/html": [
       "<table>\n",
       "<thead><tr><th></th><th scope=col>W1.2MedDifWRelFFM1</th><th scope=col>rs10034661</th><th scope=col>rs10063949</th><th scope=col>rs1024610</th><th scope=col>rs1024611</th><th scope=col>rs1042713</th><th scope=col>rs1045485</th><th scope=col>rs10491003</th><th scope=col>rs1049305</th><th scope=col>rs1049434</th><th scope=col>...</th><th scope=col>rs8111989</th><th scope=col>rs8192678</th><th scope=col>rs824205</th><th scope=col>rs833070</th><th scope=col>rs884736</th><th scope=col>rs921943</th><th scope=col>rs9469199</th><th scope=col>rs970547</th><th scope=col>rs9902453</th><th scope=col>rs9939609</th></tr></thead>\n",
       "<tbody>\n",
       "\t<tr><th scope=row>0</th><td>-0.46612522</td><td>3          </td><td>2          </td><td>2          </td><td>3          </td><td>1          </td><td>2          </td><td>3          </td><td>2          </td><td>2          </td><td>...        </td><td>2          </td><td>2          </td><td>2          </td><td>2          </td><td>2          </td><td>2          </td><td>2          </td><td>1          </td><td>2          </td><td>1          </td></tr>\n",
       "\t<tr><th scope=row>4</th><td>-0.01996573</td><td>3          </td><td>2          </td><td>2          </td><td>2          </td><td>2          </td><td>3          </td><td>3          </td><td>3          </td><td>1          </td><td>...        </td><td>2          </td><td>2          </td><td>1          </td><td>2          </td><td>2          </td><td>2          </td><td>3          </td><td>2          </td><td>2          </td><td>3          </td></tr>\n",
       "\t<tr><th scope=row>7</th><td> 0.36494556</td><td>3          </td><td>3          </td><td>2          </td><td>3          </td><td>2          </td><td>3          </td><td>3          </td><td>2          </td><td>1          </td><td>...        </td><td>2          </td><td>2          </td><td>2          </td><td>2          </td><td>2          </td><td>1          </td><td>3          </td><td>2          </td><td>2          </td><td>1          </td></tr>\n",
       "\t<tr><th scope=row>8</th><td> 0.36161104</td><td>3          </td><td>3          </td><td>3          </td><td>2          </td><td>2          </td><td>3          </td><td>3          </td><td>1          </td><td>2          </td><td>...        </td><td>2          </td><td>2          </td><td>2          </td><td>2          </td><td>2          </td><td>2          </td><td>3          </td><td>1          </td><td>1          </td><td>1          </td></tr>\n",
       "\t<tr><th scope=row>9</th><td>-0.26597295</td><td>3          </td><td>2          </td><td>3          </td><td>2          </td><td>3          </td><td>1          </td><td>3          </td><td>2          </td><td>3          </td><td>...        </td><td>2          </td><td>2          </td><td>2          </td><td>3          </td><td>3          </td><td>3          </td><td>3          </td><td>1          </td><td>2          </td><td>2          </td></tr>\n",
       "\t<tr><th scope=row>11</th><td> 0.20463161</td><td>3          </td><td>2          </td><td>3          </td><td>2          </td><td>2          </td><td>3          </td><td>3          </td><td>2          </td><td>2          </td><td>...        </td><td>2          </td><td>2          </td><td>2          </td><td>3          </td><td>2          </td><td>2          </td><td>3          </td><td>2          </td><td>3          </td><td>3          </td></tr>\n",
       "</tbody>\n",
       "</table>\n"
      ],
      "text/latex": [
       "\\begin{tabular}{r|lllllllllllllllllllllllllllllllllllllllllllllllllllllllllllllllllllllllllllllllllllllllllllllllllllllllllllllllllllllllllllllllllllllllllllllllllllllllllllllllllllllllllllllllllll}\n",
       "  & W1.2MedDifWRelFFM1 & rs10034661 & rs10063949 & rs1024610 & rs1024611 & rs1042713 & rs1045485 & rs10491003 & rs1049305 & rs1049434 & ... & rs8111989 & rs8192678 & rs824205 & rs833070 & rs884736 & rs921943 & rs9469199 & rs970547 & rs9902453 & rs9939609\\\\\n",
       "\\hline\n",
       "\t0 & -0.46612522 & 3           & 2           & 2           & 3           & 1           & 2           & 3           & 2           & 2           & ...         & 2           & 2           & 2           & 2           & 2           & 2           & 2           & 1           & 2           & 1          \\\\\n",
       "\t4 & -0.01996573 & 3           & 2           & 2           & 2           & 2           & 3           & 3           & 3           & 1           & ...         & 2           & 2           & 1           & 2           & 2           & 2           & 3           & 2           & 2           & 3          \\\\\n",
       "\t7 &  0.36494556 & 3           & 3           & 2           & 3           & 2           & 3           & 3           & 2           & 1           & ...         & 2           & 2           & 2           & 2           & 2           & 1           & 3           & 2           & 2           & 1          \\\\\n",
       "\t8 &  0.36161104 & 3           & 3           & 3           & 2           & 2           & 3           & 3           & 1           & 2           & ...         & 2           & 2           & 2           & 2           & 2           & 2           & 3           & 1           & 1           & 1          \\\\\n",
       "\t9 & -0.26597295 & 3           & 2           & 3           & 2           & 3           & 1           & 3           & 2           & 3           & ...         & 2           & 2           & 2           & 3           & 3           & 3           & 3           & 1           & 2           & 2          \\\\\n",
       "\t11 &  0.20463161 & 3           & 2           & 3           & 2           & 2           & 3           & 3           & 2           & 2           & ...         & 2           & 2           & 2           & 3           & 2           & 2           & 3           & 2           & 3           & 3          \\\\\n",
       "\\end{tabular}\n"
      ],
      "text/markdown": [
       "\n",
       "| <!--/--> | W1.2MedDifWRelFFM1 | rs10034661 | rs10063949 | rs1024610 | rs1024611 | rs1042713 | rs1045485 | rs10491003 | rs1049305 | rs1049434 | ... | rs8111989 | rs8192678 | rs824205 | rs833070 | rs884736 | rs921943 | rs9469199 | rs970547 | rs9902453 | rs9939609 |\n",
       "|---|---|---|---|---|---|---|---|---|---|---|---|---|---|---|---|---|---|---|---|---|---|\n",
       "| 0 | -0.46612522 | 3           | 2           | 2           | 3           | 1           | 2           | 3           | 2           | 2           | ...         | 2           | 2           | 2           | 2           | 2           | 2           | 2           | 1           | 2           | 1           |\n",
       "| 4 | -0.01996573 | 3           | 2           | 2           | 2           | 2           | 3           | 3           | 3           | 1           | ...         | 2           | 2           | 1           | 2           | 2           | 2           | 3           | 2           | 2           | 3           |\n",
       "| 7 |  0.36494556 | 3           | 3           | 2           | 3           | 2           | 3           | 3           | 2           | 1           | ...         | 2           | 2           | 2           | 2           | 2           | 1           | 3           | 2           | 2           | 1           |\n",
       "| 8 |  0.36161104 | 3           | 3           | 3           | 2           | 2           | 3           | 3           | 1           | 2           | ...         | 2           | 2           | 2           | 2           | 2           | 2           | 3           | 1           | 1           | 1           |\n",
       "| 9 | -0.26597295 | 3           | 2           | 3           | 2           | 3           | 1           | 3           | 2           | 3           | ...         | 2           | 2           | 2           | 3           | 3           | 3           | 3           | 1           | 2           | 2           |\n",
       "| 11 |  0.20463161 | 3           | 2           | 3           | 2           | 2           | 3           | 3           | 2           | 2           | ...         | 2           | 2           | 2           | 3           | 2           | 2           | 3           | 2           | 3           | 3           |\n",
       "\n"
      ],
      "text/plain": [
       "   W1.2MedDifWRelFFM1 rs10034661 rs10063949 rs1024610 rs1024611 rs1042713\n",
       "0  -0.46612522        3          2          2         3         1        \n",
       "4  -0.01996573        3          2          2         2         2        \n",
       "7   0.36494556        3          3          2         3         2        \n",
       "8   0.36161104        3          3          3         2         2        \n",
       "9  -0.26597295        3          2          3         2         3        \n",
       "11  0.20463161        3          2          3         2         2        \n",
       "   rs1045485 rs10491003 rs1049305 rs1049434 ... rs8111989 rs8192678 rs824205\n",
       "0  2         3          2         2         ... 2         2         2       \n",
       "4  3         3          3         1         ... 2         2         1       \n",
       "7  3         3          2         1         ... 2         2         2       \n",
       "8  3         3          1         2         ... 2         2         2       \n",
       "9  1         3          2         3         ... 2         2         2       \n",
       "11 3         3          2         2         ... 2         2         2       \n",
       "   rs833070 rs884736 rs921943 rs9469199 rs970547 rs9902453 rs9939609\n",
       "0  2        2        2        2         1        2         1        \n",
       "4  2        2        2        3         2        2         3        \n",
       "7  2        2        1        3         2        2         1        \n",
       "8  2        2        2        3         1        1         1        \n",
       "9  3        3        3        3         1        2         2        \n",
       "11 3        2        2        3         2        3         3        "
      ]
     },
     "metadata": {},
     "output_type": "display_data"
    }
   ],
   "source": [
    "data_genetic <- cbind(target, handle_genetic)\n",
    "\n",
    "head(data_genetic)"
   ]
  },
  {
   "cell_type": "markdown",
   "metadata": {},
   "source": [
    "## Train/test partition<a class=\"anchor\" id=\"4\"></a>"
   ]
  },
  {
   "cell_type": "markdown",
   "metadata": {},
   "source": [
    "* [Returning to the index of contents](#index)"
   ]
  },
  {
   "cell_type": "code",
   "execution_count": 5,
   "metadata": {},
   "outputs": [
    {
     "name": "stderr",
     "output_type": "stream",
     "text": [
      "Warning message:\n",
      "\"package 'caret' was built under R version 3.6.2\"Loading required package: lattice\n",
      "Loading required package: ggplot2\n",
      "Warning message:\n",
      "\"package 'ggplot2' was built under R version 3.6.3\""
     ]
    },
    {
     "data": {
      "text/html": [
       "<ol class=list-inline>\n",
       "\t<li>70</li>\n",
       "\t<li>179</li>\n",
       "</ol>\n"
      ],
      "text/latex": [
       "\\begin{enumerate*}\n",
       "\\item 70\n",
       "\\item 179\n",
       "\\end{enumerate*}\n"
      ],
      "text/markdown": [
       "1. 70\n",
       "2. 179\n",
       "\n",
       "\n"
      ],
      "text/plain": [
       "[1]  70 179"
      ]
     },
     "metadata": {},
     "output_type": "display_data"
    },
    {
     "data": {
      "text/html": [
       "<ol class=list-inline>\n",
       "\t<li>12</li>\n",
       "\t<li>179</li>\n",
       "</ol>\n"
      ],
      "text/latex": [
       "\\begin{enumerate*}\n",
       "\\item 12\n",
       "\\item 179\n",
       "\\end{enumerate*}\n"
      ],
      "text/markdown": [
       "1. 12\n",
       "2. 179\n",
       "\n",
       "\n"
      ],
      "text/plain": [
       "[1]  12 179"
      ]
     },
     "metadata": {},
     "output_type": "display_data"
    }
   ],
   "source": [
    "library(caret)\n",
    "\n",
    "set.seed(10)\n",
    "id_df <- createDataPartition(data_genetic$W1.2MedDifWRelFFM1,p = 0.85,list = FALSE)\n",
    "data_genetic_train <- data_genetic[id_df,]\n",
    "data_genetic_test <- data_genetic[-id_df,]\n",
    "\n",
    "dim(data_genetic_train)\n",
    "\n",
    "dim(data_genetic_test)"
   ]
  },
  {
   "cell_type": "markdown",
   "metadata": {},
   "source": [
    "## Multiple Linear Regression coupled with PCA<a class=\"anchor\" id=\"5\"></a>"
   ]
  },
  {
   "cell_type": "markdown",
   "metadata": {},
   "source": [
    "* [Returning to the index of contents](#index)"
   ]
  },
  {
   "cell_type": "markdown",
   "metadata": {},
   "source": [
    "### Training the model <a class=\"anchor\" id=\"6\" ></a>"
   ]
  },
  {
   "cell_type": "markdown",
   "metadata": {},
   "source": [
    "* [Returning to the index of contents](#index)"
   ]
  },
  {
   "cell_type": "markdown",
   "metadata": {},
   "source": [
    "* #### We calculate the main components with the training set "
   ]
  },
  {
   "cell_type": "code",
   "execution_count": 14,
   "metadata": {},
   "outputs": [],
   "source": [
    "pca_train <- prcomp(data_genetic_train[, -1], scale. = TRUE)#no se tiene en cuenta la variable objetivo"
   ]
  },
  {
   "cell_type": "code",
   "execution_count": 15,
   "metadata": {},
   "outputs": [
    {
     "name": "stdout",
     "output_type": "stream",
     "text": [
      "List of 5\n",
      " $ sdev    : num [1:70] 2.58 2.56 2.49 2.39 2.37 ...\n",
      " $ rotation: num [1:178, 1:70] -0.0439 0.0425 0.1326 -0.101 -0.0581 ...\n",
      "  ..- attr(*, \"dimnames\")=List of 2\n",
      "  .. ..$ : chr [1:178] \"rs10034661\" \"rs10063949\" \"rs1024610\" \"rs1024611\" ...\n",
      "  .. ..$ : chr [1:70] \"PC1\" \"PC2\" \"PC3\" \"PC4\" ...\n",
      " $ center  : Named num [1:178] 2.51 2.34 2.49 2.5 2.26 ...\n",
      "  ..- attr(*, \"names\")= chr [1:178] \"rs10034661\" \"rs10063949\" \"rs1024610\" \"rs1024611\" ...\n",
      " $ scale   : Named num [1:178] 0.631 0.679 0.558 0.608 0.674 ...\n",
      "  ..- attr(*, \"names\")= chr [1:178] \"rs10034661\" \"rs10063949\" \"rs1024610\" \"rs1024611\" ...\n",
      " $ x       : num [1:70, 1:70] -3.05 -2.39 -1.69 -0.9 1.23 ...\n",
      "  ..- attr(*, \"dimnames\")=List of 2\n",
      "  .. ..$ : chr [1:70] \"4\" \"7\" \"9\" \"11\" ...\n",
      "  .. ..$ : chr [1:70] \"PC1\" \"PC2\" \"PC3\" \"PC4\" ...\n",
      " - attr(*, \"class\")= chr \"prcomp\"\n"
     ]
    }
   ],
   "source": [
    "str(pca)"
   ]
  },
  {
   "cell_type": "markdown",
   "metadata": {},
   "source": [
    "There is a maximum of 70 principal components, because that is the maximum number of observations in training data."
   ]
  },
  {
   "cell_type": "code",
   "execution_count": 16,
   "metadata": {},
   "outputs": [
    {
     "data": {
      "text/html": [
       "70"
      ],
      "text/latex": [
       "70"
      ],
      "text/markdown": [
       "70"
      ],
      "text/plain": [
       "[1] 70"
      ]
     },
     "metadata": {},
     "output_type": "display_data"
    }
   ],
   "source": [
    "dim(pca_train$x)[1]"
   ]
  },
  {
   "cell_type": "markdown",
   "metadata": {},
   "source": [
    "* #### Importance variables analysis\n"
   ]
  },
  {
   "cell_type": "code",
   "execution_count": 9,
   "metadata": {},
   "outputs": [],
   "source": [
    "perc_variance <- cumsum(pca$sdev^2)/sum(pca$sdev^2)*100"
   ]
  },
  {
   "cell_type": "code",
   "execution_count": 11,
   "metadata": {},
   "outputs": [
    {
     "data": {
      "image/png": "[encoded data removed]",
      "text/plain": [
       "Plot with title \"Percentage of explained accumulated variance vs PCs\""
      ]
     },
     "metadata": {},
     "output_type": "display_data"
    }
   ],
   "source": [
    "plot(perc_variance,main=\"Percentage of explained accumulated variance vs PCs\",xlim=c(1,70),xlab = 'Number of principal components', ylab = 'Percentage of explained accumulated variance')\n",
    "abline(v = which(pca$rotation[1,] == max(pca$rotation[1,])))\n",
    "grid()"
   ]
  },
  {
   "cell_type": "markdown",
   "metadata": {},
   "source": [
    "As it can be apreciated in the plot shown, the principal component to which target variable contribution is the biggest is:"
   ]
  },
  {
   "cell_type": "code",
   "execution_count": 17,
   "metadata": {},
   "outputs": [
    {
     "data": {
      "text/html": [
       "<strong>PC17:</strong> 0.196621984085141"
      ],
      "text/latex": [
       "\\textbf{PC17:} 0.196621984085141"
      ],
      "text/markdown": [
       "**PC17:** 0.196621984085141"
      ],
      "text/plain": [
       "    PC17 \n",
       "0.196622 "
      ]
     },
     "metadata": {},
     "output_type": "display_data"
    }
   ],
   "source": [
    "pca_train$rotation[1,][which(pca_train$rotation[1,] == max(pca_train$rotation[1,]))]"
   ]
  },
  {
   "cell_type": "markdown",
   "metadata": {},
   "source": [
    "With an acumulated proportion of explained variance of:"
   ]
  },
  {
   "cell_type": "code",
   "execution_count": 19,
   "metadata": {},
   "outputs": [
    {
     "data": {
      "text/html": [
       "47.9985616633436"
      ],
      "text/latex": [
       "47.9985616633436"
      ],
      "text/markdown": [
       "47.9985616633436"
      ],
      "text/plain": [
       "[1] 47.99856"
      ]
     },
     "metadata": {},
     "output_type": "display_data"
    }
   ],
   "source": [
    "perc_variance[17]"
   ]
  },
  {
   "cell_type": "markdown",
   "metadata": {},
   "source": [
    "Then, in order to have consistent results, the smallest number of principal components for the analysis will be 17."
   ]
  },
  {
   "cell_type": "markdown",
   "metadata": {},
   "source": [
    "<p style=\"text-align: justify;\">Now, it is shown a plot ot the target variable influence in the set of principal components obtained in train with the objetive of checking if for a certain number of principal component makes or does not make sense to use in the model the target variable.</p>"
   ]
  },
  {
   "cell_type": "code",
   "execution_count": 21,
   "metadata": {},
   "outputs": [
    {
     "data": {
      "image/png": "[encoded data removed]",
      "text/plain": [
       "Plot with title \"Target variable contribution to principal components\""
      ]
     },
     "metadata": {},
     "output_type": "display_data"
    }
   ],
   "source": [
    "plot(pca_train$rotation[1,], main = 'Target variable contribution to principal components', \n",
    "     xlab = 'Principal components obtained in train', xlim = c(1,70),ylab = 'Target variable contribution')"
   ]
  },
  {
   "cell_type": "markdown",
   "metadata": {},
   "source": [
    "The plot shows an uniform distribution of the target variable contribution, so it makes sense to keep the target variable for the model.\n",
    "\n",
    "Now, in order to put in context the target variable contribution, we show down below an histogram of the original variables (included the target variable) contribution to the first principal component."
   ]
  },
  {
   "cell_type": "code",
   "execution_count": 23,
   "metadata": {},
   "outputs": [
    {
     "data": {
      "image/png": "[encoded data removed]",
      "text/plain": [
       "Plot with title \"Original predictors contribution to the first principal component\""
      ]
     },
     "metadata": {},
     "output_type": "display_data"
    }
   ],
   "source": [
    "hist(pca_train$rotation[,1], breaks = 'FD',main = 'Original predictors contribution to the first principal component', \n",
    "     xlab = 'Original predictors contribution', ylab = 'Frequency contribution', col = 'blue', xlim=c(-0.25,0.25))\n",
    "abline(v = max(pca_train$rotation[1,]), col = 'red')"
   ]
  },
  {
   "cell_type": "markdown",
   "metadata": {},
   "source": [
    "The distribution is similar to the normal, with the target variable being one of the most contributing variables, located to the right of the distribution (contribution of 0.19). It seems that with greater frequency the variables of the original space contribute between a -0.1 and 0.1 to the main component."
   ]
  },
  {
   "cell_type": "markdown",
   "metadata": {},
   "source": [
    "The number of main components will be chosen taking into account that up to 95% of the explained variance is to be preserved."
   ]
  },
  {
   "cell_type": "code",
   "execution_count": 24,
   "metadata": {},
   "outputs": [],
   "source": [
    "names(perc_variance) <- 1 : length(perc_variance)"
   ]
  },
  {
   "cell_type": "code",
   "execution_count": 25,
   "metadata": {},
   "outputs": [
    {
     "data": {
      "text/html": [
       "<strong>56:</strong> 95.2842516777532"
      ],
      "text/latex": [
       "\\textbf{56:} 95.2842516777532"
      ],
      "text/markdown": [
       "**56:** 95.2842516777532"
      ],
      "text/plain": [
       "      56 \n",
       "95.28425 "
      ]
     },
     "metadata": {},
     "output_type": "display_data"
    }
   ],
   "source": [
    "perc_variance[which(perc_variance >= 95)][1]"
   ]
  },
  {
   "cell_type": "markdown",
   "metadata": {},
   "source": [
    "We have then that by choosing a total of 56 main components we can reach 95% of the explained variance"
   ]
  },
  {
   "cell_type": "markdown",
   "metadata": {},
   "source": [
    "* #### We train the regression model with the training set and the number of main components indicated"
   ]
  },
  {
   "cell_type": "code",
   "execution_count": 26,
   "metadata": {},
   "outputs": [
    {
     "name": "stderr",
     "output_type": "stream",
     "text": [
      "Warning message:\n",
      "\"package 'pls' was built under R version 3.6.2\"\n",
      "Attaching package: 'pls'\n",
      "\n",
      "The following object is masked from 'package:caret':\n",
      "\n",
      "    R2\n",
      "\n",
      "The following object is masked from 'package:stats':\n",
      "\n",
      "    loadings\n",
      "\n"
     ]
    }
   ],
   "source": [
    "library(pls)"
   ]
  },
  {
   "cell_type": "code",
   "execution_count": 29,
   "metadata": {},
   "outputs": [],
   "source": [
    "pcr_model <- pcr(formula = W1.2MedDifWRelFFM1 ~ ., data = data_genetic_train, scale. = TRUE, ncomp = 56)"
   ]
  },
  {
   "cell_type": "markdown",
   "metadata": {},
   "source": [
    "We project the pcr model in test data:"
   ]
  },
  {
   "cell_type": "code",
   "execution_count": 33,
   "metadata": {},
   "outputs": [],
   "source": [
    "pred_test <- predict(pcr_model, newdata = data_genetic_test, ncomp = 56)\n"
   ]
  },
  {
   "cell_type": "markdown",
   "metadata": {},
   "source": [
    "## Cross-validation<a class=\"anchor\" id=\"7\"></a>"
   ]
  },
  {
   "cell_type": "markdown",
   "metadata": {},
   "source": [
    "* [Returning to the index of contents](#index)"
   ]
  },
  {
   "cell_type": "markdown",
   "metadata": {},
   "source": [
    "We use the MSE error as a validation criterion during cross-validation"
   ]
  },
  {
   "cell_type": "code",
   "execution_count": 34,
   "metadata": {},
   "outputs": [
    {
     "data": {
      "text/html": [
       "29"
      ],
      "text/latex": [
       "29"
      ],
      "text/markdown": [
       "29"
      ],
      "text/plain": [
       "[1] 29"
      ]
     },
     "metadata": {},
     "output_type": "display_data"
    }
   ],
   "source": [
    "set.seed(1)\n",
    "pcr_model <- pcr(formula = W1.2MedDifWRelFFM1 ~ ., data = data_genetic_train, scale. = TRUE,\n",
    "                  validation = \"CV\")\n",
    "pcr_model_CV <- MSEP(pcr_model, estimate = \"CV\")\n",
    "which.min(pcr_model_CV$val)"
   ]
  },
  {
   "cell_type": "code",
   "execution_count": 35,
   "metadata": {},
   "outputs": [
    {
     "data": {
      "image/png": "[encoded data removed]",
      "text/plain": [
       "Plot with title \"MSE vs PCs\""
      ]
     },
     "metadata": {},
     "output_type": "display_data"
    }
   ],
   "source": [
    "plot(pcr_model_CV$val, main = \"MSE vs PCs\", type = \"l\",\n",
    "     ylab = \"MSE\",\n",
    "     col = \"blue\", xlab = \"PCs\")\n"
   ]
  },
  {
   "cell_type": "markdown",
   "metadata": {},
   "source": [
    "As the number of components increases the value of the MSE increases, but we found a minimum for 29 components."
   ]
  },
  {
   "cell_type": "markdown",
   "metadata": {},
   "source": [
    "#### RMSE error in the test prediction after cross-validation<a class=\"anchor\" id=\"8\"></a>"
   ]
  },
  {
   "cell_type": "markdown",
   "metadata": {},
   "source": [
    "* [Returning to the index of contents](#index)"
   ]
  },
  {
   "cell_type": "markdown",
   "metadata": {},
   "source": [
    "Now we convert the MSE error in RMSE error with the aim of having an error in the same units as target variable."
   ]
  },
  {
   "cell_type": "code",
   "execution_count": 36,
   "metadata": {},
   "outputs": [
    {
     "data": {
      "text/html": [
       "0.779857240844142"
      ],
      "text/latex": [
       "0.779857240844142"
      ],
      "text/markdown": [
       "0.779857240844142"
      ],
      "text/plain": [
       "[1] 0.7798572"
      ]
     },
     "metadata": {},
     "output_type": "display_data"
    }
   ],
   "source": [
    "predictions <- predict(pcr_model, newdata = data_genetic_test, ncomp = 29)\n",
    "test_mse <- sqrt(mean((predictions - data_genetic_test$W1.2MedDifWRelFFM1)^2))\n",
    "test_mse"
   ]
  },
  {
   "cell_type": "code",
   "execution_count": 40,
   "metadata": {
    "scrolled": true
   },
   "outputs": [
    {
     "name": "stdout",
     "output_type": "stream",
     "text": [
      "[1] \"Percentage of accumulated explained variance with the number of principal components optimized: 69.25\"\n"
     ]
    }
   ],
   "source": [
    "print(paste('Percentage of accumulated explained variance with the number of principal components optimized:',summary(pca)$importance[3,29]*100))"
   ]
  }
 ],
 "metadata": {
  "kernelspec": {
   "display_name": "R",
   "language": "R",
   "name": "ir"
  },
  "language_info": {
   "codemirror_mode": "r",
   "file_extension": ".r",
   "mimetype": "text/x-r-source",
   "name": "R",
   "pygments_lexer": "r",
   "version": "3.6.1"
  }
 },
 "nbformat": 4,
 "nbformat_minor": 4
}
