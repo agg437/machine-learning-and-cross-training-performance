{
 "cells": [
  {
   "cell_type": "markdown",
   "metadata": {},
   "source": [
    "# <p style=\"text-align: justify;\"><div class=\"alert alert-info\" role=\"alert\">Random Forest</div></p>"
   ]
  },
  {
   "cell_type": "markdown",
   "metadata": {},
   "source": [
    "## `Ana González Guerra` \n",
    "\n",
    "### ` Student of the master in Data Science at the University of Cantabria` "
   ]
  },
  {
   "cell_type": "markdown",
   "metadata": {},
   "source": [
    "## Index<a class=\"anchor\" id=\"index\"></a>\n",
    "* [Loading data](#1)\n",
    "    * [Genetic predictors](#5)\n",
    "    * [Target variables](#6)\n",
    "        * [Maximum power relative to FFM1 in Wingate 1(W1MaxWRelFFM1)](#7)\n",
    "        * [Mean power relative to FFM1 in Wingate 1 (W1MedWRelFFM1)](#8)\n",
    "        * [Fatigue rate relative to FFM1 in Wingate 1 (W1DifWRelFFM1)](#9)\n",
    "        * [Maximum power relative to FFM1 in Wingate 2(W2MaxWRelFFM1)](#10)\n",
    "        * [Mean power relative to FFM1 in Wingate 2 (W2MedWRelFFM1)](#11)\n",
    "        * [Fatigue rate relative to FFM1 in Wingate 2 (W2DifWRelFFM1)](#12)\n",
    "        * [Maximum fatigue rate between Wingates relative to FFM1 (W1-W2MaxDifWRelFFM1)](#13)\n",
    "        * [Mean fatigue rate between Wingates relative to FFM1 (W1-W2MedDifWRelFFM1)](#14)\n",
    "        \n",
    "* [Train/test partition](#2)\n",
    "* [Random Forest application](#3)\n",
    "    * [Cross-validation application and creation of Random Forest's binary classifier](#15)\n",
    "        * [Maximum power relative to FFM1 in Wingate 1(W1MaxWRelFFM1)](#16)\n",
    "        * [Mean power relative to FFM1 in Wingate 1 (W1MedWRelFFM1)](#17)\n",
    "        * [Fatigue rate relative to FFM1 in Wingate 1 (W1DifWRelFFM1)](#18)\n",
    "        * [Maximum power relative to FFM1 in Wingate 2(W2MaxWRelFFM1)](#19)\n",
    "        * [Mean power relative to FFM1 in Wingate 2 (W2MedWRelFFM1)](#20)\n",
    "        * [Fatigue rate relative to FFM1 in Wingate 2 (W2DifWRelFFM1)](#21)\n",
    "        * [Maximum fatigue rate between Wingates relative to FFM1 (W1-W2MaxDifWRelFFM1)](#22)\n",
    "        * [Mean fatigue rate between Wingates relative to FFM1 (W1-W2MedDifWRelFFM1)](#23)\n",
    "* [Comparative](#4)\n",
    "* [Best model](#24)\n"
   ]
  },
  {
   "cell_type": "markdown",
   "metadata": {},
   "source": [
    "In this file we are going to apply Random Forest taking into account as target variables the power variables related to the FFM1 predictor."
   ]
  },
  {
   "cell_type": "markdown",
   "metadata": {},
   "source": [
    "## Loading data <a class=\"anchor\" id=\"1\"></a>"
   ]
  },
  {
   "cell_type": "markdown",
   "metadata": {},
   "source": [
    "* [Returning to the index of contents](#index)"
   ]
  },
  {
   "cell_type": "markdown",
   "metadata": {},
   "source": [
    "### Genetic predictors <a class=\"anchor\" id=\"5\"></a>"
   ]
  },
  {
   "cell_type": "markdown",
   "metadata": {},
   "source": [
    "* [Returning to the index of contents](#index)"
   ]
  },
  {
   "cell_type": "code",
   "execution_count": 1,
   "metadata": {},
   "outputs": [],
   "source": [
    "handle_genetic <- read.csv('handle_genetic_fusion_28_04_20.csv')"
   ]
  },
  {
   "cell_type": "code",
   "execution_count": 2,
   "metadata": {
    "scrolled": true
   },
   "outputs": [
    {
     "data": {
      "text/html": [
       "<table>\n",
       "<thead><tr><th scope=col>rs10034661</th><th scope=col>rs10063949</th><th scope=col>rs1024610</th><th scope=col>rs1024611</th><th scope=col>rs1042713</th><th scope=col>rs1045485</th><th scope=col>rs10491003</th><th scope=col>rs1049305</th><th scope=col>rs1049434</th><th scope=col>rs10497520</th><th scope=col>...</th><th scope=col>rs8111989</th><th scope=col>rs8192678</th><th scope=col>rs824205</th><th scope=col>rs833070</th><th scope=col>rs884736</th><th scope=col>rs921943</th><th scope=col>rs9469199</th><th scope=col>rs970547</th><th scope=col>rs9902453</th><th scope=col>rs9939609</th></tr></thead>\n",
       "<tbody>\n",
       "\t<tr><td>G:G</td><td>C:T</td><td>A:T</td><td>T:T</td><td>A:A</td><td>C:G</td><td>G:G</td><td>C:G</td><td>A:T</td><td>C:T</td><td>...</td><td>C:T</td><td>A:G</td><td>G:G</td><td>A:G</td><td>C:T</td><td>A:G</td><td>A:G</td><td>A:A</td><td>A:G</td><td>A:A</td></tr>\n",
       "\t<tr><td>G:G</td><td>C:T</td><td>A:T</td><td>C:T</td><td>A:G</td><td>G:G</td><td>G:G</td><td>G:G</td><td>A:A</td><td>C:C</td><td>...</td><td>C:T</td><td>A:G</td><td>A:G</td><td>A:G</td><td>C:T</td><td>A:G</td><td>G:G</td><td>A:G</td><td>A:G</td><td>T:T</td></tr>\n",
       "\t<tr><td>G:G</td><td>T:T</td><td>A:T</td><td>T:T</td><td>A:G</td><td>G:G</td><td>G:G</td><td>C:G</td><td>A:A</td><td>C:C</td><td>...</td><td>C:T</td><td>A:G</td><td>G:G</td><td>A:G</td><td>C:T</td><td>A:A</td><td>G:G</td><td>A:G</td><td>A:G</td><td>A:A</td></tr>\n",
       "\t<tr><td>G:G</td><td>T:T</td><td>T:T</td><td>C:T</td><td>A:G</td><td>G:G</td><td>G:G</td><td>C:C</td><td>A:T</td><td>C:C</td><td>...</td><td>C:T</td><td>A:G</td><td>G:G</td><td>A:G</td><td>C:T</td><td>A:G</td><td>G:G</td><td>A:A</td><td>A:A</td><td>A:A</td></tr>\n",
       "\t<tr><td>G:G</td><td>C:T</td><td>T:T</td><td>C:T</td><td>G:G</td><td>C:C</td><td>G:G</td><td>C:G</td><td>T:T</td><td>C:C</td><td>...</td><td>C:T</td><td>A:G</td><td>G:G</td><td>G:G</td><td>T:T</td><td>G:G</td><td>G:G</td><td>A:A</td><td>A:G</td><td>A:T</td></tr>\n",
       "\t<tr><td>G:G</td><td>C:T</td><td>T:T</td><td>C:T</td><td>A:G</td><td>G:G</td><td>G:G</td><td>C:G</td><td>A:T</td><td>C:C</td><td>...</td><td>C:T</td><td>A:G</td><td>G:G</td><td>G:G</td><td>C:T</td><td>A:G</td><td>G:G</td><td>A:G</td><td>G:G</td><td>T:T</td></tr>\n",
       "</tbody>\n",
       "</table>\n"
      ],
      "text/latex": [
       "\\begin{tabular}{r|llllllllllllllllllllllllllllllllllllllllllllllllllllllllllllllllllllllllllllllllllllllllllllllllllllllllllllllllllllllllllllllllllllllllllllllllllllllllllllllllllllllllllllllllll}\n",
       " rs10034661 & rs10063949 & rs1024610 & rs1024611 & rs1042713 & rs1045485 & rs10491003 & rs1049305 & rs1049434 & rs10497520 & ... & rs8111989 & rs8192678 & rs824205 & rs833070 & rs884736 & rs921943 & rs9469199 & rs970547 & rs9902453 & rs9939609\\\\\n",
       "\\hline\n",
       "\t G:G & C:T & A:T & T:T & A:A & C:G & G:G & C:G & A:T & C:T & ... & C:T & A:G & G:G & A:G & C:T & A:G & A:G & A:A & A:G & A:A\\\\\n",
       "\t G:G & C:T & A:T & C:T & A:G & G:G & G:G & G:G & A:A & C:C & ... & C:T & A:G & A:G & A:G & C:T & A:G & G:G & A:G & A:G & T:T\\\\\n",
       "\t G:G & T:T & A:T & T:T & A:G & G:G & G:G & C:G & A:A & C:C & ... & C:T & A:G & G:G & A:G & C:T & A:A & G:G & A:G & A:G & A:A\\\\\n",
       "\t G:G & T:T & T:T & C:T & A:G & G:G & G:G & C:C & A:T & C:C & ... & C:T & A:G & G:G & A:G & C:T & A:G & G:G & A:A & A:A & A:A\\\\\n",
       "\t G:G & C:T & T:T & C:T & G:G & C:C & G:G & C:G & T:T & C:C & ... & C:T & A:G & G:G & G:G & T:T & G:G & G:G & A:A & A:G & A:T\\\\\n",
       "\t G:G & C:T & T:T & C:T & A:G & G:G & G:G & C:G & A:T & C:C & ... & C:T & A:G & G:G & G:G & C:T & A:G & G:G & A:G & G:G & T:T\\\\\n",
       "\\end{tabular}\n"
      ],
      "text/markdown": [
       "\n",
       "| rs10034661 | rs10063949 | rs1024610 | rs1024611 | rs1042713 | rs1045485 | rs10491003 | rs1049305 | rs1049434 | rs10497520 | ... | rs8111989 | rs8192678 | rs824205 | rs833070 | rs884736 | rs921943 | rs9469199 | rs970547 | rs9902453 | rs9939609 |\n",
       "|---|---|---|---|---|---|---|---|---|---|---|---|---|---|---|---|---|---|---|---|---|\n",
       "| G:G | C:T | A:T | T:T | A:A | C:G | G:G | C:G | A:T | C:T | ... | C:T | A:G | G:G | A:G | C:T | A:G | A:G | A:A | A:G | A:A |\n",
       "| G:G | C:T | A:T | C:T | A:G | G:G | G:G | G:G | A:A | C:C | ... | C:T | A:G | A:G | A:G | C:T | A:G | G:G | A:G | A:G | T:T |\n",
       "| G:G | T:T | A:T | T:T | A:G | G:G | G:G | C:G | A:A | C:C | ... | C:T | A:G | G:G | A:G | C:T | A:A | G:G | A:G | A:G | A:A |\n",
       "| G:G | T:T | T:T | C:T | A:G | G:G | G:G | C:C | A:T | C:C | ... | C:T | A:G | G:G | A:G | C:T | A:G | G:G | A:A | A:A | A:A |\n",
       "| G:G | C:T | T:T | C:T | G:G | C:C | G:G | C:G | T:T | C:C | ... | C:T | A:G | G:G | G:G | T:T | G:G | G:G | A:A | A:G | A:T |\n",
       "| G:G | C:T | T:T | C:T | A:G | G:G | G:G | C:G | A:T | C:C | ... | C:T | A:G | G:G | G:G | C:T | A:G | G:G | A:G | G:G | T:T |\n",
       "\n"
      ],
      "text/plain": [
       "  rs10034661 rs10063949 rs1024610 rs1024611 rs1042713 rs1045485 rs10491003\n",
       "1 G:G        C:T        A:T       T:T       A:A       C:G       G:G       \n",
       "2 G:G        C:T        A:T       C:T       A:G       G:G       G:G       \n",
       "3 G:G        T:T        A:T       T:T       A:G       G:G       G:G       \n",
       "4 G:G        T:T        T:T       C:T       A:G       G:G       G:G       \n",
       "5 G:G        C:T        T:T       C:T       G:G       C:C       G:G       \n",
       "6 G:G        C:T        T:T       C:T       A:G       G:G       G:G       \n",
       "  rs1049305 rs1049434 rs10497520 ... rs8111989 rs8192678 rs824205 rs833070\n",
       "1 C:G       A:T       C:T        ... C:T       A:G       G:G      A:G     \n",
       "2 G:G       A:A       C:C        ... C:T       A:G       A:G      A:G     \n",
       "3 C:G       A:A       C:C        ... C:T       A:G       G:G      A:G     \n",
       "4 C:C       A:T       C:C        ... C:T       A:G       G:G      A:G     \n",
       "5 C:G       T:T       C:C        ... C:T       A:G       G:G      G:G     \n",
       "6 C:G       A:T       C:C        ... C:T       A:G       G:G      G:G     \n",
       "  rs884736 rs921943 rs9469199 rs970547 rs9902453 rs9939609\n",
       "1 C:T      A:G      A:G       A:A      A:G       A:A      \n",
       "2 C:T      A:G      G:G       A:G      A:G       T:T      \n",
       "3 C:T      A:A      G:G       A:G      A:G       A:A      \n",
       "4 C:T      A:G      G:G       A:A      A:A       A:A      \n",
       "5 T:T      G:G      G:G       A:A      A:G       A:T      \n",
       "6 C:T      A:G      G:G       A:G      G:G       T:T      "
      ]
     },
     "metadata": {},
     "output_type": "display_data"
    }
   ],
   "source": [
    "head(handle_genetic)"
   ]
  },
  {
   "cell_type": "markdown",
   "metadata": {},
   "source": [
    "### Target variables <a class=\"anchor\" id=\"6\"></a>"
   ]
  },
  {
   "cell_type": "markdown",
   "metadata": {},
   "source": [
    "* [Returning to the index of contents](#index)"
   ]
  },
  {
   "cell_type": "code",
   "execution_count": 3,
   "metadata": {},
   "outputs": [],
   "source": [
    "handle_target <- read.csv('handle_target_fusion_31_03_20.csv', row.name = 1)"
   ]
  },
  {
   "cell_type": "code",
   "execution_count": 4,
   "metadata": {
    "scrolled": true
   },
   "outputs": [
    {
     "data": {
      "text/html": [
       "<table>\n",
       "<thead><tr><th></th><th scope=col>W1MaxWAbs</th><th scope=col>W1MaxWRel</th><th scope=col>W1maxRPM</th><th scope=col>W1MedWAbs</th><th scope=col>W1MedWRel</th><th scope=col>W1medRPM</th><th scope=col>W2MaxWAbs</th><th scope=col>W2MaxWRel</th><th scope=col>W2maxRPM</th><th scope=col>W2MedWAbs</th><th scope=col>...</th><th scope=col>W2DifWRelFFM1</th><th scope=col>W2DifWRelFFM2</th><th scope=col>W1.2MaxDifWAbs</th><th scope=col>W1.2MaxDifWRel</th><th scope=col>W1.2MaxDifWRelFFM1</th><th scope=col>W1.2MaxDifWRelFFM2</th><th scope=col>W1.2MedDifWAbs</th><th scope=col>W1.2MedDifWRel</th><th scope=col>W1.2MedDifWRelFFM1</th><th scope=col>W1.2MedDifWRelFFM2</th></tr></thead>\n",
       "<tbody>\n",
       "\t<tr><th scope=row>0</th><td>398        </td><td> 8.747253  </td><td>122        </td><td>206        </td><td>4.527473   </td><td>100        </td><td>397        </td><td>8.725275   </td><td>122        </td><td>224        </td><td>...        </td><td> 4.479981  </td><td> 4.544592  </td><td>  1        </td><td> 0.02197802</td><td> 0.02589585</td><td> 0.02626932</td><td>-18        </td><td>-0.39560440</td><td>-0.46612522</td><td>-0.47284774</td></tr>\n",
       "\t<tr><th scope=row>4</th><td>511        </td><td> 8.964912  </td><td>128        </td><td>294        </td><td>5.157895   </td><td>109        </td><td>523        </td><td>9.175439   </td><td>122        </td><td>295        </td><td>...        </td><td> 4.552187  </td><td> 4.889881  </td><td>-12        </td><td>-0.21052632</td><td>-0.23958880</td><td>-0.25736216</td><td> -1        </td><td>-0.01754386</td><td>-0.01996573</td><td>-0.02144685</td></tr>\n",
       "\t<tr><th scope=row>7</th><td>524        </td><td>10.174757  </td><td>130        </td><td>262        </td><td>5.087379   </td><td>107        </td><td>476        </td><td>9.242718   </td><td>125        </td><td>245        </td><td>...        </td><td> 4.958966  </td><td> 5.566747  </td><td> 48        </td><td> 0.93203883</td><td> 1.03043453</td><td> 1.15672661</td><td> 17        </td><td> 0.33009709</td><td> 0.36494556</td><td> 0.40967401</td></tr>\n",
       "\t<tr><th scope=row>8</th><td>541        </td><td> 8.868852  </td><td>128        </td><td>351        </td><td>5.754098   </td><td>118        </td><td>472        </td><td>7.737705   </td><td>130        </td><td>333        </td><td>...        </td><td> 2.792441  </td><td> 3.020719  </td><td> 69        </td><td> 1.13114754</td><td> 1.38617564</td><td> 1.49949379</td><td> 18        </td><td> 0.29508197</td><td> 0.36161104</td><td> 0.39117229</td></tr>\n",
       "\t<tr><th scope=row>9</th><td>547        </td><td> 9.596491  </td><td>143        </td><td>291        </td><td>5.105263   </td><td>116        </td><td>169        </td><td>2.964912   </td><td>130        </td><td>302        </td><td>...        </td><td>-3.215855  </td><td>-3.248973  </td><td>378        </td><td> 6.63157895</td><td> 9.13979775</td><td> 9.23392354</td><td>-11        </td><td>-0.19298246</td><td>-0.26597295</td><td>-0.26871206</td></tr>\n",
       "\t<tr><th scope=row>11</th><td>553        </td><td> 9.701754  </td><td>133        </td><td>365        </td><td>6.403509   </td><td>121        </td><td>556        </td><td>9.754386   </td><td>136        </td><td>355        </td><td>...        </td><td> 4.113095  </td><td> 4.408965  </td><td> -3        </td><td>-0.05263158</td><td>-0.06138948</td><td>-0.06580544</td><td> 10        </td><td> 0.17543860</td><td> 0.20463161</td><td> 0.21935148</td></tr>\n",
       "</tbody>\n",
       "</table>\n"
      ],
      "text/latex": [
       "\\begin{tabular}{r|llllllllllllllllllllllllllllllllllll}\n",
       "  & W1MaxWAbs & W1MaxWRel & W1maxRPM & W1MedWAbs & W1MedWRel & W1medRPM & W2MaxWAbs & W2MaxWRel & W2maxRPM & W2MedWAbs & ... & W2DifWRelFFM1 & W2DifWRelFFM2 & W1.2MaxDifWAbs & W1.2MaxDifWRel & W1.2MaxDifWRelFFM1 & W1.2MaxDifWRelFFM2 & W1.2MedDifWAbs & W1.2MedDifWRel & W1.2MedDifWRelFFM1 & W1.2MedDifWRelFFM2\\\\\n",
       "\\hline\n",
       "\t0 & 398         &  8.747253   & 122         & 206         & 4.527473    & 100         & 397         & 8.725275    & 122         & 224         & ...         &  4.479981   &  4.544592   &   1         &  0.02197802 &  0.02589585 &  0.02626932 & -18         & -0.39560440 & -0.46612522 & -0.47284774\\\\\n",
       "\t4 & 511         &  8.964912   & 128         & 294         & 5.157895    & 109         & 523         & 9.175439    & 122         & 295         & ...         &  4.552187   &  4.889881   & -12         & -0.21052632 & -0.23958880 & -0.25736216 &  -1         & -0.01754386 & -0.01996573 & -0.02144685\\\\\n",
       "\t7 & 524         & 10.174757   & 130         & 262         & 5.087379    & 107         & 476         & 9.242718    & 125         & 245         & ...         &  4.958966   &  5.566747   &  48         &  0.93203883 &  1.03043453 &  1.15672661 &  17         &  0.33009709 &  0.36494556 &  0.40967401\\\\\n",
       "\t8 & 541         &  8.868852   & 128         & 351         & 5.754098    & 118         & 472         & 7.737705    & 130         & 333         & ...         &  2.792441   &  3.020719   &  69         &  1.13114754 &  1.38617564 &  1.49949379 &  18         &  0.29508197 &  0.36161104 &  0.39117229\\\\\n",
       "\t9 & 547         &  9.596491   & 143         & 291         & 5.105263    & 116         & 169         & 2.964912    & 130         & 302         & ...         & -3.215855   & -3.248973   & 378         &  6.63157895 &  9.13979775 &  9.23392354 & -11         & -0.19298246 & -0.26597295 & -0.26871206\\\\\n",
       "\t11 & 553         &  9.701754   & 133         & 365         & 6.403509    & 121         & 556         & 9.754386    & 136         & 355         & ...         &  4.113095   &  4.408965   &  -3         & -0.05263158 & -0.06138948 & -0.06580544 &  10         &  0.17543860 &  0.20463161 &  0.21935148\\\\\n",
       "\\end{tabular}\n"
      ],
      "text/markdown": [
       "\n",
       "| <!--/--> | W1MaxWAbs | W1MaxWRel | W1maxRPM | W1MedWAbs | W1MedWRel | W1medRPM | W2MaxWAbs | W2MaxWRel | W2maxRPM | W2MedWAbs | ... | W2DifWRelFFM1 | W2DifWRelFFM2 | W1.2MaxDifWAbs | W1.2MaxDifWRel | W1.2MaxDifWRelFFM1 | W1.2MaxDifWRelFFM2 | W1.2MedDifWAbs | W1.2MedDifWRel | W1.2MedDifWRelFFM1 | W1.2MedDifWRelFFM2 |\n",
       "|---|---|---|---|---|---|---|---|---|---|---|---|---|---|---|---|---|---|---|---|---|---|\n",
       "| 0 | 398         |  8.747253   | 122         | 206         | 4.527473    | 100         | 397         | 8.725275    | 122         | 224         | ...         |  4.479981   |  4.544592   |   1         |  0.02197802 |  0.02589585 |  0.02626932 | -18         | -0.39560440 | -0.46612522 | -0.47284774 |\n",
       "| 4 | 511         |  8.964912   | 128         | 294         | 5.157895    | 109         | 523         | 9.175439    | 122         | 295         | ...         |  4.552187   |  4.889881   | -12         | -0.21052632 | -0.23958880 | -0.25736216 |  -1         | -0.01754386 | -0.01996573 | -0.02144685 |\n",
       "| 7 | 524         | 10.174757   | 130         | 262         | 5.087379    | 107         | 476         | 9.242718    | 125         | 245         | ...         |  4.958966   |  5.566747   |  48         |  0.93203883 |  1.03043453 |  1.15672661 |  17         |  0.33009709 |  0.36494556 |  0.40967401 |\n",
       "| 8 | 541         |  8.868852   | 128         | 351         | 5.754098    | 118         | 472         | 7.737705    | 130         | 333         | ...         |  2.792441   |  3.020719   |  69         |  1.13114754 |  1.38617564 |  1.49949379 |  18         |  0.29508197 |  0.36161104 |  0.39117229 |\n",
       "| 9 | 547         |  9.596491   | 143         | 291         | 5.105263    | 116         | 169         | 2.964912    | 130         | 302         | ...         | -3.215855   | -3.248973   | 378         |  6.63157895 |  9.13979775 |  9.23392354 | -11         | -0.19298246 | -0.26597295 | -0.26871206 |\n",
       "| 11 | 553         |  9.701754   | 133         | 365         | 6.403509    | 121         | 556         | 9.754386    | 136         | 355         | ...         |  4.113095   |  4.408965   |  -3         | -0.05263158 | -0.06138948 | -0.06580544 |  10         |  0.17543860 |  0.20463161 |  0.21935148 |\n",
       "\n"
      ],
      "text/plain": [
       "   W1MaxWAbs W1MaxWRel W1maxRPM W1MedWAbs W1MedWRel W1medRPM W2MaxWAbs\n",
       "0  398        8.747253 122      206       4.527473  100      397      \n",
       "4  511        8.964912 128      294       5.157895  109      523      \n",
       "7  524       10.174757 130      262       5.087379  107      476      \n",
       "8  541        8.868852 128      351       5.754098  118      472      \n",
       "9  547        9.596491 143      291       5.105263  116      169      \n",
       "11 553        9.701754 133      365       6.403509  121      556      \n",
       "   W2MaxWRel W2maxRPM W2MedWAbs ... W2DifWRelFFM1 W2DifWRelFFM2 W1.2MaxDifWAbs\n",
       "0  8.725275  122      224       ...  4.479981      4.544592       1           \n",
       "4  9.175439  122      295       ...  4.552187      4.889881     -12           \n",
       "7  9.242718  125      245       ...  4.958966      5.566747      48           \n",
       "8  7.737705  130      333       ...  2.792441      3.020719      69           \n",
       "9  2.964912  130      302       ... -3.215855     -3.248973     378           \n",
       "11 9.754386  136      355       ...  4.113095      4.408965      -3           \n",
       "   W1.2MaxDifWRel W1.2MaxDifWRelFFM1 W1.2MaxDifWRelFFM2 W1.2MedDifWAbs\n",
       "0   0.02197802     0.02589585         0.02626932        -18           \n",
       "4  -0.21052632    -0.23958880        -0.25736216         -1           \n",
       "7   0.93203883     1.03043453         1.15672661         17           \n",
       "8   1.13114754     1.38617564         1.49949379         18           \n",
       "9   6.63157895     9.13979775         9.23392354        -11           \n",
       "11 -0.05263158    -0.06138948        -0.06580544         10           \n",
       "   W1.2MedDifWRel W1.2MedDifWRelFFM1 W1.2MedDifWRelFFM2\n",
       "0  -0.39560440    -0.46612522        -0.47284774       \n",
       "4  -0.01754386    -0.01996573        -0.02144685       \n",
       "7   0.33009709     0.36494556         0.40967401       \n",
       "8   0.29508197     0.36161104         0.39117229       \n",
       "9  -0.19298246    -0.26597295        -0.26871206       \n",
       "11  0.17543860     0.20463161         0.21935148       "
      ]
     },
     "metadata": {},
     "output_type": "display_data"
    }
   ],
   "source": [
    "head(handle_target)"
   ]
  },
  {
   "cell_type": "code",
   "execution_count": 5,
   "metadata": {},
   "outputs": [
    {
     "data": {
      "text/html": [
       "<ol class=list-inline>\n",
       "\t<li>'W1MaxWAbs'</li>\n",
       "\t<li>'W1MaxWRel'</li>\n",
       "\t<li>'W1maxRPM'</li>\n",
       "\t<li>'W1MedWAbs'</li>\n",
       "\t<li>'W1MedWRel'</li>\n",
       "\t<li>'W1medRPM'</li>\n",
       "\t<li>'W2MaxWAbs'</li>\n",
       "\t<li>'W2MaxWRel'</li>\n",
       "\t<li>'W2maxRPM'</li>\n",
       "\t<li>'W2MedWAbs'</li>\n",
       "\t<li>'W2MedWRel'</li>\n",
       "\t<li>'W2medRPM'</li>\n",
       "\t<li>'W1MaxWRelFFM1'</li>\n",
       "\t<li>'W1MaxWRelFFM2'</li>\n",
       "\t<li>'W1MedWRelFFM1'</li>\n",
       "\t<li>'W1MedWRelFFM2'</li>\n",
       "\t<li>'W1DifWAbs'</li>\n",
       "\t<li>'W1DifWRel'</li>\n",
       "\t<li>'W1DifWRelFFM1'</li>\n",
       "\t<li>'W1DifWRelFFM2'</li>\n",
       "\t<li>'W2MaxWRelFFM1'</li>\n",
       "\t<li>'W2MaxWRelFFM2'</li>\n",
       "\t<li>'W2MedWRelFFM1'</li>\n",
       "\t<li>'W2MedWRelFFM2'</li>\n",
       "\t<li>'W2DifWAbs'</li>\n",
       "\t<li>'W2DifWRel'</li>\n",
       "\t<li>'W2DifWRelFFM1'</li>\n",
       "\t<li>'W2DifWRelFFM2'</li>\n",
       "\t<li>'W1.2MaxDifWAbs'</li>\n",
       "\t<li>'W1.2MaxDifWRel'</li>\n",
       "\t<li>'W1.2MaxDifWRelFFM1'</li>\n",
       "\t<li>'W1.2MaxDifWRelFFM2'</li>\n",
       "\t<li>'W1.2MedDifWAbs'</li>\n",
       "\t<li>'W1.2MedDifWRel'</li>\n",
       "\t<li>'W1.2MedDifWRelFFM1'</li>\n",
       "\t<li>'W1.2MedDifWRelFFM2'</li>\n",
       "</ol>\n"
      ],
      "text/latex": [
       "\\begin{enumerate*}\n",
       "\\item 'W1MaxWAbs'\n",
       "\\item 'W1MaxWRel'\n",
       "\\item 'W1maxRPM'\n",
       "\\item 'W1MedWAbs'\n",
       "\\item 'W1MedWRel'\n",
       "\\item 'W1medRPM'\n",
       "\\item 'W2MaxWAbs'\n",
       "\\item 'W2MaxWRel'\n",
       "\\item 'W2maxRPM'\n",
       "\\item 'W2MedWAbs'\n",
       "\\item 'W2MedWRel'\n",
       "\\item 'W2medRPM'\n",
       "\\item 'W1MaxWRelFFM1'\n",
       "\\item 'W1MaxWRelFFM2'\n",
       "\\item 'W1MedWRelFFM1'\n",
       "\\item 'W1MedWRelFFM2'\n",
       "\\item 'W1DifWAbs'\n",
       "\\item 'W1DifWRel'\n",
       "\\item 'W1DifWRelFFM1'\n",
       "\\item 'W1DifWRelFFM2'\n",
       "\\item 'W2MaxWRelFFM1'\n",
       "\\item 'W2MaxWRelFFM2'\n",
       "\\item 'W2MedWRelFFM1'\n",
       "\\item 'W2MedWRelFFM2'\n",
       "\\item 'W2DifWAbs'\n",
       "\\item 'W2DifWRel'\n",
       "\\item 'W2DifWRelFFM1'\n",
       "\\item 'W2DifWRelFFM2'\n",
       "\\item 'W1.2MaxDifWAbs'\n",
       "\\item 'W1.2MaxDifWRel'\n",
       "\\item 'W1.2MaxDifWRelFFM1'\n",
       "\\item 'W1.2MaxDifWRelFFM2'\n",
       "\\item 'W1.2MedDifWAbs'\n",
       "\\item 'W1.2MedDifWRel'\n",
       "\\item 'W1.2MedDifWRelFFM1'\n",
       "\\item 'W1.2MedDifWRelFFM2'\n",
       "\\end{enumerate*}\n"
      ],
      "text/markdown": [
       "1. 'W1MaxWAbs'\n",
       "2. 'W1MaxWRel'\n",
       "3. 'W1maxRPM'\n",
       "4. 'W1MedWAbs'\n",
       "5. 'W1MedWRel'\n",
       "6. 'W1medRPM'\n",
       "7. 'W2MaxWAbs'\n",
       "8. 'W2MaxWRel'\n",
       "9. 'W2maxRPM'\n",
       "10. 'W2MedWAbs'\n",
       "11. 'W2MedWRel'\n",
       "12. 'W2medRPM'\n",
       "13. 'W1MaxWRelFFM1'\n",
       "14. 'W1MaxWRelFFM2'\n",
       "15. 'W1MedWRelFFM1'\n",
       "16. 'W1MedWRelFFM2'\n",
       "17. 'W1DifWAbs'\n",
       "18. 'W1DifWRel'\n",
       "19. 'W1DifWRelFFM1'\n",
       "20. 'W1DifWRelFFM2'\n",
       "21. 'W2MaxWRelFFM1'\n",
       "22. 'W2MaxWRelFFM2'\n",
       "23. 'W2MedWRelFFM1'\n",
       "24. 'W2MedWRelFFM2'\n",
       "25. 'W2DifWAbs'\n",
       "26. 'W2DifWRel'\n",
       "27. 'W2DifWRelFFM1'\n",
       "28. 'W2DifWRelFFM2'\n",
       "29. 'W1.2MaxDifWAbs'\n",
       "30. 'W1.2MaxDifWRel'\n",
       "31. 'W1.2MaxDifWRelFFM1'\n",
       "32. 'W1.2MaxDifWRelFFM2'\n",
       "33. 'W1.2MedDifWAbs'\n",
       "34. 'W1.2MedDifWRel'\n",
       "35. 'W1.2MedDifWRelFFM1'\n",
       "36. 'W1.2MedDifWRelFFM2'\n",
       "\n",
       "\n"
      ],
      "text/plain": [
       " [1] \"W1MaxWAbs\"          \"W1MaxWRel\"          \"W1maxRPM\"          \n",
       " [4] \"W1MedWAbs\"          \"W1MedWRel\"          \"W1medRPM\"          \n",
       " [7] \"W2MaxWAbs\"          \"W2MaxWRel\"          \"W2maxRPM\"          \n",
       "[10] \"W2MedWAbs\"          \"W2MedWRel\"          \"W2medRPM\"          \n",
       "[13] \"W1MaxWRelFFM1\"      \"W1MaxWRelFFM2\"      \"W1MedWRelFFM1\"     \n",
       "[16] \"W1MedWRelFFM2\"      \"W1DifWAbs\"          \"W1DifWRel\"         \n",
       "[19] \"W1DifWRelFFM1\"      \"W1DifWRelFFM2\"      \"W2MaxWRelFFM1\"     \n",
       "[22] \"W2MaxWRelFFM2\"      \"W2MedWRelFFM1\"      \"W2MedWRelFFM2\"     \n",
       "[25] \"W2DifWAbs\"          \"W2DifWRel\"          \"W2DifWRelFFM1\"     \n",
       "[28] \"W2DifWRelFFM2\"      \"W1.2MaxDifWAbs\"     \"W1.2MaxDifWRel\"    \n",
       "[31] \"W1.2MaxDifWRelFFM1\" \"W1.2MaxDifWRelFFM2\" \"W1.2MedDifWAbs\"    \n",
       "[34] \"W1.2MedDifWRel\"     \"W1.2MedDifWRelFFM1\" \"W1.2MedDifWRelFFM2\""
      ]
     },
     "metadata": {},
     "output_type": "display_data"
    }
   ],
   "source": [
    "names(handle_target)"
   ]
  },
  {
   "cell_type": "markdown",
   "metadata": {},
   "source": [
    "#### Maximum power relative to FFM1 in Wingate 1(W1MaxWRelFFM1)<a class=\"anchor\" id=\"7\"></a>"
   ]
  },
  {
   "cell_type": "markdown",
   "metadata": {},
   "source": [
    "* [Returning to the index of contents](#index)"
   ]
  },
  {
   "cell_type": "code",
   "execution_count": 6,
   "metadata": {},
   "outputs": [],
   "source": [
    "w1_max <- cbind(handle_target['W1MaxWRelFFM1'],handle_genetic)"
   ]
  },
  {
   "cell_type": "code",
   "execution_count": 7,
   "metadata": {
    "scrolled": false
   },
   "outputs": [
    {
     "data": {
      "text/html": [
       "<table>\n",
       "<thead><tr><th></th><th scope=col>W1MaxWRelFFM1</th><th scope=col>rs10034661</th><th scope=col>rs10063949</th><th scope=col>rs1024610</th><th scope=col>rs1024611</th><th scope=col>rs1042713</th><th scope=col>rs1045485</th><th scope=col>rs10491003</th><th scope=col>rs1049305</th><th scope=col>rs1049434</th><th scope=col>...</th><th scope=col>rs8111989</th><th scope=col>rs8192678</th><th scope=col>rs824205</th><th scope=col>rs833070</th><th scope=col>rs884736</th><th scope=col>rs921943</th><th scope=col>rs9469199</th><th scope=col>rs970547</th><th scope=col>rs9902453</th><th scope=col>rs9939609</th></tr></thead>\n",
       "<tbody>\n",
       "\t<tr><th scope=row>0</th><td>10.30655</td><td>G:G     </td><td>C:T     </td><td>A:T     </td><td>T:T     </td><td>A:A     </td><td>C:G     </td><td>G:G     </td><td>C:G     </td><td>A:T     </td><td>...     </td><td>C:T     </td><td>A:G     </td><td>G:G     </td><td>A:G     </td><td>C:T     </td><td>A:G     </td><td>A:G     </td><td>A:A     </td><td>A:G     </td><td>A:A     </td></tr>\n",
       "\t<tr><th scope=row>4</th><td>10.20249</td><td>G:G     </td><td>C:T     </td><td>A:T     </td><td>C:T     </td><td>A:G     </td><td>G:G     </td><td>G:G     </td><td>G:G     </td><td>A:A     </td><td>...     </td><td>C:T     </td><td>A:G     </td><td>A:G     </td><td>A:G     </td><td>C:T     </td><td>A:G     </td><td>G:G     </td><td>A:G     </td><td>A:G     </td><td>T:T     </td></tr>\n",
       "\t<tr><th scope=row>7</th><td>11.24891</td><td>G:G     </td><td>T:T     </td><td>A:T     </td><td>T:T     </td><td>A:G     </td><td>G:G     </td><td>G:G     </td><td>C:G     </td><td>A:A     </td><td>...     </td><td>C:T     </td><td>A:G     </td><td>G:G     </td><td>A:G     </td><td>C:T     </td><td>A:A     </td><td>G:G     </td><td>A:G     </td><td>A:G     </td><td>A:A     </td></tr>\n",
       "\t<tr><th scope=row>8</th><td>10.86842</td><td>G:G     </td><td>T:T     </td><td>T:T     </td><td>C:T     </td><td>A:G     </td><td>G:G     </td><td>G:G     </td><td>C:C     </td><td>A:T     </td><td>...     </td><td>C:T     </td><td>A:G     </td><td>G:G     </td><td>A:G     </td><td>C:T     </td><td>A:G     </td><td>G:G     </td><td>A:A     </td><td>A:A     </td><td>A:A     </td></tr>\n",
       "\t<tr><th scope=row>9</th><td>13.22611</td><td>G:G     </td><td>C:T     </td><td>T:T     </td><td>C:T     </td><td>G:G     </td><td>C:C     </td><td>G:G     </td><td>C:G     </td><td>T:T     </td><td>...     </td><td>C:T     </td><td>A:G     </td><td>G:G     </td><td>G:G     </td><td>T:T     </td><td>G:G     </td><td>G:G     </td><td>A:A     </td><td>A:G     </td><td>A:T     </td></tr>\n",
       "\t<tr><th scope=row>11</th><td>11.31613</td><td>G:G     </td><td>C:T     </td><td>T:T     </td><td>C:T     </td><td>A:G     </td><td>G:G     </td><td>G:G     </td><td>C:G     </td><td>A:T     </td><td>...     </td><td>C:T     </td><td>A:G     </td><td>G:G     </td><td>G:G     </td><td>C:T     </td><td>A:G     </td><td>G:G     </td><td>A:G     </td><td>G:G     </td><td>T:T     </td></tr>\n",
       "</tbody>\n",
       "</table>\n"
      ],
      "text/latex": [
       "\\begin{tabular}{r|lllllllllllllllllllllllllllllllllllllllllllllllllllllllllllllllllllllllllllllllllllllllllllllllllllllllllllllllllllllllllllllllllllllllllllllllllllllllllllllllllllllllllllllllllll}\n",
       "  & W1MaxWRelFFM1 & rs10034661 & rs10063949 & rs1024610 & rs1024611 & rs1042713 & rs1045485 & rs10491003 & rs1049305 & rs1049434 & ... & rs8111989 & rs8192678 & rs824205 & rs833070 & rs884736 & rs921943 & rs9469199 & rs970547 & rs9902453 & rs9939609\\\\\n",
       "\\hline\n",
       "\t0 & 10.30655 & G:G      & C:T      & A:T      & T:T      & A:A      & C:G      & G:G      & C:G      & A:T      & ...      & C:T      & A:G      & G:G      & A:G      & C:T      & A:G      & A:G      & A:A      & A:G      & A:A     \\\\\n",
       "\t4 & 10.20249 & G:G      & C:T      & A:T      & C:T      & A:G      & G:G      & G:G      & G:G      & A:A      & ...      & C:T      & A:G      & A:G      & A:G      & C:T      & A:G      & G:G      & A:G      & A:G      & T:T     \\\\\n",
       "\t7 & 11.24891 & G:G      & T:T      & A:T      & T:T      & A:G      & G:G      & G:G      & C:G      & A:A      & ...      & C:T      & A:G      & G:G      & A:G      & C:T      & A:A      & G:G      & A:G      & A:G      & A:A     \\\\\n",
       "\t8 & 10.86842 & G:G      & T:T      & T:T      & C:T      & A:G      & G:G      & G:G      & C:C      & A:T      & ...      & C:T      & A:G      & G:G      & A:G      & C:T      & A:G      & G:G      & A:A      & A:A      & A:A     \\\\\n",
       "\t9 & 13.22611 & G:G      & C:T      & T:T      & C:T      & G:G      & C:C      & G:G      & C:G      & T:T      & ...      & C:T      & A:G      & G:G      & G:G      & T:T      & G:G      & G:G      & A:A      & A:G      & A:T     \\\\\n",
       "\t11 & 11.31613 & G:G      & C:T      & T:T      & C:T      & A:G      & G:G      & G:G      & C:G      & A:T      & ...      & C:T      & A:G      & G:G      & G:G      & C:T      & A:G      & G:G      & A:G      & G:G      & T:T     \\\\\n",
       "\\end{tabular}\n"
      ],
      "text/markdown": [
       "\n",
       "| <!--/--> | W1MaxWRelFFM1 | rs10034661 | rs10063949 | rs1024610 | rs1024611 | rs1042713 | rs1045485 | rs10491003 | rs1049305 | rs1049434 | ... | rs8111989 | rs8192678 | rs824205 | rs833070 | rs884736 | rs921943 | rs9469199 | rs970547 | rs9902453 | rs9939609 |\n",
       "|---|---|---|---|---|---|---|---|---|---|---|---|---|---|---|---|---|---|---|---|---|---|\n",
       "| 0 | 10.30655 | G:G      | C:T      | A:T      | T:T      | A:A      | C:G      | G:G      | C:G      | A:T      | ...      | C:T      | A:G      | G:G      | A:G      | C:T      | A:G      | A:G      | A:A      | A:G      | A:A      |\n",
       "| 4 | 10.20249 | G:G      | C:T      | A:T      | C:T      | A:G      | G:G      | G:G      | G:G      | A:A      | ...      | C:T      | A:G      | A:G      | A:G      | C:T      | A:G      | G:G      | A:G      | A:G      | T:T      |\n",
       "| 7 | 11.24891 | G:G      | T:T      | A:T      | T:T      | A:G      | G:G      | G:G      | C:G      | A:A      | ...      | C:T      | A:G      | G:G      | A:G      | C:T      | A:A      | G:G      | A:G      | A:G      | A:A      |\n",
       "| 8 | 10.86842 | G:G      | T:T      | T:T      | C:T      | A:G      | G:G      | G:G      | C:C      | A:T      | ...      | C:T      | A:G      | G:G      | A:G      | C:T      | A:G      | G:G      | A:A      | A:A      | A:A      |\n",
       "| 9 | 13.22611 | G:G      | C:T      | T:T      | C:T      | G:G      | C:C      | G:G      | C:G      | T:T      | ...      | C:T      | A:G      | G:G      | G:G      | T:T      | G:G      | G:G      | A:A      | A:G      | A:T      |\n",
       "| 11 | 11.31613 | G:G      | C:T      | T:T      | C:T      | A:G      | G:G      | G:G      | C:G      | A:T      | ...      | C:T      | A:G      | G:G      | G:G      | C:T      | A:G      | G:G      | A:G      | G:G      | T:T      |\n",
       "\n"
      ],
      "text/plain": [
       "   W1MaxWRelFFM1 rs10034661 rs10063949 rs1024610 rs1024611 rs1042713 rs1045485\n",
       "0  10.30655      G:G        C:T        A:T       T:T       A:A       C:G      \n",
       "4  10.20249      G:G        C:T        A:T       C:T       A:G       G:G      \n",
       "7  11.24891      G:G        T:T        A:T       T:T       A:G       G:G      \n",
       "8  10.86842      G:G        T:T        T:T       C:T       A:G       G:G      \n",
       "9  13.22611      G:G        C:T        T:T       C:T       G:G       C:C      \n",
       "11 11.31613      G:G        C:T        T:T       C:T       A:G       G:G      \n",
       "   rs10491003 rs1049305 rs1049434 ... rs8111989 rs8192678 rs824205 rs833070\n",
       "0  G:G        C:G       A:T       ... C:T       A:G       G:G      A:G     \n",
       "4  G:G        G:G       A:A       ... C:T       A:G       A:G      A:G     \n",
       "7  G:G        C:G       A:A       ... C:T       A:G       G:G      A:G     \n",
       "8  G:G        C:C       A:T       ... C:T       A:G       G:G      A:G     \n",
       "9  G:G        C:G       T:T       ... C:T       A:G       G:G      G:G     \n",
       "11 G:G        C:G       A:T       ... C:T       A:G       G:G      G:G     \n",
       "   rs884736 rs921943 rs9469199 rs970547 rs9902453 rs9939609\n",
       "0  C:T      A:G      A:G       A:A      A:G       A:A      \n",
       "4  C:T      A:G      G:G       A:G      A:G       T:T      \n",
       "7  C:T      A:A      G:G       A:G      A:G       A:A      \n",
       "8  C:T      A:G      G:G       A:A      A:A       A:A      \n",
       "9  T:T      G:G      G:G       A:A      A:G       A:T      \n",
       "11 C:T      A:G      G:G       A:G      G:G       T:T      "
      ]
     },
     "metadata": {},
     "output_type": "display_data"
    }
   ],
   "source": [
    "head(w1_max)"
   ]
  },
  {
   "cell_type": "code",
   "execution_count": 8,
   "metadata": {},
   "outputs": [],
   "source": [
    "rownames(w1_max) <- NULL "
   ]
  },
  {
   "cell_type": "code",
   "execution_count": 9,
   "metadata": {},
   "outputs": [],
   "source": [
    "W1MaxWRelFFM1Bin <- factor(as.numeric(handle_target['W1MaxWRelFFM1']>=median(handle_target$W1MaxWRelFFM1)))"
   ]
  },
  {
   "cell_type": "code",
   "execution_count": 10,
   "metadata": {},
   "outputs": [],
   "source": [
    "w1_max <- cbind(W1MaxWRelFFM1Bin, w1_max)"
   ]
  },
  {
   "cell_type": "code",
   "execution_count": 11,
   "metadata": {
    "scrolled": true
   },
   "outputs": [
    {
     "data": {
      "text/html": [
       "<table>\n",
       "<thead><tr><th scope=col>W1MaxWRelFFM1Bin</th><th scope=col>W1MaxWRelFFM1</th><th scope=col>rs10034661</th><th scope=col>rs10063949</th><th scope=col>rs1024610</th><th scope=col>rs1024611</th><th scope=col>rs1042713</th><th scope=col>rs1045485</th><th scope=col>rs10491003</th><th scope=col>rs1049305</th><th scope=col>...</th><th scope=col>rs8111989</th><th scope=col>rs8192678</th><th scope=col>rs824205</th><th scope=col>rs833070</th><th scope=col>rs884736</th><th scope=col>rs921943</th><th scope=col>rs9469199</th><th scope=col>rs970547</th><th scope=col>rs9902453</th><th scope=col>rs9939609</th></tr></thead>\n",
       "<tbody>\n",
       "\t<tr><td>0       </td><td>10.30655</td><td>G:G     </td><td>C:T     </td><td>A:T     </td><td>T:T     </td><td>A:A     </td><td>C:G     </td><td>G:G     </td><td>C:G     </td><td>...     </td><td>C:T     </td><td>A:G     </td><td>G:G     </td><td>A:G     </td><td>C:T     </td><td>A:G     </td><td>A:G     </td><td>A:A     </td><td>A:G     </td><td>A:A     </td></tr>\n",
       "\t<tr><td>0       </td><td>10.20249</td><td>G:G     </td><td>C:T     </td><td>A:T     </td><td>C:T     </td><td>A:G     </td><td>G:G     </td><td>G:G     </td><td>G:G     </td><td>...     </td><td>C:T     </td><td>A:G     </td><td>A:G     </td><td>A:G     </td><td>C:T     </td><td>A:G     </td><td>G:G     </td><td>A:G     </td><td>A:G     </td><td>T:T     </td></tr>\n",
       "\t<tr><td>0       </td><td>11.24891</td><td>G:G     </td><td>T:T     </td><td>A:T     </td><td>T:T     </td><td>A:G     </td><td>G:G     </td><td>G:G     </td><td>C:G     </td><td>...     </td><td>C:T     </td><td>A:G     </td><td>G:G     </td><td>A:G     </td><td>C:T     </td><td>A:A     </td><td>G:G     </td><td>A:G     </td><td>A:G     </td><td>A:A     </td></tr>\n",
       "\t<tr><td>0       </td><td>10.86842</td><td>G:G     </td><td>T:T     </td><td>T:T     </td><td>C:T     </td><td>A:G     </td><td>G:G     </td><td>G:G     </td><td>C:C     </td><td>...     </td><td>C:T     </td><td>A:G     </td><td>G:G     </td><td>A:G     </td><td>C:T     </td><td>A:G     </td><td>G:G     </td><td>A:A     </td><td>A:A     </td><td>A:A     </td></tr>\n",
       "\t<tr><td>0       </td><td>13.22611</td><td>G:G     </td><td>C:T     </td><td>T:T     </td><td>C:T     </td><td>G:G     </td><td>C:C     </td><td>G:G     </td><td>C:G     </td><td>...     </td><td>C:T     </td><td>A:G     </td><td>G:G     </td><td>G:G     </td><td>T:T     </td><td>G:G     </td><td>G:G     </td><td>A:A     </td><td>A:G     </td><td>A:T     </td></tr>\n",
       "\t<tr><td>0       </td><td>11.31613</td><td>G:G     </td><td>C:T     </td><td>T:T     </td><td>C:T     </td><td>A:G     </td><td>G:G     </td><td>G:G     </td><td>C:G     </td><td>...     </td><td>C:T     </td><td>A:G     </td><td>G:G     </td><td>G:G     </td><td>C:T     </td><td>A:G     </td><td>G:G     </td><td>A:G     </td><td>G:G     </td><td>T:T     </td></tr>\n",
       "</tbody>\n",
       "</table>\n"
      ],
      "text/latex": [
       "\\begin{tabular}{r|llllllllllllllllllllllllllllllllllllllllllllllllllllllllllllllllllllllllllllllllllllllllllllllllllllllllllllllllllllllllllllllllllllllllllllllllllllllllllllllllllllllllllllllllllll}\n",
       " W1MaxWRelFFM1Bin & W1MaxWRelFFM1 & rs10034661 & rs10063949 & rs1024610 & rs1024611 & rs1042713 & rs1045485 & rs10491003 & rs1049305 & ... & rs8111989 & rs8192678 & rs824205 & rs833070 & rs884736 & rs921943 & rs9469199 & rs970547 & rs9902453 & rs9939609\\\\\n",
       "\\hline\n",
       "\t 0        & 10.30655 & G:G      & C:T      & A:T      & T:T      & A:A      & C:G      & G:G      & C:G      & ...      & C:T      & A:G      & G:G      & A:G      & C:T      & A:G      & A:G      & A:A      & A:G      & A:A     \\\\\n",
       "\t 0        & 10.20249 & G:G      & C:T      & A:T      & C:T      & A:G      & G:G      & G:G      & G:G      & ...      & C:T      & A:G      & A:G      & A:G      & C:T      & A:G      & G:G      & A:G      & A:G      & T:T     \\\\\n",
       "\t 0        & 11.24891 & G:G      & T:T      & A:T      & T:T      & A:G      & G:G      & G:G      & C:G      & ...      & C:T      & A:G      & G:G      & A:G      & C:T      & A:A      & G:G      & A:G      & A:G      & A:A     \\\\\n",
       "\t 0        & 10.86842 & G:G      & T:T      & T:T      & C:T      & A:G      & G:G      & G:G      & C:C      & ...      & C:T      & A:G      & G:G      & A:G      & C:T      & A:G      & G:G      & A:A      & A:A      & A:A     \\\\\n",
       "\t 0        & 13.22611 & G:G      & C:T      & T:T      & C:T      & G:G      & C:C      & G:G      & C:G      & ...      & C:T      & A:G      & G:G      & G:G      & T:T      & G:G      & G:G      & A:A      & A:G      & A:T     \\\\\n",
       "\t 0        & 11.31613 & G:G      & C:T      & T:T      & C:T      & A:G      & G:G      & G:G      & C:G      & ...      & C:T      & A:G      & G:G      & G:G      & C:T      & A:G      & G:G      & A:G      & G:G      & T:T     \\\\\n",
       "\\end{tabular}\n"
      ],
      "text/markdown": [
       "\n",
       "| W1MaxWRelFFM1Bin | W1MaxWRelFFM1 | rs10034661 | rs10063949 | rs1024610 | rs1024611 | rs1042713 | rs1045485 | rs10491003 | rs1049305 | ... | rs8111989 | rs8192678 | rs824205 | rs833070 | rs884736 | rs921943 | rs9469199 | rs970547 | rs9902453 | rs9939609 |\n",
       "|---|---|---|---|---|---|---|---|---|---|---|---|---|---|---|---|---|---|---|---|---|\n",
       "| 0        | 10.30655 | G:G      | C:T      | A:T      | T:T      | A:A      | C:G      | G:G      | C:G      | ...      | C:T      | A:G      | G:G      | A:G      | C:T      | A:G      | A:G      | A:A      | A:G      | A:A      |\n",
       "| 0        | 10.20249 | G:G      | C:T      | A:T      | C:T      | A:G      | G:G      | G:G      | G:G      | ...      | C:T      | A:G      | A:G      | A:G      | C:T      | A:G      | G:G      | A:G      | A:G      | T:T      |\n",
       "| 0        | 11.24891 | G:G      | T:T      | A:T      | T:T      | A:G      | G:G      | G:G      | C:G      | ...      | C:T      | A:G      | G:G      | A:G      | C:T      | A:A      | G:G      | A:G      | A:G      | A:A      |\n",
       "| 0        | 10.86842 | G:G      | T:T      | T:T      | C:T      | A:G      | G:G      | G:G      | C:C      | ...      | C:T      | A:G      | G:G      | A:G      | C:T      | A:G      | G:G      | A:A      | A:A      | A:A      |\n",
       "| 0        | 13.22611 | G:G      | C:T      | T:T      | C:T      | G:G      | C:C      | G:G      | C:G      | ...      | C:T      | A:G      | G:G      | G:G      | T:T      | G:G      | G:G      | A:A      | A:G      | A:T      |\n",
       "| 0        | 11.31613 | G:G      | C:T      | T:T      | C:T      | A:G      | G:G      | G:G      | C:G      | ...      | C:T      | A:G      | G:G      | G:G      | C:T      | A:G      | G:G      | A:G      | G:G      | T:T      |\n",
       "\n"
      ],
      "text/plain": [
       "  W1MaxWRelFFM1Bin W1MaxWRelFFM1 rs10034661 rs10063949 rs1024610 rs1024611\n",
       "1 0                10.30655      G:G        C:T        A:T       T:T      \n",
       "2 0                10.20249      G:G        C:T        A:T       C:T      \n",
       "3 0                11.24891      G:G        T:T        A:T       T:T      \n",
       "4 0                10.86842      G:G        T:T        T:T       C:T      \n",
       "5 0                13.22611      G:G        C:T        T:T       C:T      \n",
       "6 0                11.31613      G:G        C:T        T:T       C:T      \n",
       "  rs1042713 rs1045485 rs10491003 rs1049305 ... rs8111989 rs8192678 rs824205\n",
       "1 A:A       C:G       G:G        C:G       ... C:T       A:G       G:G     \n",
       "2 A:G       G:G       G:G        G:G       ... C:T       A:G       A:G     \n",
       "3 A:G       G:G       G:G        C:G       ... C:T       A:G       G:G     \n",
       "4 A:G       G:G       G:G        C:C       ... C:T       A:G       G:G     \n",
       "5 G:G       C:C       G:G        C:G       ... C:T       A:G       G:G     \n",
       "6 A:G       G:G       G:G        C:G       ... C:T       A:G       G:G     \n",
       "  rs833070 rs884736 rs921943 rs9469199 rs970547 rs9902453 rs9939609\n",
       "1 A:G      C:T      A:G      A:G       A:A      A:G       A:A      \n",
       "2 A:G      C:T      A:G      G:G       A:G      A:G       T:T      \n",
       "3 A:G      C:T      A:A      G:G       A:G      A:G       A:A      \n",
       "4 A:G      C:T      A:G      G:G       A:A      A:A       A:A      \n",
       "5 G:G      T:T      G:G      G:G       A:A      A:G       A:T      \n",
       "6 G:G      C:T      A:G      G:G       A:G      G:G       T:T      "
      ]
     },
     "metadata": {},
     "output_type": "display_data"
    }
   ],
   "source": [
    "head(w1_max)"
   ]
  },
  {
   "cell_type": "markdown",
   "metadata": {},
   "source": [
    "We no longer need the original variable, in fact leaving it interferes with the algorithm because it considers it as a predictor. So we eliminate it. This will be done for each of the target variable cases."
   ]
  },
  {
   "cell_type": "code",
   "execution_count": 12,
   "metadata": {},
   "outputs": [],
   "source": [
    "w1_max$W1MaxWRelFFM1 <- NULL "
   ]
  },
  {
   "cell_type": "code",
   "execution_count": 13,
   "metadata": {},
   "outputs": [
    {
     "data": {
      "text/html": [
       "<table>\n",
       "<thead><tr><th scope=col>W1MaxWRelFFM1Bin</th><th scope=col>rs10034661</th><th scope=col>rs10063949</th><th scope=col>rs1024610</th><th scope=col>rs1024611</th><th scope=col>rs1042713</th><th scope=col>rs1045485</th><th scope=col>rs10491003</th><th scope=col>rs1049305</th><th scope=col>rs1049434</th><th scope=col>...</th><th scope=col>rs8111989</th><th scope=col>rs8192678</th><th scope=col>rs824205</th><th scope=col>rs833070</th><th scope=col>rs884736</th><th scope=col>rs921943</th><th scope=col>rs9469199</th><th scope=col>rs970547</th><th scope=col>rs9902453</th><th scope=col>rs9939609</th></tr></thead>\n",
       "<tbody>\n",
       "\t<tr><td>0  </td><td>G:G</td><td>C:T</td><td>A:T</td><td>T:T</td><td>A:A</td><td>C:G</td><td>G:G</td><td>C:G</td><td>A:T</td><td>...</td><td>C:T</td><td>A:G</td><td>G:G</td><td>A:G</td><td>C:T</td><td>A:G</td><td>A:G</td><td>A:A</td><td>A:G</td><td>A:A</td></tr>\n",
       "\t<tr><td>0  </td><td>G:G</td><td>C:T</td><td>A:T</td><td>C:T</td><td>A:G</td><td>G:G</td><td>G:G</td><td>G:G</td><td>A:A</td><td>...</td><td>C:T</td><td>A:G</td><td>A:G</td><td>A:G</td><td>C:T</td><td>A:G</td><td>G:G</td><td>A:G</td><td>A:G</td><td>T:T</td></tr>\n",
       "\t<tr><td>0  </td><td>G:G</td><td>T:T</td><td>A:T</td><td>T:T</td><td>A:G</td><td>G:G</td><td>G:G</td><td>C:G</td><td>A:A</td><td>...</td><td>C:T</td><td>A:G</td><td>G:G</td><td>A:G</td><td>C:T</td><td>A:A</td><td>G:G</td><td>A:G</td><td>A:G</td><td>A:A</td></tr>\n",
       "\t<tr><td>0  </td><td>G:G</td><td>T:T</td><td>T:T</td><td>C:T</td><td>A:G</td><td>G:G</td><td>G:G</td><td>C:C</td><td>A:T</td><td>...</td><td>C:T</td><td>A:G</td><td>G:G</td><td>A:G</td><td>C:T</td><td>A:G</td><td>G:G</td><td>A:A</td><td>A:A</td><td>A:A</td></tr>\n",
       "\t<tr><td>0  </td><td>G:G</td><td>C:T</td><td>T:T</td><td>C:T</td><td>G:G</td><td>C:C</td><td>G:G</td><td>C:G</td><td>T:T</td><td>...</td><td>C:T</td><td>A:G</td><td>G:G</td><td>G:G</td><td>T:T</td><td>G:G</td><td>G:G</td><td>A:A</td><td>A:G</td><td>A:T</td></tr>\n",
       "\t<tr><td>0  </td><td>G:G</td><td>C:T</td><td>T:T</td><td>C:T</td><td>A:G</td><td>G:G</td><td>G:G</td><td>C:G</td><td>A:T</td><td>...</td><td>C:T</td><td>A:G</td><td>G:G</td><td>G:G</td><td>C:T</td><td>A:G</td><td>G:G</td><td>A:G</td><td>G:G</td><td>T:T</td></tr>\n",
       "</tbody>\n",
       "</table>\n"
      ],
      "text/latex": [
       "\\begin{tabular}{r|lllllllllllllllllllllllllllllllllllllllllllllllllllllllllllllllllllllllllllllllllllllllllllllllllllllllllllllllllllllllllllllllllllllllllllllllllllllllllllllllllllllllllllllllllll}\n",
       " W1MaxWRelFFM1Bin & rs10034661 & rs10063949 & rs1024610 & rs1024611 & rs1042713 & rs1045485 & rs10491003 & rs1049305 & rs1049434 & ... & rs8111989 & rs8192678 & rs824205 & rs833070 & rs884736 & rs921943 & rs9469199 & rs970547 & rs9902453 & rs9939609\\\\\n",
       "\\hline\n",
       "\t 0   & G:G & C:T & A:T & T:T & A:A & C:G & G:G & C:G & A:T & ... & C:T & A:G & G:G & A:G & C:T & A:G & A:G & A:A & A:G & A:A\\\\\n",
       "\t 0   & G:G & C:T & A:T & C:T & A:G & G:G & G:G & G:G & A:A & ... & C:T & A:G & A:G & A:G & C:T & A:G & G:G & A:G & A:G & T:T\\\\\n",
       "\t 0   & G:G & T:T & A:T & T:T & A:G & G:G & G:G & C:G & A:A & ... & C:T & A:G & G:G & A:G & C:T & A:A & G:G & A:G & A:G & A:A\\\\\n",
       "\t 0   & G:G & T:T & T:T & C:T & A:G & G:G & G:G & C:C & A:T & ... & C:T & A:G & G:G & A:G & C:T & A:G & G:G & A:A & A:A & A:A\\\\\n",
       "\t 0   & G:G & C:T & T:T & C:T & G:G & C:C & G:G & C:G & T:T & ... & C:T & A:G & G:G & G:G & T:T & G:G & G:G & A:A & A:G & A:T\\\\\n",
       "\t 0   & G:G & C:T & T:T & C:T & A:G & G:G & G:G & C:G & A:T & ... & C:T & A:G & G:G & G:G & C:T & A:G & G:G & A:G & G:G & T:T\\\\\n",
       "\\end{tabular}\n"
      ],
      "text/markdown": [
       "\n",
       "| W1MaxWRelFFM1Bin | rs10034661 | rs10063949 | rs1024610 | rs1024611 | rs1042713 | rs1045485 | rs10491003 | rs1049305 | rs1049434 | ... | rs8111989 | rs8192678 | rs824205 | rs833070 | rs884736 | rs921943 | rs9469199 | rs970547 | rs9902453 | rs9939609 |\n",
       "|---|---|---|---|---|---|---|---|---|---|---|---|---|---|---|---|---|---|---|---|---|\n",
       "| 0   | G:G | C:T | A:T | T:T | A:A | C:G | G:G | C:G | A:T | ... | C:T | A:G | G:G | A:G | C:T | A:G | A:G | A:A | A:G | A:A |\n",
       "| 0   | G:G | C:T | A:T | C:T | A:G | G:G | G:G | G:G | A:A | ... | C:T | A:G | A:G | A:G | C:T | A:G | G:G | A:G | A:G | T:T |\n",
       "| 0   | G:G | T:T | A:T | T:T | A:G | G:G | G:G | C:G | A:A | ... | C:T | A:G | G:G | A:G | C:T | A:A | G:G | A:G | A:G | A:A |\n",
       "| 0   | G:G | T:T | T:T | C:T | A:G | G:G | G:G | C:C | A:T | ... | C:T | A:G | G:G | A:G | C:T | A:G | G:G | A:A | A:A | A:A |\n",
       "| 0   | G:G | C:T | T:T | C:T | G:G | C:C | G:G | C:G | T:T | ... | C:T | A:G | G:G | G:G | T:T | G:G | G:G | A:A | A:G | A:T |\n",
       "| 0   | G:G | C:T | T:T | C:T | A:G | G:G | G:G | C:G | A:T | ... | C:T | A:G | G:G | G:G | C:T | A:G | G:G | A:G | G:G | T:T |\n",
       "\n"
      ],
      "text/plain": [
       "  W1MaxWRelFFM1Bin rs10034661 rs10063949 rs1024610 rs1024611 rs1042713\n",
       "1 0                G:G        C:T        A:T       T:T       A:A      \n",
       "2 0                G:G        C:T        A:T       C:T       A:G      \n",
       "3 0                G:G        T:T        A:T       T:T       A:G      \n",
       "4 0                G:G        T:T        T:T       C:T       A:G      \n",
       "5 0                G:G        C:T        T:T       C:T       G:G      \n",
       "6 0                G:G        C:T        T:T       C:T       A:G      \n",
       "  rs1045485 rs10491003 rs1049305 rs1049434 ... rs8111989 rs8192678 rs824205\n",
       "1 C:G       G:G        C:G       A:T       ... C:T       A:G       G:G     \n",
       "2 G:G       G:G        G:G       A:A       ... C:T       A:G       A:G     \n",
       "3 G:G       G:G        C:G       A:A       ... C:T       A:G       G:G     \n",
       "4 G:G       G:G        C:C       A:T       ... C:T       A:G       G:G     \n",
       "5 C:C       G:G        C:G       T:T       ... C:T       A:G       G:G     \n",
       "6 G:G       G:G        C:G       A:T       ... C:T       A:G       G:G     \n",
       "  rs833070 rs884736 rs921943 rs9469199 rs970547 rs9902453 rs9939609\n",
       "1 A:G      C:T      A:G      A:G       A:A      A:G       A:A      \n",
       "2 A:G      C:T      A:G      G:G       A:G      A:G       T:T      \n",
       "3 A:G      C:T      A:A      G:G       A:G      A:G       A:A      \n",
       "4 A:G      C:T      A:G      G:G       A:A      A:A       A:A      \n",
       "5 G:G      T:T      G:G      G:G       A:A      A:G       A:T      \n",
       "6 G:G      C:T      A:G      G:G       A:G      G:G       T:T      "
      ]
     },
     "metadata": {},
     "output_type": "display_data"
    }
   ],
   "source": [
    "head(w1_max)"
   ]
  },
  {
   "cell_type": "markdown",
   "metadata": {},
   "source": [
    "#### Mean power relative to FFM1 in Wingate 1 (W1MedWRelFFM1) <a class=\"anchor\" id=\"8\"></a>"
   ]
  },
  {
   "cell_type": "markdown",
   "metadata": {},
   "source": [
    "* [Returning to the index of contents](#index)"
   ]
  },
  {
   "cell_type": "code",
   "execution_count": 15,
   "metadata": {
    "scrolled": true
   },
   "outputs": [
    {
     "data": {
      "text/html": [
       "<table>\n",
       "<thead><tr><th scope=col>W1MedWRelFFM1</th><th scope=col>rs10034661</th><th scope=col>rs10063949</th><th scope=col>rs1024610</th><th scope=col>rs1024611</th><th scope=col>rs1042713</th><th scope=col>rs1045485</th><th scope=col>rs10491003</th><th scope=col>rs1049305</th><th scope=col>rs1049434</th><th scope=col>...</th><th scope=col>rs8111989</th><th scope=col>rs8192678</th><th scope=col>rs824205</th><th scope=col>rs833070</th><th scope=col>rs884736</th><th scope=col>rs921943</th><th scope=col>rs9469199</th><th scope=col>rs970547</th><th scope=col>rs9902453</th><th scope=col>rs9939609</th></tr></thead>\n",
       "<tbody>\n",
       "\t<tr><td>5.334544</td><td>G:G     </td><td>C:T     </td><td>A:T     </td><td>T:T     </td><td>A:A     </td><td>C:G     </td><td>G:G     </td><td>C:G     </td><td>A:T     </td><td>...     </td><td>C:T     </td><td>A:G     </td><td>G:G     </td><td>A:G     </td><td>C:T     </td><td>A:G     </td><td>A:G     </td><td>A:A     </td><td>A:G     </td><td>A:A     </td></tr>\n",
       "\t<tr><td>5.869926</td><td>G:G     </td><td>C:T     </td><td>A:T     </td><td>C:T     </td><td>A:G     </td><td>G:G     </td><td>G:G     </td><td>G:G     </td><td>A:A     </td><td>...     </td><td>C:T     </td><td>A:G     </td><td>A:G     </td><td>A:G     </td><td>C:T     </td><td>A:G     </td><td>G:G     </td><td>A:G     </td><td>A:G     </td><td>T:T     </td></tr>\n",
       "\t<tr><td>5.624455</td><td>G:G     </td><td>T:T     </td><td>A:T     </td><td>T:T     </td><td>A:G     </td><td>G:G     </td><td>G:G     </td><td>C:G     </td><td>A:A     </td><td>...     </td><td>C:T     </td><td>A:G     </td><td>G:G     </td><td>A:G     </td><td>C:T     </td><td>A:A     </td><td>G:G     </td><td>A:G     </td><td>A:G     </td><td>A:A     </td></tr>\n",
       "\t<tr><td>7.051415</td><td>G:G     </td><td>T:T     </td><td>T:T     </td><td>C:T     </td><td>A:G     </td><td>G:G     </td><td>G:G     </td><td>C:C     </td><td>A:T     </td><td>...     </td><td>C:T     </td><td>A:G     </td><td>G:G     </td><td>A:G     </td><td>C:T     </td><td>A:G     </td><td>G:G     </td><td>A:A     </td><td>A:A     </td><td>A:A     </td></tr>\n",
       "\t<tr><td>7.036194</td><td>G:G     </td><td>C:T     </td><td>T:T     </td><td>C:T     </td><td>G:G     </td><td>C:C     </td><td>G:G     </td><td>C:G     </td><td>T:T     </td><td>...     </td><td>C:T     </td><td>A:G     </td><td>G:G     </td><td>G:G     </td><td>T:T     </td><td>G:G     </td><td>G:G     </td><td>A:A     </td><td>A:G     </td><td>A:T     </td></tr>\n",
       "\t<tr><td>7.469054</td><td>G:G     </td><td>C:T     </td><td>T:T     </td><td>C:T     </td><td>A:G     </td><td>G:G     </td><td>G:G     </td><td>C:G     </td><td>A:T     </td><td>...     </td><td>C:T     </td><td>A:G     </td><td>G:G     </td><td>G:G     </td><td>C:T     </td><td>A:G     </td><td>G:G     </td><td>A:G     </td><td>G:G     </td><td>T:T     </td></tr>\n",
       "</tbody>\n",
       "</table>\n"
      ],
      "text/latex": [
       "\\begin{tabular}{r|lllllllllllllllllllllllllllllllllllllllllllllllllllllllllllllllllllllllllllllllllllllllllllllllllllllllllllllllllllllllllllllllllllllllllllllllllllllllllllllllllllllllllllllllllll}\n",
       " W1MedWRelFFM1 & rs10034661 & rs10063949 & rs1024610 & rs1024611 & rs1042713 & rs1045485 & rs10491003 & rs1049305 & rs1049434 & ... & rs8111989 & rs8192678 & rs824205 & rs833070 & rs884736 & rs921943 & rs9469199 & rs970547 & rs9902453 & rs9939609\\\\\n",
       "\\hline\n",
       "\t 5.334544 & G:G      & C:T      & A:T      & T:T      & A:A      & C:G      & G:G      & C:G      & A:T      & ...      & C:T      & A:G      & G:G      & A:G      & C:T      & A:G      & A:G      & A:A      & A:G      & A:A     \\\\\n",
       "\t 5.869926 & G:G      & C:T      & A:T      & C:T      & A:G      & G:G      & G:G      & G:G      & A:A      & ...      & C:T      & A:G      & A:G      & A:G      & C:T      & A:G      & G:G      & A:G      & A:G      & T:T     \\\\\n",
       "\t 5.624455 & G:G      & T:T      & A:T      & T:T      & A:G      & G:G      & G:G      & C:G      & A:A      & ...      & C:T      & A:G      & G:G      & A:G      & C:T      & A:A      & G:G      & A:G      & A:G      & A:A     \\\\\n",
       "\t 7.051415 & G:G      & T:T      & T:T      & C:T      & A:G      & G:G      & G:G      & C:C      & A:T      & ...      & C:T      & A:G      & G:G      & A:G      & C:T      & A:G      & G:G      & A:A      & A:A      & A:A     \\\\\n",
       "\t 7.036194 & G:G      & C:T      & T:T      & C:T      & G:G      & C:C      & G:G      & C:G      & T:T      & ...      & C:T      & A:G      & G:G      & G:G      & T:T      & G:G      & G:G      & A:A      & A:G      & A:T     \\\\\n",
       "\t 7.469054 & G:G      & C:T      & T:T      & C:T      & A:G      & G:G      & G:G      & C:G      & A:T      & ...      & C:T      & A:G      & G:G      & G:G      & C:T      & A:G      & G:G      & A:G      & G:G      & T:T     \\\\\n",
       "\\end{tabular}\n"
      ],
      "text/markdown": [
       "\n",
       "| W1MedWRelFFM1 | rs10034661 | rs10063949 | rs1024610 | rs1024611 | rs1042713 | rs1045485 | rs10491003 | rs1049305 | rs1049434 | ... | rs8111989 | rs8192678 | rs824205 | rs833070 | rs884736 | rs921943 | rs9469199 | rs970547 | rs9902453 | rs9939609 |\n",
       "|---|---|---|---|---|---|---|---|---|---|---|---|---|---|---|---|---|---|---|---|---|\n",
       "| 5.334544 | G:G      | C:T      | A:T      | T:T      | A:A      | C:G      | G:G      | C:G      | A:T      | ...      | C:T      | A:G      | G:G      | A:G      | C:T      | A:G      | A:G      | A:A      | A:G      | A:A      |\n",
       "| 5.869926 | G:G      | C:T      | A:T      | C:T      | A:G      | G:G      | G:G      | G:G      | A:A      | ...      | C:T      | A:G      | A:G      | A:G      | C:T      | A:G      | G:G      | A:G      | A:G      | T:T      |\n",
       "| 5.624455 | G:G      | T:T      | A:T      | T:T      | A:G      | G:G      | G:G      | C:G      | A:A      | ...      | C:T      | A:G      | G:G      | A:G      | C:T      | A:A      | G:G      | A:G      | A:G      | A:A      |\n",
       "| 7.051415 | G:G      | T:T      | T:T      | C:T      | A:G      | G:G      | G:G      | C:C      | A:T      | ...      | C:T      | A:G      | G:G      | A:G      | C:T      | A:G      | G:G      | A:A      | A:A      | A:A      |\n",
       "| 7.036194 | G:G      | C:T      | T:T      | C:T      | G:G      | C:C      | G:G      | C:G      | T:T      | ...      | C:T      | A:G      | G:G      | G:G      | T:T      | G:G      | G:G      | A:A      | A:G      | A:T      |\n",
       "| 7.469054 | G:G      | C:T      | T:T      | C:T      | A:G      | G:G      | G:G      | C:G      | A:T      | ...      | C:T      | A:G      | G:G      | G:G      | C:T      | A:G      | G:G      | A:G      | G:G      | T:T      |\n",
       "\n"
      ],
      "text/plain": [
       "  W1MedWRelFFM1 rs10034661 rs10063949 rs1024610 rs1024611 rs1042713 rs1045485\n",
       "1 5.334544      G:G        C:T        A:T       T:T       A:A       C:G      \n",
       "2 5.869926      G:G        C:T        A:T       C:T       A:G       G:G      \n",
       "3 5.624455      G:G        T:T        A:T       T:T       A:G       G:G      \n",
       "4 7.051415      G:G        T:T        T:T       C:T       A:G       G:G      \n",
       "5 7.036194      G:G        C:T        T:T       C:T       G:G       C:C      \n",
       "6 7.469054      G:G        C:T        T:T       C:T       A:G       G:G      \n",
       "  rs10491003 rs1049305 rs1049434 ... rs8111989 rs8192678 rs824205 rs833070\n",
       "1 G:G        C:G       A:T       ... C:T       A:G       G:G      A:G     \n",
       "2 G:G        G:G       A:A       ... C:T       A:G       A:G      A:G     \n",
       "3 G:G        C:G       A:A       ... C:T       A:G       G:G      A:G     \n",
       "4 G:G        C:C       A:T       ... C:T       A:G       G:G      A:G     \n",
       "5 G:G        C:G       T:T       ... C:T       A:G       G:G      G:G     \n",
       "6 G:G        C:G       A:T       ... C:T       A:G       G:G      G:G     \n",
       "  rs884736 rs921943 rs9469199 rs970547 rs9902453 rs9939609\n",
       "1 C:T      A:G      A:G       A:A      A:G       A:A      \n",
       "2 C:T      A:G      G:G       A:G      A:G       T:T      \n",
       "3 C:T      A:A      G:G       A:G      A:G       A:A      \n",
       "4 C:T      A:G      G:G       A:A      A:A       A:A      \n",
       "5 T:T      G:G      G:G       A:A      A:G       A:T      \n",
       "6 C:T      A:G      G:G       A:G      G:G       T:T      "
      ]
     },
     "metadata": {},
     "output_type": "display_data"
    }
   ],
   "source": [
    "w1_med <- cbind(handle_target['W1MedWRelFFM1'],handle_genetic) \n",
    "\n",
    "rownames(w1_med) <- NULL\n",
    "\n",
    "head(w1_med)\n"
   ]
  },
  {
   "cell_type": "code",
   "execution_count": 16,
   "metadata": {
    "scrolled": true
   },
   "outputs": [
    {
     "data": {
      "text/html": [
       "<table>\n",
       "<thead><tr><th scope=col>W1MedWRelFFM1Bin</th><th scope=col>W1MedWRelFFM1</th><th scope=col>rs10034661</th><th scope=col>rs10063949</th><th scope=col>rs1024610</th><th scope=col>rs1024611</th><th scope=col>rs1042713</th><th scope=col>rs1045485</th><th scope=col>rs10491003</th><th scope=col>rs1049305</th><th scope=col>...</th><th scope=col>rs8111989</th><th scope=col>rs8192678</th><th scope=col>rs824205</th><th scope=col>rs833070</th><th scope=col>rs884736</th><th scope=col>rs921943</th><th scope=col>rs9469199</th><th scope=col>rs970547</th><th scope=col>rs9902453</th><th scope=col>rs9939609</th></tr></thead>\n",
       "<tbody>\n",
       "\t<tr><td>0       </td><td>5.334544</td><td>G:G     </td><td>C:T     </td><td>A:T     </td><td>T:T     </td><td>A:A     </td><td>C:G     </td><td>G:G     </td><td>C:G     </td><td>...     </td><td>C:T     </td><td>A:G     </td><td>G:G     </td><td>A:G     </td><td>C:T     </td><td>A:G     </td><td>A:G     </td><td>A:A     </td><td>A:G     </td><td>A:A     </td></tr>\n",
       "\t<tr><td>0       </td><td>5.869926</td><td>G:G     </td><td>C:T     </td><td>A:T     </td><td>C:T     </td><td>A:G     </td><td>G:G     </td><td>G:G     </td><td>G:G     </td><td>...     </td><td>C:T     </td><td>A:G     </td><td>A:G     </td><td>A:G     </td><td>C:T     </td><td>A:G     </td><td>G:G     </td><td>A:G     </td><td>A:G     </td><td>T:T     </td></tr>\n",
       "\t<tr><td>0       </td><td>5.624455</td><td>G:G     </td><td>T:T     </td><td>A:T     </td><td>T:T     </td><td>A:G     </td><td>G:G     </td><td>G:G     </td><td>C:G     </td><td>...     </td><td>C:T     </td><td>A:G     </td><td>G:G     </td><td>A:G     </td><td>C:T     </td><td>A:A     </td><td>G:G     </td><td>A:G     </td><td>A:G     </td><td>A:A     </td></tr>\n",
       "\t<tr><td>0       </td><td>7.051415</td><td>G:G     </td><td>T:T     </td><td>T:T     </td><td>C:T     </td><td>A:G     </td><td>G:G     </td><td>G:G     </td><td>C:C     </td><td>...     </td><td>C:T     </td><td>A:G     </td><td>G:G     </td><td>A:G     </td><td>C:T     </td><td>A:G     </td><td>G:G     </td><td>A:A     </td><td>A:A     </td><td>A:A     </td></tr>\n",
       "\t<tr><td>0       </td><td>7.036194</td><td>G:G     </td><td>C:T     </td><td>T:T     </td><td>C:T     </td><td>G:G     </td><td>C:C     </td><td>G:G     </td><td>C:G     </td><td>...     </td><td>C:T     </td><td>A:G     </td><td>G:G     </td><td>G:G     </td><td>T:T     </td><td>G:G     </td><td>G:G     </td><td>A:A     </td><td>A:G     </td><td>A:T     </td></tr>\n",
       "\t<tr><td>0       </td><td>7.469054</td><td>G:G     </td><td>C:T     </td><td>T:T     </td><td>C:T     </td><td>A:G     </td><td>G:G     </td><td>G:G     </td><td>C:G     </td><td>...     </td><td>C:T     </td><td>A:G     </td><td>G:G     </td><td>G:G     </td><td>C:T     </td><td>A:G     </td><td>G:G     </td><td>A:G     </td><td>G:G     </td><td>T:T     </td></tr>\n",
       "</tbody>\n",
       "</table>\n"
      ],
      "text/latex": [
       "\\begin{tabular}{r|llllllllllllllllllllllllllllllllllllllllllllllllllllllllllllllllllllllllllllllllllllllllllllllllllllllllllllllllllllllllllllllllllllllllllllllllllllllllllllllllllllllllllllllllllll}\n",
       " W1MedWRelFFM1Bin & W1MedWRelFFM1 & rs10034661 & rs10063949 & rs1024610 & rs1024611 & rs1042713 & rs1045485 & rs10491003 & rs1049305 & ... & rs8111989 & rs8192678 & rs824205 & rs833070 & rs884736 & rs921943 & rs9469199 & rs970547 & rs9902453 & rs9939609\\\\\n",
       "\\hline\n",
       "\t 0        & 5.334544 & G:G      & C:T      & A:T      & T:T      & A:A      & C:G      & G:G      & C:G      & ...      & C:T      & A:G      & G:G      & A:G      & C:T      & A:G      & A:G      & A:A      & A:G      & A:A     \\\\\n",
       "\t 0        & 5.869926 & G:G      & C:T      & A:T      & C:T      & A:G      & G:G      & G:G      & G:G      & ...      & C:T      & A:G      & A:G      & A:G      & C:T      & A:G      & G:G      & A:G      & A:G      & T:T     \\\\\n",
       "\t 0        & 5.624455 & G:G      & T:T      & A:T      & T:T      & A:G      & G:G      & G:G      & C:G      & ...      & C:T      & A:G      & G:G      & A:G      & C:T      & A:A      & G:G      & A:G      & A:G      & A:A     \\\\\n",
       "\t 0        & 7.051415 & G:G      & T:T      & T:T      & C:T      & A:G      & G:G      & G:G      & C:C      & ...      & C:T      & A:G      & G:G      & A:G      & C:T      & A:G      & G:G      & A:A      & A:A      & A:A     \\\\\n",
       "\t 0        & 7.036194 & G:G      & C:T      & T:T      & C:T      & G:G      & C:C      & G:G      & C:G      & ...      & C:T      & A:G      & G:G      & G:G      & T:T      & G:G      & G:G      & A:A      & A:G      & A:T     \\\\\n",
       "\t 0        & 7.469054 & G:G      & C:T      & T:T      & C:T      & A:G      & G:G      & G:G      & C:G      & ...      & C:T      & A:G      & G:G      & G:G      & C:T      & A:G      & G:G      & A:G      & G:G      & T:T     \\\\\n",
       "\\end{tabular}\n"
      ],
      "text/markdown": [
       "\n",
       "| W1MedWRelFFM1Bin | W1MedWRelFFM1 | rs10034661 | rs10063949 | rs1024610 | rs1024611 | rs1042713 | rs1045485 | rs10491003 | rs1049305 | ... | rs8111989 | rs8192678 | rs824205 | rs833070 | rs884736 | rs921943 | rs9469199 | rs970547 | rs9902453 | rs9939609 |\n",
       "|---|---|---|---|---|---|---|---|---|---|---|---|---|---|---|---|---|---|---|---|---|\n",
       "| 0        | 5.334544 | G:G      | C:T      | A:T      | T:T      | A:A      | C:G      | G:G      | C:G      | ...      | C:T      | A:G      | G:G      | A:G      | C:T      | A:G      | A:G      | A:A      | A:G      | A:A      |\n",
       "| 0        | 5.869926 | G:G      | C:T      | A:T      | C:T      | A:G      | G:G      | G:G      | G:G      | ...      | C:T      | A:G      | A:G      | A:G      | C:T      | A:G      | G:G      | A:G      | A:G      | T:T      |\n",
       "| 0        | 5.624455 | G:G      | T:T      | A:T      | T:T      | A:G      | G:G      | G:G      | C:G      | ...      | C:T      | A:G      | G:G      | A:G      | C:T      | A:A      | G:G      | A:G      | A:G      | A:A      |\n",
       "| 0        | 7.051415 | G:G      | T:T      | T:T      | C:T      | A:G      | G:G      | G:G      | C:C      | ...      | C:T      | A:G      | G:G      | A:G      | C:T      | A:G      | G:G      | A:A      | A:A      | A:A      |\n",
       "| 0        | 7.036194 | G:G      | C:T      | T:T      | C:T      | G:G      | C:C      | G:G      | C:G      | ...      | C:T      | A:G      | G:G      | G:G      | T:T      | G:G      | G:G      | A:A      | A:G      | A:T      |\n",
       "| 0        | 7.469054 | G:G      | C:T      | T:T      | C:T      | A:G      | G:G      | G:G      | C:G      | ...      | C:T      | A:G      | G:G      | G:G      | C:T      | A:G      | G:G      | A:G      | G:G      | T:T      |\n",
       "\n"
      ],
      "text/plain": [
       "  W1MedWRelFFM1Bin W1MedWRelFFM1 rs10034661 rs10063949 rs1024610 rs1024611\n",
       "1 0                5.334544      G:G        C:T        A:T       T:T      \n",
       "2 0                5.869926      G:G        C:T        A:T       C:T      \n",
       "3 0                5.624455      G:G        T:T        A:T       T:T      \n",
       "4 0                7.051415      G:G        T:T        T:T       C:T      \n",
       "5 0                7.036194      G:G        C:T        T:T       C:T      \n",
       "6 0                7.469054      G:G        C:T        T:T       C:T      \n",
       "  rs1042713 rs1045485 rs10491003 rs1049305 ... rs8111989 rs8192678 rs824205\n",
       "1 A:A       C:G       G:G        C:G       ... C:T       A:G       G:G     \n",
       "2 A:G       G:G       G:G        G:G       ... C:T       A:G       A:G     \n",
       "3 A:G       G:G       G:G        C:G       ... C:T       A:G       G:G     \n",
       "4 A:G       G:G       G:G        C:C       ... C:T       A:G       G:G     \n",
       "5 G:G       C:C       G:G        C:G       ... C:T       A:G       G:G     \n",
       "6 A:G       G:G       G:G        C:G       ... C:T       A:G       G:G     \n",
       "  rs833070 rs884736 rs921943 rs9469199 rs970547 rs9902453 rs9939609\n",
       "1 A:G      C:T      A:G      A:G       A:A      A:G       A:A      \n",
       "2 A:G      C:T      A:G      G:G       A:G      A:G       T:T      \n",
       "3 A:G      C:T      A:A      G:G       A:G      A:G       A:A      \n",
       "4 A:G      C:T      A:G      G:G       A:A      A:A       A:A      \n",
       "5 G:G      T:T      G:G      G:G       A:A      A:G       A:T      \n",
       "6 G:G      C:T      A:G      G:G       A:G      G:G       T:T      "
      ]
     },
     "metadata": {},
     "output_type": "display_data"
    }
   ],
   "source": [
    "W1MedWRelFFM1Bin <- factor(as.numeric(handle_target['W1MedWRelFFM1']>=median(handle_target$W1MedWRelFFM1)))\n",
    "\n",
    "w1_med <- cbind(W1MedWRelFFM1Bin, w1_med)\n",
    "\n",
    "head(w1_med)"
   ]
  },
  {
   "cell_type": "code",
   "execution_count": 17,
   "metadata": {
    "scrolled": false
   },
   "outputs": [
    {
     "data": {
      "text/html": [
       "<table>\n",
       "<thead><tr><th scope=col>W1MedWRelFFM1Bin</th><th scope=col>rs10034661</th><th scope=col>rs10063949</th><th scope=col>rs1024610</th><th scope=col>rs1024611</th><th scope=col>rs1042713</th><th scope=col>rs1045485</th><th scope=col>rs10491003</th><th scope=col>rs1049305</th><th scope=col>rs1049434</th><th scope=col>...</th><th scope=col>rs8111989</th><th scope=col>rs8192678</th><th scope=col>rs824205</th><th scope=col>rs833070</th><th scope=col>rs884736</th><th scope=col>rs921943</th><th scope=col>rs9469199</th><th scope=col>rs970547</th><th scope=col>rs9902453</th><th scope=col>rs9939609</th></tr></thead>\n",
       "<tbody>\n",
       "\t<tr><td>0  </td><td>G:G</td><td>C:T</td><td>A:T</td><td>T:T</td><td>A:A</td><td>C:G</td><td>G:G</td><td>C:G</td><td>A:T</td><td>...</td><td>C:T</td><td>A:G</td><td>G:G</td><td>A:G</td><td>C:T</td><td>A:G</td><td>A:G</td><td>A:A</td><td>A:G</td><td>A:A</td></tr>\n",
       "\t<tr><td>0  </td><td>G:G</td><td>C:T</td><td>A:T</td><td>C:T</td><td>A:G</td><td>G:G</td><td>G:G</td><td>G:G</td><td>A:A</td><td>...</td><td>C:T</td><td>A:G</td><td>A:G</td><td>A:G</td><td>C:T</td><td>A:G</td><td>G:G</td><td>A:G</td><td>A:G</td><td>T:T</td></tr>\n",
       "\t<tr><td>0  </td><td>G:G</td><td>T:T</td><td>A:T</td><td>T:T</td><td>A:G</td><td>G:G</td><td>G:G</td><td>C:G</td><td>A:A</td><td>...</td><td>C:T</td><td>A:G</td><td>G:G</td><td>A:G</td><td>C:T</td><td>A:A</td><td>G:G</td><td>A:G</td><td>A:G</td><td>A:A</td></tr>\n",
       "\t<tr><td>0  </td><td>G:G</td><td>T:T</td><td>T:T</td><td>C:T</td><td>A:G</td><td>G:G</td><td>G:G</td><td>C:C</td><td>A:T</td><td>...</td><td>C:T</td><td>A:G</td><td>G:G</td><td>A:G</td><td>C:T</td><td>A:G</td><td>G:G</td><td>A:A</td><td>A:A</td><td>A:A</td></tr>\n",
       "\t<tr><td>0  </td><td>G:G</td><td>C:T</td><td>T:T</td><td>C:T</td><td>G:G</td><td>C:C</td><td>G:G</td><td>C:G</td><td>T:T</td><td>...</td><td>C:T</td><td>A:G</td><td>G:G</td><td>G:G</td><td>T:T</td><td>G:G</td><td>G:G</td><td>A:A</td><td>A:G</td><td>A:T</td></tr>\n",
       "\t<tr><td>0  </td><td>G:G</td><td>C:T</td><td>T:T</td><td>C:T</td><td>A:G</td><td>G:G</td><td>G:G</td><td>C:G</td><td>A:T</td><td>...</td><td>C:T</td><td>A:G</td><td>G:G</td><td>G:G</td><td>C:T</td><td>A:G</td><td>G:G</td><td>A:G</td><td>G:G</td><td>T:T</td></tr>\n",
       "</tbody>\n",
       "</table>\n"
      ],
      "text/latex": [
       "\\begin{tabular}{r|lllllllllllllllllllllllllllllllllllllllllllllllllllllllllllllllllllllllllllllllllllllllllllllllllllllllllllllllllllllllllllllllllllllllllllllllllllllllllllllllllllllllllllllllllll}\n",
       " W1MedWRelFFM1Bin & rs10034661 & rs10063949 & rs1024610 & rs1024611 & rs1042713 & rs1045485 & rs10491003 & rs1049305 & rs1049434 & ... & rs8111989 & rs8192678 & rs824205 & rs833070 & rs884736 & rs921943 & rs9469199 & rs970547 & rs9902453 & rs9939609\\\\\n",
       "\\hline\n",
       "\t 0   & G:G & C:T & A:T & T:T & A:A & C:G & G:G & C:G & A:T & ... & C:T & A:G & G:G & A:G & C:T & A:G & A:G & A:A & A:G & A:A\\\\\n",
       "\t 0   & G:G & C:T & A:T & C:T & A:G & G:G & G:G & G:G & A:A & ... & C:T & A:G & A:G & A:G & C:T & A:G & G:G & A:G & A:G & T:T\\\\\n",
       "\t 0   & G:G & T:T & A:T & T:T & A:G & G:G & G:G & C:G & A:A & ... & C:T & A:G & G:G & A:G & C:T & A:A & G:G & A:G & A:G & A:A\\\\\n",
       "\t 0   & G:G & T:T & T:T & C:T & A:G & G:G & G:G & C:C & A:T & ... & C:T & A:G & G:G & A:G & C:T & A:G & G:G & A:A & A:A & A:A\\\\\n",
       "\t 0   & G:G & C:T & T:T & C:T & G:G & C:C & G:G & C:G & T:T & ... & C:T & A:G & G:G & G:G & T:T & G:G & G:G & A:A & A:G & A:T\\\\\n",
       "\t 0   & G:G & C:T & T:T & C:T & A:G & G:G & G:G & C:G & A:T & ... & C:T & A:G & G:G & G:G & C:T & A:G & G:G & A:G & G:G & T:T\\\\\n",
       "\\end{tabular}\n"
      ],
      "text/markdown": [
       "\n",
       "| W1MedWRelFFM1Bin | rs10034661 | rs10063949 | rs1024610 | rs1024611 | rs1042713 | rs1045485 | rs10491003 | rs1049305 | rs1049434 | ... | rs8111989 | rs8192678 | rs824205 | rs833070 | rs884736 | rs921943 | rs9469199 | rs970547 | rs9902453 | rs9939609 |\n",
       "|---|---|---|---|---|---|---|---|---|---|---|---|---|---|---|---|---|---|---|---|---|\n",
       "| 0   | G:G | C:T | A:T | T:T | A:A | C:G | G:G | C:G | A:T | ... | C:T | A:G | G:G | A:G | C:T | A:G | A:G | A:A | A:G | A:A |\n",
       "| 0   | G:G | C:T | A:T | C:T | A:G | G:G | G:G | G:G | A:A | ... | C:T | A:G | A:G | A:G | C:T | A:G | G:G | A:G | A:G | T:T |\n",
       "| 0   | G:G | T:T | A:T | T:T | A:G | G:G | G:G | C:G | A:A | ... | C:T | A:G | G:G | A:G | C:T | A:A | G:G | A:G | A:G | A:A |\n",
       "| 0   | G:G | T:T | T:T | C:T | A:G | G:G | G:G | C:C | A:T | ... | C:T | A:G | G:G | A:G | C:T | A:G | G:G | A:A | A:A | A:A |\n",
       "| 0   | G:G | C:T | T:T | C:T | G:G | C:C | G:G | C:G | T:T | ... | C:T | A:G | G:G | G:G | T:T | G:G | G:G | A:A | A:G | A:T |\n",
       "| 0   | G:G | C:T | T:T | C:T | A:G | G:G | G:G | C:G | A:T | ... | C:T | A:G | G:G | G:G | C:T | A:G | G:G | A:G | G:G | T:T |\n",
       "\n"
      ],
      "text/plain": [
       "  W1MedWRelFFM1Bin rs10034661 rs10063949 rs1024610 rs1024611 rs1042713\n",
       "1 0                G:G        C:T        A:T       T:T       A:A      \n",
       "2 0                G:G        C:T        A:T       C:T       A:G      \n",
       "3 0                G:G        T:T        A:T       T:T       A:G      \n",
       "4 0                G:G        T:T        T:T       C:T       A:G      \n",
       "5 0                G:G        C:T        T:T       C:T       G:G      \n",
       "6 0                G:G        C:T        T:T       C:T       A:G      \n",
       "  rs1045485 rs10491003 rs1049305 rs1049434 ... rs8111989 rs8192678 rs824205\n",
       "1 C:G       G:G        C:G       A:T       ... C:T       A:G       G:G     \n",
       "2 G:G       G:G        G:G       A:A       ... C:T       A:G       A:G     \n",
       "3 G:G       G:G        C:G       A:A       ... C:T       A:G       G:G     \n",
       "4 G:G       G:G        C:C       A:T       ... C:T       A:G       G:G     \n",
       "5 C:C       G:G        C:G       T:T       ... C:T       A:G       G:G     \n",
       "6 G:G       G:G        C:G       A:T       ... C:T       A:G       G:G     \n",
       "  rs833070 rs884736 rs921943 rs9469199 rs970547 rs9902453 rs9939609\n",
       "1 A:G      C:T      A:G      A:G       A:A      A:G       A:A      \n",
       "2 A:G      C:T      A:G      G:G       A:G      A:G       T:T      \n",
       "3 A:G      C:T      A:A      G:G       A:G      A:G       A:A      \n",
       "4 A:G      C:T      A:G      G:G       A:A      A:A       A:A      \n",
       "5 G:G      T:T      G:G      G:G       A:A      A:G       A:T      \n",
       "6 G:G      C:T      A:G      G:G       A:G      G:G       T:T      "
      ]
     },
     "metadata": {},
     "output_type": "display_data"
    }
   ],
   "source": [
    "w1_med$W1MedWRelFFM1 <- NULL\n",
    "head(w1_med)"
   ]
  },
  {
   "cell_type": "markdown",
   "metadata": {},
   "source": [
    "#### Fatigue rate relative to FFM1 in Wingate 1 (W1DifWRelFFM1) <a class=\"anchor\" id=\"9\"></a>"
   ]
  },
  {
   "cell_type": "markdown",
   "metadata": {},
   "source": [
    "* [Returning to the index of contents](#index)"
   ]
  },
  {
   "cell_type": "code",
   "execution_count": 19,
   "metadata": {},
   "outputs": [
    {
     "data": {
      "text/html": [
       "<table>\n",
       "<thead><tr><th scope=col>W1DifWRelFFM1</th><th scope=col>rs10034661</th><th scope=col>rs10063949</th><th scope=col>rs1024610</th><th scope=col>rs1024611</th><th scope=col>rs1042713</th><th scope=col>rs1045485</th><th scope=col>rs10491003</th><th scope=col>rs1049305</th><th scope=col>rs1049434</th><th scope=col>...</th><th scope=col>rs8111989</th><th scope=col>rs8192678</th><th scope=col>rs824205</th><th scope=col>rs833070</th><th scope=col>rs884736</th><th scope=col>rs921943</th><th scope=col>rs9469199</th><th scope=col>rs970547</th><th scope=col>rs9902453</th><th scope=col>rs9939609</th></tr></thead>\n",
       "<tbody>\n",
       "\t<tr><td>4.972002</td><td>G:G     </td><td>C:T     </td><td>A:T     </td><td>T:T     </td><td>A:A     </td><td>C:G     </td><td>G:G     </td><td>C:G     </td><td>A:T     </td><td>...     </td><td>C:T     </td><td>A:G     </td><td>G:G     </td><td>A:G     </td><td>C:T     </td><td>A:G     </td><td>A:G     </td><td>A:A     </td><td>A:G     </td><td>A:A     </td></tr>\n",
       "\t<tr><td>4.332564</td><td>G:G     </td><td>C:T     </td><td>A:T     </td><td>C:T     </td><td>A:G     </td><td>G:G     </td><td>G:G     </td><td>G:G     </td><td>A:A     </td><td>...     </td><td>C:T     </td><td>A:G     </td><td>A:G     </td><td>A:G     </td><td>C:T     </td><td>A:G     </td><td>G:G     </td><td>A:G     </td><td>A:G     </td><td>T:T     </td></tr>\n",
       "\t<tr><td>5.624455</td><td>G:G     </td><td>T:T     </td><td>A:T     </td><td>T:T     </td><td>A:G     </td><td>G:G     </td><td>G:G     </td><td>C:G     </td><td>A:A     </td><td>...     </td><td>C:T     </td><td>A:G     </td><td>G:G     </td><td>A:G     </td><td>C:T     </td><td>A:A     </td><td>G:G     </td><td>A:G     </td><td>A:G     </td><td>A:A     </td></tr>\n",
       "\t<tr><td>3.817005</td><td>G:G     </td><td>T:T     </td><td>T:T     </td><td>C:T     </td><td>A:G     </td><td>G:G     </td><td>G:G     </td><td>C:C     </td><td>A:T     </td><td>...     </td><td>C:T     </td><td>A:G     </td><td>G:G     </td><td>A:G     </td><td>C:T     </td><td>A:G     </td><td>G:G     </td><td>A:A     </td><td>A:A     </td><td>A:A     </td></tr>\n",
       "\t<tr><td>6.189916</td><td>G:G     </td><td>C:T     </td><td>T:T     </td><td>C:T     </td><td>G:G     </td><td>C:C     </td><td>G:G     </td><td>C:G     </td><td>T:T     </td><td>...     </td><td>C:T     </td><td>A:G     </td><td>G:G     </td><td>G:G     </td><td>T:T     </td><td>G:G     </td><td>G:G     </td><td>A:A     </td><td>A:G     </td><td>A:T     </td></tr>\n",
       "\t<tr><td>3.847074</td><td>G:G     </td><td>C:T     </td><td>T:T     </td><td>C:T     </td><td>A:G     </td><td>G:G     </td><td>G:G     </td><td>C:G     </td><td>A:T     </td><td>...     </td><td>C:T     </td><td>A:G     </td><td>G:G     </td><td>G:G     </td><td>C:T     </td><td>A:G     </td><td>G:G     </td><td>A:G     </td><td>G:G     </td><td>T:T     </td></tr>\n",
       "</tbody>\n",
       "</table>\n"
      ],
      "text/latex": [
       "\\begin{tabular}{r|lllllllllllllllllllllllllllllllllllllllllllllllllllllllllllllllllllllllllllllllllllllllllllllllllllllllllllllllllllllllllllllllllllllllllllllllllllllllllllllllllllllllllllllllllll}\n",
       " W1DifWRelFFM1 & rs10034661 & rs10063949 & rs1024610 & rs1024611 & rs1042713 & rs1045485 & rs10491003 & rs1049305 & rs1049434 & ... & rs8111989 & rs8192678 & rs824205 & rs833070 & rs884736 & rs921943 & rs9469199 & rs970547 & rs9902453 & rs9939609\\\\\n",
       "\\hline\n",
       "\t 4.972002 & G:G      & C:T      & A:T      & T:T      & A:A      & C:G      & G:G      & C:G      & A:T      & ...      & C:T      & A:G      & G:G      & A:G      & C:T      & A:G      & A:G      & A:A      & A:G      & A:A     \\\\\n",
       "\t 4.332564 & G:G      & C:T      & A:T      & C:T      & A:G      & G:G      & G:G      & G:G      & A:A      & ...      & C:T      & A:G      & A:G      & A:G      & C:T      & A:G      & G:G      & A:G      & A:G      & T:T     \\\\\n",
       "\t 5.624455 & G:G      & T:T      & A:T      & T:T      & A:G      & G:G      & G:G      & C:G      & A:A      & ...      & C:T      & A:G      & G:G      & A:G      & C:T      & A:A      & G:G      & A:G      & A:G      & A:A     \\\\\n",
       "\t 3.817005 & G:G      & T:T      & T:T      & C:T      & A:G      & G:G      & G:G      & C:C      & A:T      & ...      & C:T      & A:G      & G:G      & A:G      & C:T      & A:G      & G:G      & A:A      & A:A      & A:A     \\\\\n",
       "\t 6.189916 & G:G      & C:T      & T:T      & C:T      & G:G      & C:C      & G:G      & C:G      & T:T      & ...      & C:T      & A:G      & G:G      & G:G      & T:T      & G:G      & G:G      & A:A      & A:G      & A:T     \\\\\n",
       "\t 3.847074 & G:G      & C:T      & T:T      & C:T      & A:G      & G:G      & G:G      & C:G      & A:T      & ...      & C:T      & A:G      & G:G      & G:G      & C:T      & A:G      & G:G      & A:G      & G:G      & T:T     \\\\\n",
       "\\end{tabular}\n"
      ],
      "text/markdown": [
       "\n",
       "| W1DifWRelFFM1 | rs10034661 | rs10063949 | rs1024610 | rs1024611 | rs1042713 | rs1045485 | rs10491003 | rs1049305 | rs1049434 | ... | rs8111989 | rs8192678 | rs824205 | rs833070 | rs884736 | rs921943 | rs9469199 | rs970547 | rs9902453 | rs9939609 |\n",
       "|---|---|---|---|---|---|---|---|---|---|---|---|---|---|---|---|---|---|---|---|---|\n",
       "| 4.972002 | G:G      | C:T      | A:T      | T:T      | A:A      | C:G      | G:G      | C:G      | A:T      | ...      | C:T      | A:G      | G:G      | A:G      | C:T      | A:G      | A:G      | A:A      | A:G      | A:A      |\n",
       "| 4.332564 | G:G      | C:T      | A:T      | C:T      | A:G      | G:G      | G:G      | G:G      | A:A      | ...      | C:T      | A:G      | A:G      | A:G      | C:T      | A:G      | G:G      | A:G      | A:G      | T:T      |\n",
       "| 5.624455 | G:G      | T:T      | A:T      | T:T      | A:G      | G:G      | G:G      | C:G      | A:A      | ...      | C:T      | A:G      | G:G      | A:G      | C:T      | A:A      | G:G      | A:G      | A:G      | A:A      |\n",
       "| 3.817005 | G:G      | T:T      | T:T      | C:T      | A:G      | G:G      | G:G      | C:C      | A:T      | ...      | C:T      | A:G      | G:G      | A:G      | C:T      | A:G      | G:G      | A:A      | A:A      | A:A      |\n",
       "| 6.189916 | G:G      | C:T      | T:T      | C:T      | G:G      | C:C      | G:G      | C:G      | T:T      | ...      | C:T      | A:G      | G:G      | G:G      | T:T      | G:G      | G:G      | A:A      | A:G      | A:T      |\n",
       "| 3.847074 | G:G      | C:T      | T:T      | C:T      | A:G      | G:G      | G:G      | C:G      | A:T      | ...      | C:T      | A:G      | G:G      | G:G      | C:T      | A:G      | G:G      | A:G      | G:G      | T:T      |\n",
       "\n"
      ],
      "text/plain": [
       "  W1DifWRelFFM1 rs10034661 rs10063949 rs1024610 rs1024611 rs1042713 rs1045485\n",
       "1 4.972002      G:G        C:T        A:T       T:T       A:A       C:G      \n",
       "2 4.332564      G:G        C:T        A:T       C:T       A:G       G:G      \n",
       "3 5.624455      G:G        T:T        A:T       T:T       A:G       G:G      \n",
       "4 3.817005      G:G        T:T        T:T       C:T       A:G       G:G      \n",
       "5 6.189916      G:G        C:T        T:T       C:T       G:G       C:C      \n",
       "6 3.847074      G:G        C:T        T:T       C:T       A:G       G:G      \n",
       "  rs10491003 rs1049305 rs1049434 ... rs8111989 rs8192678 rs824205 rs833070\n",
       "1 G:G        C:G       A:T       ... C:T       A:G       G:G      A:G     \n",
       "2 G:G        G:G       A:A       ... C:T       A:G       A:G      A:G     \n",
       "3 G:G        C:G       A:A       ... C:T       A:G       G:G      A:G     \n",
       "4 G:G        C:C       A:T       ... C:T       A:G       G:G      A:G     \n",
       "5 G:G        C:G       T:T       ... C:T       A:G       G:G      G:G     \n",
       "6 G:G        C:G       A:T       ... C:T       A:G       G:G      G:G     \n",
       "  rs884736 rs921943 rs9469199 rs970547 rs9902453 rs9939609\n",
       "1 C:T      A:G      A:G       A:A      A:G       A:A      \n",
       "2 C:T      A:G      G:G       A:G      A:G       T:T      \n",
       "3 C:T      A:A      G:G       A:G      A:G       A:A      \n",
       "4 C:T      A:G      G:G       A:A      A:A       A:A      \n",
       "5 T:T      G:G      G:G       A:A      A:G       A:T      \n",
       "6 C:T      A:G      G:G       A:G      G:G       T:T      "
      ]
     },
     "metadata": {},
     "output_type": "display_data"
    }
   ],
   "source": [
    "ind_w1 <- cbind(handle_target['W1DifWRelFFM1'],handle_genetic) \n",
    "\n",
    "rownames(ind_w1) <- NULL\n",
    "\n",
    "head(ind_w1)"
   ]
  },
  {
   "cell_type": "code",
   "execution_count": 20,
   "metadata": {},
   "outputs": [
    {
     "data": {
      "text/html": [
       "<table>\n",
       "<thead><tr><th scope=col>W1DifWRelFFM1Bin</th><th scope=col>W1DifWRelFFM1</th><th scope=col>rs10034661</th><th scope=col>rs10063949</th><th scope=col>rs1024610</th><th scope=col>rs1024611</th><th scope=col>rs1042713</th><th scope=col>rs1045485</th><th scope=col>rs10491003</th><th scope=col>rs1049305</th><th scope=col>...</th><th scope=col>rs8111989</th><th scope=col>rs8192678</th><th scope=col>rs824205</th><th scope=col>rs833070</th><th scope=col>rs884736</th><th scope=col>rs921943</th><th scope=col>rs9469199</th><th scope=col>rs970547</th><th scope=col>rs9902453</th><th scope=col>rs9939609</th></tr></thead>\n",
       "<tbody>\n",
       "\t<tr><td>0       </td><td>4.972002</td><td>G:G     </td><td>C:T     </td><td>A:T     </td><td>T:T     </td><td>A:A     </td><td>C:G     </td><td>G:G     </td><td>C:G     </td><td>...     </td><td>C:T     </td><td>A:G     </td><td>G:G     </td><td>A:G     </td><td>C:T     </td><td>A:G     </td><td>A:G     </td><td>A:A     </td><td>A:G     </td><td>A:A     </td></tr>\n",
       "\t<tr><td>0       </td><td>4.332564</td><td>G:G     </td><td>C:T     </td><td>A:T     </td><td>C:T     </td><td>A:G     </td><td>G:G     </td><td>G:G     </td><td>G:G     </td><td>...     </td><td>C:T     </td><td>A:G     </td><td>A:G     </td><td>A:G     </td><td>C:T     </td><td>A:G     </td><td>G:G     </td><td>A:G     </td><td>A:G     </td><td>T:T     </td></tr>\n",
       "\t<tr><td>0       </td><td>5.624455</td><td>G:G     </td><td>T:T     </td><td>A:T     </td><td>T:T     </td><td>A:G     </td><td>G:G     </td><td>G:G     </td><td>C:G     </td><td>...     </td><td>C:T     </td><td>A:G     </td><td>G:G     </td><td>A:G     </td><td>C:T     </td><td>A:A     </td><td>G:G     </td><td>A:G     </td><td>A:G     </td><td>A:A     </td></tr>\n",
       "\t<tr><td>0       </td><td>3.817005</td><td>G:G     </td><td>T:T     </td><td>T:T     </td><td>C:T     </td><td>A:G     </td><td>G:G     </td><td>G:G     </td><td>C:C     </td><td>...     </td><td>C:T     </td><td>A:G     </td><td>G:G     </td><td>A:G     </td><td>C:T     </td><td>A:G     </td><td>G:G     </td><td>A:A     </td><td>A:A     </td><td>A:A     </td></tr>\n",
       "\t<tr><td>1       </td><td>6.189916</td><td>G:G     </td><td>C:T     </td><td>T:T     </td><td>C:T     </td><td>G:G     </td><td>C:C     </td><td>G:G     </td><td>C:G     </td><td>...     </td><td>C:T     </td><td>A:G     </td><td>G:G     </td><td>G:G     </td><td>T:T     </td><td>G:G     </td><td>G:G     </td><td>A:A     </td><td>A:G     </td><td>A:T     </td></tr>\n",
       "\t<tr><td>0       </td><td>3.847074</td><td>G:G     </td><td>C:T     </td><td>T:T     </td><td>C:T     </td><td>A:G     </td><td>G:G     </td><td>G:G     </td><td>C:G     </td><td>...     </td><td>C:T     </td><td>A:G     </td><td>G:G     </td><td>G:G     </td><td>C:T     </td><td>A:G     </td><td>G:G     </td><td>A:G     </td><td>G:G     </td><td>T:T     </td></tr>\n",
       "</tbody>\n",
       "</table>\n"
      ],
      "text/latex": [
       "\\begin{tabular}{r|llllllllllllllllllllllllllllllllllllllllllllllllllllllllllllllllllllllllllllllllllllllllllllllllllllllllllllllllllllllllllllllllllllllllllllllllllllllllllllllllllllllllllllllllllll}\n",
       " W1DifWRelFFM1Bin & W1DifWRelFFM1 & rs10034661 & rs10063949 & rs1024610 & rs1024611 & rs1042713 & rs1045485 & rs10491003 & rs1049305 & ... & rs8111989 & rs8192678 & rs824205 & rs833070 & rs884736 & rs921943 & rs9469199 & rs970547 & rs9902453 & rs9939609\\\\\n",
       "\\hline\n",
       "\t 0        & 4.972002 & G:G      & C:T      & A:T      & T:T      & A:A      & C:G      & G:G      & C:G      & ...      & C:T      & A:G      & G:G      & A:G      & C:T      & A:G      & A:G      & A:A      & A:G      & A:A     \\\\\n",
       "\t 0        & 4.332564 & G:G      & C:T      & A:T      & C:T      & A:G      & G:G      & G:G      & G:G      & ...      & C:T      & A:G      & A:G      & A:G      & C:T      & A:G      & G:G      & A:G      & A:G      & T:T     \\\\\n",
       "\t 0        & 5.624455 & G:G      & T:T      & A:T      & T:T      & A:G      & G:G      & G:G      & C:G      & ...      & C:T      & A:G      & G:G      & A:G      & C:T      & A:A      & G:G      & A:G      & A:G      & A:A     \\\\\n",
       "\t 0        & 3.817005 & G:G      & T:T      & T:T      & C:T      & A:G      & G:G      & G:G      & C:C      & ...      & C:T      & A:G      & G:G      & A:G      & C:T      & A:G      & G:G      & A:A      & A:A      & A:A     \\\\\n",
       "\t 1        & 6.189916 & G:G      & C:T      & T:T      & C:T      & G:G      & C:C      & G:G      & C:G      & ...      & C:T      & A:G      & G:G      & G:G      & T:T      & G:G      & G:G      & A:A      & A:G      & A:T     \\\\\n",
       "\t 0        & 3.847074 & G:G      & C:T      & T:T      & C:T      & A:G      & G:G      & G:G      & C:G      & ...      & C:T      & A:G      & G:G      & G:G      & C:T      & A:G      & G:G      & A:G      & G:G      & T:T     \\\\\n",
       "\\end{tabular}\n"
      ],
      "text/markdown": [
       "\n",
       "| W1DifWRelFFM1Bin | W1DifWRelFFM1 | rs10034661 | rs10063949 | rs1024610 | rs1024611 | rs1042713 | rs1045485 | rs10491003 | rs1049305 | ... | rs8111989 | rs8192678 | rs824205 | rs833070 | rs884736 | rs921943 | rs9469199 | rs970547 | rs9902453 | rs9939609 |\n",
       "|---|---|---|---|---|---|---|---|---|---|---|---|---|---|---|---|---|---|---|---|---|\n",
       "| 0        | 4.972002 | G:G      | C:T      | A:T      | T:T      | A:A      | C:G      | G:G      | C:G      | ...      | C:T      | A:G      | G:G      | A:G      | C:T      | A:G      | A:G      | A:A      | A:G      | A:A      |\n",
       "| 0        | 4.332564 | G:G      | C:T      | A:T      | C:T      | A:G      | G:G      | G:G      | G:G      | ...      | C:T      | A:G      | A:G      | A:G      | C:T      | A:G      | G:G      | A:G      | A:G      | T:T      |\n",
       "| 0        | 5.624455 | G:G      | T:T      | A:T      | T:T      | A:G      | G:G      | G:G      | C:G      | ...      | C:T      | A:G      | G:G      | A:G      | C:T      | A:A      | G:G      | A:G      | A:G      | A:A      |\n",
       "| 0        | 3.817005 | G:G      | T:T      | T:T      | C:T      | A:G      | G:G      | G:G      | C:C      | ...      | C:T      | A:G      | G:G      | A:G      | C:T      | A:G      | G:G      | A:A      | A:A      | A:A      |\n",
       "| 1        | 6.189916 | G:G      | C:T      | T:T      | C:T      | G:G      | C:C      | G:G      | C:G      | ...      | C:T      | A:G      | G:G      | G:G      | T:T      | G:G      | G:G      | A:A      | A:G      | A:T      |\n",
       "| 0        | 3.847074 | G:G      | C:T      | T:T      | C:T      | A:G      | G:G      | G:G      | C:G      | ...      | C:T      | A:G      | G:G      | G:G      | C:T      | A:G      | G:G      | A:G      | G:G      | T:T      |\n",
       "\n"
      ],
      "text/plain": [
       "  W1DifWRelFFM1Bin W1DifWRelFFM1 rs10034661 rs10063949 rs1024610 rs1024611\n",
       "1 0                4.972002      G:G        C:T        A:T       T:T      \n",
       "2 0                4.332564      G:G        C:T        A:T       C:T      \n",
       "3 0                5.624455      G:G        T:T        A:T       T:T      \n",
       "4 0                3.817005      G:G        T:T        T:T       C:T      \n",
       "5 1                6.189916      G:G        C:T        T:T       C:T      \n",
       "6 0                3.847074      G:G        C:T        T:T       C:T      \n",
       "  rs1042713 rs1045485 rs10491003 rs1049305 ... rs8111989 rs8192678 rs824205\n",
       "1 A:A       C:G       G:G        C:G       ... C:T       A:G       G:G     \n",
       "2 A:G       G:G       G:G        G:G       ... C:T       A:G       A:G     \n",
       "3 A:G       G:G       G:G        C:G       ... C:T       A:G       G:G     \n",
       "4 A:G       G:G       G:G        C:C       ... C:T       A:G       G:G     \n",
       "5 G:G       C:C       G:G        C:G       ... C:T       A:G       G:G     \n",
       "6 A:G       G:G       G:G        C:G       ... C:T       A:G       G:G     \n",
       "  rs833070 rs884736 rs921943 rs9469199 rs970547 rs9902453 rs9939609\n",
       "1 A:G      C:T      A:G      A:G       A:A      A:G       A:A      \n",
       "2 A:G      C:T      A:G      G:G       A:G      A:G       T:T      \n",
       "3 A:G      C:T      A:A      G:G       A:G      A:G       A:A      \n",
       "4 A:G      C:T      A:G      G:G       A:A      A:A       A:A      \n",
       "5 G:G      T:T      G:G      G:G       A:A      A:G       A:T      \n",
       "6 G:G      C:T      A:G      G:G       A:G      G:G       T:T      "
      ]
     },
     "metadata": {},
     "output_type": "display_data"
    }
   ],
   "source": [
    "W1DifWRelFFM1Bin <- factor(as.numeric(handle_target['W1DifWRelFFM1']>=median(handle_target$W1DifWRelFFM1)))\n",
    "\n",
    "ind_w1<- cbind(W1DifWRelFFM1Bin, ind_w1)\n",
    "\n",
    "head(ind_w1)"
   ]
  },
  {
   "cell_type": "code",
   "execution_count": 21,
   "metadata": {},
   "outputs": [
    {
     "data": {
      "text/html": [
       "<table>\n",
       "<thead><tr><th scope=col>W1DifWRelFFM1Bin</th><th scope=col>rs10034661</th><th scope=col>rs10063949</th><th scope=col>rs1024610</th><th scope=col>rs1024611</th><th scope=col>rs1042713</th><th scope=col>rs1045485</th><th scope=col>rs10491003</th><th scope=col>rs1049305</th><th scope=col>rs1049434</th><th scope=col>...</th><th scope=col>rs8111989</th><th scope=col>rs8192678</th><th scope=col>rs824205</th><th scope=col>rs833070</th><th scope=col>rs884736</th><th scope=col>rs921943</th><th scope=col>rs9469199</th><th scope=col>rs970547</th><th scope=col>rs9902453</th><th scope=col>rs9939609</th></tr></thead>\n",
       "<tbody>\n",
       "\t<tr><td>0  </td><td>G:G</td><td>C:T</td><td>A:T</td><td>T:T</td><td>A:A</td><td>C:G</td><td>G:G</td><td>C:G</td><td>A:T</td><td>...</td><td>C:T</td><td>A:G</td><td>G:G</td><td>A:G</td><td>C:T</td><td>A:G</td><td>A:G</td><td>A:A</td><td>A:G</td><td>A:A</td></tr>\n",
       "\t<tr><td>0  </td><td>G:G</td><td>C:T</td><td>A:T</td><td>C:T</td><td>A:G</td><td>G:G</td><td>G:G</td><td>G:G</td><td>A:A</td><td>...</td><td>C:T</td><td>A:G</td><td>A:G</td><td>A:G</td><td>C:T</td><td>A:G</td><td>G:G</td><td>A:G</td><td>A:G</td><td>T:T</td></tr>\n",
       "\t<tr><td>0  </td><td>G:G</td><td>T:T</td><td>A:T</td><td>T:T</td><td>A:G</td><td>G:G</td><td>G:G</td><td>C:G</td><td>A:A</td><td>...</td><td>C:T</td><td>A:G</td><td>G:G</td><td>A:G</td><td>C:T</td><td>A:A</td><td>G:G</td><td>A:G</td><td>A:G</td><td>A:A</td></tr>\n",
       "\t<tr><td>0  </td><td>G:G</td><td>T:T</td><td>T:T</td><td>C:T</td><td>A:G</td><td>G:G</td><td>G:G</td><td>C:C</td><td>A:T</td><td>...</td><td>C:T</td><td>A:G</td><td>G:G</td><td>A:G</td><td>C:T</td><td>A:G</td><td>G:G</td><td>A:A</td><td>A:A</td><td>A:A</td></tr>\n",
       "\t<tr><td>1  </td><td>G:G</td><td>C:T</td><td>T:T</td><td>C:T</td><td>G:G</td><td>C:C</td><td>G:G</td><td>C:G</td><td>T:T</td><td>...</td><td>C:T</td><td>A:G</td><td>G:G</td><td>G:G</td><td>T:T</td><td>G:G</td><td>G:G</td><td>A:A</td><td>A:G</td><td>A:T</td></tr>\n",
       "\t<tr><td>0  </td><td>G:G</td><td>C:T</td><td>T:T</td><td>C:T</td><td>A:G</td><td>G:G</td><td>G:G</td><td>C:G</td><td>A:T</td><td>...</td><td>C:T</td><td>A:G</td><td>G:G</td><td>G:G</td><td>C:T</td><td>A:G</td><td>G:G</td><td>A:G</td><td>G:G</td><td>T:T</td></tr>\n",
       "</tbody>\n",
       "</table>\n"
      ],
      "text/latex": [
       "\\begin{tabular}{r|lllllllllllllllllllllllllllllllllllllllllllllllllllllllllllllllllllllllllllllllllllllllllllllllllllllllllllllllllllllllllllllllllllllllllllllllllllllllllllllllllllllllllllllllllll}\n",
       " W1DifWRelFFM1Bin & rs10034661 & rs10063949 & rs1024610 & rs1024611 & rs1042713 & rs1045485 & rs10491003 & rs1049305 & rs1049434 & ... & rs8111989 & rs8192678 & rs824205 & rs833070 & rs884736 & rs921943 & rs9469199 & rs970547 & rs9902453 & rs9939609\\\\\n",
       "\\hline\n",
       "\t 0   & G:G & C:T & A:T & T:T & A:A & C:G & G:G & C:G & A:T & ... & C:T & A:G & G:G & A:G & C:T & A:G & A:G & A:A & A:G & A:A\\\\\n",
       "\t 0   & G:G & C:T & A:T & C:T & A:G & G:G & G:G & G:G & A:A & ... & C:T & A:G & A:G & A:G & C:T & A:G & G:G & A:G & A:G & T:T\\\\\n",
       "\t 0   & G:G & T:T & A:T & T:T & A:G & G:G & G:G & C:G & A:A & ... & C:T & A:G & G:G & A:G & C:T & A:A & G:G & A:G & A:G & A:A\\\\\n",
       "\t 0   & G:G & T:T & T:T & C:T & A:G & G:G & G:G & C:C & A:T & ... & C:T & A:G & G:G & A:G & C:T & A:G & G:G & A:A & A:A & A:A\\\\\n",
       "\t 1   & G:G & C:T & T:T & C:T & G:G & C:C & G:G & C:G & T:T & ... & C:T & A:G & G:G & G:G & T:T & G:G & G:G & A:A & A:G & A:T\\\\\n",
       "\t 0   & G:G & C:T & T:T & C:T & A:G & G:G & G:G & C:G & A:T & ... & C:T & A:G & G:G & G:G & C:T & A:G & G:G & A:G & G:G & T:T\\\\\n",
       "\\end{tabular}\n"
      ],
      "text/markdown": [
       "\n",
       "| W1DifWRelFFM1Bin | rs10034661 | rs10063949 | rs1024610 | rs1024611 | rs1042713 | rs1045485 | rs10491003 | rs1049305 | rs1049434 | ... | rs8111989 | rs8192678 | rs824205 | rs833070 | rs884736 | rs921943 | rs9469199 | rs970547 | rs9902453 | rs9939609 |\n",
       "|---|---|---|---|---|---|---|---|---|---|---|---|---|---|---|---|---|---|---|---|---|\n",
       "| 0   | G:G | C:T | A:T | T:T | A:A | C:G | G:G | C:G | A:T | ... | C:T | A:G | G:G | A:G | C:T | A:G | A:G | A:A | A:G | A:A |\n",
       "| 0   | G:G | C:T | A:T | C:T | A:G | G:G | G:G | G:G | A:A | ... | C:T | A:G | A:G | A:G | C:T | A:G | G:G | A:G | A:G | T:T |\n",
       "| 0   | G:G | T:T | A:T | T:T | A:G | G:G | G:G | C:G | A:A | ... | C:T | A:G | G:G | A:G | C:T | A:A | G:G | A:G | A:G | A:A |\n",
       "| 0   | G:G | T:T | T:T | C:T | A:G | G:G | G:G | C:C | A:T | ... | C:T | A:G | G:G | A:G | C:T | A:G | G:G | A:A | A:A | A:A |\n",
       "| 1   | G:G | C:T | T:T | C:T | G:G | C:C | G:G | C:G | T:T | ... | C:T | A:G | G:G | G:G | T:T | G:G | G:G | A:A | A:G | A:T |\n",
       "| 0   | G:G | C:T | T:T | C:T | A:G | G:G | G:G | C:G | A:T | ... | C:T | A:G | G:G | G:G | C:T | A:G | G:G | A:G | G:G | T:T |\n",
       "\n"
      ],
      "text/plain": [
       "  W1DifWRelFFM1Bin rs10034661 rs10063949 rs1024610 rs1024611 rs1042713\n",
       "1 0                G:G        C:T        A:T       T:T       A:A      \n",
       "2 0                G:G        C:T        A:T       C:T       A:G      \n",
       "3 0                G:G        T:T        A:T       T:T       A:G      \n",
       "4 0                G:G        T:T        T:T       C:T       A:G      \n",
       "5 1                G:G        C:T        T:T       C:T       G:G      \n",
       "6 0                G:G        C:T        T:T       C:T       A:G      \n",
       "  rs1045485 rs10491003 rs1049305 rs1049434 ... rs8111989 rs8192678 rs824205\n",
       "1 C:G       G:G        C:G       A:T       ... C:T       A:G       G:G     \n",
       "2 G:G       G:G        G:G       A:A       ... C:T       A:G       A:G     \n",
       "3 G:G       G:G        C:G       A:A       ... C:T       A:G       G:G     \n",
       "4 G:G       G:G        C:C       A:T       ... C:T       A:G       G:G     \n",
       "5 C:C       G:G        C:G       T:T       ... C:T       A:G       G:G     \n",
       "6 G:G       G:G        C:G       A:T       ... C:T       A:G       G:G     \n",
       "  rs833070 rs884736 rs921943 rs9469199 rs970547 rs9902453 rs9939609\n",
       "1 A:G      C:T      A:G      A:G       A:A      A:G       A:A      \n",
       "2 A:G      C:T      A:G      G:G       A:G      A:G       T:T      \n",
       "3 A:G      C:T      A:A      G:G       A:G      A:G       A:A      \n",
       "4 A:G      C:T      A:G      G:G       A:A      A:A       A:A      \n",
       "5 G:G      T:T      G:G      G:G       A:A      A:G       A:T      \n",
       "6 G:G      C:T      A:G      G:G       A:G      G:G       T:T      "
      ]
     },
     "metadata": {},
     "output_type": "display_data"
    }
   ],
   "source": [
    "ind_w1$W1DifWRelFFM1 <- NULL\n",
    "head(ind_w1)"
   ]
  },
  {
   "cell_type": "markdown",
   "metadata": {},
   "source": [
    "#### Maximum power relative to FFM1 in Wingate 2 (W2MaxWRelFFM1) <a class=\"anchor\" id=\"10\"></a>"
   ]
  },
  {
   "cell_type": "markdown",
   "metadata": {},
   "source": [
    "* [Returning to the index of contents](#index)"
   ]
  },
  {
   "cell_type": "code",
   "execution_count": 23,
   "metadata": {
    "scrolled": true
   },
   "outputs": [
    {
     "data": {
      "text/html": [
       "<table>\n",
       "<thead><tr><th scope=col>W2MaxWRelFFM1</th><th scope=col>rs10034661</th><th scope=col>rs10063949</th><th scope=col>rs1024610</th><th scope=col>rs1024611</th><th scope=col>rs1042713</th><th scope=col>rs1045485</th><th scope=col>rs10491003</th><th scope=col>rs1049305</th><th scope=col>rs1049434</th><th scope=col>...</th><th scope=col>rs8111989</th><th scope=col>rs8192678</th><th scope=col>rs824205</th><th scope=col>rs833070</th><th scope=col>rs884736</th><th scope=col>rs921943</th><th scope=col>rs9469199</th><th scope=col>rs970547</th><th scope=col>rs9902453</th><th scope=col>rs9939609</th></tr></thead>\n",
       "<tbody>\n",
       "\t<tr><td>10.280651</td><td>G:G      </td><td>C:T      </td><td>A:T      </td><td>T:T      </td><td>A:A      </td><td>C:G      </td><td>G:G      </td><td>C:G      </td><td>A:T      </td><td>...      </td><td>C:T      </td><td>A:G      </td><td>G:G      </td><td>A:G      </td><td>C:T      </td><td>A:G      </td><td>A:G      </td><td>A:A      </td><td>A:G      </td><td>A:A      </td></tr>\n",
       "\t<tr><td>10.442079</td><td>G:G      </td><td>C:T      </td><td>A:T      </td><td>C:T      </td><td>A:G      </td><td>G:G      </td><td>G:G      </td><td>G:G      </td><td>A:A      </td><td>...      </td><td>C:T      </td><td>A:G      </td><td>A:G      </td><td>A:G      </td><td>C:T      </td><td>A:G      </td><td>G:G      </td><td>A:G      </td><td>A:G      </td><td>T:T      </td></tr>\n",
       "\t<tr><td>10.218476</td><td>G:G      </td><td>T:T      </td><td>A:T      </td><td>T:T      </td><td>A:G      </td><td>G:G      </td><td>G:G      </td><td>C:G      </td><td>A:A      </td><td>...      </td><td>C:T      </td><td>A:G      </td><td>G:G      </td><td>A:G      </td><td>C:T      </td><td>A:A      </td><td>G:G      </td><td>A:G      </td><td>A:G      </td><td>A:A      </td></tr>\n",
       "\t<tr><td> 9.482245</td><td>G:G      </td><td>T:T      </td><td>T:T      </td><td>C:T      </td><td>A:G      </td><td>G:G      </td><td>G:G      </td><td>C:C      </td><td>A:T      </td><td>...      </td><td>C:T      </td><td>A:G      </td><td>G:G      </td><td>A:G      </td><td>C:T      </td><td>A:G      </td><td>G:G      </td><td>A:A      </td><td>A:A      </td><td>A:A      </td></tr>\n",
       "\t<tr><td> 4.086312</td><td>G:G      </td><td>C:T      </td><td>T:T      </td><td>C:T      </td><td>G:G      </td><td>C:C      </td><td>G:G      </td><td>C:G      </td><td>T:T      </td><td>...      </td><td>C:T      </td><td>A:G      </td><td>G:G      </td><td>G:G      </td><td>T:T      </td><td>G:G      </td><td>G:G      </td><td>A:A      </td><td>A:G      </td><td>A:T      </td></tr>\n",
       "\t<tr><td>11.377517</td><td>G:G      </td><td>C:T      </td><td>T:T      </td><td>C:T      </td><td>A:G      </td><td>G:G      </td><td>G:G      </td><td>C:G      </td><td>A:T      </td><td>...      </td><td>C:T      </td><td>A:G      </td><td>G:G      </td><td>G:G      </td><td>C:T      </td><td>A:G      </td><td>G:G      </td><td>A:G      </td><td>G:G      </td><td>T:T      </td></tr>\n",
       "</tbody>\n",
       "</table>\n"
      ],
      "text/latex": [
       "\\begin{tabular}{r|lllllllllllllllllllllllllllllllllllllllllllllllllllllllllllllllllllllllllllllllllllllllllllllllllllllllllllllllllllllllllllllllllllllllllllllllllllllllllllllllllllllllllllllllllll}\n",
       " W2MaxWRelFFM1 & rs10034661 & rs10063949 & rs1024610 & rs1024611 & rs1042713 & rs1045485 & rs10491003 & rs1049305 & rs1049434 & ... & rs8111989 & rs8192678 & rs824205 & rs833070 & rs884736 & rs921943 & rs9469199 & rs970547 & rs9902453 & rs9939609\\\\\n",
       "\\hline\n",
       "\t 10.280651 & G:G       & C:T       & A:T       & T:T       & A:A       & C:G       & G:G       & C:G       & A:T       & ...       & C:T       & A:G       & G:G       & A:G       & C:T       & A:G       & A:G       & A:A       & A:G       & A:A      \\\\\n",
       "\t 10.442079 & G:G       & C:T       & A:T       & C:T       & A:G       & G:G       & G:G       & G:G       & A:A       & ...       & C:T       & A:G       & A:G       & A:G       & C:T       & A:G       & G:G       & A:G       & A:G       & T:T      \\\\\n",
       "\t 10.218476 & G:G       & T:T       & A:T       & T:T       & A:G       & G:G       & G:G       & C:G       & A:A       & ...       & C:T       & A:G       & G:G       & A:G       & C:T       & A:A       & G:G       & A:G       & A:G       & A:A      \\\\\n",
       "\t  9.482245 & G:G       & T:T       & T:T       & C:T       & A:G       & G:G       & G:G       & C:C       & A:T       & ...       & C:T       & A:G       & G:G       & A:G       & C:T       & A:G       & G:G       & A:A       & A:A       & A:A      \\\\\n",
       "\t  4.086312 & G:G       & C:T       & T:T       & C:T       & G:G       & C:C       & G:G       & C:G       & T:T       & ...       & C:T       & A:G       & G:G       & G:G       & T:T       & G:G       & G:G       & A:A       & A:G       & A:T      \\\\\n",
       "\t 11.377517 & G:G       & C:T       & T:T       & C:T       & A:G       & G:G       & G:G       & C:G       & A:T       & ...       & C:T       & A:G       & G:G       & G:G       & C:T       & A:G       & G:G       & A:G       & G:G       & T:T      \\\\\n",
       "\\end{tabular}\n"
      ],
      "text/markdown": [
       "\n",
       "| W2MaxWRelFFM1 | rs10034661 | rs10063949 | rs1024610 | rs1024611 | rs1042713 | rs1045485 | rs10491003 | rs1049305 | rs1049434 | ... | rs8111989 | rs8192678 | rs824205 | rs833070 | rs884736 | rs921943 | rs9469199 | rs970547 | rs9902453 | rs9939609 |\n",
       "|---|---|---|---|---|---|---|---|---|---|---|---|---|---|---|---|---|---|---|---|---|\n",
       "| 10.280651 | G:G       | C:T       | A:T       | T:T       | A:A       | C:G       | G:G       | C:G       | A:T       | ...       | C:T       | A:G       | G:G       | A:G       | C:T       | A:G       | A:G       | A:A       | A:G       | A:A       |\n",
       "| 10.442079 | G:G       | C:T       | A:T       | C:T       | A:G       | G:G       | G:G       | G:G       | A:A       | ...       | C:T       | A:G       | A:G       | A:G       | C:T       | A:G       | G:G       | A:G       | A:G       | T:T       |\n",
       "| 10.218476 | G:G       | T:T       | A:T       | T:T       | A:G       | G:G       | G:G       | C:G       | A:A       | ...       | C:T       | A:G       | G:G       | A:G       | C:T       | A:A       | G:G       | A:G       | A:G       | A:A       |\n",
       "|  9.482245 | G:G       | T:T       | T:T       | C:T       | A:G       | G:G       | G:G       | C:C       | A:T       | ...       | C:T       | A:G       | G:G       | A:G       | C:T       | A:G       | G:G       | A:A       | A:A       | A:A       |\n",
       "|  4.086312 | G:G       | C:T       | T:T       | C:T       | G:G       | C:C       | G:G       | C:G       | T:T       | ...       | C:T       | A:G       | G:G       | G:G       | T:T       | G:G       | G:G       | A:A       | A:G       | A:T       |\n",
       "| 11.377517 | G:G       | C:T       | T:T       | C:T       | A:G       | G:G       | G:G       | C:G       | A:T       | ...       | C:T       | A:G       | G:G       | G:G       | C:T       | A:G       | G:G       | A:G       | G:G       | T:T       |\n",
       "\n"
      ],
      "text/plain": [
       "  W2MaxWRelFFM1 rs10034661 rs10063949 rs1024610 rs1024611 rs1042713 rs1045485\n",
       "1 10.280651     G:G        C:T        A:T       T:T       A:A       C:G      \n",
       "2 10.442079     G:G        C:T        A:T       C:T       A:G       G:G      \n",
       "3 10.218476     G:G        T:T        A:T       T:T       A:G       G:G      \n",
       "4  9.482245     G:G        T:T        T:T       C:T       A:G       G:G      \n",
       "5  4.086312     G:G        C:T        T:T       C:T       G:G       C:C      \n",
       "6 11.377517     G:G        C:T        T:T       C:T       A:G       G:G      \n",
       "  rs10491003 rs1049305 rs1049434 ... rs8111989 rs8192678 rs824205 rs833070\n",
       "1 G:G        C:G       A:T       ... C:T       A:G       G:G      A:G     \n",
       "2 G:G        G:G       A:A       ... C:T       A:G       A:G      A:G     \n",
       "3 G:G        C:G       A:A       ... C:T       A:G       G:G      A:G     \n",
       "4 G:G        C:C       A:T       ... C:T       A:G       G:G      A:G     \n",
       "5 G:G        C:G       T:T       ... C:T       A:G       G:G      G:G     \n",
       "6 G:G        C:G       A:T       ... C:T       A:G       G:G      G:G     \n",
       "  rs884736 rs921943 rs9469199 rs970547 rs9902453 rs9939609\n",
       "1 C:T      A:G      A:G       A:A      A:G       A:A      \n",
       "2 C:T      A:G      G:G       A:G      A:G       T:T      \n",
       "3 C:T      A:A      G:G       A:G      A:G       A:A      \n",
       "4 C:T      A:G      G:G       A:A      A:A       A:A      \n",
       "5 T:T      G:G      G:G       A:A      A:G       A:T      \n",
       "6 C:T      A:G      G:G       A:G      G:G       T:T      "
      ]
     },
     "metadata": {},
     "output_type": "display_data"
    }
   ],
   "source": [
    "w2_max <- cbind(handle_target['W2MaxWRelFFM1'],handle_genetic)\n",
    "\n",
    "rownames(w2_max) <- NULL\n",
    "\n",
    "head(w2_max)"
   ]
  },
  {
   "cell_type": "code",
   "execution_count": 24,
   "metadata": {
    "scrolled": true
   },
   "outputs": [
    {
     "data": {
      "text/html": [
       "<table>\n",
       "<thead><tr><th scope=col>W2MaxWRelFFM1Bin</th><th scope=col>W2MaxWRelFFM1</th><th scope=col>rs10034661</th><th scope=col>rs10063949</th><th scope=col>rs1024610</th><th scope=col>rs1024611</th><th scope=col>rs1042713</th><th scope=col>rs1045485</th><th scope=col>rs10491003</th><th scope=col>rs1049305</th><th scope=col>...</th><th scope=col>rs8111989</th><th scope=col>rs8192678</th><th scope=col>rs824205</th><th scope=col>rs833070</th><th scope=col>rs884736</th><th scope=col>rs921943</th><th scope=col>rs9469199</th><th scope=col>rs970547</th><th scope=col>rs9902453</th><th scope=col>rs9939609</th></tr></thead>\n",
       "<tbody>\n",
       "\t<tr><td>0        </td><td>10.280651</td><td>G:G      </td><td>C:T      </td><td>A:T      </td><td>T:T      </td><td>A:A      </td><td>C:G      </td><td>G:G      </td><td>C:G      </td><td>...      </td><td>C:T      </td><td>A:G      </td><td>G:G      </td><td>A:G      </td><td>C:T      </td><td>A:G      </td><td>A:G      </td><td>A:A      </td><td>A:G      </td><td>A:A      </td></tr>\n",
       "\t<tr><td>0        </td><td>10.442079</td><td>G:G      </td><td>C:T      </td><td>A:T      </td><td>C:T      </td><td>A:G      </td><td>G:G      </td><td>G:G      </td><td>G:G      </td><td>...      </td><td>C:T      </td><td>A:G      </td><td>A:G      </td><td>A:G      </td><td>C:T      </td><td>A:G      </td><td>G:G      </td><td>A:G      </td><td>A:G      </td><td>T:T      </td></tr>\n",
       "\t<tr><td>0        </td><td>10.218476</td><td>G:G      </td><td>T:T      </td><td>A:T      </td><td>T:T      </td><td>A:G      </td><td>G:G      </td><td>G:G      </td><td>C:G      </td><td>...      </td><td>C:T      </td><td>A:G      </td><td>G:G      </td><td>A:G      </td><td>C:T      </td><td>A:A      </td><td>G:G      </td><td>A:G      </td><td>A:G      </td><td>A:A      </td></tr>\n",
       "\t<tr><td>0        </td><td> 9.482245</td><td>G:G      </td><td>T:T      </td><td>T:T      </td><td>C:T      </td><td>A:G      </td><td>G:G      </td><td>G:G      </td><td>C:C      </td><td>...      </td><td>C:T      </td><td>A:G      </td><td>G:G      </td><td>A:G      </td><td>C:T      </td><td>A:G      </td><td>G:G      </td><td>A:A      </td><td>A:A      </td><td>A:A      </td></tr>\n",
       "\t<tr><td>0        </td><td> 4.086312</td><td>G:G      </td><td>C:T      </td><td>T:T      </td><td>C:T      </td><td>G:G      </td><td>C:C      </td><td>G:G      </td><td>C:G      </td><td>...      </td><td>C:T      </td><td>A:G      </td><td>G:G      </td><td>G:G      </td><td>T:T      </td><td>G:G      </td><td>G:G      </td><td>A:A      </td><td>A:G      </td><td>A:T      </td></tr>\n",
       "\t<tr><td>0        </td><td>11.377517</td><td>G:G      </td><td>C:T      </td><td>T:T      </td><td>C:T      </td><td>A:G      </td><td>G:G      </td><td>G:G      </td><td>C:G      </td><td>...      </td><td>C:T      </td><td>A:G      </td><td>G:G      </td><td>G:G      </td><td>C:T      </td><td>A:G      </td><td>G:G      </td><td>A:G      </td><td>G:G      </td><td>T:T      </td></tr>\n",
       "</tbody>\n",
       "</table>\n"
      ],
      "text/latex": [
       "\\begin{tabular}{r|llllllllllllllllllllllllllllllllllllllllllllllllllllllllllllllllllllllllllllllllllllllllllllllllllllllllllllllllllllllllllllllllllllllllllllllllllllllllllllllllllllllllllllllllllll}\n",
       " W2MaxWRelFFM1Bin & W2MaxWRelFFM1 & rs10034661 & rs10063949 & rs1024610 & rs1024611 & rs1042713 & rs1045485 & rs10491003 & rs1049305 & ... & rs8111989 & rs8192678 & rs824205 & rs833070 & rs884736 & rs921943 & rs9469199 & rs970547 & rs9902453 & rs9939609\\\\\n",
       "\\hline\n",
       "\t 0         & 10.280651 & G:G       & C:T       & A:T       & T:T       & A:A       & C:G       & G:G       & C:G       & ...       & C:T       & A:G       & G:G       & A:G       & C:T       & A:G       & A:G       & A:A       & A:G       & A:A      \\\\\n",
       "\t 0         & 10.442079 & G:G       & C:T       & A:T       & C:T       & A:G       & G:G       & G:G       & G:G       & ...       & C:T       & A:G       & A:G       & A:G       & C:T       & A:G       & G:G       & A:G       & A:G       & T:T      \\\\\n",
       "\t 0         & 10.218476 & G:G       & T:T       & A:T       & T:T       & A:G       & G:G       & G:G       & C:G       & ...       & C:T       & A:G       & G:G       & A:G       & C:T       & A:A       & G:G       & A:G       & A:G       & A:A      \\\\\n",
       "\t 0         &  9.482245 & G:G       & T:T       & T:T       & C:T       & A:G       & G:G       & G:G       & C:C       & ...       & C:T       & A:G       & G:G       & A:G       & C:T       & A:G       & G:G       & A:A       & A:A       & A:A      \\\\\n",
       "\t 0         &  4.086312 & G:G       & C:T       & T:T       & C:T       & G:G       & C:C       & G:G       & C:G       & ...       & C:T       & A:G       & G:G       & G:G       & T:T       & G:G       & G:G       & A:A       & A:G       & A:T      \\\\\n",
       "\t 0         & 11.377517 & G:G       & C:T       & T:T       & C:T       & A:G       & G:G       & G:G       & C:G       & ...       & C:T       & A:G       & G:G       & G:G       & C:T       & A:G       & G:G       & A:G       & G:G       & T:T      \\\\\n",
       "\\end{tabular}\n"
      ],
      "text/markdown": [
       "\n",
       "| W2MaxWRelFFM1Bin | W2MaxWRelFFM1 | rs10034661 | rs10063949 | rs1024610 | rs1024611 | rs1042713 | rs1045485 | rs10491003 | rs1049305 | ... | rs8111989 | rs8192678 | rs824205 | rs833070 | rs884736 | rs921943 | rs9469199 | rs970547 | rs9902453 | rs9939609 |\n",
       "|---|---|---|---|---|---|---|---|---|---|---|---|---|---|---|---|---|---|---|---|---|\n",
       "| 0         | 10.280651 | G:G       | C:T       | A:T       | T:T       | A:A       | C:G       | G:G       | C:G       | ...       | C:T       | A:G       | G:G       | A:G       | C:T       | A:G       | A:G       | A:A       | A:G       | A:A       |\n",
       "| 0         | 10.442079 | G:G       | C:T       | A:T       | C:T       | A:G       | G:G       | G:G       | G:G       | ...       | C:T       | A:G       | A:G       | A:G       | C:T       | A:G       | G:G       | A:G       | A:G       | T:T       |\n",
       "| 0         | 10.218476 | G:G       | T:T       | A:T       | T:T       | A:G       | G:G       | G:G       | C:G       | ...       | C:T       | A:G       | G:G       | A:G       | C:T       | A:A       | G:G       | A:G       | A:G       | A:A       |\n",
       "| 0         |  9.482245 | G:G       | T:T       | T:T       | C:T       | A:G       | G:G       | G:G       | C:C       | ...       | C:T       | A:G       | G:G       | A:G       | C:T       | A:G       | G:G       | A:A       | A:A       | A:A       |\n",
       "| 0         |  4.086312 | G:G       | C:T       | T:T       | C:T       | G:G       | C:C       | G:G       | C:G       | ...       | C:T       | A:G       | G:G       | G:G       | T:T       | G:G       | G:G       | A:A       | A:G       | A:T       |\n",
       "| 0         | 11.377517 | G:G       | C:T       | T:T       | C:T       | A:G       | G:G       | G:G       | C:G       | ...       | C:T       | A:G       | G:G       | G:G       | C:T       | A:G       | G:G       | A:G       | G:G       | T:T       |\n",
       "\n"
      ],
      "text/plain": [
       "  W2MaxWRelFFM1Bin W2MaxWRelFFM1 rs10034661 rs10063949 rs1024610 rs1024611\n",
       "1 0                10.280651     G:G        C:T        A:T       T:T      \n",
       "2 0                10.442079     G:G        C:T        A:T       C:T      \n",
       "3 0                10.218476     G:G        T:T        A:T       T:T      \n",
       "4 0                 9.482245     G:G        T:T        T:T       C:T      \n",
       "5 0                 4.086312     G:G        C:T        T:T       C:T      \n",
       "6 0                11.377517     G:G        C:T        T:T       C:T      \n",
       "  rs1042713 rs1045485 rs10491003 rs1049305 ... rs8111989 rs8192678 rs824205\n",
       "1 A:A       C:G       G:G        C:G       ... C:T       A:G       G:G     \n",
       "2 A:G       G:G       G:G        G:G       ... C:T       A:G       A:G     \n",
       "3 A:G       G:G       G:G        C:G       ... C:T       A:G       G:G     \n",
       "4 A:G       G:G       G:G        C:C       ... C:T       A:G       G:G     \n",
       "5 G:G       C:C       G:G        C:G       ... C:T       A:G       G:G     \n",
       "6 A:G       G:G       G:G        C:G       ... C:T       A:G       G:G     \n",
       "  rs833070 rs884736 rs921943 rs9469199 rs970547 rs9902453 rs9939609\n",
       "1 A:G      C:T      A:G      A:G       A:A      A:G       A:A      \n",
       "2 A:G      C:T      A:G      G:G       A:G      A:G       T:T      \n",
       "3 A:G      C:T      A:A      G:G       A:G      A:G       A:A      \n",
       "4 A:G      C:T      A:G      G:G       A:A      A:A       A:A      \n",
       "5 G:G      T:T      G:G      G:G       A:A      A:G       A:T      \n",
       "6 G:G      C:T      A:G      G:G       A:G      G:G       T:T      "
      ]
     },
     "metadata": {},
     "output_type": "display_data"
    }
   ],
   "source": [
    "W2MaxWRelFFM1Bin <- factor(as.numeric(handle_target['W2MaxWRelFFM1']>=median(handle_target$W2MaxWRelFFM1)))\n",
    "\n",
    "w2_max <- cbind(W2MaxWRelFFM1Bin, w2_max)\n",
    "\n",
    "head(w2_max)"
   ]
  },
  {
   "cell_type": "code",
   "execution_count": 25,
   "metadata": {},
   "outputs": [
    {
     "data": {
      "text/html": [
       "<table>\n",
       "<thead><tr><th scope=col>W2MaxWRelFFM1Bin</th><th scope=col>rs10034661</th><th scope=col>rs10063949</th><th scope=col>rs1024610</th><th scope=col>rs1024611</th><th scope=col>rs1042713</th><th scope=col>rs1045485</th><th scope=col>rs10491003</th><th scope=col>rs1049305</th><th scope=col>rs1049434</th><th scope=col>...</th><th scope=col>rs8111989</th><th scope=col>rs8192678</th><th scope=col>rs824205</th><th scope=col>rs833070</th><th scope=col>rs884736</th><th scope=col>rs921943</th><th scope=col>rs9469199</th><th scope=col>rs970547</th><th scope=col>rs9902453</th><th scope=col>rs9939609</th></tr></thead>\n",
       "<tbody>\n",
       "\t<tr><td>0  </td><td>G:G</td><td>C:T</td><td>A:T</td><td>T:T</td><td>A:A</td><td>C:G</td><td>G:G</td><td>C:G</td><td>A:T</td><td>...</td><td>C:T</td><td>A:G</td><td>G:G</td><td>A:G</td><td>C:T</td><td>A:G</td><td>A:G</td><td>A:A</td><td>A:G</td><td>A:A</td></tr>\n",
       "\t<tr><td>0  </td><td>G:G</td><td>C:T</td><td>A:T</td><td>C:T</td><td>A:G</td><td>G:G</td><td>G:G</td><td>G:G</td><td>A:A</td><td>...</td><td>C:T</td><td>A:G</td><td>A:G</td><td>A:G</td><td>C:T</td><td>A:G</td><td>G:G</td><td>A:G</td><td>A:G</td><td>T:T</td></tr>\n",
       "\t<tr><td>0  </td><td>G:G</td><td>T:T</td><td>A:T</td><td>T:T</td><td>A:G</td><td>G:G</td><td>G:G</td><td>C:G</td><td>A:A</td><td>...</td><td>C:T</td><td>A:G</td><td>G:G</td><td>A:G</td><td>C:T</td><td>A:A</td><td>G:G</td><td>A:G</td><td>A:G</td><td>A:A</td></tr>\n",
       "\t<tr><td>0  </td><td>G:G</td><td>T:T</td><td>T:T</td><td>C:T</td><td>A:G</td><td>G:G</td><td>G:G</td><td>C:C</td><td>A:T</td><td>...</td><td>C:T</td><td>A:G</td><td>G:G</td><td>A:G</td><td>C:T</td><td>A:G</td><td>G:G</td><td>A:A</td><td>A:A</td><td>A:A</td></tr>\n",
       "\t<tr><td>0  </td><td>G:G</td><td>C:T</td><td>T:T</td><td>C:T</td><td>G:G</td><td>C:C</td><td>G:G</td><td>C:G</td><td>T:T</td><td>...</td><td>C:T</td><td>A:G</td><td>G:G</td><td>G:G</td><td>T:T</td><td>G:G</td><td>G:G</td><td>A:A</td><td>A:G</td><td>A:T</td></tr>\n",
       "\t<tr><td>0  </td><td>G:G</td><td>C:T</td><td>T:T</td><td>C:T</td><td>A:G</td><td>G:G</td><td>G:G</td><td>C:G</td><td>A:T</td><td>...</td><td>C:T</td><td>A:G</td><td>G:G</td><td>G:G</td><td>C:T</td><td>A:G</td><td>G:G</td><td>A:G</td><td>G:G</td><td>T:T</td></tr>\n",
       "</tbody>\n",
       "</table>\n"
      ],
      "text/latex": [
       "\\begin{tabular}{r|lllllllllllllllllllllllllllllllllllllllllllllllllllllllllllllllllllllllllllllllllllllllllllllllllllllllllllllllllllllllllllllllllllllllllllllllllllllllllllllllllllllllllllllllllll}\n",
       " W2MaxWRelFFM1Bin & rs10034661 & rs10063949 & rs1024610 & rs1024611 & rs1042713 & rs1045485 & rs10491003 & rs1049305 & rs1049434 & ... & rs8111989 & rs8192678 & rs824205 & rs833070 & rs884736 & rs921943 & rs9469199 & rs970547 & rs9902453 & rs9939609\\\\\n",
       "\\hline\n",
       "\t 0   & G:G & C:T & A:T & T:T & A:A & C:G & G:G & C:G & A:T & ... & C:T & A:G & G:G & A:G & C:T & A:G & A:G & A:A & A:G & A:A\\\\\n",
       "\t 0   & G:G & C:T & A:T & C:T & A:G & G:G & G:G & G:G & A:A & ... & C:T & A:G & A:G & A:G & C:T & A:G & G:G & A:G & A:G & T:T\\\\\n",
       "\t 0   & G:G & T:T & A:T & T:T & A:G & G:G & G:G & C:G & A:A & ... & C:T & A:G & G:G & A:G & C:T & A:A & G:G & A:G & A:G & A:A\\\\\n",
       "\t 0   & G:G & T:T & T:T & C:T & A:G & G:G & G:G & C:C & A:T & ... & C:T & A:G & G:G & A:G & C:T & A:G & G:G & A:A & A:A & A:A\\\\\n",
       "\t 0   & G:G & C:T & T:T & C:T & G:G & C:C & G:G & C:G & T:T & ... & C:T & A:G & G:G & G:G & T:T & G:G & G:G & A:A & A:G & A:T\\\\\n",
       "\t 0   & G:G & C:T & T:T & C:T & A:G & G:G & G:G & C:G & A:T & ... & C:T & A:G & G:G & G:G & C:T & A:G & G:G & A:G & G:G & T:T\\\\\n",
       "\\end{tabular}\n"
      ],
      "text/markdown": [
       "\n",
       "| W2MaxWRelFFM1Bin | rs10034661 | rs10063949 | rs1024610 | rs1024611 | rs1042713 | rs1045485 | rs10491003 | rs1049305 | rs1049434 | ... | rs8111989 | rs8192678 | rs824205 | rs833070 | rs884736 | rs921943 | rs9469199 | rs970547 | rs9902453 | rs9939609 |\n",
       "|---|---|---|---|---|---|---|---|---|---|---|---|---|---|---|---|---|---|---|---|---|\n",
       "| 0   | G:G | C:T | A:T | T:T | A:A | C:G | G:G | C:G | A:T | ... | C:T | A:G | G:G | A:G | C:T | A:G | A:G | A:A | A:G | A:A |\n",
       "| 0   | G:G | C:T | A:T | C:T | A:G | G:G | G:G | G:G | A:A | ... | C:T | A:G | A:G | A:G | C:T | A:G | G:G | A:G | A:G | T:T |\n",
       "| 0   | G:G | T:T | A:T | T:T | A:G | G:G | G:G | C:G | A:A | ... | C:T | A:G | G:G | A:G | C:T | A:A | G:G | A:G | A:G | A:A |\n",
       "| 0   | G:G | T:T | T:T | C:T | A:G | G:G | G:G | C:C | A:T | ... | C:T | A:G | G:G | A:G | C:T | A:G | G:G | A:A | A:A | A:A |\n",
       "| 0   | G:G | C:T | T:T | C:T | G:G | C:C | G:G | C:G | T:T | ... | C:T | A:G | G:G | G:G | T:T | G:G | G:G | A:A | A:G | A:T |\n",
       "| 0   | G:G | C:T | T:T | C:T | A:G | G:G | G:G | C:G | A:T | ... | C:T | A:G | G:G | G:G | C:T | A:G | G:G | A:G | G:G | T:T |\n",
       "\n"
      ],
      "text/plain": [
       "  W2MaxWRelFFM1Bin rs10034661 rs10063949 rs1024610 rs1024611 rs1042713\n",
       "1 0                G:G        C:T        A:T       T:T       A:A      \n",
       "2 0                G:G        C:T        A:T       C:T       A:G      \n",
       "3 0                G:G        T:T        A:T       T:T       A:G      \n",
       "4 0                G:G        T:T        T:T       C:T       A:G      \n",
       "5 0                G:G        C:T        T:T       C:T       G:G      \n",
       "6 0                G:G        C:T        T:T       C:T       A:G      \n",
       "  rs1045485 rs10491003 rs1049305 rs1049434 ... rs8111989 rs8192678 rs824205\n",
       "1 C:G       G:G        C:G       A:T       ... C:T       A:G       G:G     \n",
       "2 G:G       G:G        G:G       A:A       ... C:T       A:G       A:G     \n",
       "3 G:G       G:G        C:G       A:A       ... C:T       A:G       G:G     \n",
       "4 G:G       G:G        C:C       A:T       ... C:T       A:G       G:G     \n",
       "5 C:C       G:G        C:G       T:T       ... C:T       A:G       G:G     \n",
       "6 G:G       G:G        C:G       A:T       ... C:T       A:G       G:G     \n",
       "  rs833070 rs884736 rs921943 rs9469199 rs970547 rs9902453 rs9939609\n",
       "1 A:G      C:T      A:G      A:G       A:A      A:G       A:A      \n",
       "2 A:G      C:T      A:G      G:G       A:G      A:G       T:T      \n",
       "3 A:G      C:T      A:A      G:G       A:G      A:G       A:A      \n",
       "4 A:G      C:T      A:G      G:G       A:A      A:A       A:A      \n",
       "5 G:G      T:T      G:G      G:G       A:A      A:G       A:T      \n",
       "6 G:G      C:T      A:G      G:G       A:G      G:G       T:T      "
      ]
     },
     "metadata": {},
     "output_type": "display_data"
    }
   ],
   "source": [
    "w2_max$W2MaxWRelFFM1 <- NULL\n",
    "head(w2_max)"
   ]
  },
  {
   "cell_type": "markdown",
   "metadata": {},
   "source": [
    "#### Mean power relative to FFM1 in Wingate 2 (W2MedWRelFFM1) <a class=\"anchor\" id=\"11\"></a>"
   ]
  },
  {
   "cell_type": "markdown",
   "metadata": {},
   "source": [
    "* [Returning to the index of contents](#index)"
   ]
  },
  {
   "cell_type": "code",
   "execution_count": 26,
   "metadata": {
    "scrolled": true
   },
   "outputs": [
    {
     "data": {
      "text/html": [
       "<table>\n",
       "<thead><tr><th scope=col>W2MedWRelFFM1</th><th scope=col>rs10034661</th><th scope=col>rs10063949</th><th scope=col>rs1024610</th><th scope=col>rs1024611</th><th scope=col>rs1042713</th><th scope=col>rs1045485</th><th scope=col>rs10491003</th><th scope=col>rs1049305</th><th scope=col>rs1049434</th><th scope=col>...</th><th scope=col>rs8111989</th><th scope=col>rs8192678</th><th scope=col>rs824205</th><th scope=col>rs833070</th><th scope=col>rs884736</th><th scope=col>rs921943</th><th scope=col>rs9469199</th><th scope=col>rs970547</th><th scope=col>rs9902453</th><th scope=col>rs9939609</th></tr></thead>\n",
       "<tbody>\n",
       "\t<tr><td>5.800669</td><td>G:G     </td><td>C:T     </td><td>A:T     </td><td>T:T     </td><td>A:A     </td><td>C:G     </td><td>G:G     </td><td>C:G     </td><td>A:T     </td><td>...     </td><td>C:T     </td><td>A:G     </td><td>G:G     </td><td>A:G     </td><td>C:T     </td><td>A:G     </td><td>A:G     </td><td>A:A     </td><td>A:G     </td><td>A:A     </td></tr>\n",
       "\t<tr><td>5.889891</td><td>G:G     </td><td>C:T     </td><td>A:T     </td><td>C:T     </td><td>A:G     </td><td>G:G     </td><td>G:G     </td><td>G:G     </td><td>A:A     </td><td>...     </td><td>C:T     </td><td>A:G     </td><td>A:G     </td><td>A:G     </td><td>C:T     </td><td>A:G     </td><td>G:G     </td><td>A:G     </td><td>A:G     </td><td>T:T     </td></tr>\n",
       "\t<tr><td>5.259510</td><td>G:G     </td><td>T:T     </td><td>A:T     </td><td>T:T     </td><td>A:G     </td><td>G:G     </td><td>G:G     </td><td>C:G     </td><td>A:A     </td><td>...     </td><td>C:T     </td><td>A:G     </td><td>G:G     </td><td>A:G     </td><td>C:T     </td><td>A:A     </td><td>G:G     </td><td>A:G     </td><td>A:G     </td><td>A:A     </td></tr>\n",
       "\t<tr><td>6.689804</td><td>G:G     </td><td>T:T     </td><td>T:T     </td><td>C:T     </td><td>A:G     </td><td>G:G     </td><td>G:G     </td><td>C:C     </td><td>A:T     </td><td>...     </td><td>C:T     </td><td>A:G     </td><td>G:G     </td><td>A:G     </td><td>C:T     </td><td>A:G     </td><td>G:G     </td><td>A:A     </td><td>A:A     </td><td>A:A     </td></tr>\n",
       "\t<tr><td>7.302166</td><td>G:G     </td><td>C:T     </td><td>T:T     </td><td>C:T     </td><td>G:G     </td><td>C:C     </td><td>G:G     </td><td>C:G     </td><td>T:T     </td><td>...     </td><td>C:T     </td><td>A:G     </td><td>G:G     </td><td>G:G     </td><td>T:T     </td><td>G:G     </td><td>G:G     </td><td>A:A     </td><td>A:G     </td><td>A:T     </td></tr>\n",
       "\t<tr><td>7.264422</td><td>G:G     </td><td>C:T     </td><td>T:T     </td><td>C:T     </td><td>A:G     </td><td>G:G     </td><td>G:G     </td><td>C:G     </td><td>A:T     </td><td>...     </td><td>C:T     </td><td>A:G     </td><td>G:G     </td><td>G:G     </td><td>C:T     </td><td>A:G     </td><td>G:G     </td><td>A:G     </td><td>G:G     </td><td>T:T     </td></tr>\n",
       "</tbody>\n",
       "</table>\n"
      ],
      "text/latex": [
       "\\begin{tabular}{r|lllllllllllllllllllllllllllllllllllllllllllllllllllllllllllllllllllllllllllllllllllllllllllllllllllllllllllllllllllllllllllllllllllllllllllllllllllllllllllllllllllllllllllllllllll}\n",
       " W2MedWRelFFM1 & rs10034661 & rs10063949 & rs1024610 & rs1024611 & rs1042713 & rs1045485 & rs10491003 & rs1049305 & rs1049434 & ... & rs8111989 & rs8192678 & rs824205 & rs833070 & rs884736 & rs921943 & rs9469199 & rs970547 & rs9902453 & rs9939609\\\\\n",
       "\\hline\n",
       "\t 5.800669 & G:G      & C:T      & A:T      & T:T      & A:A      & C:G      & G:G      & C:G      & A:T      & ...      & C:T      & A:G      & G:G      & A:G      & C:T      & A:G      & A:G      & A:A      & A:G      & A:A     \\\\\n",
       "\t 5.889891 & G:G      & C:T      & A:T      & C:T      & A:G      & G:G      & G:G      & G:G      & A:A      & ...      & C:T      & A:G      & A:G      & A:G      & C:T      & A:G      & G:G      & A:G      & A:G      & T:T     \\\\\n",
       "\t 5.259510 & G:G      & T:T      & A:T      & T:T      & A:G      & G:G      & G:G      & C:G      & A:A      & ...      & C:T      & A:G      & G:G      & A:G      & C:T      & A:A      & G:G      & A:G      & A:G      & A:A     \\\\\n",
       "\t 6.689804 & G:G      & T:T      & T:T      & C:T      & A:G      & G:G      & G:G      & C:C      & A:T      & ...      & C:T      & A:G      & G:G      & A:G      & C:T      & A:G      & G:G      & A:A      & A:A      & A:A     \\\\\n",
       "\t 7.302166 & G:G      & C:T      & T:T      & C:T      & G:G      & C:C      & G:G      & C:G      & T:T      & ...      & C:T      & A:G      & G:G      & G:G      & T:T      & G:G      & G:G      & A:A      & A:G      & A:T     \\\\\n",
       "\t 7.264422 & G:G      & C:T      & T:T      & C:T      & A:G      & G:G      & G:G      & C:G      & A:T      & ...      & C:T      & A:G      & G:G      & G:G      & C:T      & A:G      & G:G      & A:G      & G:G      & T:T     \\\\\n",
       "\\end{tabular}\n"
      ],
      "text/markdown": [
       "\n",
       "| W2MedWRelFFM1 | rs10034661 | rs10063949 | rs1024610 | rs1024611 | rs1042713 | rs1045485 | rs10491003 | rs1049305 | rs1049434 | ... | rs8111989 | rs8192678 | rs824205 | rs833070 | rs884736 | rs921943 | rs9469199 | rs970547 | rs9902453 | rs9939609 |\n",
       "|---|---|---|---|---|---|---|---|---|---|---|---|---|---|---|---|---|---|---|---|---|\n",
       "| 5.800669 | G:G      | C:T      | A:T      | T:T      | A:A      | C:G      | G:G      | C:G      | A:T      | ...      | C:T      | A:G      | G:G      | A:G      | C:T      | A:G      | A:G      | A:A      | A:G      | A:A      |\n",
       "| 5.889891 | G:G      | C:T      | A:T      | C:T      | A:G      | G:G      | G:G      | G:G      | A:A      | ...      | C:T      | A:G      | A:G      | A:G      | C:T      | A:G      | G:G      | A:G      | A:G      | T:T      |\n",
       "| 5.259510 | G:G      | T:T      | A:T      | T:T      | A:G      | G:G      | G:G      | C:G      | A:A      | ...      | C:T      | A:G      | G:G      | A:G      | C:T      | A:A      | G:G      | A:G      | A:G      | A:A      |\n",
       "| 6.689804 | G:G      | T:T      | T:T      | C:T      | A:G      | G:G      | G:G      | C:C      | A:T      | ...      | C:T      | A:G      | G:G      | A:G      | C:T      | A:G      | G:G      | A:A      | A:A      | A:A      |\n",
       "| 7.302166 | G:G      | C:T      | T:T      | C:T      | G:G      | C:C      | G:G      | C:G      | T:T      | ...      | C:T      | A:G      | G:G      | G:G      | T:T      | G:G      | G:G      | A:A      | A:G      | A:T      |\n",
       "| 7.264422 | G:G      | C:T      | T:T      | C:T      | A:G      | G:G      | G:G      | C:G      | A:T      | ...      | C:T      | A:G      | G:G      | G:G      | C:T      | A:G      | G:G      | A:G      | G:G      | T:T      |\n",
       "\n"
      ],
      "text/plain": [
       "  W2MedWRelFFM1 rs10034661 rs10063949 rs1024610 rs1024611 rs1042713 rs1045485\n",
       "1 5.800669      G:G        C:T        A:T       T:T       A:A       C:G      \n",
       "2 5.889891      G:G        C:T        A:T       C:T       A:G       G:G      \n",
       "3 5.259510      G:G        T:T        A:T       T:T       A:G       G:G      \n",
       "4 6.689804      G:G        T:T        T:T       C:T       A:G       G:G      \n",
       "5 7.302166      G:G        C:T        T:T       C:T       G:G       C:C      \n",
       "6 7.264422      G:G        C:T        T:T       C:T       A:G       G:G      \n",
       "  rs10491003 rs1049305 rs1049434 ... rs8111989 rs8192678 rs824205 rs833070\n",
       "1 G:G        C:G       A:T       ... C:T       A:G       G:G      A:G     \n",
       "2 G:G        G:G       A:A       ... C:T       A:G       A:G      A:G     \n",
       "3 G:G        C:G       A:A       ... C:T       A:G       G:G      A:G     \n",
       "4 G:G        C:C       A:T       ... C:T       A:G       G:G      A:G     \n",
       "5 G:G        C:G       T:T       ... C:T       A:G       G:G      G:G     \n",
       "6 G:G        C:G       A:T       ... C:T       A:G       G:G      G:G     \n",
       "  rs884736 rs921943 rs9469199 rs970547 rs9902453 rs9939609\n",
       "1 C:T      A:G      A:G       A:A      A:G       A:A      \n",
       "2 C:T      A:G      G:G       A:G      A:G       T:T      \n",
       "3 C:T      A:A      G:G       A:G      A:G       A:A      \n",
       "4 C:T      A:G      G:G       A:A      A:A       A:A      \n",
       "5 T:T      G:G      G:G       A:A      A:G       A:T      \n",
       "6 C:T      A:G      G:G       A:G      G:G       T:T      "
      ]
     },
     "metadata": {},
     "output_type": "display_data"
    }
   ],
   "source": [
    "w2_med <- cbind(handle_target['W2MedWRelFFM1'],handle_genetic)\n",
    "\n",
    "rownames(w2_med) <- NULL\n",
    "\n",
    "head(w2_med)"
   ]
  },
  {
   "cell_type": "code",
   "execution_count": 27,
   "metadata": {
    "scrolled": true
   },
   "outputs": [
    {
     "data": {
      "text/html": [
       "<table>\n",
       "<thead><tr><th scope=col>W2MedWRelFFM1Bin</th><th scope=col>W2MedWRelFFM1</th><th scope=col>rs10034661</th><th scope=col>rs10063949</th><th scope=col>rs1024610</th><th scope=col>rs1024611</th><th scope=col>rs1042713</th><th scope=col>rs1045485</th><th scope=col>rs10491003</th><th scope=col>rs1049305</th><th scope=col>...</th><th scope=col>rs8111989</th><th scope=col>rs8192678</th><th scope=col>rs824205</th><th scope=col>rs833070</th><th scope=col>rs884736</th><th scope=col>rs921943</th><th scope=col>rs9469199</th><th scope=col>rs970547</th><th scope=col>rs9902453</th><th scope=col>rs9939609</th></tr></thead>\n",
       "<tbody>\n",
       "\t<tr><td>0       </td><td>5.800669</td><td>G:G     </td><td>C:T     </td><td>A:T     </td><td>T:T     </td><td>A:A     </td><td>C:G     </td><td>G:G     </td><td>C:G     </td><td>...     </td><td>C:T     </td><td>A:G     </td><td>G:G     </td><td>A:G     </td><td>C:T     </td><td>A:G     </td><td>A:G     </td><td>A:A     </td><td>A:G     </td><td>A:A     </td></tr>\n",
       "\t<tr><td>0       </td><td>5.889891</td><td>G:G     </td><td>C:T     </td><td>A:T     </td><td>C:T     </td><td>A:G     </td><td>G:G     </td><td>G:G     </td><td>G:G     </td><td>...     </td><td>C:T     </td><td>A:G     </td><td>A:G     </td><td>A:G     </td><td>C:T     </td><td>A:G     </td><td>G:G     </td><td>A:G     </td><td>A:G     </td><td>T:T     </td></tr>\n",
       "\t<tr><td>0       </td><td>5.259510</td><td>G:G     </td><td>T:T     </td><td>A:T     </td><td>T:T     </td><td>A:G     </td><td>G:G     </td><td>G:G     </td><td>C:G     </td><td>...     </td><td>C:T     </td><td>A:G     </td><td>G:G     </td><td>A:G     </td><td>C:T     </td><td>A:A     </td><td>G:G     </td><td>A:G     </td><td>A:G     </td><td>A:A     </td></tr>\n",
       "\t<tr><td>0       </td><td>6.689804</td><td>G:G     </td><td>T:T     </td><td>T:T     </td><td>C:T     </td><td>A:G     </td><td>G:G     </td><td>G:G     </td><td>C:C     </td><td>...     </td><td>C:T     </td><td>A:G     </td><td>G:G     </td><td>A:G     </td><td>C:T     </td><td>A:G     </td><td>G:G     </td><td>A:A     </td><td>A:A     </td><td>A:A     </td></tr>\n",
       "\t<tr><td>0       </td><td>7.302166</td><td>G:G     </td><td>C:T     </td><td>T:T     </td><td>C:T     </td><td>G:G     </td><td>C:C     </td><td>G:G     </td><td>C:G     </td><td>...     </td><td>C:T     </td><td>A:G     </td><td>G:G     </td><td>G:G     </td><td>T:T     </td><td>G:G     </td><td>G:G     </td><td>A:A     </td><td>A:G     </td><td>A:T     </td></tr>\n",
       "\t<tr><td>0       </td><td>7.264422</td><td>G:G     </td><td>C:T     </td><td>T:T     </td><td>C:T     </td><td>A:G     </td><td>G:G     </td><td>G:G     </td><td>C:G     </td><td>...     </td><td>C:T     </td><td>A:G     </td><td>G:G     </td><td>G:G     </td><td>C:T     </td><td>A:G     </td><td>G:G     </td><td>A:G     </td><td>G:G     </td><td>T:T     </td></tr>\n",
       "</tbody>\n",
       "</table>\n"
      ],
      "text/latex": [
       "\\begin{tabular}{r|llllllllllllllllllllllllllllllllllllllllllllllllllllllllllllllllllllllllllllllllllllllllllllllllllllllllllllllllllllllllllllllllllllllllllllllllllllllllllllllllllllllllllllllllllll}\n",
       " W2MedWRelFFM1Bin & W2MedWRelFFM1 & rs10034661 & rs10063949 & rs1024610 & rs1024611 & rs1042713 & rs1045485 & rs10491003 & rs1049305 & ... & rs8111989 & rs8192678 & rs824205 & rs833070 & rs884736 & rs921943 & rs9469199 & rs970547 & rs9902453 & rs9939609\\\\\n",
       "\\hline\n",
       "\t 0        & 5.800669 & G:G      & C:T      & A:T      & T:T      & A:A      & C:G      & G:G      & C:G      & ...      & C:T      & A:G      & G:G      & A:G      & C:T      & A:G      & A:G      & A:A      & A:G      & A:A     \\\\\n",
       "\t 0        & 5.889891 & G:G      & C:T      & A:T      & C:T      & A:G      & G:G      & G:G      & G:G      & ...      & C:T      & A:G      & A:G      & A:G      & C:T      & A:G      & G:G      & A:G      & A:G      & T:T     \\\\\n",
       "\t 0        & 5.259510 & G:G      & T:T      & A:T      & T:T      & A:G      & G:G      & G:G      & C:G      & ...      & C:T      & A:G      & G:G      & A:G      & C:T      & A:A      & G:G      & A:G      & A:G      & A:A     \\\\\n",
       "\t 0        & 6.689804 & G:G      & T:T      & T:T      & C:T      & A:G      & G:G      & G:G      & C:C      & ...      & C:T      & A:G      & G:G      & A:G      & C:T      & A:G      & G:G      & A:A      & A:A      & A:A     \\\\\n",
       "\t 0        & 7.302166 & G:G      & C:T      & T:T      & C:T      & G:G      & C:C      & G:G      & C:G      & ...      & C:T      & A:G      & G:G      & G:G      & T:T      & G:G      & G:G      & A:A      & A:G      & A:T     \\\\\n",
       "\t 0        & 7.264422 & G:G      & C:T      & T:T      & C:T      & A:G      & G:G      & G:G      & C:G      & ...      & C:T      & A:G      & G:G      & G:G      & C:T      & A:G      & G:G      & A:G      & G:G      & T:T     \\\\\n",
       "\\end{tabular}\n"
      ],
      "text/markdown": [
       "\n",
       "| W2MedWRelFFM1Bin | W2MedWRelFFM1 | rs10034661 | rs10063949 | rs1024610 | rs1024611 | rs1042713 | rs1045485 | rs10491003 | rs1049305 | ... | rs8111989 | rs8192678 | rs824205 | rs833070 | rs884736 | rs921943 | rs9469199 | rs970547 | rs9902453 | rs9939609 |\n",
       "|---|---|---|---|---|---|---|---|---|---|---|---|---|---|---|---|---|---|---|---|---|\n",
       "| 0        | 5.800669 | G:G      | C:T      | A:T      | T:T      | A:A      | C:G      | G:G      | C:G      | ...      | C:T      | A:G      | G:G      | A:G      | C:T      | A:G      | A:G      | A:A      | A:G      | A:A      |\n",
       "| 0        | 5.889891 | G:G      | C:T      | A:T      | C:T      | A:G      | G:G      | G:G      | G:G      | ...      | C:T      | A:G      | A:G      | A:G      | C:T      | A:G      | G:G      | A:G      | A:G      | T:T      |\n",
       "| 0        | 5.259510 | G:G      | T:T      | A:T      | T:T      | A:G      | G:G      | G:G      | C:G      | ...      | C:T      | A:G      | G:G      | A:G      | C:T      | A:A      | G:G      | A:G      | A:G      | A:A      |\n",
       "| 0        | 6.689804 | G:G      | T:T      | T:T      | C:T      | A:G      | G:G      | G:G      | C:C      | ...      | C:T      | A:G      | G:G      | A:G      | C:T      | A:G      | G:G      | A:A      | A:A      | A:A      |\n",
       "| 0        | 7.302166 | G:G      | C:T      | T:T      | C:T      | G:G      | C:C      | G:G      | C:G      | ...      | C:T      | A:G      | G:G      | G:G      | T:T      | G:G      | G:G      | A:A      | A:G      | A:T      |\n",
       "| 0        | 7.264422 | G:G      | C:T      | T:T      | C:T      | A:G      | G:G      | G:G      | C:G      | ...      | C:T      | A:G      | G:G      | G:G      | C:T      | A:G      | G:G      | A:G      | G:G      | T:T      |\n",
       "\n"
      ],
      "text/plain": [
       "  W2MedWRelFFM1Bin W2MedWRelFFM1 rs10034661 rs10063949 rs1024610 rs1024611\n",
       "1 0                5.800669      G:G        C:T        A:T       T:T      \n",
       "2 0                5.889891      G:G        C:T        A:T       C:T      \n",
       "3 0                5.259510      G:G        T:T        A:T       T:T      \n",
       "4 0                6.689804      G:G        T:T        T:T       C:T      \n",
       "5 0                7.302166      G:G        C:T        T:T       C:T      \n",
       "6 0                7.264422      G:G        C:T        T:T       C:T      \n",
       "  rs1042713 rs1045485 rs10491003 rs1049305 ... rs8111989 rs8192678 rs824205\n",
       "1 A:A       C:G       G:G        C:G       ... C:T       A:G       G:G     \n",
       "2 A:G       G:G       G:G        G:G       ... C:T       A:G       A:G     \n",
       "3 A:G       G:G       G:G        C:G       ... C:T       A:G       G:G     \n",
       "4 A:G       G:G       G:G        C:C       ... C:T       A:G       G:G     \n",
       "5 G:G       C:C       G:G        C:G       ... C:T       A:G       G:G     \n",
       "6 A:G       G:G       G:G        C:G       ... C:T       A:G       G:G     \n",
       "  rs833070 rs884736 rs921943 rs9469199 rs970547 rs9902453 rs9939609\n",
       "1 A:G      C:T      A:G      A:G       A:A      A:G       A:A      \n",
       "2 A:G      C:T      A:G      G:G       A:G      A:G       T:T      \n",
       "3 A:G      C:T      A:A      G:G       A:G      A:G       A:A      \n",
       "4 A:G      C:T      A:G      G:G       A:A      A:A       A:A      \n",
       "5 G:G      T:T      G:G      G:G       A:A      A:G       A:T      \n",
       "6 G:G      C:T      A:G      G:G       A:G      G:G       T:T      "
      ]
     },
     "metadata": {},
     "output_type": "display_data"
    }
   ],
   "source": [
    "W2MedWRelFFM1Bin <- factor(as.numeric(handle_target['W2MedWRelFFM1']>=median(handle_target$W2MedWRelFFM1)))\n",
    "\n",
    "w2_med <- cbind(W2MedWRelFFM1Bin, w2_med)\n",
    "\n",
    "head(w2_med)"
   ]
  },
  {
   "cell_type": "code",
   "execution_count": 28,
   "metadata": {
    "scrolled": true
   },
   "outputs": [
    {
     "data": {
      "text/html": [
       "<table>\n",
       "<thead><tr><th scope=col>W2MedWRelFFM1Bin</th><th scope=col>rs10034661</th><th scope=col>rs10063949</th><th scope=col>rs1024610</th><th scope=col>rs1024611</th><th scope=col>rs1042713</th><th scope=col>rs1045485</th><th scope=col>rs10491003</th><th scope=col>rs1049305</th><th scope=col>rs1049434</th><th scope=col>...</th><th scope=col>rs8111989</th><th scope=col>rs8192678</th><th scope=col>rs824205</th><th scope=col>rs833070</th><th scope=col>rs884736</th><th scope=col>rs921943</th><th scope=col>rs9469199</th><th scope=col>rs970547</th><th scope=col>rs9902453</th><th scope=col>rs9939609</th></tr></thead>\n",
       "<tbody>\n",
       "\t<tr><td>0  </td><td>G:G</td><td>C:T</td><td>A:T</td><td>T:T</td><td>A:A</td><td>C:G</td><td>G:G</td><td>C:G</td><td>A:T</td><td>...</td><td>C:T</td><td>A:G</td><td>G:G</td><td>A:G</td><td>C:T</td><td>A:G</td><td>A:G</td><td>A:A</td><td>A:G</td><td>A:A</td></tr>\n",
       "\t<tr><td>0  </td><td>G:G</td><td>C:T</td><td>A:T</td><td>C:T</td><td>A:G</td><td>G:G</td><td>G:G</td><td>G:G</td><td>A:A</td><td>...</td><td>C:T</td><td>A:G</td><td>A:G</td><td>A:G</td><td>C:T</td><td>A:G</td><td>G:G</td><td>A:G</td><td>A:G</td><td>T:T</td></tr>\n",
       "\t<tr><td>0  </td><td>G:G</td><td>T:T</td><td>A:T</td><td>T:T</td><td>A:G</td><td>G:G</td><td>G:G</td><td>C:G</td><td>A:A</td><td>...</td><td>C:T</td><td>A:G</td><td>G:G</td><td>A:G</td><td>C:T</td><td>A:A</td><td>G:G</td><td>A:G</td><td>A:G</td><td>A:A</td></tr>\n",
       "\t<tr><td>0  </td><td>G:G</td><td>T:T</td><td>T:T</td><td>C:T</td><td>A:G</td><td>G:G</td><td>G:G</td><td>C:C</td><td>A:T</td><td>...</td><td>C:T</td><td>A:G</td><td>G:G</td><td>A:G</td><td>C:T</td><td>A:G</td><td>G:G</td><td>A:A</td><td>A:A</td><td>A:A</td></tr>\n",
       "\t<tr><td>0  </td><td>G:G</td><td>C:T</td><td>T:T</td><td>C:T</td><td>G:G</td><td>C:C</td><td>G:G</td><td>C:G</td><td>T:T</td><td>...</td><td>C:T</td><td>A:G</td><td>G:G</td><td>G:G</td><td>T:T</td><td>G:G</td><td>G:G</td><td>A:A</td><td>A:G</td><td>A:T</td></tr>\n",
       "\t<tr><td>0  </td><td>G:G</td><td>C:T</td><td>T:T</td><td>C:T</td><td>A:G</td><td>G:G</td><td>G:G</td><td>C:G</td><td>A:T</td><td>...</td><td>C:T</td><td>A:G</td><td>G:G</td><td>G:G</td><td>C:T</td><td>A:G</td><td>G:G</td><td>A:G</td><td>G:G</td><td>T:T</td></tr>\n",
       "</tbody>\n",
       "</table>\n"
      ],
      "text/latex": [
       "\\begin{tabular}{r|lllllllllllllllllllllllllllllllllllllllllllllllllllllllllllllllllllllllllllllllllllllllllllllllllllllllllllllllllllllllllllllllllllllllllllllllllllllllllllllllllllllllllllllllllll}\n",
       " W2MedWRelFFM1Bin & rs10034661 & rs10063949 & rs1024610 & rs1024611 & rs1042713 & rs1045485 & rs10491003 & rs1049305 & rs1049434 & ... & rs8111989 & rs8192678 & rs824205 & rs833070 & rs884736 & rs921943 & rs9469199 & rs970547 & rs9902453 & rs9939609\\\\\n",
       "\\hline\n",
       "\t 0   & G:G & C:T & A:T & T:T & A:A & C:G & G:G & C:G & A:T & ... & C:T & A:G & G:G & A:G & C:T & A:G & A:G & A:A & A:G & A:A\\\\\n",
       "\t 0   & G:G & C:T & A:T & C:T & A:G & G:G & G:G & G:G & A:A & ... & C:T & A:G & A:G & A:G & C:T & A:G & G:G & A:G & A:G & T:T\\\\\n",
       "\t 0   & G:G & T:T & A:T & T:T & A:G & G:G & G:G & C:G & A:A & ... & C:T & A:G & G:G & A:G & C:T & A:A & G:G & A:G & A:G & A:A\\\\\n",
       "\t 0   & G:G & T:T & T:T & C:T & A:G & G:G & G:G & C:C & A:T & ... & C:T & A:G & G:G & A:G & C:T & A:G & G:G & A:A & A:A & A:A\\\\\n",
       "\t 0   & G:G & C:T & T:T & C:T & G:G & C:C & G:G & C:G & T:T & ... & C:T & A:G & G:G & G:G & T:T & G:G & G:G & A:A & A:G & A:T\\\\\n",
       "\t 0   & G:G & C:T & T:T & C:T & A:G & G:G & G:G & C:G & A:T & ... & C:T & A:G & G:G & G:G & C:T & A:G & G:G & A:G & G:G & T:T\\\\\n",
       "\\end{tabular}\n"
      ],
      "text/markdown": [
       "\n",
       "| W2MedWRelFFM1Bin | rs10034661 | rs10063949 | rs1024610 | rs1024611 | rs1042713 | rs1045485 | rs10491003 | rs1049305 | rs1049434 | ... | rs8111989 | rs8192678 | rs824205 | rs833070 | rs884736 | rs921943 | rs9469199 | rs970547 | rs9902453 | rs9939609 |\n",
       "|---|---|---|---|---|---|---|---|---|---|---|---|---|---|---|---|---|---|---|---|---|\n",
       "| 0   | G:G | C:T | A:T | T:T | A:A | C:G | G:G | C:G | A:T | ... | C:T | A:G | G:G | A:G | C:T | A:G | A:G | A:A | A:G | A:A |\n",
       "| 0   | G:G | C:T | A:T | C:T | A:G | G:G | G:G | G:G | A:A | ... | C:T | A:G | A:G | A:G | C:T | A:G | G:G | A:G | A:G | T:T |\n",
       "| 0   | G:G | T:T | A:T | T:T | A:G | G:G | G:G | C:G | A:A | ... | C:T | A:G | G:G | A:G | C:T | A:A | G:G | A:G | A:G | A:A |\n",
       "| 0   | G:G | T:T | T:T | C:T | A:G | G:G | G:G | C:C | A:T | ... | C:T | A:G | G:G | A:G | C:T | A:G | G:G | A:A | A:A | A:A |\n",
       "| 0   | G:G | C:T | T:T | C:T | G:G | C:C | G:G | C:G | T:T | ... | C:T | A:G | G:G | G:G | T:T | G:G | G:G | A:A | A:G | A:T |\n",
       "| 0   | G:G | C:T | T:T | C:T | A:G | G:G | G:G | C:G | A:T | ... | C:T | A:G | G:G | G:G | C:T | A:G | G:G | A:G | G:G | T:T |\n",
       "\n"
      ],
      "text/plain": [
       "  W2MedWRelFFM1Bin rs10034661 rs10063949 rs1024610 rs1024611 rs1042713\n",
       "1 0                G:G        C:T        A:T       T:T       A:A      \n",
       "2 0                G:G        C:T        A:T       C:T       A:G      \n",
       "3 0                G:G        T:T        A:T       T:T       A:G      \n",
       "4 0                G:G        T:T        T:T       C:T       A:G      \n",
       "5 0                G:G        C:T        T:T       C:T       G:G      \n",
       "6 0                G:G        C:T        T:T       C:T       A:G      \n",
       "  rs1045485 rs10491003 rs1049305 rs1049434 ... rs8111989 rs8192678 rs824205\n",
       "1 C:G       G:G        C:G       A:T       ... C:T       A:G       G:G     \n",
       "2 G:G       G:G        G:G       A:A       ... C:T       A:G       A:G     \n",
       "3 G:G       G:G        C:G       A:A       ... C:T       A:G       G:G     \n",
       "4 G:G       G:G        C:C       A:T       ... C:T       A:G       G:G     \n",
       "5 C:C       G:G        C:G       T:T       ... C:T       A:G       G:G     \n",
       "6 G:G       G:G        C:G       A:T       ... C:T       A:G       G:G     \n",
       "  rs833070 rs884736 rs921943 rs9469199 rs970547 rs9902453 rs9939609\n",
       "1 A:G      C:T      A:G      A:G       A:A      A:G       A:A      \n",
       "2 A:G      C:T      A:G      G:G       A:G      A:G       T:T      \n",
       "3 A:G      C:T      A:A      G:G       A:G      A:G       A:A      \n",
       "4 A:G      C:T      A:G      G:G       A:A      A:A       A:A      \n",
       "5 G:G      T:T      G:G      G:G       A:A      A:G       A:T      \n",
       "6 G:G      C:T      A:G      G:G       A:G      G:G       T:T      "
      ]
     },
     "metadata": {},
     "output_type": "display_data"
    }
   ],
   "source": [
    "w2_med$W2MedWRelFFM1 <- NULL\n",
    "head(w2_med)"
   ]
  },
  {
   "cell_type": "markdown",
   "metadata": {},
   "source": [
    "#### Fatigue rate relative to FFM1 in Wingate 2 (W2DifWRelFFM1) <a class=\"anchor\" id=\"12\"></a>"
   ]
  },
  {
   "cell_type": "markdown",
   "metadata": {},
   "source": [
    "* [Returning to the index of contents](#index)"
   ]
  },
  {
   "cell_type": "code",
   "execution_count": 29,
   "metadata": {},
   "outputs": [
    {
     "data": {
      "text/html": [
       "<table>\n",
       "<thead><tr><th scope=col>W2DifWRelFFM1</th><th scope=col>rs10034661</th><th scope=col>rs10063949</th><th scope=col>rs1024610</th><th scope=col>rs1024611</th><th scope=col>rs1042713</th><th scope=col>rs1045485</th><th scope=col>rs10491003</th><th scope=col>rs1049305</th><th scope=col>rs1049434</th><th scope=col>...</th><th scope=col>rs8111989</th><th scope=col>rs8192678</th><th scope=col>rs824205</th><th scope=col>rs833070</th><th scope=col>rs884736</th><th scope=col>rs921943</th><th scope=col>rs9469199</th><th scope=col>rs970547</th><th scope=col>rs9902453</th><th scope=col>rs9939609</th></tr></thead>\n",
       "<tbody>\n",
       "\t<tr><td> 4.479981</td><td>G:G      </td><td>C:T      </td><td>A:T      </td><td>T:T      </td><td>A:A      </td><td>C:G      </td><td>G:G      </td><td>C:G      </td><td>A:T      </td><td>...      </td><td>C:T      </td><td>A:G      </td><td>G:G      </td><td>A:G      </td><td>C:T      </td><td>A:G      </td><td>A:G      </td><td>A:A      </td><td>A:G      </td><td>A:A      </td></tr>\n",
       "\t<tr><td> 4.552187</td><td>G:G      </td><td>C:T      </td><td>A:T      </td><td>C:T      </td><td>A:G      </td><td>G:G      </td><td>G:G      </td><td>G:G      </td><td>A:A      </td><td>...      </td><td>C:T      </td><td>A:G      </td><td>A:G      </td><td>A:G      </td><td>C:T      </td><td>A:G      </td><td>G:G      </td><td>A:G      </td><td>A:G      </td><td>T:T      </td></tr>\n",
       "\t<tr><td> 4.958966</td><td>G:G      </td><td>T:T      </td><td>A:T      </td><td>T:T      </td><td>A:G      </td><td>G:G      </td><td>G:G      </td><td>C:G      </td><td>A:A      </td><td>...      </td><td>C:T      </td><td>A:G      </td><td>G:G      </td><td>A:G      </td><td>C:T      </td><td>A:A      </td><td>G:G      </td><td>A:G      </td><td>A:G      </td><td>A:A      </td></tr>\n",
       "\t<tr><td> 2.792441</td><td>G:G      </td><td>T:T      </td><td>T:T      </td><td>C:T      </td><td>A:G      </td><td>G:G      </td><td>G:G      </td><td>C:C      </td><td>A:T      </td><td>...      </td><td>C:T      </td><td>A:G      </td><td>G:G      </td><td>A:G      </td><td>C:T      </td><td>A:G      </td><td>G:G      </td><td>A:A      </td><td>A:A      </td><td>A:A      </td></tr>\n",
       "\t<tr><td>-3.215855</td><td>G:G      </td><td>C:T      </td><td>T:T      </td><td>C:T      </td><td>G:G      </td><td>C:C      </td><td>G:G      </td><td>C:G      </td><td>T:T      </td><td>...      </td><td>C:T      </td><td>A:G      </td><td>G:G      </td><td>G:G      </td><td>T:T      </td><td>G:G      </td><td>G:G      </td><td>A:A      </td><td>A:G      </td><td>A:T      </td></tr>\n",
       "\t<tr><td> 4.113095</td><td>G:G      </td><td>C:T      </td><td>T:T      </td><td>C:T      </td><td>A:G      </td><td>G:G      </td><td>G:G      </td><td>C:G      </td><td>A:T      </td><td>...      </td><td>C:T      </td><td>A:G      </td><td>G:G      </td><td>G:G      </td><td>C:T      </td><td>A:G      </td><td>G:G      </td><td>A:G      </td><td>G:G      </td><td>T:T      </td></tr>\n",
       "</tbody>\n",
       "</table>\n"
      ],
      "text/latex": [
       "\\begin{tabular}{r|lllllllllllllllllllllllllllllllllllllllllllllllllllllllllllllllllllllllllllllllllllllllllllllllllllllllllllllllllllllllllllllllllllllllllllllllllllllllllllllllllllllllllllllllllll}\n",
       " W2DifWRelFFM1 & rs10034661 & rs10063949 & rs1024610 & rs1024611 & rs1042713 & rs1045485 & rs10491003 & rs1049305 & rs1049434 & ... & rs8111989 & rs8192678 & rs824205 & rs833070 & rs884736 & rs921943 & rs9469199 & rs970547 & rs9902453 & rs9939609\\\\\n",
       "\\hline\n",
       "\t  4.479981 & G:G       & C:T       & A:T       & T:T       & A:A       & C:G       & G:G       & C:G       & A:T       & ...       & C:T       & A:G       & G:G       & A:G       & C:T       & A:G       & A:G       & A:A       & A:G       & A:A      \\\\\n",
       "\t  4.552187 & G:G       & C:T       & A:T       & C:T       & A:G       & G:G       & G:G       & G:G       & A:A       & ...       & C:T       & A:G       & A:G       & A:G       & C:T       & A:G       & G:G       & A:G       & A:G       & T:T      \\\\\n",
       "\t  4.958966 & G:G       & T:T       & A:T       & T:T       & A:G       & G:G       & G:G       & C:G       & A:A       & ...       & C:T       & A:G       & G:G       & A:G       & C:T       & A:A       & G:G       & A:G       & A:G       & A:A      \\\\\n",
       "\t  2.792441 & G:G       & T:T       & T:T       & C:T       & A:G       & G:G       & G:G       & C:C       & A:T       & ...       & C:T       & A:G       & G:G       & A:G       & C:T       & A:G       & G:G       & A:A       & A:A       & A:A      \\\\\n",
       "\t -3.215855 & G:G       & C:T       & T:T       & C:T       & G:G       & C:C       & G:G       & C:G       & T:T       & ...       & C:T       & A:G       & G:G       & G:G       & T:T       & G:G       & G:G       & A:A       & A:G       & A:T      \\\\\n",
       "\t  4.113095 & G:G       & C:T       & T:T       & C:T       & A:G       & G:G       & G:G       & C:G       & A:T       & ...       & C:T       & A:G       & G:G       & G:G       & C:T       & A:G       & G:G       & A:G       & G:G       & T:T      \\\\\n",
       "\\end{tabular}\n"
      ],
      "text/markdown": [
       "\n",
       "| W2DifWRelFFM1 | rs10034661 | rs10063949 | rs1024610 | rs1024611 | rs1042713 | rs1045485 | rs10491003 | rs1049305 | rs1049434 | ... | rs8111989 | rs8192678 | rs824205 | rs833070 | rs884736 | rs921943 | rs9469199 | rs970547 | rs9902453 | rs9939609 |\n",
       "|---|---|---|---|---|---|---|---|---|---|---|---|---|---|---|---|---|---|---|---|---|\n",
       "|  4.479981 | G:G       | C:T       | A:T       | T:T       | A:A       | C:G       | G:G       | C:G       | A:T       | ...       | C:T       | A:G       | G:G       | A:G       | C:T       | A:G       | A:G       | A:A       | A:G       | A:A       |\n",
       "|  4.552187 | G:G       | C:T       | A:T       | C:T       | A:G       | G:G       | G:G       | G:G       | A:A       | ...       | C:T       | A:G       | A:G       | A:G       | C:T       | A:G       | G:G       | A:G       | A:G       | T:T       |\n",
       "|  4.958966 | G:G       | T:T       | A:T       | T:T       | A:G       | G:G       | G:G       | C:G       | A:A       | ...       | C:T       | A:G       | G:G       | A:G       | C:T       | A:A       | G:G       | A:G       | A:G       | A:A       |\n",
       "|  2.792441 | G:G       | T:T       | T:T       | C:T       | A:G       | G:G       | G:G       | C:C       | A:T       | ...       | C:T       | A:G       | G:G       | A:G       | C:T       | A:G       | G:G       | A:A       | A:A       | A:A       |\n",
       "| -3.215855 | G:G       | C:T       | T:T       | C:T       | G:G       | C:C       | G:G       | C:G       | T:T       | ...       | C:T       | A:G       | G:G       | G:G       | T:T       | G:G       | G:G       | A:A       | A:G       | A:T       |\n",
       "|  4.113095 | G:G       | C:T       | T:T       | C:T       | A:G       | G:G       | G:G       | C:G       | A:T       | ...       | C:T       | A:G       | G:G       | G:G       | C:T       | A:G       | G:G       | A:G       | G:G       | T:T       |\n",
       "\n"
      ],
      "text/plain": [
       "  W2DifWRelFFM1 rs10034661 rs10063949 rs1024610 rs1024611 rs1042713 rs1045485\n",
       "1  4.479981     G:G        C:T        A:T       T:T       A:A       C:G      \n",
       "2  4.552187     G:G        C:T        A:T       C:T       A:G       G:G      \n",
       "3  4.958966     G:G        T:T        A:T       T:T       A:G       G:G      \n",
       "4  2.792441     G:G        T:T        T:T       C:T       A:G       G:G      \n",
       "5 -3.215855     G:G        C:T        T:T       C:T       G:G       C:C      \n",
       "6  4.113095     G:G        C:T        T:T       C:T       A:G       G:G      \n",
       "  rs10491003 rs1049305 rs1049434 ... rs8111989 rs8192678 rs824205 rs833070\n",
       "1 G:G        C:G       A:T       ... C:T       A:G       G:G      A:G     \n",
       "2 G:G        G:G       A:A       ... C:T       A:G       A:G      A:G     \n",
       "3 G:G        C:G       A:A       ... C:T       A:G       G:G      A:G     \n",
       "4 G:G        C:C       A:T       ... C:T       A:G       G:G      A:G     \n",
       "5 G:G        C:G       T:T       ... C:T       A:G       G:G      G:G     \n",
       "6 G:G        C:G       A:T       ... C:T       A:G       G:G      G:G     \n",
       "  rs884736 rs921943 rs9469199 rs970547 rs9902453 rs9939609\n",
       "1 C:T      A:G      A:G       A:A      A:G       A:A      \n",
       "2 C:T      A:G      G:G       A:G      A:G       T:T      \n",
       "3 C:T      A:A      G:G       A:G      A:G       A:A      \n",
       "4 C:T      A:G      G:G       A:A      A:A       A:A      \n",
       "5 T:T      G:G      G:G       A:A      A:G       A:T      \n",
       "6 C:T      A:G      G:G       A:G      G:G       T:T      "
      ]
     },
     "metadata": {},
     "output_type": "display_data"
    }
   ],
   "source": [
    "ind_w2 <- cbind(handle_target['W2DifWRelFFM1'],handle_genetic) \n",
    "\n",
    "rownames(ind_w2) <- NULL\n",
    "\n",
    "head(ind_w2)"
   ]
  },
  {
   "cell_type": "code",
   "execution_count": 30,
   "metadata": {},
   "outputs": [
    {
     "data": {
      "text/html": [
       "<table>\n",
       "<thead><tr><th scope=col>W2DifWRelFFM1Bin</th><th scope=col>W2DifWRelFFM1</th><th scope=col>rs10034661</th><th scope=col>rs10063949</th><th scope=col>rs1024610</th><th scope=col>rs1024611</th><th scope=col>rs1042713</th><th scope=col>rs1045485</th><th scope=col>rs10491003</th><th scope=col>rs1049305</th><th scope=col>...</th><th scope=col>rs8111989</th><th scope=col>rs8192678</th><th scope=col>rs824205</th><th scope=col>rs833070</th><th scope=col>rs884736</th><th scope=col>rs921943</th><th scope=col>rs9469199</th><th scope=col>rs970547</th><th scope=col>rs9902453</th><th scope=col>rs9939609</th></tr></thead>\n",
       "<tbody>\n",
       "\t<tr><td>0        </td><td> 4.479981</td><td>G:G      </td><td>C:T      </td><td>A:T      </td><td>T:T      </td><td>A:A      </td><td>C:G      </td><td>G:G      </td><td>C:G      </td><td>...      </td><td>C:T      </td><td>A:G      </td><td>G:G      </td><td>A:G      </td><td>C:T      </td><td>A:G      </td><td>A:G      </td><td>A:A      </td><td>A:G      </td><td>A:A      </td></tr>\n",
       "\t<tr><td>0        </td><td> 4.552187</td><td>G:G      </td><td>C:T      </td><td>A:T      </td><td>C:T      </td><td>A:G      </td><td>G:G      </td><td>G:G      </td><td>G:G      </td><td>...      </td><td>C:T      </td><td>A:G      </td><td>A:G      </td><td>A:G      </td><td>C:T      </td><td>A:G      </td><td>G:G      </td><td>A:G      </td><td>A:G      </td><td>T:T      </td></tr>\n",
       "\t<tr><td>0        </td><td> 4.958966</td><td>G:G      </td><td>T:T      </td><td>A:T      </td><td>T:T      </td><td>A:G      </td><td>G:G      </td><td>G:G      </td><td>C:G      </td><td>...      </td><td>C:T      </td><td>A:G      </td><td>G:G      </td><td>A:G      </td><td>C:T      </td><td>A:A      </td><td>G:G      </td><td>A:G      </td><td>A:G      </td><td>A:A      </td></tr>\n",
       "\t<tr><td>0        </td><td> 2.792441</td><td>G:G      </td><td>T:T      </td><td>T:T      </td><td>C:T      </td><td>A:G      </td><td>G:G      </td><td>G:G      </td><td>C:C      </td><td>...      </td><td>C:T      </td><td>A:G      </td><td>G:G      </td><td>A:G      </td><td>C:T      </td><td>A:G      </td><td>G:G      </td><td>A:A      </td><td>A:A      </td><td>A:A      </td></tr>\n",
       "\t<tr><td>0        </td><td>-3.215855</td><td>G:G      </td><td>C:T      </td><td>T:T      </td><td>C:T      </td><td>G:G      </td><td>C:C      </td><td>G:G      </td><td>C:G      </td><td>...      </td><td>C:T      </td><td>A:G      </td><td>G:G      </td><td>G:G      </td><td>T:T      </td><td>G:G      </td><td>G:G      </td><td>A:A      </td><td>A:G      </td><td>A:T      </td></tr>\n",
       "\t<tr><td>0        </td><td> 4.113095</td><td>G:G      </td><td>C:T      </td><td>T:T      </td><td>C:T      </td><td>A:G      </td><td>G:G      </td><td>G:G      </td><td>C:G      </td><td>...      </td><td>C:T      </td><td>A:G      </td><td>G:G      </td><td>G:G      </td><td>C:T      </td><td>A:G      </td><td>G:G      </td><td>A:G      </td><td>G:G      </td><td>T:T      </td></tr>\n",
       "</tbody>\n",
       "</table>\n"
      ],
      "text/latex": [
       "\\begin{tabular}{r|llllllllllllllllllllllllllllllllllllllllllllllllllllllllllllllllllllllllllllllllllllllllllllllllllllllllllllllllllllllllllllllllllllllllllllllllllllllllllllllllllllllllllllllllllll}\n",
       " W2DifWRelFFM1Bin & W2DifWRelFFM1 & rs10034661 & rs10063949 & rs1024610 & rs1024611 & rs1042713 & rs1045485 & rs10491003 & rs1049305 & ... & rs8111989 & rs8192678 & rs824205 & rs833070 & rs884736 & rs921943 & rs9469199 & rs970547 & rs9902453 & rs9939609\\\\\n",
       "\\hline\n",
       "\t 0         &  4.479981 & G:G       & C:T       & A:T       & T:T       & A:A       & C:G       & G:G       & C:G       & ...       & C:T       & A:G       & G:G       & A:G       & C:T       & A:G       & A:G       & A:A       & A:G       & A:A      \\\\\n",
       "\t 0         &  4.552187 & G:G       & C:T       & A:T       & C:T       & A:G       & G:G       & G:G       & G:G       & ...       & C:T       & A:G       & A:G       & A:G       & C:T       & A:G       & G:G       & A:G       & A:G       & T:T      \\\\\n",
       "\t 0         &  4.958966 & G:G       & T:T       & A:T       & T:T       & A:G       & G:G       & G:G       & C:G       & ...       & C:T       & A:G       & G:G       & A:G       & C:T       & A:A       & G:G       & A:G       & A:G       & A:A      \\\\\n",
       "\t 0         &  2.792441 & G:G       & T:T       & T:T       & C:T       & A:G       & G:G       & G:G       & C:C       & ...       & C:T       & A:G       & G:G       & A:G       & C:T       & A:G       & G:G       & A:A       & A:A       & A:A      \\\\\n",
       "\t 0         & -3.215855 & G:G       & C:T       & T:T       & C:T       & G:G       & C:C       & G:G       & C:G       & ...       & C:T       & A:G       & G:G       & G:G       & T:T       & G:G       & G:G       & A:A       & A:G       & A:T      \\\\\n",
       "\t 0         &  4.113095 & G:G       & C:T       & T:T       & C:T       & A:G       & G:G       & G:G       & C:G       & ...       & C:T       & A:G       & G:G       & G:G       & C:T       & A:G       & G:G       & A:G       & G:G       & T:T      \\\\\n",
       "\\end{tabular}\n"
      ],
      "text/markdown": [
       "\n",
       "| W2DifWRelFFM1Bin | W2DifWRelFFM1 | rs10034661 | rs10063949 | rs1024610 | rs1024611 | rs1042713 | rs1045485 | rs10491003 | rs1049305 | ... | rs8111989 | rs8192678 | rs824205 | rs833070 | rs884736 | rs921943 | rs9469199 | rs970547 | rs9902453 | rs9939609 |\n",
       "|---|---|---|---|---|---|---|---|---|---|---|---|---|---|---|---|---|---|---|---|---|\n",
       "| 0         |  4.479981 | G:G       | C:T       | A:T       | T:T       | A:A       | C:G       | G:G       | C:G       | ...       | C:T       | A:G       | G:G       | A:G       | C:T       | A:G       | A:G       | A:A       | A:G       | A:A       |\n",
       "| 0         |  4.552187 | G:G       | C:T       | A:T       | C:T       | A:G       | G:G       | G:G       | G:G       | ...       | C:T       | A:G       | A:G       | A:G       | C:T       | A:G       | G:G       | A:G       | A:G       | T:T       |\n",
       "| 0         |  4.958966 | G:G       | T:T       | A:T       | T:T       | A:G       | G:G       | G:G       | C:G       | ...       | C:T       | A:G       | G:G       | A:G       | C:T       | A:A       | G:G       | A:G       | A:G       | A:A       |\n",
       "| 0         |  2.792441 | G:G       | T:T       | T:T       | C:T       | A:G       | G:G       | G:G       | C:C       | ...       | C:T       | A:G       | G:G       | A:G       | C:T       | A:G       | G:G       | A:A       | A:A       | A:A       |\n",
       "| 0         | -3.215855 | G:G       | C:T       | T:T       | C:T       | G:G       | C:C       | G:G       | C:G       | ...       | C:T       | A:G       | G:G       | G:G       | T:T       | G:G       | G:G       | A:A       | A:G       | A:T       |\n",
       "| 0         |  4.113095 | G:G       | C:T       | T:T       | C:T       | A:G       | G:G       | G:G       | C:G       | ...       | C:T       | A:G       | G:G       | G:G       | C:T       | A:G       | G:G       | A:G       | G:G       | T:T       |\n",
       "\n"
      ],
      "text/plain": [
       "  W2DifWRelFFM1Bin W2DifWRelFFM1 rs10034661 rs10063949 rs1024610 rs1024611\n",
       "1 0                 4.479981     G:G        C:T        A:T       T:T      \n",
       "2 0                 4.552187     G:G        C:T        A:T       C:T      \n",
       "3 0                 4.958966     G:G        T:T        A:T       T:T      \n",
       "4 0                 2.792441     G:G        T:T        T:T       C:T      \n",
       "5 0                -3.215855     G:G        C:T        T:T       C:T      \n",
       "6 0                 4.113095     G:G        C:T        T:T       C:T      \n",
       "  rs1042713 rs1045485 rs10491003 rs1049305 ... rs8111989 rs8192678 rs824205\n",
       "1 A:A       C:G       G:G        C:G       ... C:T       A:G       G:G     \n",
       "2 A:G       G:G       G:G        G:G       ... C:T       A:G       A:G     \n",
       "3 A:G       G:G       G:G        C:G       ... C:T       A:G       G:G     \n",
       "4 A:G       G:G       G:G        C:C       ... C:T       A:G       G:G     \n",
       "5 G:G       C:C       G:G        C:G       ... C:T       A:G       G:G     \n",
       "6 A:G       G:G       G:G        C:G       ... C:T       A:G       G:G     \n",
       "  rs833070 rs884736 rs921943 rs9469199 rs970547 rs9902453 rs9939609\n",
       "1 A:G      C:T      A:G      A:G       A:A      A:G       A:A      \n",
       "2 A:G      C:T      A:G      G:G       A:G      A:G       T:T      \n",
       "3 A:G      C:T      A:A      G:G       A:G      A:G       A:A      \n",
       "4 A:G      C:T      A:G      G:G       A:A      A:A       A:A      \n",
       "5 G:G      T:T      G:G      G:G       A:A      A:G       A:T      \n",
       "6 G:G      C:T      A:G      G:G       A:G      G:G       T:T      "
      ]
     },
     "metadata": {},
     "output_type": "display_data"
    }
   ],
   "source": [
    "W2DifWRelFFM1Bin <- factor(as.numeric(handle_target['W2DifWRelFFM1']>=median(handle_target$W2DifWRelFFM1)))\n",
    "\n",
    "ind_w2<- cbind(W2DifWRelFFM1Bin, ind_w2)\n",
    "\n",
    "head(ind_w2)"
   ]
  },
  {
   "cell_type": "code",
   "execution_count": 31,
   "metadata": {},
   "outputs": [
    {
     "data": {
      "text/html": [
       "<table>\n",
       "<thead><tr><th scope=col>W2DifWRelFFM1Bin</th><th scope=col>rs10034661</th><th scope=col>rs10063949</th><th scope=col>rs1024610</th><th scope=col>rs1024611</th><th scope=col>rs1042713</th><th scope=col>rs1045485</th><th scope=col>rs10491003</th><th scope=col>rs1049305</th><th scope=col>rs1049434</th><th scope=col>...</th><th scope=col>rs8111989</th><th scope=col>rs8192678</th><th scope=col>rs824205</th><th scope=col>rs833070</th><th scope=col>rs884736</th><th scope=col>rs921943</th><th scope=col>rs9469199</th><th scope=col>rs970547</th><th scope=col>rs9902453</th><th scope=col>rs9939609</th></tr></thead>\n",
       "<tbody>\n",
       "\t<tr><td>0  </td><td>G:G</td><td>C:T</td><td>A:T</td><td>T:T</td><td>A:A</td><td>C:G</td><td>G:G</td><td>C:G</td><td>A:T</td><td>...</td><td>C:T</td><td>A:G</td><td>G:G</td><td>A:G</td><td>C:T</td><td>A:G</td><td>A:G</td><td>A:A</td><td>A:G</td><td>A:A</td></tr>\n",
       "\t<tr><td>0  </td><td>G:G</td><td>C:T</td><td>A:T</td><td>C:T</td><td>A:G</td><td>G:G</td><td>G:G</td><td>G:G</td><td>A:A</td><td>...</td><td>C:T</td><td>A:G</td><td>A:G</td><td>A:G</td><td>C:T</td><td>A:G</td><td>G:G</td><td>A:G</td><td>A:G</td><td>T:T</td></tr>\n",
       "\t<tr><td>0  </td><td>G:G</td><td>T:T</td><td>A:T</td><td>T:T</td><td>A:G</td><td>G:G</td><td>G:G</td><td>C:G</td><td>A:A</td><td>...</td><td>C:T</td><td>A:G</td><td>G:G</td><td>A:G</td><td>C:T</td><td>A:A</td><td>G:G</td><td>A:G</td><td>A:G</td><td>A:A</td></tr>\n",
       "\t<tr><td>0  </td><td>G:G</td><td>T:T</td><td>T:T</td><td>C:T</td><td>A:G</td><td>G:G</td><td>G:G</td><td>C:C</td><td>A:T</td><td>...</td><td>C:T</td><td>A:G</td><td>G:G</td><td>A:G</td><td>C:T</td><td>A:G</td><td>G:G</td><td>A:A</td><td>A:A</td><td>A:A</td></tr>\n",
       "\t<tr><td>0  </td><td>G:G</td><td>C:T</td><td>T:T</td><td>C:T</td><td>G:G</td><td>C:C</td><td>G:G</td><td>C:G</td><td>T:T</td><td>...</td><td>C:T</td><td>A:G</td><td>G:G</td><td>G:G</td><td>T:T</td><td>G:G</td><td>G:G</td><td>A:A</td><td>A:G</td><td>A:T</td></tr>\n",
       "\t<tr><td>0  </td><td>G:G</td><td>C:T</td><td>T:T</td><td>C:T</td><td>A:G</td><td>G:G</td><td>G:G</td><td>C:G</td><td>A:T</td><td>...</td><td>C:T</td><td>A:G</td><td>G:G</td><td>G:G</td><td>C:T</td><td>A:G</td><td>G:G</td><td>A:G</td><td>G:G</td><td>T:T</td></tr>\n",
       "</tbody>\n",
       "</table>\n"
      ],
      "text/latex": [
       "\\begin{tabular}{r|lllllllllllllllllllllllllllllllllllllllllllllllllllllllllllllllllllllllllllllllllllllllllllllllllllllllllllllllllllllllllllllllllllllllllllllllllllllllllllllllllllllllllllllllllll}\n",
       " W2DifWRelFFM1Bin & rs10034661 & rs10063949 & rs1024610 & rs1024611 & rs1042713 & rs1045485 & rs10491003 & rs1049305 & rs1049434 & ... & rs8111989 & rs8192678 & rs824205 & rs833070 & rs884736 & rs921943 & rs9469199 & rs970547 & rs9902453 & rs9939609\\\\\n",
       "\\hline\n",
       "\t 0   & G:G & C:T & A:T & T:T & A:A & C:G & G:G & C:G & A:T & ... & C:T & A:G & G:G & A:G & C:T & A:G & A:G & A:A & A:G & A:A\\\\\n",
       "\t 0   & G:G & C:T & A:T & C:T & A:G & G:G & G:G & G:G & A:A & ... & C:T & A:G & A:G & A:G & C:T & A:G & G:G & A:G & A:G & T:T\\\\\n",
       "\t 0   & G:G & T:T & A:T & T:T & A:G & G:G & G:G & C:G & A:A & ... & C:T & A:G & G:G & A:G & C:T & A:A & G:G & A:G & A:G & A:A\\\\\n",
       "\t 0   & G:G & T:T & T:T & C:T & A:G & G:G & G:G & C:C & A:T & ... & C:T & A:G & G:G & A:G & C:T & A:G & G:G & A:A & A:A & A:A\\\\\n",
       "\t 0   & G:G & C:T & T:T & C:T & G:G & C:C & G:G & C:G & T:T & ... & C:T & A:G & G:G & G:G & T:T & G:G & G:G & A:A & A:G & A:T\\\\\n",
       "\t 0   & G:G & C:T & T:T & C:T & A:G & G:G & G:G & C:G & A:T & ... & C:T & A:G & G:G & G:G & C:T & A:G & G:G & A:G & G:G & T:T\\\\\n",
       "\\end{tabular}\n"
      ],
      "text/markdown": [
       "\n",
       "| W2DifWRelFFM1Bin | rs10034661 | rs10063949 | rs1024610 | rs1024611 | rs1042713 | rs1045485 | rs10491003 | rs1049305 | rs1049434 | ... | rs8111989 | rs8192678 | rs824205 | rs833070 | rs884736 | rs921943 | rs9469199 | rs970547 | rs9902453 | rs9939609 |\n",
       "|---|---|---|---|---|---|---|---|---|---|---|---|---|---|---|---|---|---|---|---|---|\n",
       "| 0   | G:G | C:T | A:T | T:T | A:A | C:G | G:G | C:G | A:T | ... | C:T | A:G | G:G | A:G | C:T | A:G | A:G | A:A | A:G | A:A |\n",
       "| 0   | G:G | C:T | A:T | C:T | A:G | G:G | G:G | G:G | A:A | ... | C:T | A:G | A:G | A:G | C:T | A:G | G:G | A:G | A:G | T:T |\n",
       "| 0   | G:G | T:T | A:T | T:T | A:G | G:G | G:G | C:G | A:A | ... | C:T | A:G | G:G | A:G | C:T | A:A | G:G | A:G | A:G | A:A |\n",
       "| 0   | G:G | T:T | T:T | C:T | A:G | G:G | G:G | C:C | A:T | ... | C:T | A:G | G:G | A:G | C:T | A:G | G:G | A:A | A:A | A:A |\n",
       "| 0   | G:G | C:T | T:T | C:T | G:G | C:C | G:G | C:G | T:T | ... | C:T | A:G | G:G | G:G | T:T | G:G | G:G | A:A | A:G | A:T |\n",
       "| 0   | G:G | C:T | T:T | C:T | A:G | G:G | G:G | C:G | A:T | ... | C:T | A:G | G:G | G:G | C:T | A:G | G:G | A:G | G:G | T:T |\n",
       "\n"
      ],
      "text/plain": [
       "  W2DifWRelFFM1Bin rs10034661 rs10063949 rs1024610 rs1024611 rs1042713\n",
       "1 0                G:G        C:T        A:T       T:T       A:A      \n",
       "2 0                G:G        C:T        A:T       C:T       A:G      \n",
       "3 0                G:G        T:T        A:T       T:T       A:G      \n",
       "4 0                G:G        T:T        T:T       C:T       A:G      \n",
       "5 0                G:G        C:T        T:T       C:T       G:G      \n",
       "6 0                G:G        C:T        T:T       C:T       A:G      \n",
       "  rs1045485 rs10491003 rs1049305 rs1049434 ... rs8111989 rs8192678 rs824205\n",
       "1 C:G       G:G        C:G       A:T       ... C:T       A:G       G:G     \n",
       "2 G:G       G:G        G:G       A:A       ... C:T       A:G       A:G     \n",
       "3 G:G       G:G        C:G       A:A       ... C:T       A:G       G:G     \n",
       "4 G:G       G:G        C:C       A:T       ... C:T       A:G       G:G     \n",
       "5 C:C       G:G        C:G       T:T       ... C:T       A:G       G:G     \n",
       "6 G:G       G:G        C:G       A:T       ... C:T       A:G       G:G     \n",
       "  rs833070 rs884736 rs921943 rs9469199 rs970547 rs9902453 rs9939609\n",
       "1 A:G      C:T      A:G      A:G       A:A      A:G       A:A      \n",
       "2 A:G      C:T      A:G      G:G       A:G      A:G       T:T      \n",
       "3 A:G      C:T      A:A      G:G       A:G      A:G       A:A      \n",
       "4 A:G      C:T      A:G      G:G       A:A      A:A       A:A      \n",
       "5 G:G      T:T      G:G      G:G       A:A      A:G       A:T      \n",
       "6 G:G      C:T      A:G      G:G       A:G      G:G       T:T      "
      ]
     },
     "metadata": {},
     "output_type": "display_data"
    }
   ],
   "source": [
    "ind_w2$W2DifWRelFFM1 <- NULL\n",
    "head(ind_w2)"
   ]
  },
  {
   "cell_type": "markdown",
   "metadata": {},
   "source": [
    "#### Maximum fatigue rate between Wingates relative to FFM1 (W1-W2MaxDifWRelFFM1) <a class=\"anchor\" id=\"13\"></a>"
   ]
  },
  {
   "cell_type": "markdown",
   "metadata": {},
   "source": [
    "* [Returning to the index of contents](#index)"
   ]
  },
  {
   "cell_type": "code",
   "execution_count": 32,
   "metadata": {
    "scrolled": true
   },
   "outputs": [
    {
     "data": {
      "text/html": [
       "<table>\n",
       "<thead><tr><th scope=col>W1.2MaxDifWRelFFM1</th><th scope=col>rs10034661</th><th scope=col>rs10063949</th><th scope=col>rs1024610</th><th scope=col>rs1024611</th><th scope=col>rs1042713</th><th scope=col>rs1045485</th><th scope=col>rs10491003</th><th scope=col>rs1049305</th><th scope=col>rs1049434</th><th scope=col>...</th><th scope=col>rs8111989</th><th scope=col>rs8192678</th><th scope=col>rs824205</th><th scope=col>rs833070</th><th scope=col>rs884736</th><th scope=col>rs921943</th><th scope=col>rs9469199</th><th scope=col>rs970547</th><th scope=col>rs9902453</th><th scope=col>rs9939609</th></tr></thead>\n",
       "<tbody>\n",
       "\t<tr><td> 0.02589585</td><td>G:G        </td><td>C:T        </td><td>A:T        </td><td>T:T        </td><td>A:A        </td><td>C:G        </td><td>G:G        </td><td>C:G        </td><td>A:T        </td><td>...        </td><td>C:T        </td><td>A:G        </td><td>G:G        </td><td>A:G        </td><td>C:T        </td><td>A:G        </td><td>A:G        </td><td>A:A        </td><td>A:G        </td><td>A:A        </td></tr>\n",
       "\t<tr><td>-0.23958880</td><td>G:G        </td><td>C:T        </td><td>A:T        </td><td>C:T        </td><td>A:G        </td><td>G:G        </td><td>G:G        </td><td>G:G        </td><td>A:A        </td><td>...        </td><td>C:T        </td><td>A:G        </td><td>A:G        </td><td>A:G        </td><td>C:T        </td><td>A:G        </td><td>G:G        </td><td>A:G        </td><td>A:G        </td><td>T:T        </td></tr>\n",
       "\t<tr><td> 1.03043453</td><td>G:G        </td><td>T:T        </td><td>A:T        </td><td>T:T        </td><td>A:G        </td><td>G:G        </td><td>G:G        </td><td>C:G        </td><td>A:A        </td><td>...        </td><td>C:T        </td><td>A:G        </td><td>G:G        </td><td>A:G        </td><td>C:T        </td><td>A:A        </td><td>G:G        </td><td>A:G        </td><td>A:G        </td><td>A:A        </td></tr>\n",
       "\t<tr><td> 1.38617564</td><td>G:G        </td><td>T:T        </td><td>T:T        </td><td>C:T        </td><td>A:G        </td><td>G:G        </td><td>G:G        </td><td>C:C        </td><td>A:T        </td><td>...        </td><td>C:T        </td><td>A:G        </td><td>G:G        </td><td>A:G        </td><td>C:T        </td><td>A:G        </td><td>G:G        </td><td>A:A        </td><td>A:A        </td><td>A:A        </td></tr>\n",
       "\t<tr><td> 9.13979775</td><td>G:G        </td><td>C:T        </td><td>T:T        </td><td>C:T        </td><td>G:G        </td><td>C:C        </td><td>G:G        </td><td>C:G        </td><td>T:T        </td><td>...        </td><td>C:T        </td><td>A:G        </td><td>G:G        </td><td>G:G        </td><td>T:T        </td><td>G:G        </td><td>G:G        </td><td>A:A        </td><td>A:G        </td><td>A:T        </td></tr>\n",
       "\t<tr><td>-0.06138948</td><td>G:G        </td><td>C:T        </td><td>T:T        </td><td>C:T        </td><td>A:G        </td><td>G:G        </td><td>G:G        </td><td>C:G        </td><td>A:T        </td><td>...        </td><td>C:T        </td><td>A:G        </td><td>G:G        </td><td>G:G        </td><td>C:T        </td><td>A:G        </td><td>G:G        </td><td>A:G        </td><td>G:G        </td><td>T:T        </td></tr>\n",
       "</tbody>\n",
       "</table>\n"
      ],
      "text/latex": [
       "\\begin{tabular}{r|lllllllllllllllllllllllllllllllllllllllllllllllllllllllllllllllllllllllllllllllllllllllllllllllllllllllllllllllllllllllllllllllllllllllllllllllllllllllllllllllllllllllllllllllllll}\n",
       " W1.2MaxDifWRelFFM1 & rs10034661 & rs10063949 & rs1024610 & rs1024611 & rs1042713 & rs1045485 & rs10491003 & rs1049305 & rs1049434 & ... & rs8111989 & rs8192678 & rs824205 & rs833070 & rs884736 & rs921943 & rs9469199 & rs970547 & rs9902453 & rs9939609\\\\\n",
       "\\hline\n",
       "\t  0.02589585 & G:G         & C:T         & A:T         & T:T         & A:A         & C:G         & G:G         & C:G         & A:T         & ...         & C:T         & A:G         & G:G         & A:G         & C:T         & A:G         & A:G         & A:A         & A:G         & A:A        \\\\\n",
       "\t -0.23958880 & G:G         & C:T         & A:T         & C:T         & A:G         & G:G         & G:G         & G:G         & A:A         & ...         & C:T         & A:G         & A:G         & A:G         & C:T         & A:G         & G:G         & A:G         & A:G         & T:T        \\\\\n",
       "\t  1.03043453 & G:G         & T:T         & A:T         & T:T         & A:G         & G:G         & G:G         & C:G         & A:A         & ...         & C:T         & A:G         & G:G         & A:G         & C:T         & A:A         & G:G         & A:G         & A:G         & A:A        \\\\\n",
       "\t  1.38617564 & G:G         & T:T         & T:T         & C:T         & A:G         & G:G         & G:G         & C:C         & A:T         & ...         & C:T         & A:G         & G:G         & A:G         & C:T         & A:G         & G:G         & A:A         & A:A         & A:A        \\\\\n",
       "\t  9.13979775 & G:G         & C:T         & T:T         & C:T         & G:G         & C:C         & G:G         & C:G         & T:T         & ...         & C:T         & A:G         & G:G         & G:G         & T:T         & G:G         & G:G         & A:A         & A:G         & A:T        \\\\\n",
       "\t -0.06138948 & G:G         & C:T         & T:T         & C:T         & A:G         & G:G         & G:G         & C:G         & A:T         & ...         & C:T         & A:G         & G:G         & G:G         & C:T         & A:G         & G:G         & A:G         & G:G         & T:T        \\\\\n",
       "\\end{tabular}\n"
      ],
      "text/markdown": [
       "\n",
       "| W1.2MaxDifWRelFFM1 | rs10034661 | rs10063949 | rs1024610 | rs1024611 | rs1042713 | rs1045485 | rs10491003 | rs1049305 | rs1049434 | ... | rs8111989 | rs8192678 | rs824205 | rs833070 | rs884736 | rs921943 | rs9469199 | rs970547 | rs9902453 | rs9939609 |\n",
       "|---|---|---|---|---|---|---|---|---|---|---|---|---|---|---|---|---|---|---|---|---|\n",
       "|  0.02589585 | G:G         | C:T         | A:T         | T:T         | A:A         | C:G         | G:G         | C:G         | A:T         | ...         | C:T         | A:G         | G:G         | A:G         | C:T         | A:G         | A:G         | A:A         | A:G         | A:A         |\n",
       "| -0.23958880 | G:G         | C:T         | A:T         | C:T         | A:G         | G:G         | G:G         | G:G         | A:A         | ...         | C:T         | A:G         | A:G         | A:G         | C:T         | A:G         | G:G         | A:G         | A:G         | T:T         |\n",
       "|  1.03043453 | G:G         | T:T         | A:T         | T:T         | A:G         | G:G         | G:G         | C:G         | A:A         | ...         | C:T         | A:G         | G:G         | A:G         | C:T         | A:A         | G:G         | A:G         | A:G         | A:A         |\n",
       "|  1.38617564 | G:G         | T:T         | T:T         | C:T         | A:G         | G:G         | G:G         | C:C         | A:T         | ...         | C:T         | A:G         | G:G         | A:G         | C:T         | A:G         | G:G         | A:A         | A:A         | A:A         |\n",
       "|  9.13979775 | G:G         | C:T         | T:T         | C:T         | G:G         | C:C         | G:G         | C:G         | T:T         | ...         | C:T         | A:G         | G:G         | G:G         | T:T         | G:G         | G:G         | A:A         | A:G         | A:T         |\n",
       "| -0.06138948 | G:G         | C:T         | T:T         | C:T         | A:G         | G:G         | G:G         | C:G         | A:T         | ...         | C:T         | A:G         | G:G         | G:G         | C:T         | A:G         | G:G         | A:G         | G:G         | T:T         |\n",
       "\n"
      ],
      "text/plain": [
       "  W1.2MaxDifWRelFFM1 rs10034661 rs10063949 rs1024610 rs1024611 rs1042713\n",
       "1  0.02589585        G:G        C:T        A:T       T:T       A:A      \n",
       "2 -0.23958880        G:G        C:T        A:T       C:T       A:G      \n",
       "3  1.03043453        G:G        T:T        A:T       T:T       A:G      \n",
       "4  1.38617564        G:G        T:T        T:T       C:T       A:G      \n",
       "5  9.13979775        G:G        C:T        T:T       C:T       G:G      \n",
       "6 -0.06138948        G:G        C:T        T:T       C:T       A:G      \n",
       "  rs1045485 rs10491003 rs1049305 rs1049434 ... rs8111989 rs8192678 rs824205\n",
       "1 C:G       G:G        C:G       A:T       ... C:T       A:G       G:G     \n",
       "2 G:G       G:G        G:G       A:A       ... C:T       A:G       A:G     \n",
       "3 G:G       G:G        C:G       A:A       ... C:T       A:G       G:G     \n",
       "4 G:G       G:G        C:C       A:T       ... C:T       A:G       G:G     \n",
       "5 C:C       G:G        C:G       T:T       ... C:T       A:G       G:G     \n",
       "6 G:G       G:G        C:G       A:T       ... C:T       A:G       G:G     \n",
       "  rs833070 rs884736 rs921943 rs9469199 rs970547 rs9902453 rs9939609\n",
       "1 A:G      C:T      A:G      A:G       A:A      A:G       A:A      \n",
       "2 A:G      C:T      A:G      G:G       A:G      A:G       T:T      \n",
       "3 A:G      C:T      A:A      G:G       A:G      A:G       A:A      \n",
       "4 A:G      C:T      A:G      G:G       A:A      A:A       A:A      \n",
       "5 G:G      T:T      G:G      G:G       A:A      A:G       A:T      \n",
       "6 G:G      C:T      A:G      G:G       A:G      G:G       T:T      "
      ]
     },
     "metadata": {},
     "output_type": "display_data"
    }
   ],
   "source": [
    "ind_max <- cbind(handle_target['W1.2MaxDifWRelFFM1'],handle_genetic)\n",
    "\n",
    "rownames(ind_max) <- NULL\n",
    "\n",
    "head(ind_max)"
   ]
  },
  {
   "cell_type": "code",
   "execution_count": 33,
   "metadata": {},
   "outputs": [
    {
     "data": {
      "text/html": [
       "<table>\n",
       "<thead><tr><th scope=col>W1.2MaxDifWRelFFM1Bin</th><th scope=col>W1.2MaxDifWRelFFM1</th><th scope=col>rs10034661</th><th scope=col>rs10063949</th><th scope=col>rs1024610</th><th scope=col>rs1024611</th><th scope=col>rs1042713</th><th scope=col>rs1045485</th><th scope=col>rs10491003</th><th scope=col>rs1049305</th><th scope=col>...</th><th scope=col>rs8111989</th><th scope=col>rs8192678</th><th scope=col>rs824205</th><th scope=col>rs833070</th><th scope=col>rs884736</th><th scope=col>rs921943</th><th scope=col>rs9469199</th><th scope=col>rs970547</th><th scope=col>rs9902453</th><th scope=col>rs9939609</th></tr></thead>\n",
       "<tbody>\n",
       "\t<tr><td>0          </td><td> 0.02589585</td><td>G:G        </td><td>C:T        </td><td>A:T        </td><td>T:T        </td><td>A:A        </td><td>C:G        </td><td>G:G        </td><td>C:G        </td><td>...        </td><td>C:T        </td><td>A:G        </td><td>G:G        </td><td>A:G        </td><td>C:T        </td><td>A:G        </td><td>A:G        </td><td>A:A        </td><td>A:G        </td><td>A:A        </td></tr>\n",
       "\t<tr><td>0          </td><td>-0.23958880</td><td>G:G        </td><td>C:T        </td><td>A:T        </td><td>C:T        </td><td>A:G        </td><td>G:G        </td><td>G:G        </td><td>G:G        </td><td>...        </td><td>C:T        </td><td>A:G        </td><td>A:G        </td><td>A:G        </td><td>C:T        </td><td>A:G        </td><td>G:G        </td><td>A:G        </td><td>A:G        </td><td>T:T        </td></tr>\n",
       "\t<tr><td>0          </td><td> 1.03043453</td><td>G:G        </td><td>T:T        </td><td>A:T        </td><td>T:T        </td><td>A:G        </td><td>G:G        </td><td>G:G        </td><td>C:G        </td><td>...        </td><td>C:T        </td><td>A:G        </td><td>G:G        </td><td>A:G        </td><td>C:T        </td><td>A:A        </td><td>G:G        </td><td>A:G        </td><td>A:G        </td><td>A:A        </td></tr>\n",
       "\t<tr><td>0          </td><td> 1.38617564</td><td>G:G        </td><td>T:T        </td><td>T:T        </td><td>C:T        </td><td>A:G        </td><td>G:G        </td><td>G:G        </td><td>C:C        </td><td>...        </td><td>C:T        </td><td>A:G        </td><td>G:G        </td><td>A:G        </td><td>C:T        </td><td>A:G        </td><td>G:G        </td><td>A:A        </td><td>A:A        </td><td>A:A        </td></tr>\n",
       "\t<tr><td>1          </td><td> 9.13979775</td><td>G:G        </td><td>C:T        </td><td>T:T        </td><td>C:T        </td><td>G:G        </td><td>C:C        </td><td>G:G        </td><td>C:G        </td><td>...        </td><td>C:T        </td><td>A:G        </td><td>G:G        </td><td>G:G        </td><td>T:T        </td><td>G:G        </td><td>G:G        </td><td>A:A        </td><td>A:G        </td><td>A:T        </td></tr>\n",
       "\t<tr><td>0          </td><td>-0.06138948</td><td>G:G        </td><td>C:T        </td><td>T:T        </td><td>C:T        </td><td>A:G        </td><td>G:G        </td><td>G:G        </td><td>C:G        </td><td>...        </td><td>C:T        </td><td>A:G        </td><td>G:G        </td><td>G:G        </td><td>C:T        </td><td>A:G        </td><td>G:G        </td><td>A:G        </td><td>G:G        </td><td>T:T        </td></tr>\n",
       "</tbody>\n",
       "</table>\n"
      ],
      "text/latex": [
       "\\begin{tabular}{r|llllllllllllllllllllllllllllllllllllllllllllllllllllllllllllllllllllllllllllllllllllllllllllllllllllllllllllllllllllllllllllllllllllllllllllllllllllllllllllllllllllllllllllllllllll}\n",
       " W1.2MaxDifWRelFFM1Bin & W1.2MaxDifWRelFFM1 & rs10034661 & rs10063949 & rs1024610 & rs1024611 & rs1042713 & rs1045485 & rs10491003 & rs1049305 & ... & rs8111989 & rs8192678 & rs824205 & rs833070 & rs884736 & rs921943 & rs9469199 & rs970547 & rs9902453 & rs9939609\\\\\n",
       "\\hline\n",
       "\t 0           &  0.02589585 & G:G         & C:T         & A:T         & T:T         & A:A         & C:G         & G:G         & C:G         & ...         & C:T         & A:G         & G:G         & A:G         & C:T         & A:G         & A:G         & A:A         & A:G         & A:A        \\\\\n",
       "\t 0           & -0.23958880 & G:G         & C:T         & A:T         & C:T         & A:G         & G:G         & G:G         & G:G         & ...         & C:T         & A:G         & A:G         & A:G         & C:T         & A:G         & G:G         & A:G         & A:G         & T:T        \\\\\n",
       "\t 0           &  1.03043453 & G:G         & T:T         & A:T         & T:T         & A:G         & G:G         & G:G         & C:G         & ...         & C:T         & A:G         & G:G         & A:G         & C:T         & A:A         & G:G         & A:G         & A:G         & A:A        \\\\\n",
       "\t 0           &  1.38617564 & G:G         & T:T         & T:T         & C:T         & A:G         & G:G         & G:G         & C:C         & ...         & C:T         & A:G         & G:G         & A:G         & C:T         & A:G         & G:G         & A:A         & A:A         & A:A        \\\\\n",
       "\t 1           &  9.13979775 & G:G         & C:T         & T:T         & C:T         & G:G         & C:C         & G:G         & C:G         & ...         & C:T         & A:G         & G:G         & G:G         & T:T         & G:G         & G:G         & A:A         & A:G         & A:T        \\\\\n",
       "\t 0           & -0.06138948 & G:G         & C:T         & T:T         & C:T         & A:G         & G:G         & G:G         & C:G         & ...         & C:T         & A:G         & G:G         & G:G         & C:T         & A:G         & G:G         & A:G         & G:G         & T:T        \\\\\n",
       "\\end{tabular}\n"
      ],
      "text/markdown": [
       "\n",
       "| W1.2MaxDifWRelFFM1Bin | W1.2MaxDifWRelFFM1 | rs10034661 | rs10063949 | rs1024610 | rs1024611 | rs1042713 | rs1045485 | rs10491003 | rs1049305 | ... | rs8111989 | rs8192678 | rs824205 | rs833070 | rs884736 | rs921943 | rs9469199 | rs970547 | rs9902453 | rs9939609 |\n",
       "|---|---|---|---|---|---|---|---|---|---|---|---|---|---|---|---|---|---|---|---|---|\n",
       "| 0           |  0.02589585 | G:G         | C:T         | A:T         | T:T         | A:A         | C:G         | G:G         | C:G         | ...         | C:T         | A:G         | G:G         | A:G         | C:T         | A:G         | A:G         | A:A         | A:G         | A:A         |\n",
       "| 0           | -0.23958880 | G:G         | C:T         | A:T         | C:T         | A:G         | G:G         | G:G         | G:G         | ...         | C:T         | A:G         | A:G         | A:G         | C:T         | A:G         | G:G         | A:G         | A:G         | T:T         |\n",
       "| 0           |  1.03043453 | G:G         | T:T         | A:T         | T:T         | A:G         | G:G         | G:G         | C:G         | ...         | C:T         | A:G         | G:G         | A:G         | C:T         | A:A         | G:G         | A:G         | A:G         | A:A         |\n",
       "| 0           |  1.38617564 | G:G         | T:T         | T:T         | C:T         | A:G         | G:G         | G:G         | C:C         | ...         | C:T         | A:G         | G:G         | A:G         | C:T         | A:G         | G:G         | A:A         | A:A         | A:A         |\n",
       "| 1           |  9.13979775 | G:G         | C:T         | T:T         | C:T         | G:G         | C:C         | G:G         | C:G         | ...         | C:T         | A:G         | G:G         | G:G         | T:T         | G:G         | G:G         | A:A         | A:G         | A:T         |\n",
       "| 0           | -0.06138948 | G:G         | C:T         | T:T         | C:T         | A:G         | G:G         | G:G         | C:G         | ...         | C:T         | A:G         | G:G         | G:G         | C:T         | A:G         | G:G         | A:G         | G:G         | T:T         |\n",
       "\n"
      ],
      "text/plain": [
       "  W1.2MaxDifWRelFFM1Bin W1.2MaxDifWRelFFM1 rs10034661 rs10063949 rs1024610\n",
       "1 0                      0.02589585        G:G        C:T        A:T      \n",
       "2 0                     -0.23958880        G:G        C:T        A:T      \n",
       "3 0                      1.03043453        G:G        T:T        A:T      \n",
       "4 0                      1.38617564        G:G        T:T        T:T      \n",
       "5 1                      9.13979775        G:G        C:T        T:T      \n",
       "6 0                     -0.06138948        G:G        C:T        T:T      \n",
       "  rs1024611 rs1042713 rs1045485 rs10491003 rs1049305 ... rs8111989 rs8192678\n",
       "1 T:T       A:A       C:G       G:G        C:G       ... C:T       A:G      \n",
       "2 C:T       A:G       G:G       G:G        G:G       ... C:T       A:G      \n",
       "3 T:T       A:G       G:G       G:G        C:G       ... C:T       A:G      \n",
       "4 C:T       A:G       G:G       G:G        C:C       ... C:T       A:G      \n",
       "5 C:T       G:G       C:C       G:G        C:G       ... C:T       A:G      \n",
       "6 C:T       A:G       G:G       G:G        C:G       ... C:T       A:G      \n",
       "  rs824205 rs833070 rs884736 rs921943 rs9469199 rs970547 rs9902453 rs9939609\n",
       "1 G:G      A:G      C:T      A:G      A:G       A:A      A:G       A:A      \n",
       "2 A:G      A:G      C:T      A:G      G:G       A:G      A:G       T:T      \n",
       "3 G:G      A:G      C:T      A:A      G:G       A:G      A:G       A:A      \n",
       "4 G:G      A:G      C:T      A:G      G:G       A:A      A:A       A:A      \n",
       "5 G:G      G:G      T:T      G:G      G:G       A:A      A:G       A:T      \n",
       "6 G:G      G:G      C:T      A:G      G:G       A:G      G:G       T:T      "
      ]
     },
     "metadata": {},
     "output_type": "display_data"
    }
   ],
   "source": [
    "W1.2MaxDifWRelFFM1Bin <- factor(as.numeric(handle_target['W1.2MaxDifWRelFFM1']>=median(handle_target$W1.2MaxDifWRelFFM1)))\n",
    "\n",
    "ind_max <- cbind(W1.2MaxDifWRelFFM1Bin, ind_max)\n",
    "\n",
    "head(ind_max)"
   ]
  },
  {
   "cell_type": "code",
   "execution_count": 34,
   "metadata": {},
   "outputs": [
    {
     "data": {
      "text/html": [
       "<table>\n",
       "<thead><tr><th scope=col>W1.2MaxDifWRelFFM1Bin</th><th scope=col>rs10034661</th><th scope=col>rs10063949</th><th scope=col>rs1024610</th><th scope=col>rs1024611</th><th scope=col>rs1042713</th><th scope=col>rs1045485</th><th scope=col>rs10491003</th><th scope=col>rs1049305</th><th scope=col>rs1049434</th><th scope=col>...</th><th scope=col>rs8111989</th><th scope=col>rs8192678</th><th scope=col>rs824205</th><th scope=col>rs833070</th><th scope=col>rs884736</th><th scope=col>rs921943</th><th scope=col>rs9469199</th><th scope=col>rs970547</th><th scope=col>rs9902453</th><th scope=col>rs9939609</th></tr></thead>\n",
       "<tbody>\n",
       "\t<tr><td>0  </td><td>G:G</td><td>C:T</td><td>A:T</td><td>T:T</td><td>A:A</td><td>C:G</td><td>G:G</td><td>C:G</td><td>A:T</td><td>...</td><td>C:T</td><td>A:G</td><td>G:G</td><td>A:G</td><td>C:T</td><td>A:G</td><td>A:G</td><td>A:A</td><td>A:G</td><td>A:A</td></tr>\n",
       "\t<tr><td>0  </td><td>G:G</td><td>C:T</td><td>A:T</td><td>C:T</td><td>A:G</td><td>G:G</td><td>G:G</td><td>G:G</td><td>A:A</td><td>...</td><td>C:T</td><td>A:G</td><td>A:G</td><td>A:G</td><td>C:T</td><td>A:G</td><td>G:G</td><td>A:G</td><td>A:G</td><td>T:T</td></tr>\n",
       "\t<tr><td>0  </td><td>G:G</td><td>T:T</td><td>A:T</td><td>T:T</td><td>A:G</td><td>G:G</td><td>G:G</td><td>C:G</td><td>A:A</td><td>...</td><td>C:T</td><td>A:G</td><td>G:G</td><td>A:G</td><td>C:T</td><td>A:A</td><td>G:G</td><td>A:G</td><td>A:G</td><td>A:A</td></tr>\n",
       "\t<tr><td>0  </td><td>G:G</td><td>T:T</td><td>T:T</td><td>C:T</td><td>A:G</td><td>G:G</td><td>G:G</td><td>C:C</td><td>A:T</td><td>...</td><td>C:T</td><td>A:G</td><td>G:G</td><td>A:G</td><td>C:T</td><td>A:G</td><td>G:G</td><td>A:A</td><td>A:A</td><td>A:A</td></tr>\n",
       "\t<tr><td>1  </td><td>G:G</td><td>C:T</td><td>T:T</td><td>C:T</td><td>G:G</td><td>C:C</td><td>G:G</td><td>C:G</td><td>T:T</td><td>...</td><td>C:T</td><td>A:G</td><td>G:G</td><td>G:G</td><td>T:T</td><td>G:G</td><td>G:G</td><td>A:A</td><td>A:G</td><td>A:T</td></tr>\n",
       "\t<tr><td>0  </td><td>G:G</td><td>C:T</td><td>T:T</td><td>C:T</td><td>A:G</td><td>G:G</td><td>G:G</td><td>C:G</td><td>A:T</td><td>...</td><td>C:T</td><td>A:G</td><td>G:G</td><td>G:G</td><td>C:T</td><td>A:G</td><td>G:G</td><td>A:G</td><td>G:G</td><td>T:T</td></tr>\n",
       "</tbody>\n",
       "</table>\n"
      ],
      "text/latex": [
       "\\begin{tabular}{r|lllllllllllllllllllllllllllllllllllllllllllllllllllllllllllllllllllllllllllllllllllllllllllllllllllllllllllllllllllllllllllllllllllllllllllllllllllllllllllllllllllllllllllllllllll}\n",
       " W1.2MaxDifWRelFFM1Bin & rs10034661 & rs10063949 & rs1024610 & rs1024611 & rs1042713 & rs1045485 & rs10491003 & rs1049305 & rs1049434 & ... & rs8111989 & rs8192678 & rs824205 & rs833070 & rs884736 & rs921943 & rs9469199 & rs970547 & rs9902453 & rs9939609\\\\\n",
       "\\hline\n",
       "\t 0   & G:G & C:T & A:T & T:T & A:A & C:G & G:G & C:G & A:T & ... & C:T & A:G & G:G & A:G & C:T & A:G & A:G & A:A & A:G & A:A\\\\\n",
       "\t 0   & G:G & C:T & A:T & C:T & A:G & G:G & G:G & G:G & A:A & ... & C:T & A:G & A:G & A:G & C:T & A:G & G:G & A:G & A:G & T:T\\\\\n",
       "\t 0   & G:G & T:T & A:T & T:T & A:G & G:G & G:G & C:G & A:A & ... & C:T & A:G & G:G & A:G & C:T & A:A & G:G & A:G & A:G & A:A\\\\\n",
       "\t 0   & G:G & T:T & T:T & C:T & A:G & G:G & G:G & C:C & A:T & ... & C:T & A:G & G:G & A:G & C:T & A:G & G:G & A:A & A:A & A:A\\\\\n",
       "\t 1   & G:G & C:T & T:T & C:T & G:G & C:C & G:G & C:G & T:T & ... & C:T & A:G & G:G & G:G & T:T & G:G & G:G & A:A & A:G & A:T\\\\\n",
       "\t 0   & G:G & C:T & T:T & C:T & A:G & G:G & G:G & C:G & A:T & ... & C:T & A:G & G:G & G:G & C:T & A:G & G:G & A:G & G:G & T:T\\\\\n",
       "\\end{tabular}\n"
      ],
      "text/markdown": [
       "\n",
       "| W1.2MaxDifWRelFFM1Bin | rs10034661 | rs10063949 | rs1024610 | rs1024611 | rs1042713 | rs1045485 | rs10491003 | rs1049305 | rs1049434 | ... | rs8111989 | rs8192678 | rs824205 | rs833070 | rs884736 | rs921943 | rs9469199 | rs970547 | rs9902453 | rs9939609 |\n",
       "|---|---|---|---|---|---|---|---|---|---|---|---|---|---|---|---|---|---|---|---|---|\n",
       "| 0   | G:G | C:T | A:T | T:T | A:A | C:G | G:G | C:G | A:T | ... | C:T | A:G | G:G | A:G | C:T | A:G | A:G | A:A | A:G | A:A |\n",
       "| 0   | G:G | C:T | A:T | C:T | A:G | G:G | G:G | G:G | A:A | ... | C:T | A:G | A:G | A:G | C:T | A:G | G:G | A:G | A:G | T:T |\n",
       "| 0   | G:G | T:T | A:T | T:T | A:G | G:G | G:G | C:G | A:A | ... | C:T | A:G | G:G | A:G | C:T | A:A | G:G | A:G | A:G | A:A |\n",
       "| 0   | G:G | T:T | T:T | C:T | A:G | G:G | G:G | C:C | A:T | ... | C:T | A:G | G:G | A:G | C:T | A:G | G:G | A:A | A:A | A:A |\n",
       "| 1   | G:G | C:T | T:T | C:T | G:G | C:C | G:G | C:G | T:T | ... | C:T | A:G | G:G | G:G | T:T | G:G | G:G | A:A | A:G | A:T |\n",
       "| 0   | G:G | C:T | T:T | C:T | A:G | G:G | G:G | C:G | A:T | ... | C:T | A:G | G:G | G:G | C:T | A:G | G:G | A:G | G:G | T:T |\n",
       "\n"
      ],
      "text/plain": [
       "  W1.2MaxDifWRelFFM1Bin rs10034661 rs10063949 rs1024610 rs1024611 rs1042713\n",
       "1 0                     G:G        C:T        A:T       T:T       A:A      \n",
       "2 0                     G:G        C:T        A:T       C:T       A:G      \n",
       "3 0                     G:G        T:T        A:T       T:T       A:G      \n",
       "4 0                     G:G        T:T        T:T       C:T       A:G      \n",
       "5 1                     G:G        C:T        T:T       C:T       G:G      \n",
       "6 0                     G:G        C:T        T:T       C:T       A:G      \n",
       "  rs1045485 rs10491003 rs1049305 rs1049434 ... rs8111989 rs8192678 rs824205\n",
       "1 C:G       G:G        C:G       A:T       ... C:T       A:G       G:G     \n",
       "2 G:G       G:G        G:G       A:A       ... C:T       A:G       A:G     \n",
       "3 G:G       G:G        C:G       A:A       ... C:T       A:G       G:G     \n",
       "4 G:G       G:G        C:C       A:T       ... C:T       A:G       G:G     \n",
       "5 C:C       G:G        C:G       T:T       ... C:T       A:G       G:G     \n",
       "6 G:G       G:G        C:G       A:T       ... C:T       A:G       G:G     \n",
       "  rs833070 rs884736 rs921943 rs9469199 rs970547 rs9902453 rs9939609\n",
       "1 A:G      C:T      A:G      A:G       A:A      A:G       A:A      \n",
       "2 A:G      C:T      A:G      G:G       A:G      A:G       T:T      \n",
       "3 A:G      C:T      A:A      G:G       A:G      A:G       A:A      \n",
       "4 A:G      C:T      A:G      G:G       A:A      A:A       A:A      \n",
       "5 G:G      T:T      G:G      G:G       A:A      A:G       A:T      \n",
       "6 G:G      C:T      A:G      G:G       A:G      G:G       T:T      "
      ]
     },
     "metadata": {},
     "output_type": "display_data"
    }
   ],
   "source": [
    "ind_max$W1.2MaxDifWRelFFM1 <- NULL\n",
    "head(ind_max)"
   ]
  },
  {
   "cell_type": "markdown",
   "metadata": {},
   "source": [
    "#### Mean fatigue rate between Wingates relative to FFM1 (W1-W2MedDifWRelFFM1) <a class=\"anchor\" id=\"14\"></a>"
   ]
  },
  {
   "cell_type": "markdown",
   "metadata": {},
   "source": [
    "* [Returning to the index of contents](#index)"
   ]
  },
  {
   "cell_type": "code",
   "execution_count": 37,
   "metadata": {
    "scrolled": true
   },
   "outputs": [
    {
     "data": {
      "text/html": [
       "<table>\n",
       "<thead><tr><th scope=col>W1.2MedDifWRelFFM1</th><th scope=col>rs10034661</th><th scope=col>rs10063949</th><th scope=col>rs1024610</th><th scope=col>rs1024611</th><th scope=col>rs1042713</th><th scope=col>rs1045485</th><th scope=col>rs10491003</th><th scope=col>rs1049305</th><th scope=col>rs1049434</th><th scope=col>...</th><th scope=col>rs8111989</th><th scope=col>rs8192678</th><th scope=col>rs824205</th><th scope=col>rs833070</th><th scope=col>rs884736</th><th scope=col>rs921943</th><th scope=col>rs9469199</th><th scope=col>rs970547</th><th scope=col>rs9902453</th><th scope=col>rs9939609</th></tr></thead>\n",
       "<tbody>\n",
       "\t<tr><td>-0.46612522</td><td>G:G        </td><td>C:T        </td><td>A:T        </td><td>T:T        </td><td>A:A        </td><td>C:G        </td><td>G:G        </td><td>C:G        </td><td>A:T        </td><td>...        </td><td>C:T        </td><td>A:G        </td><td>G:G        </td><td>A:G        </td><td>C:T        </td><td>A:G        </td><td>A:G        </td><td>A:A        </td><td>A:G        </td><td>A:A        </td></tr>\n",
       "\t<tr><td>-0.01996573</td><td>G:G        </td><td>C:T        </td><td>A:T        </td><td>C:T        </td><td>A:G        </td><td>G:G        </td><td>G:G        </td><td>G:G        </td><td>A:A        </td><td>...        </td><td>C:T        </td><td>A:G        </td><td>A:G        </td><td>A:G        </td><td>C:T        </td><td>A:G        </td><td>G:G        </td><td>A:G        </td><td>A:G        </td><td>T:T        </td></tr>\n",
       "\t<tr><td> 0.36494556</td><td>G:G        </td><td>T:T        </td><td>A:T        </td><td>T:T        </td><td>A:G        </td><td>G:G        </td><td>G:G        </td><td>C:G        </td><td>A:A        </td><td>...        </td><td>C:T        </td><td>A:G        </td><td>G:G        </td><td>A:G        </td><td>C:T        </td><td>A:A        </td><td>G:G        </td><td>A:G        </td><td>A:G        </td><td>A:A        </td></tr>\n",
       "\t<tr><td> 0.36161104</td><td>G:G        </td><td>T:T        </td><td>T:T        </td><td>C:T        </td><td>A:G        </td><td>G:G        </td><td>G:G        </td><td>C:C        </td><td>A:T        </td><td>...        </td><td>C:T        </td><td>A:G        </td><td>G:G        </td><td>A:G        </td><td>C:T        </td><td>A:G        </td><td>G:G        </td><td>A:A        </td><td>A:A        </td><td>A:A        </td></tr>\n",
       "\t<tr><td>-0.26597295</td><td>G:G        </td><td>C:T        </td><td>T:T        </td><td>C:T        </td><td>G:G        </td><td>C:C        </td><td>G:G        </td><td>C:G        </td><td>T:T        </td><td>...        </td><td>C:T        </td><td>A:G        </td><td>G:G        </td><td>G:G        </td><td>T:T        </td><td>G:G        </td><td>G:G        </td><td>A:A        </td><td>A:G        </td><td>A:T        </td></tr>\n",
       "\t<tr><td> 0.20463161</td><td>G:G        </td><td>C:T        </td><td>T:T        </td><td>C:T        </td><td>A:G        </td><td>G:G        </td><td>G:G        </td><td>C:G        </td><td>A:T        </td><td>...        </td><td>C:T        </td><td>A:G        </td><td>G:G        </td><td>G:G        </td><td>C:T        </td><td>A:G        </td><td>G:G        </td><td>A:G        </td><td>G:G        </td><td>T:T        </td></tr>\n",
       "</tbody>\n",
       "</table>\n"
      ],
      "text/latex": [
       "\\begin{tabular}{r|lllllllllllllllllllllllllllllllllllllllllllllllllllllllllllllllllllllllllllllllllllllllllllllllllllllllllllllllllllllllllllllllllllllllllllllllllllllllllllllllllllllllllllllllllll}\n",
       " W1.2MedDifWRelFFM1 & rs10034661 & rs10063949 & rs1024610 & rs1024611 & rs1042713 & rs1045485 & rs10491003 & rs1049305 & rs1049434 & ... & rs8111989 & rs8192678 & rs824205 & rs833070 & rs884736 & rs921943 & rs9469199 & rs970547 & rs9902453 & rs9939609\\\\\n",
       "\\hline\n",
       "\t -0.46612522 & G:G         & C:T         & A:T         & T:T         & A:A         & C:G         & G:G         & C:G         & A:T         & ...         & C:T         & A:G         & G:G         & A:G         & C:T         & A:G         & A:G         & A:A         & A:G         & A:A        \\\\\n",
       "\t -0.01996573 & G:G         & C:T         & A:T         & C:T         & A:G         & G:G         & G:G         & G:G         & A:A         & ...         & C:T         & A:G         & A:G         & A:G         & C:T         & A:G         & G:G         & A:G         & A:G         & T:T        \\\\\n",
       "\t  0.36494556 & G:G         & T:T         & A:T         & T:T         & A:G         & G:G         & G:G         & C:G         & A:A         & ...         & C:T         & A:G         & G:G         & A:G         & C:T         & A:A         & G:G         & A:G         & A:G         & A:A        \\\\\n",
       "\t  0.36161104 & G:G         & T:T         & T:T         & C:T         & A:G         & G:G         & G:G         & C:C         & A:T         & ...         & C:T         & A:G         & G:G         & A:G         & C:T         & A:G         & G:G         & A:A         & A:A         & A:A        \\\\\n",
       "\t -0.26597295 & G:G         & C:T         & T:T         & C:T         & G:G         & C:C         & G:G         & C:G         & T:T         & ...         & C:T         & A:G         & G:G         & G:G         & T:T         & G:G         & G:G         & A:A         & A:G         & A:T        \\\\\n",
       "\t  0.20463161 & G:G         & C:T         & T:T         & C:T         & A:G         & G:G         & G:G         & C:G         & A:T         & ...         & C:T         & A:G         & G:G         & G:G         & C:T         & A:G         & G:G         & A:G         & G:G         & T:T        \\\\\n",
       "\\end{tabular}\n"
      ],
      "text/markdown": [
       "\n",
       "| W1.2MedDifWRelFFM1 | rs10034661 | rs10063949 | rs1024610 | rs1024611 | rs1042713 | rs1045485 | rs10491003 | rs1049305 | rs1049434 | ... | rs8111989 | rs8192678 | rs824205 | rs833070 | rs884736 | rs921943 | rs9469199 | rs970547 | rs9902453 | rs9939609 |\n",
       "|---|---|---|---|---|---|---|---|---|---|---|---|---|---|---|---|---|---|---|---|---|\n",
       "| -0.46612522 | G:G         | C:T         | A:T         | T:T         | A:A         | C:G         | G:G         | C:G         | A:T         | ...         | C:T         | A:G         | G:G         | A:G         | C:T         | A:G         | A:G         | A:A         | A:G         | A:A         |\n",
       "| -0.01996573 | G:G         | C:T         | A:T         | C:T         | A:G         | G:G         | G:G         | G:G         | A:A         | ...         | C:T         | A:G         | A:G         | A:G         | C:T         | A:G         | G:G         | A:G         | A:G         | T:T         |\n",
       "|  0.36494556 | G:G         | T:T         | A:T         | T:T         | A:G         | G:G         | G:G         | C:G         | A:A         | ...         | C:T         | A:G         | G:G         | A:G         | C:T         | A:A         | G:G         | A:G         | A:G         | A:A         |\n",
       "|  0.36161104 | G:G         | T:T         | T:T         | C:T         | A:G         | G:G         | G:G         | C:C         | A:T         | ...         | C:T         | A:G         | G:G         | A:G         | C:T         | A:G         | G:G         | A:A         | A:A         | A:A         |\n",
       "| -0.26597295 | G:G         | C:T         | T:T         | C:T         | G:G         | C:C         | G:G         | C:G         | T:T         | ...         | C:T         | A:G         | G:G         | G:G         | T:T         | G:G         | G:G         | A:A         | A:G         | A:T         |\n",
       "|  0.20463161 | G:G         | C:T         | T:T         | C:T         | A:G         | G:G         | G:G         | C:G         | A:T         | ...         | C:T         | A:G         | G:G         | G:G         | C:T         | A:G         | G:G         | A:G         | G:G         | T:T         |\n",
       "\n"
      ],
      "text/plain": [
       "  W1.2MedDifWRelFFM1 rs10034661 rs10063949 rs1024610 rs1024611 rs1042713\n",
       "1 -0.46612522        G:G        C:T        A:T       T:T       A:A      \n",
       "2 -0.01996573        G:G        C:T        A:T       C:T       A:G      \n",
       "3  0.36494556        G:G        T:T        A:T       T:T       A:G      \n",
       "4  0.36161104        G:G        T:T        T:T       C:T       A:G      \n",
       "5 -0.26597295        G:G        C:T        T:T       C:T       G:G      \n",
       "6  0.20463161        G:G        C:T        T:T       C:T       A:G      \n",
       "  rs1045485 rs10491003 rs1049305 rs1049434 ... rs8111989 rs8192678 rs824205\n",
       "1 C:G       G:G        C:G       A:T       ... C:T       A:G       G:G     \n",
       "2 G:G       G:G        G:G       A:A       ... C:T       A:G       A:G     \n",
       "3 G:G       G:G        C:G       A:A       ... C:T       A:G       G:G     \n",
       "4 G:G       G:G        C:C       A:T       ... C:T       A:G       G:G     \n",
       "5 C:C       G:G        C:G       T:T       ... C:T       A:G       G:G     \n",
       "6 G:G       G:G        C:G       A:T       ... C:T       A:G       G:G     \n",
       "  rs833070 rs884736 rs921943 rs9469199 rs970547 rs9902453 rs9939609\n",
       "1 A:G      C:T      A:G      A:G       A:A      A:G       A:A      \n",
       "2 A:G      C:T      A:G      G:G       A:G      A:G       T:T      \n",
       "3 A:G      C:T      A:A      G:G       A:G      A:G       A:A      \n",
       "4 A:G      C:T      A:G      G:G       A:A      A:A       A:A      \n",
       "5 G:G      T:T      G:G      G:G       A:A      A:G       A:T      \n",
       "6 G:G      C:T      A:G      G:G       A:G      G:G       T:T      "
      ]
     },
     "metadata": {},
     "output_type": "display_data"
    }
   ],
   "source": [
    "ind_med <- cbind(handle_target['W1.2MedDifWRelFFM1'],handle_genetic)\n",
    "\n",
    "rownames(ind_med) <- NULL\n",
    "\n",
    "head(ind_med)"
   ]
  },
  {
   "cell_type": "code",
   "execution_count": 38,
   "metadata": {
    "scrolled": false
   },
   "outputs": [
    {
     "data": {
      "text/html": [
       "<table>\n",
       "<thead><tr><th scope=col>W1.2MedDifWRelFFM1Bin</th><th scope=col>W1.2MedDifWRelFFM1</th><th scope=col>rs10034661</th><th scope=col>rs10063949</th><th scope=col>rs1024610</th><th scope=col>rs1024611</th><th scope=col>rs1042713</th><th scope=col>rs1045485</th><th scope=col>rs10491003</th><th scope=col>rs1049305</th><th scope=col>...</th><th scope=col>rs8111989</th><th scope=col>rs8192678</th><th scope=col>rs824205</th><th scope=col>rs833070</th><th scope=col>rs884736</th><th scope=col>rs921943</th><th scope=col>rs9469199</th><th scope=col>rs970547</th><th scope=col>rs9902453</th><th scope=col>rs9939609</th></tr></thead>\n",
       "<tbody>\n",
       "\t<tr><td>0          </td><td>-0.46612522</td><td>G:G        </td><td>C:T        </td><td>A:T        </td><td>T:T        </td><td>A:A        </td><td>C:G        </td><td>G:G        </td><td>C:G        </td><td>...        </td><td>C:T        </td><td>A:G        </td><td>G:G        </td><td>A:G        </td><td>C:T        </td><td>A:G        </td><td>A:G        </td><td>A:A        </td><td>A:G        </td><td>A:A        </td></tr>\n",
       "\t<tr><td>0          </td><td>-0.01996573</td><td>G:G        </td><td>C:T        </td><td>A:T        </td><td>C:T        </td><td>A:G        </td><td>G:G        </td><td>G:G        </td><td>G:G        </td><td>...        </td><td>C:T        </td><td>A:G        </td><td>A:G        </td><td>A:G        </td><td>C:T        </td><td>A:G        </td><td>G:G        </td><td>A:G        </td><td>A:G        </td><td>T:T        </td></tr>\n",
       "\t<tr><td>0          </td><td> 0.36494556</td><td>G:G        </td><td>T:T        </td><td>A:T        </td><td>T:T        </td><td>A:G        </td><td>G:G        </td><td>G:G        </td><td>C:G        </td><td>...        </td><td>C:T        </td><td>A:G        </td><td>G:G        </td><td>A:G        </td><td>C:T        </td><td>A:A        </td><td>G:G        </td><td>A:G        </td><td>A:G        </td><td>A:A        </td></tr>\n",
       "\t<tr><td>0          </td><td> 0.36161104</td><td>G:G        </td><td>T:T        </td><td>T:T        </td><td>C:T        </td><td>A:G        </td><td>G:G        </td><td>G:G        </td><td>C:C        </td><td>...        </td><td>C:T        </td><td>A:G        </td><td>G:G        </td><td>A:G        </td><td>C:T        </td><td>A:G        </td><td>G:G        </td><td>A:A        </td><td>A:A        </td><td>A:A        </td></tr>\n",
       "\t<tr><td>0          </td><td>-0.26597295</td><td>G:G        </td><td>C:T        </td><td>T:T        </td><td>C:T        </td><td>G:G        </td><td>C:C        </td><td>G:G        </td><td>C:G        </td><td>...        </td><td>C:T        </td><td>A:G        </td><td>G:G        </td><td>G:G        </td><td>T:T        </td><td>G:G        </td><td>G:G        </td><td>A:A        </td><td>A:G        </td><td>A:T        </td></tr>\n",
       "\t<tr><td>0          </td><td> 0.20463161</td><td>G:G        </td><td>C:T        </td><td>T:T        </td><td>C:T        </td><td>A:G        </td><td>G:G        </td><td>G:G        </td><td>C:G        </td><td>...        </td><td>C:T        </td><td>A:G        </td><td>G:G        </td><td>G:G        </td><td>C:T        </td><td>A:G        </td><td>G:G        </td><td>A:G        </td><td>G:G        </td><td>T:T        </td></tr>\n",
       "</tbody>\n",
       "</table>\n"
      ],
      "text/latex": [
       "\\begin{tabular}{r|llllllllllllllllllllllllllllllllllllllllllllllllllllllllllllllllllllllllllllllllllllllllllllllllllllllllllllllllllllllllllllllllllllllllllllllllllllllllllllllllllllllllllllllllllll}\n",
       " W1.2MedDifWRelFFM1Bin & W1.2MedDifWRelFFM1 & rs10034661 & rs10063949 & rs1024610 & rs1024611 & rs1042713 & rs1045485 & rs10491003 & rs1049305 & ... & rs8111989 & rs8192678 & rs824205 & rs833070 & rs884736 & rs921943 & rs9469199 & rs970547 & rs9902453 & rs9939609\\\\\n",
       "\\hline\n",
       "\t 0           & -0.46612522 & G:G         & C:T         & A:T         & T:T         & A:A         & C:G         & G:G         & C:G         & ...         & C:T         & A:G         & G:G         & A:G         & C:T         & A:G         & A:G         & A:A         & A:G         & A:A        \\\\\n",
       "\t 0           & -0.01996573 & G:G         & C:T         & A:T         & C:T         & A:G         & G:G         & G:G         & G:G         & ...         & C:T         & A:G         & A:G         & A:G         & C:T         & A:G         & G:G         & A:G         & A:G         & T:T        \\\\\n",
       "\t 0           &  0.36494556 & G:G         & T:T         & A:T         & T:T         & A:G         & G:G         & G:G         & C:G         & ...         & C:T         & A:G         & G:G         & A:G         & C:T         & A:A         & G:G         & A:G         & A:G         & A:A        \\\\\n",
       "\t 0           &  0.36161104 & G:G         & T:T         & T:T         & C:T         & A:G         & G:G         & G:G         & C:C         & ...         & C:T         & A:G         & G:G         & A:G         & C:T         & A:G         & G:G         & A:A         & A:A         & A:A        \\\\\n",
       "\t 0           & -0.26597295 & G:G         & C:T         & T:T         & C:T         & G:G         & C:C         & G:G         & C:G         & ...         & C:T         & A:G         & G:G         & G:G         & T:T         & G:G         & G:G         & A:A         & A:G         & A:T        \\\\\n",
       "\t 0           &  0.20463161 & G:G         & C:T         & T:T         & C:T         & A:G         & G:G         & G:G         & C:G         & ...         & C:T         & A:G         & G:G         & G:G         & C:T         & A:G         & G:G         & A:G         & G:G         & T:T        \\\\\n",
       "\\end{tabular}\n"
      ],
      "text/markdown": [
       "\n",
       "| W1.2MedDifWRelFFM1Bin | W1.2MedDifWRelFFM1 | rs10034661 | rs10063949 | rs1024610 | rs1024611 | rs1042713 | rs1045485 | rs10491003 | rs1049305 | ... | rs8111989 | rs8192678 | rs824205 | rs833070 | rs884736 | rs921943 | rs9469199 | rs970547 | rs9902453 | rs9939609 |\n",
       "|---|---|---|---|---|---|---|---|---|---|---|---|---|---|---|---|---|---|---|---|---|\n",
       "| 0           | -0.46612522 | G:G         | C:T         | A:T         | T:T         | A:A         | C:G         | G:G         | C:G         | ...         | C:T         | A:G         | G:G         | A:G         | C:T         | A:G         | A:G         | A:A         | A:G         | A:A         |\n",
       "| 0           | -0.01996573 | G:G         | C:T         | A:T         | C:T         | A:G         | G:G         | G:G         | G:G         | ...         | C:T         | A:G         | A:G         | A:G         | C:T         | A:G         | G:G         | A:G         | A:G         | T:T         |\n",
       "| 0           |  0.36494556 | G:G         | T:T         | A:T         | T:T         | A:G         | G:G         | G:G         | C:G         | ...         | C:T         | A:G         | G:G         | A:G         | C:T         | A:A         | G:G         | A:G         | A:G         | A:A         |\n",
       "| 0           |  0.36161104 | G:G         | T:T         | T:T         | C:T         | A:G         | G:G         | G:G         | C:C         | ...         | C:T         | A:G         | G:G         | A:G         | C:T         | A:G         | G:G         | A:A         | A:A         | A:A         |\n",
       "| 0           | -0.26597295 | G:G         | C:T         | T:T         | C:T         | G:G         | C:C         | G:G         | C:G         | ...         | C:T         | A:G         | G:G         | G:G         | T:T         | G:G         | G:G         | A:A         | A:G         | A:T         |\n",
       "| 0           |  0.20463161 | G:G         | C:T         | T:T         | C:T         | A:G         | G:G         | G:G         | C:G         | ...         | C:T         | A:G         | G:G         | G:G         | C:T         | A:G         | G:G         | A:G         | G:G         | T:T         |\n",
       "\n"
      ],
      "text/plain": [
       "  W1.2MedDifWRelFFM1Bin W1.2MedDifWRelFFM1 rs10034661 rs10063949 rs1024610\n",
       "1 0                     -0.46612522        G:G        C:T        A:T      \n",
       "2 0                     -0.01996573        G:G        C:T        A:T      \n",
       "3 0                      0.36494556        G:G        T:T        A:T      \n",
       "4 0                      0.36161104        G:G        T:T        T:T      \n",
       "5 0                     -0.26597295        G:G        C:T        T:T      \n",
       "6 0                      0.20463161        G:G        C:T        T:T      \n",
       "  rs1024611 rs1042713 rs1045485 rs10491003 rs1049305 ... rs8111989 rs8192678\n",
       "1 T:T       A:A       C:G       G:G        C:G       ... C:T       A:G      \n",
       "2 C:T       A:G       G:G       G:G        G:G       ... C:T       A:G      \n",
       "3 T:T       A:G       G:G       G:G        C:G       ... C:T       A:G      \n",
       "4 C:T       A:G       G:G       G:G        C:C       ... C:T       A:G      \n",
       "5 C:T       G:G       C:C       G:G        C:G       ... C:T       A:G      \n",
       "6 C:T       A:G       G:G       G:G        C:G       ... C:T       A:G      \n",
       "  rs824205 rs833070 rs884736 rs921943 rs9469199 rs970547 rs9902453 rs9939609\n",
       "1 G:G      A:G      C:T      A:G      A:G       A:A      A:G       A:A      \n",
       "2 A:G      A:G      C:T      A:G      G:G       A:G      A:G       T:T      \n",
       "3 G:G      A:G      C:T      A:A      G:G       A:G      A:G       A:A      \n",
       "4 G:G      A:G      C:T      A:G      G:G       A:A      A:A       A:A      \n",
       "5 G:G      G:G      T:T      G:G      G:G       A:A      A:G       A:T      \n",
       "6 G:G      G:G      C:T      A:G      G:G       A:G      G:G       T:T      "
      ]
     },
     "metadata": {},
     "output_type": "display_data"
    }
   ],
   "source": [
    "W1.2MedDifWRelFFM1Bin <- factor(as.numeric(handle_target['W1.2MedDifWRelFFM1']>=median(handle_target$W1.2MedDifWRelFFM1)))\n",
    "\n",
    "ind_med <- cbind(W1.2MedDifWRelFFM1Bin, ind_med)\n",
    "\n",
    "head(ind_med)"
   ]
  },
  {
   "cell_type": "code",
   "execution_count": 39,
   "metadata": {},
   "outputs": [
    {
     "data": {
      "text/html": [
       "<table>\n",
       "<thead><tr><th scope=col>W1.2MedDifWRelFFM1Bin</th><th scope=col>rs10034661</th><th scope=col>rs10063949</th><th scope=col>rs1024610</th><th scope=col>rs1024611</th><th scope=col>rs1042713</th><th scope=col>rs1045485</th><th scope=col>rs10491003</th><th scope=col>rs1049305</th><th scope=col>rs1049434</th><th scope=col>...</th><th scope=col>rs8111989</th><th scope=col>rs8192678</th><th scope=col>rs824205</th><th scope=col>rs833070</th><th scope=col>rs884736</th><th scope=col>rs921943</th><th scope=col>rs9469199</th><th scope=col>rs970547</th><th scope=col>rs9902453</th><th scope=col>rs9939609</th></tr></thead>\n",
       "<tbody>\n",
       "\t<tr><td>0  </td><td>G:G</td><td>C:T</td><td>A:T</td><td>T:T</td><td>A:A</td><td>C:G</td><td>G:G</td><td>C:G</td><td>A:T</td><td>...</td><td>C:T</td><td>A:G</td><td>G:G</td><td>A:G</td><td>C:T</td><td>A:G</td><td>A:G</td><td>A:A</td><td>A:G</td><td>A:A</td></tr>\n",
       "\t<tr><td>0  </td><td>G:G</td><td>C:T</td><td>A:T</td><td>C:T</td><td>A:G</td><td>G:G</td><td>G:G</td><td>G:G</td><td>A:A</td><td>...</td><td>C:T</td><td>A:G</td><td>A:G</td><td>A:G</td><td>C:T</td><td>A:G</td><td>G:G</td><td>A:G</td><td>A:G</td><td>T:T</td></tr>\n",
       "\t<tr><td>0  </td><td>G:G</td><td>T:T</td><td>A:T</td><td>T:T</td><td>A:G</td><td>G:G</td><td>G:G</td><td>C:G</td><td>A:A</td><td>...</td><td>C:T</td><td>A:G</td><td>G:G</td><td>A:G</td><td>C:T</td><td>A:A</td><td>G:G</td><td>A:G</td><td>A:G</td><td>A:A</td></tr>\n",
       "\t<tr><td>0  </td><td>G:G</td><td>T:T</td><td>T:T</td><td>C:T</td><td>A:G</td><td>G:G</td><td>G:G</td><td>C:C</td><td>A:T</td><td>...</td><td>C:T</td><td>A:G</td><td>G:G</td><td>A:G</td><td>C:T</td><td>A:G</td><td>G:G</td><td>A:A</td><td>A:A</td><td>A:A</td></tr>\n",
       "\t<tr><td>0  </td><td>G:G</td><td>C:T</td><td>T:T</td><td>C:T</td><td>G:G</td><td>C:C</td><td>G:G</td><td>C:G</td><td>T:T</td><td>...</td><td>C:T</td><td>A:G</td><td>G:G</td><td>G:G</td><td>T:T</td><td>G:G</td><td>G:G</td><td>A:A</td><td>A:G</td><td>A:T</td></tr>\n",
       "\t<tr><td>0  </td><td>G:G</td><td>C:T</td><td>T:T</td><td>C:T</td><td>A:G</td><td>G:G</td><td>G:G</td><td>C:G</td><td>A:T</td><td>...</td><td>C:T</td><td>A:G</td><td>G:G</td><td>G:G</td><td>C:T</td><td>A:G</td><td>G:G</td><td>A:G</td><td>G:G</td><td>T:T</td></tr>\n",
       "</tbody>\n",
       "</table>\n"
      ],
      "text/latex": [
       "\\begin{tabular}{r|lllllllllllllllllllllllllllllllllllllllllllllllllllllllllllllllllllllllllllllllllllllllllllllllllllllllllllllllllllllllllllllllllllllllllllllllllllllllllllllllllllllllllllllllllll}\n",
       " W1.2MedDifWRelFFM1Bin & rs10034661 & rs10063949 & rs1024610 & rs1024611 & rs1042713 & rs1045485 & rs10491003 & rs1049305 & rs1049434 & ... & rs8111989 & rs8192678 & rs824205 & rs833070 & rs884736 & rs921943 & rs9469199 & rs970547 & rs9902453 & rs9939609\\\\\n",
       "\\hline\n",
       "\t 0   & G:G & C:T & A:T & T:T & A:A & C:G & G:G & C:G & A:T & ... & C:T & A:G & G:G & A:G & C:T & A:G & A:G & A:A & A:G & A:A\\\\\n",
       "\t 0   & G:G & C:T & A:T & C:T & A:G & G:G & G:G & G:G & A:A & ... & C:T & A:G & A:G & A:G & C:T & A:G & G:G & A:G & A:G & T:T\\\\\n",
       "\t 0   & G:G & T:T & A:T & T:T & A:G & G:G & G:G & C:G & A:A & ... & C:T & A:G & G:G & A:G & C:T & A:A & G:G & A:G & A:G & A:A\\\\\n",
       "\t 0   & G:G & T:T & T:T & C:T & A:G & G:G & G:G & C:C & A:T & ... & C:T & A:G & G:G & A:G & C:T & A:G & G:G & A:A & A:A & A:A\\\\\n",
       "\t 0   & G:G & C:T & T:T & C:T & G:G & C:C & G:G & C:G & T:T & ... & C:T & A:G & G:G & G:G & T:T & G:G & G:G & A:A & A:G & A:T\\\\\n",
       "\t 0   & G:G & C:T & T:T & C:T & A:G & G:G & G:G & C:G & A:T & ... & C:T & A:G & G:G & G:G & C:T & A:G & G:G & A:G & G:G & T:T\\\\\n",
       "\\end{tabular}\n"
      ],
      "text/markdown": [
       "\n",
       "| W1.2MedDifWRelFFM1Bin | rs10034661 | rs10063949 | rs1024610 | rs1024611 | rs1042713 | rs1045485 | rs10491003 | rs1049305 | rs1049434 | ... | rs8111989 | rs8192678 | rs824205 | rs833070 | rs884736 | rs921943 | rs9469199 | rs970547 | rs9902453 | rs9939609 |\n",
       "|---|---|---|---|---|---|---|---|---|---|---|---|---|---|---|---|---|---|---|---|---|\n",
       "| 0   | G:G | C:T | A:T | T:T | A:A | C:G | G:G | C:G | A:T | ... | C:T | A:G | G:G | A:G | C:T | A:G | A:G | A:A | A:G | A:A |\n",
       "| 0   | G:G | C:T | A:T | C:T | A:G | G:G | G:G | G:G | A:A | ... | C:T | A:G | A:G | A:G | C:T | A:G | G:G | A:G | A:G | T:T |\n",
       "| 0   | G:G | T:T | A:T | T:T | A:G | G:G | G:G | C:G | A:A | ... | C:T | A:G | G:G | A:G | C:T | A:A | G:G | A:G | A:G | A:A |\n",
       "| 0   | G:G | T:T | T:T | C:T | A:G | G:G | G:G | C:C | A:T | ... | C:T | A:G | G:G | A:G | C:T | A:G | G:G | A:A | A:A | A:A |\n",
       "| 0   | G:G | C:T | T:T | C:T | G:G | C:C | G:G | C:G | T:T | ... | C:T | A:G | G:G | G:G | T:T | G:G | G:G | A:A | A:G | A:T |\n",
       "| 0   | G:G | C:T | T:T | C:T | A:G | G:G | G:G | C:G | A:T | ... | C:T | A:G | G:G | G:G | C:T | A:G | G:G | A:G | G:G | T:T |\n",
       "\n"
      ],
      "text/plain": [
       "  W1.2MedDifWRelFFM1Bin rs10034661 rs10063949 rs1024610 rs1024611 rs1042713\n",
       "1 0                     G:G        C:T        A:T       T:T       A:A      \n",
       "2 0                     G:G        C:T        A:T       C:T       A:G      \n",
       "3 0                     G:G        T:T        A:T       T:T       A:G      \n",
       "4 0                     G:G        T:T        T:T       C:T       A:G      \n",
       "5 0                     G:G        C:T        T:T       C:T       G:G      \n",
       "6 0                     G:G        C:T        T:T       C:T       A:G      \n",
       "  rs1045485 rs10491003 rs1049305 rs1049434 ... rs8111989 rs8192678 rs824205\n",
       "1 C:G       G:G        C:G       A:T       ... C:T       A:G       G:G     \n",
       "2 G:G       G:G        G:G       A:A       ... C:T       A:G       A:G     \n",
       "3 G:G       G:G        C:G       A:A       ... C:T       A:G       G:G     \n",
       "4 G:G       G:G        C:C       A:T       ... C:T       A:G       G:G     \n",
       "5 C:C       G:G        C:G       T:T       ... C:T       A:G       G:G     \n",
       "6 G:G       G:G        C:G       A:T       ... C:T       A:G       G:G     \n",
       "  rs833070 rs884736 rs921943 rs9469199 rs970547 rs9902453 rs9939609\n",
       "1 A:G      C:T      A:G      A:G       A:A      A:G       A:A      \n",
       "2 A:G      C:T      A:G      G:G       A:G      A:G       T:T      \n",
       "3 A:G      C:T      A:A      G:G       A:G      A:G       A:A      \n",
       "4 A:G      C:T      A:G      G:G       A:A      A:A       A:A      \n",
       "5 G:G      T:T      G:G      G:G       A:A      A:G       A:T      \n",
       "6 G:G      C:T      A:G      G:G       A:G      G:G       T:T      "
      ]
     },
     "metadata": {},
     "output_type": "display_data"
    }
   ],
   "source": [
    "ind_med$W1.2MedDifWRelFFM1 <- NULL\n",
    "head(ind_med)"
   ]
  },
  {
   "cell_type": "markdown",
   "metadata": {},
   "source": [
    "## Train/test partition <a class=\"anchor\" id=\"2\"></a>"
   ]
  },
  {
   "cell_type": "markdown",
   "metadata": {},
   "source": [
    "* [Returning to the index of contents](#index)"
   ]
  },
  {
   "cell_type": "code",
   "execution_count": 40,
   "metadata": {
    "scrolled": true
   },
   "outputs": [
    {
     "name": "stderr",
     "output_type": "stream",
     "text": [
      "Warning message:\n",
      "\"package 'caret' was built under R version 3.6.2\"Loading required package: lattice\n",
      "Loading required package: ggplot2\n",
      "Warning message:\n",
      "\"package 'ggplot2' was built under R version 3.6.3\""
     ]
    }
   ],
   "source": [
    "library(caret)"
   ]
  },
  {
   "cell_type": "code",
   "execution_count": 41,
   "metadata": {},
   "outputs": [],
   "source": [
    "set.seed(10)\n",
    "id_df <- createDataPartition(w1_max$W1MaxWRelFFM1Bin,p = 0.85,list = FALSE)\n",
    "w1_max_train <- w1_max[id_df,]\n",
    "w1_max_Test <- w1_max[-id_df,]"
   ]
  },
  {
   "cell_type": "code",
   "execution_count": 42,
   "metadata": {},
   "outputs": [],
   "source": [
    "set.seed(10)\n",
    "id_df <- createDataPartition(w1_med$W1MedWRelFFM1Bin,p = 0.85,list = FALSE)\n",
    "w1_med_train <- w1_med[id_df,]\n",
    "w1_med_Test <- w1_med[-id_df,]"
   ]
  },
  {
   "cell_type": "code",
   "execution_count": 43,
   "metadata": {},
   "outputs": [],
   "source": [
    "set.seed(10)\n",
    "id_df <- createDataPartition(ind_w1$W1DifWRelFFM1Bin,p = 0.85,list = FALSE)\n",
    "ind_w1_train <- ind_w1[id_df,]\n",
    "ind_w1_Test <- ind_w1[-id_df,]"
   ]
  },
  {
   "cell_type": "code",
   "execution_count": 44,
   "metadata": {},
   "outputs": [],
   "source": [
    "set.seed(10)\n",
    "id_df <- createDataPartition(w2_max$W2MaxWRelFFM1Bin,p = 0.85,list = FALSE)\n",
    "w2_max_train <- w2_max[id_df,]\n",
    "w2_max_Test <- w2_max[-id_df,]"
   ]
  },
  {
   "cell_type": "code",
   "execution_count": 45,
   "metadata": {},
   "outputs": [],
   "source": [
    "set.seed(10)\n",
    "id_df <- createDataPartition(w2_med$W2MedWRelFFM1Bin,p = 0.85,list = FALSE)\n",
    "w2_med_train <- w2_med[id_df,]\n",
    "w2_med_Test <- w2_med[-id_df,]"
   ]
  },
  {
   "cell_type": "code",
   "execution_count": 46,
   "metadata": {},
   "outputs": [],
   "source": [
    "set.seed(10)\n",
    "id_df <- createDataPartition(ind_w2$W2DifWRelFFM1Bin,p = 0.85,list = FALSE)\n",
    "ind_w2_train <- ind_w2[id_df,]\n",
    "ind_w2_Test <- ind_w2[-id_df,]"
   ]
  },
  {
   "cell_type": "code",
   "execution_count": 47,
   "metadata": {},
   "outputs": [],
   "source": [
    "set.seed(10)\n",
    "id_df <- createDataPartition(ind_max$W1.2MaxDifWRelFFM1Bin,p = 0.85,list = FALSE)\n",
    "ind_max_train <- ind_max[id_df,]\n",
    "ind_max_Test <- ind_max[-id_df,]"
   ]
  },
  {
   "cell_type": "code",
   "execution_count": 48,
   "metadata": {},
   "outputs": [],
   "source": [
    "set.seed(10)\n",
    "id_df <- createDataPartition(ind_med$W1.2MedDifWRelFFM1Bin,p = 0.85,list = FALSE)\n",
    "ind_med_train <- ind_med[id_df,]\n",
    "ind_med_Test <- ind_med[-id_df,]"
   ]
  },
  {
   "cell_type": "markdown",
   "metadata": {},
   "source": [
    "## Random Forest application <a class=\"anchor\" id=\"3\"></a>"
   ]
  },
  {
   "cell_type": "markdown",
   "metadata": {},
   "source": [
    "* [Returning to the index of contents](#index)"
   ]
  },
  {
   "cell_type": "markdown",
   "metadata": {},
   "source": [
    "In all models we train with 10 folds or subsets of the training set."
   ]
  },
  {
   "cell_type": "code",
   "execution_count": 49,
   "metadata": {},
   "outputs": [
    {
     "data": {
      "text/html": [
       "<dl>\n",
       "\t<dt>$Fold01</dt>\n",
       "\t\t<dd><ol class=list-inline>\n",
       "\t<li>25</li>\n",
       "\t<li>31</li>\n",
       "\t<li>54</li>\n",
       "\t<li>55</li>\n",
       "\t<li>58</li>\n",
       "\t<li>61</li>\n",
       "\t<li>76</li>\n",
       "\t<li>81</li>\n",
       "</ol>\n",
       "</dd>\n",
       "\t<dt>$Fold02</dt>\n",
       "\t\t<dd><ol class=list-inline>\n",
       "\t<li>2</li>\n",
       "\t<li>11</li>\n",
       "\t<li>23</li>\n",
       "\t<li>35</li>\n",
       "\t<li>48</li>\n",
       "\t<li>63</li>\n",
       "\t<li>69</li>\n",
       "\t<li>72</li>\n",
       "</ol>\n",
       "</dd>\n",
       "\t<dt>$Fold03</dt>\n",
       "\t\t<dd><ol class=list-inline>\n",
       "\t<li>13</li>\n",
       "\t<li>14</li>\n",
       "\t<li>16</li>\n",
       "\t<li>26</li>\n",
       "\t<li>34</li>\n",
       "\t<li>43</li>\n",
       "\t<li>46</li>\n",
       "\t<li>51</li>\n",
       "</ol>\n",
       "</dd>\n",
       "\t<dt>$Fold04</dt>\n",
       "\t\t<dd><ol class=list-inline>\n",
       "\t<li>5</li>\n",
       "\t<li>8</li>\n",
       "\t<li>19</li>\n",
       "\t<li>20</li>\n",
       "\t<li>39</li>\n",
       "\t<li>47</li>\n",
       "\t<li>50</li>\n",
       "\t<li>56</li>\n",
       "</ol>\n",
       "</dd>\n",
       "\t<dt>$Fold05</dt>\n",
       "\t\t<dd><ol class=list-inline>\n",
       "\t<li>6</li>\n",
       "\t<li>17</li>\n",
       "\t<li>29</li>\n",
       "\t<li>32</li>\n",
       "\t<li>41</li>\n",
       "\t<li>44</li>\n",
       "\t<li>68</li>\n",
       "\t<li>80</li>\n",
       "</ol>\n",
       "</dd>\n",
       "\t<dt>$Fold06</dt>\n",
       "\t\t<dd><ol class=list-inline>\n",
       "\t<li>7</li>\n",
       "\t<li>21</li>\n",
       "\t<li>28</li>\n",
       "\t<li>30</li>\n",
       "\t<li>40</li>\n",
       "\t<li>49</li>\n",
       "\t<li>65</li>\n",
       "\t<li>75</li>\n",
       "</ol>\n",
       "</dd>\n",
       "\t<dt>$Fold07</dt>\n",
       "\t\t<dd><ol class=list-inline>\n",
       "\t<li>9</li>\n",
       "\t<li>12</li>\n",
       "\t<li>22</li>\n",
       "\t<li>37</li>\n",
       "\t<li>59</li>\n",
       "\t<li>62</li>\n",
       "\t<li>77</li>\n",
       "\t<li>79</li>\n",
       "</ol>\n",
       "</dd>\n",
       "\t<dt>$Fold08</dt>\n",
       "\t\t<dd><ol class=list-inline>\n",
       "\t<li>3</li>\n",
       "\t<li>18</li>\n",
       "\t<li>24</li>\n",
       "\t<li>33</li>\n",
       "\t<li>36</li>\n",
       "\t<li>60</li>\n",
       "\t<li>71</li>\n",
       "\t<li>82</li>\n",
       "</ol>\n",
       "</dd>\n",
       "\t<dt>$Fold09</dt>\n",
       "\t\t<dd><ol class=list-inline>\n",
       "\t<li>4</li>\n",
       "\t<li>10</li>\n",
       "\t<li>15</li>\n",
       "\t<li>38</li>\n",
       "\t<li>42</li>\n",
       "\t<li>53</li>\n",
       "\t<li>66</li>\n",
       "\t<li>73</li>\n",
       "\t<li>78</li>\n",
       "</ol>\n",
       "</dd>\n",
       "\t<dt>$Fold10</dt>\n",
       "\t\t<dd><ol class=list-inline>\n",
       "\t<li>1</li>\n",
       "\t<li>27</li>\n",
       "\t<li>45</li>\n",
       "\t<li>52</li>\n",
       "\t<li>57</li>\n",
       "\t<li>64</li>\n",
       "\t<li>67</li>\n",
       "\t<li>70</li>\n",
       "\t<li>74</li>\n",
       "</ol>\n",
       "</dd>\n",
       "</dl>\n"
      ],
      "text/latex": [
       "\\begin{description}\n",
       "\\item[\\$Fold01] \\begin{enumerate*}\n",
       "\\item 25\n",
       "\\item 31\n",
       "\\item 54\n",
       "\\item 55\n",
       "\\item 58\n",
       "\\item 61\n",
       "\\item 76\n",
       "\\item 81\n",
       "\\end{enumerate*}\n",
       "\n",
       "\\item[\\$Fold02] \\begin{enumerate*}\n",
       "\\item 2\n",
       "\\item 11\n",
       "\\item 23\n",
       "\\item 35\n",
       "\\item 48\n",
       "\\item 63\n",
       "\\item 69\n",
       "\\item 72\n",
       "\\end{enumerate*}\n",
       "\n",
       "\\item[\\$Fold03] \\begin{enumerate*}\n",
       "\\item 13\n",
       "\\item 14\n",
       "\\item 16\n",
       "\\item 26\n",
       "\\item 34\n",
       "\\item 43\n",
       "\\item 46\n",
       "\\item 51\n",
       "\\end{enumerate*}\n",
       "\n",
       "\\item[\\$Fold04] \\begin{enumerate*}\n",
       "\\item 5\n",
       "\\item 8\n",
       "\\item 19\n",
       "\\item 20\n",
       "\\item 39\n",
       "\\item 47\n",
       "\\item 50\n",
       "\\item 56\n",
       "\\end{enumerate*}\n",
       "\n",
       "\\item[\\$Fold05] \\begin{enumerate*}\n",
       "\\item 6\n",
       "\\item 17\n",
       "\\item 29\n",
       "\\item 32\n",
       "\\item 41\n",
       "\\item 44\n",
       "\\item 68\n",
       "\\item 80\n",
       "\\end{enumerate*}\n",
       "\n",
       "\\item[\\$Fold06] \\begin{enumerate*}\n",
       "\\item 7\n",
       "\\item 21\n",
       "\\item 28\n",
       "\\item 30\n",
       "\\item 40\n",
       "\\item 49\n",
       "\\item 65\n",
       "\\item 75\n",
       "\\end{enumerate*}\n",
       "\n",
       "\\item[\\$Fold07] \\begin{enumerate*}\n",
       "\\item 9\n",
       "\\item 12\n",
       "\\item 22\n",
       "\\item 37\n",
       "\\item 59\n",
       "\\item 62\n",
       "\\item 77\n",
       "\\item 79\n",
       "\\end{enumerate*}\n",
       "\n",
       "\\item[\\$Fold08] \\begin{enumerate*}\n",
       "\\item 3\n",
       "\\item 18\n",
       "\\item 24\n",
       "\\item 33\n",
       "\\item 36\n",
       "\\item 60\n",
       "\\item 71\n",
       "\\item 82\n",
       "\\end{enumerate*}\n",
       "\n",
       "\\item[\\$Fold09] \\begin{enumerate*}\n",
       "\\item 4\n",
       "\\item 10\n",
       "\\item 15\n",
       "\\item 38\n",
       "\\item 42\n",
       "\\item 53\n",
       "\\item 66\n",
       "\\item 73\n",
       "\\item 78\n",
       "\\end{enumerate*}\n",
       "\n",
       "\\item[\\$Fold10] \\begin{enumerate*}\n",
       "\\item 1\n",
       "\\item 27\n",
       "\\item 45\n",
       "\\item 52\n",
       "\\item 57\n",
       "\\item 64\n",
       "\\item 67\n",
       "\\item 70\n",
       "\\item 74\n",
       "\\end{enumerate*}\n",
       "\n",
       "\\end{description}\n"
      ],
      "text/markdown": [
       "$Fold01\n",
       ":   1. 25\n",
       "2. 31\n",
       "3. 54\n",
       "4. 55\n",
       "5. 58\n",
       "6. 61\n",
       "7. 76\n",
       "8. 81\n",
       "\n",
       "\n",
       "\n",
       "$Fold02\n",
       ":   1. 2\n",
       "2. 11\n",
       "3. 23\n",
       "4. 35\n",
       "5. 48\n",
       "6. 63\n",
       "7. 69\n",
       "8. 72\n",
       "\n",
       "\n",
       "\n",
       "$Fold03\n",
       ":   1. 13\n",
       "2. 14\n",
       "3. 16\n",
       "4. 26\n",
       "5. 34\n",
       "6. 43\n",
       "7. 46\n",
       "8. 51\n",
       "\n",
       "\n",
       "\n",
       "$Fold04\n",
       ":   1. 5\n",
       "2. 8\n",
       "3. 19\n",
       "4. 20\n",
       "5. 39\n",
       "6. 47\n",
       "7. 50\n",
       "8. 56\n",
       "\n",
       "\n",
       "\n",
       "$Fold05\n",
       ":   1. 6\n",
       "2. 17\n",
       "3. 29\n",
       "4. 32\n",
       "5. 41\n",
       "6. 44\n",
       "7. 68\n",
       "8. 80\n",
       "\n",
       "\n",
       "\n",
       "$Fold06\n",
       ":   1. 7\n",
       "2. 21\n",
       "3. 28\n",
       "4. 30\n",
       "5. 40\n",
       "6. 49\n",
       "7. 65\n",
       "8. 75\n",
       "\n",
       "\n",
       "\n",
       "$Fold07\n",
       ":   1. 9\n",
       "2. 12\n",
       "3. 22\n",
       "4. 37\n",
       "5. 59\n",
       "6. 62\n",
       "7. 77\n",
       "8. 79\n",
       "\n",
       "\n",
       "\n",
       "$Fold08\n",
       ":   1. 3\n",
       "2. 18\n",
       "3. 24\n",
       "4. 33\n",
       "5. 36\n",
       "6. 60\n",
       "7. 71\n",
       "8. 82\n",
       "\n",
       "\n",
       "\n",
       "$Fold09\n",
       ":   1. 4\n",
       "2. 10\n",
       "3. 15\n",
       "4. 38\n",
       "5. 42\n",
       "6. 53\n",
       "7. 66\n",
       "8. 73\n",
       "9. 78\n",
       "\n",
       "\n",
       "\n",
       "$Fold10\n",
       ":   1. 1\n",
       "2. 27\n",
       "3. 45\n",
       "4. 52\n",
       "5. 57\n",
       "6. 64\n",
       "7. 67\n",
       "8. 70\n",
       "9. 74\n",
       "\n",
       "\n",
       "\n",
       "\n",
       "\n"
      ],
      "text/plain": [
       "$Fold01\n",
       "[1] 25 31 54 55 58 61 76 81\n",
       "\n",
       "$Fold02\n",
       "[1]  2 11 23 35 48 63 69 72\n",
       "\n",
       "$Fold03\n",
       "[1] 13 14 16 26 34 43 46 51\n",
       "\n",
       "$Fold04\n",
       "[1]  5  8 19 20 39 47 50 56\n",
       "\n",
       "$Fold05\n",
       "[1]  6 17 29 32 41 44 68 80\n",
       "\n",
       "$Fold06\n",
       "[1]  7 21 28 30 40 49 65 75\n",
       "\n",
       "$Fold07\n",
       "[1]  9 12 22 37 59 62 77 79\n",
       "\n",
       "$Fold08\n",
       "[1]  3 18 24 33 36 60 71 82\n",
       "\n",
       "$Fold09\n",
       "[1]  4 10 15 38 42 53 66 73 78\n",
       "\n",
       "$Fold10\n",
       "[1]  1 27 45 52 57 64 67 70 74\n"
      ]
     },
     "metadata": {},
     "output_type": "display_data"
    }
   ],
   "source": [
    "set.seed(10)\n",
    "folds <- createFolds(w1_max$W1MaxWRelFFM1Bin, k = 10)\n",
    "folds"
   ]
  },
  {
   "cell_type": "markdown",
   "metadata": {},
   "source": [
    "As the length of the target variable is the same for each of the tests, we can use the same partition of folds, besides we only indicate positions. "
   ]
  },
  {
   "cell_type": "markdown",
   "metadata": {},
   "source": [
    "### Cross-validation application and creation of Random Forest's binary classifier<a class=\"anchor\" id=\"15\"></a>"
   ]
  },
  {
   "cell_type": "markdown",
   "metadata": {},
   "source": [
    "* [Returning to the index of contents](#index)"
   ]
  },
  {
   "cell_type": "code",
   "execution_count": 50,
   "metadata": {
    "scrolled": true
   },
   "outputs": [
    {
     "name": "stderr",
     "output_type": "stream",
     "text": [
      "Warning message:\n",
      "\"package 'randomForest' was built under R version 3.6.2\"randomForest 4.6-14\n",
      "Type rfNews() to see new features/changes/bug fixes.\n",
      "\n",
      "Attaching package: 'randomForest'\n",
      "\n",
      "The following object is masked from 'package:ggplot2':\n",
      "\n",
      "    margin\n",
      "\n"
     ]
    }
   ],
   "source": [
    "library(randomForest)"
   ]
  },
  {
   "cell_type": "code",
   "execution_count": 51,
   "metadata": {},
   "outputs": [],
   "source": [
    "#function for calculating the accuracy of predictions\n",
    "acc.class = function(x, y) {\n",
    "  stopifnot(length(x) == length(y))\n",
    "  return(sum(diag(table(x, y))) / length(x))\n",
    "}"
   ]
  },
  {
   "cell_type": "markdown",
   "metadata": {},
   "source": [
    "#### Maximum power relative to FFM1 in Wingate 1(W1MaxWRelFFM1)<a class=\"anchor\" id=\"16\"></a>"
   ]
  },
  {
   "cell_type": "markdown",
   "metadata": {},
   "source": [
    "* [Returning to the index of contents](#index)"
   ]
  },
  {
   "cell_type": "markdown",
   "metadata": {},
   "source": [
    "Because it is a classification problem, the number of predictors to use is the square root of the number of predictor variables"
   ]
  },
  {
   "cell_type": "code",
   "execution_count": 52,
   "metadata": {
    "scrolled": false
   },
   "outputs": [
    {
     "data": {
      "text/html": [
       "13"
      ],
      "text/latex": [
       "13"
      ],
      "text/markdown": [
       "13"
      ],
      "text/plain": [
       "[1] 13"
      ]
     },
     "metadata": {},
     "output_type": "display_data"
    }
   ],
   "source": [
    "mtry = round(sqrt(dim(w1_max_train[,-1])[2])) \n",
    "mtry"
   ]
  },
  {
   "cell_type": "code",
   "execution_count": 54,
   "metadata": {
    "scrolled": true
   },
   "outputs": [
    {
     "name": "stdout",
     "output_type": "stream",
     "text": [
      "[1] \"Mean accuracy:  5.97222222222222\"\n"
     ]
    }
   ],
   "source": [
    "set.seed(10)\n",
    "cv_w1_max <- lapply(folds, function(x){\n",
    "  train_fold <- w1_max_train[-x,]\n",
    "  test_fold <- w1_max_Test[x,]\n",
    "  rf_w1_max <- randomForest(W1MaxWRelFFM1Bin ~ ., data = train_fold, ntree = 1000, mtry = mtry)\n",
    "  y_pred <- predict(rf_w1_max, newdata = test_fold)\n",
    "  precision <- acc.class(y_pred, test_fold$W1MaxWRelFFM1Bin) * 100\n",
    "  return(precision)\n",
    "})\n",
    "acc_rf_w1_max <- mean(as.numeric(cv_w1_max))\n",
    "print(paste('Mean accuracy: ',acc_rf_w1_max))"
   ]
  },
  {
   "cell_type": "markdown",
   "metadata": {},
   "source": [
    "#### Mean power relative to FFM1 in Wingate 1 (W1MedWRelFFM1) <a class=\"anchor\" id=\"17\"></a>"
   ]
  },
  {
   "cell_type": "markdown",
   "metadata": {},
   "source": [
    "* [Returning to the index of contents](#index)"
   ]
  },
  {
   "cell_type": "code",
   "execution_count": 55,
   "metadata": {},
   "outputs": [
    {
     "name": "stdout",
     "output_type": "stream",
     "text": [
      "[1] \"Mean accuracy:  5\"\n"
     ]
    }
   ],
   "source": [
    "set.seed(10)\n",
    "cv_w1_med <- lapply(folds, function(x){\n",
    "  train_fold <- w1_med_train[-x,]\n",
    "  test_fold <- w1_med_Test[x,]\n",
    "  rf_w1_med <- randomForest(W1MedWRelFFM1Bin ~ ., data = train_fold, ntree = 1000, mtry = mtry)\n",
    "  y_pred <- predict(rf_w1_med, newdata = test_fold)\n",
    "  precision <- acc.class(y_pred, test_fold$W1MedWRelFFM1Bin) * 100\n",
    "  return(precision)\n",
    "})\n",
    "acc_rf_w1_med <- mean(as.numeric(cv_w1_med))\n",
    "print(paste('Mean accuracy: ',acc_rf_w1_med))"
   ]
  },
  {
   "cell_type": "markdown",
   "metadata": {},
   "source": [
    "#### Fatigue rate relative to FFM1 in Wingate 1 (W1DifWRelFFM1) <a class=\"anchor\" id=\"18\"></a>"
   ]
  },
  {
   "cell_type": "markdown",
   "metadata": {},
   "source": [
    "* [Returning to the index of contents](#index)"
   ]
  },
  {
   "cell_type": "code",
   "execution_count": 56,
   "metadata": {},
   "outputs": [
    {
     "name": "stdout",
     "output_type": "stream",
     "text": [
      "[1] \"Mean accuracy:  8.47222222222222\"\n"
     ]
    }
   ],
   "source": [
    "set.seed(10)\n",
    "cv_ind_w1 <- lapply(folds, function(x){\n",
    "  train_fold <- ind_w1_train[-x,]\n",
    "  test_fold <- ind_w1_Test[x,]\n",
    "  rf_ind_w1 <- randomForest(W1DifWRelFFM1Bin ~ ., data = train_fold, ntree = 1000, mtry = mtry)\n",
    "  y_pred <- predict(rf_ind_w1, newdata = test_fold)\n",
    "  precision <- acc.class(y_pred, test_fold$W1DifWRelFFM1Bin) * 100\n",
    "  return(precision)\n",
    "})\n",
    "acc_rf_ind_w1 <- mean(as.numeric(cv_ind_w1))\n",
    "print(paste('Mean accuracy: ',acc_rf_ind_w1))"
   ]
  },
  {
   "cell_type": "markdown",
   "metadata": {},
   "source": [
    "#### Maximum power relative to FFM1 in Wingate 2 (W2MaxWRelFFM1) <a class=\"anchor\" id=\"19\"></a>"
   ]
  },
  {
   "cell_type": "markdown",
   "metadata": {},
   "source": [
    "* [Returning to the index of contents](#index)"
   ]
  },
  {
   "cell_type": "code",
   "execution_count": 57,
   "metadata": {},
   "outputs": [
    {
     "name": "stdout",
     "output_type": "stream",
     "text": [
      "[1] \"Mean accuracy:  8.47222222222222\"\n"
     ]
    }
   ],
   "source": [
    "set.seed(10)\n",
    "cv_w2_max <- lapply(folds, function(x){\n",
    "  train_fold <- w2_max_train[-x,]\n",
    "  test_fold <- w2_max_Test[x,]\n",
    "  rf_w2_max <- randomForest(W2MaxWRelFFM1Bin ~ ., data = train_fold, ntree = 1000, mtry = mtry)\n",
    "  y_pred <- predict(rf_w2_max, newdata = test_fold)\n",
    "  precision <- acc.class(y_pred, test_fold$W2MaxWRelFFM1Bin) * 100\n",
    "  return(precision)\n",
    "})\n",
    "acc_rf_w2_max <- mean(as.numeric(cv_w2_max))\n",
    "print(paste('Mean accuracy: ',acc_rf_w2_max))"
   ]
  },
  {
   "cell_type": "markdown",
   "metadata": {},
   "source": [
    "#### Mean power relative to FFM1 in Wingate 2 (W2MedWRelFFM1) <a class=\"anchor\" id=\"20\"></a>"
   ]
  },
  {
   "cell_type": "markdown",
   "metadata": {},
   "source": [
    "* [Returning to the index of contents](#index)"
   ]
  },
  {
   "cell_type": "code",
   "execution_count": 58,
   "metadata": {},
   "outputs": [
    {
     "name": "stdout",
     "output_type": "stream",
     "text": [
      "[1] \"Mean accuracy:  4.86111111111111\"\n"
     ]
    }
   ],
   "source": [
    "set.seed(10)\n",
    "cv_w2_med <- lapply(folds, function(x){\n",
    "  train_fold <- w2_med_train[-x,]\n",
    "  test_fold <- w2_med_Test[x,]\n",
    "  rf_w2_med <- randomForest(W2MedWRelFFM1Bin ~ ., data = train_fold, ntree = 1000, mtry = mtry)\n",
    "  y_pred <- predict(rf_w2_med, newdata = test_fold)\n",
    "  precision <- acc.class(y_pred, test_fold$W2MedWRelFFM1Bin) * 100\n",
    "  return(precision)\n",
    "})\n",
    "acc_rf_w2_med <- mean(as.numeric(cv_w2_med))\n",
    "print(paste('Mean accuracy: ',acc_rf_w2_med))"
   ]
  },
  {
   "cell_type": "markdown",
   "metadata": {},
   "source": [
    "#### Fatigue rate relative to FFM1 in Wingate 2 (W2DifWRelFFM1) <a class=\"anchor\" id=\"21\"></a>"
   ]
  },
  {
   "cell_type": "markdown",
   "metadata": {},
   "source": [
    "* [Returning to the index of contents](#index)"
   ]
  },
  {
   "cell_type": "code",
   "execution_count": 59,
   "metadata": {
    "scrolled": true
   },
   "outputs": [
    {
     "name": "stdout",
     "output_type": "stream",
     "text": [
      "[1] \"Mean accuracy:  8.47222222222222\"\n"
     ]
    }
   ],
   "source": [
    "set.seed(10)\n",
    "cv_ind_w2 <- lapply(folds, function(x){\n",
    "  train_fold <- ind_w2_train[-x,]\n",
    "  test_fold <- ind_w2_Test[x,]\n",
    "  rf_ind_w2 <- randomForest(W2DifWRelFFM1Bin ~ ., data = train_fold, ntree = 1000, mtry = mtry)\n",
    "  y_pred <- predict(rf_ind_w2, newdata = test_fold)\n",
    "  precision <- acc.class(y_pred, test_fold$W2DifWRelFFM1Bin) * 100\n",
    "  return(precision)\n",
    "})\n",
    "acc_rf_ind_w2 <- mean(as.numeric(cv_ind_w2))\n",
    "print(paste('Mean accuracy: ',acc_rf_ind_w2))"
   ]
  },
  {
   "cell_type": "markdown",
   "metadata": {},
   "source": [
    "#### Maximum fatigue rate between Wingates relative to FFM1 (W1-W2MaxDifWRelFFM1) <a class=\"anchor\" id=\"22\"></a>"
   ]
  },
  {
   "cell_type": "markdown",
   "metadata": {},
   "source": [
    "* [Returning to the index of contents](#index)"
   ]
  },
  {
   "cell_type": "code",
   "execution_count": 60,
   "metadata": {
    "scrolled": true
   },
   "outputs": [
    {
     "name": "stdout",
     "output_type": "stream",
     "text": [
      "[1] \"Mean accuracy:  7.22222222222222\"\n"
     ]
    }
   ],
   "source": [
    "set.seed(10)\n",
    "cv_ind_max <- lapply(folds, function(x){\n",
    "  train_fold <- ind_max_train[-x,]\n",
    "  test_fold <- ind_max_Test[x,]\n",
    "  rf_ind_max <- randomForest(W1.2MaxDifWRelFFM1Bin ~ ., data = train_fold, ntree = 1000, mtry = mtry)\n",
    "  y_pred <- predict(rf_ind_max, newdata = test_fold)\n",
    "  precision <- acc.class(y_pred, test_fold$W1.2MaxDifWRelFFM1Bin) * 100\n",
    "  return(precision)\n",
    "})\n",
    "acc_rf_ind_max <- mean(as.numeric(cv_ind_max))\n",
    "print(paste('Mean accuracy: ',acc_rf_ind_max))"
   ]
  },
  {
   "cell_type": "markdown",
   "metadata": {},
   "source": [
    "#### Mean fatigue rate between Wingates relative to FFM1 (W1-W2MedDifWRelFFM1) <a class=\"anchor\" id=\"23\"></a>"
   ]
  },
  {
   "cell_type": "markdown",
   "metadata": {},
   "source": [
    "* [Returning to the index of contents](#index)"
   ]
  },
  {
   "cell_type": "code",
   "execution_count": 61,
   "metadata": {},
   "outputs": [
    {
     "name": "stdout",
     "output_type": "stream",
     "text": [
      "[1] \"Mean accuracy:  9.58333333333333\"\n"
     ]
    }
   ],
   "source": [
    "set.seed(10)\n",
    "cv_ind_med <- lapply(folds, function(x){\n",
    "  train_fold <- ind_med_train[-x,]\n",
    "  test_fold <- ind_med_Test[x,]\n",
    "  rf_ind_med <- randomForest(W1.2MedDifWRelFFM1Bin ~ ., data = train_fold, ntree = 1000, mtry = mtry)\n",
    "  y_pred <- predict(rf_ind_med, newdata = test_fold)\n",
    "  precision <- acc.class(y_pred, test_fold$W1.2MedDifWRelFFM1Bin) * 100\n",
    "  return(precision)\n",
    "})\n",
    "acc_rf_ind_med <- mean(as.numeric(cv_ind_med))\n",
    "print(paste('Mean accuracy: ',acc_rf_ind_med))"
   ]
  },
  {
   "cell_type": "markdown",
   "metadata": {},
   "source": [
    "## Comparative <a class=\"anchor\" id=\"4\" ></a>"
   ]
  },
  {
   "cell_type": "markdown",
   "metadata": {},
   "source": [
    "* [Returning to the index of contents](#index)"
   ]
  },
  {
   "cell_type": "code",
   "execution_count": 62,
   "metadata": {},
   "outputs": [],
   "source": [
    "accuracies <- c(acc_rf_w1_max, acc_rf_w1_med, acc_rf_ind_w1,acc_rf_w2_max, acc_rf_w2_med, acc_rf_ind_w2, acc_rf_ind_max, acc_rf_ind_med) "
   ]
  },
  {
   "cell_type": "code",
   "execution_count": 64,
   "metadata": {},
   "outputs": [],
   "source": [
    "comparative <- data.frame(accuracies)\n",
    "row.names(comparative) <- c('W1MaxWRelFFM1','W1MedWRelFFM1','W1DifWRelFFM1','W2MaxWRelFFM1','W2MedWRelFFM1','W2DifWRelFFM1','W1.2MaxDifWRelFFM1','W1.2MedDifWRelFFM1')"
   ]
  },
  {
   "cell_type": "code",
   "execution_count": 65,
   "metadata": {},
   "outputs": [],
   "source": [
    "colnames(comparative) <- 'Accuracies (%)'"
   ]
  },
  {
   "cell_type": "code",
   "execution_count": 66,
   "metadata": {
    "scrolled": true
   },
   "outputs": [
    {
     "data": {
      "text/html": [
       "<table>\n",
       "<thead><tr><th></th><th scope=col>Accuracies (%)</th></tr></thead>\n",
       "<tbody>\n",
       "\t<tr><th scope=row>W1MaxWRelFFM1</th><td>5.972222</td></tr>\n",
       "\t<tr><th scope=row>W1MedWRelFFM1</th><td>5.000000</td></tr>\n",
       "\t<tr><th scope=row>W1DifWRelFFM1</th><td>8.472222</td></tr>\n",
       "\t<tr><th scope=row>W2MaxWRelFFM1</th><td>8.472222</td></tr>\n",
       "\t<tr><th scope=row>W2MedWRelFFM1</th><td>4.861111</td></tr>\n",
       "\t<tr><th scope=row>W2DifWRelFFM1</th><td>8.472222</td></tr>\n",
       "\t<tr><th scope=row>W1.2MaxDifWRelFFM1</th><td>7.222222</td></tr>\n",
       "\t<tr><th scope=row>W1.2MedDifWRelFFM1</th><td>9.583333</td></tr>\n",
       "</tbody>\n",
       "</table>\n"
      ],
      "text/latex": [
       "\\begin{tabular}{r|l}\n",
       "  & Accuracies (\\%)\\\\\n",
       "\\hline\n",
       "\tW1MaxWRelFFM1 & 5.972222\\\\\n",
       "\tW1MedWRelFFM1 & 5.000000\\\\\n",
       "\tW1DifWRelFFM1 & 8.472222\\\\\n",
       "\tW2MaxWRelFFM1 & 8.472222\\\\\n",
       "\tW2MedWRelFFM1 & 4.861111\\\\\n",
       "\tW2DifWRelFFM1 & 8.472222\\\\\n",
       "\tW1.2MaxDifWRelFFM1 & 7.222222\\\\\n",
       "\tW1.2MedDifWRelFFM1 & 9.583333\\\\\n",
       "\\end{tabular}\n"
      ],
      "text/markdown": [
       "\n",
       "| <!--/--> | Accuracies (%) |\n",
       "|---|---|\n",
       "| W1MaxWRelFFM1 | 5.972222 |\n",
       "| W1MedWRelFFM1 | 5.000000 |\n",
       "| W1DifWRelFFM1 | 8.472222 |\n",
       "| W2MaxWRelFFM1 | 8.472222 |\n",
       "| W2MedWRelFFM1 | 4.861111 |\n",
       "| W2DifWRelFFM1 | 8.472222 |\n",
       "| W1.2MaxDifWRelFFM1 | 7.222222 |\n",
       "| W1.2MedDifWRelFFM1 | 9.583333 |\n",
       "\n"
      ],
      "text/plain": [
       "                   Accuracies (%)\n",
       "W1MaxWRelFFM1      5.972222      \n",
       "W1MedWRelFFM1      5.000000      \n",
       "W1DifWRelFFM1      8.472222      \n",
       "W2MaxWRelFFM1      8.472222      \n",
       "W2MedWRelFFM1      4.861111      \n",
       "W2DifWRelFFM1      8.472222      \n",
       "W1.2MaxDifWRelFFM1 7.222222      \n",
       "W1.2MedDifWRelFFM1 9.583333      "
      ]
     },
     "metadata": {},
     "output_type": "display_data"
    }
   ],
   "source": [
    "comparative"
   ]
  },
  {
   "cell_type": "markdown",
   "metadata": {},
   "source": [
    "## Best model<a class=\"anchor\" id=\"24\"></a>"
   ]
  },
  {
   "cell_type": "markdown",
   "metadata": {},
   "source": [
    "* [Returning to the index of contents](#index)"
   ]
  },
  {
   "cell_type": "markdown",
   "metadata": {},
   "source": [
    "In truth, there is no good model because the accuracies obtained are extremely low. However, the model that best predicts is the one that uses the average relative fatigue index FFM1:W1.2MedDifWRelFFM1 (9.58% accuracy).\n",
    "\n",
    "Let's see if we can improve the accuracy of this model by optimizing the number of trees in the forest:"
   ]
  },
  {
   "cell_type": "code",
   "execution_count": 68,
   "metadata": {},
   "outputs": [],
   "source": [
    "set.seed(10)\n",
    "rf_ind_med <- randomForest(W1.2MedDifWRelFFM1Bin ~ ., data = ind_med_train, ntree = 1000, mtry = mtry, importance = TRUE)"
   ]
  },
  {
   "cell_type": "code",
   "execution_count": 69,
   "metadata": {},
   "outputs": [
    {
     "data": {
      "image/png": "[encoded data removed]",
      "text/plain": [
       "Plot with title \"Out-Of-Bag error\""
      ]
     },
     "metadata": {},
     "output_type": "display_data"
    }
   ],
   "source": [
    "# OOB error\n",
    "plot(rf_ind_med$err.rate[,1],type = \"b\",xlab = \"no trees\",ylab = \"OOB error\", main = 'Out-Of-Bag error')\n",
    "grid()"
   ]
  },
  {
   "cell_type": "markdown",
   "metadata": {},
   "source": [
    "It doesn't seem to make much sense to choose the size of the tree to optimize the tree, more when the best result is for 0 trees.\n",
    "\n",
    "Let's see if we can see the polymorphisms that this particular model considers most important."
   ]
  },
  {
   "cell_type": "code",
   "execution_count": 70,
   "metadata": {},
   "outputs": [
    {
     "data": {
      "image/png": "[encoded data removed]",
      "text/plain": [
       "plot without title"
      ]
     },
     "metadata": {},
     "output_type": "display_data"
    }
   ],
   "source": [
    "library(tidyverse)\n",
    "library(ggpubr)\n",
    "importancia_pred <- as.data.frame(importance(rf_ind_med, scale = TRUE))\n",
    "importancia_pred <- rownames_to_column(importancia_pred, var = \"variable\")\n",
    "p1 <- ggplot(data=importancia_pred[order(importancia_pred$MeanDecreaseAccuracy, decreasing = TRUE),][1:10,], aes(x=reorder(variable, MeanDecreaseAccuracy),\n",
    "                                        y = MeanDecreaseAccuracy,\n",
    "                                        fill = MeanDecreaseAccuracy)) +\n",
    "    labs(x = \"variable\", title = \"Accuracy reduction\") +\n",
    "    geom_col() +\n",
    "    coord_flip() +\n",
    "    theme_bw() +\n",
    "    theme(legend.position = \"bottom\")\n",
    "\n",
    "p2 <- ggplot(data = importancia_pred[order(importancia_pred$MeanDecreaseGini, decreasing = TRUE),][1:10,], aes(x = reorder(variable, MeanDecreaseGini),\n",
    "                                          y = MeanDecreaseGini,\n",
    "                                          fill = MeanDecreaseGini)) +\n",
    "    labs(x = \"variable\", title = \"Purity reduction\") +\n",
    "    geom_col() +\n",
    "    coord_flip() +\n",
    "    theme_bw() +\n",
    "    theme(legend.position = \"bottom\")\n",
    "ggarrange(p1, p2)\n",
    "\n"
   ]
  },
  {
   "cell_type": "code",
   "execution_count": 71,
   "metadata": {},
   "outputs": [
    {
     "data": {
      "text/html": [
       "<strong>png:</strong> 2"
      ],
      "text/latex": [
       "\\textbf{png:} 2"
      ],
      "text/markdown": [
       "**png:** 2"
      ],
      "text/plain": [
       "png \n",
       "  2 "
      ]
     },
     "metadata": {},
     "output_type": "display_data"
    }
   ],
   "source": [
    "png(file ='random_forest_ind_med_FMM1.jpg')\n",
    "library(tidyverse)\n",
    "library(ggpubr)\n",
    "importancia_pred <- as.data.frame(importance(rf_ind_med, scale = TRUE))\n",
    "importancia_pred <- rownames_to_column(importancia_pred, var = \"variable\")\n",
    "p1 <- ggplot(data=importancia_pred[order(importancia_pred$MeanDecreaseAccuracy, decreasing = TRUE),][1:10,], aes(x=reorder(variable, MeanDecreaseAccuracy),\n",
    "                                        y = MeanDecreaseAccuracy,\n",
    "                                        fill = MeanDecreaseAccuracy)) +\n",
    "    labs(x = \"variable\", title = \"Accuracy reduction\") +\n",
    "    geom_col() +\n",
    "    coord_flip() +\n",
    "    theme_bw() +\n",
    "    theme(legend.position = \"bottom\")\n",
    "\n",
    "p2 <- ggplot(data = importancia_pred[order(importancia_pred$MeanDecreaseGini, decreasing = TRUE),][1:10,], aes(x = reorder(variable, MeanDecreaseGini),\n",
    "                                          y = MeanDecreaseGini,\n",
    "                                          fill = MeanDecreaseGini)) +\n",
    "    labs(x = \"variable\", title = \"Purity reduction\") +\n",
    "    geom_col() +\n",
    "    coord_flip() +\n",
    "    theme_bw() +\n",
    "    theme(legend.position = \"bottom\")\n",
    "ggarrange(p1, p2)\n",
    "\n",
    "\n",
    "\n",
    "dev.off()"
   ]
  },
  {
   "cell_type": "markdown",
   "metadata": {},
   "source": [
    "We put together the snp considered most important based on the measures of MeanDecreaseAccuracy and MeanDecreaseGini."
   ]
  },
  {
   "cell_type": "markdown",
   "metadata": {},
   "source": [
    "* Variables with a high MeanDecreaseAccuracy"
   ]
  },
  {
   "cell_type": "code",
   "execution_count": 106,
   "metadata": {},
   "outputs": [
    {
     "data": {
      "text/html": [
       "<table>\n",
       "<thead><tr><th></th><th scope=col>variable</th><th scope=col>0</th><th scope=col>1</th><th scope=col>MeanDecreaseAccuracy</th><th scope=col>MeanDecreaseGini</th></tr></thead>\n",
       "<tbody>\n",
       "\t<tr><th scope=row>79</th><td>rs2104772 </td><td>5.1198612 </td><td>5.075941  </td><td>6.987901  </td><td>0.9478545 </td></tr>\n",
       "\t<tr><th scope=row>131</th><td>rs5418    </td><td>5.0017854 </td><td>4.601789  </td><td>6.760097  </td><td>0.8109001 </td></tr>\n",
       "\t<tr><th scope=row>152</th><td>rs7191721 </td><td>4.3257403 </td><td>4.118907  </td><td>5.115731  </td><td>0.8894336 </td></tr>\n",
       "\t<tr><th scope=row>77</th><td>rs2070744 </td><td>2.8807988 </td><td>3.428098  </td><td>3.831234  </td><td>0.3657689 </td></tr>\n",
       "\t<tr><th scope=row>148</th><td>rs6968554 </td><td>1.8796622 </td><td>3.532481  </td><td>3.637035  </td><td>0.5057815 </td></tr>\n",
       "\t<tr><th scope=row>109</th><td>rs3768816 </td><td>2.0766940 </td><td>2.110436  </td><td>3.029232  </td><td>0.3181474 </td></tr>\n",
       "\t<tr><th scope=row>42</th><td>rs1572312 </td><td>1.9058803 </td><td>2.526996  </td><td>2.960207  </td><td>0.2790826 </td></tr>\n",
       "\t<tr><th scope=row>54</th><td>rs1800206 </td><td>2.6710955 </td><td>1.557050  </td><td>2.715746  </td><td>0.2652731 </td></tr>\n",
       "\t<tr><th scope=row>99</th><td>rs2943641 </td><td>1.5515563 </td><td>2.002377  </td><td>2.695226  </td><td>0.3954027 </td></tr>\n",
       "\t<tr><th scope=row>30</th><td>rs12613181</td><td>0.1814488 </td><td>3.786385  </td><td>2.671753  </td><td>0.2472000 </td></tr>\n",
       "</tbody>\n",
       "</table>\n"
      ],
      "text/latex": [
       "\\begin{tabular}{r|lllll}\n",
       "  & variable & 0 & 1 & MeanDecreaseAccuracy & MeanDecreaseGini\\\\\n",
       "\\hline\n",
       "\t79 & rs2104772  & 5.1198612  & 5.075941   & 6.987901   & 0.9478545 \\\\\n",
       "\t131 & rs5418     & 5.0017854  & 4.601789   & 6.760097   & 0.8109001 \\\\\n",
       "\t152 & rs7191721  & 4.3257403  & 4.118907   & 5.115731   & 0.8894336 \\\\\n",
       "\t77 & rs2070744  & 2.8807988  & 3.428098   & 3.831234   & 0.3657689 \\\\\n",
       "\t148 & rs6968554  & 1.8796622  & 3.532481   & 3.637035   & 0.5057815 \\\\\n",
       "\t109 & rs3768816  & 2.0766940  & 2.110436   & 3.029232   & 0.3181474 \\\\\n",
       "\t42 & rs1572312  & 1.9058803  & 2.526996   & 2.960207   & 0.2790826 \\\\\n",
       "\t54 & rs1800206  & 2.6710955  & 1.557050   & 2.715746   & 0.2652731 \\\\\n",
       "\t99 & rs2943641  & 1.5515563  & 2.002377   & 2.695226   & 0.3954027 \\\\\n",
       "\t30 & rs12613181 & 0.1814488  & 3.786385   & 2.671753   & 0.2472000 \\\\\n",
       "\\end{tabular}\n"
      ],
      "text/markdown": [
       "\n",
       "| <!--/--> | variable | 0 | 1 | MeanDecreaseAccuracy | MeanDecreaseGini |\n",
       "|---|---|---|---|---|---|\n",
       "| 79 | rs2104772  | 5.1198612  | 5.075941   | 6.987901   | 0.9478545  |\n",
       "| 131 | rs5418     | 5.0017854  | 4.601789   | 6.760097   | 0.8109001  |\n",
       "| 152 | rs7191721  | 4.3257403  | 4.118907   | 5.115731   | 0.8894336  |\n",
       "| 77 | rs2070744  | 2.8807988  | 3.428098   | 3.831234   | 0.3657689  |\n",
       "| 148 | rs6968554  | 1.8796622  | 3.532481   | 3.637035   | 0.5057815  |\n",
       "| 109 | rs3768816  | 2.0766940  | 2.110436   | 3.029232   | 0.3181474  |\n",
       "| 42 | rs1572312  | 1.9058803  | 2.526996   | 2.960207   | 0.2790826  |\n",
       "| 54 | rs1800206  | 2.6710955  | 1.557050   | 2.715746   | 0.2652731  |\n",
       "| 99 | rs2943641  | 1.5515563  | 2.002377   | 2.695226   | 0.3954027  |\n",
       "| 30 | rs12613181 | 0.1814488  | 3.786385   | 2.671753   | 0.2472000  |\n",
       "\n"
      ],
      "text/plain": [
       "    variable   0         1        MeanDecreaseAccuracy MeanDecreaseGini\n",
       "79  rs2104772  5.1198612 5.075941 6.987901             0.9478545       \n",
       "131 rs5418     5.0017854 4.601789 6.760097             0.8109001       \n",
       "152 rs7191721  4.3257403 4.118907 5.115731             0.8894336       \n",
       "77  rs2070744  2.8807988 3.428098 3.831234             0.3657689       \n",
       "148 rs6968554  1.8796622 3.532481 3.637035             0.5057815       \n",
       "109 rs3768816  2.0766940 2.110436 3.029232             0.3181474       \n",
       "42  rs1572312  1.9058803 2.526996 2.960207             0.2790826       \n",
       "54  rs1800206  2.6710955 1.557050 2.715746             0.2652731       \n",
       "99  rs2943641  1.5515563 2.002377 2.695226             0.3954027       \n",
       "30  rs12613181 0.1814488 3.786385 2.671753             0.2472000       "
      ]
     },
     "metadata": {},
     "output_type": "display_data"
    }
   ],
   "source": [
    "importancia_pred[order(importancia_pred$MeanDecreaseAccuracy, decreasing = TRUE),][1:10,]"
   ]
  },
  {
   "cell_type": "code",
   "execution_count": 104,
   "metadata": {},
   "outputs": [],
   "source": [
    "top_MeanDecreaseAccuracy <- importancia_pred[order(importancia_pred$MeanDecreaseAccuracy, decreasing = TRUE),][1:10,]$variable"
   ]
  },
  {
   "cell_type": "code",
   "execution_count": 105,
   "metadata": {},
   "outputs": [
    {
     "data": {
      "text/html": [
       "<ol class=list-inline>\n",
       "\t<li>'rs2104772'</li>\n",
       "\t<li>'rs5418'</li>\n",
       "\t<li>'rs7191721'</li>\n",
       "\t<li>'rs2070744'</li>\n",
       "\t<li>'rs6968554'</li>\n",
       "\t<li>'rs3768816'</li>\n",
       "\t<li>'rs1572312'</li>\n",
       "\t<li>'rs1800206'</li>\n",
       "\t<li>'rs2943641'</li>\n",
       "\t<li>'rs12613181'</li>\n",
       "</ol>\n"
      ],
      "text/latex": [
       "\\begin{enumerate*}\n",
       "\\item 'rs2104772'\n",
       "\\item 'rs5418'\n",
       "\\item 'rs7191721'\n",
       "\\item 'rs2070744'\n",
       "\\item 'rs6968554'\n",
       "\\item 'rs3768816'\n",
       "\\item 'rs1572312'\n",
       "\\item 'rs1800206'\n",
       "\\item 'rs2943641'\n",
       "\\item 'rs12613181'\n",
       "\\end{enumerate*}\n"
      ],
      "text/markdown": [
       "1. 'rs2104772'\n",
       "2. 'rs5418'\n",
       "3. 'rs7191721'\n",
       "4. 'rs2070744'\n",
       "5. 'rs6968554'\n",
       "6. 'rs3768816'\n",
       "7. 'rs1572312'\n",
       "8. 'rs1800206'\n",
       "9. 'rs2943641'\n",
       "10. 'rs12613181'\n",
       "\n",
       "\n"
      ],
      "text/plain": [
       " [1] \"rs2104772\"  \"rs5418\"     \"rs7191721\"  \"rs2070744\"  \"rs6968554\" \n",
       " [6] \"rs3768816\"  \"rs1572312\"  \"rs1800206\"  \"rs2943641\"  \"rs12613181\""
      ]
     },
     "metadata": {},
     "output_type": "display_data"
    }
   ],
   "source": [
    "top_MeanDecreaseAccuracy"
   ]
  },
  {
   "cell_type": "markdown",
   "metadata": {},
   "source": [
    "'rs2070744' 'rs10999516' 'rs13146355' 'rs2542729' 'rs198851' 'rs17685' 'rs11144134' 'rs1589241' 'rs182549' 'rs7454108' \n",
    "\n"
   ]
  },
  {
   "cell_type": "markdown",
   "metadata": {},
   "source": [
    "* Variables with a high MeanDecreaseGini"
   ]
  },
  {
   "cell_type": "code",
   "execution_count": 112,
   "metadata": {},
   "outputs": [
    {
     "data": {
      "text/html": [
       "<table>\n",
       "<thead><tr><th></th><th scope=col>variable</th><th scope=col>0</th><th scope=col>1</th><th scope=col>MeanDecreaseAccuracy</th><th scope=col>MeanDecreaseGini</th></tr></thead>\n",
       "<tbody>\n",
       "\t<tr><th scope=row>79</th><td>rs2104772 </td><td> 5.1198612</td><td>5.0759414 </td><td>6.9879008 </td><td>0.9478545 </td></tr>\n",
       "\t<tr><th scope=row>152</th><td>rs7191721 </td><td> 4.3257403</td><td>4.1189075 </td><td>5.1157307 </td><td>0.8894336 </td></tr>\n",
       "\t<tr><th scope=row>131</th><td>rs5418    </td><td> 5.0017854</td><td>4.6017887 </td><td>6.7600967 </td><td>0.8109001 </td></tr>\n",
       "\t<tr><th scope=row>38</th><td>rs1451462 </td><td> 1.8913968</td><td>1.6274102 </td><td>2.1512268 </td><td>0.5745322 </td></tr>\n",
       "\t<tr><th scope=row>40</th><td>rs1516797 </td><td> 0.4019288</td><td>0.9412837 </td><td>0.9827035 </td><td>0.5514410 </td></tr>\n",
       "\t<tr><th scope=row>148</th><td>rs6968554 </td><td> 1.8796622</td><td>3.5324806 </td><td>3.6370347 </td><td>0.5057815 </td></tr>\n",
       "\t<tr><th scope=row>32</th><td>rs13146355</td><td> 1.1754025</td><td>1.6682185 </td><td>2.0591693 </td><td>0.4708856 </td></tr>\n",
       "\t<tr><th scope=row>33</th><td>rs1330363 </td><td>-0.3591922</td><td>2.6755424 </td><td>1.7785466 </td><td>0.4071368 </td></tr>\n",
       "\t<tr><th scope=row>114</th><td>rs4072037 </td><td> 1.3287519</td><td>0.9519650 </td><td>1.6725772 </td><td>0.4000740 </td></tr>\n",
       "\t<tr><th scope=row>99</th><td>rs2943641 </td><td> 1.5515563</td><td>2.0023772 </td><td>2.6952263 </td><td>0.3954027 </td></tr>\n",
       "</tbody>\n",
       "</table>\n"
      ],
      "text/latex": [
       "\\begin{tabular}{r|lllll}\n",
       "  & variable & 0 & 1 & MeanDecreaseAccuracy & MeanDecreaseGini\\\\\n",
       "\\hline\n",
       "\t79 & rs2104772  &  5.1198612 & 5.0759414  & 6.9879008  & 0.9478545 \\\\\n",
       "\t152 & rs7191721  &  4.3257403 & 4.1189075  & 5.1157307  & 0.8894336 \\\\\n",
       "\t131 & rs5418     &  5.0017854 & 4.6017887  & 6.7600967  & 0.8109001 \\\\\n",
       "\t38 & rs1451462  &  1.8913968 & 1.6274102  & 2.1512268  & 0.5745322 \\\\\n",
       "\t40 & rs1516797  &  0.4019288 & 0.9412837  & 0.9827035  & 0.5514410 \\\\\n",
       "\t148 & rs6968554  &  1.8796622 & 3.5324806  & 3.6370347  & 0.5057815 \\\\\n",
       "\t32 & rs13146355 &  1.1754025 & 1.6682185  & 2.0591693  & 0.4708856 \\\\\n",
       "\t33 & rs1330363  & -0.3591922 & 2.6755424  & 1.7785466  & 0.4071368 \\\\\n",
       "\t114 & rs4072037  &  1.3287519 & 0.9519650  & 1.6725772  & 0.4000740 \\\\\n",
       "\t99 & rs2943641  &  1.5515563 & 2.0023772  & 2.6952263  & 0.3954027 \\\\\n",
       "\\end{tabular}\n"
      ],
      "text/markdown": [
       "\n",
       "| <!--/--> | variable | 0 | 1 | MeanDecreaseAccuracy | MeanDecreaseGini |\n",
       "|---|---|---|---|---|---|\n",
       "| 79 | rs2104772  |  5.1198612 | 5.0759414  | 6.9879008  | 0.9478545  |\n",
       "| 152 | rs7191721  |  4.3257403 | 4.1189075  | 5.1157307  | 0.8894336  |\n",
       "| 131 | rs5418     |  5.0017854 | 4.6017887  | 6.7600967  | 0.8109001  |\n",
       "| 38 | rs1451462  |  1.8913968 | 1.6274102  | 2.1512268  | 0.5745322  |\n",
       "| 40 | rs1516797  |  0.4019288 | 0.9412837  | 0.9827035  | 0.5514410  |\n",
       "| 148 | rs6968554  |  1.8796622 | 3.5324806  | 3.6370347  | 0.5057815  |\n",
       "| 32 | rs13146355 |  1.1754025 | 1.6682185  | 2.0591693  | 0.4708856  |\n",
       "| 33 | rs1330363  | -0.3591922 | 2.6755424  | 1.7785466  | 0.4071368  |\n",
       "| 114 | rs4072037  |  1.3287519 | 0.9519650  | 1.6725772  | 0.4000740  |\n",
       "| 99 | rs2943641  |  1.5515563 | 2.0023772  | 2.6952263  | 0.3954027  |\n",
       "\n"
      ],
      "text/plain": [
       "    variable   0          1         MeanDecreaseAccuracy MeanDecreaseGini\n",
       "79  rs2104772   5.1198612 5.0759414 6.9879008            0.9478545       \n",
       "152 rs7191721   4.3257403 4.1189075 5.1157307            0.8894336       \n",
       "131 rs5418      5.0017854 4.6017887 6.7600967            0.8109001       \n",
       "38  rs1451462   1.8913968 1.6274102 2.1512268            0.5745322       \n",
       "40  rs1516797   0.4019288 0.9412837 0.9827035            0.5514410       \n",
       "148 rs6968554   1.8796622 3.5324806 3.6370347            0.5057815       \n",
       "32  rs13146355  1.1754025 1.6682185 2.0591693            0.4708856       \n",
       "33  rs1330363  -0.3591922 2.6755424 1.7785466            0.4071368       \n",
       "114 rs4072037   1.3287519 0.9519650 1.6725772            0.4000740       \n",
       "99  rs2943641   1.5515563 2.0023772 2.6952263            0.3954027       "
      ]
     },
     "metadata": {},
     "output_type": "display_data"
    }
   ],
   "source": [
    "importancia_pred[order(importancia_pred$MeanDecreaseGini, decreasing = TRUE),][1:10,]"
   ]
  },
  {
   "cell_type": "code",
   "execution_count": 107,
   "metadata": {},
   "outputs": [],
   "source": [
    "top_MeanDecreaseGini <- importancia_pred[order(importancia_pred$MeanDecreaseGini, decreasing = TRUE),][1:10,]$variable"
   ]
  },
  {
   "cell_type": "code",
   "execution_count": 108,
   "metadata": {},
   "outputs": [
    {
     "data": {
      "text/html": [
       "<ol class=list-inline>\n",
       "\t<li>'rs2104772'</li>\n",
       "\t<li>'rs7191721'</li>\n",
       "\t<li>'rs5418'</li>\n",
       "\t<li>'rs1451462'</li>\n",
       "\t<li>'rs1516797'</li>\n",
       "\t<li>'rs6968554'</li>\n",
       "\t<li>'rs13146355'</li>\n",
       "\t<li>'rs1330363'</li>\n",
       "\t<li>'rs4072037'</li>\n",
       "\t<li>'rs2943641'</li>\n",
       "</ol>\n"
      ],
      "text/latex": [
       "\\begin{enumerate*}\n",
       "\\item 'rs2104772'\n",
       "\\item 'rs7191721'\n",
       "\\item 'rs5418'\n",
       "\\item 'rs1451462'\n",
       "\\item 'rs1516797'\n",
       "\\item 'rs6968554'\n",
       "\\item 'rs13146355'\n",
       "\\item 'rs1330363'\n",
       "\\item 'rs4072037'\n",
       "\\item 'rs2943641'\n",
       "\\end{enumerate*}\n"
      ],
      "text/markdown": [
       "1. 'rs2104772'\n",
       "2. 'rs7191721'\n",
       "3. 'rs5418'\n",
       "4. 'rs1451462'\n",
       "5. 'rs1516797'\n",
       "6. 'rs6968554'\n",
       "7. 'rs13146355'\n",
       "8. 'rs1330363'\n",
       "9. 'rs4072037'\n",
       "10. 'rs2943641'\n",
       "\n",
       "\n"
      ],
      "text/plain": [
       " [1] \"rs2104772\"  \"rs7191721\"  \"rs5418\"     \"rs1451462\"  \"rs1516797\" \n",
       " [6] \"rs6968554\"  \"rs13146355\" \"rs1330363\"  \"rs4072037\"  \"rs2943641\" "
      ]
     },
     "metadata": {},
     "output_type": "display_data"
    }
   ],
   "source": [
    "top_MeanDecreaseGini"
   ]
  },
  {
   "cell_type": "markdown",
   "metadata": {},
   "source": [
    "Common variables:"
   ]
  },
  {
   "cell_type": "code",
   "execution_count": 109,
   "metadata": {},
   "outputs": [
    {
     "data": {
      "text/html": [
       "<ol class=list-inline>\n",
       "\t<li>'rs2104772'</li>\n",
       "\t<li>'rs5418'</li>\n",
       "\t<li>'rs7191721'</li>\n",
       "\t<li>'rs6968554'</li>\n",
       "\t<li>'rs2943641'</li>\n",
       "</ol>\n"
      ],
      "text/latex": [
       "\\begin{enumerate*}\n",
       "\\item 'rs2104772'\n",
       "\\item 'rs5418'\n",
       "\\item 'rs7191721'\n",
       "\\item 'rs6968554'\n",
       "\\item 'rs2943641'\n",
       "\\end{enumerate*}\n"
      ],
      "text/markdown": [
       "1. 'rs2104772'\n",
       "2. 'rs5418'\n",
       "3. 'rs7191721'\n",
       "4. 'rs6968554'\n",
       "5. 'rs2943641'\n",
       "\n",
       "\n"
      ],
      "text/plain": [
       "[1] \"rs2104772\" \"rs5418\"    \"rs7191721\" \"rs6968554\" \"rs2943641\""
      ]
     },
     "metadata": {},
     "output_type": "display_data"
    }
   ],
   "source": [
    "top_snp <- c()\n",
    "for (i in top_MeanDecreaseAccuracy){\n",
    "    for (j in top_MeanDecreaseGini){\n",
    "        if (i == j){\n",
    "            top_snp <- c(top_snp, i)\n",
    "        }\n",
    "    }\n",
    "}\n",
    "top_snp"
   ]
  },
  {
   "cell_type": "markdown",
   "metadata": {},
   "source": [
    "Although the algorithm has a bad precision, it can give us an idea that these polymorphisms can be interesting in the prediction. "
   ]
  }
 ],
 "metadata": {
  "kernelspec": {
   "display_name": "R",
   "language": "R",
   "name": "ir"
  },
  "language_info": {
   "codemirror_mode": "r",
   "file_extension": ".r",
   "mimetype": "text/x-r-source",
   "name": "R",
   "pygments_lexer": "r",
   "version": "3.6.1"
  }
 },
 "nbformat": 4,
 "nbformat_minor": 4
}
