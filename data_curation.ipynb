{
 "cells": [
  {
   "cell_type": "markdown",
   "metadata": {},
   "source": [
    "# <p style=\"text-align: justify;\"><div class=\"alert alert-info\" role=\"alert\">Data curation</div></p>"
   ]
  },
  {
   "cell_type": "markdown",
   "metadata": {},
   "source": [
    "## `Ana González Guerra` \n",
    "\n",
    "### `Data science master's student` "
   ]
  },
  {
   "cell_type": "markdown",
   "metadata": {},
   "source": [
    "## Index<a class=\"anchor\" id=\"index\"></a>\n",
    "* [Loading data](#1)\n",
    "* [Filtering missing values](#2)\n",
    "    * [Physical predictors dataframe](#3)\n",
    "    * [Genetic predictors dataframe](#4)\n",
    "    * [Target variables dataframe](#5)\n",
    "* [Dividing data into more manageable data frames](#6)\n",
    "* [References](#ref)"
   ]
  },
  {
   "cell_type": "markdown",
   "metadata": {},
   "source": [
    "## Loading data <a class=\"anchor\" id =\"1\" ></a>"
   ]
  },
  {
   "cell_type": "markdown",
   "metadata": {},
   "source": [
    "* [Returning to the index of contents](#index)"
   ]
  },
  {
   "cell_type": "code",
   "execution_count": 1,
   "metadata": {},
   "outputs": [],
   "source": [
    "import pandas as pd\n",
    "import numpy as np"
   ]
  },
  {
   "cell_type": "markdown",
   "metadata": {},
   "source": [
    "We worked from two datasets which shared observations and were merged in order to have a higher number of observations."
   ]
  },
  {
   "cell_type": "markdown",
   "metadata": {},
   "source": [
    "### Loading old dataset"
   ]
  },
  {
   "cell_type": "code",
   "execution_count": 2,
   "metadata": {
    "scrolled": true
   },
   "outputs": [],
   "source": [
    "handle_old = pd.read_csv('DATOS_TFM_BRUTO.csv', delimiter = \",\")"
   ]
  },
  {
   "cell_type": "code",
   "execution_count": 3,
   "metadata": {
    "scrolled": true
   },
   "outputs": [
    {
     "data": {
      "text/html": [
       "<div>\n",
       "<style scoped>\n",
       "    .dataframe tbody tr th:only-of-type {\n",
       "        vertical-align: middle;\n",
       "    }\n",
       "\n",
       "    .dataframe tbody tr th {\n",
       "        vertical-align: top;\n",
       "    }\n",
       "\n",
       "    .dataframe thead th {\n",
       "        text-align: right;\n",
       "    }\n",
       "</style>\n",
       "<table border=\"1\" class=\"dataframe\">\n",
       "  <thead>\n",
       "    <tr style=\"text-align: right;\">\n",
       "      <th></th>\n",
       "      <th>CODIGO</th>\n",
       "      <th>W1Fc</th>\n",
       "      <th>W1Ox</th>\n",
       "      <th>W1Lac</th>\n",
       "      <th>W1tFc</th>\n",
       "      <th>W1tOx</th>\n",
       "      <th>W1tLac</th>\n",
       "      <th>W1tBorg</th>\n",
       "      <th>W1t5Fc</th>\n",
       "      <th>W1t5Ox</th>\n",
       "      <th>...</th>\n",
       "      <th>rs8111989</th>\n",
       "      <th>rs8192678</th>\n",
       "      <th>rs824205</th>\n",
       "      <th>rs833070</th>\n",
       "      <th>rs884736</th>\n",
       "      <th>rs921943</th>\n",
       "      <th>rs9469199</th>\n",
       "      <th>rs970547</th>\n",
       "      <th>rs9902453</th>\n",
       "      <th>rs9939609</th>\n",
       "    </tr>\n",
       "  </thead>\n",
       "  <tbody>\n",
       "    <tr>\n",
       "      <th>0</th>\n",
       "      <td>GDCF007</td>\n",
       "      <td>109.0</td>\n",
       "      <td>92.0</td>\n",
       "      <td>1.9</td>\n",
       "      <td>133.0</td>\n",
       "      <td>95.0</td>\n",
       "      <td>2.3</td>\n",
       "      <td>8.0</td>\n",
       "      <td>59.0</td>\n",
       "      <td>90.0</td>\n",
       "      <td>...</td>\n",
       "      <td>C:T</td>\n",
       "      <td>A:G</td>\n",
       "      <td>G:G</td>\n",
       "      <td>A:G</td>\n",
       "      <td>C:T</td>\n",
       "      <td>A:G</td>\n",
       "      <td>A:G</td>\n",
       "      <td>A:A</td>\n",
       "      <td>A:G</td>\n",
       "      <td>A:A</td>\n",
       "    </tr>\n",
       "    <tr>\n",
       "      <th>1</th>\n",
       "      <td>GDCF014</td>\n",
       "      <td>93.0</td>\n",
       "      <td>88.0</td>\n",
       "      <td>2.3</td>\n",
       "      <td>161.0</td>\n",
       "      <td>85.0</td>\n",
       "      <td>3.7</td>\n",
       "      <td>10.0</td>\n",
       "      <td>115.0</td>\n",
       "      <td>85.0</td>\n",
       "      <td>...</td>\n",
       "      <td>T:T</td>\n",
       "      <td>A:G</td>\n",
       "      <td>A:G</td>\n",
       "      <td>A:G</td>\n",
       "      <td>C:C</td>\n",
       "      <td>G:G</td>\n",
       "      <td>G:G</td>\n",
       "      <td>A:G</td>\n",
       "      <td>G:G</td>\n",
       "      <td>A:A</td>\n",
       "    </tr>\n",
       "    <tr>\n",
       "      <th>2</th>\n",
       "      <td>KDCl01020</td>\n",
       "      <td>43.0</td>\n",
       "      <td>81.0</td>\n",
       "      <td>1.1</td>\n",
       "      <td>65.0</td>\n",
       "      <td>89.0</td>\n",
       "      <td>4.3</td>\n",
       "      <td>10.0</td>\n",
       "      <td>97.0</td>\n",
       "      <td>80.0</td>\n",
       "      <td>...</td>\n",
       "      <td>T:T</td>\n",
       "      <td>A:G</td>\n",
       "      <td>G:G</td>\n",
       "      <td>G:G</td>\n",
       "      <td>C:C</td>\n",
       "      <td>G:G</td>\n",
       "      <td>A:G</td>\n",
       "      <td>A:A</td>\n",
       "      <td>A:G</td>\n",
       "      <td>A:T</td>\n",
       "    </tr>\n",
       "    <tr>\n",
       "      <th>3</th>\n",
       "      <td>KDCl01035</td>\n",
       "      <td>116.0</td>\n",
       "      <td>92.0</td>\n",
       "      <td>2.0</td>\n",
       "      <td>92.0</td>\n",
       "      <td>82.0</td>\n",
       "      <td>3.3</td>\n",
       "      <td>8.0</td>\n",
       "      <td>139.0</td>\n",
       "      <td>98.0</td>\n",
       "      <td>...</td>\n",
       "      <td>C:T</td>\n",
       "      <td>G:G</td>\n",
       "      <td>A:G</td>\n",
       "      <td>G:G</td>\n",
       "      <td>C:T</td>\n",
       "      <td>A:G</td>\n",
       "      <td>A:G</td>\n",
       "      <td>A:G</td>\n",
       "      <td>G:G</td>\n",
       "      <td>A:A</td>\n",
       "    </tr>\n",
       "    <tr>\n",
       "      <th>4</th>\n",
       "      <td>GDCF004</td>\n",
       "      <td>84.0</td>\n",
       "      <td>90.0</td>\n",
       "      <td>3.4</td>\n",
       "      <td>151.0</td>\n",
       "      <td>82.0</td>\n",
       "      <td>4.3</td>\n",
       "      <td>8.0</td>\n",
       "      <td>74.0</td>\n",
       "      <td>97.0</td>\n",
       "      <td>...</td>\n",
       "      <td>C:T</td>\n",
       "      <td>A:G</td>\n",
       "      <td>A:G</td>\n",
       "      <td>A:G</td>\n",
       "      <td>C:T</td>\n",
       "      <td>A:G</td>\n",
       "      <td>G:G</td>\n",
       "      <td>A:G</td>\n",
       "      <td>A:G</td>\n",
       "      <td>T:T</td>\n",
       "    </tr>\n",
       "  </tbody>\n",
       "</table>\n",
       "<p>5 rows × 231 columns</p>\n",
       "</div>"
      ],
      "text/plain": [
       "      CODIGO   W1Fc  W1Ox  W1Lac  W1tFc  W1tOx  W1tLac  W1tBorg  W1t5Fc  \\\n",
       "0    GDCF007  109.0  92.0    1.9  133.0   95.0     2.3      8.0    59.0   \n",
       "1    GDCF014   93.0  88.0    2.3  161.0   85.0     3.7     10.0   115.0   \n",
       "2  KDCl01020   43.0  81.0    1.1   65.0   89.0     4.3     10.0    97.0   \n",
       "3  KDCl01035  116.0  92.0    2.0   92.0   82.0     3.3      8.0   139.0   \n",
       "4    GDCF004   84.0  90.0    3.4  151.0   82.0     4.3      8.0    74.0   \n",
       "\n",
       "   W1t5Ox  ...  rs8111989  rs8192678  rs824205  rs833070  rs884736  rs921943  \\\n",
       "0    90.0  ...        C:T        A:G       G:G       A:G       C:T       A:G   \n",
       "1    85.0  ...        T:T        A:G       A:G       A:G       C:C       G:G   \n",
       "2    80.0  ...        T:T        A:G       G:G       G:G       C:C       G:G   \n",
       "3    98.0  ...        C:T        G:G       A:G       G:G       C:T       A:G   \n",
       "4    97.0  ...        C:T        A:G       A:G       A:G       C:T       A:G   \n",
       "\n",
       "   rs9469199  rs970547  rs9902453  rs9939609  \n",
       "0        A:G       A:A        A:G        A:A  \n",
       "1        G:G       A:G        G:G        A:A  \n",
       "2        A:G       A:A        A:G        A:T  \n",
       "3        A:G       A:G        G:G        A:A  \n",
       "4        G:G       A:G        A:G        T:T  \n",
       "\n",
       "[5 rows x 231 columns]"
      ]
     },
     "execution_count": 3,
     "metadata": {},
     "output_type": "execute_result"
    }
   ],
   "source": [
    "handle_old.head()"
   ]
  },
  {
   "cell_type": "markdown",
   "metadata": {},
   "source": [
    "### Loading new dataset"
   ]
  },
  {
   "cell_type": "code",
   "execution_count": 4,
   "metadata": {
    "scrolled": true
   },
   "outputs": [],
   "source": [
    "handle_new = pd.read_csv('nuevos_datos_27_03_20.csv',delimiter=';',engine='python')\n",
    "#engine = 'python' gives the possibility to work with csv files with a strange codification that normally python\n",
    "#does not how to read\n"
   ]
  },
  {
   "cell_type": "code",
   "execution_count": 5,
   "metadata": {},
   "outputs": [
    {
     "data": {
      "text/html": [
       "<div>\n",
       "<style scoped>\n",
       "    .dataframe tbody tr th:only-of-type {\n",
       "        vertical-align: middle;\n",
       "    }\n",
       "\n",
       "    .dataframe tbody tr th {\n",
       "        vertical-align: top;\n",
       "    }\n",
       "\n",
       "    .dataframe thead th {\n",
       "        text-align: right;\n",
       "    }\n",
       "</style>\n",
       "<table border=\"1\" class=\"dataframe\">\n",
       "  <thead>\n",
       "    <tr style=\"text-align: right;\">\n",
       "      <th></th>\n",
       "      <th>código</th>\n",
       "      <th>CODIGO</th>\n",
       "      <th>W1Fc</th>\n",
       "      <th>W1Ox</th>\n",
       "      <th>W1Lac</th>\n",
       "      <th>W1tFc</th>\n",
       "      <th>W1tOx</th>\n",
       "      <th>W1tLac</th>\n",
       "      <th>W1tBorg</th>\n",
       "      <th>W1t5Fc</th>\n",
       "      <th>...</th>\n",
       "      <th>rs8111989</th>\n",
       "      <th>rs8192678</th>\n",
       "      <th>rs824205</th>\n",
       "      <th>rs833070</th>\n",
       "      <th>rs884736</th>\n",
       "      <th>rs921943</th>\n",
       "      <th>rs9469199</th>\n",
       "      <th>rs970547</th>\n",
       "      <th>rs9902453</th>\n",
       "      <th>rs9939609</th>\n",
       "    </tr>\n",
       "  </thead>\n",
       "  <tbody>\n",
       "    <tr>\n",
       "      <th>0</th>\n",
       "      <td>SGCF6</td>\n",
       "      <td>GDCF007</td>\n",
       "      <td>109.0</td>\n",
       "      <td>92.0</td>\n",
       "      <td>1.9</td>\n",
       "      <td>133.0</td>\n",
       "      <td>95.0</td>\n",
       "      <td>2.3</td>\n",
       "      <td>8.0</td>\n",
       "      <td>59.0</td>\n",
       "      <td>...</td>\n",
       "      <td>C:T</td>\n",
       "      <td>A:G</td>\n",
       "      <td>G:G</td>\n",
       "      <td>A:G</td>\n",
       "      <td>C:T</td>\n",
       "      <td>A:G</td>\n",
       "      <td>A:G</td>\n",
       "      <td>A:A</td>\n",
       "      <td>A:G</td>\n",
       "      <td>A:A</td>\n",
       "    </tr>\n",
       "    <tr>\n",
       "      <th>1</th>\n",
       "      <td>SGCF13</td>\n",
       "      <td>GDCF014</td>\n",
       "      <td>93.0</td>\n",
       "      <td>88.0</td>\n",
       "      <td>2.3</td>\n",
       "      <td>161.0</td>\n",
       "      <td>85.0</td>\n",
       "      <td>3.7</td>\n",
       "      <td>10.0</td>\n",
       "      <td>115.0</td>\n",
       "      <td>...</td>\n",
       "      <td>T:T</td>\n",
       "      <td>A:G</td>\n",
       "      <td>A:G</td>\n",
       "      <td>A:G</td>\n",
       "      <td>C:C</td>\n",
       "      <td>G:G</td>\n",
       "      <td>G:G</td>\n",
       "      <td>A:G</td>\n",
       "      <td>G:G</td>\n",
       "      <td>A:A</td>\n",
       "    </tr>\n",
       "    <tr>\n",
       "      <th>2</th>\n",
       "      <td>KDCI01014</td>\n",
       "      <td>KDCl01014</td>\n",
       "      <td>43.0</td>\n",
       "      <td>81.0</td>\n",
       "      <td>1.1</td>\n",
       "      <td>65.0</td>\n",
       "      <td>89.0</td>\n",
       "      <td>4.3</td>\n",
       "      <td>10.0</td>\n",
       "      <td>97.0</td>\n",
       "      <td>...</td>\n",
       "      <td>C:C</td>\n",
       "      <td>A:G</td>\n",
       "      <td>A:G</td>\n",
       "      <td>A:A</td>\n",
       "      <td>C:C</td>\n",
       "      <td>G:G</td>\n",
       "      <td>G:G</td>\n",
       "      <td>A:A</td>\n",
       "      <td>A:A</td>\n",
       "      <td>T:T</td>\n",
       "    </tr>\n",
       "    <tr>\n",
       "      <th>3</th>\n",
       "      <td>KDCI01037</td>\n",
       "      <td>KDCl01037</td>\n",
       "      <td>116.0</td>\n",
       "      <td>92.0</td>\n",
       "      <td>2.0</td>\n",
       "      <td>92.0</td>\n",
       "      <td>82.0</td>\n",
       "      <td>3.3</td>\n",
       "      <td>8.0</td>\n",
       "      <td>139.0</td>\n",
       "      <td>...</td>\n",
       "      <td>C:T</td>\n",
       "      <td>A:A</td>\n",
       "      <td>G:G</td>\n",
       "      <td>A:G</td>\n",
       "      <td>C:T</td>\n",
       "      <td>G:G</td>\n",
       "      <td>G:G</td>\n",
       "      <td>A:G</td>\n",
       "      <td>A:G</td>\n",
       "      <td>T:T</td>\n",
       "    </tr>\n",
       "    <tr>\n",
       "      <th>4</th>\n",
       "      <td>SGCF4</td>\n",
       "      <td>GDCF004</td>\n",
       "      <td>84.0</td>\n",
       "      <td>90.0</td>\n",
       "      <td>3.4</td>\n",
       "      <td>151.0</td>\n",
       "      <td>82.0</td>\n",
       "      <td>4.3</td>\n",
       "      <td>8.0</td>\n",
       "      <td>74.0</td>\n",
       "      <td>...</td>\n",
       "      <td>C:T</td>\n",
       "      <td>A:G</td>\n",
       "      <td>A:G</td>\n",
       "      <td>A:G</td>\n",
       "      <td>C:T</td>\n",
       "      <td>A:G</td>\n",
       "      <td>G:G</td>\n",
       "      <td>A:G</td>\n",
       "      <td>A:G</td>\n",
       "      <td>T:T</td>\n",
       "    </tr>\n",
       "  </tbody>\n",
       "</table>\n",
       "<p>5 rows × 276 columns</p>\n",
       "</div>"
      ],
      "text/plain": [
       "      código     CODIGO   W1Fc  W1Ox  W1Lac  W1tFc  W1tOx  W1tLac  W1tBorg  \\\n",
       "0      SGCF6    GDCF007  109.0  92.0    1.9  133.0   95.0     2.3      8.0   \n",
       "1     SGCF13    GDCF014   93.0  88.0    2.3  161.0   85.0     3.7     10.0   \n",
       "2  KDCI01014  KDCl01014   43.0  81.0    1.1   65.0   89.0     4.3     10.0   \n",
       "3  KDCI01037  KDCl01037  116.0  92.0    2.0   92.0   82.0     3.3      8.0   \n",
       "4      SGCF4    GDCF004   84.0  90.0    3.4  151.0   82.0     4.3      8.0   \n",
       "\n",
       "   W1t5Fc  ...  rs8111989  rs8192678  rs824205  rs833070  rs884736  rs921943  \\\n",
       "0    59.0  ...        C:T        A:G       G:G       A:G       C:T       A:G   \n",
       "1   115.0  ...        T:T        A:G       A:G       A:G       C:C       G:G   \n",
       "2    97.0  ...        C:C        A:G       A:G       A:A       C:C       G:G   \n",
       "3   139.0  ...        C:T        A:A       G:G       A:G       C:T       G:G   \n",
       "4    74.0  ...        C:T        A:G       A:G       A:G       C:T       A:G   \n",
       "\n",
       "   rs9469199  rs970547  rs9902453  rs9939609  \n",
       "0        A:G       A:A        A:G        A:A  \n",
       "1        G:G       A:G        G:G        A:A  \n",
       "2        G:G       A:A        A:A        T:T  \n",
       "3        G:G       A:G        A:G        T:T  \n",
       "4        G:G       A:G        A:G        T:T  \n",
       "\n",
       "[5 rows x 276 columns]"
      ]
     },
     "execution_count": 5,
     "metadata": {},
     "output_type": "execute_result"
    }
   ],
   "source": [
    "handle_new.head()"
   ]
  },
  {
   "cell_type": "markdown",
   "metadata": {},
   "source": [
    "For joining both files we need a commom key, for the particular case it will be 'CODIGO', thus the column 'código' will be deleted with the aim of avoiding confusions. "
   ]
  },
  {
   "cell_type": "code",
   "execution_count": 6,
   "metadata": {
    "scrolled": true
   },
   "outputs": [],
   "source": [
    "handle_new = handle_new.drop(columns = ['código'])\n"
   ]
  },
  {
   "cell_type": "markdown",
   "metadata": {},
   "source": [
    "The new dataset contains a column called 'numero' that it was used for make a count of the individuals as predictors were being measured. It can be eliminated, it does not apport meaning to the analysis."
   ]
  },
  {
   "cell_type": "code",
   "execution_count": 7,
   "metadata": {},
   "outputs": [],
   "source": [
    "handle_new = handle_new.drop(columns = ['numero'])"
   ]
  },
  {
   "cell_type": "markdown",
   "metadata": {},
   "source": [
    "Taking into account that 'PerCad' predictor (hip circumference) , it is a specific predictor for women individuals and the number of women in the sample it is 39, we decided to delete this column and the 'Sexo' predictor (sex of the individual) due to the impossibility of make sub-samples of the original data for man and women with such a low number of observations."
   ]
  },
  {
   "cell_type": "code",
   "execution_count": 8,
   "metadata": {},
   "outputs": [
    {
     "data": {
      "text/plain": [
       "(39, 274)"
      ]
     },
     "execution_count": 8,
     "metadata": {},
     "output_type": "execute_result"
    }
   ],
   "source": [
    "handle_new[handle_new['Sexo'] == 1].shape #  is the coding for a woman individual"
   ]
  },
  {
   "cell_type": "code",
   "execution_count": 9,
   "metadata": {},
   "outputs": [],
   "source": [
    "handle_new = handle_new.drop(columns = ['PerCad','Sexo'])"
   ]
  },
  {
   "cell_type": "code",
   "execution_count": 10,
   "metadata": {},
   "outputs": [],
   "source": [
    "handle_old = handle_old.drop(columns = ['Sexo'])"
   ]
  },
  {
   "cell_type": "markdown",
   "metadata": {},
   "source": [
    "Now, we check if the rows at the end of the datasets are completely occupied with null values:"
   ]
  },
  {
   "cell_type": "code",
   "execution_count": 11,
   "metadata": {},
   "outputs": [
    {
     "data": {
      "text/html": [
       "<div>\n",
       "<style scoped>\n",
       "    .dataframe tbody tr th:only-of-type {\n",
       "        vertical-align: middle;\n",
       "    }\n",
       "\n",
       "    .dataframe tbody tr th {\n",
       "        vertical-align: top;\n",
       "    }\n",
       "\n",
       "    .dataframe thead th {\n",
       "        text-align: right;\n",
       "    }\n",
       "</style>\n",
       "<table border=\"1\" class=\"dataframe\">\n",
       "  <thead>\n",
       "    <tr style=\"text-align: right;\">\n",
       "      <th></th>\n",
       "      <th>CODIGO</th>\n",
       "      <th>W1Fc</th>\n",
       "      <th>W1Ox</th>\n",
       "      <th>W1Lac</th>\n",
       "      <th>W1tFc</th>\n",
       "      <th>W1tOx</th>\n",
       "      <th>W1tLac</th>\n",
       "      <th>W1tBorg</th>\n",
       "      <th>W1t5Fc</th>\n",
       "      <th>W1t5Ox</th>\n",
       "      <th>...</th>\n",
       "      <th>rs8111989</th>\n",
       "      <th>rs8192678</th>\n",
       "      <th>rs824205</th>\n",
       "      <th>rs833070</th>\n",
       "      <th>rs884736</th>\n",
       "      <th>rs921943</th>\n",
       "      <th>rs9469199</th>\n",
       "      <th>rs970547</th>\n",
       "      <th>rs9902453</th>\n",
       "      <th>rs9939609</th>\n",
       "    </tr>\n",
       "  </thead>\n",
       "  <tbody>\n",
       "    <tr>\n",
       "      <th>128</th>\n",
       "      <td>GDCF042</td>\n",
       "      <td>89.0</td>\n",
       "      <td>82.0</td>\n",
       "      <td>1.7</td>\n",
       "      <td>134.0</td>\n",
       "      <td>70.0</td>\n",
       "      <td>3.8</td>\n",
       "      <td>10.0</td>\n",
       "      <td>68.0</td>\n",
       "      <td>97.0</td>\n",
       "      <td>...</td>\n",
       "      <td>T:T</td>\n",
       "      <td>A:G</td>\n",
       "      <td>G:G</td>\n",
       "      <td>G:G</td>\n",
       "      <td>C:C</td>\n",
       "      <td>G:G</td>\n",
       "      <td>A:G</td>\n",
       "      <td>G:G</td>\n",
       "      <td>A:A</td>\n",
       "      <td>A:T</td>\n",
       "    </tr>\n",
       "    <tr>\n",
       "      <th>129</th>\n",
       "      <td>GDCF001</td>\n",
       "      <td>102.0</td>\n",
       "      <td>99.0</td>\n",
       "      <td>3.4</td>\n",
       "      <td>175.0</td>\n",
       "      <td>91.0</td>\n",
       "      <td>3.9</td>\n",
       "      <td>8.0</td>\n",
       "      <td>132.0</td>\n",
       "      <td>97.0</td>\n",
       "      <td>...</td>\n",
       "      <td>T:T</td>\n",
       "      <td>G:G</td>\n",
       "      <td>G:G</td>\n",
       "      <td>A:G</td>\n",
       "      <td>C:T</td>\n",
       "      <td>G:G</td>\n",
       "      <td>G:G</td>\n",
       "      <td>A:G</td>\n",
       "      <td>A:G</td>\n",
       "      <td>A:T</td>\n",
       "    </tr>\n",
       "    <tr>\n",
       "      <th>130</th>\n",
       "      <td>NaN</td>\n",
       "      <td>NaN</td>\n",
       "      <td>NaN</td>\n",
       "      <td>NaN</td>\n",
       "      <td>NaN</td>\n",
       "      <td>NaN</td>\n",
       "      <td>NaN</td>\n",
       "      <td>NaN</td>\n",
       "      <td>NaN</td>\n",
       "      <td>NaN</td>\n",
       "      <td>...</td>\n",
       "      <td>NaN</td>\n",
       "      <td>NaN</td>\n",
       "      <td>NaN</td>\n",
       "      <td>NaN</td>\n",
       "      <td>NaN</td>\n",
       "      <td>NaN</td>\n",
       "      <td>NaN</td>\n",
       "      <td>NaN</td>\n",
       "      <td>NaN</td>\n",
       "      <td>NaN</td>\n",
       "    </tr>\n",
       "    <tr>\n",
       "      <th>131</th>\n",
       "      <td>NaN</td>\n",
       "      <td>NaN</td>\n",
       "      <td>NaN</td>\n",
       "      <td>NaN</td>\n",
       "      <td>NaN</td>\n",
       "      <td>NaN</td>\n",
       "      <td>NaN</td>\n",
       "      <td>NaN</td>\n",
       "      <td>NaN</td>\n",
       "      <td>NaN</td>\n",
       "      <td>...</td>\n",
       "      <td>NaN</td>\n",
       "      <td>NaN</td>\n",
       "      <td>NaN</td>\n",
       "      <td>NaN</td>\n",
       "      <td>NaN</td>\n",
       "      <td>NaN</td>\n",
       "      <td>NaN</td>\n",
       "      <td>NaN</td>\n",
       "      <td>NaN</td>\n",
       "      <td>NaN</td>\n",
       "    </tr>\n",
       "    <tr>\n",
       "      <th>132</th>\n",
       "      <td>NaN</td>\n",
       "      <td>NaN</td>\n",
       "      <td>NaN</td>\n",
       "      <td>NaN</td>\n",
       "      <td>NaN</td>\n",
       "      <td>NaN</td>\n",
       "      <td>NaN</td>\n",
       "      <td>NaN</td>\n",
       "      <td>NaN</td>\n",
       "      <td>NaN</td>\n",
       "      <td>...</td>\n",
       "      <td>NaN</td>\n",
       "      <td>NaN</td>\n",
       "      <td>NaN</td>\n",
       "      <td>NaN</td>\n",
       "      <td>NaN</td>\n",
       "      <td>NaN</td>\n",
       "      <td>NaN</td>\n",
       "      <td>NaN</td>\n",
       "      <td>NaN</td>\n",
       "      <td>NaN</td>\n",
       "    </tr>\n",
       "  </tbody>\n",
       "</table>\n",
       "<p>5 rows × 230 columns</p>\n",
       "</div>"
      ],
      "text/plain": [
       "      CODIGO   W1Fc  W1Ox  W1Lac  W1tFc  W1tOx  W1tLac  W1tBorg  W1t5Fc  \\\n",
       "128  GDCF042   89.0  82.0    1.7  134.0   70.0     3.8     10.0    68.0   \n",
       "129  GDCF001  102.0  99.0    3.4  175.0   91.0     3.9      8.0   132.0   \n",
       "130      NaN    NaN   NaN    NaN    NaN    NaN     NaN      NaN     NaN   \n",
       "131      NaN    NaN   NaN    NaN    NaN    NaN     NaN      NaN     NaN   \n",
       "132      NaN    NaN   NaN    NaN    NaN    NaN     NaN      NaN     NaN   \n",
       "\n",
       "     W1t5Ox  ...  rs8111989  rs8192678  rs824205  rs833070  rs884736  \\\n",
       "128    97.0  ...        T:T        A:G       G:G       G:G       C:C   \n",
       "129    97.0  ...        T:T        G:G       G:G       A:G       C:T   \n",
       "130     NaN  ...        NaN        NaN       NaN       NaN       NaN   \n",
       "131     NaN  ...        NaN        NaN       NaN       NaN       NaN   \n",
       "132     NaN  ...        NaN        NaN       NaN       NaN       NaN   \n",
       "\n",
       "     rs921943  rs9469199  rs970547  rs9902453  rs9939609  \n",
       "128       G:G        A:G       G:G        A:A        A:T  \n",
       "129       G:G        G:G       A:G        A:G        A:T  \n",
       "130       NaN        NaN       NaN        NaN        NaN  \n",
       "131       NaN        NaN       NaN        NaN        NaN  \n",
       "132       NaN        NaN       NaN        NaN        NaN  \n",
       "\n",
       "[5 rows x 230 columns]"
      ]
     },
     "execution_count": 11,
     "metadata": {},
     "output_type": "execute_result"
    }
   ],
   "source": [
    "handle_old.tail()"
   ]
  },
  {
   "cell_type": "code",
   "execution_count": 12,
   "metadata": {},
   "outputs": [
    {
     "data": {
      "text/html": [
       "<div>\n",
       "<style scoped>\n",
       "    .dataframe tbody tr th:only-of-type {\n",
       "        vertical-align: middle;\n",
       "    }\n",
       "\n",
       "    .dataframe tbody tr th {\n",
       "        vertical-align: top;\n",
       "    }\n",
       "\n",
       "    .dataframe thead th {\n",
       "        text-align: right;\n",
       "    }\n",
       "</style>\n",
       "<table border=\"1\" class=\"dataframe\">\n",
       "  <thead>\n",
       "    <tr style=\"text-align: right;\">\n",
       "      <th></th>\n",
       "      <th>CODIGO</th>\n",
       "      <th>W1Fc</th>\n",
       "      <th>W1Ox</th>\n",
       "      <th>W1Lac</th>\n",
       "      <th>W1tFc</th>\n",
       "      <th>W1tOx</th>\n",
       "      <th>W1tLac</th>\n",
       "      <th>W1tBorg</th>\n",
       "      <th>W1t5Fc</th>\n",
       "      <th>W1t5Ox</th>\n",
       "      <th>...</th>\n",
       "      <th>rs8111989</th>\n",
       "      <th>rs8192678</th>\n",
       "      <th>rs824205</th>\n",
       "      <th>rs833070</th>\n",
       "      <th>rs884736</th>\n",
       "      <th>rs921943</th>\n",
       "      <th>rs9469199</th>\n",
       "      <th>rs970547</th>\n",
       "      <th>rs9902453</th>\n",
       "      <th>rs9939609</th>\n",
       "    </tr>\n",
       "  </thead>\n",
       "  <tbody>\n",
       "    <tr>\n",
       "      <th>127</th>\n",
       "      <td>GDCF042</td>\n",
       "      <td>89.0</td>\n",
       "      <td>82.0</td>\n",
       "      <td>1.7</td>\n",
       "      <td>134.0</td>\n",
       "      <td>70.0</td>\n",
       "      <td>3.8</td>\n",
       "      <td>10.0</td>\n",
       "      <td>68.0</td>\n",
       "      <td>97.0</td>\n",
       "      <td>...</td>\n",
       "      <td>T:T</td>\n",
       "      <td>A:G</td>\n",
       "      <td>G:G</td>\n",
       "      <td>G:G</td>\n",
       "      <td>C:C</td>\n",
       "      <td>G:G</td>\n",
       "      <td>A:G</td>\n",
       "      <td>G:G</td>\n",
       "      <td>A:A</td>\n",
       "      <td>A:T</td>\n",
       "    </tr>\n",
       "    <tr>\n",
       "      <th>128</th>\n",
       "      <td>GDCF001</td>\n",
       "      <td>102.0</td>\n",
       "      <td>99.0</td>\n",
       "      <td>3.4</td>\n",
       "      <td>175.0</td>\n",
       "      <td>91.0</td>\n",
       "      <td>3.9</td>\n",
       "      <td>8.0</td>\n",
       "      <td>132.0</td>\n",
       "      <td>97.0</td>\n",
       "      <td>...</td>\n",
       "      <td>T:T</td>\n",
       "      <td>G:G</td>\n",
       "      <td>G:G</td>\n",
       "      <td>A:G</td>\n",
       "      <td>C:T</td>\n",
       "      <td>G:G</td>\n",
       "      <td>G:G</td>\n",
       "      <td>A:G</td>\n",
       "      <td>A:G</td>\n",
       "      <td>A:T</td>\n",
       "    </tr>\n",
       "    <tr>\n",
       "      <th>129</th>\n",
       "      <td>KDCl01036</td>\n",
       "      <td>NaN</td>\n",
       "      <td>NaN</td>\n",
       "      <td>NaN</td>\n",
       "      <td>NaN</td>\n",
       "      <td>NaN</td>\n",
       "      <td>NaN</td>\n",
       "      <td>NaN</td>\n",
       "      <td>NaN</td>\n",
       "      <td>NaN</td>\n",
       "      <td>...</td>\n",
       "      <td>T:T</td>\n",
       "      <td>G:G</td>\n",
       "      <td>G:G</td>\n",
       "      <td>G:G</td>\n",
       "      <td>C:C</td>\n",
       "      <td>A:G</td>\n",
       "      <td>G:G</td>\n",
       "      <td>A:G</td>\n",
       "      <td>A:G</td>\n",
       "      <td>A:T</td>\n",
       "    </tr>\n",
       "    <tr>\n",
       "      <th>130</th>\n",
       "      <td>NaN</td>\n",
       "      <td>NaN</td>\n",
       "      <td>NaN</td>\n",
       "      <td>NaN</td>\n",
       "      <td>NaN</td>\n",
       "      <td>NaN</td>\n",
       "      <td>NaN</td>\n",
       "      <td>NaN</td>\n",
       "      <td>NaN</td>\n",
       "      <td>NaN</td>\n",
       "      <td>...</td>\n",
       "      <td>NaN</td>\n",
       "      <td>NaN</td>\n",
       "      <td>NaN</td>\n",
       "      <td>NaN</td>\n",
       "      <td>NaN</td>\n",
       "      <td>NaN</td>\n",
       "      <td>NaN</td>\n",
       "      <td>NaN</td>\n",
       "      <td>NaN</td>\n",
       "      <td>NaN</td>\n",
       "    </tr>\n",
       "    <tr>\n",
       "      <th>131</th>\n",
       "      <td>NaN</td>\n",
       "      <td>NaN</td>\n",
       "      <td>NaN</td>\n",
       "      <td>NaN</td>\n",
       "      <td>NaN</td>\n",
       "      <td>NaN</td>\n",
       "      <td>NaN</td>\n",
       "      <td>NaN</td>\n",
       "      <td>NaN</td>\n",
       "      <td>NaN</td>\n",
       "      <td>...</td>\n",
       "      <td>NaN</td>\n",
       "      <td>NaN</td>\n",
       "      <td>NaN</td>\n",
       "      <td>NaN</td>\n",
       "      <td>NaN</td>\n",
       "      <td>NaN</td>\n",
       "      <td>NaN</td>\n",
       "      <td>NaN</td>\n",
       "      <td>NaN</td>\n",
       "      <td>NaN</td>\n",
       "    </tr>\n",
       "  </tbody>\n",
       "</table>\n",
       "<p>5 rows × 272 columns</p>\n",
       "</div>"
      ],
      "text/plain": [
       "        CODIGO   W1Fc  W1Ox  W1Lac  W1tFc  W1tOx  W1tLac  W1tBorg  W1t5Fc  \\\n",
       "127    GDCF042   89.0  82.0    1.7  134.0   70.0     3.8     10.0    68.0   \n",
       "128    GDCF001  102.0  99.0    3.4  175.0   91.0     3.9      8.0   132.0   \n",
       "129  KDCl01036    NaN   NaN    NaN    NaN    NaN     NaN      NaN     NaN   \n",
       "130        NaN    NaN   NaN    NaN    NaN    NaN     NaN      NaN     NaN   \n",
       "131        NaN    NaN   NaN    NaN    NaN    NaN     NaN      NaN     NaN   \n",
       "\n",
       "     W1t5Ox  ...  rs8111989  rs8192678  rs824205  rs833070  rs884736  \\\n",
       "127    97.0  ...        T:T        A:G       G:G       G:G       C:C   \n",
       "128    97.0  ...        T:T        G:G       G:G       A:G       C:T   \n",
       "129     NaN  ...        T:T        G:G       G:G       G:G       C:C   \n",
       "130     NaN  ...        NaN        NaN       NaN       NaN       NaN   \n",
       "131     NaN  ...        NaN        NaN       NaN       NaN       NaN   \n",
       "\n",
       "     rs921943  rs9469199  rs970547  rs9902453  rs9939609  \n",
       "127       G:G        A:G       G:G        A:A        A:T  \n",
       "128       G:G        G:G       A:G        A:G        A:T  \n",
       "129       A:G        G:G       A:G        A:G        A:T  \n",
       "130       NaN        NaN       NaN        NaN        NaN  \n",
       "131       NaN        NaN       NaN        NaN        NaN  \n",
       "\n",
       "[5 rows x 272 columns]"
      ]
     },
     "execution_count": 12,
     "metadata": {},
     "output_type": "execute_result"
    }
   ],
   "source": [
    "handle_new.tail()"
   ]
  },
  {
   "cell_type": "markdown",
   "metadata": {},
   "source": [
    "Besides of rows with zero values along their length we have a row without values for physical predictors and only values for genetic predictors (row 129). It seems reasonable to delete this row plus the last three rows of both datasets (filled with null values)."
   ]
  },
  {
   "cell_type": "code",
   "execution_count": 13,
   "metadata": {},
   "outputs": [],
   "source": [
    "handle_old = handle_old.iloc[:130,:]"
   ]
  },
  {
   "cell_type": "code",
   "execution_count": 14,
   "metadata": {
    "scrolled": true
   },
   "outputs": [],
   "source": [
    "handle_new = handle_new.iloc[:129,:]"
   ]
  },
  {
   "cell_type": "markdown",
   "metadata": {},
   "source": [
    "After discarding these rows, we merge the data sets into one by selecting the rows present in both data sets, the ones that only the handle_old data set apports, the ones that only the handle_new data set apports, and the rows that both include."
   ]
  },
  {
   "cell_type": "code",
   "execution_count": 15,
   "metadata": {
    "scrolled": true
   },
   "outputs": [],
   "source": [
    "df = handle_old.merge(handle_new, how='outer', indicator='union')#merge"
   ]
  },
  {
   "cell_type": "code",
   "execution_count": 16,
   "metadata": {
    "scrolled": true
   },
   "outputs": [
    {
     "data": {
      "text/html": [
       "<div>\n",
       "<style scoped>\n",
       "    .dataframe tbody tr th:only-of-type {\n",
       "        vertical-align: middle;\n",
       "    }\n",
       "\n",
       "    .dataframe tbody tr th {\n",
       "        vertical-align: top;\n",
       "    }\n",
       "\n",
       "    .dataframe thead th {\n",
       "        text-align: right;\n",
       "    }\n",
       "</style>\n",
       "<table border=\"1\" class=\"dataframe\">\n",
       "  <thead>\n",
       "    <tr style=\"text-align: right;\">\n",
       "      <th></th>\n",
       "      <th>CODIGO</th>\n",
       "      <th>W1Fc</th>\n",
       "      <th>W1Ox</th>\n",
       "      <th>W1Lac</th>\n",
       "      <th>W1tFc</th>\n",
       "      <th>W1tOx</th>\n",
       "      <th>W1tLac</th>\n",
       "      <th>W1tBorg</th>\n",
       "      <th>W1t5Fc</th>\n",
       "      <th>W1t5Ox</th>\n",
       "      <th>...</th>\n",
       "      <th>PerCin</th>\n",
       "      <th>FM1</th>\n",
       "      <th>FM2</th>\n",
       "      <th>%FFM1</th>\n",
       "      <th>%FFM2</th>\n",
       "      <th>FFM1</th>\n",
       "      <th>FFM2</th>\n",
       "      <th>FFMI1</th>\n",
       "      <th>FFMI2</th>\n",
       "      <th>union</th>\n",
       "    </tr>\n",
       "  </thead>\n",
       "  <tbody>\n",
       "    <tr>\n",
       "      <th>0</th>\n",
       "      <td>GDCF007</td>\n",
       "      <td>109.0</td>\n",
       "      <td>92.0</td>\n",
       "      <td>1.9</td>\n",
       "      <td>133.0</td>\n",
       "      <td>95.0</td>\n",
       "      <td>2.3</td>\n",
       "      <td>8.0</td>\n",
       "      <td>59.0</td>\n",
       "      <td>90.0</td>\n",
       "      <td>...</td>\n",
       "      <td>65.0</td>\n",
       "      <td>7.883768</td>\n",
       "      <td>8.432778</td>\n",
       "      <td>83.045661</td>\n",
       "      <td>81.864993</td>\n",
       "      <td>38.616232</td>\n",
       "      <td>38.067222</td>\n",
       "      <td>16.714090</td>\n",
       "      <td>16.476464</td>\n",
       "      <td>both</td>\n",
       "    </tr>\n",
       "    <tr>\n",
       "      <th>1</th>\n",
       "      <td>GDCF014</td>\n",
       "      <td>93.0</td>\n",
       "      <td>88.0</td>\n",
       "      <td>2.3</td>\n",
       "      <td>161.0</td>\n",
       "      <td>85.0</td>\n",
       "      <td>3.7</td>\n",
       "      <td>10.0</td>\n",
       "      <td>115.0</td>\n",
       "      <td>85.0</td>\n",
       "      <td>...</td>\n",
       "      <td>67.5</td>\n",
       "      <td>10.455818</td>\n",
       "      <td>12.498375</td>\n",
       "      <td>80.084157</td>\n",
       "      <td>76.193572</td>\n",
       "      <td>42.044182</td>\n",
       "      <td>40.001625</td>\n",
       "      <td>17.276538</td>\n",
       "      <td>16.437223</td>\n",
       "      <td>both</td>\n",
       "    </tr>\n",
       "    <tr>\n",
       "      <th>4</th>\n",
       "      <td>GDCF004</td>\n",
       "      <td>84.0</td>\n",
       "      <td>90.0</td>\n",
       "      <td>3.4</td>\n",
       "      <td>151.0</td>\n",
       "      <td>82.0</td>\n",
       "      <td>4.3</td>\n",
       "      <td>8.0</td>\n",
       "      <td>74.0</td>\n",
       "      <td>97.0</td>\n",
       "      <td>...</td>\n",
       "      <td>67.5</td>\n",
       "      <td>6.914187</td>\n",
       "      <td>10.373099</td>\n",
       "      <td>87.869847</td>\n",
       "      <td>81.801580</td>\n",
       "      <td>50.085813</td>\n",
       "      <td>46.626901</td>\n",
       "      <td>17.330731</td>\n",
       "      <td>16.133876</td>\n",
       "      <td>both</td>\n",
       "    </tr>\n",
       "    <tr>\n",
       "      <th>5</th>\n",
       "      <td>GDCF036</td>\n",
       "      <td>138.0</td>\n",
       "      <td>98.0</td>\n",
       "      <td>1.2</td>\n",
       "      <td>192.0</td>\n",
       "      <td>97.0</td>\n",
       "      <td>4.2</td>\n",
       "      <td>8.0</td>\n",
       "      <td>137.0</td>\n",
       "      <td>98.0</td>\n",
       "      <td>...</td>\n",
       "      <td>78.5</td>\n",
       "      <td>19.727433</td>\n",
       "      <td>21.178970</td>\n",
       "      <td>69.743201</td>\n",
       "      <td>67.516917</td>\n",
       "      <td>45.472567</td>\n",
       "      <td>44.021030</td>\n",
       "      <td>16.111312</td>\n",
       "      <td>15.597020</td>\n",
       "      <td>both</td>\n",
       "    </tr>\n",
       "    <tr>\n",
       "      <th>7</th>\n",
       "      <td>GDCF050</td>\n",
       "      <td>136.0</td>\n",
       "      <td>98.0</td>\n",
       "      <td>1.3</td>\n",
       "      <td>164.0</td>\n",
       "      <td>97.0</td>\n",
       "      <td>2.8</td>\n",
       "      <td>10.0</td>\n",
       "      <td>121.0</td>\n",
       "      <td>97.0</td>\n",
       "      <td>...</td>\n",
       "      <td>65.5</td>\n",
       "      <td>4.917710</td>\n",
       "      <td>10.003592</td>\n",
       "      <td>90.451048</td>\n",
       "      <td>80.575550</td>\n",
       "      <td>46.582290</td>\n",
       "      <td>41.496408</td>\n",
       "      <td>17.749691</td>\n",
       "      <td>15.811770</td>\n",
       "      <td>both</td>\n",
       "    </tr>\n",
       "    <tr>\n",
       "      <th>...</th>\n",
       "      <td>...</td>\n",
       "      <td>...</td>\n",
       "      <td>...</td>\n",
       "      <td>...</td>\n",
       "      <td>...</td>\n",
       "      <td>...</td>\n",
       "      <td>...</td>\n",
       "      <td>...</td>\n",
       "      <td>...</td>\n",
       "      <td>...</td>\n",
       "      <td>...</td>\n",
       "      <td>...</td>\n",
       "      <td>...</td>\n",
       "      <td>...</td>\n",
       "      <td>...</td>\n",
       "      <td>...</td>\n",
       "      <td>...</td>\n",
       "      <td>...</td>\n",
       "      <td>...</td>\n",
       "      <td>...</td>\n",
       "      <td>...</td>\n",
       "    </tr>\n",
       "    <tr>\n",
       "      <th>125</th>\n",
       "      <td>GDCF053</td>\n",
       "      <td>146.0</td>\n",
       "      <td>97.0</td>\n",
       "      <td>2.7</td>\n",
       "      <td>135.0</td>\n",
       "      <td>81.0</td>\n",
       "      <td>5.1</td>\n",
       "      <td>10.0</td>\n",
       "      <td>162.0</td>\n",
       "      <td>98.0</td>\n",
       "      <td>...</td>\n",
       "      <td>89.0</td>\n",
       "      <td>11.009325</td>\n",
       "      <td>11.615565</td>\n",
       "      <td>88.287952</td>\n",
       "      <td>87.643016</td>\n",
       "      <td>82.990675</td>\n",
       "      <td>82.384435</td>\n",
       "      <td>23.988517</td>\n",
       "      <td>23.813283</td>\n",
       "      <td>both</td>\n",
       "    </tr>\n",
       "    <tr>\n",
       "      <th>126</th>\n",
       "      <td>GDCF024</td>\n",
       "      <td>116.0</td>\n",
       "      <td>99.0</td>\n",
       "      <td>1.7</td>\n",
       "      <td>160.0</td>\n",
       "      <td>92.0</td>\n",
       "      <td>4.6</td>\n",
       "      <td>9.0</td>\n",
       "      <td>107.0</td>\n",
       "      <td>90.0</td>\n",
       "      <td>...</td>\n",
       "      <td>91.0</td>\n",
       "      <td>8.531546</td>\n",
       "      <td>13.933039</td>\n",
       "      <td>91.249697</td>\n",
       "      <td>85.709704</td>\n",
       "      <td>88.968454</td>\n",
       "      <td>83.566961</td>\n",
       "      <td>27.767065</td>\n",
       "      <td>26.081259</td>\n",
       "      <td>both</td>\n",
       "    </tr>\n",
       "    <tr>\n",
       "      <th>127</th>\n",
       "      <td>GDCF070</td>\n",
       "      <td>100.0</td>\n",
       "      <td>97.0</td>\n",
       "      <td>1.5</td>\n",
       "      <td>160.0</td>\n",
       "      <td>99.0</td>\n",
       "      <td>3.1</td>\n",
       "      <td>10.0</td>\n",
       "      <td>124.0</td>\n",
       "      <td>99.0</td>\n",
       "      <td>...</td>\n",
       "      <td>85.5</td>\n",
       "      <td>6.392673</td>\n",
       "      <td>9.594553</td>\n",
       "      <td>92.601073</td>\n",
       "      <td>88.895193</td>\n",
       "      <td>80.007327</td>\n",
       "      <td>76.805447</td>\n",
       "      <td>23.126179</td>\n",
       "      <td>22.200673</td>\n",
       "      <td>both</td>\n",
       "    </tr>\n",
       "    <tr>\n",
       "      <th>128</th>\n",
       "      <td>GDCF042</td>\n",
       "      <td>89.0</td>\n",
       "      <td>82.0</td>\n",
       "      <td>1.7</td>\n",
       "      <td>134.0</td>\n",
       "      <td>70.0</td>\n",
       "      <td>3.8</td>\n",
       "      <td>10.0</td>\n",
       "      <td>68.0</td>\n",
       "      <td>97.0</td>\n",
       "      <td>...</td>\n",
       "      <td>88.5</td>\n",
       "      <td>7.949812</td>\n",
       "      <td>12.728019</td>\n",
       "      <td>91.424151</td>\n",
       "      <td>86.269666</td>\n",
       "      <td>84.750188</td>\n",
       "      <td>79.971981</td>\n",
       "      <td>24.762655</td>\n",
       "      <td>23.366539</td>\n",
       "      <td>both</td>\n",
       "    </tr>\n",
       "    <tr>\n",
       "      <th>129</th>\n",
       "      <td>GDCF001</td>\n",
       "      <td>102.0</td>\n",
       "      <td>99.0</td>\n",
       "      <td>3.4</td>\n",
       "      <td>175.0</td>\n",
       "      <td>91.0</td>\n",
       "      <td>3.9</td>\n",
       "      <td>8.0</td>\n",
       "      <td>132.0</td>\n",
       "      <td>97.0</td>\n",
       "      <td>...</td>\n",
       "      <td>98.0</td>\n",
       "      <td>22.898710</td>\n",
       "      <td>20.736852</td>\n",
       "      <td>76.393082</td>\n",
       "      <td>78.621802</td>\n",
       "      <td>74.101290</td>\n",
       "      <td>76.263148</td>\n",
       "      <td>23.127022</td>\n",
       "      <td>23.801738</td>\n",
       "      <td>both</td>\n",
       "    </tr>\n",
       "  </tbody>\n",
       "</table>\n",
       "<p>102 rows × 274 columns</p>\n",
       "</div>"
      ],
      "text/plain": [
       "      CODIGO   W1Fc  W1Ox  W1Lac  W1tFc  W1tOx  W1tLac  W1tBorg  W1t5Fc  \\\n",
       "0    GDCF007  109.0  92.0    1.9  133.0   95.0     2.3      8.0    59.0   \n",
       "1    GDCF014   93.0  88.0    2.3  161.0   85.0     3.7     10.0   115.0   \n",
       "4    GDCF004   84.0  90.0    3.4  151.0   82.0     4.3      8.0    74.0   \n",
       "5    GDCF036  138.0  98.0    1.2  192.0   97.0     4.2      8.0   137.0   \n",
       "7    GDCF050  136.0  98.0    1.3  164.0   97.0     2.8     10.0   121.0   \n",
       "..       ...    ...   ...    ...    ...    ...     ...      ...     ...   \n",
       "125  GDCF053  146.0  97.0    2.7  135.0   81.0     5.1     10.0   162.0   \n",
       "126  GDCF024  116.0  99.0    1.7  160.0   92.0     4.6      9.0   107.0   \n",
       "127  GDCF070  100.0  97.0    1.5  160.0   99.0     3.1     10.0   124.0   \n",
       "128  GDCF042   89.0  82.0    1.7  134.0   70.0     3.8     10.0    68.0   \n",
       "129  GDCF001  102.0  99.0    3.4  175.0   91.0     3.9      8.0   132.0   \n",
       "\n",
       "     W1t5Ox  ...  PerCin        FM1        FM2      %FFM1      %FFM2  \\\n",
       "0      90.0  ...    65.0   7.883768   8.432778  83.045661  81.864993   \n",
       "1      85.0  ...    67.5  10.455818  12.498375  80.084157  76.193572   \n",
       "4      97.0  ...    67.5   6.914187  10.373099  87.869847  81.801580   \n",
       "5      98.0  ...    78.5  19.727433  21.178970  69.743201  67.516917   \n",
       "7      97.0  ...    65.5   4.917710  10.003592  90.451048  80.575550   \n",
       "..      ...  ...     ...        ...        ...        ...        ...   \n",
       "125    98.0  ...    89.0  11.009325  11.615565  88.287952  87.643016   \n",
       "126    90.0  ...    91.0   8.531546  13.933039  91.249697  85.709704   \n",
       "127    99.0  ...    85.5   6.392673   9.594553  92.601073  88.895193   \n",
       "128    97.0  ...    88.5   7.949812  12.728019  91.424151  86.269666   \n",
       "129    97.0  ...    98.0  22.898710  20.736852  76.393082  78.621802   \n",
       "\n",
       "          FFM1       FFM2      FFMI1      FFMI2  union  \n",
       "0    38.616232  38.067222  16.714090  16.476464   both  \n",
       "1    42.044182  40.001625  17.276538  16.437223   both  \n",
       "4    50.085813  46.626901  17.330731  16.133876   both  \n",
       "5    45.472567  44.021030  16.111312  15.597020   both  \n",
       "7    46.582290  41.496408  17.749691  15.811770   both  \n",
       "..         ...        ...        ...        ...    ...  \n",
       "125  82.990675  82.384435  23.988517  23.813283   both  \n",
       "126  88.968454  83.566961  27.767065  26.081259   both  \n",
       "127  80.007327  76.805447  23.126179  22.200673   both  \n",
       "128  84.750188  79.971981  24.762655  23.366539   both  \n",
       "129  74.101290  76.263148  23.127022  23.801738   both  \n",
       "\n",
       "[102 rows x 274 columns]"
      ]
     },
     "execution_count": 16,
     "metadata": {},
     "output_type": "execute_result"
    }
   ],
   "source": [
    "df[df['union'] == 'both'] #selecting all the rows"
   ]
  },
  {
   "cell_type": "markdown",
   "metadata": {},
   "source": [
    "If we select the rows that are in both datasets we have a total of 102 rows."
   ]
  },
  {
   "cell_type": "code",
   "execution_count": 17,
   "metadata": {},
   "outputs": [],
   "source": [
    "df_merged = df[df['union'] == 'both'] "
   ]
  },
  {
   "cell_type": "markdown",
   "metadata": {},
   "source": [
    "## Filtering missing values <a class=\"anchor\" id=\"2\"></a>"
   ]
  },
  {
   "cell_type": "markdown",
   "metadata": {},
   "source": [
    "* [Returning to the index of contents](#index)"
   ]
  },
  {
   "cell_type": "markdown",
   "metadata": {},
   "source": [
    "In order to work always with the same null value format we will convert all the existing ones to np.nan:"
   ]
  },
  {
   "cell_type": "code",
   "execution_count": 18,
   "metadata": {},
   "outputs": [],
   "source": [
    "df_merged = df_merged.replace({'No Call':np.nan, 'Invalid':np.nan, '-:-':np.nan})"
   ]
  },
  {
   "cell_type": "markdown",
   "metadata": {},
   "source": [
    "Now, the null values have been standardised, we analyse their presence in our data with the function missing_values_table(df) [[1]](#koehrsen2018)."
   ]
  },
  {
   "cell_type": "code",
   "execution_count": 19,
   "metadata": {},
   "outputs": [],
   "source": [
    "def missing_values_table(df):\n",
    "        # Total missing values\n",
    "        mis_val = df.isnull().sum()\n",
    "        \n",
    "        # Percentage of missing values\n",
    "        mis_val_percent = 100 * df.isnull().sum() / len(df)\n",
    "        \n",
    "        # Make a table with the results\n",
    "        mis_val_table = pd.concat([mis_val, mis_val_percent], axis=1)\n",
    "        \n",
    "        # Rename the columns\n",
    "        mis_val_table_ren_columns = mis_val_table.rename(\n",
    "        columns = {0 : 'Missing Values', 1 : '% of Total Values'})\n",
    "        \n",
    "        # Sort the table by percentage of missing descending\n",
    "        mis_val_table_ren_columns = mis_val_table_ren_columns[\n",
    "            mis_val_table_ren_columns.iloc[:,1] != 0].sort_values(\n",
    "        '% of Total Values', ascending=False).round(1)\n",
    "        \n",
    "        # Print some summary information\n",
    "        print (\"Your selected dataframe has \" + str(df.shape[1]) + \" columns.\\n\"      \n",
    "            \"There are \" + str(mis_val_table_ren_columns.shape[0]) +\n",
    "              \" columns that have missing values.\")\n",
    "        \n",
    "        # Return the dataframe with missing information\n",
    "        return mis_val_table_ren_columns"
   ]
  },
  {
   "cell_type": "code",
   "execution_count": 20,
   "metadata": {
    "scrolled": false
   },
   "outputs": [
    {
     "name": "stdout",
     "output_type": "stream",
     "text": [
      "Your selected dataframe has 274 columns.\n",
      "There are 209 columns that have missing values.\n"
     ]
    },
    {
     "data": {
      "text/html": [
       "<div>\n",
       "<style scoped>\n",
       "    .dataframe tbody tr th:only-of-type {\n",
       "        vertical-align: middle;\n",
       "    }\n",
       "\n",
       "    .dataframe tbody tr th {\n",
       "        vertical-align: top;\n",
       "    }\n",
       "\n",
       "    .dataframe thead th {\n",
       "        text-align: right;\n",
       "    }\n",
       "</style>\n",
       "<table border=\"1\" class=\"dataframe\">\n",
       "  <thead>\n",
       "    <tr style=\"text-align: right;\">\n",
       "      <th></th>\n",
       "      <th>Missing Values</th>\n",
       "      <th>% of Total Values</th>\n",
       "    </tr>\n",
       "  </thead>\n",
       "  <tbody>\n",
       "    <tr>\n",
       "      <th>rs3025058</th>\n",
       "      <td>102</td>\n",
       "      <td>100.0</td>\n",
       "    </tr>\n",
       "    <tr>\n",
       "      <th>rs1800012.1</th>\n",
       "      <td>70</td>\n",
       "      <td>68.6</td>\n",
       "    </tr>\n",
       "    <tr>\n",
       "      <th>rs3213221.1</th>\n",
       "      <td>70</td>\n",
       "      <td>68.6</td>\n",
       "    </tr>\n",
       "    <tr>\n",
       "      <th>rs384129</th>\n",
       "      <td>45</td>\n",
       "      <td>44.1</td>\n",
       "    </tr>\n",
       "    <tr>\n",
       "      <th>rs12722</th>\n",
       "      <td>38</td>\n",
       "      <td>37.3</td>\n",
       "    </tr>\n",
       "    <tr>\n",
       "      <th>...</th>\n",
       "      <td>...</td>\n",
       "      <td>...</td>\n",
       "    </tr>\n",
       "    <tr>\n",
       "      <th>W2MaxWAbs</th>\n",
       "      <td>1</td>\n",
       "      <td>1.0</td>\n",
       "    </tr>\n",
       "    <tr>\n",
       "      <th>W2maxRPM</th>\n",
       "      <td>1</td>\n",
       "      <td>1.0</td>\n",
       "    </tr>\n",
       "    <tr>\n",
       "      <th>W2MedWAbs</th>\n",
       "      <td>1</td>\n",
       "      <td>1.0</td>\n",
       "    </tr>\n",
       "    <tr>\n",
       "      <th>W2medRPM</th>\n",
       "      <td>1</td>\n",
       "      <td>1.0</td>\n",
       "    </tr>\n",
       "    <tr>\n",
       "      <th>W1t5Fc</th>\n",
       "      <td>1</td>\n",
       "      <td>1.0</td>\n",
       "    </tr>\n",
       "  </tbody>\n",
       "</table>\n",
       "<p>209 rows × 2 columns</p>\n",
       "</div>"
      ],
      "text/plain": [
       "             Missing Values  % of Total Values\n",
       "rs3025058               102              100.0\n",
       "rs1800012.1              70               68.6\n",
       "rs3213221.1              70               68.6\n",
       "rs384129                 45               44.1\n",
       "rs12722                  38               37.3\n",
       "...                     ...                ...\n",
       "W2MaxWAbs                 1                1.0\n",
       "W2maxRPM                  1                1.0\n",
       "W2MedWAbs                 1                1.0\n",
       "W2medRPM                  1                1.0\n",
       "W1t5Fc                    1                1.0\n",
       "\n",
       "[209 rows x 2 columns]"
      ]
     },
     "execution_count": 20,
     "metadata": {},
     "output_type": "execute_result"
    }
   ],
   "source": [
    "col_mis_merged = missing_values_table(df_merged)#columns of the dataframe with missing values\n",
    "col_mis_merged"
   ]
  },
  {
   "cell_type": "markdown",
   "metadata": {},
   "source": [
    "We have a high number of columns with missing values, but not all the columns have a high number of missing values. Let's look at the columns with more than 5 missing values:"
   ]
  },
  {
   "cell_type": "code",
   "execution_count": 21,
   "metadata": {
    "scrolled": true
   },
   "outputs": [
    {
     "data": {
      "text/html": [
       "<div>\n",
       "<style scoped>\n",
       "    .dataframe tbody tr th:only-of-type {\n",
       "        vertical-align: middle;\n",
       "    }\n",
       "\n",
       "    .dataframe tbody tr th {\n",
       "        vertical-align: top;\n",
       "    }\n",
       "\n",
       "    .dataframe thead th {\n",
       "        text-align: right;\n",
       "    }\n",
       "</style>\n",
       "<table border=\"1\" class=\"dataframe\">\n",
       "  <thead>\n",
       "    <tr style=\"text-align: right;\">\n",
       "      <th></th>\n",
       "      <th>Missing Values</th>\n",
       "      <th>% of Total Values</th>\n",
       "    </tr>\n",
       "  </thead>\n",
       "  <tbody>\n",
       "    <tr>\n",
       "      <th>rs3025058</th>\n",
       "      <td>102</td>\n",
       "      <td>100.0</td>\n",
       "    </tr>\n",
       "    <tr>\n",
       "      <th>rs1800012.1</th>\n",
       "      <td>70</td>\n",
       "      <td>68.6</td>\n",
       "    </tr>\n",
       "    <tr>\n",
       "      <th>rs3213221.1</th>\n",
       "      <td>70</td>\n",
       "      <td>68.6</td>\n",
       "    </tr>\n",
       "    <tr>\n",
       "      <th>rs384129</th>\n",
       "      <td>45</td>\n",
       "      <td>44.1</td>\n",
       "    </tr>\n",
       "    <tr>\n",
       "      <th>rs12722</th>\n",
       "      <td>38</td>\n",
       "      <td>37.3</td>\n",
       "    </tr>\n",
       "    <tr>\n",
       "      <th>rs1799750</th>\n",
       "      <td>27</td>\n",
       "      <td>26.5</td>\n",
       "    </tr>\n",
       "    <tr>\n",
       "      <th>rs8065080</th>\n",
       "      <td>6</td>\n",
       "      <td>5.9</td>\n",
       "    </tr>\n",
       "    <tr>\n",
       "      <th>rs7498665</th>\n",
       "      <td>6</td>\n",
       "      <td>5.9</td>\n",
       "    </tr>\n",
       "    <tr>\n",
       "      <th>rs7292407</th>\n",
       "      <td>6</td>\n",
       "      <td>5.9</td>\n",
       "    </tr>\n",
       "    <tr>\n",
       "      <th>rs7965584</th>\n",
       "      <td>5</td>\n",
       "      <td>4.9</td>\n",
       "    </tr>\n",
       "    <tr>\n",
       "      <th>rs3219178</th>\n",
       "      <td>5</td>\n",
       "      <td>4.9</td>\n",
       "    </tr>\n",
       "    <tr>\n",
       "      <th>rs1801133</th>\n",
       "      <td>5</td>\n",
       "      <td>4.9</td>\n",
       "    </tr>\n",
       "    <tr>\n",
       "      <th>rs1801260</th>\n",
       "      <td>5</td>\n",
       "      <td>4.9</td>\n",
       "    </tr>\n",
       "    <tr>\n",
       "      <th>rs11715829</th>\n",
       "      <td>5</td>\n",
       "      <td>4.9</td>\n",
       "    </tr>\n",
       "    <tr>\n",
       "      <th>rs824205</th>\n",
       "      <td>5</td>\n",
       "      <td>4.9</td>\n",
       "    </tr>\n",
       "    <tr>\n",
       "      <th>rs833070</th>\n",
       "      <td>5</td>\n",
       "      <td>4.9</td>\n",
       "    </tr>\n",
       "    <tr>\n",
       "      <th>rs4654748</th>\n",
       "      <td>5</td>\n",
       "      <td>4.9</td>\n",
       "    </tr>\n",
       "    <tr>\n",
       "      <th>rs6735530</th>\n",
       "      <td>5</td>\n",
       "      <td>4.9</td>\n",
       "    </tr>\n",
       "  </tbody>\n",
       "</table>\n",
       "</div>"
      ],
      "text/plain": [
       "             Missing Values  % of Total Values\n",
       "rs3025058               102              100.0\n",
       "rs1800012.1              70               68.6\n",
       "rs3213221.1              70               68.6\n",
       "rs384129                 45               44.1\n",
       "rs12722                  38               37.3\n",
       "rs1799750                27               26.5\n",
       "rs8065080                 6                5.9\n",
       "rs7498665                 6                5.9\n",
       "rs7292407                 6                5.9\n",
       "rs7965584                 5                4.9\n",
       "rs3219178                 5                4.9\n",
       "rs1801133                 5                4.9\n",
       "rs1801260                 5                4.9\n",
       "rs11715829                5                4.9\n",
       "rs824205                  5                4.9\n",
       "rs833070                  5                4.9\n",
       "rs4654748                 5                4.9\n",
       "rs6735530                 5                4.9"
      ]
     },
     "execution_count": 21,
     "metadata": {},
     "output_type": "execute_result"
    }
   ],
   "source": [
    "col_mis_merged[col_mis_merged['Missing Values'] >=5]"
   ]
  },
  {
   "cell_type": "markdown",
   "metadata": {},
   "source": [
    "There is a total of 209 columns with missing values, it can be appreciated that columns with the highest number of missing values are the those referring to the SNPs. We know that some SNPs were replicated due to problems detecting genotypes, these SNPs are: rs1800012, rs3213221 and rs6265. "
   ]
  },
  {
   "cell_type": "markdown",
   "metadata": {},
   "source": [
    "Besides of these SNPs replicated, the SNP 'rs3025058' has a 100% of missing values, that does not contain any value, this column is directly removed:"
   ]
  },
  {
   "cell_type": "code",
   "execution_count": 22,
   "metadata": {},
   "outputs": [],
   "source": [
    "df_merged = df_merged.drop(columns = ['rs3025058'])"
   ]
  },
  {
   "cell_type": "markdown",
   "metadata": {},
   "source": [
    "Since there are other SNPs with a greater number of missing values, we will determine if there are more replicated SNPs, in addition to the ones mentioned above. To detect these possible replicas we draw from the premise that the columns that are a duplicate will have a name ending in '.1'."
   ]
  },
  {
   "cell_type": "code",
   "execution_count": 23,
   "metadata": {},
   "outputs": [
    {
     "name": "stdout",
     "output_type": "stream",
     "text": [
      "Replicated SNPs: Index(['rs1800012.1', 'rs3213221.1', 'rs6265.1'], dtype='object')\n"
     ]
    }
   ],
   "source": [
    "snp = pd.DataFrame()\n",
    "for i in df_merged:\n",
    "    if i.endswith('.1'):\n",
    "        snp = snp.append(df_merged[i])\n",
    "snp = snp.T\n",
    "print('Replicated SNPs:',snp.columns)"
   ]
  },
  {
   "cell_type": "markdown",
   "metadata": {},
   "source": [
    "It seems that the only SNPs replicated are the initial ones mentioned above. With the aim of losing the lesser amount of information for these SNPs we will make a combination of the original and replica column into one column, based on the next criteria (these criteria are using the example of a predictor with possible genotypes: 'AA','AG','GG'):\n",
    "\n",
    "* If we have 'AA' in one column, and 'GG' in the other, the result in the final column is 'AG'.\n",
    "* If we have 'AG' in one column, and 'GG' in the other, the result in the final column is 'AG'.\n",
    "* If we have 'AA' or 'GG' in both columns, the result in the final column is 'AA' or 'GG', respectively.\n",
    "* If we have a null value in one column and an actual value in the other, we take the value of the column with actual value.\n"
   ]
  },
  {
   "cell_type": "markdown",
   "metadata": {},
   "source": [
    "Possible genotypes for 'rs1800012':"
   ]
  },
  {
   "cell_type": "code",
   "execution_count": 24,
   "metadata": {},
   "outputs": [
    {
     "data": {
      "text/plain": [
       "array(['G:T', 'G:G', 'T:T', nan], dtype=object)"
      ]
     },
     "execution_count": 24,
     "metadata": {},
     "output_type": "execute_result"
    }
   ],
   "source": [
    "df_merged['rs1800012'].unique()"
   ]
  },
  {
   "cell_type": "code",
   "execution_count": 25,
   "metadata": {},
   "outputs": [],
   "source": [
    "#SNP  'rs1800012' and replica \n",
    "\n",
    "for i in np.arange(len(df_merged)):\n",
    "    \n",
    "    if df_merged['rs1800012'].values[i] is np.nan and df_merged['rs1800012.1'].values[i] is not np.nan:\n",
    "        df_merged['rs1800012'].values[i] = df_merged['rs1800012.1'].values[i]\n",
    "    \n",
    "    elif df_merged['rs1800012'].values[i] is not np.nan and df_merged['rs1800012.1'].values[i] is np.nan:\n",
    "        pass\n",
    "    \n",
    "    elif df_merged['rs1800012'].values[i] == df_merged['rs1800012.1'].values[i]:\n",
    "        pass\n",
    "    \n",
    "    elif df_merged['rs1800012'].values[i] is not df_merged['rs1800012.1'].values[i]:\n",
    "        if df_merged['rs1800012'].values[i] is not np.nan and df_merged['rs1800012.1'].values[i] is not np.nan:\n",
    "            df_merged['rs1800012'].values[i] = 'G:T'\n",
    "    else:\n",
    "        pass\n",
    "    \n",
    "\n",
    "        \n",
    "        "
   ]
  },
  {
   "cell_type": "markdown",
   "metadata": {},
   "source": [
    "Possible genotypes for 'rs3213221':"
   ]
  },
  {
   "cell_type": "code",
   "execution_count": 26,
   "metadata": {},
   "outputs": [
    {
     "data": {
      "text/plain": [
       "array(['C:C', 'C:G', 'G:G', nan], dtype=object)"
      ]
     },
     "execution_count": 26,
     "metadata": {},
     "output_type": "execute_result"
    }
   ],
   "source": [
    "df_merged['rs3213221'].unique()"
   ]
  },
  {
   "cell_type": "code",
   "execution_count": 27,
   "metadata": {},
   "outputs": [],
   "source": [
    "#SNP 'rs3213221' and replica\n",
    "for i in np.arange(len(df_merged)):\n",
    "    \n",
    "    if df_merged['rs3213221'].values[i] is np.nan and df_merged['rs3213221.1'].values[i] is not np.nan:\n",
    "        df_merged['rs3213221'].values[i] = df_merged['rs3213221.1'].values[i]\n",
    "    \n",
    "    elif df_merged['rs3213221'].values[i] is not np.nan and df_merged['rs3213221.1'].values[i] is np.nan:\n",
    "        pass\n",
    "    \n",
    "    elif df_merged['rs3213221'].values[i] == df_merged['rs3213221.1'].values[i]:\n",
    "        pass\n",
    "    \n",
    "    elif df_merged['rs3213221'].values[i] is not df_merged['rs3213221.1'].values[i]:\n",
    "        if df_merged['rs3213221'].values[i] is not np.nan and df_merged['rs3213221.1'].values[i] is not np.nan:\n",
    "            df_merged['rs3213221'].values[i] = 'C:G'\n",
    "    else:\n",
    "        pass\n",
    "    "
   ]
  },
  {
   "cell_type": "markdown",
   "metadata": {},
   "source": [
    "Possible genotypes for 'rs6265':"
   ]
  },
  {
   "cell_type": "code",
   "execution_count": 28,
   "metadata": {},
   "outputs": [
    {
     "data": {
      "text/plain": [
       "array(['A:G', 'G:G', nan, 'A:A'], dtype=object)"
      ]
     },
     "execution_count": 28,
     "metadata": {},
     "output_type": "execute_result"
    }
   ],
   "source": [
    "df_merged['rs6265'].unique()"
   ]
  },
  {
   "cell_type": "code",
   "execution_count": 29,
   "metadata": {},
   "outputs": [],
   "source": [
    "#SNP 'rs6265' and replica\n",
    "for i in np.arange(len(df_merged)):\n",
    "    \n",
    "    if df_merged['rs6265'].values[i] is np.nan and df_merged['rs6265.1'].values[i] is not np.nan:\n",
    "        df_merged['rs6265'].values[i] = df_merged['rs6265.1'].values[i]\n",
    "    \n",
    "    elif df_merged['rs6265'].values[i] is not np.nan and df_merged['rs6265.1'].values[i] is np.nan:\n",
    "        pass\n",
    "    \n",
    "    elif df_merged['rs6265'].values[i] == df_merged['rs6265.1'].values[i]:\n",
    "        pass\n",
    "    \n",
    "    elif df_merged['rs6265'].values[i] is not df_merged['rs6265.1'].values[i]:\n",
    "        if df_merged['rs6265'].values[i] is not np.nan and df_merged['rs6265.1'].values[i] is not np.nan:\n",
    "            df_merged['rs6265'].values[i] = 'A:G'\n",
    "    else:\n",
    "        pass\n",
    "    "
   ]
  },
  {
   "cell_type": "markdown",
   "metadata": {},
   "source": [
    "Now, we delete the replica columns:"
   ]
  },
  {
   "cell_type": "code",
   "execution_count": 30,
   "metadata": {},
   "outputs": [],
   "source": [
    "df_merged = df_merged.drop(columns = ['rs1800012.1','rs3213221.1','rs6265.1'])"
   ]
  },
  {
   "cell_type": "markdown",
   "metadata": {},
   "source": [
    "After having solved the replicas problem, we are going to look for other SNPs with a high number of missing values, with the aim to decide if they are included or not in the analysis."
   ]
  },
  {
   "cell_type": "code",
   "execution_count": 31,
   "metadata": {
    "scrolled": true
   },
   "outputs": [
    {
     "name": "stdout",
     "output_type": "stream",
     "text": [
      "Your selected dataframe has 270 columns.\n",
      "There are 205 columns that have missing values.\n"
     ]
    },
    {
     "data": {
      "text/html": [
       "<div>\n",
       "<style scoped>\n",
       "    .dataframe tbody tr th:only-of-type {\n",
       "        vertical-align: middle;\n",
       "    }\n",
       "\n",
       "    .dataframe tbody tr th {\n",
       "        vertical-align: top;\n",
       "    }\n",
       "\n",
       "    .dataframe thead th {\n",
       "        text-align: right;\n",
       "    }\n",
       "</style>\n",
       "<table border=\"1\" class=\"dataframe\">\n",
       "  <thead>\n",
       "    <tr style=\"text-align: right;\">\n",
       "      <th></th>\n",
       "      <th>Missing Values</th>\n",
       "      <th>% of Total Values</th>\n",
       "    </tr>\n",
       "  </thead>\n",
       "  <tbody>\n",
       "    <tr>\n",
       "      <th>rs384129</th>\n",
       "      <td>45</td>\n",
       "      <td>44.1</td>\n",
       "    </tr>\n",
       "    <tr>\n",
       "      <th>rs12722</th>\n",
       "      <td>38</td>\n",
       "      <td>37.3</td>\n",
       "    </tr>\n",
       "    <tr>\n",
       "      <th>rs1799750</th>\n",
       "      <td>27</td>\n",
       "      <td>26.5</td>\n",
       "    </tr>\n",
       "    <tr>\n",
       "      <th>rs7498665</th>\n",
       "      <td>6</td>\n",
       "      <td>5.9</td>\n",
       "    </tr>\n",
       "    <tr>\n",
       "      <th>rs7292407</th>\n",
       "      <td>6</td>\n",
       "      <td>5.9</td>\n",
       "    </tr>\n",
       "    <tr>\n",
       "      <th>...</th>\n",
       "      <td>...</td>\n",
       "      <td>...</td>\n",
       "    </tr>\n",
       "    <tr>\n",
       "      <th>W2MaxWAbs</th>\n",
       "      <td>1</td>\n",
       "      <td>1.0</td>\n",
       "    </tr>\n",
       "    <tr>\n",
       "      <th>W2maxRPM</th>\n",
       "      <td>1</td>\n",
       "      <td>1.0</td>\n",
       "    </tr>\n",
       "    <tr>\n",
       "      <th>W2MedWAbs</th>\n",
       "      <td>1</td>\n",
       "      <td>1.0</td>\n",
       "    </tr>\n",
       "    <tr>\n",
       "      <th>W2medRPM</th>\n",
       "      <td>1</td>\n",
       "      <td>1.0</td>\n",
       "    </tr>\n",
       "    <tr>\n",
       "      <th>W1t5Fc</th>\n",
       "      <td>1</td>\n",
       "      <td>1.0</td>\n",
       "    </tr>\n",
       "  </tbody>\n",
       "</table>\n",
       "<p>205 rows × 2 columns</p>\n",
       "</div>"
      ],
      "text/plain": [
       "           Missing Values  % of Total Values\n",
       "rs384129               45               44.1\n",
       "rs12722                38               37.3\n",
       "rs1799750              27               26.5\n",
       "rs7498665               6                5.9\n",
       "rs7292407               6                5.9\n",
       "...                   ...                ...\n",
       "W2MaxWAbs               1                1.0\n",
       "W2maxRPM                1                1.0\n",
       "W2MedWAbs               1                1.0\n",
       "W2medRPM                1                1.0\n",
       "W1t5Fc                  1                1.0\n",
       "\n",
       "[205 rows x 2 columns]"
      ]
     },
     "execution_count": 31,
     "metadata": {},
     "output_type": "execute_result"
    }
   ],
   "source": [
    "missing_values_table(df_merged)"
   ]
  },
  {
   "cell_type": "markdown",
   "metadata": {},
   "source": [
    "We decided to delete the columns with a percentage equal to or greater than 26.5% in missing values to avoid genetic predictors with few data or observations."
   ]
  },
  {
   "cell_type": "code",
   "execution_count": 32,
   "metadata": {},
   "outputs": [
    {
     "name": "stdout",
     "output_type": "stream",
     "text": [
      "Your selected dataframe has 270 columns.\n",
      "There are 205 columns that have missing values.\n",
      "Columns removed 3.\n"
     ]
    }
   ],
   "source": [
    "missing_df = missing_values_table(df_merged);\n",
    "missing_columns = list(missing_df[missing_df['% of Total Values'] >= 26.5].index)\n",
    "print('Columns removed %d.' % len(missing_columns))\n",
    "\n",
    "df_merged= df_merged.drop(columns = list(missing_columns))"
   ]
  },
  {
   "cell_type": "markdown",
   "metadata": {},
   "source": [
    "Once we have eliminated the columns with the greatest number of missing values, we eliminate the rows that have at least one null value among their values. "
   ]
  },
  {
   "cell_type": "code",
   "execution_count": 33,
   "metadata": {
    "scrolled": true
   },
   "outputs": [],
   "source": [
    "df_merged = df_merged.dropna(how='any') "
   ]
  },
  {
   "cell_type": "markdown",
   "metadata": {},
   "source": [
    "After this filtering we no longer have missing values:"
   ]
  },
  {
   "cell_type": "code",
   "execution_count": 34,
   "metadata": {},
   "outputs": [
    {
     "name": "stdout",
     "output_type": "stream",
     "text": [
      "Your selected dataframe has 267 columns.\n",
      "There are 0 columns that have missing values.\n"
     ]
    },
    {
     "data": {
      "text/html": [
       "<div>\n",
       "<style scoped>\n",
       "    .dataframe tbody tr th:only-of-type {\n",
       "        vertical-align: middle;\n",
       "    }\n",
       "\n",
       "    .dataframe tbody tr th {\n",
       "        vertical-align: top;\n",
       "    }\n",
       "\n",
       "    .dataframe thead th {\n",
       "        text-align: right;\n",
       "    }\n",
       "</style>\n",
       "<table border=\"1\" class=\"dataframe\">\n",
       "  <thead>\n",
       "    <tr style=\"text-align: right;\">\n",
       "      <th></th>\n",
       "      <th>Missing Values</th>\n",
       "      <th>% of Total Values</th>\n",
       "    </tr>\n",
       "  </thead>\n",
       "  <tbody>\n",
       "  </tbody>\n",
       "</table>\n",
       "</div>"
      ],
      "text/plain": [
       "Empty DataFrame\n",
       "Columns: [Missing Values, % of Total Values]\n",
       "Index: []"
      ]
     },
     "execution_count": 34,
     "metadata": {},
     "output_type": "execute_result"
    }
   ],
   "source": [
    "missing_values_table(df_merged)"
   ]
  },
  {
   "cell_type": "markdown",
   "metadata": {},
   "source": [
    "We check for the data dimension:"
   ]
  },
  {
   "cell_type": "code",
   "execution_count": 35,
   "metadata": {},
   "outputs": [
    {
     "data": {
      "text/plain": [
       "(82, 267)"
      ]
     },
     "execution_count": 35,
     "metadata": {},
     "output_type": "execute_result"
    }
   ],
   "source": [
    "df_merged.shape"
   ]
  },
  {
   "cell_type": "markdown",
   "metadata": {},
   "source": [
    "Data has acceptable dimensions. From now we will work with this data."
   ]
  },
  {
   "cell_type": "markdown",
   "metadata": {},
   "source": [
    "But first, it is necessary to delete the 'CODIGO' column with the aim of deleting the individual identifiers, they are not essential for the modelling and we avoid the risk of compromising their personal identity."
   ]
  },
  {
   "cell_type": "code",
   "execution_count": 36,
   "metadata": {},
   "outputs": [],
   "source": [
    "df_merged = df_merged.drop(columns = ['CODIGO'])"
   ]
  },
  {
   "cell_type": "markdown",
   "metadata": {},
   "source": [
    "Once the datasets have been joined, we no longer need the 'union' column, so we eliminate it."
   ]
  },
  {
   "cell_type": "code",
   "execution_count": 37,
   "metadata": {},
   "outputs": [],
   "source": [
    "df_merged= df_merged.drop(columns = ['union'])"
   ]
  },
  {
   "cell_type": "markdown",
   "metadata": {},
   "source": [
    "We export the final dataset:"
   ]
  },
  {
   "cell_type": "code",
   "execution_count": 38,
   "metadata": {},
   "outputs": [],
   "source": [
    "df_merged.to_csv('df_merged.csv',sep = ',')"
   ]
  },
  {
   "cell_type": "markdown",
   "metadata": {},
   "source": [
    "## Dividing data into more manageable data frames <a class=\"anchor\" id=\"6\"></a>"
   ]
  },
  {
   "cell_type": "markdown",
   "metadata": {},
   "source": [
    "* [Returning to the index of contents](#index)"
   ]
  },
  {
   "cell_type": "markdown",
   "metadata": {},
   "source": [
    "### Physical predictors dataframe <a class=\"anchor\" id=\"3\"></a>"
   ]
  },
  {
   "cell_type": "markdown",
   "metadata": {},
   "source": [
    "* [Returning to the index of contents](#index)"
   ]
  },
  {
   "cell_type": "markdown",
   "metadata": {},
   "source": [
    "To construct the data framework for physical predictors, we exclude all target variables (those starting with \"W1M\", \"W1m\", \"W2M\", \"W2m\", \"W1D\", \"W2D\", \"W1-2\") and genetic predictors (those starting with \"rs\")."
   ]
  },
  {
   "cell_type": "code",
   "execution_count": 39,
   "metadata": {
    "scrolled": true
   },
   "outputs": [
    {
     "data": {
      "text/html": [
       "<div>\n",
       "<style scoped>\n",
       "    .dataframe tbody tr th:only-of-type {\n",
       "        vertical-align: middle;\n",
       "    }\n",
       "\n",
       "    .dataframe tbody tr th {\n",
       "        vertical-align: top;\n",
       "    }\n",
       "\n",
       "    .dataframe thead th {\n",
       "        text-align: right;\n",
       "    }\n",
       "</style>\n",
       "<table border=\"1\" class=\"dataframe\">\n",
       "  <thead>\n",
       "    <tr style=\"text-align: right;\">\n",
       "      <th></th>\n",
       "      <th>W1Fc</th>\n",
       "      <th>W1Ox</th>\n",
       "      <th>W1Lac</th>\n",
       "      <th>W1tFc</th>\n",
       "      <th>W1tOx</th>\n",
       "      <th>W1tLac</th>\n",
       "      <th>W1tBorg</th>\n",
       "      <th>W1t5Fc</th>\n",
       "      <th>W1t5Ox</th>\n",
       "      <th>W1t5Lac</th>\n",
       "      <th>...</th>\n",
       "      <th>PerCue</th>\n",
       "      <th>PerCin</th>\n",
       "      <th>FM1</th>\n",
       "      <th>FM2</th>\n",
       "      <th>%FFM1</th>\n",
       "      <th>%FFM2</th>\n",
       "      <th>FFM1</th>\n",
       "      <th>FFM2</th>\n",
       "      <th>FFMI1</th>\n",
       "      <th>FFMI2</th>\n",
       "    </tr>\n",
       "  </thead>\n",
       "  <tbody>\n",
       "    <tr>\n",
       "      <th>0</th>\n",
       "      <td>109.0</td>\n",
       "      <td>92.0</td>\n",
       "      <td>1.9</td>\n",
       "      <td>133.0</td>\n",
       "      <td>95.0</td>\n",
       "      <td>2.3</td>\n",
       "      <td>8.0</td>\n",
       "      <td>59.0</td>\n",
       "      <td>90.0</td>\n",
       "      <td>4.7</td>\n",
       "      <td>...</td>\n",
       "      <td>31.0</td>\n",
       "      <td>65.0</td>\n",
       "      <td>7.883768</td>\n",
       "      <td>8.432778</td>\n",
       "      <td>83.045661</td>\n",
       "      <td>81.864993</td>\n",
       "      <td>38.616232</td>\n",
       "      <td>38.067222</td>\n",
       "      <td>16.714090</td>\n",
       "      <td>16.476464</td>\n",
       "    </tr>\n",
       "    <tr>\n",
       "      <th>4</th>\n",
       "      <td>84.0</td>\n",
       "      <td>90.0</td>\n",
       "      <td>3.4</td>\n",
       "      <td>151.0</td>\n",
       "      <td>82.0</td>\n",
       "      <td>4.3</td>\n",
       "      <td>8.0</td>\n",
       "      <td>74.0</td>\n",
       "      <td>97.0</td>\n",
       "      <td>6.3</td>\n",
       "      <td>...</td>\n",
       "      <td>36.0</td>\n",
       "      <td>67.5</td>\n",
       "      <td>6.914187</td>\n",
       "      <td>10.373099</td>\n",
       "      <td>87.869847</td>\n",
       "      <td>81.801580</td>\n",
       "      <td>50.085813</td>\n",
       "      <td>46.626901</td>\n",
       "      <td>17.330731</td>\n",
       "      <td>16.133876</td>\n",
       "    </tr>\n",
       "    <tr>\n",
       "      <th>7</th>\n",
       "      <td>136.0</td>\n",
       "      <td>98.0</td>\n",
       "      <td>1.3</td>\n",
       "      <td>164.0</td>\n",
       "      <td>97.0</td>\n",
       "      <td>2.8</td>\n",
       "      <td>10.0</td>\n",
       "      <td>121.0</td>\n",
       "      <td>97.0</td>\n",
       "      <td>9.0</td>\n",
       "      <td>...</td>\n",
       "      <td>31.0</td>\n",
       "      <td>65.5</td>\n",
       "      <td>4.917710</td>\n",
       "      <td>10.003592</td>\n",
       "      <td>90.451048</td>\n",
       "      <td>80.575550</td>\n",
       "      <td>46.582290</td>\n",
       "      <td>41.496408</td>\n",
       "      <td>17.749691</td>\n",
       "      <td>15.811770</td>\n",
       "    </tr>\n",
       "    <tr>\n",
       "      <th>8</th>\n",
       "      <td>120.0</td>\n",
       "      <td>97.0</td>\n",
       "      <td>1.8</td>\n",
       "      <td>150.0</td>\n",
       "      <td>76.0</td>\n",
       "      <td>4.2</td>\n",
       "      <td>8.0</td>\n",
       "      <td>141.0</td>\n",
       "      <td>98.0</td>\n",
       "      <td>9.7</td>\n",
       "      <td>...</td>\n",
       "      <td>35.5</td>\n",
       "      <td>68.5</td>\n",
       "      <td>11.222758</td>\n",
       "      <td>14.984471</td>\n",
       "      <td>81.602036</td>\n",
       "      <td>75.435294</td>\n",
       "      <td>49.777242</td>\n",
       "      <td>46.015529</td>\n",
       "      <td>18.507303</td>\n",
       "      <td>17.108689</td>\n",
       "    </tr>\n",
       "    <tr>\n",
       "      <th>9</th>\n",
       "      <td>62.0</td>\n",
       "      <td>97.0</td>\n",
       "      <td>2.8</td>\n",
       "      <td>172.0</td>\n",
       "      <td>91.0</td>\n",
       "      <td>4.9</td>\n",
       "      <td>9.0</td>\n",
       "      <td>119.0</td>\n",
       "      <td>88.0</td>\n",
       "      <td>10.8</td>\n",
       "      <td>...</td>\n",
       "      <td>33.5</td>\n",
       "      <td>69.8</td>\n",
       "      <td>15.642411</td>\n",
       "      <td>16.063989</td>\n",
       "      <td>72.557174</td>\n",
       "      <td>71.817564</td>\n",
       "      <td>41.357589</td>\n",
       "      <td>40.936011</td>\n",
       "      <td>16.566892</td>\n",
       "      <td>16.398018</td>\n",
       "    </tr>\n",
       "    <tr>\n",
       "      <th>...</th>\n",
       "      <td>...</td>\n",
       "      <td>...</td>\n",
       "      <td>...</td>\n",
       "      <td>...</td>\n",
       "      <td>...</td>\n",
       "      <td>...</td>\n",
       "      <td>...</td>\n",
       "      <td>...</td>\n",
       "      <td>...</td>\n",
       "      <td>...</td>\n",
       "      <td>...</td>\n",
       "      <td>...</td>\n",
       "      <td>...</td>\n",
       "      <td>...</td>\n",
       "      <td>...</td>\n",
       "      <td>...</td>\n",
       "      <td>...</td>\n",
       "      <td>...</td>\n",
       "      <td>...</td>\n",
       "      <td>...</td>\n",
       "      <td>...</td>\n",
       "    </tr>\n",
       "    <tr>\n",
       "      <th>123</th>\n",
       "      <td>103.0</td>\n",
       "      <td>98.0</td>\n",
       "      <td>2.8</td>\n",
       "      <td>186.0</td>\n",
       "      <td>93.0</td>\n",
       "      <td>5.0</td>\n",
       "      <td>10.0</td>\n",
       "      <td>140.0</td>\n",
       "      <td>98.0</td>\n",
       "      <td>11.8</td>\n",
       "      <td>...</td>\n",
       "      <td>41.0</td>\n",
       "      <td>80.5</td>\n",
       "      <td>5.348518</td>\n",
       "      <td>8.201681</td>\n",
       "      <td>93.142926</td>\n",
       "      <td>89.485024</td>\n",
       "      <td>72.651482</td>\n",
       "      <td>69.798319</td>\n",
       "      <td>23.454120</td>\n",
       "      <td>22.533032</td>\n",
       "    </tr>\n",
       "    <tr>\n",
       "      <th>124</th>\n",
       "      <td>159.0</td>\n",
       "      <td>99.0</td>\n",
       "      <td>2.4</td>\n",
       "      <td>181.0</td>\n",
       "      <td>86.0</td>\n",
       "      <td>6.0</td>\n",
       "      <td>10.0</td>\n",
       "      <td>149.0</td>\n",
       "      <td>95.0</td>\n",
       "      <td>15.2</td>\n",
       "      <td>...</td>\n",
       "      <td>46.0</td>\n",
       "      <td>110.0</td>\n",
       "      <td>28.244785</td>\n",
       "      <td>30.647354</td>\n",
       "      <td>74.554248</td>\n",
       "      <td>72.389772</td>\n",
       "      <td>82.755215</td>\n",
       "      <td>80.352646</td>\n",
       "      <td>25.541733</td>\n",
       "      <td>24.800200</td>\n",
       "    </tr>\n",
       "    <tr>\n",
       "      <th>126</th>\n",
       "      <td>116.0</td>\n",
       "      <td>99.0</td>\n",
       "      <td>1.7</td>\n",
       "      <td>160.0</td>\n",
       "      <td>92.0</td>\n",
       "      <td>4.6</td>\n",
       "      <td>9.0</td>\n",
       "      <td>107.0</td>\n",
       "      <td>90.0</td>\n",
       "      <td>14.8</td>\n",
       "      <td>...</td>\n",
       "      <td>46.5</td>\n",
       "      <td>91.0</td>\n",
       "      <td>8.531546</td>\n",
       "      <td>13.933039</td>\n",
       "      <td>91.249697</td>\n",
       "      <td>85.709704</td>\n",
       "      <td>88.968454</td>\n",
       "      <td>83.566961</td>\n",
       "      <td>27.767065</td>\n",
       "      <td>26.081259</td>\n",
       "    </tr>\n",
       "    <tr>\n",
       "      <th>127</th>\n",
       "      <td>100.0</td>\n",
       "      <td>97.0</td>\n",
       "      <td>1.5</td>\n",
       "      <td>160.0</td>\n",
       "      <td>99.0</td>\n",
       "      <td>3.1</td>\n",
       "      <td>10.0</td>\n",
       "      <td>124.0</td>\n",
       "      <td>99.0</td>\n",
       "      <td>13.5</td>\n",
       "      <td>...</td>\n",
       "      <td>43.5</td>\n",
       "      <td>85.5</td>\n",
       "      <td>6.392673</td>\n",
       "      <td>9.594553</td>\n",
       "      <td>92.601073</td>\n",
       "      <td>88.895193</td>\n",
       "      <td>80.007327</td>\n",
       "      <td>76.805447</td>\n",
       "      <td>23.126179</td>\n",
       "      <td>22.200673</td>\n",
       "    </tr>\n",
       "    <tr>\n",
       "      <th>129</th>\n",
       "      <td>102.0</td>\n",
       "      <td>99.0</td>\n",
       "      <td>3.4</td>\n",
       "      <td>175.0</td>\n",
       "      <td>91.0</td>\n",
       "      <td>3.9</td>\n",
       "      <td>8.0</td>\n",
       "      <td>132.0</td>\n",
       "      <td>97.0</td>\n",
       "      <td>13.5</td>\n",
       "      <td>...</td>\n",
       "      <td>44.0</td>\n",
       "      <td>98.0</td>\n",
       "      <td>22.898710</td>\n",
       "      <td>20.736852</td>\n",
       "      <td>76.393082</td>\n",
       "      <td>78.621802</td>\n",
       "      <td>74.101290</td>\n",
       "      <td>76.263148</td>\n",
       "      <td>23.127022</td>\n",
       "      <td>23.801738</td>\n",
       "    </tr>\n",
       "  </tbody>\n",
       "</table>\n",
       "<p>82 rows × 44 columns</p>\n",
       "</div>"
      ],
      "text/plain": [
       "      W1Fc  W1Ox  W1Lac  W1tFc  W1tOx  W1tLac  W1tBorg  W1t5Fc  W1t5Ox  \\\n",
       "0    109.0  92.0    1.9  133.0   95.0     2.3      8.0    59.0    90.0   \n",
       "4     84.0  90.0    3.4  151.0   82.0     4.3      8.0    74.0    97.0   \n",
       "7    136.0  98.0    1.3  164.0   97.0     2.8     10.0   121.0    97.0   \n",
       "8    120.0  97.0    1.8  150.0   76.0     4.2      8.0   141.0    98.0   \n",
       "9     62.0  97.0    2.8  172.0   91.0     4.9      9.0   119.0    88.0   \n",
       "..     ...   ...    ...    ...    ...     ...      ...     ...     ...   \n",
       "123  103.0  98.0    2.8  186.0   93.0     5.0     10.0   140.0    98.0   \n",
       "124  159.0  99.0    2.4  181.0   86.0     6.0     10.0   149.0    95.0   \n",
       "126  116.0  99.0    1.7  160.0   92.0     4.6      9.0   107.0    90.0   \n",
       "127  100.0  97.0    1.5  160.0   99.0     3.1     10.0   124.0    99.0   \n",
       "129  102.0  99.0    3.4  175.0   91.0     3.9      8.0   132.0    97.0   \n",
       "\n",
       "     W1t5Lac  ...  PerCue  PerCin        FM1        FM2      %FFM1      %FFM2  \\\n",
       "0        4.7  ...    31.0    65.0   7.883768   8.432778  83.045661  81.864993   \n",
       "4        6.3  ...    36.0    67.5   6.914187  10.373099  87.869847  81.801580   \n",
       "7        9.0  ...    31.0    65.5   4.917710  10.003592  90.451048  80.575550   \n",
       "8        9.7  ...    35.5    68.5  11.222758  14.984471  81.602036  75.435294   \n",
       "9       10.8  ...    33.5    69.8  15.642411  16.063989  72.557174  71.817564   \n",
       "..       ...  ...     ...     ...        ...        ...        ...        ...   \n",
       "123     11.8  ...    41.0    80.5   5.348518   8.201681  93.142926  89.485024   \n",
       "124     15.2  ...    46.0   110.0  28.244785  30.647354  74.554248  72.389772   \n",
       "126     14.8  ...    46.5    91.0   8.531546  13.933039  91.249697  85.709704   \n",
       "127     13.5  ...    43.5    85.5   6.392673   9.594553  92.601073  88.895193   \n",
       "129     13.5  ...    44.0    98.0  22.898710  20.736852  76.393082  78.621802   \n",
       "\n",
       "          FFM1       FFM2      FFMI1      FFMI2  \n",
       "0    38.616232  38.067222  16.714090  16.476464  \n",
       "4    50.085813  46.626901  17.330731  16.133876  \n",
       "7    46.582290  41.496408  17.749691  15.811770  \n",
       "8    49.777242  46.015529  18.507303  17.108689  \n",
       "9    41.357589  40.936011  16.566892  16.398018  \n",
       "..         ...        ...        ...        ...  \n",
       "123  72.651482  69.798319  23.454120  22.533032  \n",
       "124  82.755215  80.352646  25.541733  24.800200  \n",
       "126  88.968454  83.566961  27.767065  26.081259  \n",
       "127  80.007327  76.805447  23.126179  22.200673  \n",
       "129  74.101290  76.263148  23.127022  23.801738  \n",
       "\n",
       "[82 rows x 44 columns]"
      ]
     },
     "execution_count": 39,
     "metadata": {},
     "output_type": "execute_result"
    }
   ],
   "source": [
    "handle_physical = pd.DataFrame()\n",
    "for i in df_merged:\n",
    "    if i.lower().startswith('w1m') or  i.lower().startswith('w2m') or i.lower().startswith('w1d')or i.lower().startswith('w2d')or i.lower().startswith('w1-2'):\n",
    "        pass\n",
    "    elif i.startswith('rs'): \n",
    "        pass\n",
    "    else:\n",
    "        handle_physical = handle_physical.append(df_merged[i])\n",
    "handle_physical = handle_physical.T\n",
    "handle_physical"
   ]
  },
  {
   "cell_type": "markdown",
   "metadata": {},
   "source": [
    "We check handle_physical columns:"
   ]
  },
  {
   "cell_type": "code",
   "execution_count": 40,
   "metadata": {
    "scrolled": true
   },
   "outputs": [
    {
     "data": {
      "text/plain": [
       "Index(['W1Fc', 'W1Ox', 'W1Lac', 'W1tFc', 'W1tOx', 'W1tLac', 'W1tBorg',\n",
       "       'W1t5Fc', 'W1t5Ox', 'W1t5Lac', 'W2tFc', 'W2tOx', 'W2tLac', 'W2tBorg',\n",
       "       'W2t5Fc', 'W2t5Ox', 'W2t5Lac', 'W2t10Fc', 'W2t10Ox', 'W2t10Lac',\n",
       "       'Sumat', 'Peso', 'Edad', 'Altura', 'tpcgrasa', 'PlieguePec',\n",
       "       'PliegueAx', 'PliegueTri', 'PliegueSub', 'PliegueAbd', 'PliegueSup',\n",
       "       'PliegueMus', 'tpcgrasa1', 'tpcgrasa2', 'PerCue', 'PerCin', 'FM1',\n",
       "       'FM2', '%FFM1', '%FFM2', 'FFM1', 'FFM2', 'FFMI1', 'FFMI2'],\n",
       "      dtype='object')"
      ]
     },
     "execution_count": 40,
     "metadata": {},
     "output_type": "execute_result"
    }
   ],
   "source": [
    "handle_physical.columns"
   ]
  },
  {
   "cell_type": "markdown",
   "metadata": {},
   "source": [
    "We have three kinds of fat percentage but it should be two of them, we look for the error:"
   ]
  },
  {
   "cell_type": "code",
   "execution_count": 41,
   "metadata": {
    "scrolled": true
   },
   "outputs": [
    {
     "data": {
      "text/html": [
       "<div>\n",
       "<style scoped>\n",
       "    .dataframe tbody tr th:only-of-type {\n",
       "        vertical-align: middle;\n",
       "    }\n",
       "\n",
       "    .dataframe tbody tr th {\n",
       "        vertical-align: top;\n",
       "    }\n",
       "\n",
       "    .dataframe thead th {\n",
       "        text-align: right;\n",
       "    }\n",
       "</style>\n",
       "<table border=\"1\" class=\"dataframe\">\n",
       "  <thead>\n",
       "    <tr style=\"text-align: right;\">\n",
       "      <th></th>\n",
       "      <th>tpcgrasa</th>\n",
       "      <th>tpcgrasa1</th>\n",
       "      <th>tpcgrasa2</th>\n",
       "    </tr>\n",
       "  </thead>\n",
       "  <tbody>\n",
       "    <tr>\n",
       "      <th>0</th>\n",
       "      <td>16.954339</td>\n",
       "      <td>16.954339</td>\n",
       "      <td>18.135007</td>\n",
       "    </tr>\n",
       "    <tr>\n",
       "      <th>4</th>\n",
       "      <td>12.130153</td>\n",
       "      <td>12.130153</td>\n",
       "      <td>18.198420</td>\n",
       "    </tr>\n",
       "    <tr>\n",
       "      <th>7</th>\n",
       "      <td>9.548952</td>\n",
       "      <td>9.548952</td>\n",
       "      <td>19.424450</td>\n",
       "    </tr>\n",
       "    <tr>\n",
       "      <th>8</th>\n",
       "      <td>18.397964</td>\n",
       "      <td>18.397964</td>\n",
       "      <td>24.564706</td>\n",
       "    </tr>\n",
       "    <tr>\n",
       "      <th>9</th>\n",
       "      <td>27.442826</td>\n",
       "      <td>27.442826</td>\n",
       "      <td>28.182436</td>\n",
       "    </tr>\n",
       "    <tr>\n",
       "      <th>...</th>\n",
       "      <td>...</td>\n",
       "      <td>...</td>\n",
       "      <td>...</td>\n",
       "    </tr>\n",
       "    <tr>\n",
       "      <th>123</th>\n",
       "      <td>6.857074</td>\n",
       "      <td>6.857074</td>\n",
       "      <td>10.514976</td>\n",
       "    </tr>\n",
       "    <tr>\n",
       "      <th>124</th>\n",
       "      <td>25.445752</td>\n",
       "      <td>25.445752</td>\n",
       "      <td>27.610228</td>\n",
       "    </tr>\n",
       "    <tr>\n",
       "      <th>126</th>\n",
       "      <td>8.750303</td>\n",
       "      <td>8.750303</td>\n",
       "      <td>14.290296</td>\n",
       "    </tr>\n",
       "    <tr>\n",
       "      <th>127</th>\n",
       "      <td>7.398927</td>\n",
       "      <td>7.398927</td>\n",
       "      <td>11.104807</td>\n",
       "    </tr>\n",
       "    <tr>\n",
       "      <th>129</th>\n",
       "      <td>23.606918</td>\n",
       "      <td>23.606918</td>\n",
       "      <td>21.378198</td>\n",
       "    </tr>\n",
       "  </tbody>\n",
       "</table>\n",
       "<p>82 rows × 3 columns</p>\n",
       "</div>"
      ],
      "text/plain": [
       "      tpcgrasa  tpcgrasa1  tpcgrasa2\n",
       "0    16.954339  16.954339  18.135007\n",
       "4    12.130153  12.130153  18.198420\n",
       "7     9.548952   9.548952  19.424450\n",
       "8    18.397964  18.397964  24.564706\n",
       "9    27.442826  27.442826  28.182436\n",
       "..         ...        ...        ...\n",
       "123   6.857074   6.857074  10.514976\n",
       "124  25.445752  25.445752  27.610228\n",
       "126   8.750303   8.750303  14.290296\n",
       "127   7.398927   7.398927  11.104807\n",
       "129  23.606918  23.606918  21.378198\n",
       "\n",
       "[82 rows x 3 columns]"
      ]
     },
     "execution_count": 41,
     "metadata": {},
     "output_type": "execute_result"
    }
   ],
   "source": [
    "handle_physical[['tpcgrasa','tpcgrasa1','tpcgrasa2']]"
   ]
  },
  {
   "cell_type": "markdown",
   "metadata": {},
   "source": [
    "'tpcgrasa' is the same as 'tpcgrasa1', so we eliminate 'tpcgrasa':"
   ]
  },
  {
   "cell_type": "code",
   "execution_count": 42,
   "metadata": {},
   "outputs": [],
   "source": [
    "handle_physical = handle_physical.drop(columns = ['tpcgrasa'])"
   ]
  },
  {
   "cell_type": "markdown",
   "metadata": {},
   "source": [
    "These are the physical predictors that will be considered for the modelling:"
   ]
  },
  {
   "cell_type": "code",
   "execution_count": 43,
   "metadata": {
    "scrolled": false
   },
   "outputs": [
    {
     "data": {
      "text/plain": [
       "Index(['W1Fc', 'W1Ox', 'W1Lac', 'W1tFc', 'W1tOx', 'W1tLac', 'W1tBorg',\n",
       "       'W1t5Fc', 'W1t5Ox', 'W1t5Lac', 'W2tFc', 'W2tOx', 'W2tLac', 'W2tBorg',\n",
       "       'W2t5Fc', 'W2t5Ox', 'W2t5Lac', 'W2t10Fc', 'W2t10Ox', 'W2t10Lac',\n",
       "       'Sumat', 'Peso', 'Edad', 'Altura', 'PlieguePec', 'PliegueAx',\n",
       "       'PliegueTri', 'PliegueSub', 'PliegueAbd', 'PliegueSup', 'PliegueMus',\n",
       "       'tpcgrasa1', 'tpcgrasa2', 'PerCue', 'PerCin', 'FM1', 'FM2', '%FFM1',\n",
       "       '%FFM2', 'FFM1', 'FFM2', 'FFMI1', 'FFMI2'],\n",
       "      dtype='object')"
      ]
     },
     "execution_count": 43,
     "metadata": {},
     "output_type": "execute_result"
    }
   ],
   "source": [
    "handle_physical.columns"
   ]
  },
  {
   "cell_type": "code",
   "execution_count": 44,
   "metadata": {},
   "outputs": [
    {
     "name": "stdout",
     "output_type": "stream",
     "text": [
      "Number of physical predictors: 43\n"
     ]
    }
   ],
   "source": [
    "print('Number of physical predictors:',len(handle_physical.columns))"
   ]
  },
  {
   "cell_type": "markdown",
   "metadata": {},
   "source": [
    "We export physical dataframe:"
   ]
  },
  {
   "cell_type": "code",
   "execution_count": 45,
   "metadata": {},
   "outputs": [],
   "source": [
    "handle_physical.to_csv('handle_physical_fusion_31_03_20.csv', sep=',') "
   ]
  },
  {
   "cell_type": "markdown",
   "metadata": {},
   "source": [
    "### Genetic predictors dataframe <a class=\"anchor\" id=\"4\"></a>"
   ]
  },
  {
   "cell_type": "markdown",
   "metadata": {},
   "source": [
    "* [Returning to the index of contents](#index)"
   ]
  },
  {
   "cell_type": "code",
   "execution_count": 46,
   "metadata": {},
   "outputs": [],
   "source": [
    "handle_genetic = pd.DataFrame()\n",
    "for i in df_merged:\n",
    "    if i.startswith('rs'): \n",
    "        handle_genetic = handle_genetic.append(df_merged[i])\n",
    "    else:\n",
    "        pass\n",
    "        \n",
    "handle_genetic = handle_genetic.T\n"
   ]
  },
  {
   "cell_type": "markdown",
   "metadata": {},
   "source": [
    "These will be the genetic predictors considered for the modelling:"
   ]
  },
  {
   "cell_type": "code",
   "execution_count": 47,
   "metadata": {
    "scrolled": true
   },
   "outputs": [
    {
     "name": "stdout",
     "output_type": "stream",
     "text": [
      "['rs10034661', 'rs10063949', 'rs1024610', 'rs1024611', 'rs1042713', 'rs1045485', 'rs10491003', 'rs1049305', 'rs1049434', 'rs10497520', 'rs1052700', 'rs1057972', 'rs10741657', 'rs10921078', 'rs10999516', 'rs11051548', 'rs1107946', 'rs11096663', 'rs1110976', 'rs11144134', 'rs11225395', 'rs11254363', 'rs1137100', 'rs1137101', 'rs1144393', 'rs11549465', 'rs11715829', 'rs1205', 'rs12077871', 'rs12150660', 'rs12255372', 'rs1260326', 'rs12613181', 'rs12934922', 'rs13146355', 'rs1330363', 'rs13946', 'rs1420100', 'rs1420106', 'rs143383', 'rs1451462', 'rs146797694', 'rs1481012', 'rs1516797', 'rs15705', 'rs1572312', 'rs1589241', 'rs1676486', 'rs16881983', 'rs16924573', 'rs17685', 'rs17782313', 'rs1799722', 'rs1799865', 'rs1799907', 'rs1799983', 'rs1800012', 'rs1800169', 'rs1800206', 'rs1800255', 'rs1800497', 'rs1800562', 'rs1800629', 'rs1800795', 'rs1800796', 'rs1800872', 'rs1801131', 'rs1801133', 'rs1801198', 'rs1801260', 'rs1801282', 'rs1805086', 'rs1815739', 'rs182549', 'rs1862513', 'rs1906058', 'rs1956197', 'rs198851', 'rs2010963', 'rs2016520', 'rs2040410', 'rs2070744', 'rs2071856', 'rs2104772', 'rs211302', 'rs222158', 'rs2228059', 'rs2241057', 'rs2253206', 'rs2276109', 'rs2296135', 'rs2304795', 'rs2368564', 'rs2395182', 'rs2470893', 'rs2472297', 'rs2515941', 'rs2542729', 'rs2593324', 'rs26802', 'rs2722171', 'rs28357094', 'rs28497577', 'rs2943641', 'rs3213221', 'rs3219177', 'rs3219178', 'rs331079', 'rs33972313', 'rs34124816', 'rs35628589', 'rs35767', 'rs3752135', 'rs3753841', 'rs3768816', 'rs3811647', 'rs3918358', 'rs3925584', 'rs405509', 'rs4072037', 'rs4073918', 'rs4253778', 'rs4343', 'rs4410790', 'rs4588', 'rs4654748', 'rs4675639', 'rs4680', 'rs4789932', 'rs4880', 'rs4919510', 'rs492602', 'rs4997', 'rs516115', 'rs5186', 'rs526934', 'rs5418', 'rs558129', 'rs602662', 'rs6053005', 'rs6133175', 'rs61752479', 'rs6265', 'rs646776', 'rs650108', 'rs6548238', 'rs6552828', 'rs6570913', 'rs659366', 'rs660339', 'rs6735530', 'rs679620', 'rs696217', 'rs6968554', 'rs699', 'rs7144481', 'rs716745', 'rs7181866', 'rs7191721', 'rs7292407', 'rs731236', 'rs7426114', 'rs7454108', 'rs7498665', 'rs7501331', 'rs7566605', 'rs7682', 'rs768539', 'rs7732671', 'rs7775228', 'rs7800944', 'rs7843014', 'rs7903146', 'rs7965584', 'rs8065080', 'rs8111989', 'rs8192678', 'rs824205', 'rs833070', 'rs884736', 'rs921943', 'rs9469199', 'rs970547', 'rs9902453', 'rs9939609']\n"
     ]
    }
   ],
   "source": [
    "print(list(handle_genetic.columns))"
   ]
  },
  {
   "cell_type": "code",
   "execution_count": 48,
   "metadata": {},
   "outputs": [
    {
     "name": "stdout",
     "output_type": "stream",
     "text": [
      "Number of physical predictors: 185\n"
     ]
    }
   ],
   "source": [
    "print('Number of physical predictors:',len(handle_genetic.columns))"
   ]
  },
  {
   "cell_type": "markdown",
   "metadata": {},
   "source": [
    "We export handle_genetic dataframe:"
   ]
  },
  {
   "cell_type": "code",
   "execution_count": 49,
   "metadata": {},
   "outputs": [],
   "source": [
    "handle_genetic.to_csv('handle_genetic_fusion_31_03_20.csv', sep=',') "
   ]
  },
  {
   "cell_type": "markdown",
   "metadata": {},
   "source": [
    "### Target variables dataframe <a class=\"anchor\" id=\"5\"></a>"
   ]
  },
  {
   "cell_type": "markdown",
   "metadata": {},
   "source": [
    "* [Returning to the index of contents](#index)"
   ]
  },
  {
   "cell_type": "code",
   "execution_count": 50,
   "metadata": {},
   "outputs": [],
   "source": [
    "handle_target = pd.DataFrame()\n",
    "for i in df_merged:\n",
    "    if i.lower().startswith('w1m') or  i.lower().startswith('w2m') or i.lower().startswith('w1d')or i.lower().startswith('w2d')or i.lower().startswith('w1-2'):\n",
    "        handle_target = handle_target.append(df_merged[i])\n",
    "    else:\n",
    "        pass\n",
    "handle_target = handle_target.T"
   ]
  },
  {
   "cell_type": "markdown",
   "metadata": {},
   "source": [
    "These will be the target variables considered for the modelling:"
   ]
  },
  {
   "cell_type": "code",
   "execution_count": 51,
   "metadata": {
    "scrolled": true
   },
   "outputs": [
    {
     "data": {
      "text/plain": [
       "Index(['W1MaxWAbs', 'W1MaxWRel', 'W1maxRPM', 'W1MedWAbs', 'W1MedWRel',\n",
       "       'W1medRPM', 'W2MaxWAbs', 'W2MaxWRel', 'W2maxRPM', 'W2MedWAbs',\n",
       "       'W2MedWRel', 'W2medRPM', 'W1MaxWRelFFM1', 'W1MaxWRelFFM2',\n",
       "       'W1MedWRelFFM1', 'W1MedWRelFFM2', 'W1DifWAbs', 'W1DifWRel',\n",
       "       'W1DifWRelFFM1', 'W1DifWRelFFM2', 'W2MaxWRelFFM1', 'W2MaxWRelFFM2',\n",
       "       'W2MedWRelFFM1', 'W2MedWRelFFM2', 'W2DifWAbs', 'W2DifWRel',\n",
       "       'W2DifWRelFFM1', 'W2DifWRelFFM2', 'W1-2MaxDifWAbs', 'W1-2MaxDifWRel',\n",
       "       'W1-2MaxDifWRelFFM1', 'W1-2MaxDifWRelFFM2', 'W1-2MedDifWAbs',\n",
       "       'W1-2MedDifWRel', 'W1-2MedDifWRelFFM1', 'W1-2MedDifWRelFFM2'],\n",
       "      dtype='object')"
      ]
     },
     "execution_count": 51,
     "metadata": {},
     "output_type": "execute_result"
    }
   ],
   "source": [
    "handle_target.columns"
   ]
  },
  {
   "cell_type": "code",
   "execution_count": 52,
   "metadata": {},
   "outputs": [
    {
     "name": "stdout",
     "output_type": "stream",
     "text": [
      "Number of target variables: 36\n"
     ]
    }
   ],
   "source": [
    "print('Number of target variables:',len(handle_target.columns))"
   ]
  },
  {
   "cell_type": "markdown",
   "metadata": {},
   "source": [
    "Some additional target variables were added to this set with the intention of studying the evolution of power during the Wingate test in relation to fat folds."
   ]
  },
  {
   "cell_type": "markdown",
   "metadata": {},
   "source": [
    "* Maximum power relative to  'Sumat' in Wingate 1: 'W1MaxWRelPli'"
   ]
  },
  {
   "cell_type": "code",
   "execution_count": 53,
   "metadata": {},
   "outputs": [],
   "source": [
    "handle_target['W1MaxWRelPli'] = handle_target['W1MaxWAbs'] / handle_physical['Sumat']"
   ]
  },
  {
   "cell_type": "markdown",
   "metadata": {},
   "source": [
    "* Mean power relative to 'Sumat' in Wingate 1: 'W1MedWRelPli'"
   ]
  },
  {
   "cell_type": "code",
   "execution_count": 54,
   "metadata": {},
   "outputs": [],
   "source": [
    "handle_target['W1MedWRelPli'] = handle_target['W1MedWAbs'] / handle_physical['Sumat']"
   ]
  },
  {
   "cell_type": "markdown",
   "metadata": {},
   "source": [
    "*  Maximum power relative to  'Sumat' in Wingate 2: W2MaxWRelPli"
   ]
  },
  {
   "cell_type": "code",
   "execution_count": 55,
   "metadata": {},
   "outputs": [],
   "source": [
    "handle_target['W2MaxWRelPli'] = handle_target['W2MaxWAbs'] / handle_physical['Sumat']"
   ]
  },
  {
   "cell_type": "markdown",
   "metadata": {},
   "source": [
    "* Mean power relative to 'Sumat' in Wingate 2: W2MedWRelPli"
   ]
  },
  {
   "cell_type": "code",
   "execution_count": 56,
   "metadata": {},
   "outputs": [],
   "source": [
    "handle_target['W2MedWRelPli'] = handle_target['W2MedWAbs'] / handle_physical['Sumat']"
   ]
  },
  {
   "cell_type": "code",
   "execution_count": 57,
   "metadata": {},
   "outputs": [
    {
     "data": {
      "text/plain": [
       "Index(['W1MaxWAbs', 'W1MaxWRel', 'W1maxRPM', 'W1MedWAbs', 'W1MedWRel',\n",
       "       'W1medRPM', 'W2MaxWAbs', 'W2MaxWRel', 'W2maxRPM', 'W2MedWAbs',\n",
       "       'W2MedWRel', 'W2medRPM', 'W1MaxWRelFFM1', 'W1MaxWRelFFM2',\n",
       "       'W1MedWRelFFM1', 'W1MedWRelFFM2', 'W1DifWAbs', 'W1DifWRel',\n",
       "       'W1DifWRelFFM1', 'W1DifWRelFFM2', 'W2MaxWRelFFM1', 'W2MaxWRelFFM2',\n",
       "       'W2MedWRelFFM1', 'W2MedWRelFFM2', 'W2DifWAbs', 'W2DifWRel',\n",
       "       'W2DifWRelFFM1', 'W2DifWRelFFM2', 'W1-2MaxDifWAbs', 'W1-2MaxDifWRel',\n",
       "       'W1-2MaxDifWRelFFM1', 'W1-2MaxDifWRelFFM2', 'W1-2MedDifWAbs',\n",
       "       'W1-2MedDifWRel', 'W1-2MedDifWRelFFM1', 'W1-2MedDifWRelFFM2',\n",
       "       'W1MaxWRelPli', 'W1MedWRelPli', 'W2MaxWRelPli', 'W2MedWRelPli'],\n",
       "      dtype='object')"
      ]
     },
     "execution_count": 57,
     "metadata": {},
     "output_type": "execute_result"
    }
   ],
   "source": [
    "handle_target.columns"
   ]
  },
  {
   "cell_type": "markdown",
   "metadata": {},
   "source": [
    "* Maximum fatigue rate between Wingates relative to 'Sumat': 'W1-W2MaxDifWRelPli'"
   ]
  },
  {
   "cell_type": "code",
   "execution_count": 58,
   "metadata": {},
   "outputs": [],
   "source": [
    "handle_target['W1-W2MaxDifWRelPli'] = handle_target['W1MaxWRelPli'] - handle_target['W2MaxWRelPli']"
   ]
  },
  {
   "cell_type": "markdown",
   "metadata": {},
   "source": [
    "* Mean fatigue rate between Wingates relative to 'Sumat': 'W1-W2MedDifWRelPli'"
   ]
  },
  {
   "cell_type": "code",
   "execution_count": 59,
   "metadata": {},
   "outputs": [],
   "source": [
    "handle_target['W1-W2MedDifWRelPli'] = handle_target['W1MedWRelPli'] - handle_target['W2MedWRelPli']"
   ]
  },
  {
   "cell_type": "code",
   "execution_count": 60,
   "metadata": {},
   "outputs": [
    {
     "data": {
      "text/plain": [
       "Index(['W1MaxWAbs', 'W1MaxWRel', 'W1maxRPM', 'W1MedWAbs', 'W1MedWRel',\n",
       "       'W1medRPM', 'W2MaxWAbs', 'W2MaxWRel', 'W2maxRPM', 'W2MedWAbs',\n",
       "       'W2MedWRel', 'W2medRPM', 'W1MaxWRelFFM1', 'W1MaxWRelFFM2',\n",
       "       'W1MedWRelFFM1', 'W1MedWRelFFM2', 'W1DifWAbs', 'W1DifWRel',\n",
       "       'W1DifWRelFFM1', 'W1DifWRelFFM2', 'W2MaxWRelFFM1', 'W2MaxWRelFFM2',\n",
       "       'W2MedWRelFFM1', 'W2MedWRelFFM2', 'W2DifWAbs', 'W2DifWRel',\n",
       "       'W2DifWRelFFM1', 'W2DifWRelFFM2', 'W1-2MaxDifWAbs', 'W1-2MaxDifWRel',\n",
       "       'W1-2MaxDifWRelFFM1', 'W1-2MaxDifWRelFFM2', 'W1-2MedDifWAbs',\n",
       "       'W1-2MedDifWRel', 'W1-2MedDifWRelFFM1', 'W1-2MedDifWRelFFM2',\n",
       "       'W1MaxWRelPli', 'W1MedWRelPli', 'W2MaxWRelPli', 'W2MedWRelPli',\n",
       "       'W1-W2MaxDifWRelPli', 'W1-W2MedDifWRelPli'],\n",
       "      dtype='object')"
      ]
     },
     "execution_count": 60,
     "metadata": {},
     "output_type": "execute_result"
    }
   ],
   "source": [
    "handle_target.columns"
   ]
  },
  {
   "cell_type": "markdown",
   "metadata": {},
   "source": [
    "We export target variables dataframe:"
   ]
  },
  {
   "cell_type": "code",
   "execution_count": 61,
   "metadata": {},
   "outputs": [],
   "source": [
    "handle_target.to_csv('handle_target_fusion_31_03_20.csv',sep = ',')"
   ]
  },
  {
   "cell_type": "markdown",
   "metadata": {},
   "source": [
    "## References <a class=\"anchor\" id=\"ref\"></a>"
   ]
  },
  {
   "cell_type": "markdown",
   "metadata": {},
   "source": [
    "* [Returning to the index of contents](#index)"
   ]
  },
  {
   "cell_type": "markdown",
   "metadata": {},
   "source": [
    "[1] Koehrsen, W. (2018) Missing values. Available at: <a href=\"https://github.com/WillKoehrsen/machine-learning-project-walkthrough/blob/master/Machine Learning Project Part 1.ipynb\">https://github.com/WillKoehrsen/machine-learning-project-walkthrough/blob/master/Machine Learning Project Part 1.ipynb</a> (Accessed: March 31, 2020).\n",
    "<a class=\"anchor\" id=\"koehrsen2018\"></a>"
   ]
  },
  {
   "cell_type": "code",
   "execution_count": null,
   "metadata": {},
   "outputs": [],
   "source": []
  }
 ],
 "metadata": {
  "kernelspec": {
   "display_name": "Python 3",
   "language": "python",
   "name": "python3"
  },
  "language_info": {
   "codemirror_mode": {
    "name": "ipython",
    "version": 3
   },
   "file_extension": ".py",
   "mimetype": "text/x-python",
   "name": "python",
   "nbconvert_exporter": "python",
   "pygments_lexer": "ipython3",
   "version": "3.6.10"
  }
 },
 "nbformat": 4,
 "nbformat_minor": 4
}
