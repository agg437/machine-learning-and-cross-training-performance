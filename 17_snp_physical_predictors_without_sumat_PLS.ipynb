{
 "cells": [
  {
   "cell_type": "markdown",
   "metadata": {},
   "source": [
    "# <p style=\"text-align: justify;\"><div class=\"alert alert-info\" role=\"alert\">Multiple Linear Regression with genetic and physical predictors without Sumat predictor coupled with Partial Least Squares</div></p>\n",
    "\n",
    "## `Ana González Guerra` \n",
    "\n",
    "### ` Student of the master in Data Science at the University of Cantabria` "
   ]
  },
  {
   "cell_type": "markdown",
   "metadata": {},
   "source": [
    "## Index<a class=\"anchor\" id=\"index\"></a>\n",
    "* [Loading data](#1)\n",
    "    * [Genetic predictors](#2)\n",
    "    * [Physical predictors](#9)\n",
    "    * [Target variables](#3)\n",
    "* [Train/test partition](#4)\n",
    "* [Multiple Linear Regression coupled with PCA](#5)\n",
    "    * [Training the model](#6)\n",
    "    * [Cross-validation](#7)\n",
    "        * [RMSE error in the test prediction after cross-validation](#8)\n",
    "   "
   ]
  },
  {
   "cell_type": "markdown",
   "metadata": {},
   "source": [
    "## Loading data <a class=\"anchor\" id =\"1\" ></a>\n",
    "\n",
    "* [Returning to the index of contents](#index)"
   ]
  },
  {
   "cell_type": "markdown",
   "metadata": {},
   "source": [
    "### Genetic predictors <a class=\"anchor\" id=\"2\"></a>\n",
    "\n",
    "* [Returning to the index of contents](#index)"
   ]
  },
  {
   "cell_type": "markdown",
   "metadata": {},
   "source": [
    "We use genetic predictors coded based on log-additive model codifying the states of the predictors alphabetically with 1, 2 or 3."
   ]
  },
  {
   "cell_type": "code",
   "execution_count": 1,
   "metadata": {},
   "outputs": [
    {
     "data": {
      "text/html": [
       "<table>\n",
       "<thead><tr><th scope=col>rs10034661</th><th scope=col>rs10063949</th><th scope=col>rs1024610</th><th scope=col>rs1024611</th><th scope=col>rs1042713</th><th scope=col>rs1045485</th><th scope=col>rs10491003</th><th scope=col>rs1049305</th><th scope=col>rs1049434</th><th scope=col>rs10497520</th><th scope=col>...</th><th scope=col>rs8111989</th><th scope=col>rs8192678</th><th scope=col>rs824205</th><th scope=col>rs833070</th><th scope=col>rs884736</th><th scope=col>rs921943</th><th scope=col>rs9469199</th><th scope=col>rs970547</th><th scope=col>rs9902453</th><th scope=col>rs9939609</th></tr></thead>\n",
       "<tbody>\n",
       "\t<tr><td>3  </td><td>2  </td><td>2  </td><td>3  </td><td>1  </td><td>2  </td><td>3  </td><td>2  </td><td>2  </td><td>2  </td><td>...</td><td>2  </td><td>2  </td><td>2  </td><td>2  </td><td>2  </td><td>2  </td><td>2  </td><td>1  </td><td>2  </td><td>1  </td></tr>\n",
       "\t<tr><td>3  </td><td>2  </td><td>2  </td><td>2  </td><td>2  </td><td>3  </td><td>3  </td><td>3  </td><td>1  </td><td>1  </td><td>...</td><td>2  </td><td>2  </td><td>1  </td><td>2  </td><td>2  </td><td>2  </td><td>3  </td><td>2  </td><td>2  </td><td>3  </td></tr>\n",
       "\t<tr><td>3  </td><td>3  </td><td>2  </td><td>3  </td><td>2  </td><td>3  </td><td>3  </td><td>2  </td><td>1  </td><td>1  </td><td>...</td><td>2  </td><td>2  </td><td>2  </td><td>2  </td><td>2  </td><td>1  </td><td>3  </td><td>2  </td><td>2  </td><td>1  </td></tr>\n",
       "\t<tr><td>3  </td><td>3  </td><td>3  </td><td>2  </td><td>2  </td><td>3  </td><td>3  </td><td>1  </td><td>2  </td><td>1  </td><td>...</td><td>2  </td><td>2  </td><td>2  </td><td>2  </td><td>2  </td><td>2  </td><td>3  </td><td>1  </td><td>1  </td><td>1  </td></tr>\n",
       "\t<tr><td>3  </td><td>2  </td><td>3  </td><td>2  </td><td>3  </td><td>1  </td><td>3  </td><td>2  </td><td>3  </td><td>1  </td><td>...</td><td>2  </td><td>2  </td><td>2  </td><td>3  </td><td>3  </td><td>3  </td><td>3  </td><td>1  </td><td>2  </td><td>2  </td></tr>\n",
       "\t<tr><td>3  </td><td>2  </td><td>3  </td><td>2  </td><td>2  </td><td>3  </td><td>3  </td><td>2  </td><td>2  </td><td>1  </td><td>...</td><td>2  </td><td>2  </td><td>2  </td><td>3  </td><td>2  </td><td>2  </td><td>3  </td><td>2  </td><td>3  </td><td>3  </td></tr>\n",
       "</tbody>\n",
       "</table>\n"
      ],
      "text/latex": [
       "\\begin{tabular}{r|llllllllllllllllllllllllllllllllllllllllllllllllllllllllllllllllllllllllllllllllllllllllllllllllllllllllllllllllllllllllllllllllllllllllllllllllllllllllllllllllllllllllllllllllll}\n",
       " rs10034661 & rs10063949 & rs1024610 & rs1024611 & rs1042713 & rs1045485 & rs10491003 & rs1049305 & rs1049434 & rs10497520 & ... & rs8111989 & rs8192678 & rs824205 & rs833070 & rs884736 & rs921943 & rs9469199 & rs970547 & rs9902453 & rs9939609\\\\\n",
       "\\hline\n",
       "\t 3   & 2   & 2   & 3   & 1   & 2   & 3   & 2   & 2   & 2   & ... & 2   & 2   & 2   & 2   & 2   & 2   & 2   & 1   & 2   & 1  \\\\\n",
       "\t 3   & 2   & 2   & 2   & 2   & 3   & 3   & 3   & 1   & 1   & ... & 2   & 2   & 1   & 2   & 2   & 2   & 3   & 2   & 2   & 3  \\\\\n",
       "\t 3   & 3   & 2   & 3   & 2   & 3   & 3   & 2   & 1   & 1   & ... & 2   & 2   & 2   & 2   & 2   & 1   & 3   & 2   & 2   & 1  \\\\\n",
       "\t 3   & 3   & 3   & 2   & 2   & 3   & 3   & 1   & 2   & 1   & ... & 2   & 2   & 2   & 2   & 2   & 2   & 3   & 1   & 1   & 1  \\\\\n",
       "\t 3   & 2   & 3   & 2   & 3   & 1   & 3   & 2   & 3   & 1   & ... & 2   & 2   & 2   & 3   & 3   & 3   & 3   & 1   & 2   & 2  \\\\\n",
       "\t 3   & 2   & 3   & 2   & 2   & 3   & 3   & 2   & 2   & 1   & ... & 2   & 2   & 2   & 3   & 2   & 2   & 3   & 2   & 3   & 3  \\\\\n",
       "\\end{tabular}\n"
      ],
      "text/markdown": [
       "\n",
       "| rs10034661 | rs10063949 | rs1024610 | rs1024611 | rs1042713 | rs1045485 | rs10491003 | rs1049305 | rs1049434 | rs10497520 | ... | rs8111989 | rs8192678 | rs824205 | rs833070 | rs884736 | rs921943 | rs9469199 | rs970547 | rs9902453 | rs9939609 |\n",
       "|---|---|---|---|---|---|---|---|---|---|---|---|---|---|---|---|---|---|---|---|---|\n",
       "| 3   | 2   | 2   | 3   | 1   | 2   | 3   | 2   | 2   | 2   | ... | 2   | 2   | 2   | 2   | 2   | 2   | 2   | 1   | 2   | 1   |\n",
       "| 3   | 2   | 2   | 2   | 2   | 3   | 3   | 3   | 1   | 1   | ... | 2   | 2   | 1   | 2   | 2   | 2   | 3   | 2   | 2   | 3   |\n",
       "| 3   | 3   | 2   | 3   | 2   | 3   | 3   | 2   | 1   | 1   | ... | 2   | 2   | 2   | 2   | 2   | 1   | 3   | 2   | 2   | 1   |\n",
       "| 3   | 3   | 3   | 2   | 2   | 3   | 3   | 1   | 2   | 1   | ... | 2   | 2   | 2   | 2   | 2   | 2   | 3   | 1   | 1   | 1   |\n",
       "| 3   | 2   | 3   | 2   | 3   | 1   | 3   | 2   | 3   | 1   | ... | 2   | 2   | 2   | 3   | 3   | 3   | 3   | 1   | 2   | 2   |\n",
       "| 3   | 2   | 3   | 2   | 2   | 3   | 3   | 2   | 2   | 1   | ... | 2   | 2   | 2   | 3   | 2   | 2   | 3   | 2   | 3   | 3   |\n",
       "\n"
      ],
      "text/plain": [
       "  rs10034661 rs10063949 rs1024610 rs1024611 rs1042713 rs1045485 rs10491003\n",
       "1 3          2          2         3         1         2         3         \n",
       "2 3          2          2         2         2         3         3         \n",
       "3 3          3          2         3         2         3         3         \n",
       "4 3          3          3         2         2         3         3         \n",
       "5 3          2          3         2         3         1         3         \n",
       "6 3          2          3         2         2         3         3         \n",
       "  rs1049305 rs1049434 rs10497520 ... rs8111989 rs8192678 rs824205 rs833070\n",
       "1 2         2         2          ... 2         2         2        2       \n",
       "2 3         1         1          ... 2         2         1        2       \n",
       "3 2         1         1          ... 2         2         2        2       \n",
       "4 1         2         1          ... 2         2         2        2       \n",
       "5 2         3         1          ... 2         2         2        3       \n",
       "6 2         2         1          ... 2         2         2        3       \n",
       "  rs884736 rs921943 rs9469199 rs970547 rs9902453 rs9939609\n",
       "1 2        2        2         1        2         1        \n",
       "2 2        2        3         2        2         3        \n",
       "3 2        1        3         2        2         1        \n",
       "4 2        2        3         1        1         1        \n",
       "5 3        3        3         1        2         2        \n",
       "6 2        2        3         2        3         3        "
      ]
     },
     "metadata": {},
     "output_type": "display_data"
    }
   ],
   "source": [
    "handle_genetic <-  read.csv('handle_genetic_cod_28_04_20.csv')\n",
    "\n",
    "head(handle_genetic)"
   ]
  },
  {
   "cell_type": "markdown",
   "metadata": {},
   "source": [
    "### Physical predictors <a class=\"anchor\" id=\"9\"></a>"
   ]
  },
  {
   "cell_type": "markdown",
   "metadata": {},
   "source": [
    "* [Returning to the index of contents](#index)"
   ]
  },
  {
   "cell_type": "code",
   "execution_count": 2,
   "metadata": {},
   "outputs": [
    {
     "data": {
      "text/html": [
       "<table>\n",
       "<thead><tr><th scope=col>W1Fc</th><th scope=col>W1Ox</th><th scope=col>W1Lac</th><th scope=col>W1tFc</th><th scope=col>W1tOx</th><th scope=col>W1tLac</th><th scope=col>W1tBorg</th><th scope=col>W1t5Fc</th><th scope=col>W1t5Ox</th><th scope=col>W1t5Lac</th><th scope=col>...</th><th scope=col>PlieguePec</th><th scope=col>PliegueAx</th><th scope=col>PliegueTri</th><th scope=col>PliegueSub</th><th scope=col>PliegueAbd</th><th scope=col>PliegueSup</th><th scope=col>tpcgrasa1</th><th scope=col>tpcgrasa2</th><th scope=col>PerCue</th><th scope=col>PerCin</th></tr></thead>\n",
       "<tbody>\n",
       "\t<tr><td> 0.09690101</td><td>-0.3612723 </td><td>-0.2759823 </td><td>-1.45702474</td><td> 0.54870046</td><td>-1.5817296 </td><td>-1.2280957 </td><td>-3.38052307</td><td>-0.7215023 </td><td>-2.7847814 </td><td>...        </td><td>-0.8757439 </td><td>-0.8951047 </td><td> 1.0159821 </td><td>-1.0183111 </td><td>-1.2665456 </td><td>-1.0811267 </td><td> 0.37659536</td><td>0.02830971 </td><td>-2.2056212 </td><td>-1.727334  </td></tr>\n",
       "\t<tr><td>-1.03822515</td><td>-0.6698591 </td><td> 1.5789808 </td><td>-0.61695891</td><td>-1.07606258</td><td> 0.2939295 </td><td>-1.2280957 </td><td>-2.55958657</td><td> 0.2886009 </td><td>-2.1390350 </td><td>...        </td><td>-1.0373448 </td><td>-1.0624242 </td><td>-0.8734794 </td><td>-1.2829706 </td><td>-1.3202312 </td><td>-1.1361661 </td><td>-0.43175736</td><td>0.03866565 </td><td>-0.8281578 </td><td>-1.462643  </td></tr>\n",
       "\t<tr><td> 1.32283727</td><td> 0.5644880 </td><td>-1.0179676 </td><td>-0.01024471</td><td> 0.79866401</td><td>-1.1128148 </td><td> 0.8699011 </td><td> 0.01268113</td><td> 0.2886009 </td><td>-1.0493379 </td><td>...        </td><td>-1.1038863 </td><td>-1.2619206 </td><td>-1.1918942 </td><td>-1.5390928 </td><td>-1.4276024 </td><td>-1.4113634 </td><td>-0.86426995</td><td>0.23888577 </td><td>-2.2056212 </td><td>-1.674395  </td></tr>\n",
       "\t<tr><td> 0.59635652</td><td> 0.4101946 </td><td>-0.3996465 </td><td>-0.66362924</td><td>-1.82595321</td><td> 0.2001465 </td><td>-1.2280957 </td><td> 1.10726313</td><td> 0.4329014 </td><td>-0.7668239 </td><td>...        </td><td>-0.8472261 </td><td>-0.6537784 </td><td> 0.3040546 </td><td>-0.6255905 </td><td>-0.6798385 </td><td>-0.4595045 </td><td> 0.61849286</td><td>1.07832946 </td><td>-0.9659042 </td><td>-1.356766  </td></tr>\n",
       "\t<tr><td>-2.03713617</td><td> 0.4101946 </td><td> 0.8369956 </td><td> 0.36311788</td><td> 0.04877337</td><td> 0.8566272 </td><td>-0.1790973 </td><td>-0.09677707</td><td>-1.0101032 </td><td>-0.3228732 </td><td>...        </td><td> 1.2440796 </td><td> 0.8038323 </td><td> 1.8540739 </td><td> 0.8855301 </td><td> 1.0917868 </td><td> 1.2013922 </td><td> 2.13407275</td><td>1.66913269 </td><td>-1.5168895 </td><td>-1.219127  </td></tr>\n",
       "\t<tr><td>-0.17552926</td><td> 0.7187814 </td><td> 0.3423387 </td><td> 0.45645853</td><td> 0.67368224</td><td>-0.3625512 </td><td> 0.8699011 </td><td>-0.31569347</td><td> 0.5772018 </td><td>-0.9282605 </td><td>...        </td><td>-0.8092024 </td><td>-0.8564925 </td><td> 0.4933012 </td><td>-0.7963386 </td><td>-1.1169928 </td><td>-0.8577312 </td><td>-0.07384767</td><td>0.33604799 </td><td>-1.1036505 </td><td>-1.303828  </td></tr>\n",
       "</tbody>\n",
       "</table>\n"
      ],
      "text/latex": [
       "\\begin{tabular}{r|llllllllllllllllllllllllllllllllll}\n",
       " W1Fc & W1Ox & W1Lac & W1tFc & W1tOx & W1tLac & W1tBorg & W1t5Fc & W1t5Ox & W1t5Lac & ... & PlieguePec & PliegueAx & PliegueTri & PliegueSub & PliegueAbd & PliegueSup & tpcgrasa1 & tpcgrasa2 & PerCue & PerCin\\\\\n",
       "\\hline\n",
       "\t  0.09690101 & -0.3612723  & -0.2759823  & -1.45702474 &  0.54870046 & -1.5817296  & -1.2280957  & -3.38052307 & -0.7215023  & -2.7847814  & ...         & -0.8757439  & -0.8951047  &  1.0159821  & -1.0183111  & -1.2665456  & -1.0811267  &  0.37659536 & 0.02830971  & -2.2056212  & -1.727334  \\\\\n",
       "\t -1.03822515 & -0.6698591  &  1.5789808  & -0.61695891 & -1.07606258 &  0.2939295  & -1.2280957  & -2.55958657 &  0.2886009  & -2.1390350  & ...         & -1.0373448  & -1.0624242  & -0.8734794  & -1.2829706  & -1.3202312  & -1.1361661  & -0.43175736 & 0.03866565  & -0.8281578  & -1.462643  \\\\\n",
       "\t  1.32283727 &  0.5644880  & -1.0179676  & -0.01024471 &  0.79866401 & -1.1128148  &  0.8699011  &  0.01268113 &  0.2886009  & -1.0493379  & ...         & -1.1038863  & -1.2619206  & -1.1918942  & -1.5390928  & -1.4276024  & -1.4113634  & -0.86426995 & 0.23888577  & -2.2056212  & -1.674395  \\\\\n",
       "\t  0.59635652 &  0.4101946  & -0.3996465  & -0.66362924 & -1.82595321 &  0.2001465  & -1.2280957  &  1.10726313 &  0.4329014  & -0.7668239  & ...         & -0.8472261  & -0.6537784  &  0.3040546  & -0.6255905  & -0.6798385  & -0.4595045  &  0.61849286 & 1.07832946  & -0.9659042  & -1.356766  \\\\\n",
       "\t -2.03713617 &  0.4101946  &  0.8369956  &  0.36311788 &  0.04877337 &  0.8566272  & -0.1790973  & -0.09677707 & -1.0101032  & -0.3228732  & ...         &  1.2440796  &  0.8038323  &  1.8540739  &  0.8855301  &  1.0917868  &  1.2013922  &  2.13407275 & 1.66913269  & -1.5168895  & -1.219127  \\\\\n",
       "\t -0.17552926 &  0.7187814  &  0.3423387  &  0.45645853 &  0.67368224 & -0.3625512  &  0.8699011  & -0.31569347 &  0.5772018  & -0.9282605  & ...         & -0.8092024  & -0.8564925  &  0.4933012  & -0.7963386  & -1.1169928  & -0.8577312  & -0.07384767 & 0.33604799  & -1.1036505  & -1.303828  \\\\\n",
       "\\end{tabular}\n"
      ],
      "text/markdown": [
       "\n",
       "| W1Fc | W1Ox | W1Lac | W1tFc | W1tOx | W1tLac | W1tBorg | W1t5Fc | W1t5Ox | W1t5Lac | ... | PlieguePec | PliegueAx | PliegueTri | PliegueSub | PliegueAbd | PliegueSup | tpcgrasa1 | tpcgrasa2 | PerCue | PerCin |\n",
       "|---|---|---|---|---|---|---|---|---|---|---|---|---|---|---|---|---|---|---|---|---|\n",
       "|  0.09690101 | -0.3612723  | -0.2759823  | -1.45702474 |  0.54870046 | -1.5817296  | -1.2280957  | -3.38052307 | -0.7215023  | -2.7847814  | ...         | -0.8757439  | -0.8951047  |  1.0159821  | -1.0183111  | -1.2665456  | -1.0811267  |  0.37659536 | 0.02830971  | -2.2056212  | -1.727334   |\n",
       "| -1.03822515 | -0.6698591  |  1.5789808  | -0.61695891 | -1.07606258 |  0.2939295  | -1.2280957  | -2.55958657 |  0.2886009  | -2.1390350  | ...         | -1.0373448  | -1.0624242  | -0.8734794  | -1.2829706  | -1.3202312  | -1.1361661  | -0.43175736 | 0.03866565  | -0.8281578  | -1.462643   |\n",
       "|  1.32283727 |  0.5644880  | -1.0179676  | -0.01024471 |  0.79866401 | -1.1128148  |  0.8699011  |  0.01268113 |  0.2886009  | -1.0493379  | ...         | -1.1038863  | -1.2619206  | -1.1918942  | -1.5390928  | -1.4276024  | -1.4113634  | -0.86426995 | 0.23888577  | -2.2056212  | -1.674395   |\n",
       "|  0.59635652 |  0.4101946  | -0.3996465  | -0.66362924 | -1.82595321 |  0.2001465  | -1.2280957  |  1.10726313 |  0.4329014  | -0.7668239  | ...         | -0.8472261  | -0.6537784  |  0.3040546  | -0.6255905  | -0.6798385  | -0.4595045  |  0.61849286 | 1.07832946  | -0.9659042  | -1.356766   |\n",
       "| -2.03713617 |  0.4101946  |  0.8369956  |  0.36311788 |  0.04877337 |  0.8566272  | -0.1790973  | -0.09677707 | -1.0101032  | -0.3228732  | ...         |  1.2440796  |  0.8038323  |  1.8540739  |  0.8855301  |  1.0917868  |  1.2013922  |  2.13407275 | 1.66913269  | -1.5168895  | -1.219127   |\n",
       "| -0.17552926 |  0.7187814  |  0.3423387  |  0.45645853 |  0.67368224 | -0.3625512  |  0.8699011  | -0.31569347 |  0.5772018  | -0.9282605  | ...         | -0.8092024  | -0.8564925  |  0.4933012  | -0.7963386  | -1.1169928  | -0.8577312  | -0.07384767 | 0.33604799  | -1.1036505  | -1.303828   |\n",
       "\n"
      ],
      "text/plain": [
       "  W1Fc        W1Ox       W1Lac      W1tFc       W1tOx       W1tLac    \n",
       "1  0.09690101 -0.3612723 -0.2759823 -1.45702474  0.54870046 -1.5817296\n",
       "2 -1.03822515 -0.6698591  1.5789808 -0.61695891 -1.07606258  0.2939295\n",
       "3  1.32283727  0.5644880 -1.0179676 -0.01024471  0.79866401 -1.1128148\n",
       "4  0.59635652  0.4101946 -0.3996465 -0.66362924 -1.82595321  0.2001465\n",
       "5 -2.03713617  0.4101946  0.8369956  0.36311788  0.04877337  0.8566272\n",
       "6 -0.17552926  0.7187814  0.3423387  0.45645853  0.67368224 -0.3625512\n",
       "  W1tBorg    W1t5Fc      W1t5Ox     W1t5Lac    ... PlieguePec PliegueAx \n",
       "1 -1.2280957 -3.38052307 -0.7215023 -2.7847814 ... -0.8757439 -0.8951047\n",
       "2 -1.2280957 -2.55958657  0.2886009 -2.1390350 ... -1.0373448 -1.0624242\n",
       "3  0.8699011  0.01268113  0.2886009 -1.0493379 ... -1.1038863 -1.2619206\n",
       "4 -1.2280957  1.10726313  0.4329014 -0.7668239 ... -0.8472261 -0.6537784\n",
       "5 -0.1790973 -0.09677707 -1.0101032 -0.3228732 ...  1.2440796  0.8038323\n",
       "6  0.8699011 -0.31569347  0.5772018 -0.9282605 ... -0.8092024 -0.8564925\n",
       "  PliegueTri PliegueSub PliegueAbd PliegueSup tpcgrasa1   tpcgrasa2  PerCue    \n",
       "1  1.0159821 -1.0183111 -1.2665456 -1.0811267  0.37659536 0.02830971 -2.2056212\n",
       "2 -0.8734794 -1.2829706 -1.3202312 -1.1361661 -0.43175736 0.03866565 -0.8281578\n",
       "3 -1.1918942 -1.5390928 -1.4276024 -1.4113634 -0.86426995 0.23888577 -2.2056212\n",
       "4  0.3040546 -0.6255905 -0.6798385 -0.4595045  0.61849286 1.07832946 -0.9659042\n",
       "5  1.8540739  0.8855301  1.0917868  1.2013922  2.13407275 1.66913269 -1.5168895\n",
       "6  0.4933012 -0.7963386 -1.1169928 -0.8577312 -0.07384767 0.33604799 -1.1036505\n",
       "  PerCin   \n",
       "1 -1.727334\n",
       "2 -1.462643\n",
       "3 -1.674395\n",
       "4 -1.356766\n",
       "5 -1.219127\n",
       "6 -1.303828"
      ]
     },
     "metadata": {},
     "output_type": "display_data"
    },
    {
     "data": {
      "text/html": [
       "<ol class=list-inline>\n",
       "\t<li>'W1Fc'</li>\n",
       "\t<li>'W1Ox'</li>\n",
       "\t<li>'W1Lac'</li>\n",
       "\t<li>'W1tFc'</li>\n",
       "\t<li>'W1tOx'</li>\n",
       "\t<li>'W1tLac'</li>\n",
       "\t<li>'W1tBorg'</li>\n",
       "\t<li>'W1t5Fc'</li>\n",
       "\t<li>'W1t5Ox'</li>\n",
       "\t<li>'W1t5Lac'</li>\n",
       "\t<li>'W2tFc'</li>\n",
       "\t<li>'W2tOx'</li>\n",
       "\t<li>'W2tLac'</li>\n",
       "\t<li>'W2tBorg'</li>\n",
       "\t<li>'W2t5Fc'</li>\n",
       "\t<li>'W2t5Ox'</li>\n",
       "\t<li>'W2t5Lac'</li>\n",
       "\t<li>'W2t10Fc'</li>\n",
       "\t<li>'W2t10Ox'</li>\n",
       "\t<li>'W2t10Lac'</li>\n",
       "\t<li>'Sumat'</li>\n",
       "\t<li>'Peso'</li>\n",
       "\t<li>'Edad'</li>\n",
       "\t<li>'Altura'</li>\n",
       "\t<li>'PlieguePec'</li>\n",
       "\t<li>'PliegueAx'</li>\n",
       "\t<li>'PliegueTri'</li>\n",
       "\t<li>'PliegueSub'</li>\n",
       "\t<li>'PliegueAbd'</li>\n",
       "\t<li>'PliegueSup'</li>\n",
       "\t<li>'tpcgrasa1'</li>\n",
       "\t<li>'tpcgrasa2'</li>\n",
       "\t<li>'PerCue'</li>\n",
       "\t<li>'PerCin'</li>\n",
       "</ol>\n"
      ],
      "text/latex": [
       "\\begin{enumerate*}\n",
       "\\item 'W1Fc'\n",
       "\\item 'W1Ox'\n",
       "\\item 'W1Lac'\n",
       "\\item 'W1tFc'\n",
       "\\item 'W1tOx'\n",
       "\\item 'W1tLac'\n",
       "\\item 'W1tBorg'\n",
       "\\item 'W1t5Fc'\n",
       "\\item 'W1t5Ox'\n",
       "\\item 'W1t5Lac'\n",
       "\\item 'W2tFc'\n",
       "\\item 'W2tOx'\n",
       "\\item 'W2tLac'\n",
       "\\item 'W2tBorg'\n",
       "\\item 'W2t5Fc'\n",
       "\\item 'W2t5Ox'\n",
       "\\item 'W2t5Lac'\n",
       "\\item 'W2t10Fc'\n",
       "\\item 'W2t10Ox'\n",
       "\\item 'W2t10Lac'\n",
       "\\item 'Sumat'\n",
       "\\item 'Peso'\n",
       "\\item 'Edad'\n",
       "\\item 'Altura'\n",
       "\\item 'PlieguePec'\n",
       "\\item 'PliegueAx'\n",
       "\\item 'PliegueTri'\n",
       "\\item 'PliegueSub'\n",
       "\\item 'PliegueAbd'\n",
       "\\item 'PliegueSup'\n",
       "\\item 'tpcgrasa1'\n",
       "\\item 'tpcgrasa2'\n",
       "\\item 'PerCue'\n",
       "\\item 'PerCin'\n",
       "\\end{enumerate*}\n"
      ],
      "text/markdown": [
       "1. 'W1Fc'\n",
       "2. 'W1Ox'\n",
       "3. 'W1Lac'\n",
       "4. 'W1tFc'\n",
       "5. 'W1tOx'\n",
       "6. 'W1tLac'\n",
       "7. 'W1tBorg'\n",
       "8. 'W1t5Fc'\n",
       "9. 'W1t5Ox'\n",
       "10. 'W1t5Lac'\n",
       "11. 'W2tFc'\n",
       "12. 'W2tOx'\n",
       "13. 'W2tLac'\n",
       "14. 'W2tBorg'\n",
       "15. 'W2t5Fc'\n",
       "16. 'W2t5Ox'\n",
       "17. 'W2t5Lac'\n",
       "18. 'W2t10Fc'\n",
       "19. 'W2t10Ox'\n",
       "20. 'W2t10Lac'\n",
       "21. 'Sumat'\n",
       "22. 'Peso'\n",
       "23. 'Edad'\n",
       "24. 'Altura'\n",
       "25. 'PlieguePec'\n",
       "26. 'PliegueAx'\n",
       "27. 'PliegueTri'\n",
       "28. 'PliegueSub'\n",
       "29. 'PliegueAbd'\n",
       "30. 'PliegueSup'\n",
       "31. 'tpcgrasa1'\n",
       "32. 'tpcgrasa2'\n",
       "33. 'PerCue'\n",
       "34. 'PerCin'\n",
       "\n",
       "\n"
      ],
      "text/plain": [
       " [1] \"W1Fc\"       \"W1Ox\"       \"W1Lac\"      \"W1tFc\"      \"W1tOx\"     \n",
       " [6] \"W1tLac\"     \"W1tBorg\"    \"W1t5Fc\"     \"W1t5Ox\"     \"W1t5Lac\"   \n",
       "[11] \"W2tFc\"      \"W2tOx\"      \"W2tLac\"     \"W2tBorg\"    \"W2t5Fc\"    \n",
       "[16] \"W2t5Ox\"     \"W2t5Lac\"    \"W2t10Fc\"    \"W2t10Ox\"    \"W2t10Lac\"  \n",
       "[21] \"Sumat\"      \"Peso\"       \"Edad\"       \"Altura\"     \"PlieguePec\"\n",
       "[26] \"PliegueAx\"  \"PliegueTri\" \"PliegueSub\" \"PliegueAbd\" \"PliegueSup\"\n",
       "[31] \"tpcgrasa1\"  \"tpcgrasa2\"  \"PerCue\"     \"PerCin\"    "
      ]
     },
     "metadata": {},
     "output_type": "display_data"
    }
   ],
   "source": [
    "handle_physical <- read.csv('handle_physical_transformed_for_multiple_linear_regression.csv')\n",
    "head(handle_physical)\n",
    "names(handle_physical)"
   ]
  },
  {
   "cell_type": "markdown",
   "metadata": {},
   "source": [
    "To avoid interference with the predictors related to FFM1 and similars, we eliminated the predictors that in their name contain the FM substring."
   ]
  },
  {
   "cell_type": "code",
   "execution_count": 3,
   "metadata": {},
   "outputs": [],
   "source": [
    "handle_physical <- handle_physical[!grepl('FM',names(handle_physical))] "
   ]
  },
  {
   "cell_type": "markdown",
   "metadata": {},
   "source": [
    "We delete Sumat:"
   ]
  },
  {
   "cell_type": "code",
   "execution_count": 4,
   "metadata": {},
   "outputs": [
    {
     "data": {
      "text/html": [
       "<ol class=list-inline>\n",
       "\t<li>'W1Fc'</li>\n",
       "\t<li>'W1Ox'</li>\n",
       "\t<li>'W1Lac'</li>\n",
       "\t<li>'W1tFc'</li>\n",
       "\t<li>'W1tOx'</li>\n",
       "\t<li>'W1tLac'</li>\n",
       "\t<li>'W1tBorg'</li>\n",
       "\t<li>'W1t5Fc'</li>\n",
       "\t<li>'W1t5Ox'</li>\n",
       "\t<li>'W1t5Lac'</li>\n",
       "\t<li>'W2tFc'</li>\n",
       "\t<li>'W2tOx'</li>\n",
       "\t<li>'W2tLac'</li>\n",
       "\t<li>'W2tBorg'</li>\n",
       "\t<li>'W2t5Fc'</li>\n",
       "\t<li>'W2t5Ox'</li>\n",
       "\t<li>'W2t5Lac'</li>\n",
       "\t<li>'W2t10Fc'</li>\n",
       "\t<li>'W2t10Ox'</li>\n",
       "\t<li>'W2t10Lac'</li>\n",
       "\t<li>'Peso'</li>\n",
       "\t<li>'Edad'</li>\n",
       "\t<li>'Altura'</li>\n",
       "\t<li>'PlieguePec'</li>\n",
       "\t<li>'PliegueAx'</li>\n",
       "\t<li>'PliegueTri'</li>\n",
       "\t<li>'PliegueSub'</li>\n",
       "\t<li>'PliegueAbd'</li>\n",
       "\t<li>'PliegueSup'</li>\n",
       "\t<li>'tpcgrasa1'</li>\n",
       "\t<li>'tpcgrasa2'</li>\n",
       "\t<li>'PerCue'</li>\n",
       "\t<li>'PerCin'</li>\n",
       "</ol>\n"
      ],
      "text/latex": [
       "\\begin{enumerate*}\n",
       "\\item 'W1Fc'\n",
       "\\item 'W1Ox'\n",
       "\\item 'W1Lac'\n",
       "\\item 'W1tFc'\n",
       "\\item 'W1tOx'\n",
       "\\item 'W1tLac'\n",
       "\\item 'W1tBorg'\n",
       "\\item 'W1t5Fc'\n",
       "\\item 'W1t5Ox'\n",
       "\\item 'W1t5Lac'\n",
       "\\item 'W2tFc'\n",
       "\\item 'W2tOx'\n",
       "\\item 'W2tLac'\n",
       "\\item 'W2tBorg'\n",
       "\\item 'W2t5Fc'\n",
       "\\item 'W2t5Ox'\n",
       "\\item 'W2t5Lac'\n",
       "\\item 'W2t10Fc'\n",
       "\\item 'W2t10Ox'\n",
       "\\item 'W2t10Lac'\n",
       "\\item 'Peso'\n",
       "\\item 'Edad'\n",
       "\\item 'Altura'\n",
       "\\item 'PlieguePec'\n",
       "\\item 'PliegueAx'\n",
       "\\item 'PliegueTri'\n",
       "\\item 'PliegueSub'\n",
       "\\item 'PliegueAbd'\n",
       "\\item 'PliegueSup'\n",
       "\\item 'tpcgrasa1'\n",
       "\\item 'tpcgrasa2'\n",
       "\\item 'PerCue'\n",
       "\\item 'PerCin'\n",
       "\\end{enumerate*}\n"
      ],
      "text/markdown": [
       "1. 'W1Fc'\n",
       "2. 'W1Ox'\n",
       "3. 'W1Lac'\n",
       "4. 'W1tFc'\n",
       "5. 'W1tOx'\n",
       "6. 'W1tLac'\n",
       "7. 'W1tBorg'\n",
       "8. 'W1t5Fc'\n",
       "9. 'W1t5Ox'\n",
       "10. 'W1t5Lac'\n",
       "11. 'W2tFc'\n",
       "12. 'W2tOx'\n",
       "13. 'W2tLac'\n",
       "14. 'W2tBorg'\n",
       "15. 'W2t5Fc'\n",
       "16. 'W2t5Ox'\n",
       "17. 'W2t5Lac'\n",
       "18. 'W2t10Fc'\n",
       "19. 'W2t10Ox'\n",
       "20. 'W2t10Lac'\n",
       "21. 'Peso'\n",
       "22. 'Edad'\n",
       "23. 'Altura'\n",
       "24. 'PlieguePec'\n",
       "25. 'PliegueAx'\n",
       "26. 'PliegueTri'\n",
       "27. 'PliegueSub'\n",
       "28. 'PliegueAbd'\n",
       "29. 'PliegueSup'\n",
       "30. 'tpcgrasa1'\n",
       "31. 'tpcgrasa2'\n",
       "32. 'PerCue'\n",
       "33. 'PerCin'\n",
       "\n",
       "\n"
      ],
      "text/plain": [
       " [1] \"W1Fc\"       \"W1Ox\"       \"W1Lac\"      \"W1tFc\"      \"W1tOx\"     \n",
       " [6] \"W1tLac\"     \"W1tBorg\"    \"W1t5Fc\"     \"W1t5Ox\"     \"W1t5Lac\"   \n",
       "[11] \"W2tFc\"      \"W2tOx\"      \"W2tLac\"     \"W2tBorg\"    \"W2t5Fc\"    \n",
       "[16] \"W2t5Ox\"     \"W2t5Lac\"    \"W2t10Fc\"    \"W2t10Ox\"    \"W2t10Lac\"  \n",
       "[21] \"Peso\"       \"Edad\"       \"Altura\"     \"PlieguePec\" \"PliegueAx\" \n",
       "[26] \"PliegueTri\" \"PliegueSub\" \"PliegueAbd\" \"PliegueSup\" \"tpcgrasa1\" \n",
       "[31] \"tpcgrasa2\"  \"PerCue\"     \"PerCin\"    "
      ]
     },
     "metadata": {},
     "output_type": "display_data"
    }
   ],
   "source": [
    "handle_physical <- handle_physical[!grepl('Sumat',names(handle_physical))] \n",
    "\n",
    "names(handle_physical)"
   ]
  },
  {
   "cell_type": "markdown",
   "metadata": {},
   "source": [
    "### Target variables <a class=\"anchor\" id=\"3\"></a>"
   ]
  },
  {
   "cell_type": "markdown",
   "metadata": {},
   "source": [
    "* [Returning to the index of contents](#index)"
   ]
  },
  {
   "cell_type": "code",
   "execution_count": 5,
   "metadata": {},
   "outputs": [
    {
     "data": {
      "text/html": [
       "<table>\n",
       "<thead><tr><th></th><th scope=col>W1MaxWAbs</th><th scope=col>W1MaxWRel</th><th scope=col>W1maxRPM</th><th scope=col>W1MedWAbs</th><th scope=col>W1MedWRel</th><th scope=col>W1medRPM</th><th scope=col>W2MaxWAbs</th><th scope=col>W2MaxWRel</th><th scope=col>W2maxRPM</th><th scope=col>W2MedWAbs</th><th scope=col>...</th><th scope=col>W2DifWRelFFM1</th><th scope=col>W2DifWRelFFM2</th><th scope=col>W1.2MaxDifWAbs</th><th scope=col>W1.2MaxDifWRel</th><th scope=col>W1.2MaxDifWRelFFM1</th><th scope=col>W1.2MaxDifWRelFFM2</th><th scope=col>W1.2MedDifWAbs</th><th scope=col>W1.2MedDifWRel</th><th scope=col>W1.2MedDifWRelFFM1</th><th scope=col>W1.2MedDifWRelFFM2</th></tr></thead>\n",
       "<tbody>\n",
       "\t<tr><th scope=row>0</th><td>398        </td><td> 8.747253  </td><td>122        </td><td>206        </td><td>4.527473   </td><td>100        </td><td>397        </td><td>8.725275   </td><td>122        </td><td>224        </td><td>...        </td><td> 4.479981  </td><td> 4.544592  </td><td>  1        </td><td> 0.02197802</td><td> 0.02589585</td><td> 0.02626932</td><td>-18        </td><td>-0.39560440</td><td>-0.46612522</td><td>-0.47284774</td></tr>\n",
       "\t<tr><th scope=row>4</th><td>511        </td><td> 8.964912  </td><td>128        </td><td>294        </td><td>5.157895   </td><td>109        </td><td>523        </td><td>9.175439   </td><td>122        </td><td>295        </td><td>...        </td><td> 4.552187  </td><td> 4.889881  </td><td>-12        </td><td>-0.21052632</td><td>-0.23958880</td><td>-0.25736216</td><td> -1        </td><td>-0.01754386</td><td>-0.01996573</td><td>-0.02144685</td></tr>\n",
       "\t<tr><th scope=row>7</th><td>524        </td><td>10.174757  </td><td>130        </td><td>262        </td><td>5.087379   </td><td>107        </td><td>476        </td><td>9.242718   </td><td>125        </td><td>245        </td><td>...        </td><td> 4.958966  </td><td> 5.566747  </td><td> 48        </td><td> 0.93203883</td><td> 1.03043453</td><td> 1.15672661</td><td> 17        </td><td> 0.33009709</td><td> 0.36494556</td><td> 0.40967401</td></tr>\n",
       "\t<tr><th scope=row>8</th><td>541        </td><td> 8.868852  </td><td>128        </td><td>351        </td><td>5.754098   </td><td>118        </td><td>472        </td><td>7.737705   </td><td>130        </td><td>333        </td><td>...        </td><td> 2.792441  </td><td> 3.020719  </td><td> 69        </td><td> 1.13114754</td><td> 1.38617564</td><td> 1.49949379</td><td> 18        </td><td> 0.29508197</td><td> 0.36161104</td><td> 0.39117229</td></tr>\n",
       "\t<tr><th scope=row>9</th><td>547        </td><td> 9.596491  </td><td>143        </td><td>291        </td><td>5.105263   </td><td>116        </td><td>169        </td><td>2.964912   </td><td>130        </td><td>302        </td><td>...        </td><td>-3.215855  </td><td>-3.248973  </td><td>378        </td><td> 6.63157895</td><td> 9.13979775</td><td> 9.23392354</td><td>-11        </td><td>-0.19298246</td><td>-0.26597295</td><td>-0.26871206</td></tr>\n",
       "\t<tr><th scope=row>11</th><td>553        </td><td> 9.701754  </td><td>133        </td><td>365        </td><td>6.403509   </td><td>121        </td><td>556        </td><td>9.754386   </td><td>136        </td><td>355        </td><td>...        </td><td> 4.113095  </td><td> 4.408965  </td><td> -3        </td><td>-0.05263158</td><td>-0.06138948</td><td>-0.06580544</td><td> 10        </td><td> 0.17543860</td><td> 0.20463161</td><td> 0.21935148</td></tr>\n",
       "</tbody>\n",
       "</table>\n"
      ],
      "text/latex": [
       "\\begin{tabular}{r|llllllllllllllllllllllllllllllllllll}\n",
       "  & W1MaxWAbs & W1MaxWRel & W1maxRPM & W1MedWAbs & W1MedWRel & W1medRPM & W2MaxWAbs & W2MaxWRel & W2maxRPM & W2MedWAbs & ... & W2DifWRelFFM1 & W2DifWRelFFM2 & W1.2MaxDifWAbs & W1.2MaxDifWRel & W1.2MaxDifWRelFFM1 & W1.2MaxDifWRelFFM2 & W1.2MedDifWAbs & W1.2MedDifWRel & W1.2MedDifWRelFFM1 & W1.2MedDifWRelFFM2\\\\\n",
       "\\hline\n",
       "\t0 & 398         &  8.747253   & 122         & 206         & 4.527473    & 100         & 397         & 8.725275    & 122         & 224         & ...         &  4.479981   &  4.544592   &   1         &  0.02197802 &  0.02589585 &  0.02626932 & -18         & -0.39560440 & -0.46612522 & -0.47284774\\\\\n",
       "\t4 & 511         &  8.964912   & 128         & 294         & 5.157895    & 109         & 523         & 9.175439    & 122         & 295         & ...         &  4.552187   &  4.889881   & -12         & -0.21052632 & -0.23958880 & -0.25736216 &  -1         & -0.01754386 & -0.01996573 & -0.02144685\\\\\n",
       "\t7 & 524         & 10.174757   & 130         & 262         & 5.087379    & 107         & 476         & 9.242718    & 125         & 245         & ...         &  4.958966   &  5.566747   &  48         &  0.93203883 &  1.03043453 &  1.15672661 &  17         &  0.33009709 &  0.36494556 &  0.40967401\\\\\n",
       "\t8 & 541         &  8.868852   & 128         & 351         & 5.754098    & 118         & 472         & 7.737705    & 130         & 333         & ...         &  2.792441   &  3.020719   &  69         &  1.13114754 &  1.38617564 &  1.49949379 &  18         &  0.29508197 &  0.36161104 &  0.39117229\\\\\n",
       "\t9 & 547         &  9.596491   & 143         & 291         & 5.105263    & 116         & 169         & 2.964912    & 130         & 302         & ...         & -3.215855   & -3.248973   & 378         &  6.63157895 &  9.13979775 &  9.23392354 & -11         & -0.19298246 & -0.26597295 & -0.26871206\\\\\n",
       "\t11 & 553         &  9.701754   & 133         & 365         & 6.403509    & 121         & 556         & 9.754386    & 136         & 355         & ...         &  4.113095   &  4.408965   &  -3         & -0.05263158 & -0.06138948 & -0.06580544 &  10         &  0.17543860 &  0.20463161 &  0.21935148\\\\\n",
       "\\end{tabular}\n"
      ],
      "text/markdown": [
       "\n",
       "| <!--/--> | W1MaxWAbs | W1MaxWRel | W1maxRPM | W1MedWAbs | W1MedWRel | W1medRPM | W2MaxWAbs | W2MaxWRel | W2maxRPM | W2MedWAbs | ... | W2DifWRelFFM1 | W2DifWRelFFM2 | W1.2MaxDifWAbs | W1.2MaxDifWRel | W1.2MaxDifWRelFFM1 | W1.2MaxDifWRelFFM2 | W1.2MedDifWAbs | W1.2MedDifWRel | W1.2MedDifWRelFFM1 | W1.2MedDifWRelFFM2 |\n",
       "|---|---|---|---|---|---|---|---|---|---|---|---|---|---|---|---|---|---|---|---|---|---|\n",
       "| 0 | 398         |  8.747253   | 122         | 206         | 4.527473    | 100         | 397         | 8.725275    | 122         | 224         | ...         |  4.479981   |  4.544592   |   1         |  0.02197802 |  0.02589585 |  0.02626932 | -18         | -0.39560440 | -0.46612522 | -0.47284774 |\n",
       "| 4 | 511         |  8.964912   | 128         | 294         | 5.157895    | 109         | 523         | 9.175439    | 122         | 295         | ...         |  4.552187   |  4.889881   | -12         | -0.21052632 | -0.23958880 | -0.25736216 |  -1         | -0.01754386 | -0.01996573 | -0.02144685 |\n",
       "| 7 | 524         | 10.174757   | 130         | 262         | 5.087379    | 107         | 476         | 9.242718    | 125         | 245         | ...         |  4.958966   |  5.566747   |  48         |  0.93203883 |  1.03043453 |  1.15672661 |  17         |  0.33009709 |  0.36494556 |  0.40967401 |\n",
       "| 8 | 541         |  8.868852   | 128         | 351         | 5.754098    | 118         | 472         | 7.737705    | 130         | 333         | ...         |  2.792441   |  3.020719   |  69         |  1.13114754 |  1.38617564 |  1.49949379 |  18         |  0.29508197 |  0.36161104 |  0.39117229 |\n",
       "| 9 | 547         |  9.596491   | 143         | 291         | 5.105263    | 116         | 169         | 2.964912    | 130         | 302         | ...         | -3.215855   | -3.248973   | 378         |  6.63157895 |  9.13979775 |  9.23392354 | -11         | -0.19298246 | -0.26597295 | -0.26871206 |\n",
       "| 11 | 553         |  9.701754   | 133         | 365         | 6.403509    | 121         | 556         | 9.754386    | 136         | 355         | ...         |  4.113095   |  4.408965   |  -3         | -0.05263158 | -0.06138948 | -0.06580544 |  10         |  0.17543860 |  0.20463161 |  0.21935148 |\n",
       "\n"
      ],
      "text/plain": [
       "   W1MaxWAbs W1MaxWRel W1maxRPM W1MedWAbs W1MedWRel W1medRPM W2MaxWAbs\n",
       "0  398        8.747253 122      206       4.527473  100      397      \n",
       "4  511        8.964912 128      294       5.157895  109      523      \n",
       "7  524       10.174757 130      262       5.087379  107      476      \n",
       "8  541        8.868852 128      351       5.754098  118      472      \n",
       "9  547        9.596491 143      291       5.105263  116      169      \n",
       "11 553        9.701754 133      365       6.403509  121      556      \n",
       "   W2MaxWRel W2maxRPM W2MedWAbs ... W2DifWRelFFM1 W2DifWRelFFM2 W1.2MaxDifWAbs\n",
       "0  8.725275  122      224       ...  4.479981      4.544592       1           \n",
       "4  9.175439  122      295       ...  4.552187      4.889881     -12           \n",
       "7  9.242718  125      245       ...  4.958966      5.566747      48           \n",
       "8  7.737705  130      333       ...  2.792441      3.020719      69           \n",
       "9  2.964912  130      302       ... -3.215855     -3.248973     378           \n",
       "11 9.754386  136      355       ...  4.113095      4.408965      -3           \n",
       "   W1.2MaxDifWRel W1.2MaxDifWRelFFM1 W1.2MaxDifWRelFFM2 W1.2MedDifWAbs\n",
       "0   0.02197802     0.02589585         0.02626932        -18           \n",
       "4  -0.21052632    -0.23958880        -0.25736216         -1           \n",
       "7   0.93203883     1.03043453         1.15672661         17           \n",
       "8   1.13114754     1.38617564         1.49949379         18           \n",
       "9   6.63157895     9.13979775         9.23392354        -11           \n",
       "11 -0.05263158    -0.06138948        -0.06580544         10           \n",
       "   W1.2MedDifWRel W1.2MedDifWRelFFM1 W1.2MedDifWRelFFM2\n",
       "0  -0.39560440    -0.46612522        -0.47284774       \n",
       "4  -0.01754386    -0.01996573        -0.02144685       \n",
       "7   0.33009709     0.36494556         0.40967401       \n",
       "8   0.29508197     0.36161104         0.39117229       \n",
       "9  -0.19298246    -0.26597295        -0.26871206       \n",
       "11  0.17543860     0.20463161         0.21935148       "
      ]
     },
     "metadata": {},
     "output_type": "display_data"
    }
   ],
   "source": [
    "handle_target <- read.csv('handle_target_fusion_31_03_20.csv', row.name = 1)\n",
    "\n",
    "head(handle_target)"
   ]
  },
  {
   "cell_type": "code",
   "execution_count": 6,
   "metadata": {},
   "outputs": [
    {
     "data": {
      "text/html": [
       "<table>\n",
       "<thead><tr><th></th><th scope=col>W1.2MedDifWRelFFM1</th></tr></thead>\n",
       "<tbody>\n",
       "\t<tr><th scope=row>0</th><td>-0.46612522</td></tr>\n",
       "\t<tr><th scope=row>4</th><td>-0.01996573</td></tr>\n",
       "\t<tr><th scope=row>7</th><td> 0.36494556</td></tr>\n",
       "\t<tr><th scope=row>8</th><td> 0.36161104</td></tr>\n",
       "\t<tr><th scope=row>9</th><td>-0.26597295</td></tr>\n",
       "\t<tr><th scope=row>11</th><td> 0.20463161</td></tr>\n",
       "</tbody>\n",
       "</table>\n"
      ],
      "text/latex": [
       "\\begin{tabular}{r|l}\n",
       "  & W1.2MedDifWRelFFM1\\\\\n",
       "\\hline\n",
       "\t0 & -0.46612522\\\\\n",
       "\t4 & -0.01996573\\\\\n",
       "\t7 &  0.36494556\\\\\n",
       "\t8 &  0.36161104\\\\\n",
       "\t9 & -0.26597295\\\\\n",
       "\t11 &  0.20463161\\\\\n",
       "\\end{tabular}\n"
      ],
      "text/markdown": [
       "\n",
       "| <!--/--> | W1.2MedDifWRelFFM1 |\n",
       "|---|---|\n",
       "| 0 | -0.46612522 |\n",
       "| 4 | -0.01996573 |\n",
       "| 7 |  0.36494556 |\n",
       "| 8 |  0.36161104 |\n",
       "| 9 | -0.26597295 |\n",
       "| 11 |  0.20463161 |\n",
       "\n"
      ],
      "text/plain": [
       "   W1.2MedDifWRelFFM1\n",
       "0  -0.46612522       \n",
       "4  -0.01996573       \n",
       "7   0.36494556       \n",
       "8   0.36161104       \n",
       "9  -0.26597295       \n",
       "11  0.20463161       "
      ]
     },
     "metadata": {},
     "output_type": "display_data"
    }
   ],
   "source": [
    "target <- handle_target['W1.2MedDifWRelFFM1']\n",
    "head(target)"
   ]
  },
  {
   "cell_type": "markdown",
   "metadata": {},
   "source": [
    "We create the dataframe for the analysis:"
   ]
  },
  {
   "cell_type": "code",
   "execution_count": 7,
   "metadata": {},
   "outputs": [
    {
     "data": {
      "text/html": [
       "<table>\n",
       "<thead><tr><th></th><th scope=col>W1.2MedDifWRelFFM1</th><th scope=col>rs10034661</th><th scope=col>rs10063949</th><th scope=col>rs1024610</th><th scope=col>rs1024611</th><th scope=col>rs1042713</th><th scope=col>rs1045485</th><th scope=col>rs10491003</th><th scope=col>rs1049305</th><th scope=col>rs1049434</th><th scope=col>...</th><th scope=col>PlieguePec</th><th scope=col>PliegueAx</th><th scope=col>PliegueTri</th><th scope=col>PliegueSub</th><th scope=col>PliegueAbd</th><th scope=col>PliegueSup</th><th scope=col>tpcgrasa1</th><th scope=col>tpcgrasa2</th><th scope=col>PerCue</th><th scope=col>PerCin</th></tr></thead>\n",
       "<tbody>\n",
       "\t<tr><th scope=row>0</th><td>-0.46612522</td><td>3          </td><td>2          </td><td>2          </td><td>3          </td><td>1          </td><td>2          </td><td>3          </td><td>2          </td><td>2          </td><td>...        </td><td>-0.8757439 </td><td>-0.8951047 </td><td> 1.0159821 </td><td>-1.0183111 </td><td>-1.2665456 </td><td>-1.0811267 </td><td> 0.37659536</td><td>0.02830971 </td><td>-2.2056212 </td><td>-1.727334  </td></tr>\n",
       "\t<tr><th scope=row>4</th><td>-0.01996573</td><td>3          </td><td>2          </td><td>2          </td><td>2          </td><td>2          </td><td>3          </td><td>3          </td><td>3          </td><td>1          </td><td>...        </td><td>-1.0373448 </td><td>-1.0624242 </td><td>-0.8734794 </td><td>-1.2829706 </td><td>-1.3202312 </td><td>-1.1361661 </td><td>-0.43175736</td><td>0.03866565 </td><td>-0.8281578 </td><td>-1.462643  </td></tr>\n",
       "\t<tr><th scope=row>7</th><td> 0.36494556</td><td>3          </td><td>3          </td><td>2          </td><td>3          </td><td>2          </td><td>3          </td><td>3          </td><td>2          </td><td>1          </td><td>...        </td><td>-1.1038863 </td><td>-1.2619206 </td><td>-1.1918942 </td><td>-1.5390928 </td><td>-1.4276024 </td><td>-1.4113634 </td><td>-0.86426995</td><td>0.23888577 </td><td>-2.2056212 </td><td>-1.674395  </td></tr>\n",
       "\t<tr><th scope=row>8</th><td> 0.36161104</td><td>3          </td><td>3          </td><td>3          </td><td>2          </td><td>2          </td><td>3          </td><td>3          </td><td>1          </td><td>2          </td><td>...        </td><td>-0.8472261 </td><td>-0.6537784 </td><td> 0.3040546 </td><td>-0.6255905 </td><td>-0.6798385 </td><td>-0.4595045 </td><td> 0.61849286</td><td>1.07832946 </td><td>-0.9659042 </td><td>-1.356766  </td></tr>\n",
       "\t<tr><th scope=row>9</th><td>-0.26597295</td><td>3          </td><td>2          </td><td>3          </td><td>2          </td><td>3          </td><td>1          </td><td>3          </td><td>2          </td><td>3          </td><td>...        </td><td> 1.2440796 </td><td> 0.8038323 </td><td> 1.8540739 </td><td> 0.8855301 </td><td> 1.0917868 </td><td> 1.2013922 </td><td> 2.13407275</td><td>1.66913269 </td><td>-1.5168895 </td><td>-1.219127  </td></tr>\n",
       "\t<tr><th scope=row>11</th><td> 0.20463161</td><td>3          </td><td>2          </td><td>3          </td><td>2          </td><td>2          </td><td>3          </td><td>3          </td><td>2          </td><td>2          </td><td>...        </td><td>-0.8092024 </td><td>-0.8564925 </td><td> 0.4933012 </td><td>-0.7963386 </td><td>-1.1169928 </td><td>-0.8577312 </td><td>-0.07384767</td><td>0.33604799 </td><td>-1.1036505 </td><td>-1.303828  </td></tr>\n",
       "</tbody>\n",
       "</table>\n"
      ],
      "text/latex": [
       "\\begin{tabular}{r|llllllllllllllllllllllllllllllllllllllllllllllllllllllllllllllllllllllllllllllllllllllllllllllllllllllllllllllllllllllllllllllllllllllllllllllllllllllllllllllllllllllllllllllllllllllllllllllllllllllllllllllllllll}\n",
       "  & W1.2MedDifWRelFFM1 & rs10034661 & rs10063949 & rs1024610 & rs1024611 & rs1042713 & rs1045485 & rs10491003 & rs1049305 & rs1049434 & ... & PlieguePec & PliegueAx & PliegueTri & PliegueSub & PliegueAbd & PliegueSup & tpcgrasa1 & tpcgrasa2 & PerCue & PerCin\\\\\n",
       "\\hline\n",
       "\t0 & -0.46612522 & 3           & 2           & 2           & 3           & 1           & 2           & 3           & 2           & 2           & ...         & -0.8757439  & -0.8951047  &  1.0159821  & -1.0183111  & -1.2665456  & -1.0811267  &  0.37659536 & 0.02830971  & -2.2056212  & -1.727334  \\\\\n",
       "\t4 & -0.01996573 & 3           & 2           & 2           & 2           & 2           & 3           & 3           & 3           & 1           & ...         & -1.0373448  & -1.0624242  & -0.8734794  & -1.2829706  & -1.3202312  & -1.1361661  & -0.43175736 & 0.03866565  & -0.8281578  & -1.462643  \\\\\n",
       "\t7 &  0.36494556 & 3           & 3           & 2           & 3           & 2           & 3           & 3           & 2           & 1           & ...         & -1.1038863  & -1.2619206  & -1.1918942  & -1.5390928  & -1.4276024  & -1.4113634  & -0.86426995 & 0.23888577  & -2.2056212  & -1.674395  \\\\\n",
       "\t8 &  0.36161104 & 3           & 3           & 3           & 2           & 2           & 3           & 3           & 1           & 2           & ...         & -0.8472261  & -0.6537784  &  0.3040546  & -0.6255905  & -0.6798385  & -0.4595045  &  0.61849286 & 1.07832946  & -0.9659042  & -1.356766  \\\\\n",
       "\t9 & -0.26597295 & 3           & 2           & 3           & 2           & 3           & 1           & 3           & 2           & 3           & ...         &  1.2440796  &  0.8038323  &  1.8540739  &  0.8855301  &  1.0917868  &  1.2013922  &  2.13407275 & 1.66913269  & -1.5168895  & -1.219127  \\\\\n",
       "\t11 &  0.20463161 & 3           & 2           & 3           & 2           & 2           & 3           & 3           & 2           & 2           & ...         & -0.8092024  & -0.8564925  &  0.4933012  & -0.7963386  & -1.1169928  & -0.8577312  & -0.07384767 & 0.33604799  & -1.1036505  & -1.303828  \\\\\n",
       "\\end{tabular}\n"
      ],
      "text/markdown": [
       "\n",
       "| <!--/--> | W1.2MedDifWRelFFM1 | rs10034661 | rs10063949 | rs1024610 | rs1024611 | rs1042713 | rs1045485 | rs10491003 | rs1049305 | rs1049434 | ... | PlieguePec | PliegueAx | PliegueTri | PliegueSub | PliegueAbd | PliegueSup | tpcgrasa1 | tpcgrasa2 | PerCue | PerCin |\n",
       "|---|---|---|---|---|---|---|---|---|---|---|---|---|---|---|---|---|---|---|---|---|---|\n",
       "| 0 | -0.46612522 | 3           | 2           | 2           | 3           | 1           | 2           | 3           | 2           | 2           | ...         | -0.8757439  | -0.8951047  |  1.0159821  | -1.0183111  | -1.2665456  | -1.0811267  |  0.37659536 | 0.02830971  | -2.2056212  | -1.727334   |\n",
       "| 4 | -0.01996573 | 3           | 2           | 2           | 2           | 2           | 3           | 3           | 3           | 1           | ...         | -1.0373448  | -1.0624242  | -0.8734794  | -1.2829706  | -1.3202312  | -1.1361661  | -0.43175736 | 0.03866565  | -0.8281578  | -1.462643   |\n",
       "| 7 |  0.36494556 | 3           | 3           | 2           | 3           | 2           | 3           | 3           | 2           | 1           | ...         | -1.1038863  | -1.2619206  | -1.1918942  | -1.5390928  | -1.4276024  | -1.4113634  | -0.86426995 | 0.23888577  | -2.2056212  | -1.674395   |\n",
       "| 8 |  0.36161104 | 3           | 3           | 3           | 2           | 2           | 3           | 3           | 1           | 2           | ...         | -0.8472261  | -0.6537784  |  0.3040546  | -0.6255905  | -0.6798385  | -0.4595045  |  0.61849286 | 1.07832946  | -0.9659042  | -1.356766   |\n",
       "| 9 | -0.26597295 | 3           | 2           | 3           | 2           | 3           | 1           | 3           | 2           | 3           | ...         |  1.2440796  |  0.8038323  |  1.8540739  |  0.8855301  |  1.0917868  |  1.2013922  |  2.13407275 | 1.66913269  | -1.5168895  | -1.219127   |\n",
       "| 11 |  0.20463161 | 3           | 2           | 3           | 2           | 2           | 3           | 3           | 2           | 2           | ...         | -0.8092024  | -0.8564925  |  0.4933012  | -0.7963386  | -1.1169928  | -0.8577312  | -0.07384767 | 0.33604799  | -1.1036505  | -1.303828   |\n",
       "\n"
      ],
      "text/plain": [
       "   W1.2MedDifWRelFFM1 rs10034661 rs10063949 rs1024610 rs1024611 rs1042713\n",
       "0  -0.46612522        3          2          2         3         1        \n",
       "4  -0.01996573        3          2          2         2         2        \n",
       "7   0.36494556        3          3          2         3         2        \n",
       "8   0.36161104        3          3          3         2         2        \n",
       "9  -0.26597295        3          2          3         2         3        \n",
       "11  0.20463161        3          2          3         2         2        \n",
       "   rs1045485 rs10491003 rs1049305 rs1049434 ... PlieguePec PliegueAx \n",
       "0  2         3          2         2         ... -0.8757439 -0.8951047\n",
       "4  3         3          3         1         ... -1.0373448 -1.0624242\n",
       "7  3         3          2         1         ... -1.1038863 -1.2619206\n",
       "8  3         3          1         2         ... -0.8472261 -0.6537784\n",
       "9  1         3          2         3         ...  1.2440796  0.8038323\n",
       "11 3         3          2         2         ... -0.8092024 -0.8564925\n",
       "   PliegueTri PliegueSub PliegueAbd PliegueSup tpcgrasa1   tpcgrasa2 \n",
       "0   1.0159821 -1.0183111 -1.2665456 -1.0811267  0.37659536 0.02830971\n",
       "4  -0.8734794 -1.2829706 -1.3202312 -1.1361661 -0.43175736 0.03866565\n",
       "7  -1.1918942 -1.5390928 -1.4276024 -1.4113634 -0.86426995 0.23888577\n",
       "8   0.3040546 -0.6255905 -0.6798385 -0.4595045  0.61849286 1.07832946\n",
       "9   1.8540739  0.8855301  1.0917868  1.2013922  2.13407275 1.66913269\n",
       "11  0.4933012 -0.7963386 -1.1169928 -0.8577312 -0.07384767 0.33604799\n",
       "   PerCue     PerCin   \n",
       "0  -2.2056212 -1.727334\n",
       "4  -0.8281578 -1.462643\n",
       "7  -2.2056212 -1.674395\n",
       "8  -0.9659042 -1.356766\n",
       "9  -1.5168895 -1.219127\n",
       "11 -1.1036505 -1.303828"
      ]
     },
     "metadata": {},
     "output_type": "display_data"
    }
   ],
   "source": [
    "data <- cbind(target, handle_genetic, handle_physical)\n",
    "\n",
    "head(data)"
   ]
  },
  {
   "cell_type": "code",
   "execution_count": 8,
   "metadata": {},
   "outputs": [
    {
     "data": {
      "text/html": [
       "<ol class=list-inline>\n",
       "\t<li>82</li>\n",
       "\t<li>212</li>\n",
       "</ol>\n"
      ],
      "text/latex": [
       "\\begin{enumerate*}\n",
       "\\item 82\n",
       "\\item 212\n",
       "\\end{enumerate*}\n"
      ],
      "text/markdown": [
       "1. 82\n",
       "2. 212\n",
       "\n",
       "\n"
      ],
      "text/plain": [
       "[1]  82 212"
      ]
     },
     "metadata": {},
     "output_type": "display_data"
    }
   ],
   "source": [
    "dim(data)"
   ]
  },
  {
   "cell_type": "markdown",
   "metadata": {},
   "source": [
    "## Train/test partition<a class=\"anchor\" id=\"4\"></a>"
   ]
  },
  {
   "cell_type": "markdown",
   "metadata": {},
   "source": [
    "* [Returning to the index of contents](#index)"
   ]
  },
  {
   "cell_type": "code",
   "execution_count": 9,
   "metadata": {},
   "outputs": [
    {
     "name": "stderr",
     "output_type": "stream",
     "text": [
      "Warning message:\n",
      "\"package 'caret' was built under R version 3.6.2\"Loading required package: lattice\n",
      "Loading required package: ggplot2\n",
      "Warning message:\n",
      "\"package 'ggplot2' was built under R version 3.6.3\""
     ]
    },
    {
     "data": {
      "text/html": [
       "<ol class=list-inline>\n",
       "\t<li>70</li>\n",
       "\t<li>212</li>\n",
       "</ol>\n"
      ],
      "text/latex": [
       "\\begin{enumerate*}\n",
       "\\item 70\n",
       "\\item 212\n",
       "\\end{enumerate*}\n"
      ],
      "text/markdown": [
       "1. 70\n",
       "2. 212\n",
       "\n",
       "\n"
      ],
      "text/plain": [
       "[1]  70 212"
      ]
     },
     "metadata": {},
     "output_type": "display_data"
    },
    {
     "data": {
      "text/html": [
       "<ol class=list-inline>\n",
       "\t<li>12</li>\n",
       "\t<li>212</li>\n",
       "</ol>\n"
      ],
      "text/latex": [
       "\\begin{enumerate*}\n",
       "\\item 12\n",
       "\\item 212\n",
       "\\end{enumerate*}\n"
      ],
      "text/markdown": [
       "1. 12\n",
       "2. 212\n",
       "\n",
       "\n"
      ],
      "text/plain": [
       "[1]  12 212"
      ]
     },
     "metadata": {},
     "output_type": "display_data"
    }
   ],
   "source": [
    "library(caret)\n",
    "\n",
    "set.seed(10)\n",
    "id_df <- createDataPartition(data$W1.2MedDifWRelFFM1,p = 0.85,list = FALSE)\n",
    "data_train <- data[id_df,]\n",
    "data_test <- data[-id_df,]\n",
    "\n",
    "dim(data_train)\n",
    "\n",
    "dim(data_test)"
   ]
  },
  {
   "cell_type": "markdown",
   "metadata": {},
   "source": [
    "## Multiple Linear Regression coupled with PCA<a class=\"anchor\" id=\"5\"></a>"
   ]
  },
  {
   "cell_type": "markdown",
   "metadata": {},
   "source": [
    "* [Returning to the index of contents](#index)"
   ]
  },
  {
   "cell_type": "markdown",
   "metadata": {},
   "source": [
    "### Training the model <a class=\"anchor\" id=\"6\" ></a>"
   ]
  },
  {
   "cell_type": "markdown",
   "metadata": {},
   "source": [
    "* [Returning to the index of contents](#index)"
   ]
  },
  {
   "cell_type": "markdown",
   "metadata": {},
   "source": [
    "* #### We calculate the main components with the training set "
   ]
  },
  {
   "cell_type": "code",
   "execution_count": 10,
   "metadata": {},
   "outputs": [],
   "source": [
    "pca_train <- prcomp(data_train[, -1], scale. = TRUE)#no se tiene en cuenta la variable objetivo"
   ]
  },
  {
   "cell_type": "code",
   "execution_count": 11,
   "metadata": {},
   "outputs": [
    {
     "name": "stdout",
     "output_type": "stream",
     "text": [
      "List of 5\n",
      " $ sdev    : num [1:70] 3.13 3.02 2.73 2.65 2.6 ...\n",
      " $ rotation: num [1:211, 1:70] -0.09046 -0.00496 -0.04115 0.07469 0.06879 ...\n",
      "  ..- attr(*, \"dimnames\")=List of 2\n",
      "  .. ..$ : chr [1:211] \"rs10034661\" \"rs10063949\" \"rs1024610\" \"rs1024611\" ...\n",
      "  .. ..$ : chr [1:70] \"PC1\" \"PC2\" \"PC3\" \"PC4\" ...\n",
      " $ center  : Named num [1:211] 2.51 2.34 2.49 2.5 2.26 ...\n",
      "  ..- attr(*, \"names\")= chr [1:211] \"rs10034661\" \"rs10063949\" \"rs1024610\" \"rs1024611\" ...\n",
      " $ scale   : Named num [1:211] 0.631 0.679 0.558 0.608 0.674 ...\n",
      "  ..- attr(*, \"names\")= chr [1:211] \"rs10034661\" \"rs10063949\" \"rs1024610\" \"rs1024611\" ...\n",
      " $ x       : num [1:70, 1:70] -9.57 -5.16 -1.53 -4.88 -7.38 ...\n",
      "  ..- attr(*, \"dimnames\")=List of 2\n",
      "  .. ..$ : chr [1:70] \"4\" \"7\" \"9\" \"11\" ...\n",
      "  .. ..$ : chr [1:70] \"PC1\" \"PC2\" \"PC3\" \"PC4\" ...\n",
      " - attr(*, \"class\")= chr \"prcomp\"\n"
     ]
    }
   ],
   "source": [
    "str(pca_train)"
   ]
  },
  {
   "cell_type": "markdown",
   "metadata": {},
   "source": [
    "* #### Importance variables analysis"
   ]
  },
  {
   "cell_type": "code",
   "execution_count": 12,
   "metadata": {},
   "outputs": [],
   "source": [
    "perc_variance <- cumsum(pca_train$sdev^2)/sum(pca_train$sdev^2)*100"
   ]
  },
  {
   "cell_type": "code",
   "execution_count": 13,
   "metadata": {},
   "outputs": [
    {
     "data": {
      "image/png": "[encoded data removed]",
      "text/plain": [
       "Plot with title \"Percentage of explained accumulated variance vs PCs\""
      ]
     },
     "metadata": {},
     "output_type": "display_data"
    }
   ],
   "source": [
    "plot(perc_variance,main=\"Percentage of explained accumulated variance vs PCs\",xlim=c(1,70),xlab = 'Number of principal components', ylab = 'Percentage of explained accumulated variance')\n",
    "abline(v = which(pca_train$rotation[1,] == max(pca_train$rotation[1,])))\n",
    "grid()"
   ]
  },
  {
   "cell_type": "markdown",
   "metadata": {},
   "source": [
    "As it can be apreciated in the plot shown, the principal component to which target variable contribution is the biggest is:"
   ]
  },
  {
   "cell_type": "code",
   "execution_count": 15,
   "metadata": {},
   "outputs": [
    {
     "data": {
      "text/html": [
       "<strong>PC11:</strong> 0.158221573394413"
      ],
      "text/latex": [
       "\\textbf{PC11:} 0.158221573394413"
      ],
      "text/markdown": [
       "**PC11:** 0.158221573394413"
      ],
      "text/plain": [
       "     PC11 \n",
       "0.1582216 "
      ]
     },
     "metadata": {},
     "output_type": "display_data"
    }
   ],
   "source": [
    "pca_train$rotation[1,][which(pca_train$rotation[1,] == max(pca_train$rotation[1,]))]"
   ]
  },
  {
   "cell_type": "markdown",
   "metadata": {},
   "source": [
    "With an acumulated proportion of explained variance of:"
   ]
  },
  {
   "cell_type": "code",
   "execution_count": 16,
   "metadata": {},
   "outputs": [
    {
     "data": {
      "text/html": [
       "35.7492631644212"
      ],
      "text/latex": [
       "35.7492631644212"
      ],
      "text/markdown": [
       "35.7492631644212"
      ],
      "text/plain": [
       "[1] 35.74926"
      ]
     },
     "metadata": {},
     "output_type": "display_data"
    }
   ],
   "source": [
    "perc_variance[11]"
   ]
  },
  {
   "cell_type": "markdown",
   "metadata": {},
   "source": [
    "Then, in order to have consistent results, the smallest number of principal components for the analysis will be 11."
   ]
  },
  {
   "cell_type": "markdown",
   "metadata": {},
   "source": [
    "<p style=\"text-align: justify;\">Now, it is shown a plot ot the target variable influence in the set of principal components obtained in train with the objetive of checking if for a certain number of principal component makes or does not make sense to use in the model the target variable.</p>"
   ]
  },
  {
   "cell_type": "code",
   "execution_count": 17,
   "metadata": {},
   "outputs": [
    {
     "data": {
      "image/png": "[encoded data removed]",
      "text/plain": [
       "Plot with title \"Target variable contribution to principal components\""
      ]
     },
     "metadata": {},
     "output_type": "display_data"
    }
   ],
   "source": [
    "plot(pca_train$rotation[1,], main = 'Target variable contribution to principal components', \n",
    "     xlab = 'Principal components obtained in train', xlim = c(1,70),ylab = 'Target variable contribution')"
   ]
  },
  {
   "cell_type": "markdown",
   "metadata": {},
   "source": [
    "The plot shows an uniform distribution of the target variable contribution, so it makes sense to keep the target variable for the model."
   ]
  },
  {
   "cell_type": "markdown",
   "metadata": {},
   "source": [
    "Now, in order to put in context the target variable contribution, we show down below an histogram of the original variables (included the target variable) contribution to the first principal component."
   ]
  },
  {
   "cell_type": "code",
   "execution_count": 18,
   "metadata": {},
   "outputs": [
    {
     "data": {
      "image/png": "[encoded data removed]",
      "text/plain": [
       "Plot with title \"Original predictors contribution to the first principal component\""
      ]
     },
     "metadata": {},
     "output_type": "display_data"
    }
   ],
   "source": [
    "hist(pca_train$rotation[,1], breaks = 'FD',main = 'Original predictors contribution to the first principal component', \n",
    "     xlab = 'Original predictors contribution', ylab = 'Frequency contribution', col = 'blue', xlim=c(-0.25,0.25))\n",
    "abline(v = max(pca_train$rotation[1,]), col = 'red')"
   ]
  },
  {
   "cell_type": "markdown",
   "metadata": {},
   "source": [
    "The distribution is similar to the normal, with the target variable being one of the most contributing variables, located to the right of the distribution (contribution of 0.16). It seems that with greater frequency the variables of the original space contribute between a -0.1 and 0.1 to the main component.\n",
    "\n",
    "The number of main components will be chosen taking into account that up to 95% of the explained variance is to be preserved."
   ]
  },
  {
   "cell_type": "code",
   "execution_count": 19,
   "metadata": {},
   "outputs": [
    {
     "data": {
      "text/html": [
       "<strong>57:</strong> 95.3573737980975"
      ],
      "text/latex": [
       "\\textbf{57:} 95.3573737980975"
      ],
      "text/markdown": [
       "**57:** 95.3573737980975"
      ],
      "text/plain": [
       "      57 \n",
       "95.35737 "
      ]
     },
     "metadata": {},
     "output_type": "display_data"
    }
   ],
   "source": [
    "names(perc_variance) <- 1 : length(perc_variance)\n",
    "\n",
    "perc_variance[which(perc_variance >= 95)][1]"
   ]
  },
  {
   "cell_type": "markdown",
   "metadata": {},
   "source": [
    "We have then that by choosing a total of 57 main components we can reach 95% of the explained variance"
   ]
  },
  {
   "cell_type": "markdown",
   "metadata": {},
   "source": [
    "* #### We train the regression model with the training set and the number of main components indicated"
   ]
  },
  {
   "cell_type": "code",
   "execution_count": 22,
   "metadata": {},
   "outputs": [],
   "source": [
    "library(pls)\n",
    "\n",
    "pls_model <- plsr(formula = W1.2MedDifWRelFFM1 ~ ., data = data_train, scale. = TRUE, ncomp = 57)"
   ]
  },
  {
   "cell_type": "markdown",
   "metadata": {},
   "source": [
    "We project the pcr model in test data:"
   ]
  },
  {
   "cell_type": "code",
   "execution_count": 23,
   "metadata": {},
   "outputs": [],
   "source": [
    "pred_test <- predict(pls_model, newdata = data_test, ncomp = 57)"
   ]
  },
  {
   "cell_type": "markdown",
   "metadata": {},
   "source": [
    "## Cross-validation<a class=\"anchor\" id=\"7\"></a>"
   ]
  },
  {
   "cell_type": "markdown",
   "metadata": {},
   "source": [
    "* [Returning to the index of contents](#index)"
   ]
  },
  {
   "cell_type": "markdown",
   "metadata": {},
   "source": [
    "We use the MSE error as a validation criterion during cross-validation"
   ]
  },
  {
   "cell_type": "code",
   "execution_count": 25,
   "metadata": {},
   "outputs": [
    {
     "data": {
      "text/html": [
       "5"
      ],
      "text/latex": [
       "5"
      ],
      "text/markdown": [
       "5"
      ],
      "text/plain": [
       "[1] 5"
      ]
     },
     "metadata": {},
     "output_type": "display_data"
    }
   ],
   "source": [
    "set.seed(1)\n",
    "pls_model <- plsr(formula = W1.2MedDifWRelFFM1 ~ ., data = data_train, scale. = TRUE,\n",
    "                  validation = \"CV\")\n",
    "pls_model_CV <- MSEP(pls_model, estimate = \"CV\")\n",
    "which.min(pls_model_CV$val)"
   ]
  },
  {
   "cell_type": "code",
   "execution_count": 26,
   "metadata": {},
   "outputs": [
    {
     "data": {
      "image/png": "[encoded data removed]",
      "text/plain": [
       "Plot with title \"MSE vs PCs\""
      ]
     },
     "metadata": {},
     "output_type": "display_data"
    }
   ],
   "source": [
    "plot(pls_model_CV$val, main = \"MSE vs PCs\", type = \"l\",\n",
    "     ylab = \"MSE\",\n",
    "     col = \"blue\", xlab = \"PCs\")"
   ]
  },
  {
   "cell_type": "markdown",
   "metadata": {},
   "source": [
    "The value of the MSE is constant until a value of about 60 principal components is reached. We keep the minimum of principal components, 5."
   ]
  },
  {
   "cell_type": "markdown",
   "metadata": {},
   "source": [
    "#### RMSE error in the test prediction after cross-validation<a class=\"anchor\" id=\"8\"></a>"
   ]
  },
  {
   "cell_type": "markdown",
   "metadata": {},
   "source": [
    "* [Returning to the index of contents](#index)"
   ]
  },
  {
   "cell_type": "markdown",
   "metadata": {},
   "source": [
    "Now we convert the MSE error in RMSE error with the aim of having an error in the same units as target variable."
   ]
  },
  {
   "cell_type": "code",
   "execution_count": 28,
   "metadata": {},
   "outputs": [
    {
     "data": {
      "text/html": [
       "0.494159229374913"
      ],
      "text/latex": [
       "0.494159229374913"
      ],
      "text/markdown": [
       "0.494159229374913"
      ],
      "text/plain": [
       "[1] 0.4941592"
      ]
     },
     "metadata": {},
     "output_type": "display_data"
    }
   ],
   "source": [
    "predictions <- predict(pls_model, newdata = data_test, ncomp = 5)\n",
    "test_rmse <- sqrt(mean((predictions - data_test$W1.2MedDifWRelFFM1)^2))\n",
    "test_rmse"
   ]
  },
  {
   "cell_type": "code",
   "execution_count": 29,
   "metadata": {},
   "outputs": [
    {
     "name": "stdout",
     "output_type": "stream",
     "text": [
      "[1] \"Percentage of accumulated explained variance with the number of principal components optimized: 19.034\"\n"
     ]
    }
   ],
   "source": [
    "print(paste('Percentage of accumulated explained variance with the number of principal components optimized:',summary(pca_train)$importance[3,5]*100))"
   ]
  }
 ],
 "metadata": {
  "kernelspec": {
   "display_name": "R",
   "language": "R",
   "name": "ir"
  },
  "language_info": {
   "codemirror_mode": "r",
   "file_extension": ".r",
   "mimetype": "text/x-r-source",
   "name": "R",
   "pygments_lexer": "r",
   "version": "3.6.1"
  }
 },
 "nbformat": 4,
 "nbformat_minor": 4
}
