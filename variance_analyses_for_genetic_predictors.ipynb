{
 "cells": [
  {
   "cell_type": "markdown",
   "metadata": {},
   "source": [
    "# Analysis of variance in genetic predictors"
   ]
  },
  {
   "cell_type": "markdown",
   "metadata": {},
   "source": [
    "## Index<a class=\"anchor\" id=\"index\"></a>\n",
    "* [Loading data](#1)\n",
    "* [Analysis of predictors with zero or close to zero variance](#2)\n"
   ]
  },
  {
   "cell_type": "markdown",
   "metadata": {},
   "source": [
    "## Loading data <a class=\"anchor\" id=\"1\"></a>"
   ]
  },
  {
   "cell_type": "markdown",
   "metadata": {},
   "source": [
    "* [Returning to the index of contents](#index)"
   ]
  },
  {
   "cell_type": "code",
   "execution_count": 1,
   "metadata": {},
   "outputs": [
    {
     "data": {
      "text/html": [
       "<table>\n",
       "<thead><tr><th></th><th scope=col>rs10034661</th><th scope=col>rs10063949</th><th scope=col>rs1024610</th><th scope=col>rs1024611</th><th scope=col>rs1042713</th><th scope=col>rs1045485</th><th scope=col>rs10491003</th><th scope=col>rs1049305</th><th scope=col>rs1049434</th><th scope=col>rs10497520</th><th scope=col>...</th><th scope=col>rs8111989</th><th scope=col>rs8192678</th><th scope=col>rs824205</th><th scope=col>rs833070</th><th scope=col>rs884736</th><th scope=col>rs921943</th><th scope=col>rs9469199</th><th scope=col>rs970547</th><th scope=col>rs9902453</th><th scope=col>rs9939609</th></tr></thead>\n",
       "<tbody>\n",
       "\t<tr><th scope=row>0</th><td>G:G</td><td>C:T</td><td>A:T</td><td>T:T</td><td>A:A</td><td>C:G</td><td>G:G</td><td>C:G</td><td>A:T</td><td>C:T</td><td>...</td><td>C:T</td><td>A:G</td><td>G:G</td><td>A:G</td><td>C:T</td><td>A:G</td><td>A:G</td><td>A:A</td><td>A:G</td><td>A:A</td></tr>\n",
       "\t<tr><th scope=row>4</th><td>G:G</td><td>C:T</td><td>A:T</td><td>C:T</td><td>A:G</td><td>G:G</td><td>G:G</td><td>G:G</td><td>A:A</td><td>C:C</td><td>...</td><td>C:T</td><td>A:G</td><td>A:G</td><td>A:G</td><td>C:T</td><td>A:G</td><td>G:G</td><td>A:G</td><td>A:G</td><td>T:T</td></tr>\n",
       "\t<tr><th scope=row>7</th><td>G:G</td><td>T:T</td><td>A:T</td><td>T:T</td><td>A:G</td><td>G:G</td><td>G:G</td><td>C:G</td><td>A:A</td><td>C:C</td><td>...</td><td>C:T</td><td>A:G</td><td>G:G</td><td>A:G</td><td>C:T</td><td>A:A</td><td>G:G</td><td>A:G</td><td>A:G</td><td>A:A</td></tr>\n",
       "\t<tr><th scope=row>8</th><td>G:G</td><td>T:T</td><td>T:T</td><td>C:T</td><td>A:G</td><td>G:G</td><td>G:G</td><td>C:C</td><td>A:T</td><td>C:C</td><td>...</td><td>C:T</td><td>A:G</td><td>G:G</td><td>A:G</td><td>C:T</td><td>A:G</td><td>G:G</td><td>A:A</td><td>A:A</td><td>A:A</td></tr>\n",
       "\t<tr><th scope=row>9</th><td>G:G</td><td>C:T</td><td>T:T</td><td>C:T</td><td>G:G</td><td>C:C</td><td>G:G</td><td>C:G</td><td>T:T</td><td>C:C</td><td>...</td><td>C:T</td><td>A:G</td><td>G:G</td><td>G:G</td><td>T:T</td><td>G:G</td><td>G:G</td><td>A:A</td><td>A:G</td><td>A:T</td></tr>\n",
       "\t<tr><th scope=row>11</th><td>G:G</td><td>C:T</td><td>T:T</td><td>C:T</td><td>A:G</td><td>G:G</td><td>G:G</td><td>C:G</td><td>A:T</td><td>C:C</td><td>...</td><td>C:T</td><td>A:G</td><td>G:G</td><td>G:G</td><td>C:T</td><td>A:G</td><td>G:G</td><td>A:G</td><td>G:G</td><td>T:T</td></tr>\n",
       "</tbody>\n",
       "</table>\n"
      ],
      "text/latex": [
       "\\begin{tabular}{r|lllllllllllllllllllllllllllllllllllllllllllllllllllllllllllllllllllllllllllllllllllllllllllllllllllllllllllllllllllllllllllllllllllllllllllllllllllllllllllllllllllllllllllllllllllllllll}\n",
       "  & rs10034661 & rs10063949 & rs1024610 & rs1024611 & rs1042713 & rs1045485 & rs10491003 & rs1049305 & rs1049434 & rs10497520 & ... & rs8111989 & rs8192678 & rs824205 & rs833070 & rs884736 & rs921943 & rs9469199 & rs970547 & rs9902453 & rs9939609\\\\\n",
       "\\hline\n",
       "\t0 & G:G & C:T & A:T & T:T & A:A & C:G & G:G & C:G & A:T & C:T & ... & C:T & A:G & G:G & A:G & C:T & A:G & A:G & A:A & A:G & A:A\\\\\n",
       "\t4 & G:G & C:T & A:T & C:T & A:G & G:G & G:G & G:G & A:A & C:C & ... & C:T & A:G & A:G & A:G & C:T & A:G & G:G & A:G & A:G & T:T\\\\\n",
       "\t7 & G:G & T:T & A:T & T:T & A:G & G:G & G:G & C:G & A:A & C:C & ... & C:T & A:G & G:G & A:G & C:T & A:A & G:G & A:G & A:G & A:A\\\\\n",
       "\t8 & G:G & T:T & T:T & C:T & A:G & G:G & G:G & C:C & A:T & C:C & ... & C:T & A:G & G:G & A:G & C:T & A:G & G:G & A:A & A:A & A:A\\\\\n",
       "\t9 & G:G & C:T & T:T & C:T & G:G & C:C & G:G & C:G & T:T & C:C & ... & C:T & A:G & G:G & G:G & T:T & G:G & G:G & A:A & A:G & A:T\\\\\n",
       "\t11 & G:G & C:T & T:T & C:T & A:G & G:G & G:G & C:G & A:T & C:C & ... & C:T & A:G & G:G & G:G & C:T & A:G & G:G & A:G & G:G & T:T\\\\\n",
       "\\end{tabular}\n"
      ],
      "text/markdown": [
       "\n",
       "| <!--/--> | rs10034661 | rs10063949 | rs1024610 | rs1024611 | rs1042713 | rs1045485 | rs10491003 | rs1049305 | rs1049434 | rs10497520 | ... | rs8111989 | rs8192678 | rs824205 | rs833070 | rs884736 | rs921943 | rs9469199 | rs970547 | rs9902453 | rs9939609 |\n",
       "|---|---|---|---|---|---|---|---|---|---|---|---|---|---|---|---|---|---|---|---|---|---|\n",
       "| 0 | G:G | C:T | A:T | T:T | A:A | C:G | G:G | C:G | A:T | C:T | ... | C:T | A:G | G:G | A:G | C:T | A:G | A:G | A:A | A:G | A:A |\n",
       "| 4 | G:G | C:T | A:T | C:T | A:G | G:G | G:G | G:G | A:A | C:C | ... | C:T | A:G | A:G | A:G | C:T | A:G | G:G | A:G | A:G | T:T |\n",
       "| 7 | G:G | T:T | A:T | T:T | A:G | G:G | G:G | C:G | A:A | C:C | ... | C:T | A:G | G:G | A:G | C:T | A:A | G:G | A:G | A:G | A:A |\n",
       "| 8 | G:G | T:T | T:T | C:T | A:G | G:G | G:G | C:C | A:T | C:C | ... | C:T | A:G | G:G | A:G | C:T | A:G | G:G | A:A | A:A | A:A |\n",
       "| 9 | G:G | C:T | T:T | C:T | G:G | C:C | G:G | C:G | T:T | C:C | ... | C:T | A:G | G:G | G:G | T:T | G:G | G:G | A:A | A:G | A:T |\n",
       "| 11 | G:G | C:T | T:T | C:T | A:G | G:G | G:G | C:G | A:T | C:C | ... | C:T | A:G | G:G | G:G | C:T | A:G | G:G | A:G | G:G | T:T |\n",
       "\n"
      ],
      "text/plain": [
       "   rs10034661 rs10063949 rs1024610 rs1024611 rs1042713 rs1045485 rs10491003\n",
       "0  G:G        C:T        A:T       T:T       A:A       C:G       G:G       \n",
       "4  G:G        C:T        A:T       C:T       A:G       G:G       G:G       \n",
       "7  G:G        T:T        A:T       T:T       A:G       G:G       G:G       \n",
       "8  G:G        T:T        T:T       C:T       A:G       G:G       G:G       \n",
       "9  G:G        C:T        T:T       C:T       G:G       C:C       G:G       \n",
       "11 G:G        C:T        T:T       C:T       A:G       G:G       G:G       \n",
       "   rs1049305 rs1049434 rs10497520 ... rs8111989 rs8192678 rs824205 rs833070\n",
       "0  C:G       A:T       C:T        ... C:T       A:G       G:G      A:G     \n",
       "4  G:G       A:A       C:C        ... C:T       A:G       A:G      A:G     \n",
       "7  C:G       A:A       C:C        ... C:T       A:G       G:G      A:G     \n",
       "8  C:C       A:T       C:C        ... C:T       A:G       G:G      A:G     \n",
       "9  C:G       T:T       C:C        ... C:T       A:G       G:G      G:G     \n",
       "11 C:G       A:T       C:C        ... C:T       A:G       G:G      G:G     \n",
       "   rs884736 rs921943 rs9469199 rs970547 rs9902453 rs9939609\n",
       "0  C:T      A:G      A:G       A:A      A:G       A:A      \n",
       "4  C:T      A:G      G:G       A:G      A:G       T:T      \n",
       "7  C:T      A:A      G:G       A:G      A:G       A:A      \n",
       "8  C:T      A:G      G:G       A:A      A:A       A:A      \n",
       "9  T:T      G:G      G:G       A:A      A:G       A:T      \n",
       "11 C:T      A:G      G:G       A:G      G:G       T:T      "
      ]
     },
     "metadata": {},
     "output_type": "display_data"
    }
   ],
   "source": [
    "handle_genetic <- read.csv('handle_genetic_fusion_31_03_20.csv', row.name = 1)\n",
    "head(handle_genetic)"
   ]
  },
  {
   "cell_type": "markdown",
   "metadata": {},
   "source": [
    "## Analysis of predictors with zero or close to zero variance <a class=\"anchor\" id=\"2\"></a>"
   ]
  },
  {
   "cell_type": "markdown",
   "metadata": {},
   "source": [
    "* [Returning to the index of contents](#index)"
   ]
  },
  {
   "cell_type": "code",
   "execution_count": 2,
   "metadata": {},
   "outputs": [
    {
     "name": "stderr",
     "output_type": "stream",
     "text": [
      "Warning message:\n",
      "\"package 'caret' was built under R version 3.6.2\"Loading required package: lattice\n",
      "Loading required package: ggplot2\n",
      "Warning message:\n",
      "\"package 'ggplot2' was built under R version 3.6.3\""
     ]
    },
    {
     "data": {
      "text/html": [
       "<table>\n",
       "<thead><tr><th></th><th scope=col>freqRatio</th><th scope=col>percentUnique</th><th scope=col>zeroVar</th><th scope=col>nzv</th></tr></thead>\n",
       "<tbody>\n",
       "\t<tr><th scope=row>rs11051548</th><td>26.33333</td><td>2.439024</td><td>FALSE   </td><td>TRUE    </td></tr>\n",
       "\t<tr><th scope=row>rs1110976</th><td> 0.00000</td><td>1.219512</td><td> TRUE   </td><td>TRUE    </td></tr>\n",
       "\t<tr><th scope=row>rs12077871</th><td>81.00000</td><td>2.439024</td><td>FALSE   </td><td>TRUE    </td></tr>\n",
       "\t<tr><th scope=row>rs146797694</th><td> 0.00000</td><td>1.219512</td><td> TRUE   </td><td>TRUE    </td></tr>\n",
       "\t<tr><th scope=row>rs16881983</th><td>19.50000</td><td>2.439024</td><td>FALSE   </td><td>TRUE    </td></tr>\n",
       "\t<tr><th scope=row>rs35628589</th><td>19.50000</td><td>2.439024</td><td>FALSE   </td><td>TRUE    </td></tr>\n",
       "\t<tr><th scope=row>rs7181866</th><td>19.50000</td><td>2.439024</td><td>FALSE   </td><td>TRUE    </td></tr>\n",
       "</tbody>\n",
       "</table>\n"
      ],
      "text/latex": [
       "\\begin{tabular}{r|llll}\n",
       "  & freqRatio & percentUnique & zeroVar & nzv\\\\\n",
       "\\hline\n",
       "\trs11051548 & 26.33333 & 2.439024 & FALSE    & TRUE    \\\\\n",
       "\trs1110976 &  0.00000 & 1.219512 &  TRUE    & TRUE    \\\\\n",
       "\trs12077871 & 81.00000 & 2.439024 & FALSE    & TRUE    \\\\\n",
       "\trs146797694 &  0.00000 & 1.219512 &  TRUE    & TRUE    \\\\\n",
       "\trs16881983 & 19.50000 & 2.439024 & FALSE    & TRUE    \\\\\n",
       "\trs35628589 & 19.50000 & 2.439024 & FALSE    & TRUE    \\\\\n",
       "\trs7181866 & 19.50000 & 2.439024 & FALSE    & TRUE    \\\\\n",
       "\\end{tabular}\n"
      ],
      "text/markdown": [
       "\n",
       "| <!--/--> | freqRatio | percentUnique | zeroVar | nzv |\n",
       "|---|---|---|---|---|\n",
       "| rs11051548 | 26.33333 | 2.439024 | FALSE    | TRUE     |\n",
       "| rs1110976 |  0.00000 | 1.219512 |  TRUE    | TRUE     |\n",
       "| rs12077871 | 81.00000 | 2.439024 | FALSE    | TRUE     |\n",
       "| rs146797694 |  0.00000 | 1.219512 |  TRUE    | TRUE     |\n",
       "| rs16881983 | 19.50000 | 2.439024 | FALSE    | TRUE     |\n",
       "| rs35628589 | 19.50000 | 2.439024 | FALSE    | TRUE     |\n",
       "| rs7181866 | 19.50000 | 2.439024 | FALSE    | TRUE     |\n",
       "\n"
      ],
      "text/plain": [
       "            freqRatio percentUnique zeroVar nzv \n",
       "rs11051548  26.33333  2.439024      FALSE   TRUE\n",
       "rs1110976    0.00000  1.219512       TRUE   TRUE\n",
       "rs12077871  81.00000  2.439024      FALSE   TRUE\n",
       "rs146797694  0.00000  1.219512       TRUE   TRUE\n",
       "rs16881983  19.50000  2.439024      FALSE   TRUE\n",
       "rs35628589  19.50000  2.439024      FALSE   TRUE\n",
       "rs7181866   19.50000  2.439024      FALSE   TRUE"
      ]
     },
     "metadata": {},
     "output_type": "display_data"
    }
   ],
   "source": [
    "library(caret)\n",
    "\n",
    "handle_genetic_nzv <- nearZeroVar(handle_genetic,saveMetrics = TRUE)\n",
    "\n",
    "handle_genetic_nzv[handle_genetic_nzv$nzv == TRUE,]"
   ]
  },
  {
   "cell_type": "code",
   "execution_count": 4,
   "metadata": {},
   "outputs": [],
   "source": [
    "problematic_snp <- nearZeroVar(handle_genetic)"
   ]
  },
  {
   "cell_type": "code",
   "execution_count": 5,
   "metadata": {},
   "outputs": [
    {
     "data": {
      "text/html": [
       "<ol class=list-inline>\n",
       "\t<li>'rs11051548'</li>\n",
       "\t<li>'rs1110976'</li>\n",
       "\t<li>'rs12077871'</li>\n",
       "\t<li>'rs146797694'</li>\n",
       "\t<li>'rs16881983'</li>\n",
       "\t<li>'rs35628589'</li>\n",
       "\t<li>'rs7181866'</li>\n",
       "</ol>\n"
      ],
      "text/latex": [
       "\\begin{enumerate*}\n",
       "\\item 'rs11051548'\n",
       "\\item 'rs1110976'\n",
       "\\item 'rs12077871'\n",
       "\\item 'rs146797694'\n",
       "\\item 'rs16881983'\n",
       "\\item 'rs35628589'\n",
       "\\item 'rs7181866'\n",
       "\\end{enumerate*}\n"
      ],
      "text/markdown": [
       "1. 'rs11051548'\n",
       "2. 'rs1110976'\n",
       "3. 'rs12077871'\n",
       "4. 'rs146797694'\n",
       "5. 'rs16881983'\n",
       "6. 'rs35628589'\n",
       "7. 'rs7181866'\n",
       "\n",
       "\n"
      ],
      "text/plain": [
       "[1] \"rs11051548\"  \"rs1110976\"   \"rs12077871\"  \"rs146797694\" \"rs16881983\" \n",
       "[6] \"rs35628589\"  \"rs7181866\"  "
      ]
     },
     "metadata": {},
     "output_type": "display_data"
    }
   ],
   "source": [
    "names(handle_genetic[,problematic_snp])"
   ]
  },
  {
   "cell_type": "markdown",
   "metadata": {},
   "source": [
    "These genetic predictors or SNPs present zero or near zero variance, we eliminate them to avoid interferences later in modelling."
   ]
  },
  {
   "cell_type": "code",
   "execution_count": 6,
   "metadata": {},
   "outputs": [
    {
     "data": {
      "text/html": [
       "<table>\n",
       "<thead><tr><th></th><th scope=col>rs10034661</th><th scope=col>rs10063949</th><th scope=col>rs1024610</th><th scope=col>rs1024611</th><th scope=col>rs1042713</th><th scope=col>rs1045485</th><th scope=col>rs10491003</th><th scope=col>rs1049305</th><th scope=col>rs1049434</th><th scope=col>rs10497520</th><th scope=col>...</th><th scope=col>rs8111989</th><th scope=col>rs8192678</th><th scope=col>rs824205</th><th scope=col>rs833070</th><th scope=col>rs884736</th><th scope=col>rs921943</th><th scope=col>rs9469199</th><th scope=col>rs970547</th><th scope=col>rs9902453</th><th scope=col>rs9939609</th></tr></thead>\n",
       "<tbody>\n",
       "\t<tr><th scope=row>0</th><td>G:G</td><td>C:T</td><td>A:T</td><td>T:T</td><td>A:A</td><td>C:G</td><td>G:G</td><td>C:G</td><td>A:T</td><td>C:T</td><td>...</td><td>C:T</td><td>A:G</td><td>G:G</td><td>A:G</td><td>C:T</td><td>A:G</td><td>A:G</td><td>A:A</td><td>A:G</td><td>A:A</td></tr>\n",
       "\t<tr><th scope=row>4</th><td>G:G</td><td>C:T</td><td>A:T</td><td>C:T</td><td>A:G</td><td>G:G</td><td>G:G</td><td>G:G</td><td>A:A</td><td>C:C</td><td>...</td><td>C:T</td><td>A:G</td><td>A:G</td><td>A:G</td><td>C:T</td><td>A:G</td><td>G:G</td><td>A:G</td><td>A:G</td><td>T:T</td></tr>\n",
       "\t<tr><th scope=row>7</th><td>G:G</td><td>T:T</td><td>A:T</td><td>T:T</td><td>A:G</td><td>G:G</td><td>G:G</td><td>C:G</td><td>A:A</td><td>C:C</td><td>...</td><td>C:T</td><td>A:G</td><td>G:G</td><td>A:G</td><td>C:T</td><td>A:A</td><td>G:G</td><td>A:G</td><td>A:G</td><td>A:A</td></tr>\n",
       "\t<tr><th scope=row>8</th><td>G:G</td><td>T:T</td><td>T:T</td><td>C:T</td><td>A:G</td><td>G:G</td><td>G:G</td><td>C:C</td><td>A:T</td><td>C:C</td><td>...</td><td>C:T</td><td>A:G</td><td>G:G</td><td>A:G</td><td>C:T</td><td>A:G</td><td>G:G</td><td>A:A</td><td>A:A</td><td>A:A</td></tr>\n",
       "\t<tr><th scope=row>9</th><td>G:G</td><td>C:T</td><td>T:T</td><td>C:T</td><td>G:G</td><td>C:C</td><td>G:G</td><td>C:G</td><td>T:T</td><td>C:C</td><td>...</td><td>C:T</td><td>A:G</td><td>G:G</td><td>G:G</td><td>T:T</td><td>G:G</td><td>G:G</td><td>A:A</td><td>A:G</td><td>A:T</td></tr>\n",
       "\t<tr><th scope=row>11</th><td>G:G</td><td>C:T</td><td>T:T</td><td>C:T</td><td>A:G</td><td>G:G</td><td>G:G</td><td>C:G</td><td>A:T</td><td>C:C</td><td>...</td><td>C:T</td><td>A:G</td><td>G:G</td><td>G:G</td><td>C:T</td><td>A:G</td><td>G:G</td><td>A:G</td><td>G:G</td><td>T:T</td></tr>\n",
       "</tbody>\n",
       "</table>\n"
      ],
      "text/latex": [
       "\\begin{tabular}{r|llllllllllllllllllllllllllllllllllllllllllllllllllllllllllllllllllllllllllllllllllllllllllllllllllllllllllllllllllllllllllllllllllllllllllllllllllllllllllllllllllllllllllllllllll}\n",
       "  & rs10034661 & rs10063949 & rs1024610 & rs1024611 & rs1042713 & rs1045485 & rs10491003 & rs1049305 & rs1049434 & rs10497520 & ... & rs8111989 & rs8192678 & rs824205 & rs833070 & rs884736 & rs921943 & rs9469199 & rs970547 & rs9902453 & rs9939609\\\\\n",
       "\\hline\n",
       "\t0 & G:G & C:T & A:T & T:T & A:A & C:G & G:G & C:G & A:T & C:T & ... & C:T & A:G & G:G & A:G & C:T & A:G & A:G & A:A & A:G & A:A\\\\\n",
       "\t4 & G:G & C:T & A:T & C:T & A:G & G:G & G:G & G:G & A:A & C:C & ... & C:T & A:G & A:G & A:G & C:T & A:G & G:G & A:G & A:G & T:T\\\\\n",
       "\t7 & G:G & T:T & A:T & T:T & A:G & G:G & G:G & C:G & A:A & C:C & ... & C:T & A:G & G:G & A:G & C:T & A:A & G:G & A:G & A:G & A:A\\\\\n",
       "\t8 & G:G & T:T & T:T & C:T & A:G & G:G & G:G & C:C & A:T & C:C & ... & C:T & A:G & G:G & A:G & C:T & A:G & G:G & A:A & A:A & A:A\\\\\n",
       "\t9 & G:G & C:T & T:T & C:T & G:G & C:C & G:G & C:G & T:T & C:C & ... & C:T & A:G & G:G & G:G & T:T & G:G & G:G & A:A & A:G & A:T\\\\\n",
       "\t11 & G:G & C:T & T:T & C:T & A:G & G:G & G:G & C:G & A:T & C:C & ... & C:T & A:G & G:G & G:G & C:T & A:G & G:G & A:G & G:G & T:T\\\\\n",
       "\\end{tabular}\n"
      ],
      "text/markdown": [
       "\n",
       "| <!--/--> | rs10034661 | rs10063949 | rs1024610 | rs1024611 | rs1042713 | rs1045485 | rs10491003 | rs1049305 | rs1049434 | rs10497520 | ... | rs8111989 | rs8192678 | rs824205 | rs833070 | rs884736 | rs921943 | rs9469199 | rs970547 | rs9902453 | rs9939609 |\n",
       "|---|---|---|---|---|---|---|---|---|---|---|---|---|---|---|---|---|---|---|---|---|---|\n",
       "| 0 | G:G | C:T | A:T | T:T | A:A | C:G | G:G | C:G | A:T | C:T | ... | C:T | A:G | G:G | A:G | C:T | A:G | A:G | A:A | A:G | A:A |\n",
       "| 4 | G:G | C:T | A:T | C:T | A:G | G:G | G:G | G:G | A:A | C:C | ... | C:T | A:G | A:G | A:G | C:T | A:G | G:G | A:G | A:G | T:T |\n",
       "| 7 | G:G | T:T | A:T | T:T | A:G | G:G | G:G | C:G | A:A | C:C | ... | C:T | A:G | G:G | A:G | C:T | A:A | G:G | A:G | A:G | A:A |\n",
       "| 8 | G:G | T:T | T:T | C:T | A:G | G:G | G:G | C:C | A:T | C:C | ... | C:T | A:G | G:G | A:G | C:T | A:G | G:G | A:A | A:A | A:A |\n",
       "| 9 | G:G | C:T | T:T | C:T | G:G | C:C | G:G | C:G | T:T | C:C | ... | C:T | A:G | G:G | G:G | T:T | G:G | G:G | A:A | A:G | A:T |\n",
       "| 11 | G:G | C:T | T:T | C:T | A:G | G:G | G:G | C:G | A:T | C:C | ... | C:T | A:G | G:G | G:G | C:T | A:G | G:G | A:G | G:G | T:T |\n",
       "\n"
      ],
      "text/plain": [
       "   rs10034661 rs10063949 rs1024610 rs1024611 rs1042713 rs1045485 rs10491003\n",
       "0  G:G        C:T        A:T       T:T       A:A       C:G       G:G       \n",
       "4  G:G        C:T        A:T       C:T       A:G       G:G       G:G       \n",
       "7  G:G        T:T        A:T       T:T       A:G       G:G       G:G       \n",
       "8  G:G        T:T        T:T       C:T       A:G       G:G       G:G       \n",
       "9  G:G        C:T        T:T       C:T       G:G       C:C       G:G       \n",
       "11 G:G        C:T        T:T       C:T       A:G       G:G       G:G       \n",
       "   rs1049305 rs1049434 rs10497520 ... rs8111989 rs8192678 rs824205 rs833070\n",
       "0  C:G       A:T       C:T        ... C:T       A:G       G:G      A:G     \n",
       "4  G:G       A:A       C:C        ... C:T       A:G       A:G      A:G     \n",
       "7  C:G       A:A       C:C        ... C:T       A:G       G:G      A:G     \n",
       "8  C:C       A:T       C:C        ... C:T       A:G       G:G      A:G     \n",
       "9  C:G       T:T       C:C        ... C:T       A:G       G:G      G:G     \n",
       "11 C:G       A:T       C:C        ... C:T       A:G       G:G      G:G     \n",
       "   rs884736 rs921943 rs9469199 rs970547 rs9902453 rs9939609\n",
       "0  C:T      A:G      A:G       A:A      A:G       A:A      \n",
       "4  C:T      A:G      G:G       A:G      A:G       T:T      \n",
       "7  C:T      A:A      G:G       A:G      A:G       A:A      \n",
       "8  C:T      A:G      G:G       A:A      A:A       A:A      \n",
       "9  T:T      G:G      G:G       A:A      A:G       A:T      \n",
       "11 C:T      A:G      G:G       A:G      G:G       T:T      "
      ]
     },
     "metadata": {},
     "output_type": "display_data"
    }
   ],
   "source": [
    "handle_genetic <- handle_genetic[,-problematic_snp]\n",
    "head(handle_genetic)"
   ]
  },
  {
   "cell_type": "markdown",
   "metadata": {},
   "source": [
    "We export the new dataset with genetic predictor data:"
   ]
  },
  {
   "cell_type": "code",
   "execution_count": 7,
   "metadata": {},
   "outputs": [],
   "source": [
    "write.csv(handle_genetic, file=\"handle_genetic_fusion_28_04_20.csv\", row.names = F)"
   ]
  },
  {
   "cell_type": "markdown",
   "metadata": {},
   "source": [
    "From now on, we will use this dataset for genetic data."
   ]
  }
 ],
 "metadata": {
  "kernelspec": {
   "display_name": "R",
   "language": "R",
   "name": "ir"
  },
  "language_info": {
   "codemirror_mode": "r",
   "file_extension": ".r",
   "mimetype": "text/x-r-source",
   "name": "R",
   "pygments_lexer": "r",
   "version": "3.6.1"
  }
 },
 "nbformat": 4,
 "nbformat_minor": 4
}
