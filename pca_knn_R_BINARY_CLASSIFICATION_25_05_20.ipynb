{
 "cells": [
  {
   "cell_type": "markdown",
   "metadata": {},
   "source": [
    "# <p style=\"text-align: justify;\"><div class=\"alert alert-info\" role=\"alert\">Principal Components Analysis coupled with K-Nearest Neighbors </div></p>"
   ]
  },
  {
   "cell_type": "markdown",
   "metadata": {},
   "source": [
    "## `Ana González Guerra`"
   ]
  },
  {
   "cell_type": "markdown",
   "metadata": {},
   "source": [
    "## Index<a class=\"anchor\" id=\"index\"></a>\n",
    "\n",
    "* [Data loading](#1)\n",
    "    * [Genetic data](#2)\n",
    "    * [Physical data](#3)\n",
    "    * [Target variables data](#4)\n",
    "    * [Creating the dataframe for the analysis](#5)\n",
    "* [Principal Components Analysis (PCA)](#6)\n",
    "    * [Train test partition : 85/15](#7)\n",
    "    * [Principal components in train set](#8)\n",
    "* [K-Nearest Neighbors (KNN)](#9)\n",
    "    * [Training](#10)\n",
    "    * [Test prediction](#11)"
   ]
  },
  {
   "cell_type": "markdown",
   "metadata": {},
   "source": [
    "## Data loading <a class=\"anchor\" id=\"1\"></a>"
   ]
  },
  {
   "cell_type": "markdown",
   "metadata": {},
   "source": [
    "### Genetic data <a class=\"anchor\" id=\"2\"></a>"
   ]
  },
  {
   "cell_type": "markdown",
   "metadata": {},
   "source": [
    "* [Returning to the index of contents](#index)"
   ]
  },
  {
   "cell_type": "markdown",
   "metadata": {},
   "source": [
    "<p style=\"text-align: justify;\">With the intention of making easier the operations and the pooling between the classification for newer observations through the calculus of K-Nearest Neighbours classifier, the dataset use for genetic variables will be the one in which the genetic variables have their levels codified as 1,2,3 and the genetic variables with only one state or variance near zero has been deleted.</p>"
   ]
  },
  {
   "cell_type": "code",
   "execution_count": 98,
   "metadata": {},
   "outputs": [
    {
     "data": {
      "text/html": [
       "<table>\n",
       "<thead><tr><th scope=col>rs10034661</th><th scope=col>rs10063949</th><th scope=col>rs1024610</th><th scope=col>rs1024611</th><th scope=col>rs1042713</th><th scope=col>rs1045485</th><th scope=col>rs10491003</th><th scope=col>rs1049305</th><th scope=col>rs1049434</th><th scope=col>rs10497520</th><th scope=col>...</th><th scope=col>rs8111989</th><th scope=col>rs8192678</th><th scope=col>rs824205</th><th scope=col>rs833070</th><th scope=col>rs884736</th><th scope=col>rs921943</th><th scope=col>rs9469199</th><th scope=col>rs970547</th><th scope=col>rs9902453</th><th scope=col>rs9939609</th></tr></thead>\n",
       "<tbody>\n",
       "\t<tr><td>3  </td><td>2  </td><td>2  </td><td>3  </td><td>1  </td><td>2  </td><td>3  </td><td>2  </td><td>2  </td><td>2  </td><td>...</td><td>2  </td><td>2  </td><td>2  </td><td>2  </td><td>2  </td><td>2  </td><td>2  </td><td>1  </td><td>2  </td><td>1  </td></tr>\n",
       "\t<tr><td>3  </td><td>2  </td><td>2  </td><td>2  </td><td>2  </td><td>3  </td><td>3  </td><td>3  </td><td>1  </td><td>1  </td><td>...</td><td>2  </td><td>2  </td><td>1  </td><td>2  </td><td>2  </td><td>2  </td><td>3  </td><td>2  </td><td>2  </td><td>3  </td></tr>\n",
       "\t<tr><td>3  </td><td>3  </td><td>2  </td><td>3  </td><td>2  </td><td>3  </td><td>3  </td><td>2  </td><td>1  </td><td>1  </td><td>...</td><td>2  </td><td>2  </td><td>2  </td><td>2  </td><td>2  </td><td>1  </td><td>3  </td><td>2  </td><td>2  </td><td>1  </td></tr>\n",
       "\t<tr><td>3  </td><td>3  </td><td>3  </td><td>2  </td><td>2  </td><td>3  </td><td>3  </td><td>1  </td><td>2  </td><td>1  </td><td>...</td><td>2  </td><td>2  </td><td>2  </td><td>2  </td><td>2  </td><td>2  </td><td>3  </td><td>1  </td><td>1  </td><td>1  </td></tr>\n",
       "\t<tr><td>3  </td><td>2  </td><td>3  </td><td>2  </td><td>3  </td><td>1  </td><td>3  </td><td>2  </td><td>3  </td><td>1  </td><td>...</td><td>2  </td><td>2  </td><td>2  </td><td>3  </td><td>3  </td><td>3  </td><td>3  </td><td>1  </td><td>2  </td><td>2  </td></tr>\n",
       "\t<tr><td>3  </td><td>2  </td><td>3  </td><td>2  </td><td>2  </td><td>3  </td><td>3  </td><td>2  </td><td>2  </td><td>1  </td><td>...</td><td>2  </td><td>2  </td><td>2  </td><td>3  </td><td>2  </td><td>2  </td><td>3  </td><td>2  </td><td>3  </td><td>3  </td></tr>\n",
       "</tbody>\n",
       "</table>\n"
      ],
      "text/latex": [
       "\\begin{tabular}{r|llllllllllllllllllllllllllllllllllllllllllllllllllllllllllllllllllllllllllllllllllllllllllllllllllllllllllllllllllllllllllllllllllllllllllllllllllllllllllllllllllllllllllllllllll}\n",
       " rs10034661 & rs10063949 & rs1024610 & rs1024611 & rs1042713 & rs1045485 & rs10491003 & rs1049305 & rs1049434 & rs10497520 & ... & rs8111989 & rs8192678 & rs824205 & rs833070 & rs884736 & rs921943 & rs9469199 & rs970547 & rs9902453 & rs9939609\\\\\n",
       "\\hline\n",
       "\t 3   & 2   & 2   & 3   & 1   & 2   & 3   & 2   & 2   & 2   & ... & 2   & 2   & 2   & 2   & 2   & 2   & 2   & 1   & 2   & 1  \\\\\n",
       "\t 3   & 2   & 2   & 2   & 2   & 3   & 3   & 3   & 1   & 1   & ... & 2   & 2   & 1   & 2   & 2   & 2   & 3   & 2   & 2   & 3  \\\\\n",
       "\t 3   & 3   & 2   & 3   & 2   & 3   & 3   & 2   & 1   & 1   & ... & 2   & 2   & 2   & 2   & 2   & 1   & 3   & 2   & 2   & 1  \\\\\n",
       "\t 3   & 3   & 3   & 2   & 2   & 3   & 3   & 1   & 2   & 1   & ... & 2   & 2   & 2   & 2   & 2   & 2   & 3   & 1   & 1   & 1  \\\\\n",
       "\t 3   & 2   & 3   & 2   & 3   & 1   & 3   & 2   & 3   & 1   & ... & 2   & 2   & 2   & 3   & 3   & 3   & 3   & 1   & 2   & 2  \\\\\n",
       "\t 3   & 2   & 3   & 2   & 2   & 3   & 3   & 2   & 2   & 1   & ... & 2   & 2   & 2   & 3   & 2   & 2   & 3   & 2   & 3   & 3  \\\\\n",
       "\\end{tabular}\n"
      ],
      "text/markdown": [
       "\n",
       "| rs10034661 | rs10063949 | rs1024610 | rs1024611 | rs1042713 | rs1045485 | rs10491003 | rs1049305 | rs1049434 | rs10497520 | ... | rs8111989 | rs8192678 | rs824205 | rs833070 | rs884736 | rs921943 | rs9469199 | rs970547 | rs9902453 | rs9939609 |\n",
       "|---|---|---|---|---|---|---|---|---|---|---|---|---|---|---|---|---|---|---|---|---|\n",
       "| 3   | 2   | 2   | 3   | 1   | 2   | 3   | 2   | 2   | 2   | ... | 2   | 2   | 2   | 2   | 2   | 2   | 2   | 1   | 2   | 1   |\n",
       "| 3   | 2   | 2   | 2   | 2   | 3   | 3   | 3   | 1   | 1   | ... | 2   | 2   | 1   | 2   | 2   | 2   | 3   | 2   | 2   | 3   |\n",
       "| 3   | 3   | 2   | 3   | 2   | 3   | 3   | 2   | 1   | 1   | ... | 2   | 2   | 2   | 2   | 2   | 1   | 3   | 2   | 2   | 1   |\n",
       "| 3   | 3   | 3   | 2   | 2   | 3   | 3   | 1   | 2   | 1   | ... | 2   | 2   | 2   | 2   | 2   | 2   | 3   | 1   | 1   | 1   |\n",
       "| 3   | 2   | 3   | 2   | 3   | 1   | 3   | 2   | 3   | 1   | ... | 2   | 2   | 2   | 3   | 3   | 3   | 3   | 1   | 2   | 2   |\n",
       "| 3   | 2   | 3   | 2   | 2   | 3   | 3   | 2   | 2   | 1   | ... | 2   | 2   | 2   | 3   | 2   | 2   | 3   | 2   | 3   | 3   |\n",
       "\n"
      ],
      "text/plain": [
       "  rs10034661 rs10063949 rs1024610 rs1024611 rs1042713 rs1045485 rs10491003\n",
       "1 3          2          2         3         1         2         3         \n",
       "2 3          2          2         2         2         3         3         \n",
       "3 3          3          2         3         2         3         3         \n",
       "4 3          3          3         2         2         3         3         \n",
       "5 3          2          3         2         3         1         3         \n",
       "6 3          2          3         2         2         3         3         \n",
       "  rs1049305 rs1049434 rs10497520 ... rs8111989 rs8192678 rs824205 rs833070\n",
       "1 2         2         2          ... 2         2         2        2       \n",
       "2 3         1         1          ... 2         2         1        2       \n",
       "3 2         1         1          ... 2         2         2        2       \n",
       "4 1         2         1          ... 2         2         2        2       \n",
       "5 2         3         1          ... 2         2         2        3       \n",
       "6 2         2         1          ... 2         2         2        3       \n",
       "  rs884736 rs921943 rs9469199 rs970547 rs9902453 rs9939609\n",
       "1 2        2        2         1        2         1        \n",
       "2 2        2        3         2        2         3        \n",
       "3 2        1        3         2        2         1        \n",
       "4 2        2        3         1        1         1        \n",
       "5 3        3        3         1        2         2        \n",
       "6 2        2        3         2        3         3        "
      ]
     },
     "metadata": {},
     "output_type": "display_data"
    }
   ],
   "source": [
    "handle_genetic <-  read.csv('handle_genetic_cod_28_04_20.csv')\n",
    "\n",
    "head(handle_genetic)"
   ]
  },
  {
   "cell_type": "markdown",
   "metadata": {},
   "source": [
    "### Physical data <a class=\"anchor\" id =\"3\"></a>"
   ]
  },
  {
   "cell_type": "markdown",
   "metadata": {},
   "source": [
    "* [Returning to the index of contents](#index)"
   ]
  },
  {
   "cell_type": "code",
   "execution_count": 99,
   "metadata": {},
   "outputs": [
    {
     "data": {
      "text/html": [
       "<table>\n",
       "<thead><tr><th scope=col>W1Fc</th><th scope=col>W1Ox</th><th scope=col>W1Lac</th><th scope=col>W1tFc</th><th scope=col>W1tOx</th><th scope=col>W1tLac</th><th scope=col>W1tBorg</th><th scope=col>W1t5Fc</th><th scope=col>W1t5Ox</th><th scope=col>W1t5Lac</th><th scope=col>...</th><th scope=col>W1t.W1LacAbs</th><th scope=col>W1t5.W1tLacAbs</th><th scope=col>W2t.W1t5LacAbs</th><th scope=col>W2t5.W2tLacAbs</th><th scope=col>W2t10.W2t5LacAbs</th><th scope=col>W1t.W1LacR</th><th scope=col>W1t5.W1tLacR</th><th scope=col>W2t.W1t5LacR</th><th scope=col>W2t5.W2tLacR</th><th scope=col>W2t10.W2t5LacR</th></tr></thead>\n",
       "<tbody>\n",
       "\t<tr><td>109         </td><td>92          </td><td>1.9         </td><td>133         </td><td>95          </td><td>2.3         </td><td> 8          </td><td> 59         </td><td>90          </td><td> 4.7        </td><td>...         </td><td>0.4         </td><td>2.4         </td><td>0.9         </td><td> 1.8        </td><td>-0.5        </td><td>0.2105263   </td><td>1.0434783   </td><td>0.19148936  </td><td> 0.321428571</td><td>-0.06756757 </td></tr>\n",
       "\t<tr><td> 84         </td><td>90          </td><td>3.4         </td><td>151         </td><td>82          </td><td>4.3         </td><td> 8          </td><td> 74         </td><td>97          </td><td> 6.3        </td><td>...         </td><td>0.9         </td><td>2.0         </td><td>0.6         </td><td> 1.4        </td><td>-0.6        </td><td>0.2647059   </td><td>0.4651163   </td><td>0.09523810  </td><td> 0.202898551</td><td>-0.07228916 </td></tr>\n",
       "\t<tr><td>136         </td><td>98          </td><td>1.3         </td><td>164         </td><td>97          </td><td>2.8         </td><td>10          </td><td>121         </td><td>97          </td><td> 9.0        </td><td>...         </td><td>1.5         </td><td>6.2         </td><td>1.0         </td><td> 0.2        </td><td> 0.9        </td><td>1.1538462   </td><td>2.2142857   </td><td>0.11111111  </td><td> 0.020000000</td><td> 0.08823529 </td></tr>\n",
       "\t<tr><td>120         </td><td>97          </td><td>1.8         </td><td>150         </td><td>76          </td><td>4.2         </td><td> 8          </td><td>141         </td><td>98          </td><td> 9.7        </td><td>...         </td><td>2.4         </td><td>5.5         </td><td>0.5         </td><td>-0.1        </td><td>-0.6        </td><td>1.3333333   </td><td>1.3095238   </td><td>0.05154639  </td><td>-0.009803922</td><td>-0.05940594 </td></tr>\n",
       "\t<tr><td> 62         </td><td>97          </td><td>2.8         </td><td>172         </td><td>91          </td><td>4.9         </td><td> 9          </td><td>119         </td><td>88          </td><td>10.8        </td><td>...         </td><td>2.1         </td><td>5.9         </td><td>1.2         </td><td> 1.6        </td><td> 0.6        </td><td>0.7500000   </td><td>1.2040816   </td><td>0.11111111  </td><td> 0.133333333</td><td> 0.04411765 </td></tr>\n",
       "\t<tr><td>103         </td><td>99          </td><td>2.4         </td><td>174         </td><td>96          </td><td>3.6         </td><td>10          </td><td>115         </td><td>99          </td><td> 9.3        </td><td>...         </td><td>1.2         </td><td>5.7         </td><td>2.4         </td><td> 1.2        </td><td>-1.8        </td><td>0.5000000   </td><td>1.5833333   </td><td>0.25806452  </td><td> 0.102564103</td><td>-0.13953488 </td></tr>\n",
       "</tbody>\n",
       "</table>\n"
      ],
      "text/latex": [
       "\\begin{tabular}{r|lllllllllllllllllllllllllllllllllllllllllllllllllllll}\n",
       " W1Fc & W1Ox & W1Lac & W1tFc & W1tOx & W1tLac & W1tBorg & W1t5Fc & W1t5Ox & W1t5Lac & ... & W1t.W1LacAbs & W1t5.W1tLacAbs & W2t.W1t5LacAbs & W2t5.W2tLacAbs & W2t10.W2t5LacAbs & W1t.W1LacR & W1t5.W1tLacR & W2t.W1t5LacR & W2t5.W2tLacR & W2t10.W2t5LacR\\\\\n",
       "\\hline\n",
       "\t 109          & 92           & 1.9          & 133          & 95           & 2.3          &  8           &  59          & 90           &  4.7         & ...          & 0.4          & 2.4          & 0.9          &  1.8         & -0.5         & 0.2105263    & 1.0434783    & 0.19148936   &  0.321428571 & -0.06756757 \\\\\n",
       "\t  84          & 90           & 3.4          & 151          & 82           & 4.3          &  8           &  74          & 97           &  6.3         & ...          & 0.9          & 2.0          & 0.6          &  1.4         & -0.6         & 0.2647059    & 0.4651163    & 0.09523810   &  0.202898551 & -0.07228916 \\\\\n",
       "\t 136          & 98           & 1.3          & 164          & 97           & 2.8          & 10           & 121          & 97           &  9.0         & ...          & 1.5          & 6.2          & 1.0          &  0.2         &  0.9         & 1.1538462    & 2.2142857    & 0.11111111   &  0.020000000 &  0.08823529 \\\\\n",
       "\t 120          & 97           & 1.8          & 150          & 76           & 4.2          &  8           & 141          & 98           &  9.7         & ...          & 2.4          & 5.5          & 0.5          & -0.1         & -0.6         & 1.3333333    & 1.3095238    & 0.05154639   & -0.009803922 & -0.05940594 \\\\\n",
       "\t  62          & 97           & 2.8          & 172          & 91           & 4.9          &  9           & 119          & 88           & 10.8         & ...          & 2.1          & 5.9          & 1.2          &  1.6         &  0.6         & 0.7500000    & 1.2040816    & 0.11111111   &  0.133333333 &  0.04411765 \\\\\n",
       "\t 103          & 99           & 2.4          & 174          & 96           & 3.6          & 10           & 115          & 99           &  9.3         & ...          & 1.2          & 5.7          & 2.4          &  1.2         & -1.8         & 0.5000000    & 1.5833333    & 0.25806452   &  0.102564103 & -0.13953488 \\\\\n",
       "\\end{tabular}\n"
      ],
      "text/markdown": [
       "\n",
       "| W1Fc | W1Ox | W1Lac | W1tFc | W1tOx | W1tLac | W1tBorg | W1t5Fc | W1t5Ox | W1t5Lac | ... | W1t.W1LacAbs | W1t5.W1tLacAbs | W2t.W1t5LacAbs | W2t5.W2tLacAbs | W2t10.W2t5LacAbs | W1t.W1LacR | W1t5.W1tLacR | W2t.W1t5LacR | W2t5.W2tLacR | W2t10.W2t5LacR |\n",
       "|---|---|---|---|---|---|---|---|---|---|---|---|---|---|---|---|---|---|---|---|---|\n",
       "| 109          | 92           | 1.9          | 133          | 95           | 2.3          |  8           |  59          | 90           |  4.7         | ...          | 0.4          | 2.4          | 0.9          |  1.8         | -0.5         | 0.2105263    | 1.0434783    | 0.19148936   |  0.321428571 | -0.06756757  |\n",
       "|  84          | 90           | 3.4          | 151          | 82           | 4.3          |  8           |  74          | 97           |  6.3         | ...          | 0.9          | 2.0          | 0.6          |  1.4         | -0.6         | 0.2647059    | 0.4651163    | 0.09523810   |  0.202898551 | -0.07228916  |\n",
       "| 136          | 98           | 1.3          | 164          | 97           | 2.8          | 10           | 121          | 97           |  9.0         | ...          | 1.5          | 6.2          | 1.0          |  0.2         |  0.9         | 1.1538462    | 2.2142857    | 0.11111111   |  0.020000000 |  0.08823529  |\n",
       "| 120          | 97           | 1.8          | 150          | 76           | 4.2          |  8           | 141          | 98           |  9.7         | ...          | 2.4          | 5.5          | 0.5          | -0.1         | -0.6         | 1.3333333    | 1.3095238    | 0.05154639   | -0.009803922 | -0.05940594  |\n",
       "|  62          | 97           | 2.8          | 172          | 91           | 4.9          |  9           | 119          | 88           | 10.8         | ...          | 2.1          | 5.9          | 1.2          |  1.6         |  0.6         | 0.7500000    | 1.2040816    | 0.11111111   |  0.133333333 |  0.04411765  |\n",
       "| 103          | 99           | 2.4          | 174          | 96           | 3.6          | 10           | 115          | 99           |  9.3         | ...          | 1.2          | 5.7          | 2.4          |  1.2         | -1.8         | 0.5000000    | 1.5833333    | 0.25806452   |  0.102564103 | -0.13953488  |\n",
       "\n"
      ],
      "text/plain": [
       "  W1Fc W1Ox W1Lac W1tFc W1tOx W1tLac W1tBorg W1t5Fc W1t5Ox W1t5Lac ...\n",
       "1 109  92   1.9   133   95    2.3     8       59    90      4.7    ...\n",
       "2  84  90   3.4   151   82    4.3     8       74    97      6.3    ...\n",
       "3 136  98   1.3   164   97    2.8    10      121    97      9.0    ...\n",
       "4 120  97   1.8   150   76    4.2     8      141    98      9.7    ...\n",
       "5  62  97   2.8   172   91    4.9     9      119    88     10.8    ...\n",
       "6 103  99   2.4   174   96    3.6    10      115    99      9.3    ...\n",
       "  W1t.W1LacAbs W1t5.W1tLacAbs W2t.W1t5LacAbs W2t5.W2tLacAbs W2t10.W2t5LacAbs\n",
       "1 0.4          2.4            0.9             1.8           -0.5            \n",
       "2 0.9          2.0            0.6             1.4           -0.6            \n",
       "3 1.5          6.2            1.0             0.2            0.9            \n",
       "4 2.4          5.5            0.5            -0.1           -0.6            \n",
       "5 2.1          5.9            1.2             1.6            0.6            \n",
       "6 1.2          5.7            2.4             1.2           -1.8            \n",
       "  W1t.W1LacR W1t5.W1tLacR W2t.W1t5LacR W2t5.W2tLacR W2t10.W2t5LacR\n",
       "1 0.2105263  1.0434783    0.19148936    0.321428571 -0.06756757   \n",
       "2 0.2647059  0.4651163    0.09523810    0.202898551 -0.07228916   \n",
       "3 1.1538462  2.2142857    0.11111111    0.020000000  0.08823529   \n",
       "4 1.3333333  1.3095238    0.05154639   -0.009803922 -0.05940594   \n",
       "5 0.7500000  1.2040816    0.11111111    0.133333333  0.04411765   \n",
       "6 0.5000000  1.5833333    0.25806452    0.102564103 -0.13953488   "
      ]
     },
     "metadata": {},
     "output_type": "display_data"
    },
    {
     "data": {
      "text/html": [
       "<ol class=list-inline>\n",
       "\t<li>'W1Fc'</li>\n",
       "\t<li>'W1Ox'</li>\n",
       "\t<li>'W1Lac'</li>\n",
       "\t<li>'W1tFc'</li>\n",
       "\t<li>'W1tOx'</li>\n",
       "\t<li>'W1tLac'</li>\n",
       "\t<li>'W1tBorg'</li>\n",
       "\t<li>'W1t5Fc'</li>\n",
       "\t<li>'W1t5Ox'</li>\n",
       "\t<li>'W1t5Lac'</li>\n",
       "\t<li>'W2tFc'</li>\n",
       "\t<li>'W2tOx'</li>\n",
       "\t<li>'W2tLac'</li>\n",
       "\t<li>'W2tBorg'</li>\n",
       "\t<li>'W2t5Fc'</li>\n",
       "\t<li>'W2t5Ox'</li>\n",
       "\t<li>'W2t5Lac'</li>\n",
       "\t<li>'W2t10Fc'</li>\n",
       "\t<li>'W2t10Ox'</li>\n",
       "\t<li>'W2t10Lac'</li>\n",
       "\t<li>'Sumat'</li>\n",
       "\t<li>'Peso'</li>\n",
       "\t<li>'Edad'</li>\n",
       "\t<li>'Altura'</li>\n",
       "\t<li>'PlieguePec'</li>\n",
       "\t<li>'PliegueAx'</li>\n",
       "\t<li>'PliegueTri'</li>\n",
       "\t<li>'PliegueSub'</li>\n",
       "\t<li>'PliegueAbd'</li>\n",
       "\t<li>'PliegueSup'</li>\n",
       "\t<li>'PliegueMus'</li>\n",
       "\t<li>'tpcgrasa1'</li>\n",
       "\t<li>'tpcgrasa2'</li>\n",
       "\t<li>'PerCue'</li>\n",
       "\t<li>'PerCin'</li>\n",
       "\t<li>'FM1'</li>\n",
       "\t<li>'FM2'</li>\n",
       "\t<li>'X.FFM1'</li>\n",
       "\t<li>'X.FFM2'</li>\n",
       "\t<li>'FFM1'</li>\n",
       "\t<li>'FFM2'</li>\n",
       "\t<li>'FFMI1'</li>\n",
       "\t<li>'FFMI2'</li>\n",
       "\t<li>'W1t.W1LacAbs'</li>\n",
       "\t<li>'W1t5.W1tLacAbs'</li>\n",
       "\t<li>'W2t.W1t5LacAbs'</li>\n",
       "\t<li>'W2t5.W2tLacAbs'</li>\n",
       "\t<li>'W2t10.W2t5LacAbs'</li>\n",
       "\t<li>'W1t.W1LacR'</li>\n",
       "\t<li>'W1t5.W1tLacR'</li>\n",
       "\t<li>'W2t.W1t5LacR'</li>\n",
       "\t<li>'W2t5.W2tLacR'</li>\n",
       "\t<li>'W2t10.W2t5LacR'</li>\n",
       "</ol>\n"
      ],
      "text/latex": [
       "\\begin{enumerate*}\n",
       "\\item 'W1Fc'\n",
       "\\item 'W1Ox'\n",
       "\\item 'W1Lac'\n",
       "\\item 'W1tFc'\n",
       "\\item 'W1tOx'\n",
       "\\item 'W1tLac'\n",
       "\\item 'W1tBorg'\n",
       "\\item 'W1t5Fc'\n",
       "\\item 'W1t5Ox'\n",
       "\\item 'W1t5Lac'\n",
       "\\item 'W2tFc'\n",
       "\\item 'W2tOx'\n",
       "\\item 'W2tLac'\n",
       "\\item 'W2tBorg'\n",
       "\\item 'W2t5Fc'\n",
       "\\item 'W2t5Ox'\n",
       "\\item 'W2t5Lac'\n",
       "\\item 'W2t10Fc'\n",
       "\\item 'W2t10Ox'\n",
       "\\item 'W2t10Lac'\n",
       "\\item 'Sumat'\n",
       "\\item 'Peso'\n",
       "\\item 'Edad'\n",
       "\\item 'Altura'\n",
       "\\item 'PlieguePec'\n",
       "\\item 'PliegueAx'\n",
       "\\item 'PliegueTri'\n",
       "\\item 'PliegueSub'\n",
       "\\item 'PliegueAbd'\n",
       "\\item 'PliegueSup'\n",
       "\\item 'PliegueMus'\n",
       "\\item 'tpcgrasa1'\n",
       "\\item 'tpcgrasa2'\n",
       "\\item 'PerCue'\n",
       "\\item 'PerCin'\n",
       "\\item 'FM1'\n",
       "\\item 'FM2'\n",
       "\\item 'X.FFM1'\n",
       "\\item 'X.FFM2'\n",
       "\\item 'FFM1'\n",
       "\\item 'FFM2'\n",
       "\\item 'FFMI1'\n",
       "\\item 'FFMI2'\n",
       "\\item 'W1t.W1LacAbs'\n",
       "\\item 'W1t5.W1tLacAbs'\n",
       "\\item 'W2t.W1t5LacAbs'\n",
       "\\item 'W2t5.W2tLacAbs'\n",
       "\\item 'W2t10.W2t5LacAbs'\n",
       "\\item 'W1t.W1LacR'\n",
       "\\item 'W1t5.W1tLacR'\n",
       "\\item 'W2t.W1t5LacR'\n",
       "\\item 'W2t5.W2tLacR'\n",
       "\\item 'W2t10.W2t5LacR'\n",
       "\\end{enumerate*}\n"
      ],
      "text/markdown": [
       "1. 'W1Fc'\n",
       "2. 'W1Ox'\n",
       "3. 'W1Lac'\n",
       "4. 'W1tFc'\n",
       "5. 'W1tOx'\n",
       "6. 'W1tLac'\n",
       "7. 'W1tBorg'\n",
       "8. 'W1t5Fc'\n",
       "9. 'W1t5Ox'\n",
       "10. 'W1t5Lac'\n",
       "11. 'W2tFc'\n",
       "12. 'W2tOx'\n",
       "13. 'W2tLac'\n",
       "14. 'W2tBorg'\n",
       "15. 'W2t5Fc'\n",
       "16. 'W2t5Ox'\n",
       "17. 'W2t5Lac'\n",
       "18. 'W2t10Fc'\n",
       "19. 'W2t10Ox'\n",
       "20. 'W2t10Lac'\n",
       "21. 'Sumat'\n",
       "22. 'Peso'\n",
       "23. 'Edad'\n",
       "24. 'Altura'\n",
       "25. 'PlieguePec'\n",
       "26. 'PliegueAx'\n",
       "27. 'PliegueTri'\n",
       "28. 'PliegueSub'\n",
       "29. 'PliegueAbd'\n",
       "30. 'PliegueSup'\n",
       "31. 'PliegueMus'\n",
       "32. 'tpcgrasa1'\n",
       "33. 'tpcgrasa2'\n",
       "34. 'PerCue'\n",
       "35. 'PerCin'\n",
       "36. 'FM1'\n",
       "37. 'FM2'\n",
       "38. 'X.FFM1'\n",
       "39. 'X.FFM2'\n",
       "40. 'FFM1'\n",
       "41. 'FFM2'\n",
       "42. 'FFMI1'\n",
       "43. 'FFMI2'\n",
       "44. 'W1t.W1LacAbs'\n",
       "45. 'W1t5.W1tLacAbs'\n",
       "46. 'W2t.W1t5LacAbs'\n",
       "47. 'W2t5.W2tLacAbs'\n",
       "48. 'W2t10.W2t5LacAbs'\n",
       "49. 'W1t.W1LacR'\n",
       "50. 'W1t5.W1tLacR'\n",
       "51. 'W2t.W1t5LacR'\n",
       "52. 'W2t5.W2tLacR'\n",
       "53. 'W2t10.W2t5LacR'\n",
       "\n",
       "\n"
      ],
      "text/plain": [
       " [1] \"W1Fc\"             \"W1Ox\"             \"W1Lac\"            \"W1tFc\"           \n",
       " [5] \"W1tOx\"            \"W1tLac\"           \"W1tBorg\"          \"W1t5Fc\"          \n",
       " [9] \"W1t5Ox\"           \"W1t5Lac\"          \"W2tFc\"            \"W2tOx\"           \n",
       "[13] \"W2tLac\"           \"W2tBorg\"          \"W2t5Fc\"           \"W2t5Ox\"          \n",
       "[17] \"W2t5Lac\"          \"W2t10Fc\"          \"W2t10Ox\"          \"W2t10Lac\"        \n",
       "[21] \"Sumat\"            \"Peso\"             \"Edad\"             \"Altura\"          \n",
       "[25] \"PlieguePec\"       \"PliegueAx\"        \"PliegueTri\"       \"PliegueSub\"      \n",
       "[29] \"PliegueAbd\"       \"PliegueSup\"       \"PliegueMus\"       \"tpcgrasa1\"       \n",
       "[33] \"tpcgrasa2\"        \"PerCue\"           \"PerCin\"           \"FM1\"             \n",
       "[37] \"FM2\"              \"X.FFM1\"           \"X.FFM2\"           \"FFM1\"            \n",
       "[41] \"FFM2\"             \"FFMI1\"            \"FFMI2\"            \"W1t.W1LacAbs\"    \n",
       "[45] \"W1t5.W1tLacAbs\"   \"W2t.W1t5LacAbs\"   \"W2t5.W2tLacAbs\"   \"W2t10.W2t5LacAbs\"\n",
       "[49] \"W1t.W1LacR\"       \"W1t5.W1tLacR\"     \"W2t.W1t5LacR\"     \"W2t5.W2tLacR\"    \n",
       "[53] \"W2t10.W2t5LacR\"  "
      ]
     },
     "metadata": {},
     "output_type": "display_data"
    }
   ],
   "source": [
    "handle_physic <- read.csv('handle_fisic_fusion_31_03_20.csv',row.name = 1)\n",
    "rownames(handle_physic) <- NULL    \n",
    "head(handle_physic)\n",
    "names(handle_physic)"
   ]
  },
  {
   "cell_type": "markdown",
   "metadata": {},
   "source": [
    "<p style=\"text-align: justify;\">In this notebook the target value will be W1.2MedDifWRelFFM1 related variables will be deleted, that means, all variables that in its names contain the substring 'FM'.</p>"
   ]
  },
  {
   "cell_type": "code",
   "execution_count": 100,
   "metadata": {},
   "outputs": [
    {
     "data": {
      "text/html": [
       "<ol class=list-inline>\n",
       "\t<li>'W1Fc'</li>\n",
       "\t<li>'W1Ox'</li>\n",
       "\t<li>'W1Lac'</li>\n",
       "\t<li>'W1tFc'</li>\n",
       "\t<li>'W1tOx'</li>\n",
       "\t<li>'W1tLac'</li>\n",
       "\t<li>'W1tBorg'</li>\n",
       "\t<li>'W1t5Fc'</li>\n",
       "\t<li>'W1t5Ox'</li>\n",
       "\t<li>'W1t5Lac'</li>\n",
       "\t<li>'W2tFc'</li>\n",
       "\t<li>'W2tOx'</li>\n",
       "\t<li>'W2tLac'</li>\n",
       "\t<li>'W2tBorg'</li>\n",
       "\t<li>'W2t5Fc'</li>\n",
       "\t<li>'W2t5Ox'</li>\n",
       "\t<li>'W2t5Lac'</li>\n",
       "\t<li>'W2t10Fc'</li>\n",
       "\t<li>'W2t10Ox'</li>\n",
       "\t<li>'W2t10Lac'</li>\n",
       "\t<li>'Sumat'</li>\n",
       "\t<li>'Peso'</li>\n",
       "\t<li>'Edad'</li>\n",
       "\t<li>'Altura'</li>\n",
       "\t<li>'PlieguePec'</li>\n",
       "\t<li>'PliegueAx'</li>\n",
       "\t<li>'PliegueTri'</li>\n",
       "\t<li>'PliegueSub'</li>\n",
       "\t<li>'PliegueAbd'</li>\n",
       "\t<li>'PliegueSup'</li>\n",
       "\t<li>'PliegueMus'</li>\n",
       "\t<li>'tpcgrasa1'</li>\n",
       "\t<li>'tpcgrasa2'</li>\n",
       "\t<li>'PerCue'</li>\n",
       "\t<li>'PerCin'</li>\n",
       "\t<li>'W1t.W1LacAbs'</li>\n",
       "\t<li>'W1t5.W1tLacAbs'</li>\n",
       "\t<li>'W2t.W1t5LacAbs'</li>\n",
       "\t<li>'W2t5.W2tLacAbs'</li>\n",
       "\t<li>'W2t10.W2t5LacAbs'</li>\n",
       "\t<li>'W1t.W1LacR'</li>\n",
       "\t<li>'W1t5.W1tLacR'</li>\n",
       "\t<li>'W2t.W1t5LacR'</li>\n",
       "\t<li>'W2t5.W2tLacR'</li>\n",
       "\t<li>'W2t10.W2t5LacR'</li>\n",
       "</ol>\n"
      ],
      "text/latex": [
       "\\begin{enumerate*}\n",
       "\\item 'W1Fc'\n",
       "\\item 'W1Ox'\n",
       "\\item 'W1Lac'\n",
       "\\item 'W1tFc'\n",
       "\\item 'W1tOx'\n",
       "\\item 'W1tLac'\n",
       "\\item 'W1tBorg'\n",
       "\\item 'W1t5Fc'\n",
       "\\item 'W1t5Ox'\n",
       "\\item 'W1t5Lac'\n",
       "\\item 'W2tFc'\n",
       "\\item 'W2tOx'\n",
       "\\item 'W2tLac'\n",
       "\\item 'W2tBorg'\n",
       "\\item 'W2t5Fc'\n",
       "\\item 'W2t5Ox'\n",
       "\\item 'W2t5Lac'\n",
       "\\item 'W2t10Fc'\n",
       "\\item 'W2t10Ox'\n",
       "\\item 'W2t10Lac'\n",
       "\\item 'Sumat'\n",
       "\\item 'Peso'\n",
       "\\item 'Edad'\n",
       "\\item 'Altura'\n",
       "\\item 'PlieguePec'\n",
       "\\item 'PliegueAx'\n",
       "\\item 'PliegueTri'\n",
       "\\item 'PliegueSub'\n",
       "\\item 'PliegueAbd'\n",
       "\\item 'PliegueSup'\n",
       "\\item 'PliegueMus'\n",
       "\\item 'tpcgrasa1'\n",
       "\\item 'tpcgrasa2'\n",
       "\\item 'PerCue'\n",
       "\\item 'PerCin'\n",
       "\\item 'W1t.W1LacAbs'\n",
       "\\item 'W1t5.W1tLacAbs'\n",
       "\\item 'W2t.W1t5LacAbs'\n",
       "\\item 'W2t5.W2tLacAbs'\n",
       "\\item 'W2t10.W2t5LacAbs'\n",
       "\\item 'W1t.W1LacR'\n",
       "\\item 'W1t5.W1tLacR'\n",
       "\\item 'W2t.W1t5LacR'\n",
       "\\item 'W2t5.W2tLacR'\n",
       "\\item 'W2t10.W2t5LacR'\n",
       "\\end{enumerate*}\n"
      ],
      "text/markdown": [
       "1. 'W1Fc'\n",
       "2. 'W1Ox'\n",
       "3. 'W1Lac'\n",
       "4. 'W1tFc'\n",
       "5. 'W1tOx'\n",
       "6. 'W1tLac'\n",
       "7. 'W1tBorg'\n",
       "8. 'W1t5Fc'\n",
       "9. 'W1t5Ox'\n",
       "10. 'W1t5Lac'\n",
       "11. 'W2tFc'\n",
       "12. 'W2tOx'\n",
       "13. 'W2tLac'\n",
       "14. 'W2tBorg'\n",
       "15. 'W2t5Fc'\n",
       "16. 'W2t5Ox'\n",
       "17. 'W2t5Lac'\n",
       "18. 'W2t10Fc'\n",
       "19. 'W2t10Ox'\n",
       "20. 'W2t10Lac'\n",
       "21. 'Sumat'\n",
       "22. 'Peso'\n",
       "23. 'Edad'\n",
       "24. 'Altura'\n",
       "25. 'PlieguePec'\n",
       "26. 'PliegueAx'\n",
       "27. 'PliegueTri'\n",
       "28. 'PliegueSub'\n",
       "29. 'PliegueAbd'\n",
       "30. 'PliegueSup'\n",
       "31. 'PliegueMus'\n",
       "32. 'tpcgrasa1'\n",
       "33. 'tpcgrasa2'\n",
       "34. 'PerCue'\n",
       "35. 'PerCin'\n",
       "36. 'W1t.W1LacAbs'\n",
       "37. 'W1t5.W1tLacAbs'\n",
       "38. 'W2t.W1t5LacAbs'\n",
       "39. 'W2t5.W2tLacAbs'\n",
       "40. 'W2t10.W2t5LacAbs'\n",
       "41. 'W1t.W1LacR'\n",
       "42. 'W1t5.W1tLacR'\n",
       "43. 'W2t.W1t5LacR'\n",
       "44. 'W2t5.W2tLacR'\n",
       "45. 'W2t10.W2t5LacR'\n",
       "\n",
       "\n"
      ],
      "text/plain": [
       " [1] \"W1Fc\"             \"W1Ox\"             \"W1Lac\"            \"W1tFc\"           \n",
       " [5] \"W1tOx\"            \"W1tLac\"           \"W1tBorg\"          \"W1t5Fc\"          \n",
       " [9] \"W1t5Ox\"           \"W1t5Lac\"          \"W2tFc\"            \"W2tOx\"           \n",
       "[13] \"W2tLac\"           \"W2tBorg\"          \"W2t5Fc\"           \"W2t5Ox\"          \n",
       "[17] \"W2t5Lac\"          \"W2t10Fc\"          \"W2t10Ox\"          \"W2t10Lac\"        \n",
       "[21] \"Sumat\"            \"Peso\"             \"Edad\"             \"Altura\"          \n",
       "[25] \"PlieguePec\"       \"PliegueAx\"        \"PliegueTri\"       \"PliegueSub\"      \n",
       "[29] \"PliegueAbd\"       \"PliegueSup\"       \"PliegueMus\"       \"tpcgrasa1\"       \n",
       "[33] \"tpcgrasa2\"        \"PerCue\"           \"PerCin\"           \"W1t.W1LacAbs\"    \n",
       "[37] \"W1t5.W1tLacAbs\"   \"W2t.W1t5LacAbs\"   \"W2t5.W2tLacAbs\"   \"W2t10.W2t5LacAbs\"\n",
       "[41] \"W1t.W1LacR\"       \"W1t5.W1tLacR\"     \"W2t.W1t5LacR\"     \"W2t5.W2tLacR\"    \n",
       "[45] \"W2t10.W2t5LacR\"  "
      ]
     },
     "metadata": {},
     "output_type": "display_data"
    }
   ],
   "source": [
    "handle_physic <- handle_physic[!grepl('FM',names(handle_physic))] \n",
    "names(handle_physic)"
   ]
  },
  {
   "cell_type": "markdown",
   "metadata": {},
   "source": [
    "And with the intention of avoiding extra noise variables with the substrings 'LacAbs' or 'LacR' in its names will also be deleted."
   ]
  },
  {
   "cell_type": "code",
   "execution_count": 101,
   "metadata": {},
   "outputs": [
    {
     "data": {
      "text/html": [
       "<ol class=list-inline>\n",
       "\t<li>'W1Fc'</li>\n",
       "\t<li>'W1Ox'</li>\n",
       "\t<li>'W1Lac'</li>\n",
       "\t<li>'W1tFc'</li>\n",
       "\t<li>'W1tOx'</li>\n",
       "\t<li>'W1tLac'</li>\n",
       "\t<li>'W1tBorg'</li>\n",
       "\t<li>'W1t5Fc'</li>\n",
       "\t<li>'W1t5Ox'</li>\n",
       "\t<li>'W1t5Lac'</li>\n",
       "\t<li>'W2tFc'</li>\n",
       "\t<li>'W2tOx'</li>\n",
       "\t<li>'W2tLac'</li>\n",
       "\t<li>'W2tBorg'</li>\n",
       "\t<li>'W2t5Fc'</li>\n",
       "\t<li>'W2t5Ox'</li>\n",
       "\t<li>'W2t5Lac'</li>\n",
       "\t<li>'W2t10Fc'</li>\n",
       "\t<li>'W2t10Ox'</li>\n",
       "\t<li>'W2t10Lac'</li>\n",
       "\t<li>'Sumat'</li>\n",
       "\t<li>'Peso'</li>\n",
       "\t<li>'Edad'</li>\n",
       "\t<li>'Altura'</li>\n",
       "\t<li>'PlieguePec'</li>\n",
       "\t<li>'PliegueAx'</li>\n",
       "\t<li>'PliegueTri'</li>\n",
       "\t<li>'PliegueSub'</li>\n",
       "\t<li>'PliegueAbd'</li>\n",
       "\t<li>'PliegueSup'</li>\n",
       "\t<li>'PliegueMus'</li>\n",
       "\t<li>'tpcgrasa1'</li>\n",
       "\t<li>'tpcgrasa2'</li>\n",
       "\t<li>'PerCue'</li>\n",
       "\t<li>'PerCin'</li>\n",
       "</ol>\n"
      ],
      "text/latex": [
       "\\begin{enumerate*}\n",
       "\\item 'W1Fc'\n",
       "\\item 'W1Ox'\n",
       "\\item 'W1Lac'\n",
       "\\item 'W1tFc'\n",
       "\\item 'W1tOx'\n",
       "\\item 'W1tLac'\n",
       "\\item 'W1tBorg'\n",
       "\\item 'W1t5Fc'\n",
       "\\item 'W1t5Ox'\n",
       "\\item 'W1t5Lac'\n",
       "\\item 'W2tFc'\n",
       "\\item 'W2tOx'\n",
       "\\item 'W2tLac'\n",
       "\\item 'W2tBorg'\n",
       "\\item 'W2t5Fc'\n",
       "\\item 'W2t5Ox'\n",
       "\\item 'W2t5Lac'\n",
       "\\item 'W2t10Fc'\n",
       "\\item 'W2t10Ox'\n",
       "\\item 'W2t10Lac'\n",
       "\\item 'Sumat'\n",
       "\\item 'Peso'\n",
       "\\item 'Edad'\n",
       "\\item 'Altura'\n",
       "\\item 'PlieguePec'\n",
       "\\item 'PliegueAx'\n",
       "\\item 'PliegueTri'\n",
       "\\item 'PliegueSub'\n",
       "\\item 'PliegueAbd'\n",
       "\\item 'PliegueSup'\n",
       "\\item 'PliegueMus'\n",
       "\\item 'tpcgrasa1'\n",
       "\\item 'tpcgrasa2'\n",
       "\\item 'PerCue'\n",
       "\\item 'PerCin'\n",
       "\\end{enumerate*}\n"
      ],
      "text/markdown": [
       "1. 'W1Fc'\n",
       "2. 'W1Ox'\n",
       "3. 'W1Lac'\n",
       "4. 'W1tFc'\n",
       "5. 'W1tOx'\n",
       "6. 'W1tLac'\n",
       "7. 'W1tBorg'\n",
       "8. 'W1t5Fc'\n",
       "9. 'W1t5Ox'\n",
       "10. 'W1t5Lac'\n",
       "11. 'W2tFc'\n",
       "12. 'W2tOx'\n",
       "13. 'W2tLac'\n",
       "14. 'W2tBorg'\n",
       "15. 'W2t5Fc'\n",
       "16. 'W2t5Ox'\n",
       "17. 'W2t5Lac'\n",
       "18. 'W2t10Fc'\n",
       "19. 'W2t10Ox'\n",
       "20. 'W2t10Lac'\n",
       "21. 'Sumat'\n",
       "22. 'Peso'\n",
       "23. 'Edad'\n",
       "24. 'Altura'\n",
       "25. 'PlieguePec'\n",
       "26. 'PliegueAx'\n",
       "27. 'PliegueTri'\n",
       "28. 'PliegueSub'\n",
       "29. 'PliegueAbd'\n",
       "30. 'PliegueSup'\n",
       "31. 'PliegueMus'\n",
       "32. 'tpcgrasa1'\n",
       "33. 'tpcgrasa2'\n",
       "34. 'PerCue'\n",
       "35. 'PerCin'\n",
       "\n",
       "\n"
      ],
      "text/plain": [
       " [1] \"W1Fc\"       \"W1Ox\"       \"W1Lac\"      \"W1tFc\"      \"W1tOx\"     \n",
       " [6] \"W1tLac\"     \"W1tBorg\"    \"W1t5Fc\"     \"W1t5Ox\"     \"W1t5Lac\"   \n",
       "[11] \"W2tFc\"      \"W2tOx\"      \"W2tLac\"     \"W2tBorg\"    \"W2t5Fc\"    \n",
       "[16] \"W2t5Ox\"     \"W2t5Lac\"    \"W2t10Fc\"    \"W2t10Ox\"    \"W2t10Lac\"  \n",
       "[21] \"Sumat\"      \"Peso\"       \"Edad\"       \"Altura\"     \"PlieguePec\"\n",
       "[26] \"PliegueAx\"  \"PliegueTri\" \"PliegueSub\" \"PliegueAbd\" \"PliegueSup\"\n",
       "[31] \"PliegueMus\" \"tpcgrasa1\"  \"tpcgrasa2\"  \"PerCue\"     \"PerCin\"    "
      ]
     },
     "metadata": {},
     "output_type": "display_data"
    }
   ],
   "source": [
    "handle_physic <- handle_physic[!grepl(paste(c('LacAbs','LacR'),collapse = \"|\"),names(handle_physic))]\n",
    "names(handle_physic)"
   ]
  },
  {
   "cell_type": "markdown",
   "metadata": {},
   "source": [
    "<p style=\"text-align: justify;\">Having in account that Sumat did not show a significant difference in previous analysis and the other variables related to the fat folds, like thigh skinfold , seemed more important in this case this variable will not be included.</p>"
   ]
  },
  {
   "cell_type": "code",
   "execution_count": 102,
   "metadata": {},
   "outputs": [
    {
     "data": {
      "text/html": [
       "<ol class=list-inline>\n",
       "\t<li>'W1Fc'</li>\n",
       "\t<li>'W1Ox'</li>\n",
       "\t<li>'W1Lac'</li>\n",
       "\t<li>'W1tFc'</li>\n",
       "\t<li>'W1tOx'</li>\n",
       "\t<li>'W1tLac'</li>\n",
       "\t<li>'W1tBorg'</li>\n",
       "\t<li>'W1t5Fc'</li>\n",
       "\t<li>'W1t5Ox'</li>\n",
       "\t<li>'W1t5Lac'</li>\n",
       "\t<li>'W2tFc'</li>\n",
       "\t<li>'W2tOx'</li>\n",
       "\t<li>'W2tLac'</li>\n",
       "\t<li>'W2tBorg'</li>\n",
       "\t<li>'W2t5Fc'</li>\n",
       "\t<li>'W2t5Ox'</li>\n",
       "\t<li>'W2t5Lac'</li>\n",
       "\t<li>'W2t10Fc'</li>\n",
       "\t<li>'W2t10Ox'</li>\n",
       "\t<li>'W2t10Lac'</li>\n",
       "\t<li>'Peso'</li>\n",
       "\t<li>'Edad'</li>\n",
       "\t<li>'Altura'</li>\n",
       "\t<li>'PlieguePec'</li>\n",
       "\t<li>'PliegueAx'</li>\n",
       "\t<li>'PliegueTri'</li>\n",
       "\t<li>'PliegueSub'</li>\n",
       "\t<li>'PliegueAbd'</li>\n",
       "\t<li>'PliegueSup'</li>\n",
       "\t<li>'PliegueMus'</li>\n",
       "\t<li>'tpcgrasa1'</li>\n",
       "\t<li>'tpcgrasa2'</li>\n",
       "\t<li>'PerCue'</li>\n",
       "\t<li>'PerCin'</li>\n",
       "</ol>\n"
      ],
      "text/latex": [
       "\\begin{enumerate*}\n",
       "\\item 'W1Fc'\n",
       "\\item 'W1Ox'\n",
       "\\item 'W1Lac'\n",
       "\\item 'W1tFc'\n",
       "\\item 'W1tOx'\n",
       "\\item 'W1tLac'\n",
       "\\item 'W1tBorg'\n",
       "\\item 'W1t5Fc'\n",
       "\\item 'W1t5Ox'\n",
       "\\item 'W1t5Lac'\n",
       "\\item 'W2tFc'\n",
       "\\item 'W2tOx'\n",
       "\\item 'W2tLac'\n",
       "\\item 'W2tBorg'\n",
       "\\item 'W2t5Fc'\n",
       "\\item 'W2t5Ox'\n",
       "\\item 'W2t5Lac'\n",
       "\\item 'W2t10Fc'\n",
       "\\item 'W2t10Ox'\n",
       "\\item 'W2t10Lac'\n",
       "\\item 'Peso'\n",
       "\\item 'Edad'\n",
       "\\item 'Altura'\n",
       "\\item 'PlieguePec'\n",
       "\\item 'PliegueAx'\n",
       "\\item 'PliegueTri'\n",
       "\\item 'PliegueSub'\n",
       "\\item 'PliegueAbd'\n",
       "\\item 'PliegueSup'\n",
       "\\item 'PliegueMus'\n",
       "\\item 'tpcgrasa1'\n",
       "\\item 'tpcgrasa2'\n",
       "\\item 'PerCue'\n",
       "\\item 'PerCin'\n",
       "\\end{enumerate*}\n"
      ],
      "text/markdown": [
       "1. 'W1Fc'\n",
       "2. 'W1Ox'\n",
       "3. 'W1Lac'\n",
       "4. 'W1tFc'\n",
       "5. 'W1tOx'\n",
       "6. 'W1tLac'\n",
       "7. 'W1tBorg'\n",
       "8. 'W1t5Fc'\n",
       "9. 'W1t5Ox'\n",
       "10. 'W1t5Lac'\n",
       "11. 'W2tFc'\n",
       "12. 'W2tOx'\n",
       "13. 'W2tLac'\n",
       "14. 'W2tBorg'\n",
       "15. 'W2t5Fc'\n",
       "16. 'W2t5Ox'\n",
       "17. 'W2t5Lac'\n",
       "18. 'W2t10Fc'\n",
       "19. 'W2t10Ox'\n",
       "20. 'W2t10Lac'\n",
       "21. 'Peso'\n",
       "22. 'Edad'\n",
       "23. 'Altura'\n",
       "24. 'PlieguePec'\n",
       "25. 'PliegueAx'\n",
       "26. 'PliegueTri'\n",
       "27. 'PliegueSub'\n",
       "28. 'PliegueAbd'\n",
       "29. 'PliegueSup'\n",
       "30. 'PliegueMus'\n",
       "31. 'tpcgrasa1'\n",
       "32. 'tpcgrasa2'\n",
       "33. 'PerCue'\n",
       "34. 'PerCin'\n",
       "\n",
       "\n"
      ],
      "text/plain": [
       " [1] \"W1Fc\"       \"W1Ox\"       \"W1Lac\"      \"W1tFc\"      \"W1tOx\"     \n",
       " [6] \"W1tLac\"     \"W1tBorg\"    \"W1t5Fc\"     \"W1t5Ox\"     \"W1t5Lac\"   \n",
       "[11] \"W2tFc\"      \"W2tOx\"      \"W2tLac\"     \"W2tBorg\"    \"W2t5Fc\"    \n",
       "[16] \"W2t5Ox\"     \"W2t5Lac\"    \"W2t10Fc\"    \"W2t10Ox\"    \"W2t10Lac\"  \n",
       "[21] \"Peso\"       \"Edad\"       \"Altura\"     \"PlieguePec\" \"PliegueAx\" \n",
       "[26] \"PliegueTri\" \"PliegueSub\" \"PliegueAbd\" \"PliegueSup\" \"PliegueMus\"\n",
       "[31] \"tpcgrasa1\"  \"tpcgrasa2\"  \"PerCue\"     \"PerCin\"    "
      ]
     },
     "metadata": {},
     "output_type": "display_data"
    }
   ],
   "source": [
    "handle_physic <- handle_physic[!grepl('Sumat',names(handle_physic))] \n",
    "names(handle_physic)"
   ]
  },
  {
   "cell_type": "markdown",
   "metadata": {},
   "source": [
    "### Target variables data <a class=\"anchor\" id=\"4\"></a>\n"
   ]
  },
  {
   "cell_type": "markdown",
   "metadata": {},
   "source": [
    "* [Returning to the index of contents](#index)"
   ]
  },
  {
   "cell_type": "code",
   "execution_count": 103,
   "metadata": {},
   "outputs": [
    {
     "data": {
      "text/html": [
       "<table>\n",
       "<thead><tr><th scope=col>W1MaxWAbs</th><th scope=col>W1MaxWRel</th><th scope=col>W1maxRPM</th><th scope=col>W1MedWAbs</th><th scope=col>W1MedWRel</th><th scope=col>W1medRPM</th><th scope=col>W2MaxWAbs</th><th scope=col>W2MaxWRel</th><th scope=col>W2maxRPM</th><th scope=col>W2MedWAbs</th><th scope=col>...</th><th scope=col>W1.2MedDifWAbs</th><th scope=col>W1.2MedDifWRel</th><th scope=col>W1.2MedDifWRelFFM1</th><th scope=col>W1.2MedDifWRelFFM2</th><th scope=col>W1MaxWRelPli</th><th scope=col>W1MedWRelPli</th><th scope=col>W2MaxWRelPli</th><th scope=col>W2MedWRelPli</th><th scope=col>W1.W2MaxWRelPli</th><th scope=col>W1.W2MedWRelPli</th></tr></thead>\n",
       "<tbody>\n",
       "\t<tr><td>398        </td><td> 8.747253  </td><td>122        </td><td>206        </td><td>4.527473   </td><td>100        </td><td>397        </td><td>8.725275   </td><td>122        </td><td>224        </td><td>...        </td><td>-18        </td><td>-0.39560440</td><td>-0.46612522</td><td>-0.47284774</td><td> 5.356662  </td><td>2.772544   </td><td> 5.343203  </td><td>3.014805   </td><td> 0.01345895</td><td>-0.24226110</td></tr>\n",
       "\t<tr><td>511        </td><td> 8.964912  </td><td>128        </td><td>294        </td><td>5.157895   </td><td>109        </td><td>523        </td><td>9.175439   </td><td>122        </td><td>295        </td><td>...        </td><td> -1        </td><td>-0.01754386</td><td>-0.01996573</td><td>-0.02144685</td><td>10.926586  </td><td>6.286529   </td><td>11.183179  </td><td>6.307912   </td><td>-0.25659301</td><td>-0.02138275</td></tr>\n",
       "\t<tr><td>524        </td><td>10.174757  </td><td>130        </td><td>262        </td><td>5.087379   </td><td>107        </td><td>476        </td><td>9.242718   </td><td>125        </td><td>245        </td><td>...        </td><td> 17        </td><td> 0.33009709</td><td> 0.36494556</td><td> 0.40967401</td><td>15.232558  </td><td>7.616279   </td><td>13.837209  </td><td>7.122093   </td><td> 1.39534884</td><td> 0.49418605</td></tr>\n",
       "\t<tr><td>541        </td><td> 8.868852  </td><td>128        </td><td>351        </td><td>5.754098   </td><td>118        </td><td>472        </td><td>7.737705   </td><td>130        </td><td>333        </td><td>...        </td><td> 18        </td><td> 0.29508197</td><td> 0.36161104</td><td> 0.39117229</td><td> 6.502404  </td><td>4.218750   </td><td> 5.673077  </td><td>4.002404   </td><td> 0.82932692</td><td> 0.21634615</td></tr>\n",
       "\t<tr><td>547        </td><td> 9.596491  </td><td>143        </td><td>291        </td><td>5.105263   </td><td>116        </td><td>169        </td><td>2.964912   </td><td>130        </td><td>302        </td><td>...        </td><td>-11        </td><td>-0.19298246</td><td>-0.26597295</td><td>-0.26871206</td><td> 3.736339  </td><td>1.987705   </td><td> 1.154372  </td><td>2.062842   </td><td> 2.58196721</td><td>-0.07513661</td></tr>\n",
       "\t<tr><td>553        </td><td> 9.701754  </td><td>133        </td><td>365        </td><td>6.403509   </td><td>121        </td><td>556        </td><td>9.754386   </td><td>136        </td><td>355        </td><td>...        </td><td> 10        </td><td> 0.17543860</td><td> 0.20463161</td><td> 0.21935148</td><td> 8.833866  </td><td>5.830671   </td><td> 8.881789  </td><td>5.670927   </td><td>-0.04792332</td><td> 0.15974441</td></tr>\n",
       "</tbody>\n",
       "</table>\n"
      ],
      "text/latex": [
       "\\begin{tabular}{r|llllllllllllllllllllllllllllllllllllllllll}\n",
       " W1MaxWAbs & W1MaxWRel & W1maxRPM & W1MedWAbs & W1MedWRel & W1medRPM & W2MaxWAbs & W2MaxWRel & W2maxRPM & W2MedWAbs & ... & W1.2MedDifWAbs & W1.2MedDifWRel & W1.2MedDifWRelFFM1 & W1.2MedDifWRelFFM2 & W1MaxWRelPli & W1MedWRelPli & W2MaxWRelPli & W2MedWRelPli & W1.W2MaxWRelPli & W1.W2MedWRelPli\\\\\n",
       "\\hline\n",
       "\t 398         &  8.747253   & 122         & 206         & 4.527473    & 100         & 397         & 8.725275    & 122         & 224         & ...         & -18         & -0.39560440 & -0.46612522 & -0.47284774 &  5.356662   & 2.772544    &  5.343203   & 3.014805    &  0.01345895 & -0.24226110\\\\\n",
       "\t 511         &  8.964912   & 128         & 294         & 5.157895    & 109         & 523         & 9.175439    & 122         & 295         & ...         &  -1         & -0.01754386 & -0.01996573 & -0.02144685 & 10.926586   & 6.286529    & 11.183179   & 6.307912    & -0.25659301 & -0.02138275\\\\\n",
       "\t 524         & 10.174757   & 130         & 262         & 5.087379    & 107         & 476         & 9.242718    & 125         & 245         & ...         &  17         &  0.33009709 &  0.36494556 &  0.40967401 & 15.232558   & 7.616279    & 13.837209   & 7.122093    &  1.39534884 &  0.49418605\\\\\n",
       "\t 541         &  8.868852   & 128         & 351         & 5.754098    & 118         & 472         & 7.737705    & 130         & 333         & ...         &  18         &  0.29508197 &  0.36161104 &  0.39117229 &  6.502404   & 4.218750    &  5.673077   & 4.002404    &  0.82932692 &  0.21634615\\\\\n",
       "\t 547         &  9.596491   & 143         & 291         & 5.105263    & 116         & 169         & 2.964912    & 130         & 302         & ...         & -11         & -0.19298246 & -0.26597295 & -0.26871206 &  3.736339   & 1.987705    &  1.154372   & 2.062842    &  2.58196721 & -0.07513661\\\\\n",
       "\t 553         &  9.701754   & 133         & 365         & 6.403509    & 121         & 556         & 9.754386    & 136         & 355         & ...         &  10         &  0.17543860 &  0.20463161 &  0.21935148 &  8.833866   & 5.830671    &  8.881789   & 5.670927    & -0.04792332 &  0.15974441\\\\\n",
       "\\end{tabular}\n"
      ],
      "text/markdown": [
       "\n",
       "| W1MaxWAbs | W1MaxWRel | W1maxRPM | W1MedWAbs | W1MedWRel | W1medRPM | W2MaxWAbs | W2MaxWRel | W2maxRPM | W2MedWAbs | ... | W1.2MedDifWAbs | W1.2MedDifWRel | W1.2MedDifWRelFFM1 | W1.2MedDifWRelFFM2 | W1MaxWRelPli | W1MedWRelPli | W2MaxWRelPli | W2MedWRelPli | W1.W2MaxWRelPli | W1.W2MedWRelPli |\n",
       "|---|---|---|---|---|---|---|---|---|---|---|---|---|---|---|---|---|---|---|---|---|\n",
       "| 398         |  8.747253   | 122         | 206         | 4.527473    | 100         | 397         | 8.725275    | 122         | 224         | ...         | -18         | -0.39560440 | -0.46612522 | -0.47284774 |  5.356662   | 2.772544    |  5.343203   | 3.014805    |  0.01345895 | -0.24226110 |\n",
       "| 511         |  8.964912   | 128         | 294         | 5.157895    | 109         | 523         | 9.175439    | 122         | 295         | ...         |  -1         | -0.01754386 | -0.01996573 | -0.02144685 | 10.926586   | 6.286529    | 11.183179   | 6.307912    | -0.25659301 | -0.02138275 |\n",
       "| 524         | 10.174757   | 130         | 262         | 5.087379    | 107         | 476         | 9.242718    | 125         | 245         | ...         |  17         |  0.33009709 |  0.36494556 |  0.40967401 | 15.232558   | 7.616279    | 13.837209   | 7.122093    |  1.39534884 |  0.49418605 |\n",
       "| 541         |  8.868852   | 128         | 351         | 5.754098    | 118         | 472         | 7.737705    | 130         | 333         | ...         |  18         |  0.29508197 |  0.36161104 |  0.39117229 |  6.502404   | 4.218750    |  5.673077   | 4.002404    |  0.82932692 |  0.21634615 |\n",
       "| 547         |  9.596491   | 143         | 291         | 5.105263    | 116         | 169         | 2.964912    | 130         | 302         | ...         | -11         | -0.19298246 | -0.26597295 | -0.26871206 |  3.736339   | 1.987705    |  1.154372   | 2.062842    |  2.58196721 | -0.07513661 |\n",
       "| 553         |  9.701754   | 133         | 365         | 6.403509    | 121         | 556         | 9.754386    | 136         | 355         | ...         |  10         |  0.17543860 |  0.20463161 |  0.21935148 |  8.833866   | 5.830671    |  8.881789   | 5.670927    | -0.04792332 |  0.15974441 |\n",
       "\n"
      ],
      "text/plain": [
       "  W1MaxWAbs W1MaxWRel W1maxRPM W1MedWAbs W1MedWRel W1medRPM W2MaxWAbs W2MaxWRel\n",
       "1 398        8.747253 122      206       4.527473  100      397       8.725275 \n",
       "2 511        8.964912 128      294       5.157895  109      523       9.175439 \n",
       "3 524       10.174757 130      262       5.087379  107      476       9.242718 \n",
       "4 541        8.868852 128      351       5.754098  118      472       7.737705 \n",
       "5 547        9.596491 143      291       5.105263  116      169       2.964912 \n",
       "6 553        9.701754 133      365       6.403509  121      556       9.754386 \n",
       "  W2maxRPM W2MedWAbs ... W1.2MedDifWAbs W1.2MedDifWRel W1.2MedDifWRelFFM1\n",
       "1 122      224       ... -18            -0.39560440    -0.46612522       \n",
       "2 122      295       ...  -1            -0.01754386    -0.01996573       \n",
       "3 125      245       ...  17             0.33009709     0.36494556       \n",
       "4 130      333       ...  18             0.29508197     0.36161104       \n",
       "5 130      302       ... -11            -0.19298246    -0.26597295       \n",
       "6 136      355       ...  10             0.17543860     0.20463161       \n",
       "  W1.2MedDifWRelFFM2 W1MaxWRelPli W1MedWRelPli W2MaxWRelPli W2MedWRelPli\n",
       "1 -0.47284774         5.356662    2.772544      5.343203    3.014805    \n",
       "2 -0.02144685        10.926586    6.286529     11.183179    6.307912    \n",
       "3  0.40967401        15.232558    7.616279     13.837209    7.122093    \n",
       "4  0.39117229         6.502404    4.218750      5.673077    4.002404    \n",
       "5 -0.26871206         3.736339    1.987705      1.154372    2.062842    \n",
       "6  0.21935148         8.833866    5.830671      8.881789    5.670927    \n",
       "  W1.W2MaxWRelPli W1.W2MedWRelPli\n",
       "1  0.01345895     -0.24226110    \n",
       "2 -0.25659301     -0.02138275    \n",
       "3  1.39534884      0.49418605    \n",
       "4  0.82932692      0.21634615    \n",
       "5  2.58196721     -0.07513661    \n",
       "6 -0.04792332      0.15974441    "
      ]
     },
     "metadata": {},
     "output_type": "display_data"
    }
   ],
   "source": [
    "handle_target <- read.csv('handle_objetivo_fusion_31_03_20.csv', row.name = 1)\n",
    "rownames(handle_target)<- NULL\n",
    "head(handle_target)"
   ]
  },
  {
   "cell_type": "markdown",
   "metadata": {},
   "source": [
    "### Creating the dataframe for the anaylisis <a class =\"anchor\" id =\"5\"></a>"
   ]
  },
  {
   "cell_type": "markdown",
   "metadata": {},
   "source": [
    "* [Returning to the index of contents](#index)"
   ]
  },
  {
   "cell_type": "markdown",
   "metadata": {},
   "source": [
    "First of all, the target variable and the genetic and physical variables are joined in a same dataframe."
   ]
  },
  {
   "cell_type": "code",
   "execution_count": 104,
   "metadata": {},
   "outputs": [],
   "source": [
    "ind_med <- cbind(handle_target['W1.2MedDifWRelFFM1'],handle_genetic, handle_physic)"
   ]
  },
  {
   "cell_type": "markdown",
   "metadata": {},
   "source": [
    "In second place, the target variable is binarized based on the median as umbral, that means there will be to categories:\n",
    "\n",
    "* Category 1: high values\n",
    "* Category 0: low values"
   ]
  },
  {
   "cell_type": "code",
   "execution_count": 105,
   "metadata": {},
   "outputs": [],
   "source": [
    "#Making binary the target value\n",
    "\n",
    "W1_W2MedWRelFFM1Bin <- factor(as.numeric(ind_med[1]>=median(ind_med[,1])))"
   ]
  },
  {
   "cell_type": "code",
   "execution_count": 106,
   "metadata": {},
   "outputs": [],
   "source": [
    "ind_med <- cbind(W1_W2MedWRelFFM1Bin, ind_med)"
   ]
  },
  {
   "cell_type": "code",
   "execution_count": 107,
   "metadata": {},
   "outputs": [],
   "source": [
    "#Deleting the old target variable\n",
    "\n",
    "ind_med[2] <- NULL"
   ]
  },
  {
   "cell_type": "code",
   "execution_count": 108,
   "metadata": {},
   "outputs": [
    {
     "data": {
      "text/html": [
       "<table>\n",
       "<thead><tr><th scope=col>W1_W2MedWRelFFM1Bin</th><th scope=col>rs10034661</th><th scope=col>rs10063949</th><th scope=col>rs1024610</th><th scope=col>rs1024611</th><th scope=col>rs1042713</th><th scope=col>rs1045485</th><th scope=col>rs10491003</th><th scope=col>rs1049305</th><th scope=col>rs1049434</th><th scope=col>...</th><th scope=col>PliegueAx</th><th scope=col>PliegueTri</th><th scope=col>PliegueSub</th><th scope=col>PliegueAbd</th><th scope=col>PliegueSup</th><th scope=col>PliegueMus</th><th scope=col>tpcgrasa1</th><th scope=col>tpcgrasa2</th><th scope=col>PerCue</th><th scope=col>PerCin</th></tr></thead>\n",
       "<tbody>\n",
       "\t<tr><td>0        </td><td>3        </td><td>2        </td><td>2        </td><td>3        </td><td>1        </td><td>2        </td><td>3        </td><td>2        </td><td>2        </td><td>...      </td><td> 4.500000</td><td>18.350000</td><td> 6.85    </td><td> 6.000000</td><td> 4.250000</td><td>30.30000 </td><td>16.954339</td><td>18.13501 </td><td>31.0     </td><td>65.0     </td></tr>\n",
       "\t<tr><td>0        </td><td>3        </td><td>2        </td><td>2        </td><td>2        </td><td>2        </td><td>3        </td><td>3        </td><td>3        </td><td>1        </td><td>...      </td><td> 3.633333</td><td> 7.866667</td><td> 5.30    </td><td> 5.533333</td><td> 3.966667</td><td>17.26667 </td><td>12.130153</td><td>18.19842 </td><td>36.0     </td><td>67.5     </td></tr>\n",
       "\t<tr><td>0        </td><td>3        </td><td>3        </td><td>2        </td><td>3        </td><td>2        </td><td>3        </td><td>3        </td><td>2        </td><td>1        </td><td>...      </td><td> 2.600000</td><td> 6.100000</td><td> 3.80    </td><td> 4.600000</td><td> 2.550000</td><td>11.90000 </td><td> 9.548952</td><td>19.42445 </td><td>31.0     </td><td>65.5     </td></tr>\n",
       "\t<tr><td>0        </td><td>3        </td><td>3        </td><td>3        </td><td>2        </td><td>2        </td><td>3        </td><td>3        </td><td>1        </td><td>2        </td><td>...      </td><td> 5.750000</td><td>14.400000</td><td> 9.15    </td><td>11.100000</td><td> 7.450000</td><td>31.15000 </td><td>18.397964</td><td>24.56471 </td><td>35.5     </td><td>68.5     </td></tr>\n",
       "\t<tr><td>0        </td><td>3        </td><td>2        </td><td>3        </td><td>2        </td><td>3        </td><td>1        </td><td>3        </td><td>2        </td><td>3        </td><td>...      </td><td>13.300000</td><td>23.000000</td><td>18.00    </td><td>26.500000</td><td>16.000000</td><td>34.40000 </td><td>27.442826</td><td>28.18244 </td><td>33.5     </td><td>69.8     </td></tr>\n",
       "\t<tr><td>0        </td><td>3        </td><td>2        </td><td>3        </td><td>2        </td><td>2        </td><td>3        </td><td>3        </td><td>2        </td><td>2        </td><td>...      </td><td> 4.700000</td><td>15.450000</td><td> 8.15    </td><td> 7.300000</td><td> 5.400000</td><td>17.20000 </td><td>14.266130</td><td>20.01941 </td><td>35.0     </td><td>69.0     </td></tr>\n",
       "</tbody>\n",
       "</table>\n"
      ],
      "text/latex": [
       "\\begin{tabular}{r|lllllllllllllllllllllllllllllllllllllllllllllllllllllllllllllllllllllllllllllllllllllllllllllllllllllllllllllllllllllllllllllllllllllllllllllllllllllllllllllllllllllllllllllllllllllllllllllllllllllllllllllllllllll}\n",
       " W1\\_W2MedWRelFFM1Bin & rs10034661 & rs10063949 & rs1024610 & rs1024611 & rs1042713 & rs1045485 & rs10491003 & rs1049305 & rs1049434 & ... & PliegueAx & PliegueTri & PliegueSub & PliegueAbd & PliegueSup & PliegueMus & tpcgrasa1 & tpcgrasa2 & PerCue & PerCin\\\\\n",
       "\\hline\n",
       "\t 0         & 3         & 2         & 2         & 3         & 1         & 2         & 3         & 2         & 2         & ...       &  4.500000 & 18.350000 &  6.85     &  6.000000 &  4.250000 & 30.30000  & 16.954339 & 18.13501  & 31.0      & 65.0     \\\\\n",
       "\t 0         & 3         & 2         & 2         & 2         & 2         & 3         & 3         & 3         & 1         & ...       &  3.633333 &  7.866667 &  5.30     &  5.533333 &  3.966667 & 17.26667  & 12.130153 & 18.19842  & 36.0      & 67.5     \\\\\n",
       "\t 0         & 3         & 3         & 2         & 3         & 2         & 3         & 3         & 2         & 1         & ...       &  2.600000 &  6.100000 &  3.80     &  4.600000 &  2.550000 & 11.90000  &  9.548952 & 19.42445  & 31.0      & 65.5     \\\\\n",
       "\t 0         & 3         & 3         & 3         & 2         & 2         & 3         & 3         & 1         & 2         & ...       &  5.750000 & 14.400000 &  9.15     & 11.100000 &  7.450000 & 31.15000  & 18.397964 & 24.56471  & 35.5      & 68.5     \\\\\n",
       "\t 0         & 3         & 2         & 3         & 2         & 3         & 1         & 3         & 2         & 3         & ...       & 13.300000 & 23.000000 & 18.00     & 26.500000 & 16.000000 & 34.40000  & 27.442826 & 28.18244  & 33.5      & 69.8     \\\\\n",
       "\t 0         & 3         & 2         & 3         & 2         & 2         & 3         & 3         & 2         & 2         & ...       &  4.700000 & 15.450000 &  8.15     &  7.300000 &  5.400000 & 17.20000  & 14.266130 & 20.01941  & 35.0      & 69.0     \\\\\n",
       "\\end{tabular}\n"
      ],
      "text/markdown": [
       "\n",
       "| W1_W2MedWRelFFM1Bin | rs10034661 | rs10063949 | rs1024610 | rs1024611 | rs1042713 | rs1045485 | rs10491003 | rs1049305 | rs1049434 | ... | PliegueAx | PliegueTri | PliegueSub | PliegueAbd | PliegueSup | PliegueMus | tpcgrasa1 | tpcgrasa2 | PerCue | PerCin |\n",
       "|---|---|---|---|---|---|---|---|---|---|---|---|---|---|---|---|---|---|---|---|---|\n",
       "| 0         | 3         | 2         | 2         | 3         | 1         | 2         | 3         | 2         | 2         | ...       |  4.500000 | 18.350000 |  6.85     |  6.000000 |  4.250000 | 30.30000  | 16.954339 | 18.13501  | 31.0      | 65.0      |\n",
       "| 0         | 3         | 2         | 2         | 2         | 2         | 3         | 3         | 3         | 1         | ...       |  3.633333 |  7.866667 |  5.30     |  5.533333 |  3.966667 | 17.26667  | 12.130153 | 18.19842  | 36.0      | 67.5      |\n",
       "| 0         | 3         | 3         | 2         | 3         | 2         | 3         | 3         | 2         | 1         | ...       |  2.600000 |  6.100000 |  3.80     |  4.600000 |  2.550000 | 11.90000  |  9.548952 | 19.42445  | 31.0      | 65.5      |\n",
       "| 0         | 3         | 3         | 3         | 2         | 2         | 3         | 3         | 1         | 2         | ...       |  5.750000 | 14.400000 |  9.15     | 11.100000 |  7.450000 | 31.15000  | 18.397964 | 24.56471  | 35.5      | 68.5      |\n",
       "| 0         | 3         | 2         | 3         | 2         | 3         | 1         | 3         | 2         | 3         | ...       | 13.300000 | 23.000000 | 18.00     | 26.500000 | 16.000000 | 34.40000  | 27.442826 | 28.18244  | 33.5      | 69.8      |\n",
       "| 0         | 3         | 2         | 3         | 2         | 2         | 3         | 3         | 2         | 2         | ...       |  4.700000 | 15.450000 |  8.15     |  7.300000 |  5.400000 | 17.20000  | 14.266130 | 20.01941  | 35.0      | 69.0      |\n",
       "\n"
      ],
      "text/plain": [
       "  W1_W2MedWRelFFM1Bin rs10034661 rs10063949 rs1024610 rs1024611 rs1042713\n",
       "1 0                   3          2          2         3         1        \n",
       "2 0                   3          2          2         2         2        \n",
       "3 0                   3          3          2         3         2        \n",
       "4 0                   3          3          3         2         2        \n",
       "5 0                   3          2          3         2         3        \n",
       "6 0                   3          2          3         2         2        \n",
       "  rs1045485 rs10491003 rs1049305 rs1049434 ... PliegueAx PliegueTri PliegueSub\n",
       "1 2         3          2         2         ...  4.500000 18.350000   6.85     \n",
       "2 3         3          3         1         ...  3.633333  7.866667   5.30     \n",
       "3 3         3          2         1         ...  2.600000  6.100000   3.80     \n",
       "4 3         3          1         2         ...  5.750000 14.400000   9.15     \n",
       "5 1         3          2         3         ... 13.300000 23.000000  18.00     \n",
       "6 3         3          2         2         ...  4.700000 15.450000   8.15     \n",
       "  PliegueAbd PliegueSup PliegueMus tpcgrasa1 tpcgrasa2 PerCue PerCin\n",
       "1  6.000000   4.250000  30.30000   16.954339 18.13501  31.0   65.0  \n",
       "2  5.533333   3.966667  17.26667   12.130153 18.19842  36.0   67.5  \n",
       "3  4.600000   2.550000  11.90000    9.548952 19.42445  31.0   65.5  \n",
       "4 11.100000   7.450000  31.15000   18.397964 24.56471  35.5   68.5  \n",
       "5 26.500000  16.000000  34.40000   27.442826 28.18244  33.5   69.8  \n",
       "6  7.300000   5.400000  17.20000   14.266130 20.01941  35.0   69.0  "
      ]
     },
     "metadata": {},
     "output_type": "display_data"
    }
   ],
   "source": [
    "head(ind_med)"
   ]
  },
  {
   "cell_type": "markdown",
   "metadata": {},
   "source": [
    "## Principal Components Analysis: PCA <a class=\"anchor\" id=\"6\"></a>"
   ]
  },
  {
   "cell_type": "markdown",
   "metadata": {},
   "source": [
    "* [Returning to the index of contents](#index)"
   ]
  },
  {
   "cell_type": "markdown",
   "metadata": {},
   "source": [
    "### Train test partition : 85/15<a class=\"anchor\" id=\"7\"></a>"
   ]
  },
  {
   "cell_type": "code",
   "execution_count": 109,
   "metadata": {
    "scrolled": true
   },
   "outputs": [
    {
     "data": {
      "text/html": [
       "<ol class=list-inline>\n",
       "\t<li>70</li>\n",
       "\t<li>213</li>\n",
       "</ol>\n"
      ],
      "text/latex": [
       "\\begin{enumerate*}\n",
       "\\item 70\n",
       "\\item 213\n",
       "\\end{enumerate*}\n"
      ],
      "text/markdown": [
       "1. 70\n",
       "2. 213\n",
       "\n",
       "\n"
      ],
      "text/plain": [
       "[1]  70 213"
      ]
     },
     "metadata": {},
     "output_type": "display_data"
    },
    {
     "data": {
      "text/html": [
       "<ol class=list-inline>\n",
       "\t<li>12</li>\n",
       "\t<li>213</li>\n",
       "</ol>\n"
      ],
      "text/latex": [
       "\\begin{enumerate*}\n",
       "\\item 12\n",
       "\\item 213\n",
       "\\end{enumerate*}\n"
      ],
      "text/markdown": [
       "1. 12\n",
       "2. 213\n",
       "\n",
       "\n"
      ],
      "text/plain": [
       "[1]  12 213"
      ]
     },
     "metadata": {},
     "output_type": "display_data"
    }
   ],
   "source": [
    "library(caret)\n",
    "\n",
    "set.seed(10)\n",
    "id_df <- createDataPartition(ind_med$W1_W2MedWRelFFM1Bin,p = 0.85,list = FALSE)\n",
    "ind_med_train <- ind_med[id_df,]\n",
    "ind_med_test <- ind_med[-id_df,]\n",
    "\n",
    "dim(ind_med_train)\n",
    "\n",
    "dim(ind_med_test)"
   ]
  },
  {
   "cell_type": "markdown",
   "metadata": {},
   "source": [
    "### Principal components in train set <a class =\"anchor\" id=\"8\"></a>"
   ]
  },
  {
   "cell_type": "markdown",
   "metadata": {},
   "source": [
    "* [Returning to the index of contents](#index)"
   ]
  },
  {
   "cell_type": "code",
   "execution_count": 110,
   "metadata": {},
   "outputs": [],
   "source": [
    "pca_train<- prcomp(ind_med_train[, -1], scale = TRUE, center = TRUE)\n",
    "#target variable is not having in account during the building of principal components"
   ]
  },
  {
   "cell_type": "code",
   "execution_count": 111,
   "metadata": {
    "scrolled": true
   },
   "outputs": [
    {
     "name": "stdout",
     "output_type": "stream",
     "text": [
      "List of 5\n",
      " $ sdev    : num [1:70] 3.35 3.08 2.75 2.65 2.61 ...\n",
      " $ rotation: num [1:212, 1:70] 0.0604 0.0148 0.0909 -0.0595 -0.0733 ...\n",
      "  ..- attr(*, \"dimnames\")=List of 2\n",
      "  .. ..$ : chr [1:212] \"rs10034661\" \"rs10063949\" \"rs1024610\" \"rs1024611\" ...\n",
      "  .. ..$ : chr [1:70] \"PC1\" \"PC2\" \"PC3\" \"PC4\" ...\n",
      " $ center  : Named num [1:212] 2.54 2.31 2.4 2.54 2.2 ...\n",
      "  ..- attr(*, \"names\")= chr [1:212] \"rs10034661\" \"rs10063949\" \"rs1024610\" \"rs1024611\" ...\n",
      " $ scale   : Named num [1:212] 0.63 0.671 0.6 0.606 0.714 ...\n",
      "  ..- attr(*, \"names\")= chr [1:212] \"rs10034661\" \"rs10063949\" \"rs1024610\" \"rs1024611\" ...\n",
      " $ x       : num [1:70, 1:70] 10.21 7.33 3.97 2.88 1.92 ...\n",
      "  ..- attr(*, \"dimnames\")=List of 2\n",
      "  .. ..$ : chr [1:70] \"1\" \"2\" \"3\" \"4\" ...\n",
      "  .. ..$ : chr [1:70] \"PC1\" \"PC2\" \"PC3\" \"PC4\" ...\n",
      " - attr(*, \"class\")= chr \"prcomp\"\n"
     ]
    }
   ],
   "source": [
    "str(pca_train)"
   ]
  },
  {
   "cell_type": "markdown",
   "metadata": {},
   "source": [
    "There is a maximum of 70 principal components"
   ]
  },
  {
   "cell_type": "code",
   "execution_count": 112,
   "metadata": {},
   "outputs": [
    {
     "data": {
      "text/html": [
       "70"
      ],
      "text/latex": [
       "70"
      ],
      "text/markdown": [
       "70"
      ],
      "text/plain": [
       "[1] 70"
      ]
     },
     "metadata": {},
     "output_type": "display_data"
    }
   ],
   "source": [
    "dim(pca_train$x)[1]"
   ]
  },
  {
   "cell_type": "markdown",
   "metadata": {},
   "source": [
    "* Acumulated proportion of explained variance"
   ]
  },
  {
   "cell_type": "code",
   "execution_count": 113,
   "metadata": {},
   "outputs": [
    {
     "data": {
      "image/png": "[encoded data removed]",
      "text/plain": [
       "Plot with title \"Acumulated proportion of explained variance\""
      ]
     },
     "metadata": {},
     "output_type": "display_data"
    }
   ],
   "source": [
    "prop_variance <- cumsum(pca_train$sdev^2)/sum(pca_train$sdev^2)*100\n",
    "\n",
    "plot(prop_variance,main=\"Acumulated proportion of explained variance\",xlim=c(1,70),xlab = 'Number of principal components', ylab = 'Percentage of acumulated variance')\n",
    "abline(v = which(pca_train$rotation[1,] == max(pca_train$rotation[1,])))\n",
    "grid()"
   ]
  },
  {
   "cell_type": "markdown",
   "metadata": {},
   "source": [
    "As it can be apreciated in the plot shown, the principal component to which target variable contribution is the biggest is:"
   ]
  },
  {
   "cell_type": "code",
   "execution_count": 114,
   "metadata": {
    "scrolled": false
   },
   "outputs": [
    {
     "data": {
      "text/html": [
       "<strong>PC35:</strong> 0.162513968863739"
      ],
      "text/latex": [
       "\\textbf{PC35:} 0.162513968863739"
      ],
      "text/markdown": [
       "**PC35:** 0.162513968863739"
      ],
      "text/plain": [
       "    PC35 \n",
       "0.162514 "
      ]
     },
     "metadata": {},
     "output_type": "display_data"
    }
   ],
   "source": [
    "pca_train$rotation[1,][which(pca_train$rotation[1,] == max(pca_train$rotation[1,]))]"
   ]
  },
  {
   "cell_type": "markdown",
   "metadata": {},
   "source": [
    "With an acumulated proportion of explained variance of:"
   ]
  },
  {
   "cell_type": "code",
   "execution_count": 115,
   "metadata": {},
   "outputs": [
    {
     "data": {
      "text/html": [
       "77.4064881984035"
      ],
      "text/latex": [
       "77.4064881984035"
      ],
      "text/markdown": [
       "77.4064881984035"
      ],
      "text/plain": [
       "[1] 77.40649"
      ]
     },
     "metadata": {},
     "output_type": "display_data"
    }
   ],
   "source": [
    "prop_variance[35]"
   ]
  },
  {
   "cell_type": "markdown",
   "metadata": {},
   "source": [
    "Then, in order to have consistent results, the smallest number of principal components for the analysis will be 35."
   ]
  },
  {
   "cell_type": "markdown",
   "metadata": {},
   "source": [
    "<p style=\"text-align: justify;\">Now, it is shown a plot ot the target variable influence in the set of principal components obtained in train with the objetive of checking if for a certain number of principal component makes or does not make sense to use in the model the target variable.</p>"
   ]
  },
  {
   "cell_type": "code",
   "execution_count": 116,
   "metadata": {},
   "outputs": [
    {
     "data": {
      "image/png": "[encoded data removed]",
      "text/plain": [
       "Plot with title \"Target variable contribution to principal components\""
      ]
     },
     "metadata": {},
     "output_type": "display_data"
    }
   ],
   "source": [
    "plot(pca_train$rotation[1,], main = 'Target variable contribution to principal components', \n",
    "     xlab = 'Principal components obtained in train', xlim = c(1,70),ylab = 'Target variable contribution')"
   ]
  },
  {
   "cell_type": "markdown",
   "metadata": {},
   "source": [
    "The plot shows an uniform distribution of the target variable contribution, so it makes sense to keep the target variable for the model."
   ]
  },
  {
   "cell_type": "markdown",
   "metadata": {},
   "source": [
    "Now, in order to put in context the target variable contribution, we show down below an histogram of the original variables (included the target variable) contribution to the first principal component."
   ]
  },
  {
   "cell_type": "code",
   "execution_count": 117,
   "metadata": {},
   "outputs": [
    {
     "data": {
      "image/png": "[encoded data removed]",
      "text/plain": [
       "Plot with title \"Original variables contribution to the first principal component\""
      ]
     },
     "metadata": {},
     "output_type": "display_data"
    }
   ],
   "source": [
    "hist(pca_train$rotation[,1], breaks = 'FD',main = 'Original variables contribution to the first principal component', \n",
    "     xlab = 'Original variables contribution', ylab = 'Frequency contribution', col = 'blue', xlim=c(-0.25,0.25))\n",
    "abline(v = max(pca_train$rotation[1,]), col = 'red')"
   ]
  },
  {
   "cell_type": "markdown",
   "metadata": {},
   "source": [
    "In red, target variable contribution can be noted, it is far away from the rest of original variables contribution to  first principal component, being the highest apportation."
   ]
  },
  {
   "cell_type": "markdown",
   "metadata": {},
   "source": [
    "Different number of principal components will be studied, from the minimum of 35 PC (77,4% of explained variance), until a maximum number of components for which the level of explained variance is 95%."
   ]
  },
  {
   "cell_type": "code",
   "execution_count": 118,
   "metadata": {},
   "outputs": [],
   "source": [
    "thresholds_prop_variance <- c(which(prop_variance >= 77)[1], which(prop_variance >= 80)[1], which(prop_variance>= 85)[1], which(prop_variance >= 90)[1], which(prop_variance >= 95[1]))"
   ]
  },
  {
   "cell_type": "markdown",
   "metadata": {},
   "source": [
    "Number of principal components studied."
   ]
  },
  {
   "cell_type": "code",
   "execution_count": 119,
   "metadata": {
    "scrolled": true
   },
   "outputs": [
    {
     "data": {
      "text/html": [
       "<ol class=list-inline>\n",
       "\t<li>35</li>\n",
       "\t<li>38</li>\n",
       "\t<li>43</li>\n",
       "\t<li>49</li>\n",
       "\t<li>57</li>\n",
       "\t<li>58</li>\n",
       "\t<li>59</li>\n",
       "\t<li>60</li>\n",
       "\t<li>61</li>\n",
       "\t<li>62</li>\n",
       "\t<li>63</li>\n",
       "\t<li>64</li>\n",
       "\t<li>65</li>\n",
       "\t<li>66</li>\n",
       "\t<li>67</li>\n",
       "\t<li>68</li>\n",
       "\t<li>69</li>\n",
       "\t<li>70</li>\n",
       "</ol>\n"
      ],
      "text/latex": [
       "\\begin{enumerate*}\n",
       "\\item 35\n",
       "\\item 38\n",
       "\\item 43\n",
       "\\item 49\n",
       "\\item 57\n",
       "\\item 58\n",
       "\\item 59\n",
       "\\item 60\n",
       "\\item 61\n",
       "\\item 62\n",
       "\\item 63\n",
       "\\item 64\n",
       "\\item 65\n",
       "\\item 66\n",
       "\\item 67\n",
       "\\item 68\n",
       "\\item 69\n",
       "\\item 70\n",
       "\\end{enumerate*}\n"
      ],
      "text/markdown": [
       "1. 35\n",
       "2. 38\n",
       "3. 43\n",
       "4. 49\n",
       "5. 57\n",
       "6. 58\n",
       "7. 59\n",
       "8. 60\n",
       "9. 61\n",
       "10. 62\n",
       "11. 63\n",
       "12. 64\n",
       "13. 65\n",
       "14. 66\n",
       "15. 67\n",
       "16. 68\n",
       "17. 69\n",
       "18. 70\n",
       "\n",
       "\n"
      ],
      "text/plain": [
       " [1] 35 38 43 49 57 58 59 60 61 62 63 64 65 66 67 68 69 70"
      ]
     },
     "metadata": {},
     "output_type": "display_data"
    }
   ],
   "source": [
    "thresholds_prop_variance"
   ]
  },
  {
   "cell_type": "code",
   "execution_count": 120,
   "metadata": {},
   "outputs": [],
   "source": [
    "pca_train <- cbind(ind_med_train['W1_W2MedWRelFFM1Bin'],pca_train$x)"
   ]
  },
  {
   "cell_type": "code",
   "execution_count": 121,
   "metadata": {},
   "outputs": [
    {
     "data": {
      "text/html": [
       "<table>\n",
       "<thead><tr><th scope=col>W1_W2MedWRelFFM1Bin</th><th scope=col>PC1</th><th scope=col>PC2</th><th scope=col>PC3</th><th scope=col>PC4</th><th scope=col>PC5</th><th scope=col>PC6</th><th scope=col>PC7</th><th scope=col>PC8</th><th scope=col>PC9</th><th scope=col>...</th><th scope=col>PC61</th><th scope=col>PC62</th><th scope=col>PC63</th><th scope=col>PC64</th><th scope=col>PC65</th><th scope=col>PC66</th><th scope=col>PC67</th><th scope=col>PC68</th><th scope=col>PC69</th><th scope=col>PC70</th></tr></thead>\n",
       "<tbody>\n",
       "\t<tr><td>0            </td><td>10.214471    </td><td>-6.07336138  </td><td> 1.4449838   </td><td>-5.2857221   </td><td> 2.437847    </td><td>-0.8470641   </td><td> 1.1473123   </td><td>-2.4954322   </td><td> 0.8366608   </td><td>...          </td><td> 0.5621831   </td><td>-1.9440525   </td><td>-0.2598019   </td><td>-0.2103099   </td><td> 0.8806641   </td><td>-0.26264799  </td><td>-0.004348138 </td><td> 0.45416308  </td><td>-0.2578540   </td><td>-3.774758e-15</td></tr>\n",
       "\t<tr><td>0            </td><td> 7.332542    </td><td> 1.77014202  </td><td> 0.7268355   </td><td> 2.0355051   </td><td>-2.940795    </td><td>-3.5607367   </td><td>-6.5564390   </td><td> 5.8574851   </td><td>-1.8336807   </td><td>...          </td><td> 0.6342343   </td><td> 0.5602049   </td><td> 0.6662294   </td><td> 0.3944041   </td><td>-0.3779738   </td><td>-0.36346336  </td><td>-0.081807673 </td><td> 0.35849892  </td><td> 0.3287342   </td><td>-2.206568e-15</td></tr>\n",
       "\t<tr><td>0            </td><td> 3.965091    </td><td>-0.04116809  </td><td>-1.7015328   </td><td> 0.4918181   </td><td>-4.684316    </td><td>-0.6781090   </td><td> 0.8073479   </td><td>-2.4024467   </td><td> 4.7382037   </td><td>...          </td><td>-0.3706538   </td><td>-1.4864276   </td><td>-0.7970595   </td><td>-0.3617023   </td><td>-0.9390883   </td><td> 0.07764421  </td><td>-0.479055267 </td><td> 0.01207944  </td><td> 0.7011341   </td><td>-3.469447e-15</td></tr>\n",
       "\t<tr><td>0            </td><td> 2.877545    </td><td> 1.11890724  </td><td>-5.8444050   </td><td> 3.5769675   </td><td> 3.126113    </td><td> 1.9307813   </td><td> 2.2069805   </td><td> 0.7254097   </td><td> 0.7323432   </td><td>...          </td><td> 0.6177436   </td><td> 0.2359480   </td><td>-1.6014132   </td><td> 0.9104693   </td><td> 0.8573336   </td><td> 0.88887743  </td><td> 0.555198030 </td><td>-0.40803290  </td><td>-1.3970298   </td><td>-3.282097e-15</td></tr>\n",
       "\t<tr><td>0            </td><td> 1.924283    </td><td>-2.83413967  </td><td>-2.9867369   </td><td> 0.1076252   </td><td> 2.080695    </td><td>-5.2350814   </td><td> 2.4010976   </td><td> 5.9584906   </td><td>-0.4055263   </td><td>...          </td><td>-1.1705322   </td><td>-0.1881878   </td><td>-0.1083298   </td><td> 0.4162770   </td><td>-0.8940065   </td><td>-0.29839103  </td><td> 0.875206569 </td><td> 0.43949657  </td><td> 1.1244907   </td><td>-1.880440e-15</td></tr>\n",
       "\t<tr><td>0            </td><td> 4.232417    </td><td> 1.42824916  </td><td>-3.0872208   </td><td> 4.9913674   </td><td>-1.211986    </td><td> 2.0464284   </td><td>-1.7832336   </td><td> 2.3812957   </td><td> 3.4583285   </td><td>...          </td><td>-1.9593706   </td><td> 0.4155060   </td><td> 0.6349544   </td><td>-0.3018702   </td><td> 0.4272788   </td><td>-0.54778570  </td><td>-1.761701187 </td><td> 0.97584707  </td><td>-0.5574583   </td><td>-1.290634e-15</td></tr>\n",
       "</tbody>\n",
       "</table>\n"
      ],
      "text/latex": [
       "\\begin{tabular}{r|lllllllllllllllllllllllllllllllllllllllllllllllllllllllllllllllllllllll}\n",
       " W1\\_W2MedWRelFFM1Bin & PC1 & PC2 & PC3 & PC4 & PC5 & PC6 & PC7 & PC8 & PC9 & ... & PC61 & PC62 & PC63 & PC64 & PC65 & PC66 & PC67 & PC68 & PC69 & PC70\\\\\n",
       "\\hline\n",
       "\t 0             & 10.214471     & -6.07336138   &  1.4449838    & -5.2857221    &  2.437847     & -0.8470641    &  1.1473123    & -2.4954322    &  0.8366608    & ...           &  0.5621831    & -1.9440525    & -0.2598019    & -0.2103099    &  0.8806641    & -0.26264799   & -0.004348138  &  0.45416308   & -0.2578540    & -3.774758e-15\\\\\n",
       "\t 0             &  7.332542     &  1.77014202   &  0.7268355    &  2.0355051    & -2.940795     & -3.5607367    & -6.5564390    &  5.8574851    & -1.8336807    & ...           &  0.6342343    &  0.5602049    &  0.6662294    &  0.3944041    & -0.3779738    & -0.36346336   & -0.081807673  &  0.35849892   &  0.3287342    & -2.206568e-15\\\\\n",
       "\t 0             &  3.965091     & -0.04116809   & -1.7015328    &  0.4918181    & -4.684316     & -0.6781090    &  0.8073479    & -2.4024467    &  4.7382037    & ...           & -0.3706538    & -1.4864276    & -0.7970595    & -0.3617023    & -0.9390883    &  0.07764421   & -0.479055267  &  0.01207944   &  0.7011341    & -3.469447e-15\\\\\n",
       "\t 0             &  2.877545     &  1.11890724   & -5.8444050    &  3.5769675    &  3.126113     &  1.9307813    &  2.2069805    &  0.7254097    &  0.7323432    & ...           &  0.6177436    &  0.2359480    & -1.6014132    &  0.9104693    &  0.8573336    &  0.88887743   &  0.555198030  & -0.40803290   & -1.3970298    & -3.282097e-15\\\\\n",
       "\t 0             &  1.924283     & -2.83413967   & -2.9867369    &  0.1076252    &  2.080695     & -5.2350814    &  2.4010976    &  5.9584906    & -0.4055263    & ...           & -1.1705322    & -0.1881878    & -0.1083298    &  0.4162770    & -0.8940065    & -0.29839103   &  0.875206569  &  0.43949657   &  1.1244907    & -1.880440e-15\\\\\n",
       "\t 0             &  4.232417     &  1.42824916   & -3.0872208    &  4.9913674    & -1.211986     &  2.0464284    & -1.7832336    &  2.3812957    &  3.4583285    & ...           & -1.9593706    &  0.4155060    &  0.6349544    & -0.3018702    &  0.4272788    & -0.54778570   & -1.761701187  &  0.97584707   & -0.5574583    & -1.290634e-15\\\\\n",
       "\\end{tabular}\n"
      ],
      "text/markdown": [
       "\n",
       "| W1_W2MedWRelFFM1Bin | PC1 | PC2 | PC3 | PC4 | PC5 | PC6 | PC7 | PC8 | PC9 | ... | PC61 | PC62 | PC63 | PC64 | PC65 | PC66 | PC67 | PC68 | PC69 | PC70 |\n",
       "|---|---|---|---|---|---|---|---|---|---|---|---|---|---|---|---|---|---|---|---|---|\n",
       "| 0             | 10.214471     | -6.07336138   |  1.4449838    | -5.2857221    |  2.437847     | -0.8470641    |  1.1473123    | -2.4954322    |  0.8366608    | ...           |  0.5621831    | -1.9440525    | -0.2598019    | -0.2103099    |  0.8806641    | -0.26264799   | -0.004348138  |  0.45416308   | -0.2578540    | -3.774758e-15 |\n",
       "| 0             |  7.332542     |  1.77014202   |  0.7268355    |  2.0355051    | -2.940795     | -3.5607367    | -6.5564390    |  5.8574851    | -1.8336807    | ...           |  0.6342343    |  0.5602049    |  0.6662294    |  0.3944041    | -0.3779738    | -0.36346336   | -0.081807673  |  0.35849892   |  0.3287342    | -2.206568e-15 |\n",
       "| 0             |  3.965091     | -0.04116809   | -1.7015328    |  0.4918181    | -4.684316     | -0.6781090    |  0.8073479    | -2.4024467    |  4.7382037    | ...           | -0.3706538    | -1.4864276    | -0.7970595    | -0.3617023    | -0.9390883    |  0.07764421   | -0.479055267  |  0.01207944   |  0.7011341    | -3.469447e-15 |\n",
       "| 0             |  2.877545     |  1.11890724   | -5.8444050    |  3.5769675    |  3.126113     |  1.9307813    |  2.2069805    |  0.7254097    |  0.7323432    | ...           |  0.6177436    |  0.2359480    | -1.6014132    |  0.9104693    |  0.8573336    |  0.88887743   |  0.555198030  | -0.40803290   | -1.3970298    | -3.282097e-15 |\n",
       "| 0             |  1.924283     | -2.83413967   | -2.9867369    |  0.1076252    |  2.080695     | -5.2350814    |  2.4010976    |  5.9584906    | -0.4055263    | ...           | -1.1705322    | -0.1881878    | -0.1083298    |  0.4162770    | -0.8940065    | -0.29839103   |  0.875206569  |  0.43949657   |  1.1244907    | -1.880440e-15 |\n",
       "| 0             |  4.232417     |  1.42824916   | -3.0872208    |  4.9913674    | -1.211986     |  2.0464284    | -1.7832336    |  2.3812957    |  3.4583285    | ...           | -1.9593706    |  0.4155060    |  0.6349544    | -0.3018702    |  0.4272788    | -0.54778570   | -1.761701187  |  0.97584707   | -0.5574583    | -1.290634e-15 |\n",
       "\n"
      ],
      "text/plain": [
       "  W1_W2MedWRelFFM1Bin PC1       PC2         PC3        PC4        PC5      \n",
       "1 0                   10.214471 -6.07336138  1.4449838 -5.2857221  2.437847\n",
       "2 0                    7.332542  1.77014202  0.7268355  2.0355051 -2.940795\n",
       "3 0                    3.965091 -0.04116809 -1.7015328  0.4918181 -4.684316\n",
       "4 0                    2.877545  1.11890724 -5.8444050  3.5769675  3.126113\n",
       "5 0                    1.924283 -2.83413967 -2.9867369  0.1076252  2.080695\n",
       "6 0                    4.232417  1.42824916 -3.0872208  4.9913674 -1.211986\n",
       "  PC6        PC7        PC8        PC9        ... PC61       PC62      \n",
       "1 -0.8470641  1.1473123 -2.4954322  0.8366608 ...  0.5621831 -1.9440525\n",
       "2 -3.5607367 -6.5564390  5.8574851 -1.8336807 ...  0.6342343  0.5602049\n",
       "3 -0.6781090  0.8073479 -2.4024467  4.7382037 ... -0.3706538 -1.4864276\n",
       "4  1.9307813  2.2069805  0.7254097  0.7323432 ...  0.6177436  0.2359480\n",
       "5 -5.2350814  2.4010976  5.9584906 -0.4055263 ... -1.1705322 -0.1881878\n",
       "6  2.0464284 -1.7832336  2.3812957  3.4583285 ... -1.9593706  0.4155060\n",
       "  PC63       PC64       PC65       PC66        PC67         PC68       \n",
       "1 -0.2598019 -0.2103099  0.8806641 -0.26264799 -0.004348138  0.45416308\n",
       "2  0.6662294  0.3944041 -0.3779738 -0.36346336 -0.081807673  0.35849892\n",
       "3 -0.7970595 -0.3617023 -0.9390883  0.07764421 -0.479055267  0.01207944\n",
       "4 -1.6014132  0.9104693  0.8573336  0.88887743  0.555198030 -0.40803290\n",
       "5 -0.1083298  0.4162770 -0.8940065 -0.29839103  0.875206569  0.43949657\n",
       "6  0.6349544 -0.3018702  0.4272788 -0.54778570 -1.761701187  0.97584707\n",
       "  PC69       PC70         \n",
       "1 -0.2578540 -3.774758e-15\n",
       "2  0.3287342 -2.206568e-15\n",
       "3  0.7011341 -3.469447e-15\n",
       "4 -1.3970298 -3.282097e-15\n",
       "5  1.1244907 -1.880440e-15\n",
       "6 -0.5574583 -1.290634e-15"
      ]
     },
     "metadata": {},
     "output_type": "display_data"
    }
   ],
   "source": [
    "head(pca_train)"
   ]
  },
  {
   "cell_type": "markdown",
   "metadata": {},
   "source": [
    "## K-Nearest Neighbors (KNN)<a class=\"anchor\" id=\"9\"></a>"
   ]
  },
  {
   "cell_type": "markdown",
   "metadata": {},
   "source": [
    "* [Returning to the index of contents](#index)"
   ]
  },
  {
   "cell_type": "markdown",
   "metadata": {},
   "source": [
    "### Training <a class=\"anchor\" id =\"10\"></a>"
   ]
  },
  {
   "cell_type": "code",
   "execution_count": 134,
   "metadata": {},
   "outputs": [],
   "source": [
    "set.seed(1)\n",
    "trctrl = trainControl(method = \"cv\", number = 2) #crossvalidation with two folds\n",
    "tuneGrid_ <- expand.grid(k = 1 : 30) # As maximum 30 neighbors will be tested\n",
    "k<- c()# optimal number of k neighbors considered\n",
    "acc <- c() #accuracy values associated with the optimal k for each case\n",
    "for (i in thresholds_prop_variance){\n",
    "    j <- i + 1 #columns selected of the original train dataframe\n",
    "    df_train<- pca_train[, 1: j]\n",
    "    knn.fit = train(W1_W2MedWRelFFM1Bin~ .,\n",
    "                df_train,\n",
    "                method = \"knn\",\n",
    "                trControl = trctrl,\n",
    "                preProcess = c(\"center\", \"scale\"),\n",
    "                tuneGrid = tuneGrid_)\n",
    "\n",
    "  k<- c(k, knn.fit$bestTune)  \n",
    "  acc <- c(acc, knn.fit$results[knn.fit$bestTune[[1]],]$Accuracy)\n",
    " \n",
    "\n",
    "}"
   ]
  },
  {
   "cell_type": "code",
   "execution_count": 147,
   "metadata": {},
   "outputs": [
    {
     "data": {
      "image/png": "[encoded data removed]",
      "text/plain": [
       "plot without title"
      ]
     },
     "metadata": {},
     "output_type": "display_data"
    }
   ],
   "source": [
    "ggplot(data = data.frame(acc, pc = thresholds_prop_variance),\n",
    "       aes(x = pc, y = acc, group = 1)) +\n",
    "  geom_point() +\n",
    "  geom_line() +\n",
    "  labs(title='Accuracy evolution based on principal components considered')+\n",
    "  geom_label(aes(label = round(acc,3))) +\n",
    "  theme_bw() +\n",
    "  labs(x = \"Principal components\", \n",
    "       y = \"Accuracy\")"
   ]
  },
  {
   "cell_type": "markdown",
   "metadata": {},
   "source": [
    "As it can be appreciated in the plot, the three best accuracy values are approach to 0.70, so in order to avoid overfitting and using more components than the necessary, we will choose the third number of principal components among the possibilities included in the vector thresholds_prop_variance:"
   ]
  },
  {
   "cell_type": "code",
   "execution_count": 171,
   "metadata": {
    "scrolled": true
   },
   "outputs": [
    {
     "name": "stdout",
     "output_type": "stream",
     "text": [
      "[1] \"Number of principal components choosen: 43\"\n",
      "[1] \"Percentage of explained variance accumulated with 43 principal components: 85.6137290655276 %\"\n"
     ]
    }
   ],
   "source": [
    "print(paste('Number of principal components choosen:',thresholds_prop_variance[3]))\n",
    "print(paste('Percentage of explained variance accumulated with', thresholds_prop_variance[3],'principal components:',prop_variance[43],'%'))"
   ]
  },
  {
   "cell_type": "code",
   "execution_count": 174,
   "metadata": {
    "scrolled": true
   },
   "outputs": [
    {
     "name": "stdout",
     "output_type": "stream",
     "text": [
      "[1] \"Number of optimal k neighbors in train: 7\"\n"
     ]
    }
   ],
   "source": [
    "print(paste('Number of optimal k neighbors in train:',k[3]))"
   ]
  },
  {
   "cell_type": "markdown",
   "metadata": {},
   "source": [
    "### Test prediction <a class=\"anchor\" id=\"11\"></a>"
   ]
  },
  {
   "cell_type": "markdown",
   "metadata": {},
   "source": [
    "* [Returning to the index of contents](#index)"
   ]
  },
  {
   "cell_type": "code",
   "execution_count": 157,
   "metadata": {
    "scrolled": true
   },
   "outputs": [],
   "source": [
    "library(class)"
   ]
  },
  {
   "cell_type": "markdown",
   "metadata": {},
   "source": [
    "Projection of principal components obtained in train on test data:"
   ]
  },
  {
   "cell_type": "code",
   "execution_count": 159,
   "metadata": {},
   "outputs": [
    {
     "name": "stdout",
     "output_type": "stream",
     "text": [
      " num [1:12, 1:70] 1.7951 1.231 -0.0956 4.3983 0.3619 ...\n",
      " - attr(*, \"dimnames\")=List of 2\n",
      "  ..$ : chr [1:12] \"11\" \"16\" \"21\" \"25\" ...\n",
      "  ..$ : chr [1:70] \"PC1\" \"PC2\" \"PC3\" \"PC4\" ...\n"
     ]
    }
   ],
   "source": [
    "pca_test_pred <- predict(prcomp(ind_med_train[, -1], scale = TRUE, center = TRUE), newdata = ind_med_test[,-1] )\n",
    "str(pca_test_pred)"
   ]
  },
  {
   "cell_type": "code",
   "execution_count": 160,
   "metadata": {},
   "outputs": [
    {
     "data": {
      "text/html": [
       "<ol class=list-inline>\n",
       "\t<li>12</li>\n",
       "\t<li>70</li>\n",
       "</ol>\n"
      ],
      "text/latex": [
       "\\begin{enumerate*}\n",
       "\\item 12\n",
       "\\item 70\n",
       "\\end{enumerate*}\n"
      ],
      "text/markdown": [
       "1. 12\n",
       "2. 70\n",
       "\n",
       "\n"
      ],
      "text/plain": [
       "[1] 12 70"
      ]
     },
     "metadata": {},
     "output_type": "display_data"
    }
   ],
   "source": [
    "dim(pca_test)"
   ]
  },
  {
   "cell_type": "markdown",
   "metadata": {},
   "source": [
    "The projection is correct because despite of having 12 observations in test, the number of principal components is the same than in train, 70."
   ]
  },
  {
   "cell_type": "markdown",
   "metadata": {},
   "source": [
    "Prediction of responsable variable for test data using the knn classifier trained:"
   ]
  },
  {
   "cell_type": "code",
   "execution_count": 161,
   "metadata": {},
   "outputs": [],
   "source": [
    "pred <- knn(train = pca_train[,2:43],test =pca_test_pred[,2:43], cl =pca_train$W1_W2MedWRelFFM1Bin ,k = 7)"
   ]
  },
  {
   "cell_type": "code",
   "execution_count": 162,
   "metadata": {
    "scrolled": true
   },
   "outputs": [
    {
     "data": {
      "text/html": [
       "<ol class=list-inline>\n",
       "\t<li>0</li>\n",
       "\t<li>0</li>\n",
       "\t<li>0</li>\n",
       "\t<li>0</li>\n",
       "\t<li>1</li>\n",
       "\t<li>0</li>\n",
       "\t<li>0</li>\n",
       "\t<li>0</li>\n",
       "\t<li>1</li>\n",
       "\t<li>1</li>\n",
       "\t<li>1</li>\n",
       "\t<li>1</li>\n",
       "</ol>\n",
       "\n",
       "<details>\n",
       "\t<summary style=display:list-item;cursor:pointer>\n",
       "\t\t<strong>Levels</strong>:\n",
       "\t</summary>\n",
       "\t<ol class=list-inline>\n",
       "\t\t<li>'0'</li>\n",
       "\t\t<li>'1'</li>\n",
       "\t</ol>\n",
       "</details>"
      ],
      "text/latex": [
       "\\begin{enumerate*}\n",
       "\\item 0\n",
       "\\item 0\n",
       "\\item 0\n",
       "\\item 0\n",
       "\\item 1\n",
       "\\item 0\n",
       "\\item 0\n",
       "\\item 0\n",
       "\\item 1\n",
       "\\item 1\n",
       "\\item 1\n",
       "\\item 1\n",
       "\\end{enumerate*}\n",
       "\n",
       "\\emph{Levels}: \\begin{enumerate*}\n",
       "\\item '0'\n",
       "\\item '1'\n",
       "\\end{enumerate*}\n"
      ],
      "text/markdown": [
       "1. 0\n",
       "2. 0\n",
       "3. 0\n",
       "4. 0\n",
       "5. 1\n",
       "6. 0\n",
       "7. 0\n",
       "8. 0\n",
       "9. 1\n",
       "10. 1\n",
       "11. 1\n",
       "12. 1\n",
       "\n",
       "\n",
       "\n",
       "**Levels**: 1. '0'\n",
       "2. '1'\n",
       "\n",
       "\n"
      ],
      "text/plain": [
       " [1] 0 0 0 0 1 0 0 0 1 1 1 1\n",
       "Levels: 0 1"
      ]
     },
     "metadata": {},
     "output_type": "display_data"
    }
   ],
   "source": [
    "pred"
   ]
  },
  {
   "cell_type": "code",
   "execution_count": 163,
   "metadata": {
    "scrolled": true
   },
   "outputs": [
    {
     "data": {
      "text/html": [
       "<ol class=list-inline>\n",
       "\t<li>0</li>\n",
       "\t<li>0</li>\n",
       "\t<li>0</li>\n",
       "\t<li>0</li>\n",
       "\t<li>1</li>\n",
       "\t<li>1</li>\n",
       "\t<li>1</li>\n",
       "\t<li>1</li>\n",
       "\t<li>0</li>\n",
       "\t<li>1</li>\n",
       "\t<li>0</li>\n",
       "\t<li>1</li>\n",
       "</ol>\n",
       "\n",
       "<details>\n",
       "\t<summary style=display:list-item;cursor:pointer>\n",
       "\t\t<strong>Levels</strong>:\n",
       "\t</summary>\n",
       "\t<ol class=list-inline>\n",
       "\t\t<li>'0'</li>\n",
       "\t\t<li>'1'</li>\n",
       "\t</ol>\n",
       "</details>"
      ],
      "text/latex": [
       "\\begin{enumerate*}\n",
       "\\item 0\n",
       "\\item 0\n",
       "\\item 0\n",
       "\\item 0\n",
       "\\item 1\n",
       "\\item 1\n",
       "\\item 1\n",
       "\\item 1\n",
       "\\item 0\n",
       "\\item 1\n",
       "\\item 0\n",
       "\\item 1\n",
       "\\end{enumerate*}\n",
       "\n",
       "\\emph{Levels}: \\begin{enumerate*}\n",
       "\\item '0'\n",
       "\\item '1'\n",
       "\\end{enumerate*}\n"
      ],
      "text/markdown": [
       "1. 0\n",
       "2. 0\n",
       "3. 0\n",
       "4. 0\n",
       "5. 1\n",
       "6. 1\n",
       "7. 1\n",
       "8. 1\n",
       "9. 0\n",
       "10. 1\n",
       "11. 0\n",
       "12. 1\n",
       "\n",
       "\n",
       "\n",
       "**Levels**: 1. '0'\n",
       "2. '1'\n",
       "\n",
       "\n"
      ],
      "text/plain": [
       " [1] 0 0 0 0 1 1 1 1 0 1 0 1\n",
       "Levels: 0 1"
      ]
     },
     "metadata": {},
     "output_type": "display_data"
    }
   ],
   "source": [
    "ind_med_test$W1_W2MedWRelFFM1Bin"
   ]
  },
  {
   "cell_type": "markdown",
   "metadata": {},
   "source": [
    "Error in test prediction:"
   ]
  },
  {
   "cell_type": "code",
   "execution_count": 175,
   "metadata": {},
   "outputs": [
    {
     "name": "stdout",
     "output_type": "stream",
     "text": [
      "[1] \"41.6666666666667 % of predictions in test are wrong\"\n"
     ]
    }
   ],
   "source": [
    "acc.class = function(x,y){\n",
    "    stopifnot(length(x) == length(y))\n",
    "    return(sum(diag(table(x,y)))/length(x)* 100)\n",
    "}\n",
    "\n",
    "\n",
    "error <- 100 - acc.class(ind_med_test$W1_W2MedWRelFFM1Bin,pred)\n",
    "\n",
    "print(paste(error,'% of predictions in test are wrong'))"
   ]
  },
  {
   "cell_type": "markdown",
   "metadata": {},
   "source": [
    "Matrix of confusion:"
   ]
  },
  {
   "cell_type": "code",
   "execution_count": 165,
   "metadata": {
    "scrolled": true
   },
   "outputs": [
    {
     "data": {
      "text/plain": [
       "   pred\n",
       "    0 1\n",
       "  0 4 2\n",
       "  1 3 3"
      ]
     },
     "metadata": {},
     "output_type": "display_data"
    }
   ],
   "source": [
    "table(ind_med_test$W1_W2MedWRelFFM1Bin,pred)"
   ]
  },
  {
   "cell_type": "markdown",
   "metadata": {},
   "source": [
    "Accuracy in test prediction:"
   ]
  },
  {
   "cell_type": "code",
   "execution_count": 178,
   "metadata": {},
   "outputs": [
    {
     "name": "stdout",
     "output_type": "stream",
     "text": [
      "[1] \"58.3333333333333 % of predictions in test are correct\"\n"
     ]
    }
   ],
   "source": [
    "print(paste(acc.class(ind_med_test$W1_W2MedWRelFFM1Bin,pred),'% of predictions in test are correct'))"
   ]
  },
  {
   "cell_type": "markdown",
   "metadata": {},
   "source": [
    "The accuracy of the model is relative low, taking into account that a random model can make a good prediction the 50% of times, but probably the size of the test is too limited to come up with a clear conclusion."
   ]
  }
 ],
 "metadata": {
  "kernelspec": {
   "display_name": "R",
   "language": "R",
   "name": "ir"
  },
  "language_info": {
   "codemirror_mode": "r",
   "file_extension": ".r",
   "mimetype": "text/x-r-source",
   "name": "R",
   "pygments_lexer": "r",
   "version": "3.6.1"
  }
 },
 "nbformat": 4,
 "nbformat_minor": 4
}
