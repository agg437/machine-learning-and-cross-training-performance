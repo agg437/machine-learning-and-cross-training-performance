{
 "cells": [
  {
   "cell_type": "markdown",
   "metadata": {},
   "source": [
    "# <p style=\"text-align: justify;\"><div class=\"alert alert-info\" role=\"alert\">Transforming the genetic attributes into numeric values using a codification based on log-additive model</div></p>"
   ]
  },
  {
   "cell_type": "markdown",
   "metadata": {},
   "source": [
    "## `Ana González Guerra` \n",
    "\n",
    "### ` Student of the master in Data Science at the University of Cantabria` "
   ]
  },
  {
   "cell_type": "markdown",
   "metadata": {},
   "source": [
    "## Index:<a class=\"anchor\" id=\"index\"></a>\n",
    "* [Loading data](#1)\n",
    "* [Codification](#2)\n",
    "* [Subset of interesting SNPs](#3)"
   ]
  },
  {
   "cell_type": "markdown",
   "metadata": {},
   "source": [
    "## Loading data"
   ]
  },
  {
   "cell_type": "markdown",
   "metadata": {},
   "source": [
    "* [Returning to the index of contents](#index)"
   ]
  },
  {
   "cell_type": "code",
   "execution_count": 1,
   "metadata": {},
   "outputs": [
    {
     "data": {
      "text/html": [
       "<table>\n",
       "<thead><tr><th scope=col>rs10034661</th><th scope=col>rs10063949</th><th scope=col>rs1024610</th><th scope=col>rs1024611</th><th scope=col>rs1042713</th><th scope=col>rs1045485</th><th scope=col>rs10491003</th><th scope=col>rs1049305</th><th scope=col>rs1049434</th><th scope=col>rs10497520</th><th scope=col>...</th><th scope=col>rs8111989</th><th scope=col>rs8192678</th><th scope=col>rs824205</th><th scope=col>rs833070</th><th scope=col>rs884736</th><th scope=col>rs921943</th><th scope=col>rs9469199</th><th scope=col>rs970547</th><th scope=col>rs9902453</th><th scope=col>rs9939609</th></tr></thead>\n",
       "<tbody>\n",
       "\t<tr><td>G:G</td><td>C:T</td><td>A:T</td><td>T:T</td><td>A:A</td><td>C:G</td><td>G:G</td><td>C:G</td><td>A:T</td><td>C:T</td><td>...</td><td>C:T</td><td>A:G</td><td>G:G</td><td>A:G</td><td>C:T</td><td>A:G</td><td>A:G</td><td>A:A</td><td>A:G</td><td>A:A</td></tr>\n",
       "\t<tr><td>G:G</td><td>C:T</td><td>A:T</td><td>C:T</td><td>A:G</td><td>G:G</td><td>G:G</td><td>G:G</td><td>A:A</td><td>C:C</td><td>...</td><td>C:T</td><td>A:G</td><td>A:G</td><td>A:G</td><td>C:T</td><td>A:G</td><td>G:G</td><td>A:G</td><td>A:G</td><td>T:T</td></tr>\n",
       "\t<tr><td>G:G</td><td>T:T</td><td>A:T</td><td>T:T</td><td>A:G</td><td>G:G</td><td>G:G</td><td>C:G</td><td>A:A</td><td>C:C</td><td>...</td><td>C:T</td><td>A:G</td><td>G:G</td><td>A:G</td><td>C:T</td><td>A:A</td><td>G:G</td><td>A:G</td><td>A:G</td><td>A:A</td></tr>\n",
       "\t<tr><td>G:G</td><td>T:T</td><td>T:T</td><td>C:T</td><td>A:G</td><td>G:G</td><td>G:G</td><td>C:C</td><td>A:T</td><td>C:C</td><td>...</td><td>C:T</td><td>A:G</td><td>G:G</td><td>A:G</td><td>C:T</td><td>A:G</td><td>G:G</td><td>A:A</td><td>A:A</td><td>A:A</td></tr>\n",
       "\t<tr><td>G:G</td><td>C:T</td><td>T:T</td><td>C:T</td><td>G:G</td><td>C:C</td><td>G:G</td><td>C:G</td><td>T:T</td><td>C:C</td><td>...</td><td>C:T</td><td>A:G</td><td>G:G</td><td>G:G</td><td>T:T</td><td>G:G</td><td>G:G</td><td>A:A</td><td>A:G</td><td>A:T</td></tr>\n",
       "\t<tr><td>G:G</td><td>C:T</td><td>T:T</td><td>C:T</td><td>A:G</td><td>G:G</td><td>G:G</td><td>C:G</td><td>A:T</td><td>C:C</td><td>...</td><td>C:T</td><td>A:G</td><td>G:G</td><td>G:G</td><td>C:T</td><td>A:G</td><td>G:G</td><td>A:G</td><td>G:G</td><td>T:T</td></tr>\n",
       "</tbody>\n",
       "</table>\n"
      ],
      "text/latex": [
       "\\begin{tabular}{r|llllllllllllllllllllllllllllllllllllllllllllllllllllllllllllllllllllllllllllllllllllllllllllllllllllllllllllllllllllllllllllllllllllllllllllllllllllllllllllllllllllllllllllllllll}\n",
       " rs10034661 & rs10063949 & rs1024610 & rs1024611 & rs1042713 & rs1045485 & rs10491003 & rs1049305 & rs1049434 & rs10497520 & ... & rs8111989 & rs8192678 & rs824205 & rs833070 & rs884736 & rs921943 & rs9469199 & rs970547 & rs9902453 & rs9939609\\\\\n",
       "\\hline\n",
       "\t G:G & C:T & A:T & T:T & A:A & C:G & G:G & C:G & A:T & C:T & ... & C:T & A:G & G:G & A:G & C:T & A:G & A:G & A:A & A:G & A:A\\\\\n",
       "\t G:G & C:T & A:T & C:T & A:G & G:G & G:G & G:G & A:A & C:C & ... & C:T & A:G & A:G & A:G & C:T & A:G & G:G & A:G & A:G & T:T\\\\\n",
       "\t G:G & T:T & A:T & T:T & A:G & G:G & G:G & C:G & A:A & C:C & ... & C:T & A:G & G:G & A:G & C:T & A:A & G:G & A:G & A:G & A:A\\\\\n",
       "\t G:G & T:T & T:T & C:T & A:G & G:G & G:G & C:C & A:T & C:C & ... & C:T & A:G & G:G & A:G & C:T & A:G & G:G & A:A & A:A & A:A\\\\\n",
       "\t G:G & C:T & T:T & C:T & G:G & C:C & G:G & C:G & T:T & C:C & ... & C:T & A:G & G:G & G:G & T:T & G:G & G:G & A:A & A:G & A:T\\\\\n",
       "\t G:G & C:T & T:T & C:T & A:G & G:G & G:G & C:G & A:T & C:C & ... & C:T & A:G & G:G & G:G & C:T & A:G & G:G & A:G & G:G & T:T\\\\\n",
       "\\end{tabular}\n"
      ],
      "text/markdown": [
       "\n",
       "| rs10034661 | rs10063949 | rs1024610 | rs1024611 | rs1042713 | rs1045485 | rs10491003 | rs1049305 | rs1049434 | rs10497520 | ... | rs8111989 | rs8192678 | rs824205 | rs833070 | rs884736 | rs921943 | rs9469199 | rs970547 | rs9902453 | rs9939609 |\n",
       "|---|---|---|---|---|---|---|---|---|---|---|---|---|---|---|---|---|---|---|---|---|\n",
       "| G:G | C:T | A:T | T:T | A:A | C:G | G:G | C:G | A:T | C:T | ... | C:T | A:G | G:G | A:G | C:T | A:G | A:G | A:A | A:G | A:A |\n",
       "| G:G | C:T | A:T | C:T | A:G | G:G | G:G | G:G | A:A | C:C | ... | C:T | A:G | A:G | A:G | C:T | A:G | G:G | A:G | A:G | T:T |\n",
       "| G:G | T:T | A:T | T:T | A:G | G:G | G:G | C:G | A:A | C:C | ... | C:T | A:G | G:G | A:G | C:T | A:A | G:G | A:G | A:G | A:A |\n",
       "| G:G | T:T | T:T | C:T | A:G | G:G | G:G | C:C | A:T | C:C | ... | C:T | A:G | G:G | A:G | C:T | A:G | G:G | A:A | A:A | A:A |\n",
       "| G:G | C:T | T:T | C:T | G:G | C:C | G:G | C:G | T:T | C:C | ... | C:T | A:G | G:G | G:G | T:T | G:G | G:G | A:A | A:G | A:T |\n",
       "| G:G | C:T | T:T | C:T | A:G | G:G | G:G | C:G | A:T | C:C | ... | C:T | A:G | G:G | G:G | C:T | A:G | G:G | A:G | G:G | T:T |\n",
       "\n"
      ],
      "text/plain": [
       "  rs10034661 rs10063949 rs1024610 rs1024611 rs1042713 rs1045485 rs10491003\n",
       "1 G:G        C:T        A:T       T:T       A:A       C:G       G:G       \n",
       "2 G:G        C:T        A:T       C:T       A:G       G:G       G:G       \n",
       "3 G:G        T:T        A:T       T:T       A:G       G:G       G:G       \n",
       "4 G:G        T:T        T:T       C:T       A:G       G:G       G:G       \n",
       "5 G:G        C:T        T:T       C:T       G:G       C:C       G:G       \n",
       "6 G:G        C:T        T:T       C:T       A:G       G:G       G:G       \n",
       "  rs1049305 rs1049434 rs10497520 ... rs8111989 rs8192678 rs824205 rs833070\n",
       "1 C:G       A:T       C:T        ... C:T       A:G       G:G      A:G     \n",
       "2 G:G       A:A       C:C        ... C:T       A:G       A:G      A:G     \n",
       "3 C:G       A:A       C:C        ... C:T       A:G       G:G      A:G     \n",
       "4 C:C       A:T       C:C        ... C:T       A:G       G:G      A:G     \n",
       "5 C:G       T:T       C:C        ... C:T       A:G       G:G      G:G     \n",
       "6 C:G       A:T       C:C        ... C:T       A:G       G:G      G:G     \n",
       "  rs884736 rs921943 rs9469199 rs970547 rs9902453 rs9939609\n",
       "1 C:T      A:G      A:G       A:A      A:G       A:A      \n",
       "2 C:T      A:G      G:G       A:G      A:G       T:T      \n",
       "3 C:T      A:A      G:G       A:G      A:G       A:A      \n",
       "4 C:T      A:G      G:G       A:A      A:A       A:A      \n",
       "5 T:T      G:G      G:G       A:A      A:G       A:T      \n",
       "6 C:T      A:G      G:G       A:G      G:G       T:T      "
      ]
     },
     "metadata": {},
     "output_type": "display_data"
    }
   ],
   "source": [
    "handle_genetic <-  read.csv('handle_genetic_fusion_28_04_20.csv')\n",
    "\n",
    "head(handle_genetic)"
   ]
  },
  {
   "cell_type": "markdown",
   "metadata": {},
   "source": [
    "## Codification <a class=\"anchor\" id=\"2\"></a>"
   ]
  },
  {
   "cell_type": "markdown",
   "metadata": {},
   "source": [
    "* [Returning to the index of contents](#index)"
   ]
  },
  {
   "cell_type": "code",
   "execution_count": 2,
   "metadata": {},
   "outputs": [
    {
     "data": {
      "text/html": [
       "<table>\n",
       "<thead><tr><th scope=col>rs10034661</th><th scope=col>rs10063949</th><th scope=col>rs1024610</th><th scope=col>rs1024611</th><th scope=col>rs1042713</th><th scope=col>rs1045485</th><th scope=col>rs10491003</th><th scope=col>rs1049305</th><th scope=col>rs1049434</th><th scope=col>rs10497520</th><th scope=col>...</th><th scope=col>rs8111989</th><th scope=col>rs8192678</th><th scope=col>rs824205</th><th scope=col>rs833070</th><th scope=col>rs884736</th><th scope=col>rs921943</th><th scope=col>rs9469199</th><th scope=col>rs970547</th><th scope=col>rs9902453</th><th scope=col>rs9939609</th></tr></thead>\n",
       "<tbody>\n",
       "\t<tr><td>G:G</td><td>C:T</td><td>A:T</td><td>T:T</td><td>A:A</td><td>C:G</td><td>G:G</td><td>C:G</td><td>A:T</td><td>C:T</td><td>...</td><td>C:T</td><td>A:G</td><td>G:G</td><td>A:G</td><td>C:T</td><td>A:G</td><td>A:G</td><td>A:A</td><td>A:G</td><td>A:A</td></tr>\n",
       "\t<tr><td>G:G</td><td>C:T</td><td>A:T</td><td>C:T</td><td>A:G</td><td>G:G</td><td>G:G</td><td>G:G</td><td>A:A</td><td>C:C</td><td>...</td><td>C:T</td><td>A:G</td><td>A:G</td><td>A:G</td><td>C:T</td><td>A:G</td><td>G:G</td><td>A:G</td><td>A:G</td><td>T:T</td></tr>\n",
       "\t<tr><td>G:G</td><td>T:T</td><td>A:T</td><td>T:T</td><td>A:G</td><td>G:G</td><td>G:G</td><td>C:G</td><td>A:A</td><td>C:C</td><td>...</td><td>C:T</td><td>A:G</td><td>G:G</td><td>A:G</td><td>C:T</td><td>A:A</td><td>G:G</td><td>A:G</td><td>A:G</td><td>A:A</td></tr>\n",
       "\t<tr><td>G:G</td><td>T:T</td><td>T:T</td><td>C:T</td><td>A:G</td><td>G:G</td><td>G:G</td><td>C:C</td><td>A:T</td><td>C:C</td><td>...</td><td>C:T</td><td>A:G</td><td>G:G</td><td>A:G</td><td>C:T</td><td>A:G</td><td>G:G</td><td>A:A</td><td>A:A</td><td>A:A</td></tr>\n",
       "\t<tr><td>G:G</td><td>C:T</td><td>T:T</td><td>C:T</td><td>G:G</td><td>C:C</td><td>G:G</td><td>C:G</td><td>T:T</td><td>C:C</td><td>...</td><td>C:T</td><td>A:G</td><td>G:G</td><td>G:G</td><td>T:T</td><td>G:G</td><td>G:G</td><td>A:A</td><td>A:G</td><td>A:T</td></tr>\n",
       "\t<tr><td>G:G</td><td>C:T</td><td>T:T</td><td>C:T</td><td>A:G</td><td>G:G</td><td>G:G</td><td>C:G</td><td>A:T</td><td>C:C</td><td>...</td><td>C:T</td><td>A:G</td><td>G:G</td><td>G:G</td><td>C:T</td><td>A:G</td><td>G:G</td><td>A:G</td><td>G:G</td><td>T:T</td></tr>\n",
       "</tbody>\n",
       "</table>\n"
      ],
      "text/latex": [
       "\\begin{tabular}{r|llllllllllllllllllllllllllllllllllllllllllllllllllllllllllllllllllllllllllllllllllllllllllllllllllllllllllllllllllllllllllllllllllllllllllllllllllllllllllllllllllllllllllllllllll}\n",
       " rs10034661 & rs10063949 & rs1024610 & rs1024611 & rs1042713 & rs1045485 & rs10491003 & rs1049305 & rs1049434 & rs10497520 & ... & rs8111989 & rs8192678 & rs824205 & rs833070 & rs884736 & rs921943 & rs9469199 & rs970547 & rs9902453 & rs9939609\\\\\n",
       "\\hline\n",
       "\t G:G & C:T & A:T & T:T & A:A & C:G & G:G & C:G & A:T & C:T & ... & C:T & A:G & G:G & A:G & C:T & A:G & A:G & A:A & A:G & A:A\\\\\n",
       "\t G:G & C:T & A:T & C:T & A:G & G:G & G:G & G:G & A:A & C:C & ... & C:T & A:G & A:G & A:G & C:T & A:G & G:G & A:G & A:G & T:T\\\\\n",
       "\t G:G & T:T & A:T & T:T & A:G & G:G & G:G & C:G & A:A & C:C & ... & C:T & A:G & G:G & A:G & C:T & A:A & G:G & A:G & A:G & A:A\\\\\n",
       "\t G:G & T:T & T:T & C:T & A:G & G:G & G:G & C:C & A:T & C:C & ... & C:T & A:G & G:G & A:G & C:T & A:G & G:G & A:A & A:A & A:A\\\\\n",
       "\t G:G & C:T & T:T & C:T & G:G & C:C & G:G & C:G & T:T & C:C & ... & C:T & A:G & G:G & G:G & T:T & G:G & G:G & A:A & A:G & A:T\\\\\n",
       "\t G:G & C:T & T:T & C:T & A:G & G:G & G:G & C:G & A:T & C:C & ... & C:T & A:G & G:G & G:G & C:T & A:G & G:G & A:G & G:G & T:T\\\\\n",
       "\\end{tabular}\n"
      ],
      "text/markdown": [
       "\n",
       "| rs10034661 | rs10063949 | rs1024610 | rs1024611 | rs1042713 | rs1045485 | rs10491003 | rs1049305 | rs1049434 | rs10497520 | ... | rs8111989 | rs8192678 | rs824205 | rs833070 | rs884736 | rs921943 | rs9469199 | rs970547 | rs9902453 | rs9939609 |\n",
       "|---|---|---|---|---|---|---|---|---|---|---|---|---|---|---|---|---|---|---|---|---|\n",
       "| G:G | C:T | A:T | T:T | A:A | C:G | G:G | C:G | A:T | C:T | ... | C:T | A:G | G:G | A:G | C:T | A:G | A:G | A:A | A:G | A:A |\n",
       "| G:G | C:T | A:T | C:T | A:G | G:G | G:G | G:G | A:A | C:C | ... | C:T | A:G | A:G | A:G | C:T | A:G | G:G | A:G | A:G | T:T |\n",
       "| G:G | T:T | A:T | T:T | A:G | G:G | G:G | C:G | A:A | C:C | ... | C:T | A:G | G:G | A:G | C:T | A:A | G:G | A:G | A:G | A:A |\n",
       "| G:G | T:T | T:T | C:T | A:G | G:G | G:G | C:C | A:T | C:C | ... | C:T | A:G | G:G | A:G | C:T | A:G | G:G | A:A | A:A | A:A |\n",
       "| G:G | C:T | T:T | C:T | G:G | C:C | G:G | C:G | T:T | C:C | ... | C:T | A:G | G:G | G:G | T:T | G:G | G:G | A:A | A:G | A:T |\n",
       "| G:G | C:T | T:T | C:T | A:G | G:G | G:G | C:G | A:T | C:C | ... | C:T | A:G | G:G | G:G | C:T | A:G | G:G | A:G | G:G | T:T |\n",
       "\n"
      ],
      "text/plain": [
       "  rs10034661 rs10063949 rs1024610 rs1024611 rs1042713 rs1045485 rs10491003\n",
       "1 G:G        C:T        A:T       T:T       A:A       C:G       G:G       \n",
       "2 G:G        C:T        A:T       C:T       A:G       G:G       G:G       \n",
       "3 G:G        T:T        A:T       T:T       A:G       G:G       G:G       \n",
       "4 G:G        T:T        T:T       C:T       A:G       G:G       G:G       \n",
       "5 G:G        C:T        T:T       C:T       G:G       C:C       G:G       \n",
       "6 G:G        C:T        T:T       C:T       A:G       G:G       G:G       \n",
       "  rs1049305 rs1049434 rs10497520 ... rs8111989 rs8192678 rs824205 rs833070\n",
       "1 C:G       A:T       C:T        ... C:T       A:G       G:G      A:G     \n",
       "2 G:G       A:A       C:C        ... C:T       A:G       A:G      A:G     \n",
       "3 C:G       A:A       C:C        ... C:T       A:G       G:G      A:G     \n",
       "4 C:C       A:T       C:C        ... C:T       A:G       G:G      A:G     \n",
       "5 C:G       T:T       C:C        ... C:T       A:G       G:G      G:G     \n",
       "6 C:G       A:T       C:C        ... C:T       A:G       G:G      G:G     \n",
       "  rs884736 rs921943 rs9469199 rs970547 rs9902453 rs9939609\n",
       "1 C:T      A:G      A:G       A:A      A:G       A:A      \n",
       "2 C:T      A:G      G:G       A:G      A:G       T:T      \n",
       "3 C:T      A:A      G:G       A:G      A:G       A:A      \n",
       "4 C:T      A:G      G:G       A:A      A:A       A:A      \n",
       "5 T:T      G:G      G:G       A:A      A:G       A:T      \n",
       "6 C:T      A:G      G:G       A:G      G:G       T:T      "
      ]
     },
     "metadata": {},
     "output_type": "display_data"
    }
   ],
   "source": [
    "head(handle_genetic)"
   ]
  },
  {
   "cell_type": "code",
   "execution_count": 3,
   "metadata": {},
   "outputs": [],
   "source": [
    "for (i in 1: ncol(handle_genetic)){\n",
    "    handle_genetic[,i] <- as.numeric(handle_genetic[,i])\n",
    "}"
   ]
  },
  {
   "cell_type": "markdown",
   "metadata": {},
   "source": [
    "Thus the levels for each genetic variable will be 1 for the first level in alphabetical order (within the possibilities of the particular variable), 2 for the second one, and 3 for the third one."
   ]
  },
  {
   "cell_type": "code",
   "execution_count": 4,
   "metadata": {},
   "outputs": [
    {
     "data": {
      "text/html": [
       "<table>\n",
       "<thead><tr><th scope=col>rs10034661</th><th scope=col>rs10063949</th><th scope=col>rs1024610</th><th scope=col>rs1024611</th><th scope=col>rs1042713</th><th scope=col>rs1045485</th><th scope=col>rs10491003</th><th scope=col>rs1049305</th><th scope=col>rs1049434</th><th scope=col>rs10497520</th><th scope=col>...</th><th scope=col>rs8111989</th><th scope=col>rs8192678</th><th scope=col>rs824205</th><th scope=col>rs833070</th><th scope=col>rs884736</th><th scope=col>rs921943</th><th scope=col>rs9469199</th><th scope=col>rs970547</th><th scope=col>rs9902453</th><th scope=col>rs9939609</th></tr></thead>\n",
       "<tbody>\n",
       "\t<tr><td>3  </td><td>2  </td><td>2  </td><td>3  </td><td>1  </td><td>2  </td><td>3  </td><td>2  </td><td>2  </td><td>2  </td><td>...</td><td>2  </td><td>2  </td><td>2  </td><td>2  </td><td>2  </td><td>2  </td><td>2  </td><td>1  </td><td>2  </td><td>1  </td></tr>\n",
       "\t<tr><td>3  </td><td>2  </td><td>2  </td><td>2  </td><td>2  </td><td>3  </td><td>3  </td><td>3  </td><td>1  </td><td>1  </td><td>...</td><td>2  </td><td>2  </td><td>1  </td><td>2  </td><td>2  </td><td>2  </td><td>3  </td><td>2  </td><td>2  </td><td>3  </td></tr>\n",
       "\t<tr><td>3  </td><td>3  </td><td>2  </td><td>3  </td><td>2  </td><td>3  </td><td>3  </td><td>2  </td><td>1  </td><td>1  </td><td>...</td><td>2  </td><td>2  </td><td>2  </td><td>2  </td><td>2  </td><td>1  </td><td>3  </td><td>2  </td><td>2  </td><td>1  </td></tr>\n",
       "\t<tr><td>3  </td><td>3  </td><td>3  </td><td>2  </td><td>2  </td><td>3  </td><td>3  </td><td>1  </td><td>2  </td><td>1  </td><td>...</td><td>2  </td><td>2  </td><td>2  </td><td>2  </td><td>2  </td><td>2  </td><td>3  </td><td>1  </td><td>1  </td><td>1  </td></tr>\n",
       "\t<tr><td>3  </td><td>2  </td><td>3  </td><td>2  </td><td>3  </td><td>1  </td><td>3  </td><td>2  </td><td>3  </td><td>1  </td><td>...</td><td>2  </td><td>2  </td><td>2  </td><td>3  </td><td>3  </td><td>3  </td><td>3  </td><td>1  </td><td>2  </td><td>2  </td></tr>\n",
       "\t<tr><td>3  </td><td>2  </td><td>3  </td><td>2  </td><td>2  </td><td>3  </td><td>3  </td><td>2  </td><td>2  </td><td>1  </td><td>...</td><td>2  </td><td>2  </td><td>2  </td><td>3  </td><td>2  </td><td>2  </td><td>3  </td><td>2  </td><td>3  </td><td>3  </td></tr>\n",
       "</tbody>\n",
       "</table>\n"
      ],
      "text/latex": [
       "\\begin{tabular}{r|llllllllllllllllllllllllllllllllllllllllllllllllllllllllllllllllllllllllllllllllllllllllllllllllllllllllllllllllllllllllllllllllllllllllllllllllllllllllllllllllllllllllllllllllll}\n",
       " rs10034661 & rs10063949 & rs1024610 & rs1024611 & rs1042713 & rs1045485 & rs10491003 & rs1049305 & rs1049434 & rs10497520 & ... & rs8111989 & rs8192678 & rs824205 & rs833070 & rs884736 & rs921943 & rs9469199 & rs970547 & rs9902453 & rs9939609\\\\\n",
       "\\hline\n",
       "\t 3   & 2   & 2   & 3   & 1   & 2   & 3   & 2   & 2   & 2   & ... & 2   & 2   & 2   & 2   & 2   & 2   & 2   & 1   & 2   & 1  \\\\\n",
       "\t 3   & 2   & 2   & 2   & 2   & 3   & 3   & 3   & 1   & 1   & ... & 2   & 2   & 1   & 2   & 2   & 2   & 3   & 2   & 2   & 3  \\\\\n",
       "\t 3   & 3   & 2   & 3   & 2   & 3   & 3   & 2   & 1   & 1   & ... & 2   & 2   & 2   & 2   & 2   & 1   & 3   & 2   & 2   & 1  \\\\\n",
       "\t 3   & 3   & 3   & 2   & 2   & 3   & 3   & 1   & 2   & 1   & ... & 2   & 2   & 2   & 2   & 2   & 2   & 3   & 1   & 1   & 1  \\\\\n",
       "\t 3   & 2   & 3   & 2   & 3   & 1   & 3   & 2   & 3   & 1   & ... & 2   & 2   & 2   & 3   & 3   & 3   & 3   & 1   & 2   & 2  \\\\\n",
       "\t 3   & 2   & 3   & 2   & 2   & 3   & 3   & 2   & 2   & 1   & ... & 2   & 2   & 2   & 3   & 2   & 2   & 3   & 2   & 3   & 3  \\\\\n",
       "\\end{tabular}\n"
      ],
      "text/markdown": [
       "\n",
       "| rs10034661 | rs10063949 | rs1024610 | rs1024611 | rs1042713 | rs1045485 | rs10491003 | rs1049305 | rs1049434 | rs10497520 | ... | rs8111989 | rs8192678 | rs824205 | rs833070 | rs884736 | rs921943 | rs9469199 | rs970547 | rs9902453 | rs9939609 |\n",
       "|---|---|---|---|---|---|---|---|---|---|---|---|---|---|---|---|---|---|---|---|---|\n",
       "| 3   | 2   | 2   | 3   | 1   | 2   | 3   | 2   | 2   | 2   | ... | 2   | 2   | 2   | 2   | 2   | 2   | 2   | 1   | 2   | 1   |\n",
       "| 3   | 2   | 2   | 2   | 2   | 3   | 3   | 3   | 1   | 1   | ... | 2   | 2   | 1   | 2   | 2   | 2   | 3   | 2   | 2   | 3   |\n",
       "| 3   | 3   | 2   | 3   | 2   | 3   | 3   | 2   | 1   | 1   | ... | 2   | 2   | 2   | 2   | 2   | 1   | 3   | 2   | 2   | 1   |\n",
       "| 3   | 3   | 3   | 2   | 2   | 3   | 3   | 1   | 2   | 1   | ... | 2   | 2   | 2   | 2   | 2   | 2   | 3   | 1   | 1   | 1   |\n",
       "| 3   | 2   | 3   | 2   | 3   | 1   | 3   | 2   | 3   | 1   | ... | 2   | 2   | 2   | 3   | 3   | 3   | 3   | 1   | 2   | 2   |\n",
       "| 3   | 2   | 3   | 2   | 2   | 3   | 3   | 2   | 2   | 1   | ... | 2   | 2   | 2   | 3   | 2   | 2   | 3   | 2   | 3   | 3   |\n",
       "\n"
      ],
      "text/plain": [
       "  rs10034661 rs10063949 rs1024610 rs1024611 rs1042713 rs1045485 rs10491003\n",
       "1 3          2          2         3         1         2         3         \n",
       "2 3          2          2         2         2         3         3         \n",
       "3 3          3          2         3         2         3         3         \n",
       "4 3          3          3         2         2         3         3         \n",
       "5 3          2          3         2         3         1         3         \n",
       "6 3          2          3         2         2         3         3         \n",
       "  rs1049305 rs1049434 rs10497520 ... rs8111989 rs8192678 rs824205 rs833070\n",
       "1 2         2         2          ... 2         2         2        2       \n",
       "2 3         1         1          ... 2         2         1        2       \n",
       "3 2         1         1          ... 2         2         2        2       \n",
       "4 1         2         1          ... 2         2         2        2       \n",
       "5 2         3         1          ... 2         2         2        3       \n",
       "6 2         2         1          ... 2         2         2        3       \n",
       "  rs884736 rs921943 rs9469199 rs970547 rs9902453 rs9939609\n",
       "1 2        2        2         1        2         1        \n",
       "2 2        2        3         2        2         3        \n",
       "3 2        1        3         2        2         1        \n",
       "4 2        2        3         1        1         1        \n",
       "5 3        3        3         1        2         2        \n",
       "6 2        2        3         2        3         3        "
      ]
     },
     "metadata": {},
     "output_type": "display_data"
    }
   ],
   "source": [
    "head(handle_genetic)"
   ]
  },
  {
   "cell_type": "markdown",
   "metadata": {},
   "source": [
    "We check that we have numbers and no strings"
   ]
  },
  {
   "cell_type": "code",
   "execution_count": 5,
   "metadata": {},
   "outputs": [
    {
     "data": {
      "text/html": [
       "'numeric'"
      ],
      "text/latex": [
       "'numeric'"
      ],
      "text/markdown": [
       "'numeric'"
      ],
      "text/plain": [
       "[1] \"numeric\""
      ]
     },
     "metadata": {},
     "output_type": "display_data"
    }
   ],
   "source": [
    "class(handle_genetic[,1])"
   ]
  },
  {
   "cell_type": "markdown",
   "metadata": {},
   "source": [
    "We export the csv with the coded genetic data"
   ]
  },
  {
   "cell_type": "code",
   "execution_count": 6,
   "metadata": {},
   "outputs": [],
   "source": [
    "write.csv(handle_genetic, file=\"handle_genetic_cod_28_04_20.csv\", row.names = F)"
   ]
  },
  {
   "cell_type": "markdown",
   "metadata": {},
   "source": [
    "## Subset of interesting SNPs<a class=\"anchor\" id=\"3\"></a>"
   ]
  },
  {
   "cell_type": "markdown",
   "metadata": {},
   "source": [
    "* [Returning to the index of contents](#index)"
   ]
  },
  {
   "cell_type": "code",
   "execution_count": 7,
   "metadata": {},
   "outputs": [],
   "source": [
    "handle_genetic_top <- handle_genetic[,c('rs1815739',\n",
    " 'rs4343',\n",
    " 'rs1049434',\n",
    " 'rs1042713',\n",
    " 'rs699',\n",
    " 'rs1800795',\n",
    " 'rs4253778',\n",
    " 'rs4680',\n",
    " 'rs8111989',\n",
    " 'rs35767',\n",
    " 'rs11549465',\n",
    " 'rs2070744')]"
   ]
  },
  {
   "cell_type": "code",
   "execution_count": 8,
   "metadata": {},
   "outputs": [
    {
     "data": {
      "text/html": [
       "<table>\n",
       "<thead><tr><th scope=col>rs1815739</th><th scope=col>rs4343</th><th scope=col>rs1049434</th><th scope=col>rs1042713</th><th scope=col>rs699</th><th scope=col>rs1800795</th><th scope=col>rs4253778</th><th scope=col>rs4680</th><th scope=col>rs8111989</th><th scope=col>rs35767</th><th scope=col>rs11549465</th><th scope=col>rs2070744</th></tr></thead>\n",
       "<tbody>\n",
       "\t<tr><td>1</td><td>2</td><td>2</td><td>1</td><td>3</td><td>2</td><td>2</td><td>1</td><td>2</td><td>1</td><td>1</td><td>2</td></tr>\n",
       "\t<tr><td>2</td><td>2</td><td>1</td><td>2</td><td>1</td><td>3</td><td>2</td><td>3</td><td>2</td><td>1</td><td>1</td><td>2</td></tr>\n",
       "\t<tr><td>2</td><td>2</td><td>1</td><td>2</td><td>3</td><td>1</td><td>2</td><td>2</td><td>2</td><td>1</td><td>1</td><td>1</td></tr>\n",
       "\t<tr><td>2</td><td>2</td><td>2</td><td>2</td><td>2</td><td>2</td><td>3</td><td>2</td><td>2</td><td>1</td><td>1</td><td>3</td></tr>\n",
       "\t<tr><td>1</td><td>1</td><td>3</td><td>3</td><td>3</td><td>2</td><td>3</td><td>2</td><td>2</td><td>1</td><td>1</td><td>2</td></tr>\n",
       "\t<tr><td>2</td><td>1</td><td>2</td><td>2</td><td>2</td><td>1</td><td>3</td><td>3</td><td>2</td><td>1</td><td>2</td><td>3</td></tr>\n",
       "</tbody>\n",
       "</table>\n"
      ],
      "text/latex": [
       "\\begin{tabular}{r|llllllllllll}\n",
       " rs1815739 & rs4343 & rs1049434 & rs1042713 & rs699 & rs1800795 & rs4253778 & rs4680 & rs8111989 & rs35767 & rs11549465 & rs2070744\\\\\n",
       "\\hline\n",
       "\t 1 & 2 & 2 & 1 & 3 & 2 & 2 & 1 & 2 & 1 & 1 & 2\\\\\n",
       "\t 2 & 2 & 1 & 2 & 1 & 3 & 2 & 3 & 2 & 1 & 1 & 2\\\\\n",
       "\t 2 & 2 & 1 & 2 & 3 & 1 & 2 & 2 & 2 & 1 & 1 & 1\\\\\n",
       "\t 2 & 2 & 2 & 2 & 2 & 2 & 3 & 2 & 2 & 1 & 1 & 3\\\\\n",
       "\t 1 & 1 & 3 & 3 & 3 & 2 & 3 & 2 & 2 & 1 & 1 & 2\\\\\n",
       "\t 2 & 1 & 2 & 2 & 2 & 1 & 3 & 3 & 2 & 1 & 2 & 3\\\\\n",
       "\\end{tabular}\n"
      ],
      "text/markdown": [
       "\n",
       "| rs1815739 | rs4343 | rs1049434 | rs1042713 | rs699 | rs1800795 | rs4253778 | rs4680 | rs8111989 | rs35767 | rs11549465 | rs2070744 |\n",
       "|---|---|---|---|---|---|---|---|---|---|---|---|\n",
       "| 1 | 2 | 2 | 1 | 3 | 2 | 2 | 1 | 2 | 1 | 1 | 2 |\n",
       "| 2 | 2 | 1 | 2 | 1 | 3 | 2 | 3 | 2 | 1 | 1 | 2 |\n",
       "| 2 | 2 | 1 | 2 | 3 | 1 | 2 | 2 | 2 | 1 | 1 | 1 |\n",
       "| 2 | 2 | 2 | 2 | 2 | 2 | 3 | 2 | 2 | 1 | 1 | 3 |\n",
       "| 1 | 1 | 3 | 3 | 3 | 2 | 3 | 2 | 2 | 1 | 1 | 2 |\n",
       "| 2 | 1 | 2 | 2 | 2 | 1 | 3 | 3 | 2 | 1 | 2 | 3 |\n",
       "\n"
      ],
      "text/plain": [
       "  rs1815739 rs4343 rs1049434 rs1042713 rs699 rs1800795 rs4253778 rs4680\n",
       "1 1         2      2         1         3     2         2         1     \n",
       "2 2         2      1         2         1     3         2         3     \n",
       "3 2         2      1         2         3     1         2         2     \n",
       "4 2         2      2         2         2     2         3         2     \n",
       "5 1         1      3         3         3     2         3         2     \n",
       "6 2         1      2         2         2     1         3         3     \n",
       "  rs8111989 rs35767 rs11549465 rs2070744\n",
       "1 2         1       1          2        \n",
       "2 2         1       1          2        \n",
       "3 2         1       1          1        \n",
       "4 2         1       1          3        \n",
       "5 2         1       1          2        \n",
       "6 2         1       2          3        "
      ]
     },
     "metadata": {},
     "output_type": "display_data"
    }
   ],
   "source": [
    "head(handle_genetic_top)"
   ]
  },
  {
   "cell_type": "code",
   "execution_count": 9,
   "metadata": {},
   "outputs": [],
   "source": [
    "write.csv(handle_genetic_top, file=\"handle_genetic_top_cod_28_04_20.csv\", row.names = F)"
   ]
  }
 ],
 "metadata": {
  "kernelspec": {
   "display_name": "R",
   "language": "R",
   "name": "ir"
  },
  "language_info": {
   "codemirror_mode": "r",
   "file_extension": ".r",
   "mimetype": "text/x-r-source",
   "name": "R",
   "pygments_lexer": "r",
   "version": "3.6.1"
  }
 },
 "nbformat": 4,
 "nbformat_minor": 4
}
