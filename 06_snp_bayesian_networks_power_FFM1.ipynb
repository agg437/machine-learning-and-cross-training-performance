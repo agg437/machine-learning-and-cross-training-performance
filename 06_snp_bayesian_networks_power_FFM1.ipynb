{
 "cells": [
  {
   "cell_type": "markdown",
   "metadata": {},
   "source": [
    "# <p style=\"text-align: justify;\"><div class=\"alert alert-info\" role=\"alert\">Bayesian networks: tabu algorithm</div></p>"
   ]
  },
  {
   "cell_type": "markdown",
   "metadata": {},
   "source": [
    "## `Ana González Guerra` \n",
    "\n",
    "### ` Student of the master in Data Science at the University of Cantabria` "
   ]
  },
  {
   "cell_type": "markdown",
   "metadata": {},
   "source": [
    "## Index<a class=\"anchor\" id=\"index\"></a>\n",
    "* [Loading data](#1)\n",
    "    * [Genetic predictors](#3)\n",
    "    * [Target variables](#4)\n",
    "* [Construction of the Bayesian network using the tabu algorithm](#2)"
   ]
  },
  {
   "cell_type": "markdown",
   "metadata": {},
   "source": [
    "In this notebook we will build a Bayesian network with the genetic variables as predictors and with the variable W1.2MedDifWRelFFM1 as the target variable (it was the variable with the best accuracy in Random Forest and probably the one that best summarizes the information of the performance in physical exercise)."
   ]
  },
  {
   "cell_type": "markdown",
   "metadata": {},
   "source": [
    "## Loading data <a class=\"anchor\" id=\"1\"></a>"
   ]
  },
  {
   "cell_type": "markdown",
   "metadata": {},
   "source": [
    "* [Returning to the index of contents](#index)"
   ]
  },
  {
   "cell_type": "markdown",
   "metadata": {},
   "source": [
    "### Genetic predictors <a class=\"anchor\" id=\"3\"></a>"
   ]
  },
  {
   "cell_type": "markdown",
   "metadata": {},
   "source": [
    "* [Returning to the index of contents](#index)"
   ]
  },
  {
   "cell_type": "code",
   "execution_count": 2,
   "metadata": {
    "scrolled": true
   },
   "outputs": [
    {
     "data": {
      "text/html": [
       "<table>\n",
       "<thead><tr><th scope=col>rs10034661</th><th scope=col>rs10063949</th><th scope=col>rs1024610</th><th scope=col>rs1024611</th><th scope=col>rs1042713</th><th scope=col>rs1045485</th><th scope=col>rs10491003</th><th scope=col>rs1049305</th><th scope=col>rs1049434</th><th scope=col>rs10497520</th><th scope=col>...</th><th scope=col>rs8111989</th><th scope=col>rs8192678</th><th scope=col>rs824205</th><th scope=col>rs833070</th><th scope=col>rs884736</th><th scope=col>rs921943</th><th scope=col>rs9469199</th><th scope=col>rs970547</th><th scope=col>rs9902453</th><th scope=col>rs9939609</th></tr></thead>\n",
       "<tbody>\n",
       "\t<tr><td>G:G</td><td>C:T</td><td>A:T</td><td>T:T</td><td>A:A</td><td>C:G</td><td>G:G</td><td>C:G</td><td>A:T</td><td>C:T</td><td>...</td><td>C:T</td><td>A:G</td><td>G:G</td><td>A:G</td><td>C:T</td><td>A:G</td><td>A:G</td><td>A:A</td><td>A:G</td><td>A:A</td></tr>\n",
       "\t<tr><td>G:G</td><td>C:T</td><td>A:T</td><td>C:T</td><td>A:G</td><td>G:G</td><td>G:G</td><td>G:G</td><td>A:A</td><td>C:C</td><td>...</td><td>C:T</td><td>A:G</td><td>A:G</td><td>A:G</td><td>C:T</td><td>A:G</td><td>G:G</td><td>A:G</td><td>A:G</td><td>T:T</td></tr>\n",
       "\t<tr><td>G:G</td><td>T:T</td><td>A:T</td><td>T:T</td><td>A:G</td><td>G:G</td><td>G:G</td><td>C:G</td><td>A:A</td><td>C:C</td><td>...</td><td>C:T</td><td>A:G</td><td>G:G</td><td>A:G</td><td>C:T</td><td>A:A</td><td>G:G</td><td>A:G</td><td>A:G</td><td>A:A</td></tr>\n",
       "\t<tr><td>G:G</td><td>T:T</td><td>T:T</td><td>C:T</td><td>A:G</td><td>G:G</td><td>G:G</td><td>C:C</td><td>A:T</td><td>C:C</td><td>...</td><td>C:T</td><td>A:G</td><td>G:G</td><td>A:G</td><td>C:T</td><td>A:G</td><td>G:G</td><td>A:A</td><td>A:A</td><td>A:A</td></tr>\n",
       "\t<tr><td>G:G</td><td>C:T</td><td>T:T</td><td>C:T</td><td>G:G</td><td>C:C</td><td>G:G</td><td>C:G</td><td>T:T</td><td>C:C</td><td>...</td><td>C:T</td><td>A:G</td><td>G:G</td><td>G:G</td><td>T:T</td><td>G:G</td><td>G:G</td><td>A:A</td><td>A:G</td><td>A:T</td></tr>\n",
       "\t<tr><td>G:G</td><td>C:T</td><td>T:T</td><td>C:T</td><td>A:G</td><td>G:G</td><td>G:G</td><td>C:G</td><td>A:T</td><td>C:C</td><td>...</td><td>C:T</td><td>A:G</td><td>G:G</td><td>G:G</td><td>C:T</td><td>A:G</td><td>G:G</td><td>A:G</td><td>G:G</td><td>T:T</td></tr>\n",
       "</tbody>\n",
       "</table>\n"
      ],
      "text/latex": [
       "\\begin{tabular}{r|llllllllllllllllllllllllllllllllllllllllllllllllllllllllllllllllllllllllllllllllllllllllllllllllllllllllllllllllllllllllllllllllllllllllllllllllllllllllllllllllllllllllllllllllll}\n",
       " rs10034661 & rs10063949 & rs1024610 & rs1024611 & rs1042713 & rs1045485 & rs10491003 & rs1049305 & rs1049434 & rs10497520 & ... & rs8111989 & rs8192678 & rs824205 & rs833070 & rs884736 & rs921943 & rs9469199 & rs970547 & rs9902453 & rs9939609\\\\\n",
       "\\hline\n",
       "\t G:G & C:T & A:T & T:T & A:A & C:G & G:G & C:G & A:T & C:T & ... & C:T & A:G & G:G & A:G & C:T & A:G & A:G & A:A & A:G & A:A\\\\\n",
       "\t G:G & C:T & A:T & C:T & A:G & G:G & G:G & G:G & A:A & C:C & ... & C:T & A:G & A:G & A:G & C:T & A:G & G:G & A:G & A:G & T:T\\\\\n",
       "\t G:G & T:T & A:T & T:T & A:G & G:G & G:G & C:G & A:A & C:C & ... & C:T & A:G & G:G & A:G & C:T & A:A & G:G & A:G & A:G & A:A\\\\\n",
       "\t G:G & T:T & T:T & C:T & A:G & G:G & G:G & C:C & A:T & C:C & ... & C:T & A:G & G:G & A:G & C:T & A:G & G:G & A:A & A:A & A:A\\\\\n",
       "\t G:G & C:T & T:T & C:T & G:G & C:C & G:G & C:G & T:T & C:C & ... & C:T & A:G & G:G & G:G & T:T & G:G & G:G & A:A & A:G & A:T\\\\\n",
       "\t G:G & C:T & T:T & C:T & A:G & G:G & G:G & C:G & A:T & C:C & ... & C:T & A:G & G:G & G:G & C:T & A:G & G:G & A:G & G:G & T:T\\\\\n",
       "\\end{tabular}\n"
      ],
      "text/markdown": [
       "\n",
       "| rs10034661 | rs10063949 | rs1024610 | rs1024611 | rs1042713 | rs1045485 | rs10491003 | rs1049305 | rs1049434 | rs10497520 | ... | rs8111989 | rs8192678 | rs824205 | rs833070 | rs884736 | rs921943 | rs9469199 | rs970547 | rs9902453 | rs9939609 |\n",
       "|---|---|---|---|---|---|---|---|---|---|---|---|---|---|---|---|---|---|---|---|---|\n",
       "| G:G | C:T | A:T | T:T | A:A | C:G | G:G | C:G | A:T | C:T | ... | C:T | A:G | G:G | A:G | C:T | A:G | A:G | A:A | A:G | A:A |\n",
       "| G:G | C:T | A:T | C:T | A:G | G:G | G:G | G:G | A:A | C:C | ... | C:T | A:G | A:G | A:G | C:T | A:G | G:G | A:G | A:G | T:T |\n",
       "| G:G | T:T | A:T | T:T | A:G | G:G | G:G | C:G | A:A | C:C | ... | C:T | A:G | G:G | A:G | C:T | A:A | G:G | A:G | A:G | A:A |\n",
       "| G:G | T:T | T:T | C:T | A:G | G:G | G:G | C:C | A:T | C:C | ... | C:T | A:G | G:G | A:G | C:T | A:G | G:G | A:A | A:A | A:A |\n",
       "| G:G | C:T | T:T | C:T | G:G | C:C | G:G | C:G | T:T | C:C | ... | C:T | A:G | G:G | G:G | T:T | G:G | G:G | A:A | A:G | A:T |\n",
       "| G:G | C:T | T:T | C:T | A:G | G:G | G:G | C:G | A:T | C:C | ... | C:T | A:G | G:G | G:G | C:T | A:G | G:G | A:G | G:G | T:T |\n",
       "\n"
      ],
      "text/plain": [
       "  rs10034661 rs10063949 rs1024610 rs1024611 rs1042713 rs1045485 rs10491003\n",
       "1 G:G        C:T        A:T       T:T       A:A       C:G       G:G       \n",
       "2 G:G        C:T        A:T       C:T       A:G       G:G       G:G       \n",
       "3 G:G        T:T        A:T       T:T       A:G       G:G       G:G       \n",
       "4 G:G        T:T        T:T       C:T       A:G       G:G       G:G       \n",
       "5 G:G        C:T        T:T       C:T       G:G       C:C       G:G       \n",
       "6 G:G        C:T        T:T       C:T       A:G       G:G       G:G       \n",
       "  rs1049305 rs1049434 rs10497520 ... rs8111989 rs8192678 rs824205 rs833070\n",
       "1 C:G       A:T       C:T        ... C:T       A:G       G:G      A:G     \n",
       "2 G:G       A:A       C:C        ... C:T       A:G       A:G      A:G     \n",
       "3 C:G       A:A       C:C        ... C:T       A:G       G:G      A:G     \n",
       "4 C:C       A:T       C:C        ... C:T       A:G       G:G      A:G     \n",
       "5 C:G       T:T       C:C        ... C:T       A:G       G:G      G:G     \n",
       "6 C:G       A:T       C:C        ... C:T       A:G       G:G      G:G     \n",
       "  rs884736 rs921943 rs9469199 rs970547 rs9902453 rs9939609\n",
       "1 C:T      A:G      A:G       A:A      A:G       A:A      \n",
       "2 C:T      A:G      G:G       A:G      A:G       T:T      \n",
       "3 C:T      A:A      G:G       A:G      A:G       A:A      \n",
       "4 C:T      A:G      G:G       A:A      A:A       A:A      \n",
       "5 T:T      G:G      G:G       A:A      A:G       A:T      \n",
       "6 C:T      A:G      G:G       A:G      G:G       T:T      "
      ]
     },
     "metadata": {},
     "output_type": "display_data"
    }
   ],
   "source": [
    "handle_genetic <- read.csv('handle_genetic_fusion_28_04_20.csv')\n",
    "head(handle_genetic)"
   ]
  },
  {
   "cell_type": "markdown",
   "metadata": {},
   "source": [
    "### Target variables <a class=\"anchor\" id=\"4\"></a>"
   ]
  },
  {
   "cell_type": "markdown",
   "metadata": {},
   "source": [
    "* [Returning to the index of contents](#index)"
   ]
  },
  {
   "cell_type": "code",
   "execution_count": 3,
   "metadata": {},
   "outputs": [
    {
     "data": {
      "text/html": [
       "<table>\n",
       "<thead><tr><th></th><th scope=col>W1MaxWAbs</th><th scope=col>W1MaxWRel</th><th scope=col>W1maxRPM</th><th scope=col>W1MedWAbs</th><th scope=col>W1MedWRel</th><th scope=col>W1medRPM</th><th scope=col>W2MaxWAbs</th><th scope=col>W2MaxWRel</th><th scope=col>W2maxRPM</th><th scope=col>W2MedWAbs</th><th scope=col>...</th><th scope=col>W2DifWRelFFM1</th><th scope=col>W2DifWRelFFM2</th><th scope=col>W1.2MaxDifWAbs</th><th scope=col>W1.2MaxDifWRel</th><th scope=col>W1.2MaxDifWRelFFM1</th><th scope=col>W1.2MaxDifWRelFFM2</th><th scope=col>W1.2MedDifWAbs</th><th scope=col>W1.2MedDifWRel</th><th scope=col>W1.2MedDifWRelFFM1</th><th scope=col>W1.2MedDifWRelFFM2</th></tr></thead>\n",
       "<tbody>\n",
       "\t<tr><th scope=row>0</th><td>398        </td><td> 8.747253  </td><td>122        </td><td>206        </td><td>4.527473   </td><td>100        </td><td>397        </td><td>8.725275   </td><td>122        </td><td>224        </td><td>...        </td><td> 4.479981  </td><td> 4.544592  </td><td>  1        </td><td> 0.02197802</td><td> 0.02589585</td><td> 0.02626932</td><td>-18        </td><td>-0.39560440</td><td>-0.46612522</td><td>-0.47284774</td></tr>\n",
       "\t<tr><th scope=row>4</th><td>511        </td><td> 8.964912  </td><td>128        </td><td>294        </td><td>5.157895   </td><td>109        </td><td>523        </td><td>9.175439   </td><td>122        </td><td>295        </td><td>...        </td><td> 4.552187  </td><td> 4.889881  </td><td>-12        </td><td>-0.21052632</td><td>-0.23958880</td><td>-0.25736216</td><td> -1        </td><td>-0.01754386</td><td>-0.01996573</td><td>-0.02144685</td></tr>\n",
       "\t<tr><th scope=row>7</th><td>524        </td><td>10.174757  </td><td>130        </td><td>262        </td><td>5.087379   </td><td>107        </td><td>476        </td><td>9.242718   </td><td>125        </td><td>245        </td><td>...        </td><td> 4.958966  </td><td> 5.566747  </td><td> 48        </td><td> 0.93203883</td><td> 1.03043453</td><td> 1.15672661</td><td> 17        </td><td> 0.33009709</td><td> 0.36494556</td><td> 0.40967401</td></tr>\n",
       "\t<tr><th scope=row>8</th><td>541        </td><td> 8.868852  </td><td>128        </td><td>351        </td><td>5.754098   </td><td>118        </td><td>472        </td><td>7.737705   </td><td>130        </td><td>333        </td><td>...        </td><td> 2.792441  </td><td> 3.020719  </td><td> 69        </td><td> 1.13114754</td><td> 1.38617564</td><td> 1.49949379</td><td> 18        </td><td> 0.29508197</td><td> 0.36161104</td><td> 0.39117229</td></tr>\n",
       "\t<tr><th scope=row>9</th><td>547        </td><td> 9.596491  </td><td>143        </td><td>291        </td><td>5.105263   </td><td>116        </td><td>169        </td><td>2.964912   </td><td>130        </td><td>302        </td><td>...        </td><td>-3.215855  </td><td>-3.248973  </td><td>378        </td><td> 6.63157895</td><td> 9.13979775</td><td> 9.23392354</td><td>-11        </td><td>-0.19298246</td><td>-0.26597295</td><td>-0.26871206</td></tr>\n",
       "\t<tr><th scope=row>11</th><td>553        </td><td> 9.701754  </td><td>133        </td><td>365        </td><td>6.403509   </td><td>121        </td><td>556        </td><td>9.754386   </td><td>136        </td><td>355        </td><td>...        </td><td> 4.113095  </td><td> 4.408965  </td><td> -3        </td><td>-0.05263158</td><td>-0.06138948</td><td>-0.06580544</td><td> 10        </td><td> 0.17543860</td><td> 0.20463161</td><td> 0.21935148</td></tr>\n",
       "</tbody>\n",
       "</table>\n"
      ],
      "text/latex": [
       "\\begin{tabular}{r|llllllllllllllllllllllllllllllllllll}\n",
       "  & W1MaxWAbs & W1MaxWRel & W1maxRPM & W1MedWAbs & W1MedWRel & W1medRPM & W2MaxWAbs & W2MaxWRel & W2maxRPM & W2MedWAbs & ... & W2DifWRelFFM1 & W2DifWRelFFM2 & W1.2MaxDifWAbs & W1.2MaxDifWRel & W1.2MaxDifWRelFFM1 & W1.2MaxDifWRelFFM2 & W1.2MedDifWAbs & W1.2MedDifWRel & W1.2MedDifWRelFFM1 & W1.2MedDifWRelFFM2\\\\\n",
       "\\hline\n",
       "\t0 & 398         &  8.747253   & 122         & 206         & 4.527473    & 100         & 397         & 8.725275    & 122         & 224         & ...         &  4.479981   &  4.544592   &   1         &  0.02197802 &  0.02589585 &  0.02626932 & -18         & -0.39560440 & -0.46612522 & -0.47284774\\\\\n",
       "\t4 & 511         &  8.964912   & 128         & 294         & 5.157895    & 109         & 523         & 9.175439    & 122         & 295         & ...         &  4.552187   &  4.889881   & -12         & -0.21052632 & -0.23958880 & -0.25736216 &  -1         & -0.01754386 & -0.01996573 & -0.02144685\\\\\n",
       "\t7 & 524         & 10.174757   & 130         & 262         & 5.087379    & 107         & 476         & 9.242718    & 125         & 245         & ...         &  4.958966   &  5.566747   &  48         &  0.93203883 &  1.03043453 &  1.15672661 &  17         &  0.33009709 &  0.36494556 &  0.40967401\\\\\n",
       "\t8 & 541         &  8.868852   & 128         & 351         & 5.754098    & 118         & 472         & 7.737705    & 130         & 333         & ...         &  2.792441   &  3.020719   &  69         &  1.13114754 &  1.38617564 &  1.49949379 &  18         &  0.29508197 &  0.36161104 &  0.39117229\\\\\n",
       "\t9 & 547         &  9.596491   & 143         & 291         & 5.105263    & 116         & 169         & 2.964912    & 130         & 302         & ...         & -3.215855   & -3.248973   & 378         &  6.63157895 &  9.13979775 &  9.23392354 & -11         & -0.19298246 & -0.26597295 & -0.26871206\\\\\n",
       "\t11 & 553         &  9.701754   & 133         & 365         & 6.403509    & 121         & 556         & 9.754386    & 136         & 355         & ...         &  4.113095   &  4.408965   &  -3         & -0.05263158 & -0.06138948 & -0.06580544 &  10         &  0.17543860 &  0.20463161 &  0.21935148\\\\\n",
       "\\end{tabular}\n"
      ],
      "text/markdown": [
       "\n",
       "| <!--/--> | W1MaxWAbs | W1MaxWRel | W1maxRPM | W1MedWAbs | W1MedWRel | W1medRPM | W2MaxWAbs | W2MaxWRel | W2maxRPM | W2MedWAbs | ... | W2DifWRelFFM1 | W2DifWRelFFM2 | W1.2MaxDifWAbs | W1.2MaxDifWRel | W1.2MaxDifWRelFFM1 | W1.2MaxDifWRelFFM2 | W1.2MedDifWAbs | W1.2MedDifWRel | W1.2MedDifWRelFFM1 | W1.2MedDifWRelFFM2 |\n",
       "|---|---|---|---|---|---|---|---|---|---|---|---|---|---|---|---|---|---|---|---|---|---|\n",
       "| 0 | 398         |  8.747253   | 122         | 206         | 4.527473    | 100         | 397         | 8.725275    | 122         | 224         | ...         |  4.479981   |  4.544592   |   1         |  0.02197802 |  0.02589585 |  0.02626932 | -18         | -0.39560440 | -0.46612522 | -0.47284774 |\n",
       "| 4 | 511         |  8.964912   | 128         | 294         | 5.157895    | 109         | 523         | 9.175439    | 122         | 295         | ...         |  4.552187   |  4.889881   | -12         | -0.21052632 | -0.23958880 | -0.25736216 |  -1         | -0.01754386 | -0.01996573 | -0.02144685 |\n",
       "| 7 | 524         | 10.174757   | 130         | 262         | 5.087379    | 107         | 476         | 9.242718    | 125         | 245         | ...         |  4.958966   |  5.566747   |  48         |  0.93203883 |  1.03043453 |  1.15672661 |  17         |  0.33009709 |  0.36494556 |  0.40967401 |\n",
       "| 8 | 541         |  8.868852   | 128         | 351         | 5.754098    | 118         | 472         | 7.737705    | 130         | 333         | ...         |  2.792441   |  3.020719   |  69         |  1.13114754 |  1.38617564 |  1.49949379 |  18         |  0.29508197 |  0.36161104 |  0.39117229 |\n",
       "| 9 | 547         |  9.596491   | 143         | 291         | 5.105263    | 116         | 169         | 2.964912    | 130         | 302         | ...         | -3.215855   | -3.248973   | 378         |  6.63157895 |  9.13979775 |  9.23392354 | -11         | -0.19298246 | -0.26597295 | -0.26871206 |\n",
       "| 11 | 553         |  9.701754   | 133         | 365         | 6.403509    | 121         | 556         | 9.754386    | 136         | 355         | ...         |  4.113095   |  4.408965   |  -3         | -0.05263158 | -0.06138948 | -0.06580544 |  10         |  0.17543860 |  0.20463161 |  0.21935148 |\n",
       "\n"
      ],
      "text/plain": [
       "   W1MaxWAbs W1MaxWRel W1maxRPM W1MedWAbs W1MedWRel W1medRPM W2MaxWAbs\n",
       "0  398        8.747253 122      206       4.527473  100      397      \n",
       "4  511        8.964912 128      294       5.157895  109      523      \n",
       "7  524       10.174757 130      262       5.087379  107      476      \n",
       "8  541        8.868852 128      351       5.754098  118      472      \n",
       "9  547        9.596491 143      291       5.105263  116      169      \n",
       "11 553        9.701754 133      365       6.403509  121      556      \n",
       "   W2MaxWRel W2maxRPM W2MedWAbs ... W2DifWRelFFM1 W2DifWRelFFM2 W1.2MaxDifWAbs\n",
       "0  8.725275  122      224       ...  4.479981      4.544592       1           \n",
       "4  9.175439  122      295       ...  4.552187      4.889881     -12           \n",
       "7  9.242718  125      245       ...  4.958966      5.566747      48           \n",
       "8  7.737705  130      333       ...  2.792441      3.020719      69           \n",
       "9  2.964912  130      302       ... -3.215855     -3.248973     378           \n",
       "11 9.754386  136      355       ...  4.113095      4.408965      -3           \n",
       "   W1.2MaxDifWRel W1.2MaxDifWRelFFM1 W1.2MaxDifWRelFFM2 W1.2MedDifWAbs\n",
       "0   0.02197802     0.02589585         0.02626932        -18           \n",
       "4  -0.21052632    -0.23958880        -0.25736216         -1           \n",
       "7   0.93203883     1.03043453         1.15672661         17           \n",
       "8   1.13114754     1.38617564         1.49949379         18           \n",
       "9   6.63157895     9.13979775         9.23392354        -11           \n",
       "11 -0.05263158    -0.06138948        -0.06580544         10           \n",
       "   W1.2MedDifWRel W1.2MedDifWRelFFM1 W1.2MedDifWRelFFM2\n",
       "0  -0.39560440    -0.46612522        -0.47284774       \n",
       "4  -0.01754386    -0.01996573        -0.02144685       \n",
       "7   0.33009709     0.36494556         0.40967401       \n",
       "8   0.29508197     0.36161104         0.39117229       \n",
       "9  -0.19298246    -0.26597295        -0.26871206       \n",
       "11  0.17543860     0.20463161         0.21935148       "
      ]
     },
     "metadata": {},
     "output_type": "display_data"
    }
   ],
   "source": [
    "handle_target <- read.csv('handle_target_fusion_31_03_20.csv', row.name = 1)\n",
    "\n",
    "head(handle_target)"
   ]
  },
  {
   "cell_type": "code",
   "execution_count": 4,
   "metadata": {},
   "outputs": [
    {
     "data": {
      "text/html": [
       "<table>\n",
       "<thead><tr><th scope=col>W1.2MedDifWRelFFM1</th><th scope=col>rs10034661</th><th scope=col>rs10063949</th><th scope=col>rs1024610</th><th scope=col>rs1024611</th><th scope=col>rs1042713</th><th scope=col>rs1045485</th><th scope=col>rs10491003</th><th scope=col>rs1049305</th><th scope=col>rs1049434</th><th scope=col>...</th><th scope=col>rs8111989</th><th scope=col>rs8192678</th><th scope=col>rs824205</th><th scope=col>rs833070</th><th scope=col>rs884736</th><th scope=col>rs921943</th><th scope=col>rs9469199</th><th scope=col>rs970547</th><th scope=col>rs9902453</th><th scope=col>rs9939609</th></tr></thead>\n",
       "<tbody>\n",
       "\t<tr><td>-0.46612522</td><td>G:G        </td><td>C:T        </td><td>A:T        </td><td>T:T        </td><td>A:A        </td><td>C:G        </td><td>G:G        </td><td>C:G        </td><td>A:T        </td><td>...        </td><td>C:T        </td><td>A:G        </td><td>G:G        </td><td>A:G        </td><td>C:T        </td><td>A:G        </td><td>A:G        </td><td>A:A        </td><td>A:G        </td><td>A:A        </td></tr>\n",
       "\t<tr><td>-0.01996573</td><td>G:G        </td><td>C:T        </td><td>A:T        </td><td>C:T        </td><td>A:G        </td><td>G:G        </td><td>G:G        </td><td>G:G        </td><td>A:A        </td><td>...        </td><td>C:T        </td><td>A:G        </td><td>A:G        </td><td>A:G        </td><td>C:T        </td><td>A:G        </td><td>G:G        </td><td>A:G        </td><td>A:G        </td><td>T:T        </td></tr>\n",
       "\t<tr><td> 0.36494556</td><td>G:G        </td><td>T:T        </td><td>A:T        </td><td>T:T        </td><td>A:G        </td><td>G:G        </td><td>G:G        </td><td>C:G        </td><td>A:A        </td><td>...        </td><td>C:T        </td><td>A:G        </td><td>G:G        </td><td>A:G        </td><td>C:T        </td><td>A:A        </td><td>G:G        </td><td>A:G        </td><td>A:G        </td><td>A:A        </td></tr>\n",
       "\t<tr><td> 0.36161104</td><td>G:G        </td><td>T:T        </td><td>T:T        </td><td>C:T        </td><td>A:G        </td><td>G:G        </td><td>G:G        </td><td>C:C        </td><td>A:T        </td><td>...        </td><td>C:T        </td><td>A:G        </td><td>G:G        </td><td>A:G        </td><td>C:T        </td><td>A:G        </td><td>G:G        </td><td>A:A        </td><td>A:A        </td><td>A:A        </td></tr>\n",
       "\t<tr><td>-0.26597295</td><td>G:G        </td><td>C:T        </td><td>T:T        </td><td>C:T        </td><td>G:G        </td><td>C:C        </td><td>G:G        </td><td>C:G        </td><td>T:T        </td><td>...        </td><td>C:T        </td><td>A:G        </td><td>G:G        </td><td>G:G        </td><td>T:T        </td><td>G:G        </td><td>G:G        </td><td>A:A        </td><td>A:G        </td><td>A:T        </td></tr>\n",
       "\t<tr><td> 0.20463161</td><td>G:G        </td><td>C:T        </td><td>T:T        </td><td>C:T        </td><td>A:G        </td><td>G:G        </td><td>G:G        </td><td>C:G        </td><td>A:T        </td><td>...        </td><td>C:T        </td><td>A:G        </td><td>G:G        </td><td>G:G        </td><td>C:T        </td><td>A:G        </td><td>G:G        </td><td>A:G        </td><td>G:G        </td><td>T:T        </td></tr>\n",
       "</tbody>\n",
       "</table>\n"
      ],
      "text/latex": [
       "\\begin{tabular}{r|lllllllllllllllllllllllllllllllllllllllllllllllllllllllllllllllllllllllllllllllllllllllllllllllllllllllllllllllllllllllllllllllllllllllllllllllllllllllllllllllllllllllllllllllllll}\n",
       " W1.2MedDifWRelFFM1 & rs10034661 & rs10063949 & rs1024610 & rs1024611 & rs1042713 & rs1045485 & rs10491003 & rs1049305 & rs1049434 & ... & rs8111989 & rs8192678 & rs824205 & rs833070 & rs884736 & rs921943 & rs9469199 & rs970547 & rs9902453 & rs9939609\\\\\n",
       "\\hline\n",
       "\t -0.46612522 & G:G         & C:T         & A:T         & T:T         & A:A         & C:G         & G:G         & C:G         & A:T         & ...         & C:T         & A:G         & G:G         & A:G         & C:T         & A:G         & A:G         & A:A         & A:G         & A:A        \\\\\n",
       "\t -0.01996573 & G:G         & C:T         & A:T         & C:T         & A:G         & G:G         & G:G         & G:G         & A:A         & ...         & C:T         & A:G         & A:G         & A:G         & C:T         & A:G         & G:G         & A:G         & A:G         & T:T        \\\\\n",
       "\t  0.36494556 & G:G         & T:T         & A:T         & T:T         & A:G         & G:G         & G:G         & C:G         & A:A         & ...         & C:T         & A:G         & G:G         & A:G         & C:T         & A:A         & G:G         & A:G         & A:G         & A:A        \\\\\n",
       "\t  0.36161104 & G:G         & T:T         & T:T         & C:T         & A:G         & G:G         & G:G         & C:C         & A:T         & ...         & C:T         & A:G         & G:G         & A:G         & C:T         & A:G         & G:G         & A:A         & A:A         & A:A        \\\\\n",
       "\t -0.26597295 & G:G         & C:T         & T:T         & C:T         & G:G         & C:C         & G:G         & C:G         & T:T         & ...         & C:T         & A:G         & G:G         & G:G         & T:T         & G:G         & G:G         & A:A         & A:G         & A:T        \\\\\n",
       "\t  0.20463161 & G:G         & C:T         & T:T         & C:T         & A:G         & G:G         & G:G         & C:G         & A:T         & ...         & C:T         & A:G         & G:G         & G:G         & C:T         & A:G         & G:G         & A:G         & G:G         & T:T        \\\\\n",
       "\\end{tabular}\n"
      ],
      "text/markdown": [
       "\n",
       "| W1.2MedDifWRelFFM1 | rs10034661 | rs10063949 | rs1024610 | rs1024611 | rs1042713 | rs1045485 | rs10491003 | rs1049305 | rs1049434 | ... | rs8111989 | rs8192678 | rs824205 | rs833070 | rs884736 | rs921943 | rs9469199 | rs970547 | rs9902453 | rs9939609 |\n",
       "|---|---|---|---|---|---|---|---|---|---|---|---|---|---|---|---|---|---|---|---|---|\n",
       "| -0.46612522 | G:G         | C:T         | A:T         | T:T         | A:A         | C:G         | G:G         | C:G         | A:T         | ...         | C:T         | A:G         | G:G         | A:G         | C:T         | A:G         | A:G         | A:A         | A:G         | A:A         |\n",
       "| -0.01996573 | G:G         | C:T         | A:T         | C:T         | A:G         | G:G         | G:G         | G:G         | A:A         | ...         | C:T         | A:G         | A:G         | A:G         | C:T         | A:G         | G:G         | A:G         | A:G         | T:T         |\n",
       "|  0.36494556 | G:G         | T:T         | A:T         | T:T         | A:G         | G:G         | G:G         | C:G         | A:A         | ...         | C:T         | A:G         | G:G         | A:G         | C:T         | A:A         | G:G         | A:G         | A:G         | A:A         |\n",
       "|  0.36161104 | G:G         | T:T         | T:T         | C:T         | A:G         | G:G         | G:G         | C:C         | A:T         | ...         | C:T         | A:G         | G:G         | A:G         | C:T         | A:G         | G:G         | A:A         | A:A         | A:A         |\n",
       "| -0.26597295 | G:G         | C:T         | T:T         | C:T         | G:G         | C:C         | G:G         | C:G         | T:T         | ...         | C:T         | A:G         | G:G         | G:G         | T:T         | G:G         | G:G         | A:A         | A:G         | A:T         |\n",
       "|  0.20463161 | G:G         | C:T         | T:T         | C:T         | A:G         | G:G         | G:G         | C:G         | A:T         | ...         | C:T         | A:G         | G:G         | G:G         | C:T         | A:G         | G:G         | A:G         | G:G         | T:T         |\n",
       "\n"
      ],
      "text/plain": [
       "  W1.2MedDifWRelFFM1 rs10034661 rs10063949 rs1024610 rs1024611 rs1042713\n",
       "1 -0.46612522        G:G        C:T        A:T       T:T       A:A      \n",
       "2 -0.01996573        G:G        C:T        A:T       C:T       A:G      \n",
       "3  0.36494556        G:G        T:T        A:T       T:T       A:G      \n",
       "4  0.36161104        G:G        T:T        T:T       C:T       A:G      \n",
       "5 -0.26597295        G:G        C:T        T:T       C:T       G:G      \n",
       "6  0.20463161        G:G        C:T        T:T       C:T       A:G      \n",
       "  rs1045485 rs10491003 rs1049305 rs1049434 ... rs8111989 rs8192678 rs824205\n",
       "1 C:G       G:G        C:G       A:T       ... C:T       A:G       G:G     \n",
       "2 G:G       G:G        G:G       A:A       ... C:T       A:G       A:G     \n",
       "3 G:G       G:G        C:G       A:A       ... C:T       A:G       G:G     \n",
       "4 G:G       G:G        C:C       A:T       ... C:T       A:G       G:G     \n",
       "5 C:C       G:G        C:G       T:T       ... C:T       A:G       G:G     \n",
       "6 G:G       G:G        C:G       A:T       ... C:T       A:G       G:G     \n",
       "  rs833070 rs884736 rs921943 rs9469199 rs970547 rs9902453 rs9939609\n",
       "1 A:G      C:T      A:G      A:G       A:A      A:G       A:A      \n",
       "2 A:G      C:T      A:G      G:G       A:G      A:G       T:T      \n",
       "3 A:G      C:T      A:A      G:G       A:G      A:G       A:A      \n",
       "4 A:G      C:T      A:G      G:G       A:A      A:A       A:A      \n",
       "5 G:G      T:T      G:G      G:G       A:A      A:G       A:T      \n",
       "6 G:G      C:T      A:G      G:G       A:G      G:G       T:T      "
      ]
     },
     "metadata": {},
     "output_type": "display_data"
    }
   ],
   "source": [
    "ind_med <- cbind(handle_target['W1.2MedDifWRelFFM1'],handle_genetic)\n",
    "\n",
    "rownames(ind_med) <- NULL\n",
    "\n",
    "head(ind_med)"
   ]
  },
  {
   "cell_type": "code",
   "execution_count": 5,
   "metadata": {},
   "outputs": [
    {
     "data": {
      "text/html": [
       "<table>\n",
       "<thead><tr><th scope=col>W1.2MedDifWRelFFM1Bin</th><th scope=col>W1.2MedDifWRelFFM1</th><th scope=col>rs10034661</th><th scope=col>rs10063949</th><th scope=col>rs1024610</th><th scope=col>rs1024611</th><th scope=col>rs1042713</th><th scope=col>rs1045485</th><th scope=col>rs10491003</th><th scope=col>rs1049305</th><th scope=col>...</th><th scope=col>rs8111989</th><th scope=col>rs8192678</th><th scope=col>rs824205</th><th scope=col>rs833070</th><th scope=col>rs884736</th><th scope=col>rs921943</th><th scope=col>rs9469199</th><th scope=col>rs970547</th><th scope=col>rs9902453</th><th scope=col>rs9939609</th></tr></thead>\n",
       "<tbody>\n",
       "\t<tr><td>0          </td><td>-0.46612522</td><td>G:G        </td><td>C:T        </td><td>A:T        </td><td>T:T        </td><td>A:A        </td><td>C:G        </td><td>G:G        </td><td>C:G        </td><td>...        </td><td>C:T        </td><td>A:G        </td><td>G:G        </td><td>A:G        </td><td>C:T        </td><td>A:G        </td><td>A:G        </td><td>A:A        </td><td>A:G        </td><td>A:A        </td></tr>\n",
       "\t<tr><td>0          </td><td>-0.01996573</td><td>G:G        </td><td>C:T        </td><td>A:T        </td><td>C:T        </td><td>A:G        </td><td>G:G        </td><td>G:G        </td><td>G:G        </td><td>...        </td><td>C:T        </td><td>A:G        </td><td>A:G        </td><td>A:G        </td><td>C:T        </td><td>A:G        </td><td>G:G        </td><td>A:G        </td><td>A:G        </td><td>T:T        </td></tr>\n",
       "\t<tr><td>0          </td><td> 0.36494556</td><td>G:G        </td><td>T:T        </td><td>A:T        </td><td>T:T        </td><td>A:G        </td><td>G:G        </td><td>G:G        </td><td>C:G        </td><td>...        </td><td>C:T        </td><td>A:G        </td><td>G:G        </td><td>A:G        </td><td>C:T        </td><td>A:A        </td><td>G:G        </td><td>A:G        </td><td>A:G        </td><td>A:A        </td></tr>\n",
       "\t<tr><td>0          </td><td> 0.36161104</td><td>G:G        </td><td>T:T        </td><td>T:T        </td><td>C:T        </td><td>A:G        </td><td>G:G        </td><td>G:G        </td><td>C:C        </td><td>...        </td><td>C:T        </td><td>A:G        </td><td>G:G        </td><td>A:G        </td><td>C:T        </td><td>A:G        </td><td>G:G        </td><td>A:A        </td><td>A:A        </td><td>A:A        </td></tr>\n",
       "\t<tr><td>0          </td><td>-0.26597295</td><td>G:G        </td><td>C:T        </td><td>T:T        </td><td>C:T        </td><td>G:G        </td><td>C:C        </td><td>G:G        </td><td>C:G        </td><td>...        </td><td>C:T        </td><td>A:G        </td><td>G:G        </td><td>G:G        </td><td>T:T        </td><td>G:G        </td><td>G:G        </td><td>A:A        </td><td>A:G        </td><td>A:T        </td></tr>\n",
       "\t<tr><td>0          </td><td> 0.20463161</td><td>G:G        </td><td>C:T        </td><td>T:T        </td><td>C:T        </td><td>A:G        </td><td>G:G        </td><td>G:G        </td><td>C:G        </td><td>...        </td><td>C:T        </td><td>A:G        </td><td>G:G        </td><td>G:G        </td><td>C:T        </td><td>A:G        </td><td>G:G        </td><td>A:G        </td><td>G:G        </td><td>T:T        </td></tr>\n",
       "</tbody>\n",
       "</table>\n"
      ],
      "text/latex": [
       "\\begin{tabular}{r|llllllllllllllllllllllllllllllllllllllllllllllllllllllllllllllllllllllllllllllllllllllllllllllllllllllllllllllllllllllllllllllllllllllllllllllllllllllllllllllllllllllllllllllllllll}\n",
       " W1.2MedDifWRelFFM1Bin & W1.2MedDifWRelFFM1 & rs10034661 & rs10063949 & rs1024610 & rs1024611 & rs1042713 & rs1045485 & rs10491003 & rs1049305 & ... & rs8111989 & rs8192678 & rs824205 & rs833070 & rs884736 & rs921943 & rs9469199 & rs970547 & rs9902453 & rs9939609\\\\\n",
       "\\hline\n",
       "\t 0           & -0.46612522 & G:G         & C:T         & A:T         & T:T         & A:A         & C:G         & G:G         & C:G         & ...         & C:T         & A:G         & G:G         & A:G         & C:T         & A:G         & A:G         & A:A         & A:G         & A:A        \\\\\n",
       "\t 0           & -0.01996573 & G:G         & C:T         & A:T         & C:T         & A:G         & G:G         & G:G         & G:G         & ...         & C:T         & A:G         & A:G         & A:G         & C:T         & A:G         & G:G         & A:G         & A:G         & T:T        \\\\\n",
       "\t 0           &  0.36494556 & G:G         & T:T         & A:T         & T:T         & A:G         & G:G         & G:G         & C:G         & ...         & C:T         & A:G         & G:G         & A:G         & C:T         & A:A         & G:G         & A:G         & A:G         & A:A        \\\\\n",
       "\t 0           &  0.36161104 & G:G         & T:T         & T:T         & C:T         & A:G         & G:G         & G:G         & C:C         & ...         & C:T         & A:G         & G:G         & A:G         & C:T         & A:G         & G:G         & A:A         & A:A         & A:A        \\\\\n",
       "\t 0           & -0.26597295 & G:G         & C:T         & T:T         & C:T         & G:G         & C:C         & G:G         & C:G         & ...         & C:T         & A:G         & G:G         & G:G         & T:T         & G:G         & G:G         & A:A         & A:G         & A:T        \\\\\n",
       "\t 0           &  0.20463161 & G:G         & C:T         & T:T         & C:T         & A:G         & G:G         & G:G         & C:G         & ...         & C:T         & A:G         & G:G         & G:G         & C:T         & A:G         & G:G         & A:G         & G:G         & T:T        \\\\\n",
       "\\end{tabular}\n"
      ],
      "text/markdown": [
       "\n",
       "| W1.2MedDifWRelFFM1Bin | W1.2MedDifWRelFFM1 | rs10034661 | rs10063949 | rs1024610 | rs1024611 | rs1042713 | rs1045485 | rs10491003 | rs1049305 | ... | rs8111989 | rs8192678 | rs824205 | rs833070 | rs884736 | rs921943 | rs9469199 | rs970547 | rs9902453 | rs9939609 |\n",
       "|---|---|---|---|---|---|---|---|---|---|---|---|---|---|---|---|---|---|---|---|---|\n",
       "| 0           | -0.46612522 | G:G         | C:T         | A:T         | T:T         | A:A         | C:G         | G:G         | C:G         | ...         | C:T         | A:G         | G:G         | A:G         | C:T         | A:G         | A:G         | A:A         | A:G         | A:A         |\n",
       "| 0           | -0.01996573 | G:G         | C:T         | A:T         | C:T         | A:G         | G:G         | G:G         | G:G         | ...         | C:T         | A:G         | A:G         | A:G         | C:T         | A:G         | G:G         | A:G         | A:G         | T:T         |\n",
       "| 0           |  0.36494556 | G:G         | T:T         | A:T         | T:T         | A:G         | G:G         | G:G         | C:G         | ...         | C:T         | A:G         | G:G         | A:G         | C:T         | A:A         | G:G         | A:G         | A:G         | A:A         |\n",
       "| 0           |  0.36161104 | G:G         | T:T         | T:T         | C:T         | A:G         | G:G         | G:G         | C:C         | ...         | C:T         | A:G         | G:G         | A:G         | C:T         | A:G         | G:G         | A:A         | A:A         | A:A         |\n",
       "| 0           | -0.26597295 | G:G         | C:T         | T:T         | C:T         | G:G         | C:C         | G:G         | C:G         | ...         | C:T         | A:G         | G:G         | G:G         | T:T         | G:G         | G:G         | A:A         | A:G         | A:T         |\n",
       "| 0           |  0.20463161 | G:G         | C:T         | T:T         | C:T         | A:G         | G:G         | G:G         | C:G         | ...         | C:T         | A:G         | G:G         | G:G         | C:T         | A:G         | G:G         | A:G         | G:G         | T:T         |\n",
       "\n"
      ],
      "text/plain": [
       "  W1.2MedDifWRelFFM1Bin W1.2MedDifWRelFFM1 rs10034661 rs10063949 rs1024610\n",
       "1 0                     -0.46612522        G:G        C:T        A:T      \n",
       "2 0                     -0.01996573        G:G        C:T        A:T      \n",
       "3 0                      0.36494556        G:G        T:T        A:T      \n",
       "4 0                      0.36161104        G:G        T:T        T:T      \n",
       "5 0                     -0.26597295        G:G        C:T        T:T      \n",
       "6 0                      0.20463161        G:G        C:T        T:T      \n",
       "  rs1024611 rs1042713 rs1045485 rs10491003 rs1049305 ... rs8111989 rs8192678\n",
       "1 T:T       A:A       C:G       G:G        C:G       ... C:T       A:G      \n",
       "2 C:T       A:G       G:G       G:G        G:G       ... C:T       A:G      \n",
       "3 T:T       A:G       G:G       G:G        C:G       ... C:T       A:G      \n",
       "4 C:T       A:G       G:G       G:G        C:C       ... C:T       A:G      \n",
       "5 C:T       G:G       C:C       G:G        C:G       ... C:T       A:G      \n",
       "6 C:T       A:G       G:G       G:G        C:G       ... C:T       A:G      \n",
       "  rs824205 rs833070 rs884736 rs921943 rs9469199 rs970547 rs9902453 rs9939609\n",
       "1 G:G      A:G      C:T      A:G      A:G       A:A      A:G       A:A      \n",
       "2 A:G      A:G      C:T      A:G      G:G       A:G      A:G       T:T      \n",
       "3 G:G      A:G      C:T      A:A      G:G       A:G      A:G       A:A      \n",
       "4 G:G      A:G      C:T      A:G      G:G       A:A      A:A       A:A      \n",
       "5 G:G      G:G      T:T      G:G      G:G       A:A      A:G       A:T      \n",
       "6 G:G      G:G      C:T      A:G      G:G       A:G      G:G       T:T      "
      ]
     },
     "metadata": {},
     "output_type": "display_data"
    }
   ],
   "source": [
    "W1.2MedDifWRelFFM1Bin <- factor(as.numeric(handle_target['W1.2MedDifWRelFFM1']>=median(handle_target$W1.2MedDifWRelFFM1)))\n",
    "\n",
    "ind_med <- cbind(W1.2MedDifWRelFFM1Bin, ind_med)\n",
    "\n",
    "head(ind_med)"
   ]
  },
  {
   "cell_type": "code",
   "execution_count": 6,
   "metadata": {
    "scrolled": false
   },
   "outputs": [
    {
     "data": {
      "text/html": [
       "<table>\n",
       "<thead><tr><th scope=col>W1.2MedDifWRelFFM1Bin</th><th scope=col>rs10034661</th><th scope=col>rs10063949</th><th scope=col>rs1024610</th><th scope=col>rs1024611</th><th scope=col>rs1042713</th><th scope=col>rs1045485</th><th scope=col>rs10491003</th><th scope=col>rs1049305</th><th scope=col>rs1049434</th><th scope=col>...</th><th scope=col>rs8111989</th><th scope=col>rs8192678</th><th scope=col>rs824205</th><th scope=col>rs833070</th><th scope=col>rs884736</th><th scope=col>rs921943</th><th scope=col>rs9469199</th><th scope=col>rs970547</th><th scope=col>rs9902453</th><th scope=col>rs9939609</th></tr></thead>\n",
       "<tbody>\n",
       "\t<tr><td>0  </td><td>G:G</td><td>C:T</td><td>A:T</td><td>T:T</td><td>A:A</td><td>C:G</td><td>G:G</td><td>C:G</td><td>A:T</td><td>...</td><td>C:T</td><td>A:G</td><td>G:G</td><td>A:G</td><td>C:T</td><td>A:G</td><td>A:G</td><td>A:A</td><td>A:G</td><td>A:A</td></tr>\n",
       "\t<tr><td>0  </td><td>G:G</td><td>C:T</td><td>A:T</td><td>C:T</td><td>A:G</td><td>G:G</td><td>G:G</td><td>G:G</td><td>A:A</td><td>...</td><td>C:T</td><td>A:G</td><td>A:G</td><td>A:G</td><td>C:T</td><td>A:G</td><td>G:G</td><td>A:G</td><td>A:G</td><td>T:T</td></tr>\n",
       "\t<tr><td>0  </td><td>G:G</td><td>T:T</td><td>A:T</td><td>T:T</td><td>A:G</td><td>G:G</td><td>G:G</td><td>C:G</td><td>A:A</td><td>...</td><td>C:T</td><td>A:G</td><td>G:G</td><td>A:G</td><td>C:T</td><td>A:A</td><td>G:G</td><td>A:G</td><td>A:G</td><td>A:A</td></tr>\n",
       "\t<tr><td>0  </td><td>G:G</td><td>T:T</td><td>T:T</td><td>C:T</td><td>A:G</td><td>G:G</td><td>G:G</td><td>C:C</td><td>A:T</td><td>...</td><td>C:T</td><td>A:G</td><td>G:G</td><td>A:G</td><td>C:T</td><td>A:G</td><td>G:G</td><td>A:A</td><td>A:A</td><td>A:A</td></tr>\n",
       "\t<tr><td>0  </td><td>G:G</td><td>C:T</td><td>T:T</td><td>C:T</td><td>G:G</td><td>C:C</td><td>G:G</td><td>C:G</td><td>T:T</td><td>...</td><td>C:T</td><td>A:G</td><td>G:G</td><td>G:G</td><td>T:T</td><td>G:G</td><td>G:G</td><td>A:A</td><td>A:G</td><td>A:T</td></tr>\n",
       "\t<tr><td>0  </td><td>G:G</td><td>C:T</td><td>T:T</td><td>C:T</td><td>A:G</td><td>G:G</td><td>G:G</td><td>C:G</td><td>A:T</td><td>...</td><td>C:T</td><td>A:G</td><td>G:G</td><td>G:G</td><td>C:T</td><td>A:G</td><td>G:G</td><td>A:G</td><td>G:G</td><td>T:T</td></tr>\n",
       "</tbody>\n",
       "</table>\n"
      ],
      "text/latex": [
       "\\begin{tabular}{r|lllllllllllllllllllllllllllllllllllllllllllllllllllllllllllllllllllllllllllllllllllllllllllllllllllllllllllllllllllllllllllllllllllllllllllllllllllllllllllllllllllllllllllllllllll}\n",
       " W1.2MedDifWRelFFM1Bin & rs10034661 & rs10063949 & rs1024610 & rs1024611 & rs1042713 & rs1045485 & rs10491003 & rs1049305 & rs1049434 & ... & rs8111989 & rs8192678 & rs824205 & rs833070 & rs884736 & rs921943 & rs9469199 & rs970547 & rs9902453 & rs9939609\\\\\n",
       "\\hline\n",
       "\t 0   & G:G & C:T & A:T & T:T & A:A & C:G & G:G & C:G & A:T & ... & C:T & A:G & G:G & A:G & C:T & A:G & A:G & A:A & A:G & A:A\\\\\n",
       "\t 0   & G:G & C:T & A:T & C:T & A:G & G:G & G:G & G:G & A:A & ... & C:T & A:G & A:G & A:G & C:T & A:G & G:G & A:G & A:G & T:T\\\\\n",
       "\t 0   & G:G & T:T & A:T & T:T & A:G & G:G & G:G & C:G & A:A & ... & C:T & A:G & G:G & A:G & C:T & A:A & G:G & A:G & A:G & A:A\\\\\n",
       "\t 0   & G:G & T:T & T:T & C:T & A:G & G:G & G:G & C:C & A:T & ... & C:T & A:G & G:G & A:G & C:T & A:G & G:G & A:A & A:A & A:A\\\\\n",
       "\t 0   & G:G & C:T & T:T & C:T & G:G & C:C & G:G & C:G & T:T & ... & C:T & A:G & G:G & G:G & T:T & G:G & G:G & A:A & A:G & A:T\\\\\n",
       "\t 0   & G:G & C:T & T:T & C:T & A:G & G:G & G:G & C:G & A:T & ... & C:T & A:G & G:G & G:G & C:T & A:G & G:G & A:G & G:G & T:T\\\\\n",
       "\\end{tabular}\n"
      ],
      "text/markdown": [
       "\n",
       "| W1.2MedDifWRelFFM1Bin | rs10034661 | rs10063949 | rs1024610 | rs1024611 | rs1042713 | rs1045485 | rs10491003 | rs1049305 | rs1049434 | ... | rs8111989 | rs8192678 | rs824205 | rs833070 | rs884736 | rs921943 | rs9469199 | rs970547 | rs9902453 | rs9939609 |\n",
       "|---|---|---|---|---|---|---|---|---|---|---|---|---|---|---|---|---|---|---|---|---|\n",
       "| 0   | G:G | C:T | A:T | T:T | A:A | C:G | G:G | C:G | A:T | ... | C:T | A:G | G:G | A:G | C:T | A:G | A:G | A:A | A:G | A:A |\n",
       "| 0   | G:G | C:T | A:T | C:T | A:G | G:G | G:G | G:G | A:A | ... | C:T | A:G | A:G | A:G | C:T | A:G | G:G | A:G | A:G | T:T |\n",
       "| 0   | G:G | T:T | A:T | T:T | A:G | G:G | G:G | C:G | A:A | ... | C:T | A:G | G:G | A:G | C:T | A:A | G:G | A:G | A:G | A:A |\n",
       "| 0   | G:G | T:T | T:T | C:T | A:G | G:G | G:G | C:C | A:T | ... | C:T | A:G | G:G | A:G | C:T | A:G | G:G | A:A | A:A | A:A |\n",
       "| 0   | G:G | C:T | T:T | C:T | G:G | C:C | G:G | C:G | T:T | ... | C:T | A:G | G:G | G:G | T:T | G:G | G:G | A:A | A:G | A:T |\n",
       "| 0   | G:G | C:T | T:T | C:T | A:G | G:G | G:G | C:G | A:T | ... | C:T | A:G | G:G | G:G | C:T | A:G | G:G | A:G | G:G | T:T |\n",
       "\n"
      ],
      "text/plain": [
       "  W1.2MedDifWRelFFM1Bin rs10034661 rs10063949 rs1024610 rs1024611 rs1042713\n",
       "1 0                     G:G        C:T        A:T       T:T       A:A      \n",
       "2 0                     G:G        C:T        A:T       C:T       A:G      \n",
       "3 0                     G:G        T:T        A:T       T:T       A:G      \n",
       "4 0                     G:G        T:T        T:T       C:T       A:G      \n",
       "5 0                     G:G        C:T        T:T       C:T       G:G      \n",
       "6 0                     G:G        C:T        T:T       C:T       A:G      \n",
       "  rs1045485 rs10491003 rs1049305 rs1049434 ... rs8111989 rs8192678 rs824205\n",
       "1 C:G       G:G        C:G       A:T       ... C:T       A:G       G:G     \n",
       "2 G:G       G:G        G:G       A:A       ... C:T       A:G       A:G     \n",
       "3 G:G       G:G        C:G       A:A       ... C:T       A:G       G:G     \n",
       "4 G:G       G:G        C:C       A:T       ... C:T       A:G       G:G     \n",
       "5 C:C       G:G        C:G       T:T       ... C:T       A:G       G:G     \n",
       "6 G:G       G:G        C:G       A:T       ... C:T       A:G       G:G     \n",
       "  rs833070 rs884736 rs921943 rs9469199 rs970547 rs9902453 rs9939609\n",
       "1 A:G      C:T      A:G      A:G       A:A      A:G       A:A      \n",
       "2 A:G      C:T      A:G      G:G       A:G      A:G       T:T      \n",
       "3 A:G      C:T      A:A      G:G       A:G      A:G       A:A      \n",
       "4 A:G      C:T      A:G      G:G       A:A      A:A       A:A      \n",
       "5 G:G      T:T      G:G      G:G       A:A      A:G       A:T      \n",
       "6 G:G      C:T      A:G      G:G       A:G      G:G       T:T      "
      ]
     },
     "metadata": {},
     "output_type": "display_data"
    },
    {
     "data": {
      "text/html": [
       "<ol class=list-inline>\n",
       "\t<li>82</li>\n",
       "\t<li>179</li>\n",
       "</ol>\n"
      ],
      "text/latex": [
       "\\begin{enumerate*}\n",
       "\\item 82\n",
       "\\item 179\n",
       "\\end{enumerate*}\n"
      ],
      "text/markdown": [
       "1. 82\n",
       "2. 179\n",
       "\n",
       "\n"
      ],
      "text/plain": [
       "[1]  82 179"
      ]
     },
     "metadata": {},
     "output_type": "display_data"
    }
   ],
   "source": [
    "ind_med$W1.2MedDifWRelFFM1 <- NULL\n",
    "head(ind_med)\n",
    "dim(ind_med)"
   ]
  },
  {
   "cell_type": "markdown",
   "metadata": {},
   "source": [
    "As we do not have the graph given by the expert, we are going to base ourselves on probability to determine the significant relationships with the target variable. "
   ]
  },
  {
   "cell_type": "markdown",
   "metadata": {},
   "source": [
    "## Construction of the Bayesian network using the tabu algorithm<a class=\"anchor\" id=\"2\"></a>"
   ]
  },
  {
   "cell_type": "markdown",
   "metadata": {},
   "source": [
    "* [Returning to the index of contents](#index)"
   ]
  },
  {
   "cell_type": "code",
   "execution_count": 7,
   "metadata": {
    "scrolled": false
   },
   "outputs": [
    {
     "name": "stderr",
     "output_type": "stream",
     "text": [
      "Warning message:\n",
      "\"package 'bnlearn' was built under R version 3.6.2\"\n",
      "Attaching package: 'bnlearn'\n",
      "\n",
      "The following object is masked from 'package:stats':\n",
      "\n",
      "    sigma\n",
      "\n"
     ]
    }
   ],
   "source": [
    "library(bnlearn)"
   ]
  },
  {
   "cell_type": "code",
   "execution_count": 10,
   "metadata": {},
   "outputs": [],
   "source": [
    "set.seed(10)\n",
    "tabu <- tabu(ind_med, tabu = 500,iss = 10, score = 'bde')"
   ]
  },
  {
   "cell_type": "code",
   "execution_count": 12,
   "metadata": {},
   "outputs": [
    {
     "name": "stderr",
     "output_type": "stream",
     "text": [
      "Loading required namespace: Rgraphviz\n"
     ]
    },
    {
     "data": {
      "image/png": "[encoded data removed]",
      "text/plain": [
       "plot without title"
      ]
     },
     "metadata": {},
     "output_type": "display_data"
    }
   ],
   "source": [
    "graphviz.plot(tabu)"
   ]
  },
  {
   "cell_type": "code",
   "execution_count": 20,
   "metadata": {},
   "outputs": [
    {
     "data": {
      "text/html": [
       "-11659.7431332835"
      ],
      "text/latex": [
       "-11659.7431332835"
      ],
      "text/markdown": [
       "-11659.7431332835"
      ],
      "text/plain": [
       "[1] -11659.74"
      ]
     },
     "metadata": {},
     "output_type": "display_data"
    }
   ],
   "source": [
    "bnlearn::score(tabu, data = ind_med,type = 'bde')"
   ]
  },
  {
   "cell_type": "markdown",
   "metadata": {},
   "source": [
    "Comparison with the randomized model:"
   ]
  },
  {
   "cell_type": "code",
   "execution_count": 21,
   "metadata": {},
   "outputs": [
    {
     "data": {
      "text/html": [
       "'[W1.2MedDifWRelFFM1Bin][rs10034661][rs10063949][rs1024610][rs1024611][rs1042713][rs1045485][rs10491003][rs1049305][rs1049434][rs10497520][rs1052700][rs1057972][rs10741657][rs10921078][rs10999516][rs11096663][rs11144134][rs11254363][rs1137100][rs1205][rs12150660][rs12255372][rs1260326][rs12613181][rs1420100][rs1420106][rs1481012][rs15705][rs1572312][rs16924573][rs17685][rs17782313][rs1799722][rs1799865][rs1799907][rs1800012][rs1800169][rs1800206][rs1800629][rs1800795][rs1800796][rs1800872][rs1805086][rs1815739][rs182549][rs1906058][rs1956197][rs2016520][rs222158][rs2395182][rs2470893][rs2472297][rs2515941][rs26802][rs2722171][rs28497577][rs3213221][rs3219177][rs331079][rs34124816][rs3925584][rs4073918][rs4410790][rs4654748][rs4880][rs492602][rs4997][rs516115][rs61752479][rs6265][rs660339][rs696217][rs7498665][rs768539][rs9902453][rs1107946|rs1042713][rs11225395|rs1024611][rs1137101|rs11096663][rs1144393|rs10921078][rs11549465|rs1042713:rs1052700][rs11715829|rs1024610:rs1045485:rs11144134][rs13146355|rs10741657:rs11144134][rs1330363|rs1052700][rs13946|rs1137100][rs1516797|rs1049434][rs1676486|rs12613181][rs1800497|rs10063949][rs1800562|rs1052700:rs1799722][rs1801282|rs1045485][rs1862513|rs1049434:rs1057972][rs198851|rs17782313][rs2040410|rs1800795][rs2071856|rs1137100][rs2104772|rs11144134][rs2228059|rs12150660][rs2276109|rs1042713:rs1800012][rs2296135|rs1052700][rs2304795|rs1800169][rs2542729|rs10491003:rs15705:rs1800872][rs2593324|rs1800872][rs35767|rs10741657:rs1800206:rs1906058][rs3752135|rs2722171:rs34124816][rs3768816|rs1956197][rs3811647|rs10063949][rs405509|rs1420100][rs4588|rs182549][rs4675639|rs17782313:rs2515941][rs4789932|rs1481012][rs4919510|rs11254363:rs1799907][rs558129|rs1052700:rs1799907][rs602662|rs1799722:rs1800169:rs222158][rs6133175|rs10063949:rs222158][rs6548238|rs1799722][rs6735530|rs1260326][rs7144481|rs1049434:rs4410790][rs7292407|rs1572312:rs34124816][rs731236|rs1049305][rs7843014|rs11096663:rs16924573:rs3925584][rs7903146|rs1800872][rs7965584|rs11254363:rs696217][rs833070|rs4997][rs921943|rs1956197][rs9469199|rs10491003:rs28497577][rs12934922|rs11225395][rs143383|rs13946][rs1451462|rs11715829][rs1589241|rs1049305:rs13146355][rs1799983|rs1144393][rs1801131|rs1144393][rs1801133|rs10491003:rs1057972:rs1676486][rs1801198|rs11549465][rs1801260|rs1800497][rs2010963|rs1572312:rs1676486][rs211302|rs11225395:rs1799722][rs2241057|rs1799722:rs1862513][rs2253206|rs13946][rs28357094|rs2542729][rs2943641|rs198851][rs3753841|rs1516797:rs2016520:rs2071856][rs4072037|rs2104772][rs4680|rs1107946:rs2395182][rs5186|rs1862513:rs2395182][rs5418|rs1516797][rs646776|rs11715829:rs1330363:rs16924573][rs6552828|rs1800169:rs2304795][rs6570913|rs10497520:rs13946][rs679620|rs1042713:rs2276109][rs716745|rs1800497][rs7454108|rs405509][rs7566605|rs13146355:rs558129][rs8111989|rs1801282][rs8192678|rs3768816][rs884736|rs2040410][rs9939609|rs1052700:rs1572312:rs1805086:rs2016520:rs2593324:rs4675639][rs1800255|rs11254363:rs12934922][rs2070744|rs1801131][rs2368564|rs143383:rs2228059][rs3219178|rs143383:rs1800206][rs33972313|rs1801260][rs3918358|rs1589241:rs1800169][rs4253778|rs2040410:rs4072037][rs4343|rs1801260:rs2296135][rs650108|rs11144134:rs211302][rs659366|rs143383:rs222158:rs35767:rs4997][rs6968554|rs1137101:rs1801198][rs7191721|rs143383][rs7800944|rs11144134:rs1800562:rs2104772:rs4072037][rs824205|rs1107946:rs1260326:rs405509:rs696217:rs7498665:rs8192678][rs970547|rs1801198:rs222158][rs526934|rs1205:rs4343][rs6053005|rs1137101:rs4343][rs7426114|rs1137101:rs12255372:rs1801198:rs3918358][rs7501331|rs2368564][rs7682|rs10063949:rs1956197:rs3219178][rs7775228|rs1420106:rs2070744:rs7566605][rs8065080|rs1451462:rs2070744:rs3219178:rs3753841:rs5418][rs699|rs17782313:rs2304795:rs4880:rs4919510:rs526934:rs61752479][rs7732671|rs6053005]'"
      ],
      "text/latex": [
       "'{[}W1.2MedDifWRelFFM1Bin{]}{[}rs10034661{]}{[}rs10063949{]}{[}rs1024610{]}{[}rs1024611{]}{[}rs1042713{]}{[}rs1045485{]}{[}rs10491003{]}{[}rs1049305{]}{[}rs1049434{]}{[}rs10497520{]}{[}rs1052700{]}{[}rs1057972{]}{[}rs10741657{]}{[}rs10921078{]}{[}rs10999516{]}{[}rs11096663{]}{[}rs11144134{]}{[}rs11254363{]}{[}rs1137100{]}{[}rs1205{]}{[}rs12150660{]}{[}rs12255372{]}{[}rs1260326{]}{[}rs12613181{]}{[}rs1420100{]}{[}rs1420106{]}{[}rs1481012{]}{[}rs15705{]}{[}rs1572312{]}{[}rs16924573{]}{[}rs17685{]}{[}rs17782313{]}{[}rs1799722{]}{[}rs1799865{]}{[}rs1799907{]}{[}rs1800012{]}{[}rs1800169{]}{[}rs1800206{]}{[}rs1800629{]}{[}rs1800795{]}{[}rs1800796{]}{[}rs1800872{]}{[}rs1805086{]}{[}rs1815739{]}{[}rs182549{]}{[}rs1906058{]}{[}rs1956197{]}{[}rs2016520{]}{[}rs222158{]}{[}rs2395182{]}{[}rs2470893{]}{[}rs2472297{]}{[}rs2515941{]}{[}rs26802{]}{[}rs2722171{]}{[}rs28497577{]}{[}rs3213221{]}{[}rs3219177{]}{[}rs331079{]}{[}rs34124816{]}{[}rs3925584{]}{[}rs4073918{]}{[}rs4410790{]}{[}rs4654748{]}{[}rs4880{]}{[}rs492602{]}{[}rs4997{]}{[}rs516115{]}{[}rs61752479{]}{[}rs6265{]}{[}rs660339{]}{[}rs696217{]}{[}rs7498665{]}{[}rs768539{]}{[}rs9902453{]}{[}rs1107946\\textbar{}rs1042713{]}{[}rs11225395\\textbar{}rs1024611{]}{[}rs1137101\\textbar{}rs11096663{]}{[}rs1144393\\textbar{}rs10921078{]}{[}rs11549465\\textbar{}rs1042713:rs1052700{]}{[}rs11715829\\textbar{}rs1024610:rs1045485:rs11144134{]}{[}rs13146355\\textbar{}rs10741657:rs11144134{]}{[}rs1330363\\textbar{}rs1052700{]}{[}rs13946\\textbar{}rs1137100{]}{[}rs1516797\\textbar{}rs1049434{]}{[}rs1676486\\textbar{}rs12613181{]}{[}rs1800497\\textbar{}rs10063949{]}{[}rs1800562\\textbar{}rs1052700:rs1799722{]}{[}rs1801282\\textbar{}rs1045485{]}{[}rs1862513\\textbar{}rs1049434:rs1057972{]}{[}rs198851\\textbar{}rs17782313{]}{[}rs2040410\\textbar{}rs1800795{]}{[}rs2071856\\textbar{}rs1137100{]}{[}rs2104772\\textbar{}rs11144134{]}{[}rs2228059\\textbar{}rs12150660{]}{[}rs2276109\\textbar{}rs1042713:rs1800012{]}{[}rs2296135\\textbar{}rs1052700{]}{[}rs2304795\\textbar{}rs1800169{]}{[}rs2542729\\textbar{}rs10491003:rs15705:rs1800872{]}{[}rs2593324\\textbar{}rs1800872{]}{[}rs35767\\textbar{}rs10741657:rs1800206:rs1906058{]}{[}rs3752135\\textbar{}rs2722171:rs34124816{]}{[}rs3768816\\textbar{}rs1956197{]}{[}rs3811647\\textbar{}rs10063949{]}{[}rs405509\\textbar{}rs1420100{]}{[}rs4588\\textbar{}rs182549{]}{[}rs4675639\\textbar{}rs17782313:rs2515941{]}{[}rs4789932\\textbar{}rs1481012{]}{[}rs4919510\\textbar{}rs11254363:rs1799907{]}{[}rs558129\\textbar{}rs1052700:rs1799907{]}{[}rs602662\\textbar{}rs1799722:rs1800169:rs222158{]}{[}rs6133175\\textbar{}rs10063949:rs222158{]}{[}rs6548238\\textbar{}rs1799722{]}{[}rs6735530\\textbar{}rs1260326{]}{[}rs7144481\\textbar{}rs1049434:rs4410790{]}{[}rs7292407\\textbar{}rs1572312:rs34124816{]}{[}rs731236\\textbar{}rs1049305{]}{[}rs7843014\\textbar{}rs11096663:rs16924573:rs3925584{]}{[}rs7903146\\textbar{}rs1800872{]}{[}rs7965584\\textbar{}rs11254363:rs696217{]}{[}rs833070\\textbar{}rs4997{]}{[}rs921943\\textbar{}rs1956197{]}{[}rs9469199\\textbar{}rs10491003:rs28497577{]}{[}rs12934922\\textbar{}rs11225395{]}{[}rs143383\\textbar{}rs13946{]}{[}rs1451462\\textbar{}rs11715829{]}{[}rs1589241\\textbar{}rs1049305:rs13146355{]}{[}rs1799983\\textbar{}rs1144393{]}{[}rs1801131\\textbar{}rs1144393{]}{[}rs1801133\\textbar{}rs10491003:rs1057972:rs1676486{]}{[}rs1801198\\textbar{}rs11549465{]}{[}rs1801260\\textbar{}rs1800497{]}{[}rs2010963\\textbar{}rs1572312:rs1676486{]}{[}rs211302\\textbar{}rs11225395:rs1799722{]}{[}rs2241057\\textbar{}rs1799722:rs1862513{]}{[}rs2253206\\textbar{}rs13946{]}{[}rs28357094\\textbar{}rs2542729{]}{[}rs2943641\\textbar{}rs198851{]}{[}rs3753841\\textbar{}rs1516797:rs2016520:rs2071856{]}{[}rs4072037\\textbar{}rs2104772{]}{[}rs4680\\textbar{}rs1107946:rs2395182{]}{[}rs5186\\textbar{}rs1862513:rs2395182{]}{[}rs5418\\textbar{}rs1516797{]}{[}rs646776\\textbar{}rs11715829:rs1330363:rs16924573{]}{[}rs6552828\\textbar{}rs1800169:rs2304795{]}{[}rs6570913\\textbar{}rs10497520:rs13946{]}{[}rs679620\\textbar{}rs1042713:rs2276109{]}{[}rs716745\\textbar{}rs1800497{]}{[}rs7454108\\textbar{}rs405509{]}{[}rs7566605\\textbar{}rs13146355:rs558129{]}{[}rs8111989\\textbar{}rs1801282{]}{[}rs8192678\\textbar{}rs3768816{]}{[}rs884736\\textbar{}rs2040410{]}{[}rs9939609\\textbar{}rs1052700:rs1572312:rs1805086:rs2016520:rs2593324:rs4675639{]}{[}rs1800255\\textbar{}rs11254363:rs12934922{]}{[}rs2070744\\textbar{}rs1801131{]}{[}rs2368564\\textbar{}rs143383:rs2228059{]}{[}rs3219178\\textbar{}rs143383:rs1800206{]}{[}rs33972313\\textbar{}rs1801260{]}{[}rs3918358\\textbar{}rs1589241:rs1800169{]}{[}rs4253778\\textbar{}rs2040410:rs4072037{]}{[}rs4343\\textbar{}rs1801260:rs2296135{]}{[}rs650108\\textbar{}rs11144134:rs211302{]}{[}rs659366\\textbar{}rs143383:rs222158:rs35767:rs4997{]}{[}rs6968554\\textbar{}rs1137101:rs1801198{]}{[}rs7191721\\textbar{}rs143383{]}{[}rs7800944\\textbar{}rs11144134:rs1800562:rs2104772:rs4072037{]}{[}rs824205\\textbar{}rs1107946:rs1260326:rs405509:rs696217:rs7498665:rs8192678{]}{[}rs970547\\textbar{}rs1801198:rs222158{]}{[}rs526934\\textbar{}rs1205:rs4343{]}{[}rs6053005\\textbar{}rs1137101:rs4343{]}{[}rs7426114\\textbar{}rs1137101:rs12255372:rs1801198:rs3918358{]}{[}rs7501331\\textbar{}rs2368564{]}{[}rs7682\\textbar{}rs10063949:rs1956197:rs3219178{]}{[}rs7775228\\textbar{}rs1420106:rs2070744:rs7566605{]}{[}rs8065080\\textbar{}rs1451462:rs2070744:rs3219178:rs3753841:rs5418{]}{[}rs699\\textbar{}rs17782313:rs2304795:rs4880:rs4919510:rs526934:rs61752479{]}{[}rs7732671\\textbar{}rs6053005{]}'"
      ],
      "text/markdown": [
       "'[W1.2MedDifWRelFFM1Bin][rs10034661][rs10063949][rs1024610][rs1024611][rs1042713][rs1045485][rs10491003][rs1049305][rs1049434][rs10497520][rs1052700][rs1057972][rs10741657][rs10921078][rs10999516][rs11096663][rs11144134][rs11254363][rs1137100][rs1205][rs12150660][rs12255372][rs1260326][rs12613181][rs1420100][rs1420106][rs1481012][rs15705][rs1572312][rs16924573][rs17685][rs17782313][rs1799722][rs1799865][rs1799907][rs1800012][rs1800169][rs1800206][rs1800629][rs1800795][rs1800796][rs1800872][rs1805086][rs1815739][rs182549][rs1906058][rs1956197][rs2016520][rs222158][rs2395182][rs2470893][rs2472297][rs2515941][rs26802][rs2722171][rs28497577][rs3213221][rs3219177][rs331079][rs34124816][rs3925584][rs4073918][rs4410790][rs4654748][rs4880][rs492602][rs4997][rs516115][rs61752479][rs6265][rs660339][rs696217][rs7498665][rs768539][rs9902453][rs1107946|rs1042713][rs11225395|rs1024611][rs1137101|rs11096663][rs1144393|rs10921078][rs11549465|rs1042713:rs1052700][rs11715829|rs1024610:rs1045485:rs11144134][rs13146355|rs10741657:rs11144134][rs1330363|rs1052700][rs13946|rs1137100][rs1516797|rs1049434][rs1676486|rs12613181][rs1800497|rs10063949][rs1800562|rs1052700:rs1799722][rs1801282|rs1045485][rs1862513|rs1049434:rs1057972][rs198851|rs17782313][rs2040410|rs1800795][rs2071856|rs1137100][rs2104772|rs11144134][rs2228059|rs12150660][rs2276109|rs1042713:rs1800012][rs2296135|rs1052700][rs2304795|rs1800169][rs2542729|rs10491003:rs15705:rs1800872][rs2593324|rs1800872][rs35767|rs10741657:rs1800206:rs1906058][rs3752135|rs2722171:rs34124816][rs3768816|rs1956197][rs3811647|rs10063949][rs405509|rs1420100][rs4588|rs182549][rs4675639|rs17782313:rs2515941][rs4789932|rs1481012][rs4919510|rs11254363:rs1799907][rs558129|rs1052700:rs1799907][rs602662|rs1799722:rs1800169:rs222158][rs6133175|rs10063949:rs222158][rs6548238|rs1799722][rs6735530|rs1260326][rs7144481|rs1049434:rs4410790][rs7292407|rs1572312:rs34124816][rs731236|rs1049305][rs7843014|rs11096663:rs16924573:rs3925584][rs7903146|rs1800872][rs7965584|rs11254363:rs696217][rs833070|rs4997][rs921943|rs1956197][rs9469199|rs10491003:rs28497577][rs12934922|rs11225395][rs143383|rs13946][rs1451462|rs11715829][rs1589241|rs1049305:rs13146355][rs1799983|rs1144393][rs1801131|rs1144393][rs1801133|rs10491003:rs1057972:rs1676486][rs1801198|rs11549465][rs1801260|rs1800497][rs2010963|rs1572312:rs1676486][rs211302|rs11225395:rs1799722][rs2241057|rs1799722:rs1862513][rs2253206|rs13946][rs28357094|rs2542729][rs2943641|rs198851][rs3753841|rs1516797:rs2016520:rs2071856][rs4072037|rs2104772][rs4680|rs1107946:rs2395182][rs5186|rs1862513:rs2395182][rs5418|rs1516797][rs646776|rs11715829:rs1330363:rs16924573][rs6552828|rs1800169:rs2304795][rs6570913|rs10497520:rs13946][rs679620|rs1042713:rs2276109][rs716745|rs1800497][rs7454108|rs405509][rs7566605|rs13146355:rs558129][rs8111989|rs1801282][rs8192678|rs3768816][rs884736|rs2040410][rs9939609|rs1052700:rs1572312:rs1805086:rs2016520:rs2593324:rs4675639][rs1800255|rs11254363:rs12934922][rs2070744|rs1801131][rs2368564|rs143383:rs2228059][rs3219178|rs143383:rs1800206][rs33972313|rs1801260][rs3918358|rs1589241:rs1800169][rs4253778|rs2040410:rs4072037][rs4343|rs1801260:rs2296135][rs650108|rs11144134:rs211302][rs659366|rs143383:rs222158:rs35767:rs4997][rs6968554|rs1137101:rs1801198][rs7191721|rs143383][rs7800944|rs11144134:rs1800562:rs2104772:rs4072037][rs824205|rs1107946:rs1260326:rs405509:rs696217:rs7498665:rs8192678][rs970547|rs1801198:rs222158][rs526934|rs1205:rs4343][rs6053005|rs1137101:rs4343][rs7426114|rs1137101:rs12255372:rs1801198:rs3918358][rs7501331|rs2368564][rs7682|rs10063949:rs1956197:rs3219178][rs7775228|rs1420106:rs2070744:rs7566605][rs8065080|rs1451462:rs2070744:rs3219178:rs3753841:rs5418][rs699|rs17782313:rs2304795:rs4880:rs4919510:rs526934:rs61752479][rs7732671|rs6053005]'"
      ],
      "text/plain": [
       "[1] \"[W1.2MedDifWRelFFM1Bin][rs10034661][rs10063949][rs1024610][rs1024611][rs1042713][rs1045485][rs10491003][rs1049305][rs1049434][rs10497520][rs1052700][rs1057972][rs10741657][rs10921078][rs10999516][rs11096663][rs11144134][rs11254363][rs1137100][rs1205][rs12150660][rs12255372][rs1260326][rs12613181][rs1420100][rs1420106][rs1481012][rs15705][rs1572312][rs16924573][rs17685][rs17782313][rs1799722][rs1799865][rs1799907][rs1800012][rs1800169][rs1800206][rs1800629][rs1800795][rs1800796][rs1800872][rs1805086][rs1815739][rs182549][rs1906058][rs1956197][rs2016520][rs222158][rs2395182][rs2470893][rs2472297][rs2515941][rs26802][rs2722171][rs28497577][rs3213221][rs3219177][rs331079][rs34124816][rs3925584][rs4073918][rs4410790][rs4654748][rs4880][rs492602][rs4997][rs516115][rs61752479][rs6265][rs660339][rs696217][rs7498665][rs768539][rs9902453][rs1107946|rs1042713][rs11225395|rs1024611][rs1137101|rs11096663][rs1144393|rs10921078][rs11549465|rs1042713:rs1052700][rs11715829|rs1024610:rs1045485:rs11144134][rs13146355|rs10741657:rs11144134][rs1330363|rs1052700][rs13946|rs1137100][rs1516797|rs1049434][rs1676486|rs12613181][rs1800497|rs10063949][rs1800562|rs1052700:rs1799722][rs1801282|rs1045485][rs1862513|rs1049434:rs1057972][rs198851|rs17782313][rs2040410|rs1800795][rs2071856|rs1137100][rs2104772|rs11144134][rs2228059|rs12150660][rs2276109|rs1042713:rs1800012][rs2296135|rs1052700][rs2304795|rs1800169][rs2542729|rs10491003:rs15705:rs1800872][rs2593324|rs1800872][rs35767|rs10741657:rs1800206:rs1906058][rs3752135|rs2722171:rs34124816][rs3768816|rs1956197][rs3811647|rs10063949][rs405509|rs1420100][rs4588|rs182549][rs4675639|rs17782313:rs2515941][rs4789932|rs1481012][rs4919510|rs11254363:rs1799907][rs558129|rs1052700:rs1799907][rs602662|rs1799722:rs1800169:rs222158][rs6133175|rs10063949:rs222158][rs6548238|rs1799722][rs6735530|rs1260326][rs7144481|rs1049434:rs4410790][rs7292407|rs1572312:rs34124816][rs731236|rs1049305][rs7843014|rs11096663:rs16924573:rs3925584][rs7903146|rs1800872][rs7965584|rs11254363:rs696217][rs833070|rs4997][rs921943|rs1956197][rs9469199|rs10491003:rs28497577][rs12934922|rs11225395][rs143383|rs13946][rs1451462|rs11715829][rs1589241|rs1049305:rs13146355][rs1799983|rs1144393][rs1801131|rs1144393][rs1801133|rs10491003:rs1057972:rs1676486][rs1801198|rs11549465][rs1801260|rs1800497][rs2010963|rs1572312:rs1676486][rs211302|rs11225395:rs1799722][rs2241057|rs1799722:rs1862513][rs2253206|rs13946][rs28357094|rs2542729][rs2943641|rs198851][rs3753841|rs1516797:rs2016520:rs2071856][rs4072037|rs2104772][rs4680|rs1107946:rs2395182][rs5186|rs1862513:rs2395182][rs5418|rs1516797][rs646776|rs11715829:rs1330363:rs16924573][rs6552828|rs1800169:rs2304795][rs6570913|rs10497520:rs13946][rs679620|rs1042713:rs2276109][rs716745|rs1800497][rs7454108|rs405509][rs7566605|rs13146355:rs558129][rs8111989|rs1801282][rs8192678|rs3768816][rs884736|rs2040410][rs9939609|rs1052700:rs1572312:rs1805086:rs2016520:rs2593324:rs4675639][rs1800255|rs11254363:rs12934922][rs2070744|rs1801131][rs2368564|rs143383:rs2228059][rs3219178|rs143383:rs1800206][rs33972313|rs1801260][rs3918358|rs1589241:rs1800169][rs4253778|rs2040410:rs4072037][rs4343|rs1801260:rs2296135][rs650108|rs11144134:rs211302][rs659366|rs143383:rs222158:rs35767:rs4997][rs6968554|rs1137101:rs1801198][rs7191721|rs143383][rs7800944|rs11144134:rs1800562:rs2104772:rs4072037][rs824205|rs1107946:rs1260326:rs405509:rs696217:rs7498665:rs8192678][rs970547|rs1801198:rs222158][rs526934|rs1205:rs4343][rs6053005|rs1137101:rs4343][rs7426114|rs1137101:rs12255372:rs1801198:rs3918358][rs7501331|rs2368564][rs7682|rs10063949:rs1956197:rs3219178][rs7775228|rs1420106:rs2070744:rs7566605][rs8065080|rs1451462:rs2070744:rs3219178:rs3753841:rs5418][rs699|rs17782313:rs2304795:rs4880:rs4919510:rs526934:rs61752479][rs7732671|rs6053005]\""
      ]
     },
     "metadata": {},
     "output_type": "display_data"
    },
    {
     "data": {
      "text/html": [
       "-15039.982260133"
      ],
      "text/latex": [
       "-15039.982260133"
      ],
      "text/markdown": [
       "-15039.982260133"
      ],
      "text/plain": [
       "[1] -15039.98"
      ]
     },
     "metadata": {},
     "output_type": "display_data"
    }
   ],
   "source": [
    "set.seed(1)\n",
    "rnd <- random.graph(nodes = names(ind_med))\n",
    "modelstring(rnd)\n",
    "\n",
    "bnlearn::score(rnd, data = ind_med,type = 'bde')"
   ]
  },
  {
   "cell_type": "markdown",
   "metadata": {},
   "source": [
    "The score obtained is extremely low, although higher than in the case of the random model. Let's keep the most significant relationships according to the independence test of $\\chi^2$."
   ]
  },
  {
   "cell_type": "markdown",
   "metadata": {},
   "source": [
    "Significance relations obtained with the tabu algorithm:"
   ]
  },
  {
   "cell_type": "code",
   "execution_count": 22,
   "metadata": {},
   "outputs": [
    {
     "data": {
      "text/html": [
       "<table>\n",
       "<thead><tr><th scope=col>from</th><th scope=col>to</th><th scope=col>strength</th></tr></thead>\n",
       "<tbody>\n",
       "\t<tr><td>rs1799865   </td><td>rs3918358   </td><td>3.312751e-20</td></tr>\n",
       "\t<tr><td>rs4410790   </td><td>rs6968554   </td><td>1.785994e-18</td></tr>\n",
       "\t<tr><td>rs492602    </td><td>rs602662    </td><td>1.695393e-16</td></tr>\n",
       "\t<tr><td>rs659366    </td><td>rs660339    </td><td>7.434565e-16</td></tr>\n",
       "\t<tr><td>rs2228059   </td><td>rs2296135   </td><td>2.959759e-09</td></tr>\n",
       "\t<tr><td>rs1799865   </td><td>rs768539    </td><td>1.000000e+00</td></tr>\n",
       "</tbody>\n",
       "</table>\n"
      ],
      "text/latex": [
       "\\begin{tabular}{r|lll}\n",
       " from & to & strength\\\\\n",
       "\\hline\n",
       "\t rs1799865    & rs3918358    & 3.312751e-20\\\\\n",
       "\t rs4410790    & rs6968554    & 1.785994e-18\\\\\n",
       "\t rs492602     & rs602662     & 1.695393e-16\\\\\n",
       "\t rs659366     & rs660339     & 7.434565e-16\\\\\n",
       "\t rs2228059    & rs2296135    & 2.959759e-09\\\\\n",
       "\t rs1799865    & rs768539     & 1.000000e+00\\\\\n",
       "\\end{tabular}\n"
      ],
      "text/markdown": [
       "\n",
       "| from | to | strength |\n",
       "|---|---|---|\n",
       "| rs1799865    | rs3918358    | 3.312751e-20 |\n",
       "| rs4410790    | rs6968554    | 1.785994e-18 |\n",
       "| rs492602     | rs602662     | 1.695393e-16 |\n",
       "| rs659366     | rs660339     | 7.434565e-16 |\n",
       "| rs2228059    | rs2296135    | 2.959759e-09 |\n",
       "| rs1799865    | rs768539     | 1.000000e+00 |\n",
       "\n"
      ],
      "text/plain": [
       "  from      to        strength    \n",
       "1 rs1799865 rs3918358 3.312751e-20\n",
       "2 rs4410790 rs6968554 1.785994e-18\n",
       "3 rs492602  rs602662  1.695393e-16\n",
       "4 rs659366  rs660339  7.434565e-16\n",
       "5 rs2228059 rs2296135 2.959759e-09\n",
       "6 rs1799865 rs768539  1.000000e+00"
      ]
     },
     "metadata": {},
     "output_type": "display_data"
    }
   ],
   "source": [
    "sig_tabu <- arc.strength(tabu, data = ind_med, criterion = \"x2\") \n",
    "head(sig_tabu)"
   ]
  },
  {
   "cell_type": "markdown",
   "metadata": {},
   "source": [
    "To select the significant relationships, we assume that we are interested in those that contain the target variable: W1.2MedDifWRelFFM1. Let's select with this condition."
   ]
  },
  {
   "cell_type": "code",
   "execution_count": 23,
   "metadata": {},
   "outputs": [
    {
     "data": {
      "text/html": [
       "<table>\n",
       "<thead><tr><th></th><th scope=col>from</th><th scope=col>to</th><th scope=col>strength</th></tr></thead>\n",
       "<tbody>\n",
       "\t<tr><th scope=row>178</th><td>W1.2MedDifWRelFFM1Bin</td><td>rs11144134           </td><td>0.9989072            </td></tr>\n",
       "\t<tr><th scope=row>272</th><td>W1.2MedDifWRelFFM1Bin</td><td>rs7191721            </td><td>0.9877784            </td></tr>\n",
       "</tbody>\n",
       "</table>\n"
      ],
      "text/latex": [
       "\\begin{tabular}{r|lll}\n",
       "  & from & to & strength\\\\\n",
       "\\hline\n",
       "\t178 & W1.2MedDifWRelFFM1Bin & rs11144134            & 0.9989072            \\\\\n",
       "\t272 & W1.2MedDifWRelFFM1Bin & rs7191721             & 0.9877784            \\\\\n",
       "\\end{tabular}\n"
      ],
      "text/markdown": [
       "\n",
       "| <!--/--> | from | to | strength |\n",
       "|---|---|---|---|\n",
       "| 178 | W1.2MedDifWRelFFM1Bin | rs11144134            | 0.9989072             |\n",
       "| 272 | W1.2MedDifWRelFFM1Bin | rs7191721             | 0.9877784             |\n",
       "\n"
      ],
      "text/plain": [
       "    from                  to         strength \n",
       "178 W1.2MedDifWRelFFM1Bin rs11144134 0.9989072\n",
       "272 W1.2MedDifWRelFFM1Bin rs7191721  0.9877784"
      ]
     },
     "metadata": {},
     "output_type": "display_data"
    }
   ],
   "source": [
    "sig_tabu[sig_tabu$from  == 'W1.2MedDifWRelFFM1Bin',]"
   ]
  },
  {
   "cell_type": "code",
   "execution_count": 24,
   "metadata": {},
   "outputs": [
    {
     "data": {
      "text/html": [
       "<table>\n",
       "<thead><tr><th></th><th scope=col>from</th><th scope=col>to</th><th scope=col>strength</th></tr></thead>\n",
       "<tbody>\n",
       "\t<tr><th scope=row>77</th><td>rs6968554            </td><td>W1.2MedDifWRelFFM1Bin</td><td>0.0637851            </td></tr>\n",
       "\t<tr><th scope=row>334</th><td>rs1800497            </td><td>W1.2MedDifWRelFFM1Bin</td><td>0.5435754            </td></tr>\n",
       "\t<tr><th scope=row>335</th><td>rs1572312            </td><td>W1.2MedDifWRelFFM1Bin</td><td>0.6633979            </td></tr>\n",
       "</tbody>\n",
       "</table>\n"
      ],
      "text/latex": [
       "\\begin{tabular}{r|lll}\n",
       "  & from & to & strength\\\\\n",
       "\\hline\n",
       "\t77 & rs6968554             & W1.2MedDifWRelFFM1Bin & 0.0637851            \\\\\n",
       "\t334 & rs1800497             & W1.2MedDifWRelFFM1Bin & 0.5435754            \\\\\n",
       "\t335 & rs1572312             & W1.2MedDifWRelFFM1Bin & 0.6633979            \\\\\n",
       "\\end{tabular}\n"
      ],
      "text/markdown": [
       "\n",
       "| <!--/--> | from | to | strength |\n",
       "|---|---|---|---|\n",
       "| 77 | rs6968554             | W1.2MedDifWRelFFM1Bin | 0.0637851             |\n",
       "| 334 | rs1800497             | W1.2MedDifWRelFFM1Bin | 0.5435754             |\n",
       "| 335 | rs1572312             | W1.2MedDifWRelFFM1Bin | 0.6633979             |\n",
       "\n"
      ],
      "text/plain": [
       "    from      to                    strength \n",
       "77  rs6968554 W1.2MedDifWRelFFM1Bin 0.0637851\n",
       "334 rs1800497 W1.2MedDifWRelFFM1Bin 0.5435754\n",
       "335 rs1572312 W1.2MedDifWRelFFM1Bin 0.6633979"
      ]
     },
     "metadata": {},
     "output_type": "display_data"
    }
   ],
   "source": [
    "sig_tabu[sig_tabu$to  == 'W1.2MedDifWRelFFM1Bin',]"
   ]
  },
  {
   "cell_type": "markdown",
   "metadata": {},
   "source": [
    "The relationships given between the genetic predictors and the target variable are not significant, but it may be that in the presence of the physical variables these relationships make more sense. That is why we collect these predictors to be analyzed later along with the physical predictors."
   ]
  },
  {
   "cell_type": "code",
   "execution_count": 18,
   "metadata": {},
   "outputs": [],
   "source": [
    "snp_tabu <- c(sig_tabu[sig_tabu$from  == 'W1.2MedDifWRelFFM1Bin',]$to, sig_tabu[sig_tabu$to  == 'W1.2MedDifWRelFFM1Bin',]$from)"
   ]
  },
  {
   "cell_type": "code",
   "execution_count": 19,
   "metadata": {
    "scrolled": true
   },
   "outputs": [
    {
     "data": {
      "text/html": [
       "<ol class=list-inline>\n",
       "\t<li>'rs11144134'</li>\n",
       "\t<li>'rs7191721'</li>\n",
       "\t<li>'rs6968554'</li>\n",
       "\t<li>'rs1800497'</li>\n",
       "\t<li>'rs1572312'</li>\n",
       "</ol>\n"
      ],
      "text/latex": [
       "\\begin{enumerate*}\n",
       "\\item 'rs11144134'\n",
       "\\item 'rs7191721'\n",
       "\\item 'rs6968554'\n",
       "\\item 'rs1800497'\n",
       "\\item 'rs1572312'\n",
       "\\end{enumerate*}\n"
      ],
      "text/markdown": [
       "1. 'rs11144134'\n",
       "2. 'rs7191721'\n",
       "3. 'rs6968554'\n",
       "4. 'rs1800497'\n",
       "5. 'rs1572312'\n",
       "\n",
       "\n"
      ],
      "text/plain": [
       "[1] \"rs11144134\" \"rs7191721\"  \"rs6968554\"  \"rs1800497\"  \"rs1572312\" "
      ]
     },
     "metadata": {},
     "output_type": "display_data"
    }
   ],
   "source": [
    "snp_tabu"
   ]
  }
 ],
 "metadata": {
  "kernelspec": {
   "display_name": "R",
   "language": "R",
   "name": "ir"
  },
  "language_info": {
   "codemirror_mode": "r",
   "file_extension": ".r",
   "mimetype": "text/x-r-source",
   "name": "R",
   "pygments_lexer": "r",
   "version": "3.6.1"
  }
 },
 "nbformat": 4,
 "nbformat_minor": 4
}
