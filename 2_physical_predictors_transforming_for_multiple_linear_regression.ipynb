{
 "cells": [
  {
   "cell_type": "markdown",
   "metadata": {},
   "source": [
    "# <p style=\"text-align: justify;\"><div class=\"alert alert-info\" role=\"alert\">Transforming physical predictors for multiple linear regression</div></p>"
   ]
  },
  {
   "cell_type": "markdown",
   "metadata": {},
   "source": [
    "## `Ana González Guerra` \n",
    "\n",
    "### ` Student of the master in Data Science at the University of Cantabria`  "
   ]
  },
  {
   "cell_type": "markdown",
   "metadata": {},
   "source": [
    "## Index<a class=\"anchor\" id=\"index\"></a>\n",
    "* [Loading physical data](#1)\n",
    "* [Analysis of predictors with zero or close to zero variance](#2)\n",
    "* [Analysis of linear dependencies between predictors using QR matrix decomposition](#3)\n",
    "* [Centering and scaling](#4)\n",
    "* [References](#ref)"
   ]
  },
  {
   "cell_type": "markdown",
   "metadata": {},
   "source": [
    "## Loading physical data <a class=\"anchor\" id=\"1\"></a>"
   ]
  },
  {
   "cell_type": "markdown",
   "metadata": {},
   "source": [
    "* [Returning to the index of contents](#index)"
   ]
  },
  {
   "cell_type": "code",
   "execution_count": 2,
   "metadata": {},
   "outputs": [
    {
     "data": {
      "text/html": [
       "<table>\n",
       "<thead><tr><th></th><th scope=col>W1Fc</th><th scope=col>W1Ox</th><th scope=col>W1Lac</th><th scope=col>W1tFc</th><th scope=col>W1tOx</th><th scope=col>W1tLac</th><th scope=col>W1tBorg</th><th scope=col>W1t5Fc</th><th scope=col>W1t5Ox</th><th scope=col>W1t5Lac</th><th scope=col>...</th><th scope=col>PerCue</th><th scope=col>PerCin</th><th scope=col>FM1</th><th scope=col>FM2</th><th scope=col>X.FFM1</th><th scope=col>X.FFM2</th><th scope=col>FFM1</th><th scope=col>FFM2</th><th scope=col>FFMI1</th><th scope=col>FFMI2</th></tr></thead>\n",
       "<tbody>\n",
       "\t<tr><th scope=row>0</th><td>109      </td><td>92       </td><td>1.9      </td><td>133      </td><td>95       </td><td>2.3      </td><td> 8       </td><td> 59      </td><td>90       </td><td> 4.7     </td><td>...      </td><td>31.0     </td><td>65.0     </td><td> 7.883768</td><td> 8.432778</td><td>83.04566 </td><td>81.86499 </td><td>38.61623 </td><td>38.06722 </td><td>16.71409 </td><td>16.47646 </td></tr>\n",
       "\t<tr><th scope=row>4</th><td> 84      </td><td>90       </td><td>3.4      </td><td>151      </td><td>82       </td><td>4.3      </td><td> 8       </td><td> 74      </td><td>97       </td><td> 6.3     </td><td>...      </td><td>36.0     </td><td>67.5     </td><td> 6.914187</td><td>10.373099</td><td>87.86985 </td><td>81.80158 </td><td>50.08581 </td><td>46.62690 </td><td>17.33073 </td><td>16.13388 </td></tr>\n",
       "\t<tr><th scope=row>7</th><td>136      </td><td>98       </td><td>1.3      </td><td>164      </td><td>97       </td><td>2.8      </td><td>10       </td><td>121      </td><td>97       </td><td> 9.0     </td><td>...      </td><td>31.0     </td><td>65.5     </td><td> 4.917710</td><td>10.003592</td><td>90.45105 </td><td>80.57555 </td><td>46.58229 </td><td>41.49641 </td><td>17.74969 </td><td>15.81177 </td></tr>\n",
       "\t<tr><th scope=row>8</th><td>120      </td><td>97       </td><td>1.8      </td><td>150      </td><td>76       </td><td>4.2      </td><td> 8       </td><td>141      </td><td>98       </td><td> 9.7     </td><td>...      </td><td>35.5     </td><td>68.5     </td><td>11.222758</td><td>14.984471</td><td>81.60204 </td><td>75.43529 </td><td>49.77724 </td><td>46.01553 </td><td>18.50730 </td><td>17.10869 </td></tr>\n",
       "\t<tr><th scope=row>9</th><td> 62      </td><td>97       </td><td>2.8      </td><td>172      </td><td>91       </td><td>4.9      </td><td> 9       </td><td>119      </td><td>88       </td><td>10.8     </td><td>...      </td><td>33.5     </td><td>69.8     </td><td>15.642411</td><td>16.063989</td><td>72.55717 </td><td>71.81756 </td><td>41.35759 </td><td>40.93601 </td><td>16.56689 </td><td>16.39802 </td></tr>\n",
       "\t<tr><th scope=row>11</th><td>103      </td><td>99       </td><td>2.4      </td><td>174      </td><td>96       </td><td>3.6      </td><td>10       </td><td>115      </td><td>99       </td><td> 9.3     </td><td>...      </td><td>35.0     </td><td>69.0     </td><td> 8.131694</td><td>11.411066</td><td>85.73387 </td><td>79.98059 </td><td>48.86831 </td><td>45.58893 </td><td>17.94979 </td><td>16.74525 </td></tr>\n",
       "</tbody>\n",
       "</table>\n"
      ],
      "text/latex": [
       "\\begin{tabular}{r|lllllllllllllllllllllllllllllllllllllllllll}\n",
       "  & W1Fc & W1Ox & W1Lac & W1tFc & W1tOx & W1tLac & W1tBorg & W1t5Fc & W1t5Ox & W1t5Lac & ... & PerCue & PerCin & FM1 & FM2 & X.FFM1 & X.FFM2 & FFM1 & FFM2 & FFMI1 & FFMI2\\\\\n",
       "\\hline\n",
       "\t0 & 109       & 92        & 1.9       & 133       & 95        & 2.3       &  8        &  59       & 90        &  4.7      & ...       & 31.0      & 65.0      &  7.883768 &  8.432778 & 83.04566  & 81.86499  & 38.61623  & 38.06722  & 16.71409  & 16.47646 \\\\\n",
       "\t4 &  84       & 90        & 3.4       & 151       & 82        & 4.3       &  8        &  74       & 97        &  6.3      & ...       & 36.0      & 67.5      &  6.914187 & 10.373099 & 87.86985  & 81.80158  & 50.08581  & 46.62690  & 17.33073  & 16.13388 \\\\\n",
       "\t7 & 136       & 98        & 1.3       & 164       & 97        & 2.8       & 10        & 121       & 97        &  9.0      & ...       & 31.0      & 65.5      &  4.917710 & 10.003592 & 90.45105  & 80.57555  & 46.58229  & 41.49641  & 17.74969  & 15.81177 \\\\\n",
       "\t8 & 120       & 97        & 1.8       & 150       & 76        & 4.2       &  8        & 141       & 98        &  9.7      & ...       & 35.5      & 68.5      & 11.222758 & 14.984471 & 81.60204  & 75.43529  & 49.77724  & 46.01553  & 18.50730  & 17.10869 \\\\\n",
       "\t9 &  62       & 97        & 2.8       & 172       & 91        & 4.9       &  9        & 119       & 88        & 10.8      & ...       & 33.5      & 69.8      & 15.642411 & 16.063989 & 72.55717  & 71.81756  & 41.35759  & 40.93601  & 16.56689  & 16.39802 \\\\\n",
       "\t11 & 103       & 99        & 2.4       & 174       & 96        & 3.6       & 10        & 115       & 99        &  9.3      & ...       & 35.0      & 69.0      &  8.131694 & 11.411066 & 85.73387  & 79.98059  & 48.86831  & 45.58893  & 17.94979  & 16.74525 \\\\\n",
       "\\end{tabular}\n"
      ],
      "text/markdown": [
       "\n",
       "| <!--/--> | W1Fc | W1Ox | W1Lac | W1tFc | W1tOx | W1tLac | W1tBorg | W1t5Fc | W1t5Ox | W1t5Lac | ... | PerCue | PerCin | FM1 | FM2 | X.FFM1 | X.FFM2 | FFM1 | FFM2 | FFMI1 | FFMI2 |\n",
       "|---|---|---|---|---|---|---|---|---|---|---|---|---|---|---|---|---|---|---|---|---|---|\n",
       "| 0 | 109       | 92        | 1.9       | 133       | 95        | 2.3       |  8        |  59       | 90        |  4.7      | ...       | 31.0      | 65.0      |  7.883768 |  8.432778 | 83.04566  | 81.86499  | 38.61623  | 38.06722  | 16.71409  | 16.47646  |\n",
       "| 4 |  84       | 90        | 3.4       | 151       | 82        | 4.3       |  8        |  74       | 97        |  6.3      | ...       | 36.0      | 67.5      |  6.914187 | 10.373099 | 87.86985  | 81.80158  | 50.08581  | 46.62690  | 17.33073  | 16.13388  |\n",
       "| 7 | 136       | 98        | 1.3       | 164       | 97        | 2.8       | 10        | 121       | 97        |  9.0      | ...       | 31.0      | 65.5      |  4.917710 | 10.003592 | 90.45105  | 80.57555  | 46.58229  | 41.49641  | 17.74969  | 15.81177  |\n",
       "| 8 | 120       | 97        | 1.8       | 150       | 76        | 4.2       |  8        | 141       | 98        |  9.7      | ...       | 35.5      | 68.5      | 11.222758 | 14.984471 | 81.60204  | 75.43529  | 49.77724  | 46.01553  | 18.50730  | 17.10869  |\n",
       "| 9 |  62       | 97        | 2.8       | 172       | 91        | 4.9       |  9        | 119       | 88        | 10.8      | ...       | 33.5      | 69.8      | 15.642411 | 16.063989 | 72.55717  | 71.81756  | 41.35759  | 40.93601  | 16.56689  | 16.39802  |\n",
       "| 11 | 103       | 99        | 2.4       | 174       | 96        | 3.6       | 10        | 115       | 99        |  9.3      | ...       | 35.0      | 69.0      |  8.131694 | 11.411066 | 85.73387  | 79.98059  | 48.86831  | 45.58893  | 17.94979  | 16.74525  |\n",
       "\n"
      ],
      "text/plain": [
       "   W1Fc W1Ox W1Lac W1tFc W1tOx W1tLac W1tBorg W1t5Fc W1t5Ox W1t5Lac ... PerCue\n",
       "0  109  92   1.9   133   95    2.3     8       59    90      4.7    ... 31.0  \n",
       "4   84  90   3.4   151   82    4.3     8       74    97      6.3    ... 36.0  \n",
       "7  136  98   1.3   164   97    2.8    10      121    97      9.0    ... 31.0  \n",
       "8  120  97   1.8   150   76    4.2     8      141    98      9.7    ... 35.5  \n",
       "9   62  97   2.8   172   91    4.9     9      119    88     10.8    ... 33.5  \n",
       "11 103  99   2.4   174   96    3.6    10      115    99      9.3    ... 35.0  \n",
       "   PerCin FM1       FM2       X.FFM1   X.FFM2   FFM1     FFM2     FFMI1   \n",
       "0  65.0    7.883768  8.432778 83.04566 81.86499 38.61623 38.06722 16.71409\n",
       "4  67.5    6.914187 10.373099 87.86985 81.80158 50.08581 46.62690 17.33073\n",
       "7  65.5    4.917710 10.003592 90.45105 80.57555 46.58229 41.49641 17.74969\n",
       "8  68.5   11.222758 14.984471 81.60204 75.43529 49.77724 46.01553 18.50730\n",
       "9  69.8   15.642411 16.063989 72.55717 71.81756 41.35759 40.93601 16.56689\n",
       "11 69.0    8.131694 11.411066 85.73387 79.98059 48.86831 45.58893 17.94979\n",
       "   FFMI2   \n",
       "0  16.47646\n",
       "4  16.13388\n",
       "7  15.81177\n",
       "8  17.10869\n",
       "9  16.39802\n",
       "11 16.74525"
      ]
     },
     "metadata": {},
     "output_type": "display_data"
    },
    {
     "data": {
      "text/html": [
       "<ol class=list-inline>\n",
       "\t<li>'W1Fc'</li>\n",
       "\t<li>'W1Ox'</li>\n",
       "\t<li>'W1Lac'</li>\n",
       "\t<li>'W1tFc'</li>\n",
       "\t<li>'W1tOx'</li>\n",
       "\t<li>'W1tLac'</li>\n",
       "\t<li>'W1tBorg'</li>\n",
       "\t<li>'W1t5Fc'</li>\n",
       "\t<li>'W1t5Ox'</li>\n",
       "\t<li>'W1t5Lac'</li>\n",
       "\t<li>'W2tFc'</li>\n",
       "\t<li>'W2tOx'</li>\n",
       "\t<li>'W2tLac'</li>\n",
       "\t<li>'W2tBorg'</li>\n",
       "\t<li>'W2t5Fc'</li>\n",
       "\t<li>'W2t5Ox'</li>\n",
       "\t<li>'W2t5Lac'</li>\n",
       "\t<li>'W2t10Fc'</li>\n",
       "\t<li>'W2t10Ox'</li>\n",
       "\t<li>'W2t10Lac'</li>\n",
       "\t<li>'Sumat'</li>\n",
       "\t<li>'Peso'</li>\n",
       "\t<li>'Edad'</li>\n",
       "\t<li>'Altura'</li>\n",
       "\t<li>'PlieguePec'</li>\n",
       "\t<li>'PliegueAx'</li>\n",
       "\t<li>'PliegueTri'</li>\n",
       "\t<li>'PliegueSub'</li>\n",
       "\t<li>'PliegueAbd'</li>\n",
       "\t<li>'PliegueSup'</li>\n",
       "\t<li>'PliegueMus'</li>\n",
       "\t<li>'tpcgrasa1'</li>\n",
       "\t<li>'tpcgrasa2'</li>\n",
       "\t<li>'PerCue'</li>\n",
       "\t<li>'PerCin'</li>\n",
       "\t<li>'FM1'</li>\n",
       "\t<li>'FM2'</li>\n",
       "\t<li>'X.FFM1'</li>\n",
       "\t<li>'X.FFM2'</li>\n",
       "\t<li>'FFM1'</li>\n",
       "\t<li>'FFM2'</li>\n",
       "\t<li>'FFMI1'</li>\n",
       "\t<li>'FFMI2'</li>\n",
       "</ol>\n"
      ],
      "text/latex": [
       "\\begin{enumerate*}\n",
       "\\item 'W1Fc'\n",
       "\\item 'W1Ox'\n",
       "\\item 'W1Lac'\n",
       "\\item 'W1tFc'\n",
       "\\item 'W1tOx'\n",
       "\\item 'W1tLac'\n",
       "\\item 'W1tBorg'\n",
       "\\item 'W1t5Fc'\n",
       "\\item 'W1t5Ox'\n",
       "\\item 'W1t5Lac'\n",
       "\\item 'W2tFc'\n",
       "\\item 'W2tOx'\n",
       "\\item 'W2tLac'\n",
       "\\item 'W2tBorg'\n",
       "\\item 'W2t5Fc'\n",
       "\\item 'W2t5Ox'\n",
       "\\item 'W2t5Lac'\n",
       "\\item 'W2t10Fc'\n",
       "\\item 'W2t10Ox'\n",
       "\\item 'W2t10Lac'\n",
       "\\item 'Sumat'\n",
       "\\item 'Peso'\n",
       "\\item 'Edad'\n",
       "\\item 'Altura'\n",
       "\\item 'PlieguePec'\n",
       "\\item 'PliegueAx'\n",
       "\\item 'PliegueTri'\n",
       "\\item 'PliegueSub'\n",
       "\\item 'PliegueAbd'\n",
       "\\item 'PliegueSup'\n",
       "\\item 'PliegueMus'\n",
       "\\item 'tpcgrasa1'\n",
       "\\item 'tpcgrasa2'\n",
       "\\item 'PerCue'\n",
       "\\item 'PerCin'\n",
       "\\item 'FM1'\n",
       "\\item 'FM2'\n",
       "\\item 'X.FFM1'\n",
       "\\item 'X.FFM2'\n",
       "\\item 'FFM1'\n",
       "\\item 'FFM2'\n",
       "\\item 'FFMI1'\n",
       "\\item 'FFMI2'\n",
       "\\end{enumerate*}\n"
      ],
      "text/markdown": [
       "1. 'W1Fc'\n",
       "2. 'W1Ox'\n",
       "3. 'W1Lac'\n",
       "4. 'W1tFc'\n",
       "5. 'W1tOx'\n",
       "6. 'W1tLac'\n",
       "7. 'W1tBorg'\n",
       "8. 'W1t5Fc'\n",
       "9. 'W1t5Ox'\n",
       "10. 'W1t5Lac'\n",
       "11. 'W2tFc'\n",
       "12. 'W2tOx'\n",
       "13. 'W2tLac'\n",
       "14. 'W2tBorg'\n",
       "15. 'W2t5Fc'\n",
       "16. 'W2t5Ox'\n",
       "17. 'W2t5Lac'\n",
       "18. 'W2t10Fc'\n",
       "19. 'W2t10Ox'\n",
       "20. 'W2t10Lac'\n",
       "21. 'Sumat'\n",
       "22. 'Peso'\n",
       "23. 'Edad'\n",
       "24. 'Altura'\n",
       "25. 'PlieguePec'\n",
       "26. 'PliegueAx'\n",
       "27. 'PliegueTri'\n",
       "28. 'PliegueSub'\n",
       "29. 'PliegueAbd'\n",
       "30. 'PliegueSup'\n",
       "31. 'PliegueMus'\n",
       "32. 'tpcgrasa1'\n",
       "33. 'tpcgrasa2'\n",
       "34. 'PerCue'\n",
       "35. 'PerCin'\n",
       "36. 'FM1'\n",
       "37. 'FM2'\n",
       "38. 'X.FFM1'\n",
       "39. 'X.FFM2'\n",
       "40. 'FFM1'\n",
       "41. 'FFM2'\n",
       "42. 'FFMI1'\n",
       "43. 'FFMI2'\n",
       "\n",
       "\n"
      ],
      "text/plain": [
       " [1] \"W1Fc\"       \"W1Ox\"       \"W1Lac\"      \"W1tFc\"      \"W1tOx\"     \n",
       " [6] \"W1tLac\"     \"W1tBorg\"    \"W1t5Fc\"     \"W1t5Ox\"     \"W1t5Lac\"   \n",
       "[11] \"W2tFc\"      \"W2tOx\"      \"W2tLac\"     \"W2tBorg\"    \"W2t5Fc\"    \n",
       "[16] \"W2t5Ox\"     \"W2t5Lac\"    \"W2t10Fc\"    \"W2t10Ox\"    \"W2t10Lac\"  \n",
       "[21] \"Sumat\"      \"Peso\"       \"Edad\"       \"Altura\"     \"PlieguePec\"\n",
       "[26] \"PliegueAx\"  \"PliegueTri\" \"PliegueSub\" \"PliegueAbd\" \"PliegueSup\"\n",
       "[31] \"PliegueMus\" \"tpcgrasa1\"  \"tpcgrasa2\"  \"PerCue\"     \"PerCin\"    \n",
       "[36] \"FM1\"        \"FM2\"        \"X.FFM1\"     \"X.FFM2\"     \"FFM1\"      \n",
       "[41] \"FFM2\"       \"FFMI1\"      \"FFMI2\"     "
      ]
     },
     "metadata": {},
     "output_type": "display_data"
    }
   ],
   "source": [
    "handle_physical <- read.csv('handle_physical_fusion_31_03_20.csv',row.name = 1)\n",
    "head(handle_physical)\n",
    "names(handle_physical)"
   ]
  },
  {
   "cell_type": "markdown",
   "metadata": {},
   "source": [
    "In R code the % symbol is not well detected but it still has representation, instead of a % we have 'X.'"
   ]
  },
  {
   "cell_type": "markdown",
   "metadata": {},
   "source": [
    "In order to avoid interferences with physical predictors relating to FFM1 and similar  (because the intention when we performed the regression model is using W1_2MedDifWRelFFMI as target variable), we remove those physical predictors that have the substring \"FM\" in their name:"
   ]
  },
  {
   "cell_type": "code",
   "execution_count": 3,
   "metadata": {},
   "outputs": [
    {
     "data": {
      "text/html": [
       "<ol class=list-inline>\n",
       "\t<li>'W1Fc'</li>\n",
       "\t<li>'W1Ox'</li>\n",
       "\t<li>'W1Lac'</li>\n",
       "\t<li>'W1tFc'</li>\n",
       "\t<li>'W1tOx'</li>\n",
       "\t<li>'W1tLac'</li>\n",
       "\t<li>'W1tBorg'</li>\n",
       "\t<li>'W1t5Fc'</li>\n",
       "\t<li>'W1t5Ox'</li>\n",
       "\t<li>'W1t5Lac'</li>\n",
       "\t<li>'W2tFc'</li>\n",
       "\t<li>'W2tOx'</li>\n",
       "\t<li>'W2tLac'</li>\n",
       "\t<li>'W2tBorg'</li>\n",
       "\t<li>'W2t5Fc'</li>\n",
       "\t<li>'W2t5Ox'</li>\n",
       "\t<li>'W2t5Lac'</li>\n",
       "\t<li>'W2t10Fc'</li>\n",
       "\t<li>'W2t10Ox'</li>\n",
       "\t<li>'W2t10Lac'</li>\n",
       "\t<li>'Sumat'</li>\n",
       "\t<li>'Peso'</li>\n",
       "\t<li>'Edad'</li>\n",
       "\t<li>'Altura'</li>\n",
       "\t<li>'PlieguePec'</li>\n",
       "\t<li>'PliegueAx'</li>\n",
       "\t<li>'PliegueTri'</li>\n",
       "\t<li>'PliegueSub'</li>\n",
       "\t<li>'PliegueAbd'</li>\n",
       "\t<li>'PliegueSup'</li>\n",
       "\t<li>'PliegueMus'</li>\n",
       "\t<li>'tpcgrasa1'</li>\n",
       "\t<li>'tpcgrasa2'</li>\n",
       "\t<li>'PerCue'</li>\n",
       "\t<li>'PerCin'</li>\n",
       "</ol>\n"
      ],
      "text/latex": [
       "\\begin{enumerate*}\n",
       "\\item 'W1Fc'\n",
       "\\item 'W1Ox'\n",
       "\\item 'W1Lac'\n",
       "\\item 'W1tFc'\n",
       "\\item 'W1tOx'\n",
       "\\item 'W1tLac'\n",
       "\\item 'W1tBorg'\n",
       "\\item 'W1t5Fc'\n",
       "\\item 'W1t5Ox'\n",
       "\\item 'W1t5Lac'\n",
       "\\item 'W2tFc'\n",
       "\\item 'W2tOx'\n",
       "\\item 'W2tLac'\n",
       "\\item 'W2tBorg'\n",
       "\\item 'W2t5Fc'\n",
       "\\item 'W2t5Ox'\n",
       "\\item 'W2t5Lac'\n",
       "\\item 'W2t10Fc'\n",
       "\\item 'W2t10Ox'\n",
       "\\item 'W2t10Lac'\n",
       "\\item 'Sumat'\n",
       "\\item 'Peso'\n",
       "\\item 'Edad'\n",
       "\\item 'Altura'\n",
       "\\item 'PlieguePec'\n",
       "\\item 'PliegueAx'\n",
       "\\item 'PliegueTri'\n",
       "\\item 'PliegueSub'\n",
       "\\item 'PliegueAbd'\n",
       "\\item 'PliegueSup'\n",
       "\\item 'PliegueMus'\n",
       "\\item 'tpcgrasa1'\n",
       "\\item 'tpcgrasa2'\n",
       "\\item 'PerCue'\n",
       "\\item 'PerCin'\n",
       "\\end{enumerate*}\n"
      ],
      "text/markdown": [
       "1. 'W1Fc'\n",
       "2. 'W1Ox'\n",
       "3. 'W1Lac'\n",
       "4. 'W1tFc'\n",
       "5. 'W1tOx'\n",
       "6. 'W1tLac'\n",
       "7. 'W1tBorg'\n",
       "8. 'W1t5Fc'\n",
       "9. 'W1t5Ox'\n",
       "10. 'W1t5Lac'\n",
       "11. 'W2tFc'\n",
       "12. 'W2tOx'\n",
       "13. 'W2tLac'\n",
       "14. 'W2tBorg'\n",
       "15. 'W2t5Fc'\n",
       "16. 'W2t5Ox'\n",
       "17. 'W2t5Lac'\n",
       "18. 'W2t10Fc'\n",
       "19. 'W2t10Ox'\n",
       "20. 'W2t10Lac'\n",
       "21. 'Sumat'\n",
       "22. 'Peso'\n",
       "23. 'Edad'\n",
       "24. 'Altura'\n",
       "25. 'PlieguePec'\n",
       "26. 'PliegueAx'\n",
       "27. 'PliegueTri'\n",
       "28. 'PliegueSub'\n",
       "29. 'PliegueAbd'\n",
       "30. 'PliegueSup'\n",
       "31. 'PliegueMus'\n",
       "32. 'tpcgrasa1'\n",
       "33. 'tpcgrasa2'\n",
       "34. 'PerCue'\n",
       "35. 'PerCin'\n",
       "\n",
       "\n"
      ],
      "text/plain": [
       " [1] \"W1Fc\"       \"W1Ox\"       \"W1Lac\"      \"W1tFc\"      \"W1tOx\"     \n",
       " [6] \"W1tLac\"     \"W1tBorg\"    \"W1t5Fc\"     \"W1t5Ox\"     \"W1t5Lac\"   \n",
       "[11] \"W2tFc\"      \"W2tOx\"      \"W2tLac\"     \"W2tBorg\"    \"W2t5Fc\"    \n",
       "[16] \"W2t5Ox\"     \"W2t5Lac\"    \"W2t10Fc\"    \"W2t10Ox\"    \"W2t10Lac\"  \n",
       "[21] \"Sumat\"      \"Peso\"       \"Edad\"       \"Altura\"     \"PlieguePec\"\n",
       "[26] \"PliegueAx\"  \"PliegueTri\" \"PliegueSub\" \"PliegueAbd\" \"PliegueSup\"\n",
       "[31] \"PliegueMus\" \"tpcgrasa1\"  \"tpcgrasa2\"  \"PerCue\"     \"PerCin\"    "
      ]
     },
     "metadata": {},
     "output_type": "display_data"
    }
   ],
   "source": [
    "handle_physical <- handle_physical[!grepl('FM',names(handle_physical))] #eliminamos las variables que en su nombre contienen FM\n",
    "names(handle_physical)"
   ]
  },
  {
   "cell_type": "markdown",
   "metadata": {},
   "source": [
    "## Analysis of predictors with zero or close to zero variance<a class=\"anchor\" id=\"2\"></a>"
   ]
  },
  {
   "cell_type": "markdown",
   "metadata": {},
   "source": [
    "* [Returning to the index of contents](#index)"
   ]
  },
  {
   "cell_type": "markdown",
   "metadata": {},
   "source": [
    "If frequency rate is bigger than a threshold previously established (by default 95/5) and the percent of unique values is smaller than its respectiverly thresholds (by default 10), we could consider that the predictor has a variance near to zero. By default, nearZeroVar function returns the predictors that are considered problematic in relation with the variance. On the other hand, with argument saveMetrics = True we can see the different metrics considered for each one ot the selected predictors as problematic, those that present a TRUE value for nzv column (near zero variance) [[1]](#kuhn2019)."
   ]
  },
  {
   "cell_type": "code",
   "execution_count": 4,
   "metadata": {
    "scrolled": true
   },
   "outputs": [
    {
     "name": "stderr",
     "output_type": "stream",
     "text": [
      "Warning message:\n",
      "\"package 'caret' was built under R version 3.6.2\"Loading required package: lattice\n",
      "Loading required package: ggplot2\n",
      "Warning message:\n",
      "\"package 'ggplot2' was built under R version 3.6.3\""
     ]
    }
   ],
   "source": [
    "library(caret)"
   ]
  },
  {
   "cell_type": "code",
   "execution_count": 5,
   "metadata": {},
   "outputs": [
    {
     "data": {
      "text/html": [
       "<table>\n",
       "<thead><tr><th scope=col>freqRatio</th><th scope=col>percentUnique</th><th scope=col>zeroVar</th><th scope=col>nzv</th></tr></thead>\n",
       "<tbody>\n",
       "</tbody>\n",
       "</table>\n"
      ],
      "text/latex": [
       "\\begin{tabular}{r|llll}\n",
       " freqRatio & percentUnique & zeroVar & nzv\\\\\n",
       "\\hline\n",
       "\\end{tabular}\n"
      ],
      "text/markdown": [
       "\n",
       "| freqRatio | percentUnique | zeroVar | nzv |\n",
       "|---|---|---|---|\n",
       "\n"
      ],
      "text/plain": [
       "     freqRatio percentUnique zeroVar nzv"
      ]
     },
     "metadata": {},
     "output_type": "display_data"
    }
   ],
   "source": [
    "handle_physical_nzv <- nearZeroVar(handle_physical,saveMetrics = TRUE)\n",
    "\n",
    "handle_physical_nzv[handle_physical_nzv$nzv == TRUE,]\n",
    "\n",
    "physical_problematicas <- rownames(handle_physical_nzv[handle_physical_nzv$nzv == TRUE,])"
   ]
  },
  {
   "cell_type": "markdown",
   "metadata": {},
   "source": [
    "It seems physical predictors does not present problems with variance."
   ]
  },
  {
   "cell_type": "markdown",
   "metadata": {},
   "source": [
    "## Analysis of linear dependencies between predictors using QR matrix decomposition<a classs=\"anchor\" id=\"3\"></a>"
   ]
  },
  {
   "cell_type": "markdown",
   "metadata": {},
   "source": [
    "* [Returning to the index of contents](#index)"
   ]
  },
  {
   "cell_type": "markdown",
   "metadata": {},
   "source": [
    "The findLinearCombos() function uses the QR decomposition of a matrix to list sets of linear combinations (if any). For each linear combination, the number of columns to be removed from the matrix will be increased to check if the dependencies have been resolved. findLinearCombos() will also return a vector with the column positions that can be removed to resolve the situation [[2]](#kuhn2019b)."
   ]
  },
  {
   "cell_type": "markdown",
   "metadata": {},
   "source": [
    "findLinearCombos matrix "
   ]
  },
  {
   "cell_type": "code",
   "execution_count": 6,
   "metadata": {},
   "outputs": [
    {
     "data": {
      "text/html": [
       "<dl>\n",
       "\t<dt>$linearCombos</dt>\n",
       "\t\t<dd><ol>\n",
       "\t<li><ol class=list-inline>\n",
       "\t<li>31</li>\n",
       "\t<li>21</li>\n",
       "\t<li>25</li>\n",
       "\t<li>26</li>\n",
       "\t<li>27</li>\n",
       "\t<li>28</li>\n",
       "\t<li>29</li>\n",
       "\t<li>30</li>\n",
       "</ol>\n",
       "</li>\n",
       "</ol>\n",
       "</dd>\n",
       "\t<dt>$remove</dt>\n",
       "\t\t<dd>31</dd>\n",
       "</dl>\n"
      ],
      "text/latex": [
       "\\begin{description}\n",
       "\\item[\\$linearCombos] \\begin{enumerate}\n",
       "\\item \\begin{enumerate*}\n",
       "\\item 31\n",
       "\\item 21\n",
       "\\item 25\n",
       "\\item 26\n",
       "\\item 27\n",
       "\\item 28\n",
       "\\item 29\n",
       "\\item 30\n",
       "\\end{enumerate*}\n",
       "\n",
       "\\end{enumerate}\n",
       "\n",
       "\\item[\\$remove] 31\n",
       "\\end{description}\n"
      ],
      "text/markdown": [
       "$linearCombos\n",
       ":   1. 1. 31\n",
       "2. 21\n",
       "3. 25\n",
       "4. 26\n",
       "5. 27\n",
       "6. 28\n",
       "7. 29\n",
       "8. 30\n",
       "\n",
       "\n",
       "\n",
       "\n",
       "\n",
       "\n",
       "$remove\n",
       ":   31\n",
       "\n",
       "\n"
      ],
      "text/plain": [
       "$linearCombos\n",
       "$linearCombos[[1]]\n",
       "[1] 31 21 25 26 27 28 29 30\n",
       "\n",
       "\n",
       "$remove\n",
       "[1] 31\n"
      ]
     },
     "metadata": {},
     "output_type": "display_data"
    }
   ],
   "source": [
    "comboInfo <- findLinearCombos(handle_physical)\n",
    "comboInfo"
   ]
  },
  {
   "cell_type": "code",
   "execution_count": 7,
   "metadata": {},
   "outputs": [],
   "source": [
    "comb_lineal <- comboInfo$linearCombos\n",
    "names(comb_lineal) <- 'cb'"
   ]
  },
  {
   "cell_type": "code",
   "execution_count": 8,
   "metadata": {},
   "outputs": [
    {
     "data": {
      "text/html": [
       "<ol class=list-inline>\n",
       "\t<li>31</li>\n",
       "\t<li>21</li>\n",
       "\t<li>25</li>\n",
       "\t<li>26</li>\n",
       "\t<li>27</li>\n",
       "\t<li>28</li>\n",
       "\t<li>29</li>\n",
       "\t<li>30</li>\n",
       "</ol>\n"
      ],
      "text/latex": [
       "\\begin{enumerate*}\n",
       "\\item 31\n",
       "\\item 21\n",
       "\\item 25\n",
       "\\item 26\n",
       "\\item 27\n",
       "\\item 28\n",
       "\\item 29\n",
       "\\item 30\n",
       "\\end{enumerate*}\n"
      ],
      "text/markdown": [
       "1. 31\n",
       "2. 21\n",
       "3. 25\n",
       "4. 26\n",
       "5. 27\n",
       "6. 28\n",
       "7. 29\n",
       "8. 30\n",
       "\n",
       "\n"
      ],
      "text/plain": [
       "[1] 31 21 25 26 27 28 29 30"
      ]
     },
     "metadata": {},
     "output_type": "display_data"
    }
   ],
   "source": [
    "comb_lineal$cb"
   ]
  },
  {
   "cell_type": "markdown",
   "metadata": {},
   "source": [
    "We can appreciate a linear combinatio for the next physical predictors:"
   ]
  },
  {
   "cell_type": "code",
   "execution_count": 9,
   "metadata": {},
   "outputs": [
    {
     "data": {
      "text/html": [
       "<table>\n",
       "<thead><tr><th></th><th scope=col>PliegueMus</th><th scope=col>Sumat</th><th scope=col>PlieguePec</th><th scope=col>PliegueAx</th><th scope=col>PliegueTri</th><th scope=col>PliegueSub</th><th scope=col>PliegueAbd</th><th scope=col>PliegueSup</th></tr></thead>\n",
       "<tbody>\n",
       "\t<tr><th scope=row>0</th><td>30.30000 </td><td> 74.30000</td><td> 4.05    </td><td> 4.500000</td><td>18.350000</td><td> 6.85    </td><td> 6.000000</td><td> 4.250000</td></tr>\n",
       "\t<tr><th scope=row>4</th><td>17.26667 </td><td> 46.76667</td><td> 3.20    </td><td> 3.633333</td><td> 7.866667</td><td> 5.30    </td><td> 5.533333</td><td> 3.966667</td></tr>\n",
       "\t<tr><th scope=row>7</th><td>11.90000 </td><td> 34.40000</td><td> 2.85    </td><td> 2.600000</td><td> 6.100000</td><td> 3.80    </td><td> 4.600000</td><td> 2.550000</td></tr>\n",
       "\t<tr><th scope=row>8</th><td>31.15000 </td><td> 83.20000</td><td> 4.20    </td><td> 5.750000</td><td>14.400000</td><td> 9.15    </td><td>11.100000</td><td> 7.450000</td></tr>\n",
       "\t<tr><th scope=row>9</th><td>34.40000 </td><td>146.40000</td><td>15.20    </td><td>13.300000</td><td>23.000000</td><td>18.00    </td><td>26.500000</td><td>16.000000</td></tr>\n",
       "\t<tr><th scope=row>11</th><td>17.20000 </td><td> 62.60000</td><td> 4.40    </td><td> 4.700000</td><td>15.450000</td><td> 8.15    </td><td> 7.300000</td><td> 5.400000</td></tr>\n",
       "</tbody>\n",
       "</table>\n"
      ],
      "text/latex": [
       "\\begin{tabular}{r|llllllll}\n",
       "  & PliegueMus & Sumat & PlieguePec & PliegueAx & PliegueTri & PliegueSub & PliegueAbd & PliegueSup\\\\\n",
       "\\hline\n",
       "\t0 & 30.30000  &  74.30000 &  4.05     &  4.500000 & 18.350000 &  6.85     &  6.000000 &  4.250000\\\\\n",
       "\t4 & 17.26667  &  46.76667 &  3.20     &  3.633333 &  7.866667 &  5.30     &  5.533333 &  3.966667\\\\\n",
       "\t7 & 11.90000  &  34.40000 &  2.85     &  2.600000 &  6.100000 &  3.80     &  4.600000 &  2.550000\\\\\n",
       "\t8 & 31.15000  &  83.20000 &  4.20     &  5.750000 & 14.400000 &  9.15     & 11.100000 &  7.450000\\\\\n",
       "\t9 & 34.40000  & 146.40000 & 15.20     & 13.300000 & 23.000000 & 18.00     & 26.500000 & 16.000000\\\\\n",
       "\t11 & 17.20000  &  62.60000 &  4.40     &  4.700000 & 15.450000 &  8.15     &  7.300000 &  5.400000\\\\\n",
       "\\end{tabular}\n"
      ],
      "text/markdown": [
       "\n",
       "| <!--/--> | PliegueMus | Sumat | PlieguePec | PliegueAx | PliegueTri | PliegueSub | PliegueAbd | PliegueSup |\n",
       "|---|---|---|---|---|---|---|---|---|\n",
       "| 0 | 30.30000  |  74.30000 |  4.05     |  4.500000 | 18.350000 |  6.85     |  6.000000 |  4.250000 |\n",
       "| 4 | 17.26667  |  46.76667 |  3.20     |  3.633333 |  7.866667 |  5.30     |  5.533333 |  3.966667 |\n",
       "| 7 | 11.90000  |  34.40000 |  2.85     |  2.600000 |  6.100000 |  3.80     |  4.600000 |  2.550000 |\n",
       "| 8 | 31.15000  |  83.20000 |  4.20     |  5.750000 | 14.400000 |  9.15     | 11.100000 |  7.450000 |\n",
       "| 9 | 34.40000  | 146.40000 | 15.20     | 13.300000 | 23.000000 | 18.00     | 26.500000 | 16.000000 |\n",
       "| 11 | 17.20000  |  62.60000 |  4.40     |  4.700000 | 15.450000 |  8.15     |  7.300000 |  5.400000 |\n",
       "\n"
      ],
      "text/plain": [
       "   PliegueMus Sumat     PlieguePec PliegueAx PliegueTri PliegueSub PliegueAbd\n",
       "0  30.30000    74.30000  4.05       4.500000 18.350000   6.85       6.000000 \n",
       "4  17.26667    46.76667  3.20       3.633333  7.866667   5.30       5.533333 \n",
       "7  11.90000    34.40000  2.85       2.600000  6.100000   3.80       4.600000 \n",
       "8  31.15000    83.20000  4.20       5.750000 14.400000   9.15      11.100000 \n",
       "9  34.40000   146.40000 15.20      13.300000 23.000000  18.00      26.500000 \n",
       "11 17.20000    62.60000  4.40       4.700000 15.450000   8.15       7.300000 \n",
       "   PliegueSup\n",
       "0   4.250000 \n",
       "4   3.966667 \n",
       "7   2.550000 \n",
       "8   7.450000 \n",
       "9  16.000000 \n",
       "11  5.400000 "
      ]
     },
     "metadata": {},
     "output_type": "display_data"
    }
   ],
   "source": [
    "head(handle_physical[comb_lineal$cb])"
   ]
  },
  {
   "cell_type": "markdown",
   "metadata": {},
   "source": [
    "Where the suggest predictor to remove is 'PliegueMus':"
   ]
  },
  {
   "cell_type": "code",
   "execution_count": 11,
   "metadata": {
    "scrolled": true
   },
   "outputs": [
    {
     "data": {
      "text/html": [
       "<table>\n",
       "<thead><tr><th></th><th scope=col>PliegueMus</th></tr></thead>\n",
       "<tbody>\n",
       "\t<tr><th scope=row>0</th><td>30.30000</td></tr>\n",
       "\t<tr><th scope=row>4</th><td>17.26667</td></tr>\n",
       "\t<tr><th scope=row>7</th><td>11.90000</td></tr>\n",
       "\t<tr><th scope=row>8</th><td>31.15000</td></tr>\n",
       "\t<tr><th scope=row>9</th><td>34.40000</td></tr>\n",
       "\t<tr><th scope=row>11</th><td>17.20000</td></tr>\n",
       "</tbody>\n",
       "</table>\n"
      ],
      "text/latex": [
       "\\begin{tabular}{r|l}\n",
       "  & PliegueMus\\\\\n",
       "\\hline\n",
       "\t0 & 30.30000\\\\\n",
       "\t4 & 17.26667\\\\\n",
       "\t7 & 11.90000\\\\\n",
       "\t8 & 31.15000\\\\\n",
       "\t9 & 34.40000\\\\\n",
       "\t11 & 17.20000\\\\\n",
       "\\end{tabular}\n"
      ],
      "text/markdown": [
       "\n",
       "| <!--/--> | PliegueMus |\n",
       "|---|---|\n",
       "| 0 | 30.30000 |\n",
       "| 4 | 17.26667 |\n",
       "| 7 | 11.90000 |\n",
       "| 8 | 31.15000 |\n",
       "| 9 | 34.40000 |\n",
       "| 11 | 17.20000 |\n",
       "\n"
      ],
      "text/plain": [
       "   PliegueMus\n",
       "0  30.30000  \n",
       "4  17.26667  \n",
       "7  11.90000  \n",
       "8  31.15000  \n",
       "9  34.40000  \n",
       "11 17.20000  "
      ]
     },
     "metadata": {},
     "output_type": "display_data"
    }
   ],
   "source": [
    "head(handle_fisic[comboInfo$remove])"
   ]
  },
  {
   "cell_type": "markdown",
   "metadata": {},
   "source": [
    "Since by default the function takes as a predictor to eliminate always the first predictor of the combination, to preserve the biological sense and considering that 'Sumat' is a combination of the rest of fat fold variables (it is the sum of all of them) it seems more reasonable to eliminate 'Sumat' than one of the variables that contributes to the construction of 'Sumat'."
   ]
  },
  {
   "cell_type": "markdown",
   "metadata": {},
   "source": [
    "Let's check what happens if we eliminate 'Sumat':"
   ]
  },
  {
   "cell_type": "code",
   "execution_count": 11,
   "metadata": {},
   "outputs": [
    {
     "data": {
      "text/html": [
       "<dl>\n",
       "\t<dt>$linearCombos</dt>\n",
       "\t\t<dd><ol>\n",
       "</ol>\n",
       "</dd>\n",
       "\t<dt>$remove</dt>\n",
       "\t\t<dd>NULL</dd>\n",
       "</dl>\n"
      ],
      "text/latex": [
       "\\begin{description}\n",
       "\\item[\\$linearCombos] \\begin{enumerate}\n",
       "\\end{enumerate}\n",
       "\n",
       "\\item[\\$remove] NULL\n",
       "\\end{description}\n"
      ],
      "text/markdown": [
       "$linearCombos\n",
       ":   \n",
       "\n",
       "\n",
       "$remove\n",
       ":   NULL\n",
       "\n",
       "\n"
      ],
      "text/plain": [
       "$linearCombos\n",
       "list()\n",
       "\n",
       "$remove\n",
       "NULL\n"
      ]
     },
     "metadata": {},
     "output_type": "display_data"
    }
   ],
   "source": [
    "comboInfo_2 <- findLinearCombos(handle_physical[-comb_lineal$cb[2]])\n",
    "comboInfo_2"
   ]
  },
  {
   "cell_type": "markdown",
   "metadata": {},
   "source": [
    "Without Sumat we no longer have linear combinations among the physical predictors, so now we elimnate it:"
   ]
  },
  {
   "cell_type": "code",
   "execution_count": 12,
   "metadata": {},
   "outputs": [],
   "source": [
    "handle_physical <- handle_physical[,-comboInfo$remove]"
   ]
  },
  {
   "cell_type": "markdown",
   "metadata": {},
   "source": [
    "## Centering and scaling <a class=\"anchor\" id =\"4\"></a>"
   ]
  },
  {
   "cell_type": "markdown",
   "metadata": {},
   "source": [
    "* [Returning to the index of contents](#index)"
   ]
  },
  {
   "cell_type": "code",
   "execution_count": 13,
   "metadata": {},
   "outputs": [
    {
     "data": {
      "text/plain": [
       "      W1Fc             W1Ox           W1Lac           W1tFc      \n",
       " Min.   : 62.00   Min.   :69.00   Min.   :0.800   Min.   : 88.0  \n",
       " 1st Qu.: 90.25   1st Qu.:91.00   1st Qu.:1.500   1st Qu.:157.8  \n",
       " Median :105.50   Median :97.00   Median :2.000   Median :171.5  \n",
       " Mean   :106.87   Mean   :94.34   Mean   :2.123   Mean   :164.2  \n",
       " 3rd Qu.:120.75   3rd Qu.:98.00   3rd Qu.:2.675   3rd Qu.:176.8  \n",
       " Max.   :162.00   Max.   :99.00   Max.   :4.500   Max.   :194.0  \n",
       "     W1tOx           W1tLac         W1tBorg           W1t5Fc          W1t5Ox  \n",
       " Min.   :61.00   Min.   :1.700   Min.   : 7.000   Min.   : 59.0   Min.   :51  \n",
       " 1st Qu.:87.00   1st Qu.:3.400   1st Qu.: 8.250   1st Qu.:111.5   1st Qu.:95  \n",
       " Median :92.00   Median :3.900   Median : 9.000   Median :122.5   Median :98  \n",
       " Mean   :90.61   Mean   :3.987   Mean   : 9.171   Mean   :120.8   Mean   :95  \n",
       " 3rd Qu.:97.00   3rd Qu.:4.675   3rd Qu.:10.000   3rd Qu.:133.0   3rd Qu.:98  \n",
       " Max.   :99.00   Max.   :6.700   Max.   :10.000   Max.   :155.0   Max.   :99  \n",
       "    W1t5Lac          W2tFc           W2tOx           W2tLac     \n",
       " Min.   : 4.70   Min.   : 66.0   Min.   :45.00   Min.   : 5.60  \n",
       " 1st Qu.: 9.70   1st Qu.:157.2   1st Qu.:80.00   1st Qu.:11.70  \n",
       " Median :11.75   Median :167.5   Median :89.50   Median :12.90  \n",
       " Mean   :11.60   Mean   :159.4   Mean   :86.66   Mean   :13.10  \n",
       " 3rd Qu.:13.40   3rd Qu.:172.0   3rd Qu.:97.00   3rd Qu.:14.97  \n",
       " Max.   :16.80   Max.   :187.0   Max.   :99.00   Max.   :18.60  \n",
       "    W2tBorg           W2t5Fc          W2t5Ox         W2t5Lac     \n",
       " Min.   : 6.000   Min.   : 62.0   Min.   :78.00   Min.   : 7.40  \n",
       " 1st Qu.: 9.000   1st Qu.: 99.0   1st Qu.:97.00   1st Qu.:13.25  \n",
       " Median :10.000   Median :117.5   Median :97.00   Median :14.80  \n",
       " Mean   : 9.549   Mean   :112.7   Mean   :95.35   Mean   :14.70  \n",
       " 3rd Qu.:10.000   3rd Qu.:126.0   3rd Qu.:97.00   3rd Qu.:16.25  \n",
       " Max.   :10.000   Max.   :151.0   Max.   :99.00   Max.   :19.60  \n",
       "    W2t10Fc         W2t10Ox         W2t10Lac         Sumat       \n",
       " Min.   : 49.0   Min.   :66.00   Min.   : 6.90   Min.   : 31.55  \n",
       " 1st Qu.: 95.0   1st Qu.:95.25   1st Qu.:12.62   1st Qu.: 62.98  \n",
       " Median :108.5   Median :97.00   Median :14.60   Median : 80.50  \n",
       " Mean   :106.4   Mean   :95.32   Mean   :14.19   Mean   : 87.96  \n",
       " 3rd Qu.:117.8   3rd Qu.:97.00   3rd Qu.:15.50   3rd Qu.:103.94  \n",
       " Max.   :149.0   Max.   :99.00   Max.   :19.00   Max.   :183.75  \n",
       "      Peso             Edad           Altura        PlieguePec    \n",
       " Min.   : 44.00   Min.   :20.00   Min.   :148.0   Min.   : 2.850  \n",
       " 1st Qu.: 63.23   1st Qu.:28.00   1st Qu.:169.2   1st Qu.: 5.325  \n",
       " Median : 74.75   Median :31.00   Median :174.0   Median : 6.775  \n",
       " Mean   : 73.58   Mean   :32.05   Mean   :173.4   Mean   : 8.656  \n",
       " 3rd Qu.: 82.00   3rd Qu.:36.00   3rd Qu.:179.0   3rd Qu.:10.183  \n",
       " Max.   :111.00   Max.   :44.00   Max.   :192.0   Max.   :30.800  \n",
       "   PliegueAx        PliegueTri       PliegueSub       PliegueAbd   \n",
       " Min.   : 2.600   Min.   : 4.200   Min.   : 3.800   Min.   : 4.60  \n",
       " 1st Qu.: 5.862   1st Qu.: 8.425   1st Qu.: 9.262   1st Qu.:11.20  \n",
       " Median : 7.525   Median :11.925   Median :11.575   Median :15.78  \n",
       " Mean   : 9.136   Mean   :12.713   Mean   :12.814   Mean   :17.01  \n",
       " 3rd Qu.:10.738   3rd Qu.:15.562   3rd Qu.:14.375   3rd Qu.:20.51  \n",
       " Max.   :31.000   Max.   :32.300   Max.   :37.200   Max.   :41.13  \n",
       "   PliegueSup       tpcgrasa1        tpcgrasa2          PerCue     \n",
       " Min.   : 2.550   Min.   : 4.416   Min.   : 6.486   Min.   :31.00  \n",
       " 1st Qu.: 6.263   1st Qu.:10.185   1st Qu.:13.662   1st Qu.:36.62  \n",
       " Median : 8.375   Median :13.646   Median :16.129   Median :40.00  \n",
       " Mean   : 9.815   Mean   :14.707   Mean   :17.962   Mean   :39.01  \n",
       " 3rd Qu.:12.125   3rd Qu.:18.567   3rd Qu.:21.655   3rd Qu.:41.50  \n",
       " Max.   :27.300   Max.   :30.152   Max.   :36.513   Max.   :46.50  \n",
       "     PerCin      \n",
       " Min.   : 64.00  \n",
       " 1st Qu.: 75.00  \n",
       " Median : 82.00  \n",
       " Mean   : 81.31  \n",
       " 3rd Qu.: 87.50  \n",
       " Max.   :110.00  "
      ]
     },
     "metadata": {},
     "output_type": "display_data"
    }
   ],
   "source": [
    "summary(handle_physical)"
   ]
  },
  {
   "cell_type": "markdown",
   "metadata": {},
   "source": [
    "In this review of the physical predictors data we can see that the ranges in which they move can be very different, therefore it is necessary to scale."
   ]
  },
  {
   "cell_type": "code",
   "execution_count": 14,
   "metadata": {},
   "outputs": [
    {
     "data": {
      "text/plain": [
       "      W1Fc               W1Ox             W1Lac             W1tFc        \n",
       " Min.   :-2.03714   Min.   :-3.9100   Min.   :-1.6363   Min.   :-3.5572  \n",
       " 1st Qu.:-0.75444   1st Qu.:-0.5156   1st Qu.:-0.7706   1st Qu.:-0.3019  \n",
       " Median :-0.06202   Median : 0.4102   Median :-0.1523   Median : 0.3398  \n",
       " Mean   : 0.00000   Mean   : 0.0000   Mean   : 0.0000   Mean   : 0.0000  \n",
       " 3rd Qu.: 0.63041   3rd Qu.: 0.5645   3rd Qu.: 0.6824   3rd Qu.: 0.5848  \n",
       " Max.   : 2.50337   Max.   : 0.7188   Max.   : 2.9393   Max.   : 1.3899  \n",
       "     W1tOx             W1tLac           W1tBorg            W1t5Fc        \n",
       " Min.   :-3.7007   Min.   :-2.1444   Min.   :-2.2771   Min.   :-3.38052  \n",
       " 1st Qu.:-0.4512   1st Qu.:-0.5501   1st Qu.:-0.9658   1st Qu.:-0.50724  \n",
       " Median : 0.1738   Median :-0.0812   Median :-0.1791   Median : 0.09477  \n",
       " Mean   : 0.0000   Mean   : 0.0000   Mean   : 0.0000   Mean   : 0.00000  \n",
       " 3rd Qu.: 0.7987   3rd Qu.: 0.6456   3rd Qu.: 0.8699   3rd Qu.: 0.66943  \n",
       " Max.   : 1.0486   Max.   : 2.5447   Max.   : 0.8699   Max.   : 1.87347  \n",
       "     W1t5Ox           W1t5Lac             W2tFc              W2tOx        \n",
       " Min.   :-6.3492   Min.   :-2.78478   Min.   :-3.94845   Min.   :-3.7262  \n",
       " 1st Qu.: 0.0000   1st Qu.:-0.76682   1st Qu.:-0.08898   1st Qu.:-0.5956  \n",
       " Median : 0.4329   Median : 0.06054   Median : 0.34456   Median : 0.2542  \n",
       " Mean   : 0.0000   Mean   : 0.00000   Mean   : 0.00000   Mean   : 0.0000  \n",
       " 3rd Qu.: 0.4329   3rd Qu.: 0.72646   3rd Qu.: 0.53489   3rd Qu.: 0.9250  \n",
       " Max.   : 0.5772   Max.   : 2.09868   Max.   : 1.16932   Max.   : 1.1039  \n",
       "     W2tLac            W2tBorg            W2t5Fc            W2t5Ox       \n",
       " Min.   :-2.87906   Min.   :-4.7984   Min.   :-2.7656   Min.   :-3.9867  \n",
       " 1st Qu.:-0.53666   1st Qu.:-0.7420   1st Qu.:-0.7456   1st Qu.: 0.3782  \n",
       " Median :-0.07586   Median : 0.6101   Median : 0.2643   Median : 0.3782  \n",
       " Mean   : 0.00000   Mean   : 0.0000   Mean   : 0.0000   Mean   : 0.0000  \n",
       " 3rd Qu.: 0.72093   3rd Qu.: 0.6101   3rd Qu.: 0.7283   3rd Qu.: 0.3782  \n",
       " Max.   : 2.11293   Max.   : 0.6101   Max.   : 2.0931   Max.   : 0.8377  \n",
       "    W2t5Lac           W2t10Fc           W2t10Ox            W2t10Lac      \n",
       " Min.   :-2.9111   Min.   :-3.6199   Min.   :-6.36623   Min.   :-3.0973  \n",
       " 1st Qu.:-0.5794   1st Qu.:-0.7178   1st Qu.:-0.01456   1st Qu.:-0.6634  \n",
       " Median : 0.0384   Median : 0.1339   Median : 0.36545   Median : 0.1763  \n",
       " Mean   : 0.0000   Mean   : 0.0000   Mean   : 0.00000   Mean   : 0.0000  \n",
       " 3rd Qu.: 0.6163   3rd Qu.: 0.7174   3rd Qu.: 0.36545   3rd Qu.: 0.5589  \n",
       " Max.   : 1.9516   Max.   : 2.6889   Max.   : 0.79975   Max.   : 2.0469  \n",
       "     Sumat              Peso               Edad             Altura       \n",
       " Min.   :-1.6203   Min.   :-2.32304   Min.   :-2.3215   Min.   :-2.9868  \n",
       " 1st Qu.:-0.7176   1st Qu.:-0.81343   1st Qu.:-0.7801   1st Qu.:-0.4912  \n",
       " Median :-0.2142   Median : 0.09155   Median :-0.2021   Median : 0.0666  \n",
       " Mean   : 0.0000   Mean   : 0.00000   Mean   : 0.0000   Mean   : 0.0000  \n",
       " 3rd Qu.: 0.4591   3rd Qu.: 0.66084   3rd Qu.: 0.7613   3rd Qu.: 0.6538  \n",
       " Max.   : 2.7517   Max.   : 2.93801   Max.   : 2.3027   Max.   : 2.1805  \n",
       "   PlieguePec        PliegueAx         PliegueTri        PliegueSub     \n",
       " Min.   :-1.1039   Min.   :-1.2619   Min.   :-1.5343   Min.   :-1.5391  \n",
       " 1st Qu.:-0.6333   1st Qu.:-0.6321   1st Qu.:-0.7728   1st Qu.:-0.6064  \n",
       " Median :-0.3577   Median :-0.3111   Median :-0.1420   Median :-0.2115  \n",
       " Mean   : 0.0000   Mean   : 0.0000   Mean   : 0.0000   Mean   : 0.0000  \n",
       " 3rd Qu.: 0.2903   3rd Qu.: 0.3091   3rd Qu.: 0.5136   3rd Qu.: 0.2666  \n",
       " Max.   : 4.2099   Max.   : 4.2210   Max.   : 3.5303   Max.   : 4.1639  \n",
       "   PliegueAbd        PliegueSup        tpcgrasa1         tpcgrasa2      \n",
       " Min.   :-1.4276   Min.   :-1.4114   Min.   :-1.7244   Min.   :-1.8740  \n",
       " 1st Qu.:-0.6683   1st Qu.:-0.6902   1st Qu.:-0.7576   1st Qu.:-0.7022  \n",
       " Median :-0.1420   Median :-0.2798   Median :-0.1778   Median :-0.2993  \n",
       " Mean   : 0.0000   Mean   : 0.0000   Mean   : 0.0000   Mean   : 0.0000  \n",
       " 3rd Qu.: 0.4030   3rd Qu.: 0.4486   3rd Qu.: 0.6469   3rd Qu.: 0.6031  \n",
       " Max.   : 2.7752   Max.   : 3.3965   Max.   : 2.5880   Max.   : 3.0296  \n",
       "     PerCue            PerCin        \n",
       " Min.   :-2.2056   Min.   :-1.83321  \n",
       " 1st Qu.:-0.6560   1st Qu.:-0.66857  \n",
       " Median : 0.2738   Median : 0.07256  \n",
       " Mean   : 0.0000   Mean   : 0.00000  \n",
       " 3rd Qu.: 0.6871   3rd Qu.: 0.65488  \n",
       " Max.   : 2.0645   Max.   : 3.03710  "
      ]
     },
     "metadata": {},
     "output_type": "display_data"
    }
   ],
   "source": [
    "handle_physical <- scale(handle_physical, center = TRUE, scale = TRUE)\n",
    "summary(handle_physical)"
   ]
  },
  {
   "cell_type": "markdown",
   "metadata": {},
   "source": [
    "We export the .csv with the data transformed."
   ]
  },
  {
   "cell_type": "code",
   "execution_count": 15,
   "metadata": {},
   "outputs": [],
   "source": [
    "write.csv(handle_physical, file=\"handle_physical_transformed_for_multiple_linear_regression.csv\", row.names = F)"
   ]
  },
  {
   "cell_type": "markdown",
   "metadata": {},
   "source": [
    "## References <a class=\"anchor\" id=\"ref\"></a>"
   ]
  },
  {
   "cell_type": "markdown",
   "metadata": {},
   "source": [
    "* [Returning to the index of contents](#index)"
   ]
  },
  {
   "cell_type": "markdown",
   "metadata": {},
   "source": [
    "[1] Kuhn, M. (2019) Zero-and near zero-variance predictors. Available at: https://topepo.github.io/caret/pre-processing.html#zero--and-near-zero-variance-predictors (Accessed: April 20, 2020).<a class=\"anchor\" id=\"kuhn2019\"></a>\n",
    "\n",
    "[2] Kuhn, M. (2019) Linear dependencies. Available at: https://topepo.github.io/caret/pre-processing.html#linear-dependencies (Accessed: April 20, 2020).<a class=\"anchor\" id=\"kuhn2019b\"></a>"
   ]
  }
 ],
 "metadata": {
  "kernelspec": {
   "display_name": "R",
   "language": "R",
   "name": "ir"
  },
  "language_info": {
   "codemirror_mode": "r",
   "file_extension": ".r",
   "mimetype": "text/x-r-source",
   "name": "R",
   "pygments_lexer": "r",
   "version": "3.6.1"
  }
 },
 "nbformat": 4,
 "nbformat_minor": 4
}
