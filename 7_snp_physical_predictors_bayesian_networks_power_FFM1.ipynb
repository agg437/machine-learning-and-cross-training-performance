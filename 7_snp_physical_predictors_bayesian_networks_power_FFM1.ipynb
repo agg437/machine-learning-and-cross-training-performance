{
 "cells": [
  {
   "cell_type": "markdown",
   "metadata": {},
   "source": [
    "# <p style=\"text-align: justify;\"><div class=\"alert alert-info\" role=\"alert\">Bayesian Networks: tabu algorithm</div></p>\n",
    "\n",
    "## `Ana González Guerra` \n",
    "\n",
    "### ` Student of the master in Data Science at the University of Cantabria` "
   ]
  },
  {
   "cell_type": "markdown",
   "metadata": {},
   "source": [
    "## Index<a class=\"anchor\" id=\"index\"></a>\n",
    "* [Loading data](#1)\n",
    "    * [Genetic predictors](#3)\n",
    "    * [Physical predictors](#5)\n",
    "    * [Target variables](#4)\n",
    "* [Construction of the Bayesian network using the tabu algorithm](#2)\n",
    "* [Conditional probabilities](#6)\n",
    "    * [Conditional probabilities for  W1.2MedDifWRelFFM1Bin = 0](#7)\n",
    "    * [Conditional probabilities for  W1.2MedDifWRelFFM1Bin = 1](#8)"
   ]
  },
  {
   "cell_type": "markdown",
   "metadata": {},
   "source": [
    "In this notebook we will use the snp related to the target variable ('rs11144134','rs7191721','rs6968554','rs1800497', 'rs1572312') obtained in the notebook 6_snp_bayesian_networks_power_FFM1 along with the physical predictors."
   ]
  },
  {
   "cell_type": "markdown",
   "metadata": {},
   "source": [
    "## Loading data <a class=\"anchor\" id=\"1\"></a>\n",
    "\n",
    "* [Returning to the index of contents](#index)"
   ]
  },
  {
   "cell_type": "markdown",
   "metadata": {},
   "source": [
    "### Genetic predictors <a class=\"anchor\" id=\"3\"></a>\n",
    "\n",
    "* [Returning to the index of contents](#index)"
   ]
  },
  {
   "cell_type": "code",
   "execution_count": 1,
   "metadata": {
    "scrolled": false
   },
   "outputs": [
    {
     "data": {
      "text/html": [
       "<table>\n",
       "<thead><tr><th scope=col>rs10034661</th><th scope=col>rs10063949</th><th scope=col>rs1024610</th><th scope=col>rs1024611</th><th scope=col>rs1042713</th><th scope=col>rs1045485</th><th scope=col>rs10491003</th><th scope=col>rs1049305</th><th scope=col>rs1049434</th><th scope=col>rs10497520</th><th scope=col>...</th><th scope=col>rs8111989</th><th scope=col>rs8192678</th><th scope=col>rs824205</th><th scope=col>rs833070</th><th scope=col>rs884736</th><th scope=col>rs921943</th><th scope=col>rs9469199</th><th scope=col>rs970547</th><th scope=col>rs9902453</th><th scope=col>rs9939609</th></tr></thead>\n",
       "<tbody>\n",
       "\t<tr><td>G:G</td><td>C:T</td><td>A:T</td><td>T:T</td><td>A:A</td><td>C:G</td><td>G:G</td><td>C:G</td><td>A:T</td><td>C:T</td><td>...</td><td>C:T</td><td>A:G</td><td>G:G</td><td>A:G</td><td>C:T</td><td>A:G</td><td>A:G</td><td>A:A</td><td>A:G</td><td>A:A</td></tr>\n",
       "\t<tr><td>G:G</td><td>C:T</td><td>A:T</td><td>C:T</td><td>A:G</td><td>G:G</td><td>G:G</td><td>G:G</td><td>A:A</td><td>C:C</td><td>...</td><td>C:T</td><td>A:G</td><td>A:G</td><td>A:G</td><td>C:T</td><td>A:G</td><td>G:G</td><td>A:G</td><td>A:G</td><td>T:T</td></tr>\n",
       "\t<tr><td>G:G</td><td>T:T</td><td>A:T</td><td>T:T</td><td>A:G</td><td>G:G</td><td>G:G</td><td>C:G</td><td>A:A</td><td>C:C</td><td>...</td><td>C:T</td><td>A:G</td><td>G:G</td><td>A:G</td><td>C:T</td><td>A:A</td><td>G:G</td><td>A:G</td><td>A:G</td><td>A:A</td></tr>\n",
       "\t<tr><td>G:G</td><td>T:T</td><td>T:T</td><td>C:T</td><td>A:G</td><td>G:G</td><td>G:G</td><td>C:C</td><td>A:T</td><td>C:C</td><td>...</td><td>C:T</td><td>A:G</td><td>G:G</td><td>A:G</td><td>C:T</td><td>A:G</td><td>G:G</td><td>A:A</td><td>A:A</td><td>A:A</td></tr>\n",
       "\t<tr><td>G:G</td><td>C:T</td><td>T:T</td><td>C:T</td><td>G:G</td><td>C:C</td><td>G:G</td><td>C:G</td><td>T:T</td><td>C:C</td><td>...</td><td>C:T</td><td>A:G</td><td>G:G</td><td>G:G</td><td>T:T</td><td>G:G</td><td>G:G</td><td>A:A</td><td>A:G</td><td>A:T</td></tr>\n",
       "\t<tr><td>G:G</td><td>C:T</td><td>T:T</td><td>C:T</td><td>A:G</td><td>G:G</td><td>G:G</td><td>C:G</td><td>A:T</td><td>C:C</td><td>...</td><td>C:T</td><td>A:G</td><td>G:G</td><td>G:G</td><td>C:T</td><td>A:G</td><td>G:G</td><td>A:G</td><td>G:G</td><td>T:T</td></tr>\n",
       "</tbody>\n",
       "</table>\n"
      ],
      "text/latex": [
       "\\begin{tabular}{r|llllllllllllllllllllllllllllllllllllllllllllllllllllllllllllllllllllllllllllllllllllllllllllllllllllllllllllllllllllllllllllllllllllllllllllllllllllllllllllllllllllllllllllllllll}\n",
       " rs10034661 & rs10063949 & rs1024610 & rs1024611 & rs1042713 & rs1045485 & rs10491003 & rs1049305 & rs1049434 & rs10497520 & ... & rs8111989 & rs8192678 & rs824205 & rs833070 & rs884736 & rs921943 & rs9469199 & rs970547 & rs9902453 & rs9939609\\\\\n",
       "\\hline\n",
       "\t G:G & C:T & A:T & T:T & A:A & C:G & G:G & C:G & A:T & C:T & ... & C:T & A:G & G:G & A:G & C:T & A:G & A:G & A:A & A:G & A:A\\\\\n",
       "\t G:G & C:T & A:T & C:T & A:G & G:G & G:G & G:G & A:A & C:C & ... & C:T & A:G & A:G & A:G & C:T & A:G & G:G & A:G & A:G & T:T\\\\\n",
       "\t G:G & T:T & A:T & T:T & A:G & G:G & G:G & C:G & A:A & C:C & ... & C:T & A:G & G:G & A:G & C:T & A:A & G:G & A:G & A:G & A:A\\\\\n",
       "\t G:G & T:T & T:T & C:T & A:G & G:G & G:G & C:C & A:T & C:C & ... & C:T & A:G & G:G & A:G & C:T & A:G & G:G & A:A & A:A & A:A\\\\\n",
       "\t G:G & C:T & T:T & C:T & G:G & C:C & G:G & C:G & T:T & C:C & ... & C:T & A:G & G:G & G:G & T:T & G:G & G:G & A:A & A:G & A:T\\\\\n",
       "\t G:G & C:T & T:T & C:T & A:G & G:G & G:G & C:G & A:T & C:C & ... & C:T & A:G & G:G & G:G & C:T & A:G & G:G & A:G & G:G & T:T\\\\\n",
       "\\end{tabular}\n"
      ],
      "text/markdown": [
       "\n",
       "| rs10034661 | rs10063949 | rs1024610 | rs1024611 | rs1042713 | rs1045485 | rs10491003 | rs1049305 | rs1049434 | rs10497520 | ... | rs8111989 | rs8192678 | rs824205 | rs833070 | rs884736 | rs921943 | rs9469199 | rs970547 | rs9902453 | rs9939609 |\n",
       "|---|---|---|---|---|---|---|---|---|---|---|---|---|---|---|---|---|---|---|---|---|\n",
       "| G:G | C:T | A:T | T:T | A:A | C:G | G:G | C:G | A:T | C:T | ... | C:T | A:G | G:G | A:G | C:T | A:G | A:G | A:A | A:G | A:A |\n",
       "| G:G | C:T | A:T | C:T | A:G | G:G | G:G | G:G | A:A | C:C | ... | C:T | A:G | A:G | A:G | C:T | A:G | G:G | A:G | A:G | T:T |\n",
       "| G:G | T:T | A:T | T:T | A:G | G:G | G:G | C:G | A:A | C:C | ... | C:T | A:G | G:G | A:G | C:T | A:A | G:G | A:G | A:G | A:A |\n",
       "| G:G | T:T | T:T | C:T | A:G | G:G | G:G | C:C | A:T | C:C | ... | C:T | A:G | G:G | A:G | C:T | A:G | G:G | A:A | A:A | A:A |\n",
       "| G:G | C:T | T:T | C:T | G:G | C:C | G:G | C:G | T:T | C:C | ... | C:T | A:G | G:G | G:G | T:T | G:G | G:G | A:A | A:G | A:T |\n",
       "| G:G | C:T | T:T | C:T | A:G | G:G | G:G | C:G | A:T | C:C | ... | C:T | A:G | G:G | G:G | C:T | A:G | G:G | A:G | G:G | T:T |\n",
       "\n"
      ],
      "text/plain": [
       "  rs10034661 rs10063949 rs1024610 rs1024611 rs1042713 rs1045485 rs10491003\n",
       "1 G:G        C:T        A:T       T:T       A:A       C:G       G:G       \n",
       "2 G:G        C:T        A:T       C:T       A:G       G:G       G:G       \n",
       "3 G:G        T:T        A:T       T:T       A:G       G:G       G:G       \n",
       "4 G:G        T:T        T:T       C:T       A:G       G:G       G:G       \n",
       "5 G:G        C:T        T:T       C:T       G:G       C:C       G:G       \n",
       "6 G:G        C:T        T:T       C:T       A:G       G:G       G:G       \n",
       "  rs1049305 rs1049434 rs10497520 ... rs8111989 rs8192678 rs824205 rs833070\n",
       "1 C:G       A:T       C:T        ... C:T       A:G       G:G      A:G     \n",
       "2 G:G       A:A       C:C        ... C:T       A:G       A:G      A:G     \n",
       "3 C:G       A:A       C:C        ... C:T       A:G       G:G      A:G     \n",
       "4 C:C       A:T       C:C        ... C:T       A:G       G:G      A:G     \n",
       "5 C:G       T:T       C:C        ... C:T       A:G       G:G      G:G     \n",
       "6 C:G       A:T       C:C        ... C:T       A:G       G:G      G:G     \n",
       "  rs884736 rs921943 rs9469199 rs970547 rs9902453 rs9939609\n",
       "1 C:T      A:G      A:G       A:A      A:G       A:A      \n",
       "2 C:T      A:G      G:G       A:G      A:G       T:T      \n",
       "3 C:T      A:A      G:G       A:G      A:G       A:A      \n",
       "4 C:T      A:G      G:G       A:A      A:A       A:A      \n",
       "5 T:T      G:G      G:G       A:A      A:G       A:T      \n",
       "6 C:T      A:G      G:G       A:G      G:G       T:T      "
      ]
     },
     "metadata": {},
     "output_type": "display_data"
    }
   ],
   "source": [
    "handle_genetic <- read.csv('handle_genetic_fusion_28_04_20.csv')\n",
    "head(handle_genetic)"
   ]
  },
  {
   "cell_type": "code",
   "execution_count": 2,
   "metadata": {
    "scrolled": true
   },
   "outputs": [
    {
     "data": {
      "text/html": [
       "<table>\n",
       "<thead><tr><th scope=col>rs11144134</th><th scope=col>rs7191721</th><th scope=col>rs6968554</th><th scope=col>rs1800497</th><th scope=col>rs1572312</th></tr></thead>\n",
       "<tbody>\n",
       "\t<tr><td>C:T</td><td>G:G</td><td>A:A</td><td>C:C</td><td>C:C</td></tr>\n",
       "\t<tr><td>T:T</td><td>A:A</td><td>G:G</td><td>C:C</td><td>C:C</td></tr>\n",
       "\t<tr><td>C:T</td><td>G:G</td><td>G:G</td><td>C:T</td><td>C:C</td></tr>\n",
       "\t<tr><td>T:T</td><td>A:G</td><td>A:A</td><td>C:T</td><td>C:C</td></tr>\n",
       "\t<tr><td>T:T</td><td>A:G</td><td>A:G</td><td>C:C</td><td>C:C</td></tr>\n",
       "\t<tr><td>T:T</td><td>A:G</td><td>A:G</td><td>C:T</td><td>C:C</td></tr>\n",
       "</tbody>\n",
       "</table>\n"
      ],
      "text/latex": [
       "\\begin{tabular}{r|lllll}\n",
       " rs11144134 & rs7191721 & rs6968554 & rs1800497 & rs1572312\\\\\n",
       "\\hline\n",
       "\t C:T & G:G & A:A & C:C & C:C\\\\\n",
       "\t T:T & A:A & G:G & C:C & C:C\\\\\n",
       "\t C:T & G:G & G:G & C:T & C:C\\\\\n",
       "\t T:T & A:G & A:A & C:T & C:C\\\\\n",
       "\t T:T & A:G & A:G & C:C & C:C\\\\\n",
       "\t T:T & A:G & A:G & C:T & C:C\\\\\n",
       "\\end{tabular}\n"
      ],
      "text/markdown": [
       "\n",
       "| rs11144134 | rs7191721 | rs6968554 | rs1800497 | rs1572312 |\n",
       "|---|---|---|---|---|\n",
       "| C:T | G:G | A:A | C:C | C:C |\n",
       "| T:T | A:A | G:G | C:C | C:C |\n",
       "| C:T | G:G | G:G | C:T | C:C |\n",
       "| T:T | A:G | A:A | C:T | C:C |\n",
       "| T:T | A:G | A:G | C:C | C:C |\n",
       "| T:T | A:G | A:G | C:T | C:C |\n",
       "\n"
      ],
      "text/plain": [
       "  rs11144134 rs7191721 rs6968554 rs1800497 rs1572312\n",
       "1 C:T        G:G       A:A       C:C       C:C      \n",
       "2 T:T        A:A       G:G       C:C       C:C      \n",
       "3 C:T        G:G       G:G       C:T       C:C      \n",
       "4 T:T        A:G       A:A       C:T       C:C      \n",
       "5 T:T        A:G       A:G       C:C       C:C      \n",
       "6 T:T        A:G       A:G       C:T       C:C      "
      ]
     },
     "metadata": {},
     "output_type": "display_data"
    }
   ],
   "source": [
    "handle_genetic <- handle_genetic[, c('rs11144134','rs7191721','rs6968554','rs1800497','rs1572312' )]\n",
    "head(handle_genetic)"
   ]
  },
  {
   "cell_type": "markdown",
   "metadata": {},
   "source": [
    "### Physical predictors <a class=\"anchor\" id=\"5\"></a>\n",
    "\n",
    "* [Returning to the index of contents](#index)"
   ]
  },
  {
   "cell_type": "code",
   "execution_count": 3,
   "metadata": {
    "scrolled": false
   },
   "outputs": [
    {
     "data": {
      "text/html": [
       "<table>\n",
       "<thead><tr><th></th><th scope=col>W1Fc</th><th scope=col>W1Ox</th><th scope=col>W1Lac</th><th scope=col>W1tFc</th><th scope=col>W1tOx</th><th scope=col>W1tLac</th><th scope=col>W1tBorg</th><th scope=col>W1t5Fc</th><th scope=col>W1t5Ox</th><th scope=col>W1t5Lac</th><th scope=col>...</th><th scope=col>PerCue</th><th scope=col>PerCin</th><th scope=col>FM1</th><th scope=col>FM2</th><th scope=col>X.FFM1</th><th scope=col>X.FFM2</th><th scope=col>FFM1</th><th scope=col>FFM2</th><th scope=col>FFMI1</th><th scope=col>FFMI2</th></tr></thead>\n",
       "<tbody>\n",
       "\t<tr><th scope=row>0</th><td>109      </td><td>92       </td><td>1.9      </td><td>133      </td><td>95       </td><td>2.3      </td><td> 8       </td><td> 59      </td><td>90       </td><td> 4.7     </td><td>...      </td><td>31.0     </td><td>65.0     </td><td> 7.883768</td><td> 8.432778</td><td>83.04566 </td><td>81.86499 </td><td>38.61623 </td><td>38.06722 </td><td>16.71409 </td><td>16.47646 </td></tr>\n",
       "\t<tr><th scope=row>4</th><td> 84      </td><td>90       </td><td>3.4      </td><td>151      </td><td>82       </td><td>4.3      </td><td> 8       </td><td> 74      </td><td>97       </td><td> 6.3     </td><td>...      </td><td>36.0     </td><td>67.5     </td><td> 6.914187</td><td>10.373099</td><td>87.86985 </td><td>81.80158 </td><td>50.08581 </td><td>46.62690 </td><td>17.33073 </td><td>16.13388 </td></tr>\n",
       "\t<tr><th scope=row>7</th><td>136      </td><td>98       </td><td>1.3      </td><td>164      </td><td>97       </td><td>2.8      </td><td>10       </td><td>121      </td><td>97       </td><td> 9.0     </td><td>...      </td><td>31.0     </td><td>65.5     </td><td> 4.917710</td><td>10.003592</td><td>90.45105 </td><td>80.57555 </td><td>46.58229 </td><td>41.49641 </td><td>17.74969 </td><td>15.81177 </td></tr>\n",
       "\t<tr><th scope=row>8</th><td>120      </td><td>97       </td><td>1.8      </td><td>150      </td><td>76       </td><td>4.2      </td><td> 8       </td><td>141      </td><td>98       </td><td> 9.7     </td><td>...      </td><td>35.5     </td><td>68.5     </td><td>11.222758</td><td>14.984471</td><td>81.60204 </td><td>75.43529 </td><td>49.77724 </td><td>46.01553 </td><td>18.50730 </td><td>17.10869 </td></tr>\n",
       "\t<tr><th scope=row>9</th><td> 62      </td><td>97       </td><td>2.8      </td><td>172      </td><td>91       </td><td>4.9      </td><td> 9       </td><td>119      </td><td>88       </td><td>10.8     </td><td>...      </td><td>33.5     </td><td>69.8     </td><td>15.642411</td><td>16.063989</td><td>72.55717 </td><td>71.81756 </td><td>41.35759 </td><td>40.93601 </td><td>16.56689 </td><td>16.39802 </td></tr>\n",
       "\t<tr><th scope=row>11</th><td>103      </td><td>99       </td><td>2.4      </td><td>174      </td><td>96       </td><td>3.6      </td><td>10       </td><td>115      </td><td>99       </td><td> 9.3     </td><td>...      </td><td>35.0     </td><td>69.0     </td><td> 8.131694</td><td>11.411066</td><td>85.73387 </td><td>79.98059 </td><td>48.86831 </td><td>45.58893 </td><td>17.94979 </td><td>16.74525 </td></tr>\n",
       "</tbody>\n",
       "</table>\n"
      ],
      "text/latex": [
       "\\begin{tabular}{r|lllllllllllllllllllllllllllllllllllllllllll}\n",
       "  & W1Fc & W1Ox & W1Lac & W1tFc & W1tOx & W1tLac & W1tBorg & W1t5Fc & W1t5Ox & W1t5Lac & ... & PerCue & PerCin & FM1 & FM2 & X.FFM1 & X.FFM2 & FFM1 & FFM2 & FFMI1 & FFMI2\\\\\n",
       "\\hline\n",
       "\t0 & 109       & 92        & 1.9       & 133       & 95        & 2.3       &  8        &  59       & 90        &  4.7      & ...       & 31.0      & 65.0      &  7.883768 &  8.432778 & 83.04566  & 81.86499  & 38.61623  & 38.06722  & 16.71409  & 16.47646 \\\\\n",
       "\t4 &  84       & 90        & 3.4       & 151       & 82        & 4.3       &  8        &  74       & 97        &  6.3      & ...       & 36.0      & 67.5      &  6.914187 & 10.373099 & 87.86985  & 81.80158  & 50.08581  & 46.62690  & 17.33073  & 16.13388 \\\\\n",
       "\t7 & 136       & 98        & 1.3       & 164       & 97        & 2.8       & 10        & 121       & 97        &  9.0      & ...       & 31.0      & 65.5      &  4.917710 & 10.003592 & 90.45105  & 80.57555  & 46.58229  & 41.49641  & 17.74969  & 15.81177 \\\\\n",
       "\t8 & 120       & 97        & 1.8       & 150       & 76        & 4.2       &  8        & 141       & 98        &  9.7      & ...       & 35.5      & 68.5      & 11.222758 & 14.984471 & 81.60204  & 75.43529  & 49.77724  & 46.01553  & 18.50730  & 17.10869 \\\\\n",
       "\t9 &  62       & 97        & 2.8       & 172       & 91        & 4.9       &  9        & 119       & 88        & 10.8      & ...       & 33.5      & 69.8      & 15.642411 & 16.063989 & 72.55717  & 71.81756  & 41.35759  & 40.93601  & 16.56689  & 16.39802 \\\\\n",
       "\t11 & 103       & 99        & 2.4       & 174       & 96        & 3.6       & 10        & 115       & 99        &  9.3      & ...       & 35.0      & 69.0      &  8.131694 & 11.411066 & 85.73387  & 79.98059  & 48.86831  & 45.58893  & 17.94979  & 16.74525 \\\\\n",
       "\\end{tabular}\n"
      ],
      "text/markdown": [
       "\n",
       "| <!--/--> | W1Fc | W1Ox | W1Lac | W1tFc | W1tOx | W1tLac | W1tBorg | W1t5Fc | W1t5Ox | W1t5Lac | ... | PerCue | PerCin | FM1 | FM2 | X.FFM1 | X.FFM2 | FFM1 | FFM2 | FFMI1 | FFMI2 |\n",
       "|---|---|---|---|---|---|---|---|---|---|---|---|---|---|---|---|---|---|---|---|---|---|\n",
       "| 0 | 109       | 92        | 1.9       | 133       | 95        | 2.3       |  8        |  59       | 90        |  4.7      | ...       | 31.0      | 65.0      |  7.883768 |  8.432778 | 83.04566  | 81.86499  | 38.61623  | 38.06722  | 16.71409  | 16.47646  |\n",
       "| 4 |  84       | 90        | 3.4       | 151       | 82        | 4.3       |  8        |  74       | 97        |  6.3      | ...       | 36.0      | 67.5      |  6.914187 | 10.373099 | 87.86985  | 81.80158  | 50.08581  | 46.62690  | 17.33073  | 16.13388  |\n",
       "| 7 | 136       | 98        | 1.3       | 164       | 97        | 2.8       | 10        | 121       | 97        |  9.0      | ...       | 31.0      | 65.5      |  4.917710 | 10.003592 | 90.45105  | 80.57555  | 46.58229  | 41.49641  | 17.74969  | 15.81177  |\n",
       "| 8 | 120       | 97        | 1.8       | 150       | 76        | 4.2       |  8        | 141       | 98        |  9.7      | ...       | 35.5      | 68.5      | 11.222758 | 14.984471 | 81.60204  | 75.43529  | 49.77724  | 46.01553  | 18.50730  | 17.10869  |\n",
       "| 9 |  62       | 97        | 2.8       | 172       | 91        | 4.9       |  9        | 119       | 88        | 10.8      | ...       | 33.5      | 69.8      | 15.642411 | 16.063989 | 72.55717  | 71.81756  | 41.35759  | 40.93601  | 16.56689  | 16.39802  |\n",
       "| 11 | 103       | 99        | 2.4       | 174       | 96        | 3.6       | 10        | 115       | 99        |  9.3      | ...       | 35.0      | 69.0      |  8.131694 | 11.411066 | 85.73387  | 79.98059  | 48.86831  | 45.58893  | 17.94979  | 16.74525  |\n",
       "\n"
      ],
      "text/plain": [
       "   W1Fc W1Ox W1Lac W1tFc W1tOx W1tLac W1tBorg W1t5Fc W1t5Ox W1t5Lac ... PerCue\n",
       "0  109  92   1.9   133   95    2.3     8       59    90      4.7    ... 31.0  \n",
       "4   84  90   3.4   151   82    4.3     8       74    97      6.3    ... 36.0  \n",
       "7  136  98   1.3   164   97    2.8    10      121    97      9.0    ... 31.0  \n",
       "8  120  97   1.8   150   76    4.2     8      141    98      9.7    ... 35.5  \n",
       "9   62  97   2.8   172   91    4.9     9      119    88     10.8    ... 33.5  \n",
       "11 103  99   2.4   174   96    3.6    10      115    99      9.3    ... 35.0  \n",
       "   PerCin FM1       FM2       X.FFM1   X.FFM2   FFM1     FFM2     FFMI1   \n",
       "0  65.0    7.883768  8.432778 83.04566 81.86499 38.61623 38.06722 16.71409\n",
       "4  67.5    6.914187 10.373099 87.86985 81.80158 50.08581 46.62690 17.33073\n",
       "7  65.5    4.917710 10.003592 90.45105 80.57555 46.58229 41.49641 17.74969\n",
       "8  68.5   11.222758 14.984471 81.60204 75.43529 49.77724 46.01553 18.50730\n",
       "9  69.8   15.642411 16.063989 72.55717 71.81756 41.35759 40.93601 16.56689\n",
       "11 69.0    8.131694 11.411066 85.73387 79.98059 48.86831 45.58893 17.94979\n",
       "   FFMI2   \n",
       "0  16.47646\n",
       "4  16.13388\n",
       "7  15.81177\n",
       "8  17.10869\n",
       "9  16.39802\n",
       "11 16.74525"
      ]
     },
     "metadata": {},
     "output_type": "display_data"
    },
    {
     "data": {
      "text/html": [
       "<ol class=list-inline>\n",
       "\t<li>'W1Fc'</li>\n",
       "\t<li>'W1Ox'</li>\n",
       "\t<li>'W1Lac'</li>\n",
       "\t<li>'W1tFc'</li>\n",
       "\t<li>'W1tOx'</li>\n",
       "\t<li>'W1tLac'</li>\n",
       "\t<li>'W1tBorg'</li>\n",
       "\t<li>'W1t5Fc'</li>\n",
       "\t<li>'W1t5Ox'</li>\n",
       "\t<li>'W1t5Lac'</li>\n",
       "\t<li>'W2tFc'</li>\n",
       "\t<li>'W2tOx'</li>\n",
       "\t<li>'W2tLac'</li>\n",
       "\t<li>'W2tBorg'</li>\n",
       "\t<li>'W2t5Fc'</li>\n",
       "\t<li>'W2t5Ox'</li>\n",
       "\t<li>'W2t5Lac'</li>\n",
       "\t<li>'W2t10Fc'</li>\n",
       "\t<li>'W2t10Ox'</li>\n",
       "\t<li>'W2t10Lac'</li>\n",
       "\t<li>'Sumat'</li>\n",
       "\t<li>'Peso'</li>\n",
       "\t<li>'Edad'</li>\n",
       "\t<li>'Altura'</li>\n",
       "\t<li>'PlieguePec'</li>\n",
       "\t<li>'PliegueAx'</li>\n",
       "\t<li>'PliegueTri'</li>\n",
       "\t<li>'PliegueSub'</li>\n",
       "\t<li>'PliegueAbd'</li>\n",
       "\t<li>'PliegueSup'</li>\n",
       "\t<li>'PliegueMus'</li>\n",
       "\t<li>'tpcgrasa1'</li>\n",
       "\t<li>'tpcgrasa2'</li>\n",
       "\t<li>'PerCue'</li>\n",
       "\t<li>'PerCin'</li>\n",
       "\t<li>'FM1'</li>\n",
       "\t<li>'FM2'</li>\n",
       "\t<li>'X.FFM1'</li>\n",
       "\t<li>'X.FFM2'</li>\n",
       "\t<li>'FFM1'</li>\n",
       "\t<li>'FFM2'</li>\n",
       "\t<li>'FFMI1'</li>\n",
       "\t<li>'FFMI2'</li>\n",
       "</ol>\n"
      ],
      "text/latex": [
       "\\begin{enumerate*}\n",
       "\\item 'W1Fc'\n",
       "\\item 'W1Ox'\n",
       "\\item 'W1Lac'\n",
       "\\item 'W1tFc'\n",
       "\\item 'W1tOx'\n",
       "\\item 'W1tLac'\n",
       "\\item 'W1tBorg'\n",
       "\\item 'W1t5Fc'\n",
       "\\item 'W1t5Ox'\n",
       "\\item 'W1t5Lac'\n",
       "\\item 'W2tFc'\n",
       "\\item 'W2tOx'\n",
       "\\item 'W2tLac'\n",
       "\\item 'W2tBorg'\n",
       "\\item 'W2t5Fc'\n",
       "\\item 'W2t5Ox'\n",
       "\\item 'W2t5Lac'\n",
       "\\item 'W2t10Fc'\n",
       "\\item 'W2t10Ox'\n",
       "\\item 'W2t10Lac'\n",
       "\\item 'Sumat'\n",
       "\\item 'Peso'\n",
       "\\item 'Edad'\n",
       "\\item 'Altura'\n",
       "\\item 'PlieguePec'\n",
       "\\item 'PliegueAx'\n",
       "\\item 'PliegueTri'\n",
       "\\item 'PliegueSub'\n",
       "\\item 'PliegueAbd'\n",
       "\\item 'PliegueSup'\n",
       "\\item 'PliegueMus'\n",
       "\\item 'tpcgrasa1'\n",
       "\\item 'tpcgrasa2'\n",
       "\\item 'PerCue'\n",
       "\\item 'PerCin'\n",
       "\\item 'FM1'\n",
       "\\item 'FM2'\n",
       "\\item 'X.FFM1'\n",
       "\\item 'X.FFM2'\n",
       "\\item 'FFM1'\n",
       "\\item 'FFM2'\n",
       "\\item 'FFMI1'\n",
       "\\item 'FFMI2'\n",
       "\\end{enumerate*}\n"
      ],
      "text/markdown": [
       "1. 'W1Fc'\n",
       "2. 'W1Ox'\n",
       "3. 'W1Lac'\n",
       "4. 'W1tFc'\n",
       "5. 'W1tOx'\n",
       "6. 'W1tLac'\n",
       "7. 'W1tBorg'\n",
       "8. 'W1t5Fc'\n",
       "9. 'W1t5Ox'\n",
       "10. 'W1t5Lac'\n",
       "11. 'W2tFc'\n",
       "12. 'W2tOx'\n",
       "13. 'W2tLac'\n",
       "14. 'W2tBorg'\n",
       "15. 'W2t5Fc'\n",
       "16. 'W2t5Ox'\n",
       "17. 'W2t5Lac'\n",
       "18. 'W2t10Fc'\n",
       "19. 'W2t10Ox'\n",
       "20. 'W2t10Lac'\n",
       "21. 'Sumat'\n",
       "22. 'Peso'\n",
       "23. 'Edad'\n",
       "24. 'Altura'\n",
       "25. 'PlieguePec'\n",
       "26. 'PliegueAx'\n",
       "27. 'PliegueTri'\n",
       "28. 'PliegueSub'\n",
       "29. 'PliegueAbd'\n",
       "30. 'PliegueSup'\n",
       "31. 'PliegueMus'\n",
       "32. 'tpcgrasa1'\n",
       "33. 'tpcgrasa2'\n",
       "34. 'PerCue'\n",
       "35. 'PerCin'\n",
       "36. 'FM1'\n",
       "37. 'FM2'\n",
       "38. 'X.FFM1'\n",
       "39. 'X.FFM2'\n",
       "40. 'FFM1'\n",
       "41. 'FFM2'\n",
       "42. 'FFMI1'\n",
       "43. 'FFMI2'\n",
       "\n",
       "\n"
      ],
      "text/plain": [
       " [1] \"W1Fc\"       \"W1Ox\"       \"W1Lac\"      \"W1tFc\"      \"W1tOx\"     \n",
       " [6] \"W1tLac\"     \"W1tBorg\"    \"W1t5Fc\"     \"W1t5Ox\"     \"W1t5Lac\"   \n",
       "[11] \"W2tFc\"      \"W2tOx\"      \"W2tLac\"     \"W2tBorg\"    \"W2t5Fc\"    \n",
       "[16] \"W2t5Ox\"     \"W2t5Lac\"    \"W2t10Fc\"    \"W2t10Ox\"    \"W2t10Lac\"  \n",
       "[21] \"Sumat\"      \"Peso\"       \"Edad\"       \"Altura\"     \"PlieguePec\"\n",
       "[26] \"PliegueAx\"  \"PliegueTri\" \"PliegueSub\" \"PliegueAbd\" \"PliegueSup\"\n",
       "[31] \"PliegueMus\" \"tpcgrasa1\"  \"tpcgrasa2\"  \"PerCue\"     \"PerCin\"    \n",
       "[36] \"FM1\"        \"FM2\"        \"X.FFM1\"     \"X.FFM2\"     \"FFM1\"      \n",
       "[41] \"FFM2\"       \"FFMI1\"      \"FFMI2\"     "
      ]
     },
     "metadata": {},
     "output_type": "display_data"
    }
   ],
   "source": [
    "handle_physical <- read.csv('handle_physical_fusion_31_03_20.csv',row.name = 1)\n",
    "head(handle_physical)\n",
    "names(handle_physical)"
   ]
  },
  {
   "cell_type": "markdown",
   "metadata": {},
   "source": [
    "To avoid interference with the predictors related to FFM1 and similars, we eliminated the predictors that in their name contain the FM substring."
   ]
  },
  {
   "cell_type": "code",
   "execution_count": 4,
   "metadata": {
    "scrolled": false
   },
   "outputs": [
    {
     "data": {
      "text/html": [
       "<ol class=list-inline>\n",
       "\t<li>'W1Fc'</li>\n",
       "\t<li>'W1Ox'</li>\n",
       "\t<li>'W1Lac'</li>\n",
       "\t<li>'W1tFc'</li>\n",
       "\t<li>'W1tOx'</li>\n",
       "\t<li>'W1tLac'</li>\n",
       "\t<li>'W1tBorg'</li>\n",
       "\t<li>'W1t5Fc'</li>\n",
       "\t<li>'W1t5Ox'</li>\n",
       "\t<li>'W1t5Lac'</li>\n",
       "\t<li>'W2tFc'</li>\n",
       "\t<li>'W2tOx'</li>\n",
       "\t<li>'W2tLac'</li>\n",
       "\t<li>'W2tBorg'</li>\n",
       "\t<li>'W2t5Fc'</li>\n",
       "\t<li>'W2t5Ox'</li>\n",
       "\t<li>'W2t5Lac'</li>\n",
       "\t<li>'W2t10Fc'</li>\n",
       "\t<li>'W2t10Ox'</li>\n",
       "\t<li>'W2t10Lac'</li>\n",
       "\t<li>'Sumat'</li>\n",
       "\t<li>'Peso'</li>\n",
       "\t<li>'Edad'</li>\n",
       "\t<li>'Altura'</li>\n",
       "\t<li>'PlieguePec'</li>\n",
       "\t<li>'PliegueAx'</li>\n",
       "\t<li>'PliegueTri'</li>\n",
       "\t<li>'PliegueSub'</li>\n",
       "\t<li>'PliegueAbd'</li>\n",
       "\t<li>'PliegueSup'</li>\n",
       "\t<li>'PliegueMus'</li>\n",
       "\t<li>'tpcgrasa1'</li>\n",
       "\t<li>'tpcgrasa2'</li>\n",
       "\t<li>'PerCue'</li>\n",
       "\t<li>'PerCin'</li>\n",
       "</ol>\n"
      ],
      "text/latex": [
       "\\begin{enumerate*}\n",
       "\\item 'W1Fc'\n",
       "\\item 'W1Ox'\n",
       "\\item 'W1Lac'\n",
       "\\item 'W1tFc'\n",
       "\\item 'W1tOx'\n",
       "\\item 'W1tLac'\n",
       "\\item 'W1tBorg'\n",
       "\\item 'W1t5Fc'\n",
       "\\item 'W1t5Ox'\n",
       "\\item 'W1t5Lac'\n",
       "\\item 'W2tFc'\n",
       "\\item 'W2tOx'\n",
       "\\item 'W2tLac'\n",
       "\\item 'W2tBorg'\n",
       "\\item 'W2t5Fc'\n",
       "\\item 'W2t5Ox'\n",
       "\\item 'W2t5Lac'\n",
       "\\item 'W2t10Fc'\n",
       "\\item 'W2t10Ox'\n",
       "\\item 'W2t10Lac'\n",
       "\\item 'Sumat'\n",
       "\\item 'Peso'\n",
       "\\item 'Edad'\n",
       "\\item 'Altura'\n",
       "\\item 'PlieguePec'\n",
       "\\item 'PliegueAx'\n",
       "\\item 'PliegueTri'\n",
       "\\item 'PliegueSub'\n",
       "\\item 'PliegueAbd'\n",
       "\\item 'PliegueSup'\n",
       "\\item 'PliegueMus'\n",
       "\\item 'tpcgrasa1'\n",
       "\\item 'tpcgrasa2'\n",
       "\\item 'PerCue'\n",
       "\\item 'PerCin'\n",
       "\\end{enumerate*}\n"
      ],
      "text/markdown": [
       "1. 'W1Fc'\n",
       "2. 'W1Ox'\n",
       "3. 'W1Lac'\n",
       "4. 'W1tFc'\n",
       "5. 'W1tOx'\n",
       "6. 'W1tLac'\n",
       "7. 'W1tBorg'\n",
       "8. 'W1t5Fc'\n",
       "9. 'W1t5Ox'\n",
       "10. 'W1t5Lac'\n",
       "11. 'W2tFc'\n",
       "12. 'W2tOx'\n",
       "13. 'W2tLac'\n",
       "14. 'W2tBorg'\n",
       "15. 'W2t5Fc'\n",
       "16. 'W2t5Ox'\n",
       "17. 'W2t5Lac'\n",
       "18. 'W2t10Fc'\n",
       "19. 'W2t10Ox'\n",
       "20. 'W2t10Lac'\n",
       "21. 'Sumat'\n",
       "22. 'Peso'\n",
       "23. 'Edad'\n",
       "24. 'Altura'\n",
       "25. 'PlieguePec'\n",
       "26. 'PliegueAx'\n",
       "27. 'PliegueTri'\n",
       "28. 'PliegueSub'\n",
       "29. 'PliegueAbd'\n",
       "30. 'PliegueSup'\n",
       "31. 'PliegueMus'\n",
       "32. 'tpcgrasa1'\n",
       "33. 'tpcgrasa2'\n",
       "34. 'PerCue'\n",
       "35. 'PerCin'\n",
       "\n",
       "\n"
      ],
      "text/plain": [
       " [1] \"W1Fc\"       \"W1Ox\"       \"W1Lac\"      \"W1tFc\"      \"W1tOx\"     \n",
       " [6] \"W1tLac\"     \"W1tBorg\"    \"W1t5Fc\"     \"W1t5Ox\"     \"W1t5Lac\"   \n",
       "[11] \"W2tFc\"      \"W2tOx\"      \"W2tLac\"     \"W2tBorg\"    \"W2t5Fc\"    \n",
       "[16] \"W2t5Ox\"     \"W2t5Lac\"    \"W2t10Fc\"    \"W2t10Ox\"    \"W2t10Lac\"  \n",
       "[21] \"Sumat\"      \"Peso\"       \"Edad\"       \"Altura\"     \"PlieguePec\"\n",
       "[26] \"PliegueAx\"  \"PliegueTri\" \"PliegueSub\" \"PliegueAbd\" \"PliegueSup\"\n",
       "[31] \"PliegueMus\" \"tpcgrasa1\"  \"tpcgrasa2\"  \"PerCue\"     \"PerCin\"    "
      ]
     },
     "metadata": {},
     "output_type": "display_data"
    }
   ],
   "source": [
    "handle_physical <- handle_physical[!grepl('FM',names(handle_physical))] \n",
    "names(handle_physical)"
   ]
  },
  {
   "cell_type": "markdown",
   "metadata": {},
   "source": [
    "To avoid redundances between fat folds predictors, we eliminated Sumat."
   ]
  },
  {
   "cell_type": "code",
   "execution_count": 5,
   "metadata": {},
   "outputs": [],
   "source": [
    "handle_physical <- handle_physical[!grepl('Sumat',names(handle_physical))] "
   ]
  },
  {
   "cell_type": "code",
   "execution_count": 6,
   "metadata": {},
   "outputs": [
    {
     "data": {
      "text/plain": [
       "      W1Fc             W1Ox           W1Lac           W1tFc      \n",
       " Min.   : 62.00   Min.   :69.00   Min.   :0.800   Min.   : 88.0  \n",
       " 1st Qu.: 90.25   1st Qu.:91.00   1st Qu.:1.500   1st Qu.:157.8  \n",
       " Median :105.50   Median :97.00   Median :2.000   Median :171.5  \n",
       " Mean   :106.87   Mean   :94.34   Mean   :2.123   Mean   :164.2  \n",
       " 3rd Qu.:120.75   3rd Qu.:98.00   3rd Qu.:2.675   3rd Qu.:176.8  \n",
       " Max.   :162.00   Max.   :99.00   Max.   :4.500   Max.   :194.0  \n",
       "     W1tOx           W1tLac         W1tBorg           W1t5Fc          W1t5Ox  \n",
       " Min.   :61.00   Min.   :1.700   Min.   : 7.000   Min.   : 59.0   Min.   :51  \n",
       " 1st Qu.:87.00   1st Qu.:3.400   1st Qu.: 8.250   1st Qu.:111.5   1st Qu.:95  \n",
       " Median :92.00   Median :3.900   Median : 9.000   Median :122.5   Median :98  \n",
       " Mean   :90.61   Mean   :3.987   Mean   : 9.171   Mean   :120.8   Mean   :95  \n",
       " 3rd Qu.:97.00   3rd Qu.:4.675   3rd Qu.:10.000   3rd Qu.:133.0   3rd Qu.:98  \n",
       " Max.   :99.00   Max.   :6.700   Max.   :10.000   Max.   :155.0   Max.   :99  \n",
       "    W1t5Lac          W2tFc           W2tOx           W2tLac     \n",
       " Min.   : 4.70   Min.   : 66.0   Min.   :45.00   Min.   : 5.60  \n",
       " 1st Qu.: 9.70   1st Qu.:157.2   1st Qu.:80.00   1st Qu.:11.70  \n",
       " Median :11.75   Median :167.5   Median :89.50   Median :12.90  \n",
       " Mean   :11.60   Mean   :159.4   Mean   :86.66   Mean   :13.10  \n",
       " 3rd Qu.:13.40   3rd Qu.:172.0   3rd Qu.:97.00   3rd Qu.:14.97  \n",
       " Max.   :16.80   Max.   :187.0   Max.   :99.00   Max.   :18.60  \n",
       "    W2tBorg           W2t5Fc          W2t5Ox         W2t5Lac     \n",
       " Min.   : 6.000   Min.   : 62.0   Min.   :78.00   Min.   : 7.40  \n",
       " 1st Qu.: 9.000   1st Qu.: 99.0   1st Qu.:97.00   1st Qu.:13.25  \n",
       " Median :10.000   Median :117.5   Median :97.00   Median :14.80  \n",
       " Mean   : 9.549   Mean   :112.7   Mean   :95.35   Mean   :14.70  \n",
       " 3rd Qu.:10.000   3rd Qu.:126.0   3rd Qu.:97.00   3rd Qu.:16.25  \n",
       " Max.   :10.000   Max.   :151.0   Max.   :99.00   Max.   :19.60  \n",
       "    W2t10Fc         W2t10Ox         W2t10Lac          Peso       \n",
       " Min.   : 49.0   Min.   :66.00   Min.   : 6.90   Min.   : 44.00  \n",
       " 1st Qu.: 95.0   1st Qu.:95.25   1st Qu.:12.62   1st Qu.: 63.23  \n",
       " Median :108.5   Median :97.00   Median :14.60   Median : 74.75  \n",
       " Mean   :106.4   Mean   :95.32   Mean   :14.19   Mean   : 73.58  \n",
       " 3rd Qu.:117.8   3rd Qu.:97.00   3rd Qu.:15.50   3rd Qu.: 82.00  \n",
       " Max.   :149.0   Max.   :99.00   Max.   :19.00   Max.   :111.00  \n",
       "      Edad           Altura        PlieguePec       PliegueAx     \n",
       " Min.   :20.00   Min.   :148.0   Min.   : 2.850   Min.   : 2.600  \n",
       " 1st Qu.:28.00   1st Qu.:169.2   1st Qu.: 5.325   1st Qu.: 5.862  \n",
       " Median :31.00   Median :174.0   Median : 6.775   Median : 7.525  \n",
       " Mean   :32.05   Mean   :173.4   Mean   : 8.656   Mean   : 9.136  \n",
       " 3rd Qu.:36.00   3rd Qu.:179.0   3rd Qu.:10.183   3rd Qu.:10.738  \n",
       " Max.   :44.00   Max.   :192.0   Max.   :30.800   Max.   :31.000  \n",
       "   PliegueTri       PliegueSub       PliegueAbd      PliegueSup    \n",
       " Min.   : 4.200   Min.   : 3.800   Min.   : 4.60   Min.   : 2.550  \n",
       " 1st Qu.: 8.425   1st Qu.: 9.262   1st Qu.:11.20   1st Qu.: 6.263  \n",
       " Median :11.925   Median :11.575   Median :15.78   Median : 8.375  \n",
       " Mean   :12.713   Mean   :12.814   Mean   :17.01   Mean   : 9.815  \n",
       " 3rd Qu.:15.562   3rd Qu.:14.375   3rd Qu.:20.51   3rd Qu.:12.125  \n",
       " Max.   :32.300   Max.   :37.200   Max.   :41.13   Max.   :27.300  \n",
       "   PliegueMus      tpcgrasa1        tpcgrasa2          PerCue     \n",
       " Min.   : 4.25   Min.   : 4.416   Min.   : 6.486   Min.   :31.00  \n",
       " 1st Qu.:12.18   1st Qu.:10.185   1st Qu.:13.662   1st Qu.:36.62  \n",
       " Median :16.73   Median :13.646   Median :16.129   Median :40.00  \n",
       " Mean   :17.81   Mean   :14.707   Mean   :17.962   Mean   :39.01  \n",
       " 3rd Qu.:21.10   3rd Qu.:18.567   3rd Qu.:21.655   3rd Qu.:41.50  \n",
       " Max.   :44.33   Max.   :30.152   Max.   :36.513   Max.   :46.50  \n",
       "     PerCin      \n",
       " Min.   : 64.00  \n",
       " 1st Qu.: 75.00  \n",
       " Median : 82.00  \n",
       " Mean   : 81.31  \n",
       " 3rd Qu.: 87.50  \n",
       " Max.   :110.00  "
      ]
     },
     "metadata": {},
     "output_type": "display_data"
    }
   ],
   "source": [
    "summary(handle_physical)"
   ]
  },
  {
   "cell_type": "markdown",
   "metadata": {},
   "source": [
    "As can be seen from the summary of physical variables they are all of a numerical type, and to be able to use Bayesian Network algorithms we need them to be of a categorical type. Since there is no established criterion we will apply the same as on the target variable, we will use the median as threshold to move to category 1 (high value) or category 0 (low value)."
   ]
  },
  {
   "cell_type": "code",
   "execution_count": 7,
   "metadata": {},
   "outputs": [],
   "source": [
    "for (i in 1 : length(handle_physical)){\n",
    "    handle_physical[,i] <- factor(as.numeric(handle_physical[,i]>=median(handle_physical[,i])))\n",
    "}"
   ]
  },
  {
   "cell_type": "code",
   "execution_count": 8,
   "metadata": {
    "scrolled": true
   },
   "outputs": [
    {
     "data": {
      "text/html": [
       "<table>\n",
       "<thead><tr><th></th><th scope=col>W1Fc</th><th scope=col>W1Ox</th><th scope=col>W1Lac</th><th scope=col>W1tFc</th><th scope=col>W1tOx</th><th scope=col>W1tLac</th><th scope=col>W1tBorg</th><th scope=col>W1t5Fc</th><th scope=col>W1t5Ox</th><th scope=col>W1t5Lac</th><th scope=col>...</th><th scope=col>PliegueAx</th><th scope=col>PliegueTri</th><th scope=col>PliegueSub</th><th scope=col>PliegueAbd</th><th scope=col>PliegueSup</th><th scope=col>PliegueMus</th><th scope=col>tpcgrasa1</th><th scope=col>tpcgrasa2</th><th scope=col>PerCue</th><th scope=col>PerCin</th></tr></thead>\n",
       "<tbody>\n",
       "\t<tr><th scope=row>0</th><td>1  </td><td>0  </td><td>0  </td><td>0  </td><td>1  </td><td>0  </td><td>0  </td><td>0  </td><td>0  </td><td>0  </td><td>...</td><td>0  </td><td>1  </td><td>0  </td><td>0  </td><td>0  </td><td>1  </td><td>1  </td><td>1  </td><td>0  </td><td>0  </td></tr>\n",
       "\t<tr><th scope=row>4</th><td>0  </td><td>0  </td><td>1  </td><td>0  </td><td>0  </td><td>1  </td><td>0  </td><td>0  </td><td>0  </td><td>0  </td><td>...</td><td>0  </td><td>0  </td><td>0  </td><td>0  </td><td>0  </td><td>1  </td><td>0  </td><td>1  </td><td>0  </td><td>0  </td></tr>\n",
       "\t<tr><th scope=row>7</th><td>1  </td><td>1  </td><td>0  </td><td>0  </td><td>1  </td><td>0  </td><td>1  </td><td>0  </td><td>0  </td><td>0  </td><td>...</td><td>0  </td><td>0  </td><td>0  </td><td>0  </td><td>0  </td><td>0  </td><td>0  </td><td>1  </td><td>0  </td><td>0  </td></tr>\n",
       "\t<tr><th scope=row>8</th><td>1  </td><td>1  </td><td>0  </td><td>0  </td><td>0  </td><td>1  </td><td>0  </td><td>1  </td><td>1  </td><td>0  </td><td>...</td><td>0  </td><td>1  </td><td>0  </td><td>0  </td><td>0  </td><td>1  </td><td>1  </td><td>1  </td><td>0  </td><td>0  </td></tr>\n",
       "\t<tr><th scope=row>9</th><td>0  </td><td>1  </td><td>1  </td><td>1  </td><td>0  </td><td>1  </td><td>1  </td><td>0  </td><td>0  </td><td>0  </td><td>...</td><td>1  </td><td>1  </td><td>1  </td><td>1  </td><td>1  </td><td>1  </td><td>1  </td><td>1  </td><td>0  </td><td>0  </td></tr>\n",
       "\t<tr><th scope=row>11</th><td>0  </td><td>1  </td><td>1  </td><td>1  </td><td>1  </td><td>0  </td><td>1  </td><td>0  </td><td>1  </td><td>0  </td><td>...</td><td>0  </td><td>1  </td><td>0  </td><td>0  </td><td>0  </td><td>1  </td><td>1  </td><td>1  </td><td>0  </td><td>0  </td></tr>\n",
       "</tbody>\n",
       "</table>\n"
      ],
      "text/latex": [
       "\\begin{tabular}{r|llllllllllllllllllllllllllllllllll}\n",
       "  & W1Fc & W1Ox & W1Lac & W1tFc & W1tOx & W1tLac & W1tBorg & W1t5Fc & W1t5Ox & W1t5Lac & ... & PliegueAx & PliegueTri & PliegueSub & PliegueAbd & PliegueSup & PliegueMus & tpcgrasa1 & tpcgrasa2 & PerCue & PerCin\\\\\n",
       "\\hline\n",
       "\t0 & 1   & 0   & 0   & 0   & 1   & 0   & 0   & 0   & 0   & 0   & ... & 0   & 1   & 0   & 0   & 0   & 1   & 1   & 1   & 0   & 0  \\\\\n",
       "\t4 & 0   & 0   & 1   & 0   & 0   & 1   & 0   & 0   & 0   & 0   & ... & 0   & 0   & 0   & 0   & 0   & 1   & 0   & 1   & 0   & 0  \\\\\n",
       "\t7 & 1   & 1   & 0   & 0   & 1   & 0   & 1   & 0   & 0   & 0   & ... & 0   & 0   & 0   & 0   & 0   & 0   & 0   & 1   & 0   & 0  \\\\\n",
       "\t8 & 1   & 1   & 0   & 0   & 0   & 1   & 0   & 1   & 1   & 0   & ... & 0   & 1   & 0   & 0   & 0   & 1   & 1   & 1   & 0   & 0  \\\\\n",
       "\t9 & 0   & 1   & 1   & 1   & 0   & 1   & 1   & 0   & 0   & 0   & ... & 1   & 1   & 1   & 1   & 1   & 1   & 1   & 1   & 0   & 0  \\\\\n",
       "\t11 & 0   & 1   & 1   & 1   & 1   & 0   & 1   & 0   & 1   & 0   & ... & 0   & 1   & 0   & 0   & 0   & 1   & 1   & 1   & 0   & 0  \\\\\n",
       "\\end{tabular}\n"
      ],
      "text/markdown": [
       "\n",
       "| <!--/--> | W1Fc | W1Ox | W1Lac | W1tFc | W1tOx | W1tLac | W1tBorg | W1t5Fc | W1t5Ox | W1t5Lac | ... | PliegueAx | PliegueTri | PliegueSub | PliegueAbd | PliegueSup | PliegueMus | tpcgrasa1 | tpcgrasa2 | PerCue | PerCin |\n",
       "|---|---|---|---|---|---|---|---|---|---|---|---|---|---|---|---|---|---|---|---|---|---|\n",
       "| 0 | 1   | 0   | 0   | 0   | 1   | 0   | 0   | 0   | 0   | 0   | ... | 0   | 1   | 0   | 0   | 0   | 1   | 1   | 1   | 0   | 0   |\n",
       "| 4 | 0   | 0   | 1   | 0   | 0   | 1   | 0   | 0   | 0   | 0   | ... | 0   | 0   | 0   | 0   | 0   | 1   | 0   | 1   | 0   | 0   |\n",
       "| 7 | 1   | 1   | 0   | 0   | 1   | 0   | 1   | 0   | 0   | 0   | ... | 0   | 0   | 0   | 0   | 0   | 0   | 0   | 1   | 0   | 0   |\n",
       "| 8 | 1   | 1   | 0   | 0   | 0   | 1   | 0   | 1   | 1   | 0   | ... | 0   | 1   | 0   | 0   | 0   | 1   | 1   | 1   | 0   | 0   |\n",
       "| 9 | 0   | 1   | 1   | 1   | 0   | 1   | 1   | 0   | 0   | 0   | ... | 1   | 1   | 1   | 1   | 1   | 1   | 1   | 1   | 0   | 0   |\n",
       "| 11 | 0   | 1   | 1   | 1   | 1   | 0   | 1   | 0   | 1   | 0   | ... | 0   | 1   | 0   | 0   | 0   | 1   | 1   | 1   | 0   | 0   |\n",
       "\n"
      ],
      "text/plain": [
       "   W1Fc W1Ox W1Lac W1tFc W1tOx W1tLac W1tBorg W1t5Fc W1t5Ox W1t5Lac ...\n",
       "0  1    0    0     0     1     0      0       0      0      0       ...\n",
       "4  0    0    1     0     0     1      0       0      0      0       ...\n",
       "7  1    1    0     0     1     0      1       0      0      0       ...\n",
       "8  1    1    0     0     0     1      0       1      1      0       ...\n",
       "9  0    1    1     1     0     1      1       0      0      0       ...\n",
       "11 0    1    1     1     1     0      1       0      1      0       ...\n",
       "   PliegueAx PliegueTri PliegueSub PliegueAbd PliegueSup PliegueMus tpcgrasa1\n",
       "0  0         1          0          0          0          1          1        \n",
       "4  0         0          0          0          0          1          0        \n",
       "7  0         0          0          0          0          0          0        \n",
       "8  0         1          0          0          0          1          1        \n",
       "9  1         1          1          1          1          1          1        \n",
       "11 0         1          0          0          0          1          1        \n",
       "   tpcgrasa2 PerCue PerCin\n",
       "0  1         0      0     \n",
       "4  1         0      0     \n",
       "7  1         0      0     \n",
       "8  1         0      0     \n",
       "9  1         0      0     \n",
       "11 1         0      0     "
      ]
     },
     "metadata": {},
     "output_type": "display_data"
    }
   ],
   "source": [
    "head(handle_physical)"
   ]
  },
  {
   "cell_type": "markdown",
   "metadata": {},
   "source": [
    "### Target variables <a class=\"anchor\" id=\"4\"></a>\n",
    "\n",
    "* [Returning to the index of contents](#index)"
   ]
  },
  {
   "cell_type": "code",
   "execution_count": 9,
   "metadata": {
    "scrolled": false
   },
   "outputs": [
    {
     "data": {
      "text/html": [
       "<table>\n",
       "<thead><tr><th></th><th scope=col>W1MaxWAbs</th><th scope=col>W1MaxWRel</th><th scope=col>W1maxRPM</th><th scope=col>W1MedWAbs</th><th scope=col>W1MedWRel</th><th scope=col>W1medRPM</th><th scope=col>W2MaxWAbs</th><th scope=col>W2MaxWRel</th><th scope=col>W2maxRPM</th><th scope=col>W2MedWAbs</th><th scope=col>...</th><th scope=col>W2DifWRelFFM1</th><th scope=col>W2DifWRelFFM2</th><th scope=col>W1.2MaxDifWAbs</th><th scope=col>W1.2MaxDifWRel</th><th scope=col>W1.2MaxDifWRelFFM1</th><th scope=col>W1.2MaxDifWRelFFM2</th><th scope=col>W1.2MedDifWAbs</th><th scope=col>W1.2MedDifWRel</th><th scope=col>W1.2MedDifWRelFFM1</th><th scope=col>W1.2MedDifWRelFFM2</th></tr></thead>\n",
       "<tbody>\n",
       "\t<tr><th scope=row>0</th><td>398        </td><td> 8.747253  </td><td>122        </td><td>206        </td><td>4.527473   </td><td>100        </td><td>397        </td><td>8.725275   </td><td>122        </td><td>224        </td><td>...        </td><td> 4.479981  </td><td> 4.544592  </td><td>  1        </td><td> 0.02197802</td><td> 0.02589585</td><td> 0.02626932</td><td>-18        </td><td>-0.39560440</td><td>-0.46612522</td><td>-0.47284774</td></tr>\n",
       "\t<tr><th scope=row>4</th><td>511        </td><td> 8.964912  </td><td>128        </td><td>294        </td><td>5.157895   </td><td>109        </td><td>523        </td><td>9.175439   </td><td>122        </td><td>295        </td><td>...        </td><td> 4.552187  </td><td> 4.889881  </td><td>-12        </td><td>-0.21052632</td><td>-0.23958880</td><td>-0.25736216</td><td> -1        </td><td>-0.01754386</td><td>-0.01996573</td><td>-0.02144685</td></tr>\n",
       "\t<tr><th scope=row>7</th><td>524        </td><td>10.174757  </td><td>130        </td><td>262        </td><td>5.087379   </td><td>107        </td><td>476        </td><td>9.242718   </td><td>125        </td><td>245        </td><td>...        </td><td> 4.958966  </td><td> 5.566747  </td><td> 48        </td><td> 0.93203883</td><td> 1.03043453</td><td> 1.15672661</td><td> 17        </td><td> 0.33009709</td><td> 0.36494556</td><td> 0.40967401</td></tr>\n",
       "\t<tr><th scope=row>8</th><td>541        </td><td> 8.868852  </td><td>128        </td><td>351        </td><td>5.754098   </td><td>118        </td><td>472        </td><td>7.737705   </td><td>130        </td><td>333        </td><td>...        </td><td> 2.792441  </td><td> 3.020719  </td><td> 69        </td><td> 1.13114754</td><td> 1.38617564</td><td> 1.49949379</td><td> 18        </td><td> 0.29508197</td><td> 0.36161104</td><td> 0.39117229</td></tr>\n",
       "\t<tr><th scope=row>9</th><td>547        </td><td> 9.596491  </td><td>143        </td><td>291        </td><td>5.105263   </td><td>116        </td><td>169        </td><td>2.964912   </td><td>130        </td><td>302        </td><td>...        </td><td>-3.215855  </td><td>-3.248973  </td><td>378        </td><td> 6.63157895</td><td> 9.13979775</td><td> 9.23392354</td><td>-11        </td><td>-0.19298246</td><td>-0.26597295</td><td>-0.26871206</td></tr>\n",
       "\t<tr><th scope=row>11</th><td>553        </td><td> 9.701754  </td><td>133        </td><td>365        </td><td>6.403509   </td><td>121        </td><td>556        </td><td>9.754386   </td><td>136        </td><td>355        </td><td>...        </td><td> 4.113095  </td><td> 4.408965  </td><td> -3        </td><td>-0.05263158</td><td>-0.06138948</td><td>-0.06580544</td><td> 10        </td><td> 0.17543860</td><td> 0.20463161</td><td> 0.21935148</td></tr>\n",
       "</tbody>\n",
       "</table>\n"
      ],
      "text/latex": [
       "\\begin{tabular}{r|llllllllllllllllllllllllllllllllllll}\n",
       "  & W1MaxWAbs & W1MaxWRel & W1maxRPM & W1MedWAbs & W1MedWRel & W1medRPM & W2MaxWAbs & W2MaxWRel & W2maxRPM & W2MedWAbs & ... & W2DifWRelFFM1 & W2DifWRelFFM2 & W1.2MaxDifWAbs & W1.2MaxDifWRel & W1.2MaxDifWRelFFM1 & W1.2MaxDifWRelFFM2 & W1.2MedDifWAbs & W1.2MedDifWRel & W1.2MedDifWRelFFM1 & W1.2MedDifWRelFFM2\\\\\n",
       "\\hline\n",
       "\t0 & 398         &  8.747253   & 122         & 206         & 4.527473    & 100         & 397         & 8.725275    & 122         & 224         & ...         &  4.479981   &  4.544592   &   1         &  0.02197802 &  0.02589585 &  0.02626932 & -18         & -0.39560440 & -0.46612522 & -0.47284774\\\\\n",
       "\t4 & 511         &  8.964912   & 128         & 294         & 5.157895    & 109         & 523         & 9.175439    & 122         & 295         & ...         &  4.552187   &  4.889881   & -12         & -0.21052632 & -0.23958880 & -0.25736216 &  -1         & -0.01754386 & -0.01996573 & -0.02144685\\\\\n",
       "\t7 & 524         & 10.174757   & 130         & 262         & 5.087379    & 107         & 476         & 9.242718    & 125         & 245         & ...         &  4.958966   &  5.566747   &  48         &  0.93203883 &  1.03043453 &  1.15672661 &  17         &  0.33009709 &  0.36494556 &  0.40967401\\\\\n",
       "\t8 & 541         &  8.868852   & 128         & 351         & 5.754098    & 118         & 472         & 7.737705    & 130         & 333         & ...         &  2.792441   &  3.020719   &  69         &  1.13114754 &  1.38617564 &  1.49949379 &  18         &  0.29508197 &  0.36161104 &  0.39117229\\\\\n",
       "\t9 & 547         &  9.596491   & 143         & 291         & 5.105263    & 116         & 169         & 2.964912    & 130         & 302         & ...         & -3.215855   & -3.248973   & 378         &  6.63157895 &  9.13979775 &  9.23392354 & -11         & -0.19298246 & -0.26597295 & -0.26871206\\\\\n",
       "\t11 & 553         &  9.701754   & 133         & 365         & 6.403509    & 121         & 556         & 9.754386    & 136         & 355         & ...         &  4.113095   &  4.408965   &  -3         & -0.05263158 & -0.06138948 & -0.06580544 &  10         &  0.17543860 &  0.20463161 &  0.21935148\\\\\n",
       "\\end{tabular}\n"
      ],
      "text/markdown": [
       "\n",
       "| <!--/--> | W1MaxWAbs | W1MaxWRel | W1maxRPM | W1MedWAbs | W1MedWRel | W1medRPM | W2MaxWAbs | W2MaxWRel | W2maxRPM | W2MedWAbs | ... | W2DifWRelFFM1 | W2DifWRelFFM2 | W1.2MaxDifWAbs | W1.2MaxDifWRel | W1.2MaxDifWRelFFM1 | W1.2MaxDifWRelFFM2 | W1.2MedDifWAbs | W1.2MedDifWRel | W1.2MedDifWRelFFM1 | W1.2MedDifWRelFFM2 |\n",
       "|---|---|---|---|---|---|---|---|---|---|---|---|---|---|---|---|---|---|---|---|---|---|\n",
       "| 0 | 398         |  8.747253   | 122         | 206         | 4.527473    | 100         | 397         | 8.725275    | 122         | 224         | ...         |  4.479981   |  4.544592   |   1         |  0.02197802 |  0.02589585 |  0.02626932 | -18         | -0.39560440 | -0.46612522 | -0.47284774 |\n",
       "| 4 | 511         |  8.964912   | 128         | 294         | 5.157895    | 109         | 523         | 9.175439    | 122         | 295         | ...         |  4.552187   |  4.889881   | -12         | -0.21052632 | -0.23958880 | -0.25736216 |  -1         | -0.01754386 | -0.01996573 | -0.02144685 |\n",
       "| 7 | 524         | 10.174757   | 130         | 262         | 5.087379    | 107         | 476         | 9.242718    | 125         | 245         | ...         |  4.958966   |  5.566747   |  48         |  0.93203883 |  1.03043453 |  1.15672661 |  17         |  0.33009709 |  0.36494556 |  0.40967401 |\n",
       "| 8 | 541         |  8.868852   | 128         | 351         | 5.754098    | 118         | 472         | 7.737705    | 130         | 333         | ...         |  2.792441   |  3.020719   |  69         |  1.13114754 |  1.38617564 |  1.49949379 |  18         |  0.29508197 |  0.36161104 |  0.39117229 |\n",
       "| 9 | 547         |  9.596491   | 143         | 291         | 5.105263    | 116         | 169         | 2.964912    | 130         | 302         | ...         | -3.215855   | -3.248973   | 378         |  6.63157895 |  9.13979775 |  9.23392354 | -11         | -0.19298246 | -0.26597295 | -0.26871206 |\n",
       "| 11 | 553         |  9.701754   | 133         | 365         | 6.403509    | 121         | 556         | 9.754386    | 136         | 355         | ...         |  4.113095   |  4.408965   |  -3         | -0.05263158 | -0.06138948 | -0.06580544 |  10         |  0.17543860 |  0.20463161 |  0.21935148 |\n",
       "\n"
      ],
      "text/plain": [
       "   W1MaxWAbs W1MaxWRel W1maxRPM W1MedWAbs W1MedWRel W1medRPM W2MaxWAbs\n",
       "0  398        8.747253 122      206       4.527473  100      397      \n",
       "4  511        8.964912 128      294       5.157895  109      523      \n",
       "7  524       10.174757 130      262       5.087379  107      476      \n",
       "8  541        8.868852 128      351       5.754098  118      472      \n",
       "9  547        9.596491 143      291       5.105263  116      169      \n",
       "11 553        9.701754 133      365       6.403509  121      556      \n",
       "   W2MaxWRel W2maxRPM W2MedWAbs ... W2DifWRelFFM1 W2DifWRelFFM2 W1.2MaxDifWAbs\n",
       "0  8.725275  122      224       ...  4.479981      4.544592       1           \n",
       "4  9.175439  122      295       ...  4.552187      4.889881     -12           \n",
       "7  9.242718  125      245       ...  4.958966      5.566747      48           \n",
       "8  7.737705  130      333       ...  2.792441      3.020719      69           \n",
       "9  2.964912  130      302       ... -3.215855     -3.248973     378           \n",
       "11 9.754386  136      355       ...  4.113095      4.408965      -3           \n",
       "   W1.2MaxDifWRel W1.2MaxDifWRelFFM1 W1.2MaxDifWRelFFM2 W1.2MedDifWAbs\n",
       "0   0.02197802     0.02589585         0.02626932        -18           \n",
       "4  -0.21052632    -0.23958880        -0.25736216         -1           \n",
       "7   0.93203883     1.03043453         1.15672661         17           \n",
       "8   1.13114754     1.38617564         1.49949379         18           \n",
       "9   6.63157895     9.13979775         9.23392354        -11           \n",
       "11 -0.05263158    -0.06138948        -0.06580544         10           \n",
       "   W1.2MedDifWRel W1.2MedDifWRelFFM1 W1.2MedDifWRelFFM2\n",
       "0  -0.39560440    -0.46612522        -0.47284774       \n",
       "4  -0.01754386    -0.01996573        -0.02144685       \n",
       "7   0.33009709     0.36494556         0.40967401       \n",
       "8   0.29508197     0.36161104         0.39117229       \n",
       "9  -0.19298246    -0.26597295        -0.26871206       \n",
       "11  0.17543860     0.20463161         0.21935148       "
      ]
     },
     "metadata": {},
     "output_type": "display_data"
    }
   ],
   "source": [
    "handle_target <- read.csv('handle_target_fusion_31_03_20.csv', row.name = 1)\n",
    "\n",
    "head(handle_target)"
   ]
  },
  {
   "cell_type": "code",
   "execution_count": 10,
   "metadata": {
    "scrolled": true
   },
   "outputs": [],
   "source": [
    "ind_med <- cbind(handle_target['W1.2MedDifWRelFFM1'],handle_genetic, handle_physical)\n",
    "\n",
    "rownames(ind_med) <- NULL\n",
    "\n",
    "W1.2MedDifWRelFFM1Bin <- factor(as.numeric(handle_target['W1.2MedDifWRelFFM1']>=median(handle_target$W1.2MedDifWRelFFM1)))\n",
    "\n",
    "ind_med <- cbind(W1.2MedDifWRelFFM1Bin, ind_med)\n",
    "\n",
    "ind_med$W1.2MedDifWRelFFM1 <- NULL\n"
   ]
  },
  {
   "cell_type": "markdown",
   "metadata": {},
   "source": [
    "## Construction of the Bayesian network using the tabu algorithm<a class=\"anchor\" id=\"2\"></a>\n",
    "\n",
    "* [Returning to the index of contents](#index)"
   ]
  },
  {
   "cell_type": "code",
   "execution_count": 11,
   "metadata": {},
   "outputs": [
    {
     "name": "stderr",
     "output_type": "stream",
     "text": [
      "Warning message:\n",
      "\"package 'bnlearn' was built under R version 3.6.2\"\n",
      "Attaching package: 'bnlearn'\n",
      "\n",
      "The following object is masked from 'package:stats':\n",
      "\n",
      "    sigma\n",
      "\n"
     ]
    }
   ],
   "source": [
    "library(bnlearn)"
   ]
  },
  {
   "cell_type": "code",
   "execution_count": 12,
   "metadata": {},
   "outputs": [],
   "source": [
    "set.seed(10)\n",
    "tabu <- tabu(ind_med, tabu = 500,iss = 10, score = 'bde')"
   ]
  },
  {
   "cell_type": "code",
   "execution_count": 13,
   "metadata": {
    "scrolled": false
   },
   "outputs": [
    {
     "data": {
      "text/html": [
       "-1844.15117872709"
      ],
      "text/latex": [
       "-1844.15117872709"
      ],
      "text/markdown": [
       "-1844.15117872709"
      ],
      "text/plain": [
       "[1] -1844.151"
      ]
     },
     "metadata": {},
     "output_type": "display_data"
    }
   ],
   "source": [
    "bnlearn::score(tabu, data = ind_med,type = 'bde')"
   ]
  },
  {
   "cell_type": "code",
   "execution_count": 14,
   "metadata": {},
   "outputs": [
    {
     "data": {
      "text/html": [
       "'[W1.2MedDifWRelFFM1Bin][rs11144134][rs7191721][rs6968554][rs1800497][W1Fc][W1Ox][W1Lac][W1tOx][W1tLac][W1tBorg][W1t5Fc][W1t5Ox][W2tFc][W2tOx][W2tLac][W2t5Fc][W2t5Ox][W2t10Ox][Altura][PlieguePec][PliegueAx][PliegueSub][PliegueSup][tpcgrasa2][rs1572312|rs6968554][W1tFc|rs11144134:W1Lac][W1t5Lac|W1Fc][W2tBorg|W1tBorg][W2t5Lac|rs6968554:W1t5Ox:W2tOx:W2tLac][W2t10Lac|W1t5Fc:W2tFc][Edad|W1.2MedDifWRelFFM1Bin:W2tLac][PliegueTri|Altura][PliegueMus|Altura:PliegueAx][tpcgrasa1|W1Ox][W2t10Fc|W1Lac:W1t5Lac][PliegueAbd|W2tBorg][PerCue|PlieguePec:PliegueMus][PerCin|W2t10Lac:tpcgrasa1][Peso|W1t5Lac:W2tOx:W2t10Fc]'"
      ],
      "text/latex": [
       "'{[}W1.2MedDifWRelFFM1Bin{]}{[}rs11144134{]}{[}rs7191721{]}{[}rs6968554{]}{[}rs1800497{]}{[}W1Fc{]}{[}W1Ox{]}{[}W1Lac{]}{[}W1tOx{]}{[}W1tLac{]}{[}W1tBorg{]}{[}W1t5Fc{]}{[}W1t5Ox{]}{[}W2tFc{]}{[}W2tOx{]}{[}W2tLac{]}{[}W2t5Fc{]}{[}W2t5Ox{]}{[}W2t10Ox{]}{[}Altura{]}{[}PlieguePec{]}{[}PliegueAx{]}{[}PliegueSub{]}{[}PliegueSup{]}{[}tpcgrasa2{]}{[}rs1572312\\textbar{}rs6968554{]}{[}W1tFc\\textbar{}rs11144134:W1Lac{]}{[}W1t5Lac\\textbar{}W1Fc{]}{[}W2tBorg\\textbar{}W1tBorg{]}{[}W2t5Lac\\textbar{}rs6968554:W1t5Ox:W2tOx:W2tLac{]}{[}W2t10Lac\\textbar{}W1t5Fc:W2tFc{]}{[}Edad\\textbar{}W1.2MedDifWRelFFM1Bin:W2tLac{]}{[}PliegueTri\\textbar{}Altura{]}{[}PliegueMus\\textbar{}Altura:PliegueAx{]}{[}tpcgrasa1\\textbar{}W1Ox{]}{[}W2t10Fc\\textbar{}W1Lac:W1t5Lac{]}{[}PliegueAbd\\textbar{}W2tBorg{]}{[}PerCue\\textbar{}PlieguePec:PliegueMus{]}{[}PerCin\\textbar{}W2t10Lac:tpcgrasa1{]}{[}Peso\\textbar{}W1t5Lac:W2tOx:W2t10Fc{]}'"
      ],
      "text/markdown": [
       "'[W1.2MedDifWRelFFM1Bin][rs11144134][rs7191721][rs6968554][rs1800497][W1Fc][W1Ox][W1Lac][W1tOx][W1tLac][W1tBorg][W1t5Fc][W1t5Ox][W2tFc][W2tOx][W2tLac][W2t5Fc][W2t5Ox][W2t10Ox][Altura][PlieguePec][PliegueAx][PliegueSub][PliegueSup][tpcgrasa2][rs1572312|rs6968554][W1tFc|rs11144134:W1Lac][W1t5Lac|W1Fc][W2tBorg|W1tBorg][W2t5Lac|rs6968554:W1t5Ox:W2tOx:W2tLac][W2t10Lac|W1t5Fc:W2tFc][Edad|W1.2MedDifWRelFFM1Bin:W2tLac][PliegueTri|Altura][PliegueMus|Altura:PliegueAx][tpcgrasa1|W1Ox][W2t10Fc|W1Lac:W1t5Lac][PliegueAbd|W2tBorg][PerCue|PlieguePec:PliegueMus][PerCin|W2t10Lac:tpcgrasa1][Peso|W1t5Lac:W2tOx:W2t10Fc]'"
      ],
      "text/plain": [
       "[1] \"[W1.2MedDifWRelFFM1Bin][rs11144134][rs7191721][rs6968554][rs1800497][W1Fc][W1Ox][W1Lac][W1tOx][W1tLac][W1tBorg][W1t5Fc][W1t5Ox][W2tFc][W2tOx][W2tLac][W2t5Fc][W2t5Ox][W2t10Ox][Altura][PlieguePec][PliegueAx][PliegueSub][PliegueSup][tpcgrasa2][rs1572312|rs6968554][W1tFc|rs11144134:W1Lac][W1t5Lac|W1Fc][W2tBorg|W1tBorg][W2t5Lac|rs6968554:W1t5Ox:W2tOx:W2tLac][W2t10Lac|W1t5Fc:W2tFc][Edad|W1.2MedDifWRelFFM1Bin:W2tLac][PliegueTri|Altura][PliegueMus|Altura:PliegueAx][tpcgrasa1|W1Ox][W2t10Fc|W1Lac:W1t5Lac][PliegueAbd|W2tBorg][PerCue|PlieguePec:PliegueMus][PerCin|W2t10Lac:tpcgrasa1][Peso|W1t5Lac:W2tOx:W2t10Fc]\""
      ]
     },
     "metadata": {},
     "output_type": "display_data"
    }
   ],
   "source": [
    "set.seed(1)\n",
    "rnd <- random.graph(nodes = names(ind_med))\n",
    "modelstring(rnd)"
   ]
  },
  {
   "cell_type": "code",
   "execution_count": 15,
   "metadata": {},
   "outputs": [
    {
     "data": {
      "text/html": [
       "-2407.2865796009"
      ],
      "text/latex": [
       "-2407.2865796009"
      ],
      "text/markdown": [
       "-2407.2865796009"
      ],
      "text/plain": [
       "[1] -2407.287"
      ]
     },
     "metadata": {},
     "output_type": "display_data"
    }
   ],
   "source": [
    "bnlearn::score(rnd, data = ind_med, type = 'bde')"
   ]
  },
  {
   "cell_type": "markdown",
   "metadata": {},
   "source": [
    "The score obtained surpasses that obtained with the random model, indicating that we are on the right track."
   ]
  },
  {
   "cell_type": "markdown",
   "metadata": {},
   "source": [
    "Let's look at the relationships of significance according to the $\\chi^2$ independence test"
   ]
  },
  {
   "cell_type": "code",
   "execution_count": 16,
   "metadata": {
    "scrolled": true
   },
   "outputs": [
    {
     "data": {
      "text/html": [
       "<table>\n",
       "<thead><tr><th scope=col>from</th><th scope=col>to</th><th scope=col>strength</th></tr></thead>\n",
       "<tbody>\n",
       "\t<tr><td>Peso        </td><td>PerCue      </td><td>3.176695e-10</td></tr>\n",
       "\t<tr><td>W1tFc       </td><td>W2tFc       </td><td>1.546836e-09</td></tr>\n",
       "\t<tr><td>W2t5Fc      </td><td>W2t10Fc     </td><td>1.574419e-05</td></tr>\n",
       "\t<tr><td>PliegueAx   </td><td>PliegueAbd  </td><td>3.737718e-10</td></tr>\n",
       "\t<tr><td>PliegueTri  </td><td>tpcgrasa1   </td><td>2.294462e-09</td></tr>\n",
       "\t<tr><td>PliegueAbd  </td><td>PliegueSup  </td><td>5.420913e-02</td></tr>\n",
       "</tbody>\n",
       "</table>\n"
      ],
      "text/latex": [
       "\\begin{tabular}{r|lll}\n",
       " from & to & strength\\\\\n",
       "\\hline\n",
       "\t Peso         & PerCue       & 3.176695e-10\\\\\n",
       "\t W1tFc        & W2tFc        & 1.546836e-09\\\\\n",
       "\t W2t5Fc       & W2t10Fc      & 1.574419e-05\\\\\n",
       "\t PliegueAx    & PliegueAbd   & 3.737718e-10\\\\\n",
       "\t PliegueTri   & tpcgrasa1    & 2.294462e-09\\\\\n",
       "\t PliegueAbd   & PliegueSup   & 5.420913e-02\\\\\n",
       "\\end{tabular}\n"
      ],
      "text/markdown": [
       "\n",
       "| from | to | strength |\n",
       "|---|---|---|\n",
       "| Peso         | PerCue       | 3.176695e-10 |\n",
       "| W1tFc        | W2tFc        | 1.546836e-09 |\n",
       "| W2t5Fc       | W2t10Fc      | 1.574419e-05 |\n",
       "| PliegueAx    | PliegueAbd   | 3.737718e-10 |\n",
       "| PliegueTri   | tpcgrasa1    | 2.294462e-09 |\n",
       "| PliegueAbd   | PliegueSup   | 5.420913e-02 |\n",
       "\n"
      ],
      "text/plain": [
       "  from       to         strength    \n",
       "1 Peso       PerCue     3.176695e-10\n",
       "2 W1tFc      W2tFc      1.546836e-09\n",
       "3 W2t5Fc     W2t10Fc    1.574419e-05\n",
       "4 PliegueAx  PliegueAbd 3.737718e-10\n",
       "5 PliegueTri tpcgrasa1  2.294462e-09\n",
       "6 PliegueAbd PliegueSup 5.420913e-02"
      ]
     },
     "metadata": {},
     "output_type": "display_data"
    }
   ],
   "source": [
    "sig_tabu <- arc.strength(tabu, data = ind_med, criterion = \"x2\") \n",
    "head(sig_tabu)"
   ]
  },
  {
   "cell_type": "markdown",
   "metadata": {},
   "source": [
    "Again we keep the significant relationships, which are less than 0.05"
   ]
  },
  {
   "cell_type": "code",
   "execution_count": 17,
   "metadata": {},
   "outputs": [
    {
     "data": {
      "text/html": [
       "<table>\n",
       "<thead><tr><th></th><th scope=col>from</th><th scope=col>to</th><th scope=col>strength</th></tr></thead>\n",
       "<tbody>\n",
       "\t<tr><th scope=row>1</th><td>Peso        </td><td>PerCue      </td><td>3.176695e-10</td></tr>\n",
       "\t<tr><th scope=row>2</th><td>W1tFc       </td><td>W2tFc       </td><td>1.546836e-09</td></tr>\n",
       "\t<tr><th scope=row>3</th><td>W2t5Fc      </td><td>W2t10Fc     </td><td>1.574419e-05</td></tr>\n",
       "\t<tr><th scope=row>4</th><td>PliegueAx   </td><td>PliegueAbd  </td><td>3.737718e-10</td></tr>\n",
       "\t<tr><th scope=row>5</th><td>PliegueTri  </td><td>tpcgrasa1   </td><td>2.294462e-09</td></tr>\n",
       "\t<tr><th scope=row>7</th><td>tpcgrasa1   </td><td>tpcgrasa2   </td><td>5.218333e-10</td></tr>\n",
       "</tbody>\n",
       "</table>\n"
      ],
      "text/latex": [
       "\\begin{tabular}{r|lll}\n",
       "  & from & to & strength\\\\\n",
       "\\hline\n",
       "\t1 & Peso         & PerCue       & 3.176695e-10\\\\\n",
       "\t2 & W1tFc        & W2tFc        & 1.546836e-09\\\\\n",
       "\t3 & W2t5Fc       & W2t10Fc      & 1.574419e-05\\\\\n",
       "\t4 & PliegueAx    & PliegueAbd   & 3.737718e-10\\\\\n",
       "\t5 & PliegueTri   & tpcgrasa1    & 2.294462e-09\\\\\n",
       "\t7 & tpcgrasa1    & tpcgrasa2    & 5.218333e-10\\\\\n",
       "\\end{tabular}\n"
      ],
      "text/markdown": [
       "\n",
       "| <!--/--> | from | to | strength |\n",
       "|---|---|---|---|\n",
       "| 1 | Peso         | PerCue       | 3.176695e-10 |\n",
       "| 2 | W1tFc        | W2tFc        | 1.546836e-09 |\n",
       "| 3 | W2t5Fc       | W2t10Fc      | 1.574419e-05 |\n",
       "| 4 | PliegueAx    | PliegueAbd   | 3.737718e-10 |\n",
       "| 5 | PliegueTri   | tpcgrasa1    | 2.294462e-09 |\n",
       "| 7 | tpcgrasa1    | tpcgrasa2    | 5.218333e-10 |\n",
       "\n"
      ],
      "text/plain": [
       "  from       to         strength    \n",
       "1 Peso       PerCue     3.176695e-10\n",
       "2 W1tFc      W2tFc      1.546836e-09\n",
       "3 W2t5Fc     W2t10Fc    1.574419e-05\n",
       "4 PliegueAx  PliegueAbd 3.737718e-10\n",
       "5 PliegueTri tpcgrasa1  2.294462e-09\n",
       "7 tpcgrasa1  tpcgrasa2  5.218333e-10"
      ]
     },
     "metadata": {},
     "output_type": "display_data"
    }
   ],
   "source": [
    "sig_tabu_imp <- sig_tabu[sig_tabu$strength < 0.05,]\n",
    "head(sig_tabu_imp)"
   ]
  },
  {
   "cell_type": "markdown",
   "metadata": {},
   "source": [
    "Among the significant relationships we look for in which the target variable appears:"
   ]
  },
  {
   "cell_type": "code",
   "execution_count": 18,
   "metadata": {},
   "outputs": [
    {
     "data": {
      "text/html": [
       "<table>\n",
       "<thead><tr><th></th><th scope=col>from</th><th scope=col>to</th><th scope=col>strength</th></tr></thead>\n",
       "<tbody>\n",
       "\t<tr><th scope=row>29</th><td>W1.2MedDifWRelFFM1Bin</td><td>Altura               </td><td>1.0000000000         </td></tr>\n",
       "\t<tr><th scope=row>38</th><td>W1.2MedDifWRelFFM1Bin</td><td>W1Lac                </td><td>0.0035539083         </td></tr>\n",
       "\t<tr><th scope=row>43</th><td>W1.2MedDifWRelFFM1Bin</td><td>rs11144134           </td><td>0.0009463502         </td></tr>\n",
       "\t<tr><th scope=row>65</th><td>W1.2MedDifWRelFFM1Bin</td><td>W2t10Fc              </td><td>0.0930739094         </td></tr>\n",
       "</tbody>\n",
       "</table>\n"
      ],
      "text/latex": [
       "\\begin{tabular}{r|lll}\n",
       "  & from & to & strength\\\\\n",
       "\\hline\n",
       "\t29 & W1.2MedDifWRelFFM1Bin & Altura                & 1.0000000000         \\\\\n",
       "\t38 & W1.2MedDifWRelFFM1Bin & W1Lac                 & 0.0035539083         \\\\\n",
       "\t43 & W1.2MedDifWRelFFM1Bin & rs11144134            & 0.0009463502         \\\\\n",
       "\t65 & W1.2MedDifWRelFFM1Bin & W2t10Fc               & 0.0930739094         \\\\\n",
       "\\end{tabular}\n"
      ],
      "text/markdown": [
       "\n",
       "| <!--/--> | from | to | strength |\n",
       "|---|---|---|---|\n",
       "| 29 | W1.2MedDifWRelFFM1Bin | Altura                | 1.0000000000          |\n",
       "| 38 | W1.2MedDifWRelFFM1Bin | W1Lac                 | 0.0035539083          |\n",
       "| 43 | W1.2MedDifWRelFFM1Bin | rs11144134            | 0.0009463502          |\n",
       "| 65 | W1.2MedDifWRelFFM1Bin | W2t10Fc               | 0.0930739094          |\n",
       "\n"
      ],
      "text/plain": [
       "   from                  to         strength    \n",
       "29 W1.2MedDifWRelFFM1Bin Altura     1.0000000000\n",
       "38 W1.2MedDifWRelFFM1Bin W1Lac      0.0035539083\n",
       "43 W1.2MedDifWRelFFM1Bin rs11144134 0.0009463502\n",
       "65 W1.2MedDifWRelFFM1Bin W2t10Fc    0.0930739094"
      ]
     },
     "metadata": {},
     "output_type": "display_data"
    }
   ],
   "source": [
    "sig_tabu[sig_tabu$from  == 'W1.2MedDifWRelFFM1Bin',]"
   ]
  },
  {
   "cell_type": "code",
   "execution_count": 19,
   "metadata": {
    "scrolled": true
   },
   "outputs": [
    {
     "data": {
      "text/html": [
       "<table>\n",
       "<thead><tr><th></th><th scope=col>from</th><th scope=col>to</th><th scope=col>strength</th></tr></thead>\n",
       "<tbody>\n",
       "\t<tr><th scope=row>22</th><td>PlieguePec           </td><td>W1.2MedDifWRelFFM1Bin</td><td>0.0002154008         </td></tr>\n",
       "\t<tr><th scope=row>40</th><td>rs7191721            </td><td>W1.2MedDifWRelFFM1Bin</td><td>0.0035410868         </td></tr>\n",
       "</tbody>\n",
       "</table>\n"
      ],
      "text/latex": [
       "\\begin{tabular}{r|lll}\n",
       "  & from & to & strength\\\\\n",
       "\\hline\n",
       "\t22 & PlieguePec            & W1.2MedDifWRelFFM1Bin & 0.0002154008         \\\\\n",
       "\t40 & rs7191721             & W1.2MedDifWRelFFM1Bin & 0.0035410868         \\\\\n",
       "\\end{tabular}\n"
      ],
      "text/markdown": [
       "\n",
       "| <!--/--> | from | to | strength |\n",
       "|---|---|---|---|\n",
       "| 22 | PlieguePec            | W1.2MedDifWRelFFM1Bin | 0.0002154008          |\n",
       "| 40 | rs7191721             | W1.2MedDifWRelFFM1Bin | 0.0035410868          |\n",
       "\n"
      ],
      "text/plain": [
       "   from       to                    strength    \n",
       "22 PlieguePec W1.2MedDifWRelFFM1Bin 0.0002154008\n",
       "40 rs7191721  W1.2MedDifWRelFFM1Bin 0.0035410868"
      ]
     },
     "metadata": {},
     "output_type": "display_data"
    }
   ],
   "source": [
    "sig_tabu[sig_tabu$to  == 'W1.2MedDifWRelFFM1Bin',]"
   ]
  },
  {
   "cell_type": "code",
   "execution_count": 20,
   "metadata": {},
   "outputs": [],
   "source": [
    "var_tabu_imp <- c(sig_tabu_imp[sig_tabu_imp$from  == 'W1.2MedDifWRelFFM1Bin',]$to,sig_tabu_imp[sig_tabu_imp$to  == 'W1.2MedDifWRelFFM1Bin',]$from)"
   ]
  },
  {
   "cell_type": "code",
   "execution_count": 21,
   "metadata": {
    "scrolled": true
   },
   "outputs": [
    {
     "data": {
      "text/html": [
       "<ol class=list-inline>\n",
       "\t<li>'W1Lac'</li>\n",
       "\t<li>'rs11144134'</li>\n",
       "\t<li>'PlieguePec'</li>\n",
       "\t<li>'rs7191721'</li>\n",
       "</ol>\n"
      ],
      "text/latex": [
       "\\begin{enumerate*}\n",
       "\\item 'W1Lac'\n",
       "\\item 'rs11144134'\n",
       "\\item 'PlieguePec'\n",
       "\\item 'rs7191721'\n",
       "\\end{enumerate*}\n"
      ],
      "text/markdown": [
       "1. 'W1Lac'\n",
       "2. 'rs11144134'\n",
       "3. 'PlieguePec'\n",
       "4. 'rs7191721'\n",
       "\n",
       "\n"
      ],
      "text/plain": [
       "[1] \"W1Lac\"      \"rs11144134\" \"PlieguePec\" \"rs7191721\" "
      ]
     },
     "metadata": {},
     "output_type": "display_data"
    }
   ],
   "source": [
    "var_tabu_imp"
   ]
  },
  {
   "cell_type": "code",
   "execution_count": 22,
   "metadata": {
    "scrolled": true
   },
   "outputs": [],
   "source": [
    "arcs <- rbind(sig_tabu_imp[sig_tabu_imp$from  == 'W1.2MedDifWRelFFM1Bin',1:2],sig_tabu_imp[sig_tabu_imp$to  == 'W1.2MedDifWRelFFM1Bin',1:2])"
   ]
  },
  {
   "cell_type": "markdown",
   "metadata": {},
   "source": [
    "The network obtained with the significant relationships to the target variable highlighted in red is shown:"
   ]
  },
  {
   "cell_type": "code",
   "execution_count": 23,
   "metadata": {
    "scrolled": false
   },
   "outputs": [
    {
     "name": "stderr",
     "output_type": "stream",
     "text": [
      "Loading required namespace: Rgraphviz\n"
     ]
    },
    {
     "data": {
      "image/png": "[encoded data removed]",
      "text/plain": [
       "plot without title"
      ]
     },
     "metadata": {},
     "output_type": "display_data"
    }
   ],
   "source": [
    "#graph_tabu = graphviz.plot(tabu,  layout = 'fdp', shape = 'rectangle')\n",
    "hl <- list(arcs = arcs, lwd = 3, col = \"red\")\n",
    "graph_tabu <- graphviz.plot(tabu,layout = 'fdp', shape = 'rectangle', highlight = hl)"
   ]
  },
  {
   "cell_type": "markdown",
   "metadata": {},
   "source": [
    "## Conditional probabilities <a class=\"anchor\" id=\"6\"></a>"
   ]
  },
  {
   "cell_type": "markdown",
   "metadata": {},
   "source": [
    "* [Returning to the index of contents](#index)"
   ]
  },
  {
   "cell_type": "markdown",
   "metadata": {},
   "source": [
    "In order to obtain the conditional probabilities of the graph generated by tabu algorithm, we need to give the tabu model a probability format:"
   ]
  },
  {
   "cell_type": "code",
   "execution_count": 24,
   "metadata": {},
   "outputs": [],
   "source": [
    "tabu_fitted <- bn.fit(model2network(modelstring(tabu)),ind_med, method = 'bayes')"
   ]
  },
  {
   "cell_type": "markdown",
   "metadata": {},
   "source": [
    "### Conditional probabilities for  W1.2MedDifWRelFFM1Bin = 0<a class=\"anchor\" id=\"7\"></a>"
   ]
  },
  {
   "cell_type": "markdown",
   "metadata": {},
   "source": [
    "* [Returning to the index of contents](#index)"
   ]
  },
  {
   "cell_type": "markdown",
   "metadata": {},
   "source": [
    "We calculate the conditioned probabilities that given a state of a predictor, the state 0 of the target variable happens."
   ]
  },
  {
   "cell_type": "code",
   "execution_count": 25,
   "metadata": {},
   "outputs": [],
   "source": [
    "W1Lac_0_prob = prop.table(table(cpdist(tabu_fitted, nodes = \"W1.2MedDifWRelFFM1Bin\",evidence = (W1Lac == \"0\"))))[1]\n",
    "W1Lac_1_prob = prop.table(table(cpdist(tabu_fitted, nodes = \"W1.2MedDifWRelFFM1Bin\",evidence = (W1Lac == \"1\"))))[1]\n",
    "rs11144134_CT_prob = prop.table(table(cpdist(tabu_fitted, nodes = \"W1.2MedDifWRelFFM1Bin\",\n",
    "                                            evidence = (rs11144134 == 'C:T'))))[1]\n",
    "rs11144134_TT_prob = prop.table(table(cpdist(tabu_fitted, nodes = \"W1.2MedDifWRelFFM1Bin\",\n",
    "                                            evidence = (rs11144134 == 'T:T'))))[1]\n",
    "PlieguePec_0_prob = prop.table(table(cpdist(tabu_fitted, nodes = \"W1.2MedDifWRelFFM1Bin\",evidence = (PlieguePec == \"0\"))))[1]\n",
    "PlieguePec_1_prob = prop.table(table(cpdist(tabu_fitted, nodes = \"W1.2MedDifWRelFFM1Bin\",evidence = (PlieguePec == \"1\"))))[1]\n",
    "rs7191721_AA_prob = prop.table(table(cpdist(tabu_fitted, nodes = \"W1.2MedDifWRelFFM1Bin\",\n",
    "                                            evidence = (rs7191721 == 'A:A'))))[1]\n",
    "rs7191721_AG_prob = prop.table(table(cpdist(tabu_fitted, nodes = \"W1.2MedDifWRelFFM1Bin\",\n",
    "                                            evidence = (rs7191721 == 'A:G'))))[1]\n",
    "rs7191721_GG_prob = prop.table(table(cpdist(tabu_fitted, nodes = \"W1.2MedDifWRelFFM1Bin\",\n",
    "                                            evidence = (rs7191721 == 'G:G'))))[1]"
   ]
  },
  {
   "cell_type": "markdown",
   "metadata": {},
   "source": [
    "Now, we create a probability table:"
   ]
  },
  {
   "cell_type": "code",
   "execution_count": 26,
   "metadata": {},
   "outputs": [],
   "source": [
    "names(W1Lac_0_prob) <- 'W1Lac=0'\n",
    "names(W1Lac_1_prob) <- 'W1Lac=1'\n",
    "names(rs11144134_CT_prob)<- 'rs11144134=C:T'\n",
    "names(rs11144134_TT_prob)<- 'rs11144134=T:T'\n",
    "names(PlieguePec_0_prob) <- 'PlieguePec=0'\n",
    "names(PlieguePec_1_prob) <- 'PlieguePec=1'\n",
    "names(rs7191721_AA_prob) <- 'rs7191721=A:A'\n",
    "names(rs7191721_AG_prob) <- 'rs7191721=A:G'\n",
    "names(rs7191721_GG_prob) <- 'rs7191721=G:G'"
   ]
  },
  {
   "cell_type": "code",
   "execution_count": 27,
   "metadata": {},
   "outputs": [],
   "source": [
    "W1.2MedDifWRelFFM1Bin_0 <- c(W1Lac_0_prob,W1Lac_1_prob,rs11144134_CT_prob,rs11144134_TT_prob,PlieguePec_0_prob,\n",
    "                        PlieguePec_1_prob,rs7191721_AA_prob,rs7191721_AG_prob,rs7191721_GG_prob)"
   ]
  },
  {
   "cell_type": "code",
   "execution_count": 28,
   "metadata": {},
   "outputs": [
    {
     "data": {
      "text/html": [
       "<dl class=dl-horizontal>\n",
       "\t<dt>W1Lac=0</dt>\n",
       "\t\t<dd>0.679545454545455</dd>\n",
       "\t<dt>W1Lac=1</dt>\n",
       "\t\t<dd>0.338502269288956</dd>\n",
       "\t<dt>rs11144134=C:T</dt>\n",
       "\t\t<dd>0.245864661654135</dd>\n",
       "\t<dt>rs11144134=T:T</dt>\n",
       "\t\t<dd>0.592711584358362</dd>\n",
       "\t<dt>PlieguePec=0</dt>\n",
       "\t\t<dd>0.686525759577279</dd>\n",
       "\t<dt>PlieguePec=1</dt>\n",
       "\t\t<dd>0.312966915688367</dd>\n",
       "\t<dt>rs7191721=A:A</dt>\n",
       "\t\t<dd>0.288978494623656</dd>\n",
       "\t<dt>rs7191721=A:G</dt>\n",
       "\t\t<dd>0.651356080489939</dd>\n",
       "\t<dt>rs7191721=G:G</dt>\n",
       "\t\t<dd>0.452433143358176</dd>\n",
       "</dl>\n"
      ],
      "text/latex": [
       "\\begin{description*}\n",
       "\\item[W1Lac=0] 0.679545454545455\n",
       "\\item[W1Lac=1] 0.338502269288956\n",
       "\\item[rs11144134=C:T] 0.245864661654135\n",
       "\\item[rs11144134=T:T] 0.592711584358362\n",
       "\\item[PlieguePec=0] 0.686525759577279\n",
       "\\item[PlieguePec=1] 0.312966915688367\n",
       "\\item[rs7191721=A:A] 0.288978494623656\n",
       "\\item[rs7191721=A:G] 0.651356080489939\n",
       "\\item[rs7191721=G:G] 0.452433143358176\n",
       "\\end{description*}\n"
      ],
      "text/markdown": [
       "W1Lac=0\n",
       ":   0.679545454545455W1Lac=1\n",
       ":   0.338502269288956rs11144134=C:T\n",
       ":   0.245864661654135rs11144134=T:T\n",
       ":   0.592711584358362PlieguePec=0\n",
       ":   0.686525759577279PlieguePec=1\n",
       ":   0.312966915688367rs7191721=A:A\n",
       ":   0.288978494623656rs7191721=A:G\n",
       ":   0.651356080489939rs7191721=G:G\n",
       ":   0.452433143358176\n",
       "\n"
      ],
      "text/plain": [
       "       W1Lac=0        W1Lac=1 rs11144134=C:T rs11144134=T:T   PlieguePec=0 \n",
       "     0.6795455      0.3385023      0.2458647      0.5927116      0.6865258 \n",
       "  PlieguePec=1  rs7191721=A:A  rs7191721=A:G  rs7191721=G:G \n",
       "     0.3129669      0.2889785      0.6513561      0.4524331 "
      ]
     },
     "metadata": {},
     "output_type": "display_data"
    }
   ],
   "source": [
    "W1.2MedDifWRelFFM1Bin_0"
   ]
  },
  {
   "cell_type": "code",
   "execution_count": 29,
   "metadata": {},
   "outputs": [],
   "source": [
    "df <-data.frame(names(W1.2MedDifWRelFFM1Bin_0),W1.2MedDifWRelFFM1Bin_0)\n",
    "names(df) <- c('Predictors_states','frequency')"
   ]
  },
  {
   "cell_type": "code",
   "execution_count": 30,
   "metadata": {},
   "outputs": [
    {
     "data": {
      "text/html": [
       "<table>\n",
       "<thead><tr><th scope=col>Predictors_states</th><th scope=col>frequency</th></tr></thead>\n",
       "<tbody>\n",
       "\t<tr><td>W1Lac=0       </td><td>0.6795455     </td></tr>\n",
       "\t<tr><td>W1Lac=1       </td><td>0.3385023     </td></tr>\n",
       "\t<tr><td>rs11144134=C:T</td><td>0.2458647     </td></tr>\n",
       "\t<tr><td>rs11144134=T:T</td><td>0.5927116     </td></tr>\n",
       "\t<tr><td>PlieguePec=0  </td><td>0.6865258     </td></tr>\n",
       "\t<tr><td>PlieguePec=1  </td><td>0.3129669     </td></tr>\n",
       "\t<tr><td>rs7191721=A:A </td><td>0.2889785     </td></tr>\n",
       "\t<tr><td>rs7191721=A:G </td><td>0.6513561     </td></tr>\n",
       "\t<tr><td>rs7191721=G:G </td><td>0.4524331     </td></tr>\n",
       "</tbody>\n",
       "</table>\n"
      ],
      "text/latex": [
       "\\begin{tabular}{r|ll}\n",
       " Predictors\\_states & frequency\\\\\n",
       "\\hline\n",
       "\t W1Lac=0        & 0.6795455     \\\\\n",
       "\t W1Lac=1        & 0.3385023     \\\\\n",
       "\t rs11144134=C:T & 0.2458647     \\\\\n",
       "\t rs11144134=T:T & 0.5927116     \\\\\n",
       "\t PlieguePec=0   & 0.6865258     \\\\\n",
       "\t PlieguePec=1   & 0.3129669     \\\\\n",
       "\t rs7191721=A:A  & 0.2889785     \\\\\n",
       "\t rs7191721=A:G  & 0.6513561     \\\\\n",
       "\t rs7191721=G:G  & 0.4524331     \\\\\n",
       "\\end{tabular}\n"
      ],
      "text/markdown": [
       "\n",
       "| Predictors_states | frequency |\n",
       "|---|---|\n",
       "| W1Lac=0        | 0.6795455      |\n",
       "| W1Lac=1        | 0.3385023      |\n",
       "| rs11144134=C:T | 0.2458647      |\n",
       "| rs11144134=T:T | 0.5927116      |\n",
       "| PlieguePec=0   | 0.6865258      |\n",
       "| PlieguePec=1   | 0.3129669      |\n",
       "| rs7191721=A:A  | 0.2889785      |\n",
       "| rs7191721=A:G  | 0.6513561      |\n",
       "| rs7191721=G:G  | 0.4524331      |\n",
       "\n"
      ],
      "text/plain": [
       "  Predictors_states frequency\n",
       "1 W1Lac=0           0.6795455\n",
       "2 W1Lac=1           0.3385023\n",
       "3 rs11144134=C:T    0.2458647\n",
       "4 rs11144134=T:T    0.5927116\n",
       "5 PlieguePec=0      0.6865258\n",
       "6 PlieguePec=1      0.3129669\n",
       "7 rs7191721=A:A     0.2889785\n",
       "8 rs7191721=A:G     0.6513561\n",
       "9 rs7191721=G:G     0.4524331"
      ]
     },
     "metadata": {},
     "output_type": "display_data"
    }
   ],
   "source": [
    "rownames(df) <- NULL\n",
    "df"
   ]
  },
  {
   "cell_type": "markdown",
   "metadata": {},
   "source": [
    "We save the data of the probability table to be represented in a barplot:"
   ]
  },
  {
   "cell_type": "code",
   "execution_count": 32,
   "metadata": {},
   "outputs": [
    {
     "name": "stderr",
     "output_type": "stream",
     "text": [
      "Warning message:\n",
      "\"package 'ggplot2' was built under R version 3.6.3\""
     ]
    }
   ],
   "source": [
    "library(ggplot2)"
   ]
  },
  {
   "cell_type": "code",
   "execution_count": 33,
   "metadata": {},
   "outputs": [],
   "source": [
    "g_plot_var_0 <- ggplot(df, aes(x = Predictors_states, y = frequency, fill = Predictors_states)) + geom_bar(stat = \"identity\")"
   ]
  },
  {
   "cell_type": "code",
   "execution_count": 34,
   "metadata": {},
   "outputs": [],
   "source": [
    "g_plot_var_0 <- g_plot_var_0 + ggtitle('Frequency of W1.2MedDifWRelFFM1=0') +\n",
    "  xlab('Predictor states') + ylab('Frecuency of W1.2MedDifWRelFFM1Bin')+\n",
    "  theme(\n",
    "        axis.text.x=element_blank(),plot.title = element_text(size=12))+ guides(fill=guide_legend(title=\"Predictor states\"))"
   ]
  },
  {
   "cell_type": "markdown",
   "metadata": {},
   "source": [
    "### Conditional probabilities for  W1.2MedDifWRelFFM1Bin = 1<a class=\"anchor\" id=\"8\"></a>"
   ]
  },
  {
   "cell_type": "markdown",
   "metadata": {},
   "source": [
    "* [Returning to the index of contents](#index)"
   ]
  },
  {
   "cell_type": "markdown",
   "metadata": {},
   "source": [
    "We calculate the conditioned probabilities that given a state of a predictor, the state 0 of the target variable happens."
   ]
  },
  {
   "cell_type": "code",
   "execution_count": 35,
   "metadata": {},
   "outputs": [],
   "source": [
    "W1Lac_0_prob_2 = prop.table(table(cpdist(tabu_fitted, nodes = \"W1.2MedDifWRelFFM1Bin\",evidence = (W1Lac == \"0\"))))[2]\n",
    "W1Lac_1_prob_2 = prop.table(table(cpdist(tabu_fitted, nodes = \"W1.2MedDifWRelFFM1Bin\",evidence = (W1Lac == \"1\"))))[2]\n",
    "rs11144134_CT_prob_2 = prop.table(table(cpdist(tabu_fitted, nodes = \"W1.2MedDifWRelFFM1Bin\",\n",
    "                                            evidence = (rs11144134 == 'C:T'))))[2]\n",
    "rs11144134_TT_prob_2 = prop.table(table(cpdist(tabu_fitted, nodes = \"W1.2MedDifWRelFFM1Bin\",\n",
    "                                            evidence = (rs11144134 == 'T:T'))))[2]\n",
    "PlieguePec_0_prob_2 = prop.table(table(cpdist(tabu_fitted, nodes = \"W1.2MedDifWRelFFM1Bin\",evidence = (PlieguePec == \"0\"))))[2]\n",
    "PlieguePec_1_prob_2 = prop.table(table(cpdist(tabu_fitted, nodes = \"W1.2MedDifWRelFFM1Bin\",evidence = (PlieguePec == \"1\"))))[2]\n",
    "rs7191721_AA_prob_2 = prop.table(table(cpdist(tabu_fitted, nodes = \"W1.2MedDifWRelFFM1Bin\",\n",
    "                                            evidence = (rs7191721 == 'A:A'))))[2]\n",
    "rs7191721_AG_prob_2 = prop.table(table(cpdist(tabu_fitted, nodes = \"W1.2MedDifWRelFFM1Bin\",\n",
    "                                            evidence = (rs7191721 == 'A:G'))))[2]\n",
    "rs7191721_GG_prob_2 = prop.table(table(cpdist(tabu_fitted, nodes = \"W1.2MedDifWRelFFM1Bin\",\n",
    "                                            evidence = (rs7191721 == 'G:G'))))[2]"
   ]
  },
  {
   "cell_type": "markdown",
   "metadata": {},
   "source": [
    "Now, we create a probability table:"
   ]
  },
  {
   "cell_type": "code",
   "execution_count": 36,
   "metadata": {},
   "outputs": [],
   "source": [
    "names(W1Lac_0_prob_2) <- 'W1Lac=0'\n",
    "names(W1Lac_1_prob_2) <- 'W1Lac=1'\n",
    "names(rs11144134_CT_prob_2)<- 'rs11144134=C:T'\n",
    "names(rs11144134_TT_prob_2)<- 'rs11144134=T:T'\n",
    "names(PlieguePec_0_prob_2) <- 'PlieguePec=0'\n",
    "names(PlieguePec_1_prob_2) <- 'PlieguePec=1'\n",
    "names(rs7191721_AA_prob_2) <- 'rs7191721=A:A'\n",
    "names(rs7191721_AG_prob_2) <- 'rs7191721=A:G'\n",
    "names(rs7191721_GG_prob_2) <- 'rs7191721=G:G'"
   ]
  },
  {
   "cell_type": "code",
   "execution_count": 37,
   "metadata": {},
   "outputs": [],
   "source": [
    "variable_objetivo_1 <- c(W1Lac_0_prob_2,W1Lac_1_prob_2,rs11144134_CT_prob_2,rs11144134_TT_prob_2,PlieguePec_0_prob_2,\n",
    "                        PlieguePec_1_prob_2,rs7191721_AA_prob_2,rs7191721_AG_prob_2,rs7191721_GG_prob_2)"
   ]
  },
  {
   "cell_type": "code",
   "execution_count": 38,
   "metadata": {},
   "outputs": [
    {
     "data": {
      "text/html": [
       "<dl class=dl-horizontal>\n",
       "\t<dt>W1Lac=0</dt>\n",
       "\t\t<dd>0.316567206592782</dd>\n",
       "\t<dt>W1Lac=1</dt>\n",
       "\t\t<dd>0.661889663918833</dd>\n",
       "\t<dt>rs11144134=C:T</dt>\n",
       "\t\t<dd>0.755474452554745</dd>\n",
       "\t<dt>rs11144134=T:T</dt>\n",
       "\t\t<dd>0.414767547857794</dd>\n",
       "\t<dt>PlieguePec=0</dt>\n",
       "\t\t<dd>0.319160244485783</dd>\n",
       "\t<dt>PlieguePec=1</dt>\n",
       "\t\t<dd>0.689181987743139</dd>\n",
       "\t<dt>rs7191721=A:A</dt>\n",
       "\t\t<dd>0.70838989953842</dd>\n",
       "\t<dt>rs7191721=A:G</dt>\n",
       "\t\t<dd>0.35450278674098</dd>\n",
       "\t<dt>rs7191721=G:G</dt>\n",
       "\t\t<dd>0.552689112374289</dd>\n",
       "</dl>\n"
      ],
      "text/latex": [
       "\\begin{description*}\n",
       "\\item[W1Lac=0] 0.316567206592782\n",
       "\\item[W1Lac=1] 0.661889663918833\n",
       "\\item[rs11144134=C:T] 0.755474452554745\n",
       "\\item[rs11144134=T:T] 0.414767547857794\n",
       "\\item[PlieguePec=0] 0.319160244485783\n",
       "\\item[PlieguePec=1] 0.689181987743139\n",
       "\\item[rs7191721=A:A] 0.70838989953842\n",
       "\\item[rs7191721=A:G] 0.35450278674098\n",
       "\\item[rs7191721=G:G] 0.552689112374289\n",
       "\\end{description*}\n"
      ],
      "text/markdown": [
       "W1Lac=0\n",
       ":   0.316567206592782W1Lac=1\n",
       ":   0.661889663918833rs11144134=C:T\n",
       ":   0.755474452554745rs11144134=T:T\n",
       ":   0.414767547857794PlieguePec=0\n",
       ":   0.319160244485783PlieguePec=1\n",
       ":   0.689181987743139rs7191721=A:A\n",
       ":   0.70838989953842rs7191721=A:G\n",
       ":   0.35450278674098rs7191721=G:G\n",
       ":   0.552689112374289\n",
       "\n"
      ],
      "text/plain": [
       "       W1Lac=0        W1Lac=1 rs11144134=C:T rs11144134=T:T   PlieguePec=0 \n",
       "     0.3165672      0.6618897      0.7554745      0.4147675      0.3191602 \n",
       "  PlieguePec=1  rs7191721=A:A  rs7191721=A:G  rs7191721=G:G \n",
       "     0.6891820      0.7083899      0.3545028      0.5526891 "
      ]
     },
     "metadata": {},
     "output_type": "display_data"
    }
   ],
   "source": [
    "variable_objetivo_1"
   ]
  },
  {
   "cell_type": "code",
   "execution_count": 39,
   "metadata": {},
   "outputs": [],
   "source": [
    "df2 <-data.frame(names(variable_objetivo_1),variable_objetivo_1)\n",
    "names(df2) <- c('Predictors_states','frequency')"
   ]
  },
  {
   "cell_type": "code",
   "execution_count": 40,
   "metadata": {
    "scrolled": true
   },
   "outputs": [
    {
     "data": {
      "text/html": [
       "<table>\n",
       "<thead><tr><th scope=col>Predictors_states</th><th scope=col>frequency</th></tr></thead>\n",
       "<tbody>\n",
       "\t<tr><td>W1Lac=0       </td><td>0.3165672     </td></tr>\n",
       "\t<tr><td>W1Lac=1       </td><td>0.6618897     </td></tr>\n",
       "\t<tr><td>rs11144134=C:T</td><td>0.7554745     </td></tr>\n",
       "\t<tr><td>rs11144134=T:T</td><td>0.4147675     </td></tr>\n",
       "\t<tr><td>PlieguePec=0  </td><td>0.3191602     </td></tr>\n",
       "\t<tr><td>PlieguePec=1  </td><td>0.6891820     </td></tr>\n",
       "\t<tr><td>rs7191721=A:A </td><td>0.7083899     </td></tr>\n",
       "\t<tr><td>rs7191721=A:G </td><td>0.3545028     </td></tr>\n",
       "\t<tr><td>rs7191721=G:G </td><td>0.5526891     </td></tr>\n",
       "</tbody>\n",
       "</table>\n"
      ],
      "text/latex": [
       "\\begin{tabular}{r|ll}\n",
       " Predictors\\_states & frequency\\\\\n",
       "\\hline\n",
       "\t W1Lac=0        & 0.3165672     \\\\\n",
       "\t W1Lac=1        & 0.6618897     \\\\\n",
       "\t rs11144134=C:T & 0.7554745     \\\\\n",
       "\t rs11144134=T:T & 0.4147675     \\\\\n",
       "\t PlieguePec=0   & 0.3191602     \\\\\n",
       "\t PlieguePec=1   & 0.6891820     \\\\\n",
       "\t rs7191721=A:A  & 0.7083899     \\\\\n",
       "\t rs7191721=A:G  & 0.3545028     \\\\\n",
       "\t rs7191721=G:G  & 0.5526891     \\\\\n",
       "\\end{tabular}\n"
      ],
      "text/markdown": [
       "\n",
       "| Predictors_states | frequency |\n",
       "|---|---|\n",
       "| W1Lac=0        | 0.3165672      |\n",
       "| W1Lac=1        | 0.6618897      |\n",
       "| rs11144134=C:T | 0.7554745      |\n",
       "| rs11144134=T:T | 0.4147675      |\n",
       "| PlieguePec=0   | 0.3191602      |\n",
       "| PlieguePec=1   | 0.6891820      |\n",
       "| rs7191721=A:A  | 0.7083899      |\n",
       "| rs7191721=A:G  | 0.3545028      |\n",
       "| rs7191721=G:G  | 0.5526891      |\n",
       "\n"
      ],
      "text/plain": [
       "  Predictors_states frequency\n",
       "1 W1Lac=0           0.3165672\n",
       "2 W1Lac=1           0.6618897\n",
       "3 rs11144134=C:T    0.7554745\n",
       "4 rs11144134=T:T    0.4147675\n",
       "5 PlieguePec=0      0.3191602\n",
       "6 PlieguePec=1      0.6891820\n",
       "7 rs7191721=A:A     0.7083899\n",
       "8 rs7191721=A:G     0.3545028\n",
       "9 rs7191721=G:G     0.5526891"
      ]
     },
     "metadata": {},
     "output_type": "display_data"
    }
   ],
   "source": [
    "rownames(df2) <- NULL\n",
    "df2"
   ]
  },
  {
   "cell_type": "markdown",
   "metadata": {},
   "source": [
    "We save the data of the probability table to be represented in a barplot:"
   ]
  },
  {
   "cell_type": "code",
   "execution_count": 41,
   "metadata": {},
   "outputs": [],
   "source": [
    "g_plot_var_1 <- ggplot(df2, aes(x = Predictors_states, y = frequency, fill = Predictors_states)) + geom_bar(stat = \"identity\")"
   ]
  },
  {
   "cell_type": "code",
   "execution_count": 42,
   "metadata": {},
   "outputs": [],
   "source": [
    "g_plot_var_1 <- g_plot_var_1 + ggtitle('Frequency of W1.2MedDifWRelFFM1=1') +\n",
    "  xlab('Predictor states') + ylab('Frecuency of W1.2MedDifWRelFFM1Bin')+\n",
    "  theme(\n",
    "        axis.text.x=element_blank(),plot.title = element_text(size=12))+ guides(fill=guide_legend(title=\"Predictor states\"))"
   ]
  },
  {
   "cell_type": "markdown",
   "metadata": {},
   "source": [
    "We put together all the information:"
   ]
  },
  {
   "cell_type": "code",
   "execution_count": 43,
   "metadata": {},
   "outputs": [
    {
     "name": "stderr",
     "output_type": "stream",
     "text": [
      "Warning message:\n",
      "\"package 'gridExtra' was built under R version 3.6.2\""
     ]
    }
   ],
   "source": [
    "library(gridExtra)"
   ]
  },
  {
   "cell_type": "code",
   "execution_count": 46,
   "metadata": {},
   "outputs": [
    {
     "data": {
      "image/png": "[encoded data removed]",
      "text/plain": [
       "plot without title"
      ]
     },
     "metadata": {},
     "output_type": "display_data"
    }
   ],
   "source": [
    "grid.arrange(g_plot_var_0, g_plot_var_1, nrow = 1)"
   ]
  }
 ],
 "metadata": {
  "kernelspec": {
   "display_name": "R",
   "language": "R",
   "name": "ir"
  },
  "language_info": {
   "codemirror_mode": "r",
   "file_extension": ".r",
   "mimetype": "text/x-r-source",
   "name": "R",
   "pygments_lexer": "r",
   "version": "3.6.1"
  }
 },
 "nbformat": 4,
 "nbformat_minor": 4
}
