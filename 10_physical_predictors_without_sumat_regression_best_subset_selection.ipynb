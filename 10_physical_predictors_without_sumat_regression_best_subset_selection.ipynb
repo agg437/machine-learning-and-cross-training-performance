{
 "cells": [
  {
   "cell_type": "markdown",
   "metadata": {},
   "source": [
    "# <p style=\"text-align: justify;\"><div class=\"alert alert-info\" role=\"alert\">Multiple Linear Regression with physical predictors without Sumat predictor using Best Subset Selection</div></p>\n",
    "\n",
    "## `Ana González Guerra` \n",
    "\n",
    "### ` Student of the master in Data Science at the University of Cantabria` "
   ]
  },
  {
   "cell_type": "markdown",
   "metadata": {},
   "source": [
    "## Index<a class=\"anchor\" id=\"index\"></a>\n",
    "* [Loading data](#1)\n",
    "    * [Physical predictors](#2)\n",
    "    * [Target variables](#3)\n",
    "* [Train/test partition](#4)\n",
    "* [Multiple Linear Regression with Best Subset Selection](#5)\n",
    "    * [Cross validation](#6)\n",
    "* [References](#ref)\n",
    "   "
   ]
  },
  {
   "cell_type": "markdown",
   "metadata": {},
   "source": [
    "## Loading data <a class=\"anchor\" id =\"1\" ></a>\n",
    "\n",
    "* [Returning to the index of contents](#index)\n",
    "\n",
    "### Physical predictors <a class=\"anchor\" id=\"2\"></a>\n",
    "\n",
    "* [Returning to the index of contents](#index)"
   ]
  },
  {
   "cell_type": "code",
   "execution_count": 3,
   "metadata": {
    "scrolled": true
   },
   "outputs": [
    {
     "data": {
      "text/html": [
       "<table>\n",
       "<thead><tr><th scope=col>W1Fc</th><th scope=col>W1Ox</th><th scope=col>W1Lac</th><th scope=col>W1tFc</th><th scope=col>W1tOx</th><th scope=col>W1tLac</th><th scope=col>W1tBorg</th><th scope=col>W1t5Fc</th><th scope=col>W1t5Ox</th><th scope=col>W1t5Lac</th><th scope=col>...</th><th scope=col>PlieguePec</th><th scope=col>PliegueAx</th><th scope=col>PliegueTri</th><th scope=col>PliegueSub</th><th scope=col>PliegueAbd</th><th scope=col>PliegueSup</th><th scope=col>tpcgrasa1</th><th scope=col>tpcgrasa2</th><th scope=col>PerCue</th><th scope=col>PerCin</th></tr></thead>\n",
       "<tbody>\n",
       "\t<tr><td> 0.09690101</td><td>-0.3612723 </td><td>-0.2759823 </td><td>-1.45702474</td><td> 0.54870046</td><td>-1.5817296 </td><td>-1.2280957 </td><td>-3.38052307</td><td>-0.7215023 </td><td>-2.7847814 </td><td>...        </td><td>-0.8757439 </td><td>-0.8951047 </td><td> 1.0159821 </td><td>-1.0183111 </td><td>-1.2665456 </td><td>-1.0811267 </td><td> 0.37659536</td><td>0.02830971 </td><td>-2.2056212 </td><td>-1.727334  </td></tr>\n",
       "\t<tr><td>-1.03822515</td><td>-0.6698591 </td><td> 1.5789808 </td><td>-0.61695891</td><td>-1.07606258</td><td> 0.2939295 </td><td>-1.2280957 </td><td>-2.55958657</td><td> 0.2886009 </td><td>-2.1390350 </td><td>...        </td><td>-1.0373448 </td><td>-1.0624242 </td><td>-0.8734794 </td><td>-1.2829706 </td><td>-1.3202312 </td><td>-1.1361661 </td><td>-0.43175736</td><td>0.03866565 </td><td>-0.8281578 </td><td>-1.462643  </td></tr>\n",
       "\t<tr><td> 1.32283727</td><td> 0.5644880 </td><td>-1.0179676 </td><td>-0.01024471</td><td> 0.79866401</td><td>-1.1128148 </td><td> 0.8699011 </td><td> 0.01268113</td><td> 0.2886009 </td><td>-1.0493379 </td><td>...        </td><td>-1.1038863 </td><td>-1.2619206 </td><td>-1.1918942 </td><td>-1.5390928 </td><td>-1.4276024 </td><td>-1.4113634 </td><td>-0.86426995</td><td>0.23888577 </td><td>-2.2056212 </td><td>-1.674395  </td></tr>\n",
       "\t<tr><td> 0.59635652</td><td> 0.4101946 </td><td>-0.3996465 </td><td>-0.66362924</td><td>-1.82595321</td><td> 0.2001465 </td><td>-1.2280957 </td><td> 1.10726313</td><td> 0.4329014 </td><td>-0.7668239 </td><td>...        </td><td>-0.8472261 </td><td>-0.6537784 </td><td> 0.3040546 </td><td>-0.6255905 </td><td>-0.6798385 </td><td>-0.4595045 </td><td> 0.61849286</td><td>1.07832946 </td><td>-0.9659042 </td><td>-1.356766  </td></tr>\n",
       "\t<tr><td>-2.03713617</td><td> 0.4101946 </td><td> 0.8369956 </td><td> 0.36311788</td><td> 0.04877337</td><td> 0.8566272 </td><td>-0.1790973 </td><td>-0.09677707</td><td>-1.0101032 </td><td>-0.3228732 </td><td>...        </td><td> 1.2440796 </td><td> 0.8038323 </td><td> 1.8540739 </td><td> 0.8855301 </td><td> 1.0917868 </td><td> 1.2013922 </td><td> 2.13407275</td><td>1.66913269 </td><td>-1.5168895 </td><td>-1.219127  </td></tr>\n",
       "\t<tr><td>-0.17552926</td><td> 0.7187814 </td><td> 0.3423387 </td><td> 0.45645853</td><td> 0.67368224</td><td>-0.3625512 </td><td> 0.8699011 </td><td>-0.31569347</td><td> 0.5772018 </td><td>-0.9282605 </td><td>...        </td><td>-0.8092024 </td><td>-0.8564925 </td><td> 0.4933012 </td><td>-0.7963386 </td><td>-1.1169928 </td><td>-0.8577312 </td><td>-0.07384767</td><td>0.33604799 </td><td>-1.1036505 </td><td>-1.303828  </td></tr>\n",
       "</tbody>\n",
       "</table>\n"
      ],
      "text/latex": [
       "\\begin{tabular}{r|llllllllllllllllllllllllllllllllll}\n",
       " W1Fc & W1Ox & W1Lac & W1tFc & W1tOx & W1tLac & W1tBorg & W1t5Fc & W1t5Ox & W1t5Lac & ... & PlieguePec & PliegueAx & PliegueTri & PliegueSub & PliegueAbd & PliegueSup & tpcgrasa1 & tpcgrasa2 & PerCue & PerCin\\\\\n",
       "\\hline\n",
       "\t  0.09690101 & -0.3612723  & -0.2759823  & -1.45702474 &  0.54870046 & -1.5817296  & -1.2280957  & -3.38052307 & -0.7215023  & -2.7847814  & ...         & -0.8757439  & -0.8951047  &  1.0159821  & -1.0183111  & -1.2665456  & -1.0811267  &  0.37659536 & 0.02830971  & -2.2056212  & -1.727334  \\\\\n",
       "\t -1.03822515 & -0.6698591  &  1.5789808  & -0.61695891 & -1.07606258 &  0.2939295  & -1.2280957  & -2.55958657 &  0.2886009  & -2.1390350  & ...         & -1.0373448  & -1.0624242  & -0.8734794  & -1.2829706  & -1.3202312  & -1.1361661  & -0.43175736 & 0.03866565  & -0.8281578  & -1.462643  \\\\\n",
       "\t  1.32283727 &  0.5644880  & -1.0179676  & -0.01024471 &  0.79866401 & -1.1128148  &  0.8699011  &  0.01268113 &  0.2886009  & -1.0493379  & ...         & -1.1038863  & -1.2619206  & -1.1918942  & -1.5390928  & -1.4276024  & -1.4113634  & -0.86426995 & 0.23888577  & -2.2056212  & -1.674395  \\\\\n",
       "\t  0.59635652 &  0.4101946  & -0.3996465  & -0.66362924 & -1.82595321 &  0.2001465  & -1.2280957  &  1.10726313 &  0.4329014  & -0.7668239  & ...         & -0.8472261  & -0.6537784  &  0.3040546  & -0.6255905  & -0.6798385  & -0.4595045  &  0.61849286 & 1.07832946  & -0.9659042  & -1.356766  \\\\\n",
       "\t -2.03713617 &  0.4101946  &  0.8369956  &  0.36311788 &  0.04877337 &  0.8566272  & -0.1790973  & -0.09677707 & -1.0101032  & -0.3228732  & ...         &  1.2440796  &  0.8038323  &  1.8540739  &  0.8855301  &  1.0917868  &  1.2013922  &  2.13407275 & 1.66913269  & -1.5168895  & -1.219127  \\\\\n",
       "\t -0.17552926 &  0.7187814  &  0.3423387  &  0.45645853 &  0.67368224 & -0.3625512  &  0.8699011  & -0.31569347 &  0.5772018  & -0.9282605  & ...         & -0.8092024  & -0.8564925  &  0.4933012  & -0.7963386  & -1.1169928  & -0.8577312  & -0.07384767 & 0.33604799  & -1.1036505  & -1.303828  \\\\\n",
       "\\end{tabular}\n"
      ],
      "text/markdown": [
       "\n",
       "| W1Fc | W1Ox | W1Lac | W1tFc | W1tOx | W1tLac | W1tBorg | W1t5Fc | W1t5Ox | W1t5Lac | ... | PlieguePec | PliegueAx | PliegueTri | PliegueSub | PliegueAbd | PliegueSup | tpcgrasa1 | tpcgrasa2 | PerCue | PerCin |\n",
       "|---|---|---|---|---|---|---|---|---|---|---|---|---|---|---|---|---|---|---|---|---|\n",
       "|  0.09690101 | -0.3612723  | -0.2759823  | -1.45702474 |  0.54870046 | -1.5817296  | -1.2280957  | -3.38052307 | -0.7215023  | -2.7847814  | ...         | -0.8757439  | -0.8951047  |  1.0159821  | -1.0183111  | -1.2665456  | -1.0811267  |  0.37659536 | 0.02830971  | -2.2056212  | -1.727334   |\n",
       "| -1.03822515 | -0.6698591  |  1.5789808  | -0.61695891 | -1.07606258 |  0.2939295  | -1.2280957  | -2.55958657 |  0.2886009  | -2.1390350  | ...         | -1.0373448  | -1.0624242  | -0.8734794  | -1.2829706  | -1.3202312  | -1.1361661  | -0.43175736 | 0.03866565  | -0.8281578  | -1.462643   |\n",
       "|  1.32283727 |  0.5644880  | -1.0179676  | -0.01024471 |  0.79866401 | -1.1128148  |  0.8699011  |  0.01268113 |  0.2886009  | -1.0493379  | ...         | -1.1038863  | -1.2619206  | -1.1918942  | -1.5390928  | -1.4276024  | -1.4113634  | -0.86426995 | 0.23888577  | -2.2056212  | -1.674395   |\n",
       "|  0.59635652 |  0.4101946  | -0.3996465  | -0.66362924 | -1.82595321 |  0.2001465  | -1.2280957  |  1.10726313 |  0.4329014  | -0.7668239  | ...         | -0.8472261  | -0.6537784  |  0.3040546  | -0.6255905  | -0.6798385  | -0.4595045  |  0.61849286 | 1.07832946  | -0.9659042  | -1.356766   |\n",
       "| -2.03713617 |  0.4101946  |  0.8369956  |  0.36311788 |  0.04877337 |  0.8566272  | -0.1790973  | -0.09677707 | -1.0101032  | -0.3228732  | ...         |  1.2440796  |  0.8038323  |  1.8540739  |  0.8855301  |  1.0917868  |  1.2013922  |  2.13407275 | 1.66913269  | -1.5168895  | -1.219127   |\n",
       "| -0.17552926 |  0.7187814  |  0.3423387  |  0.45645853 |  0.67368224 | -0.3625512  |  0.8699011  | -0.31569347 |  0.5772018  | -0.9282605  | ...         | -0.8092024  | -0.8564925  |  0.4933012  | -0.7963386  | -1.1169928  | -0.8577312  | -0.07384767 | 0.33604799  | -1.1036505  | -1.303828   |\n",
       "\n"
      ],
      "text/plain": [
       "  W1Fc        W1Ox       W1Lac      W1tFc       W1tOx       W1tLac    \n",
       "1  0.09690101 -0.3612723 -0.2759823 -1.45702474  0.54870046 -1.5817296\n",
       "2 -1.03822515 -0.6698591  1.5789808 -0.61695891 -1.07606258  0.2939295\n",
       "3  1.32283727  0.5644880 -1.0179676 -0.01024471  0.79866401 -1.1128148\n",
       "4  0.59635652  0.4101946 -0.3996465 -0.66362924 -1.82595321  0.2001465\n",
       "5 -2.03713617  0.4101946  0.8369956  0.36311788  0.04877337  0.8566272\n",
       "6 -0.17552926  0.7187814  0.3423387  0.45645853  0.67368224 -0.3625512\n",
       "  W1tBorg    W1t5Fc      W1t5Ox     W1t5Lac    ... PlieguePec PliegueAx \n",
       "1 -1.2280957 -3.38052307 -0.7215023 -2.7847814 ... -0.8757439 -0.8951047\n",
       "2 -1.2280957 -2.55958657  0.2886009 -2.1390350 ... -1.0373448 -1.0624242\n",
       "3  0.8699011  0.01268113  0.2886009 -1.0493379 ... -1.1038863 -1.2619206\n",
       "4 -1.2280957  1.10726313  0.4329014 -0.7668239 ... -0.8472261 -0.6537784\n",
       "5 -0.1790973 -0.09677707 -1.0101032 -0.3228732 ...  1.2440796  0.8038323\n",
       "6  0.8699011 -0.31569347  0.5772018 -0.9282605 ... -0.8092024 -0.8564925\n",
       "  PliegueTri PliegueSub PliegueAbd PliegueSup tpcgrasa1   tpcgrasa2  PerCue    \n",
       "1  1.0159821 -1.0183111 -1.2665456 -1.0811267  0.37659536 0.02830971 -2.2056212\n",
       "2 -0.8734794 -1.2829706 -1.3202312 -1.1361661 -0.43175736 0.03866565 -0.8281578\n",
       "3 -1.1918942 -1.5390928 -1.4276024 -1.4113634 -0.86426995 0.23888577 -2.2056212\n",
       "4  0.3040546 -0.6255905 -0.6798385 -0.4595045  0.61849286 1.07832946 -0.9659042\n",
       "5  1.8540739  0.8855301  1.0917868  1.2013922  2.13407275 1.66913269 -1.5168895\n",
       "6  0.4933012 -0.7963386 -1.1169928 -0.8577312 -0.07384767 0.33604799 -1.1036505\n",
       "  PerCin   \n",
       "1 -1.727334\n",
       "2 -1.462643\n",
       "3 -1.674395\n",
       "4 -1.356766\n",
       "5 -1.219127\n",
       "6 -1.303828"
      ]
     },
     "metadata": {},
     "output_type": "display_data"
    }
   ],
   "source": [
    "handle_physical <- read.csv('handle_physical_transformed_for_multiple_linear_regression.csv')\n",
    "head(handle_physical)"
   ]
  },
  {
   "cell_type": "code",
   "execution_count": 4,
   "metadata": {},
   "outputs": [
    {
     "data": {
      "text/html": [
       "<ol class=list-inline>\n",
       "\t<li>'W1Fc'</li>\n",
       "\t<li>'W1Ox'</li>\n",
       "\t<li>'W1Lac'</li>\n",
       "\t<li>'W1tFc'</li>\n",
       "\t<li>'W1tOx'</li>\n",
       "\t<li>'W1tLac'</li>\n",
       "\t<li>'W1tBorg'</li>\n",
       "\t<li>'W1t5Fc'</li>\n",
       "\t<li>'W1t5Ox'</li>\n",
       "\t<li>'W1t5Lac'</li>\n",
       "\t<li>'W2tFc'</li>\n",
       "\t<li>'W2tOx'</li>\n",
       "\t<li>'W2tLac'</li>\n",
       "\t<li>'W2tBorg'</li>\n",
       "\t<li>'W2t5Fc'</li>\n",
       "\t<li>'W2t5Ox'</li>\n",
       "\t<li>'W2t5Lac'</li>\n",
       "\t<li>'W2t10Fc'</li>\n",
       "\t<li>'W2t10Ox'</li>\n",
       "\t<li>'W2t10Lac'</li>\n",
       "\t<li>'Sumat'</li>\n",
       "\t<li>'Peso'</li>\n",
       "\t<li>'Edad'</li>\n",
       "\t<li>'Altura'</li>\n",
       "\t<li>'PlieguePec'</li>\n",
       "\t<li>'PliegueAx'</li>\n",
       "\t<li>'PliegueTri'</li>\n",
       "\t<li>'PliegueSub'</li>\n",
       "\t<li>'PliegueAbd'</li>\n",
       "\t<li>'PliegueSup'</li>\n",
       "\t<li>'tpcgrasa1'</li>\n",
       "\t<li>'tpcgrasa2'</li>\n",
       "\t<li>'PerCue'</li>\n",
       "\t<li>'PerCin'</li>\n",
       "</ol>\n"
      ],
      "text/latex": [
       "\\begin{enumerate*}\n",
       "\\item 'W1Fc'\n",
       "\\item 'W1Ox'\n",
       "\\item 'W1Lac'\n",
       "\\item 'W1tFc'\n",
       "\\item 'W1tOx'\n",
       "\\item 'W1tLac'\n",
       "\\item 'W1tBorg'\n",
       "\\item 'W1t5Fc'\n",
       "\\item 'W1t5Ox'\n",
       "\\item 'W1t5Lac'\n",
       "\\item 'W2tFc'\n",
       "\\item 'W2tOx'\n",
       "\\item 'W2tLac'\n",
       "\\item 'W2tBorg'\n",
       "\\item 'W2t5Fc'\n",
       "\\item 'W2t5Ox'\n",
       "\\item 'W2t5Lac'\n",
       "\\item 'W2t10Fc'\n",
       "\\item 'W2t10Ox'\n",
       "\\item 'W2t10Lac'\n",
       "\\item 'Sumat'\n",
       "\\item 'Peso'\n",
       "\\item 'Edad'\n",
       "\\item 'Altura'\n",
       "\\item 'PlieguePec'\n",
       "\\item 'PliegueAx'\n",
       "\\item 'PliegueTri'\n",
       "\\item 'PliegueSub'\n",
       "\\item 'PliegueAbd'\n",
       "\\item 'PliegueSup'\n",
       "\\item 'tpcgrasa1'\n",
       "\\item 'tpcgrasa2'\n",
       "\\item 'PerCue'\n",
       "\\item 'PerCin'\n",
       "\\end{enumerate*}\n"
      ],
      "text/markdown": [
       "1. 'W1Fc'\n",
       "2. 'W1Ox'\n",
       "3. 'W1Lac'\n",
       "4. 'W1tFc'\n",
       "5. 'W1tOx'\n",
       "6. 'W1tLac'\n",
       "7. 'W1tBorg'\n",
       "8. 'W1t5Fc'\n",
       "9. 'W1t5Ox'\n",
       "10. 'W1t5Lac'\n",
       "11. 'W2tFc'\n",
       "12. 'W2tOx'\n",
       "13. 'W2tLac'\n",
       "14. 'W2tBorg'\n",
       "15. 'W2t5Fc'\n",
       "16. 'W2t5Ox'\n",
       "17. 'W2t5Lac'\n",
       "18. 'W2t10Fc'\n",
       "19. 'W2t10Ox'\n",
       "20. 'W2t10Lac'\n",
       "21. 'Sumat'\n",
       "22. 'Peso'\n",
       "23. 'Edad'\n",
       "24. 'Altura'\n",
       "25. 'PlieguePec'\n",
       "26. 'PliegueAx'\n",
       "27. 'PliegueTri'\n",
       "28. 'PliegueSub'\n",
       "29. 'PliegueAbd'\n",
       "30. 'PliegueSup'\n",
       "31. 'tpcgrasa1'\n",
       "32. 'tpcgrasa2'\n",
       "33. 'PerCue'\n",
       "34. 'PerCin'\n",
       "\n",
       "\n"
      ],
      "text/plain": [
       " [1] \"W1Fc\"       \"W1Ox\"       \"W1Lac\"      \"W1tFc\"      \"W1tOx\"     \n",
       " [6] \"W1tLac\"     \"W1tBorg\"    \"W1t5Fc\"     \"W1t5Ox\"     \"W1t5Lac\"   \n",
       "[11] \"W2tFc\"      \"W2tOx\"      \"W2tLac\"     \"W2tBorg\"    \"W2t5Fc\"    \n",
       "[16] \"W2t5Ox\"     \"W2t5Lac\"    \"W2t10Fc\"    \"W2t10Ox\"    \"W2t10Lac\"  \n",
       "[21] \"Sumat\"      \"Peso\"       \"Edad\"       \"Altura\"     \"PlieguePec\"\n",
       "[26] \"PliegueAx\"  \"PliegueTri\" \"PliegueSub\" \"PliegueAbd\" \"PliegueSup\"\n",
       "[31] \"tpcgrasa1\"  \"tpcgrasa2\"  \"PerCue\"     \"PerCin\"    "
      ]
     },
     "metadata": {},
     "output_type": "display_data"
    }
   ],
   "source": [
    "names(handle_physical)"
   ]
  },
  {
   "cell_type": "markdown",
   "metadata": {},
   "source": [
    "To avoid interference with the predictors related to FFM1 and similars, we eliminated the predictors that in their name contain the FM substring."
   ]
  },
  {
   "cell_type": "code",
   "execution_count": 5,
   "metadata": {},
   "outputs": [
    {
     "data": {
      "text/html": [
       "<ol class=list-inline>\n",
       "\t<li>'W1Fc'</li>\n",
       "\t<li>'W1Ox'</li>\n",
       "\t<li>'W1Lac'</li>\n",
       "\t<li>'W1tFc'</li>\n",
       "\t<li>'W1tOx'</li>\n",
       "\t<li>'W1tLac'</li>\n",
       "\t<li>'W1tBorg'</li>\n",
       "\t<li>'W1t5Fc'</li>\n",
       "\t<li>'W1t5Ox'</li>\n",
       "\t<li>'W1t5Lac'</li>\n",
       "\t<li>'W2tFc'</li>\n",
       "\t<li>'W2tOx'</li>\n",
       "\t<li>'W2tLac'</li>\n",
       "\t<li>'W2tBorg'</li>\n",
       "\t<li>'W2t5Fc'</li>\n",
       "\t<li>'W2t5Ox'</li>\n",
       "\t<li>'W2t5Lac'</li>\n",
       "\t<li>'W2t10Fc'</li>\n",
       "\t<li>'W2t10Ox'</li>\n",
       "\t<li>'W2t10Lac'</li>\n",
       "\t<li>'Sumat'</li>\n",
       "\t<li>'Peso'</li>\n",
       "\t<li>'Edad'</li>\n",
       "\t<li>'Altura'</li>\n",
       "\t<li>'PlieguePec'</li>\n",
       "\t<li>'PliegueAx'</li>\n",
       "\t<li>'PliegueTri'</li>\n",
       "\t<li>'PliegueSub'</li>\n",
       "\t<li>'PliegueAbd'</li>\n",
       "\t<li>'PliegueSup'</li>\n",
       "\t<li>'tpcgrasa1'</li>\n",
       "\t<li>'tpcgrasa2'</li>\n",
       "\t<li>'PerCue'</li>\n",
       "\t<li>'PerCin'</li>\n",
       "</ol>\n"
      ],
      "text/latex": [
       "\\begin{enumerate*}\n",
       "\\item 'W1Fc'\n",
       "\\item 'W1Ox'\n",
       "\\item 'W1Lac'\n",
       "\\item 'W1tFc'\n",
       "\\item 'W1tOx'\n",
       "\\item 'W1tLac'\n",
       "\\item 'W1tBorg'\n",
       "\\item 'W1t5Fc'\n",
       "\\item 'W1t5Ox'\n",
       "\\item 'W1t5Lac'\n",
       "\\item 'W2tFc'\n",
       "\\item 'W2tOx'\n",
       "\\item 'W2tLac'\n",
       "\\item 'W2tBorg'\n",
       "\\item 'W2t5Fc'\n",
       "\\item 'W2t5Ox'\n",
       "\\item 'W2t5Lac'\n",
       "\\item 'W2t10Fc'\n",
       "\\item 'W2t10Ox'\n",
       "\\item 'W2t10Lac'\n",
       "\\item 'Sumat'\n",
       "\\item 'Peso'\n",
       "\\item 'Edad'\n",
       "\\item 'Altura'\n",
       "\\item 'PlieguePec'\n",
       "\\item 'PliegueAx'\n",
       "\\item 'PliegueTri'\n",
       "\\item 'PliegueSub'\n",
       "\\item 'PliegueAbd'\n",
       "\\item 'PliegueSup'\n",
       "\\item 'tpcgrasa1'\n",
       "\\item 'tpcgrasa2'\n",
       "\\item 'PerCue'\n",
       "\\item 'PerCin'\n",
       "\\end{enumerate*}\n"
      ],
      "text/markdown": [
       "1. 'W1Fc'\n",
       "2. 'W1Ox'\n",
       "3. 'W1Lac'\n",
       "4. 'W1tFc'\n",
       "5. 'W1tOx'\n",
       "6. 'W1tLac'\n",
       "7. 'W1tBorg'\n",
       "8. 'W1t5Fc'\n",
       "9. 'W1t5Ox'\n",
       "10. 'W1t5Lac'\n",
       "11. 'W2tFc'\n",
       "12. 'W2tOx'\n",
       "13. 'W2tLac'\n",
       "14. 'W2tBorg'\n",
       "15. 'W2t5Fc'\n",
       "16. 'W2t5Ox'\n",
       "17. 'W2t5Lac'\n",
       "18. 'W2t10Fc'\n",
       "19. 'W2t10Ox'\n",
       "20. 'W2t10Lac'\n",
       "21. 'Sumat'\n",
       "22. 'Peso'\n",
       "23. 'Edad'\n",
       "24. 'Altura'\n",
       "25. 'PlieguePec'\n",
       "26. 'PliegueAx'\n",
       "27. 'PliegueTri'\n",
       "28. 'PliegueSub'\n",
       "29. 'PliegueAbd'\n",
       "30. 'PliegueSup'\n",
       "31. 'tpcgrasa1'\n",
       "32. 'tpcgrasa2'\n",
       "33. 'PerCue'\n",
       "34. 'PerCin'\n",
       "\n",
       "\n"
      ],
      "text/plain": [
       " [1] \"W1Fc\"       \"W1Ox\"       \"W1Lac\"      \"W1tFc\"      \"W1tOx\"     \n",
       " [6] \"W1tLac\"     \"W1tBorg\"    \"W1t5Fc\"     \"W1t5Ox\"     \"W1t5Lac\"   \n",
       "[11] \"W2tFc\"      \"W2tOx\"      \"W2tLac\"     \"W2tBorg\"    \"W2t5Fc\"    \n",
       "[16] \"W2t5Ox\"     \"W2t5Lac\"    \"W2t10Fc\"    \"W2t10Ox\"    \"W2t10Lac\"  \n",
       "[21] \"Sumat\"      \"Peso\"       \"Edad\"       \"Altura\"     \"PlieguePec\"\n",
       "[26] \"PliegueAx\"  \"PliegueTri\" \"PliegueSub\" \"PliegueAbd\" \"PliegueSup\"\n",
       "[31] \"tpcgrasa1\"  \"tpcgrasa2\"  \"PerCue\"     \"PerCin\"    "
      ]
     },
     "metadata": {},
     "output_type": "display_data"
    }
   ],
   "source": [
    "handle_physical <- handle_physical[!grepl('FM',names(handle_physical))] #eliminamos las variables que en su nombre contienen FM\n",
    "names(handle_physical)"
   ]
  },
  {
   "cell_type": "markdown",
   "metadata": {},
   "source": [
    "We delete sumat."
   ]
  },
  {
   "cell_type": "code",
   "execution_count": 6,
   "metadata": {
    "scrolled": true
   },
   "outputs": [
    {
     "data": {
      "text/html": [
       "<ol class=list-inline>\n",
       "\t<li>'W1Fc'</li>\n",
       "\t<li>'W1Ox'</li>\n",
       "\t<li>'W1Lac'</li>\n",
       "\t<li>'W1tFc'</li>\n",
       "\t<li>'W1tOx'</li>\n",
       "\t<li>'W1tLac'</li>\n",
       "\t<li>'W1tBorg'</li>\n",
       "\t<li>'W1t5Fc'</li>\n",
       "\t<li>'W1t5Ox'</li>\n",
       "\t<li>'W1t5Lac'</li>\n",
       "\t<li>'W2tFc'</li>\n",
       "\t<li>'W2tOx'</li>\n",
       "\t<li>'W2tLac'</li>\n",
       "\t<li>'W2tBorg'</li>\n",
       "\t<li>'W2t5Fc'</li>\n",
       "\t<li>'W2t5Ox'</li>\n",
       "\t<li>'W2t5Lac'</li>\n",
       "\t<li>'W2t10Fc'</li>\n",
       "\t<li>'W2t10Ox'</li>\n",
       "\t<li>'W2t10Lac'</li>\n",
       "\t<li>'Peso'</li>\n",
       "\t<li>'Edad'</li>\n",
       "\t<li>'Altura'</li>\n",
       "\t<li>'PlieguePec'</li>\n",
       "\t<li>'PliegueAx'</li>\n",
       "\t<li>'PliegueTri'</li>\n",
       "\t<li>'PliegueSub'</li>\n",
       "\t<li>'PliegueAbd'</li>\n",
       "\t<li>'PliegueSup'</li>\n",
       "\t<li>'tpcgrasa1'</li>\n",
       "\t<li>'tpcgrasa2'</li>\n",
       "\t<li>'PerCue'</li>\n",
       "\t<li>'PerCin'</li>\n",
       "</ol>\n"
      ],
      "text/latex": [
       "\\begin{enumerate*}\n",
       "\\item 'W1Fc'\n",
       "\\item 'W1Ox'\n",
       "\\item 'W1Lac'\n",
       "\\item 'W1tFc'\n",
       "\\item 'W1tOx'\n",
       "\\item 'W1tLac'\n",
       "\\item 'W1tBorg'\n",
       "\\item 'W1t5Fc'\n",
       "\\item 'W1t5Ox'\n",
       "\\item 'W1t5Lac'\n",
       "\\item 'W2tFc'\n",
       "\\item 'W2tOx'\n",
       "\\item 'W2tLac'\n",
       "\\item 'W2tBorg'\n",
       "\\item 'W2t5Fc'\n",
       "\\item 'W2t5Ox'\n",
       "\\item 'W2t5Lac'\n",
       "\\item 'W2t10Fc'\n",
       "\\item 'W2t10Ox'\n",
       "\\item 'W2t10Lac'\n",
       "\\item 'Peso'\n",
       "\\item 'Edad'\n",
       "\\item 'Altura'\n",
       "\\item 'PlieguePec'\n",
       "\\item 'PliegueAx'\n",
       "\\item 'PliegueTri'\n",
       "\\item 'PliegueSub'\n",
       "\\item 'PliegueAbd'\n",
       "\\item 'PliegueSup'\n",
       "\\item 'tpcgrasa1'\n",
       "\\item 'tpcgrasa2'\n",
       "\\item 'PerCue'\n",
       "\\item 'PerCin'\n",
       "\\end{enumerate*}\n"
      ],
      "text/markdown": [
       "1. 'W1Fc'\n",
       "2. 'W1Ox'\n",
       "3. 'W1Lac'\n",
       "4. 'W1tFc'\n",
       "5. 'W1tOx'\n",
       "6. 'W1tLac'\n",
       "7. 'W1tBorg'\n",
       "8. 'W1t5Fc'\n",
       "9. 'W1t5Ox'\n",
       "10. 'W1t5Lac'\n",
       "11. 'W2tFc'\n",
       "12. 'W2tOx'\n",
       "13. 'W2tLac'\n",
       "14. 'W2tBorg'\n",
       "15. 'W2t5Fc'\n",
       "16. 'W2t5Ox'\n",
       "17. 'W2t5Lac'\n",
       "18. 'W2t10Fc'\n",
       "19. 'W2t10Ox'\n",
       "20. 'W2t10Lac'\n",
       "21. 'Peso'\n",
       "22. 'Edad'\n",
       "23. 'Altura'\n",
       "24. 'PlieguePec'\n",
       "25. 'PliegueAx'\n",
       "26. 'PliegueTri'\n",
       "27. 'PliegueSub'\n",
       "28. 'PliegueAbd'\n",
       "29. 'PliegueSup'\n",
       "30. 'tpcgrasa1'\n",
       "31. 'tpcgrasa2'\n",
       "32. 'PerCue'\n",
       "33. 'PerCin'\n",
       "\n",
       "\n"
      ],
      "text/plain": [
       " [1] \"W1Fc\"       \"W1Ox\"       \"W1Lac\"      \"W1tFc\"      \"W1tOx\"     \n",
       " [6] \"W1tLac\"     \"W1tBorg\"    \"W1t5Fc\"     \"W1t5Ox\"     \"W1t5Lac\"   \n",
       "[11] \"W2tFc\"      \"W2tOx\"      \"W2tLac\"     \"W2tBorg\"    \"W2t5Fc\"    \n",
       "[16] \"W2t5Ox\"     \"W2t5Lac\"    \"W2t10Fc\"    \"W2t10Ox\"    \"W2t10Lac\"  \n",
       "[21] \"Peso\"       \"Edad\"       \"Altura\"     \"PlieguePec\" \"PliegueAx\" \n",
       "[26] \"PliegueTri\" \"PliegueSub\" \"PliegueAbd\" \"PliegueSup\" \"tpcgrasa1\" \n",
       "[31] \"tpcgrasa2\"  \"PerCue\"     \"PerCin\"    "
      ]
     },
     "metadata": {},
     "output_type": "display_data"
    }
   ],
   "source": [
    "handle_physical <- handle_physical[!grepl('Sumat', names(handle_physical))]\n",
    "names(handle_physical)"
   ]
  },
  {
   "cell_type": "markdown",
   "metadata": {},
   "source": [
    "### Target variables <a class=\"anchor\" id=\"3\"></a>\n",
    "\n",
    "* [Returning to the index of contents](#index)"
   ]
  },
  {
   "cell_type": "code",
   "execution_count": 9,
   "metadata": {
    "scrolled": true
   },
   "outputs": [
    {
     "data": {
      "text/html": [
       "<table>\n",
       "<thead><tr><th></th><th scope=col>W1MaxWAbs</th><th scope=col>W1MaxWRel</th><th scope=col>W1maxRPM</th><th scope=col>W1MedWAbs</th><th scope=col>W1MedWRel</th><th scope=col>W1medRPM</th><th scope=col>W2MaxWAbs</th><th scope=col>W2MaxWRel</th><th scope=col>W2maxRPM</th><th scope=col>W2MedWAbs</th><th scope=col>...</th><th scope=col>W2DifWRelFFM1</th><th scope=col>W2DifWRelFFM2</th><th scope=col>W1.2MaxDifWAbs</th><th scope=col>W1.2MaxDifWRel</th><th scope=col>W1.2MaxDifWRelFFM1</th><th scope=col>W1.2MaxDifWRelFFM2</th><th scope=col>W1.2MedDifWAbs</th><th scope=col>W1.2MedDifWRel</th><th scope=col>W1.2MedDifWRelFFM1</th><th scope=col>W1.2MedDifWRelFFM2</th></tr></thead>\n",
       "<tbody>\n",
       "\t<tr><th scope=row>0</th><td>398        </td><td> 8.747253  </td><td>122        </td><td>206        </td><td>4.527473   </td><td>100        </td><td>397        </td><td>8.725275   </td><td>122        </td><td>224        </td><td>...        </td><td> 4.479981  </td><td> 4.544592  </td><td>  1        </td><td> 0.02197802</td><td> 0.02589585</td><td> 0.02626932</td><td>-18        </td><td>-0.39560440</td><td>-0.46612522</td><td>-0.47284774</td></tr>\n",
       "\t<tr><th scope=row>4</th><td>511        </td><td> 8.964912  </td><td>128        </td><td>294        </td><td>5.157895   </td><td>109        </td><td>523        </td><td>9.175439   </td><td>122        </td><td>295        </td><td>...        </td><td> 4.552187  </td><td> 4.889881  </td><td>-12        </td><td>-0.21052632</td><td>-0.23958880</td><td>-0.25736216</td><td> -1        </td><td>-0.01754386</td><td>-0.01996573</td><td>-0.02144685</td></tr>\n",
       "\t<tr><th scope=row>7</th><td>524        </td><td>10.174757  </td><td>130        </td><td>262        </td><td>5.087379   </td><td>107        </td><td>476        </td><td>9.242718   </td><td>125        </td><td>245        </td><td>...        </td><td> 4.958966  </td><td> 5.566747  </td><td> 48        </td><td> 0.93203883</td><td> 1.03043453</td><td> 1.15672661</td><td> 17        </td><td> 0.33009709</td><td> 0.36494556</td><td> 0.40967401</td></tr>\n",
       "\t<tr><th scope=row>8</th><td>541        </td><td> 8.868852  </td><td>128        </td><td>351        </td><td>5.754098   </td><td>118        </td><td>472        </td><td>7.737705   </td><td>130        </td><td>333        </td><td>...        </td><td> 2.792441  </td><td> 3.020719  </td><td> 69        </td><td> 1.13114754</td><td> 1.38617564</td><td> 1.49949379</td><td> 18        </td><td> 0.29508197</td><td> 0.36161104</td><td> 0.39117229</td></tr>\n",
       "\t<tr><th scope=row>9</th><td>547        </td><td> 9.596491  </td><td>143        </td><td>291        </td><td>5.105263   </td><td>116        </td><td>169        </td><td>2.964912   </td><td>130        </td><td>302        </td><td>...        </td><td>-3.215855  </td><td>-3.248973  </td><td>378        </td><td> 6.63157895</td><td> 9.13979775</td><td> 9.23392354</td><td>-11        </td><td>-0.19298246</td><td>-0.26597295</td><td>-0.26871206</td></tr>\n",
       "\t<tr><th scope=row>11</th><td>553        </td><td> 9.701754  </td><td>133        </td><td>365        </td><td>6.403509   </td><td>121        </td><td>556        </td><td>9.754386   </td><td>136        </td><td>355        </td><td>...        </td><td> 4.113095  </td><td> 4.408965  </td><td> -3        </td><td>-0.05263158</td><td>-0.06138948</td><td>-0.06580544</td><td> 10        </td><td> 0.17543860</td><td> 0.20463161</td><td> 0.21935148</td></tr>\n",
       "</tbody>\n",
       "</table>\n"
      ],
      "text/latex": [
       "\\begin{tabular}{r|llllllllllllllllllllllllllllllllllll}\n",
       "  & W1MaxWAbs & W1MaxWRel & W1maxRPM & W1MedWAbs & W1MedWRel & W1medRPM & W2MaxWAbs & W2MaxWRel & W2maxRPM & W2MedWAbs & ... & W2DifWRelFFM1 & W2DifWRelFFM2 & W1.2MaxDifWAbs & W1.2MaxDifWRel & W1.2MaxDifWRelFFM1 & W1.2MaxDifWRelFFM2 & W1.2MedDifWAbs & W1.2MedDifWRel & W1.2MedDifWRelFFM1 & W1.2MedDifWRelFFM2\\\\\n",
       "\\hline\n",
       "\t0 & 398         &  8.747253   & 122         & 206         & 4.527473    & 100         & 397         & 8.725275    & 122         & 224         & ...         &  4.479981   &  4.544592   &   1         &  0.02197802 &  0.02589585 &  0.02626932 & -18         & -0.39560440 & -0.46612522 & -0.47284774\\\\\n",
       "\t4 & 511         &  8.964912   & 128         & 294         & 5.157895    & 109         & 523         & 9.175439    & 122         & 295         & ...         &  4.552187   &  4.889881   & -12         & -0.21052632 & -0.23958880 & -0.25736216 &  -1         & -0.01754386 & -0.01996573 & -0.02144685\\\\\n",
       "\t7 & 524         & 10.174757   & 130         & 262         & 5.087379    & 107         & 476         & 9.242718    & 125         & 245         & ...         &  4.958966   &  5.566747   &  48         &  0.93203883 &  1.03043453 &  1.15672661 &  17         &  0.33009709 &  0.36494556 &  0.40967401\\\\\n",
       "\t8 & 541         &  8.868852   & 128         & 351         & 5.754098    & 118         & 472         & 7.737705    & 130         & 333         & ...         &  2.792441   &  3.020719   &  69         &  1.13114754 &  1.38617564 &  1.49949379 &  18         &  0.29508197 &  0.36161104 &  0.39117229\\\\\n",
       "\t9 & 547         &  9.596491   & 143         & 291         & 5.105263    & 116         & 169         & 2.964912    & 130         & 302         & ...         & -3.215855   & -3.248973   & 378         &  6.63157895 &  9.13979775 &  9.23392354 & -11         & -0.19298246 & -0.26597295 & -0.26871206\\\\\n",
       "\t11 & 553         &  9.701754   & 133         & 365         & 6.403509    & 121         & 556         & 9.754386    & 136         & 355         & ...         &  4.113095   &  4.408965   &  -3         & -0.05263158 & -0.06138948 & -0.06580544 &  10         &  0.17543860 &  0.20463161 &  0.21935148\\\\\n",
       "\\end{tabular}\n"
      ],
      "text/markdown": [
       "\n",
       "| <!--/--> | W1MaxWAbs | W1MaxWRel | W1maxRPM | W1MedWAbs | W1MedWRel | W1medRPM | W2MaxWAbs | W2MaxWRel | W2maxRPM | W2MedWAbs | ... | W2DifWRelFFM1 | W2DifWRelFFM2 | W1.2MaxDifWAbs | W1.2MaxDifWRel | W1.2MaxDifWRelFFM1 | W1.2MaxDifWRelFFM2 | W1.2MedDifWAbs | W1.2MedDifWRel | W1.2MedDifWRelFFM1 | W1.2MedDifWRelFFM2 |\n",
       "|---|---|---|---|---|---|---|---|---|---|---|---|---|---|---|---|---|---|---|---|---|---|\n",
       "| 0 | 398         |  8.747253   | 122         | 206         | 4.527473    | 100         | 397         | 8.725275    | 122         | 224         | ...         |  4.479981   |  4.544592   |   1         |  0.02197802 |  0.02589585 |  0.02626932 | -18         | -0.39560440 | -0.46612522 | -0.47284774 |\n",
       "| 4 | 511         |  8.964912   | 128         | 294         | 5.157895    | 109         | 523         | 9.175439    | 122         | 295         | ...         |  4.552187   |  4.889881   | -12         | -0.21052632 | -0.23958880 | -0.25736216 |  -1         | -0.01754386 | -0.01996573 | -0.02144685 |\n",
       "| 7 | 524         | 10.174757   | 130         | 262         | 5.087379    | 107         | 476         | 9.242718    | 125         | 245         | ...         |  4.958966   |  5.566747   |  48         |  0.93203883 |  1.03043453 |  1.15672661 |  17         |  0.33009709 |  0.36494556 |  0.40967401 |\n",
       "| 8 | 541         |  8.868852   | 128         | 351         | 5.754098    | 118         | 472         | 7.737705    | 130         | 333         | ...         |  2.792441   |  3.020719   |  69         |  1.13114754 |  1.38617564 |  1.49949379 |  18         |  0.29508197 |  0.36161104 |  0.39117229 |\n",
       "| 9 | 547         |  9.596491   | 143         | 291         | 5.105263    | 116         | 169         | 2.964912    | 130         | 302         | ...         | -3.215855   | -3.248973   | 378         |  6.63157895 |  9.13979775 |  9.23392354 | -11         | -0.19298246 | -0.26597295 | -0.26871206 |\n",
       "| 11 | 553         |  9.701754   | 133         | 365         | 6.403509    | 121         | 556         | 9.754386    | 136         | 355         | ...         |  4.113095   |  4.408965   |  -3         | -0.05263158 | -0.06138948 | -0.06580544 |  10         |  0.17543860 |  0.20463161 |  0.21935148 |\n",
       "\n"
      ],
      "text/plain": [
       "   W1MaxWAbs W1MaxWRel W1maxRPM W1MedWAbs W1MedWRel W1medRPM W2MaxWAbs\n",
       "0  398        8.747253 122      206       4.527473  100      397      \n",
       "4  511        8.964912 128      294       5.157895  109      523      \n",
       "7  524       10.174757 130      262       5.087379  107      476      \n",
       "8  541        8.868852 128      351       5.754098  118      472      \n",
       "9  547        9.596491 143      291       5.105263  116      169      \n",
       "11 553        9.701754 133      365       6.403509  121      556      \n",
       "   W2MaxWRel W2maxRPM W2MedWAbs ... W2DifWRelFFM1 W2DifWRelFFM2 W1.2MaxDifWAbs\n",
       "0  8.725275  122      224       ...  4.479981      4.544592       1           \n",
       "4  9.175439  122      295       ...  4.552187      4.889881     -12           \n",
       "7  9.242718  125      245       ...  4.958966      5.566747      48           \n",
       "8  7.737705  130      333       ...  2.792441      3.020719      69           \n",
       "9  2.964912  130      302       ... -3.215855     -3.248973     378           \n",
       "11 9.754386  136      355       ...  4.113095      4.408965      -3           \n",
       "   W1.2MaxDifWRel W1.2MaxDifWRelFFM1 W1.2MaxDifWRelFFM2 W1.2MedDifWAbs\n",
       "0   0.02197802     0.02589585         0.02626932        -18           \n",
       "4  -0.21052632    -0.23958880        -0.25736216         -1           \n",
       "7   0.93203883     1.03043453         1.15672661         17           \n",
       "8   1.13114754     1.38617564         1.49949379         18           \n",
       "9   6.63157895     9.13979775         9.23392354        -11           \n",
       "11 -0.05263158    -0.06138948        -0.06580544         10           \n",
       "   W1.2MedDifWRel W1.2MedDifWRelFFM1 W1.2MedDifWRelFFM2\n",
       "0  -0.39560440    -0.46612522        -0.47284774       \n",
       "4  -0.01754386    -0.01996573        -0.02144685       \n",
       "7   0.33009709     0.36494556         0.40967401       \n",
       "8   0.29508197     0.36161104         0.39117229       \n",
       "9  -0.19298246    -0.26597295        -0.26871206       \n",
       "11  0.17543860     0.20463161         0.21935148       "
      ]
     },
     "metadata": {},
     "output_type": "display_data"
    }
   ],
   "source": [
    "handle_target <- read.csv('handle_target_fusion_31_03_20.csv', row.name = 1)\n",
    "\n",
    "head(handle_target)"
   ]
  },
  {
   "cell_type": "code",
   "execution_count": 10,
   "metadata": {},
   "outputs": [],
   "source": [
    "rownames(handle_target) <- NULL"
   ]
  },
  {
   "cell_type": "code",
   "execution_count": 11,
   "metadata": {},
   "outputs": [
    {
     "data": {
      "text/html": [
       "<table>\n",
       "<thead><tr><th scope=col>W1.2MedDifWRelFFM1</th></tr></thead>\n",
       "<tbody>\n",
       "\t<tr><td>-0.46612522</td></tr>\n",
       "\t<tr><td>-0.01996573</td></tr>\n",
       "\t<tr><td> 0.36494556</td></tr>\n",
       "\t<tr><td> 0.36161104</td></tr>\n",
       "\t<tr><td>-0.26597295</td></tr>\n",
       "\t<tr><td> 0.20463161</td></tr>\n",
       "</tbody>\n",
       "</table>\n"
      ],
      "text/latex": [
       "\\begin{tabular}{r|l}\n",
       " W1.2MedDifWRelFFM1\\\\\n",
       "\\hline\n",
       "\t -0.46612522\\\\\n",
       "\t -0.01996573\\\\\n",
       "\t  0.36494556\\\\\n",
       "\t  0.36161104\\\\\n",
       "\t -0.26597295\\\\\n",
       "\t  0.20463161\\\\\n",
       "\\end{tabular}\n"
      ],
      "text/markdown": [
       "\n",
       "| W1.2MedDifWRelFFM1 |\n",
       "|---|\n",
       "| -0.46612522 |\n",
       "| -0.01996573 |\n",
       "|  0.36494556 |\n",
       "|  0.36161104 |\n",
       "| -0.26597295 |\n",
       "|  0.20463161 |\n",
       "\n"
      ],
      "text/plain": [
       "  W1.2MedDifWRelFFM1\n",
       "1 -0.46612522       \n",
       "2 -0.01996573       \n",
       "3  0.36494556       \n",
       "4  0.36161104       \n",
       "5 -0.26597295       \n",
       "6  0.20463161       "
      ]
     },
     "metadata": {},
     "output_type": "display_data"
    }
   ],
   "source": [
    "target <- handle_target['W1.2MedDifWRelFFM1']\n",
    "head(target)"
   ]
  },
  {
   "cell_type": "markdown",
   "metadata": {},
   "source": [
    "We create the dataframe for the analysis:"
   ]
  },
  {
   "cell_type": "code",
   "execution_count": 12,
   "metadata": {},
   "outputs": [],
   "source": [
    "data_physical <- cbind(target, handle_physical)"
   ]
  },
  {
   "cell_type": "code",
   "execution_count": 13,
   "metadata": {
    "scrolled": true
   },
   "outputs": [
    {
     "data": {
      "text/html": [
       "<table>\n",
       "<thead><tr><th scope=col>W1.2MedDifWRelFFM1</th><th scope=col>W1Fc</th><th scope=col>W1Ox</th><th scope=col>W1Lac</th><th scope=col>W1tFc</th><th scope=col>W1tOx</th><th scope=col>W1tLac</th><th scope=col>W1tBorg</th><th scope=col>W1t5Fc</th><th scope=col>W1t5Ox</th><th scope=col>...</th><th scope=col>PlieguePec</th><th scope=col>PliegueAx</th><th scope=col>PliegueTri</th><th scope=col>PliegueSub</th><th scope=col>PliegueAbd</th><th scope=col>PliegueSup</th><th scope=col>tpcgrasa1</th><th scope=col>tpcgrasa2</th><th scope=col>PerCue</th><th scope=col>PerCin</th></tr></thead>\n",
       "<tbody>\n",
       "\t<tr><td>-0.46612522</td><td> 0.09690101</td><td>-0.3612723 </td><td>-0.2759823 </td><td>-1.45702474</td><td> 0.54870046</td><td>-1.5817296 </td><td>-1.2280957 </td><td>-3.38052307</td><td>-0.7215023 </td><td>...        </td><td>-0.8757439 </td><td>-0.8951047 </td><td> 1.0159821 </td><td>-1.0183111 </td><td>-1.2665456 </td><td>-1.0811267 </td><td> 0.37659536</td><td>0.02830971 </td><td>-2.2056212 </td><td>-1.727334  </td></tr>\n",
       "\t<tr><td>-0.01996573</td><td>-1.03822515</td><td>-0.6698591 </td><td> 1.5789808 </td><td>-0.61695891</td><td>-1.07606258</td><td> 0.2939295 </td><td>-1.2280957 </td><td>-2.55958657</td><td> 0.2886009 </td><td>...        </td><td>-1.0373448 </td><td>-1.0624242 </td><td>-0.8734794 </td><td>-1.2829706 </td><td>-1.3202312 </td><td>-1.1361661 </td><td>-0.43175736</td><td>0.03866565 </td><td>-0.8281578 </td><td>-1.462643  </td></tr>\n",
       "\t<tr><td> 0.36494556</td><td> 1.32283727</td><td> 0.5644880 </td><td>-1.0179676 </td><td>-0.01024471</td><td> 0.79866401</td><td>-1.1128148 </td><td> 0.8699011 </td><td> 0.01268113</td><td> 0.2886009 </td><td>...        </td><td>-1.1038863 </td><td>-1.2619206 </td><td>-1.1918942 </td><td>-1.5390928 </td><td>-1.4276024 </td><td>-1.4113634 </td><td>-0.86426995</td><td>0.23888577 </td><td>-2.2056212 </td><td>-1.674395  </td></tr>\n",
       "\t<tr><td> 0.36161104</td><td> 0.59635652</td><td> 0.4101946 </td><td>-0.3996465 </td><td>-0.66362924</td><td>-1.82595321</td><td> 0.2001465 </td><td>-1.2280957 </td><td> 1.10726313</td><td> 0.4329014 </td><td>...        </td><td>-0.8472261 </td><td>-0.6537784 </td><td> 0.3040546 </td><td>-0.6255905 </td><td>-0.6798385 </td><td>-0.4595045 </td><td> 0.61849286</td><td>1.07832946 </td><td>-0.9659042 </td><td>-1.356766  </td></tr>\n",
       "\t<tr><td>-0.26597295</td><td>-2.03713617</td><td> 0.4101946 </td><td> 0.8369956 </td><td> 0.36311788</td><td> 0.04877337</td><td> 0.8566272 </td><td>-0.1790973 </td><td>-0.09677707</td><td>-1.0101032 </td><td>...        </td><td> 1.2440796 </td><td> 0.8038323 </td><td> 1.8540739 </td><td> 0.8855301 </td><td> 1.0917868 </td><td> 1.2013922 </td><td> 2.13407275</td><td>1.66913269 </td><td>-1.5168895 </td><td>-1.219127  </td></tr>\n",
       "\t<tr><td> 0.20463161</td><td>-0.17552926</td><td> 0.7187814 </td><td> 0.3423387 </td><td> 0.45645853</td><td> 0.67368224</td><td>-0.3625512 </td><td> 0.8699011 </td><td>-0.31569347</td><td> 0.5772018 </td><td>...        </td><td>-0.8092024 </td><td>-0.8564925 </td><td> 0.4933012 </td><td>-0.7963386 </td><td>-1.1169928 </td><td>-0.8577312 </td><td>-0.07384767</td><td>0.33604799 </td><td>-1.1036505 </td><td>-1.303828  </td></tr>\n",
       "</tbody>\n",
       "</table>\n"
      ],
      "text/latex": [
       "\\begin{tabular}{r|llllllllllllllllllllllllllllllllll}\n",
       " W1.2MedDifWRelFFM1 & W1Fc & W1Ox & W1Lac & W1tFc & W1tOx & W1tLac & W1tBorg & W1t5Fc & W1t5Ox & ... & PlieguePec & PliegueAx & PliegueTri & PliegueSub & PliegueAbd & PliegueSup & tpcgrasa1 & tpcgrasa2 & PerCue & PerCin\\\\\n",
       "\\hline\n",
       "\t -0.46612522 &  0.09690101 & -0.3612723  & -0.2759823  & -1.45702474 &  0.54870046 & -1.5817296  & -1.2280957  & -3.38052307 & -0.7215023  & ...         & -0.8757439  & -0.8951047  &  1.0159821  & -1.0183111  & -1.2665456  & -1.0811267  &  0.37659536 & 0.02830971  & -2.2056212  & -1.727334  \\\\\n",
       "\t -0.01996573 & -1.03822515 & -0.6698591  &  1.5789808  & -0.61695891 & -1.07606258 &  0.2939295  & -1.2280957  & -2.55958657 &  0.2886009  & ...         & -1.0373448  & -1.0624242  & -0.8734794  & -1.2829706  & -1.3202312  & -1.1361661  & -0.43175736 & 0.03866565  & -0.8281578  & -1.462643  \\\\\n",
       "\t  0.36494556 &  1.32283727 &  0.5644880  & -1.0179676  & -0.01024471 &  0.79866401 & -1.1128148  &  0.8699011  &  0.01268113 &  0.2886009  & ...         & -1.1038863  & -1.2619206  & -1.1918942  & -1.5390928  & -1.4276024  & -1.4113634  & -0.86426995 & 0.23888577  & -2.2056212  & -1.674395  \\\\\n",
       "\t  0.36161104 &  0.59635652 &  0.4101946  & -0.3996465  & -0.66362924 & -1.82595321 &  0.2001465  & -1.2280957  &  1.10726313 &  0.4329014  & ...         & -0.8472261  & -0.6537784  &  0.3040546  & -0.6255905  & -0.6798385  & -0.4595045  &  0.61849286 & 1.07832946  & -0.9659042  & -1.356766  \\\\\n",
       "\t -0.26597295 & -2.03713617 &  0.4101946  &  0.8369956  &  0.36311788 &  0.04877337 &  0.8566272  & -0.1790973  & -0.09677707 & -1.0101032  & ...         &  1.2440796  &  0.8038323  &  1.8540739  &  0.8855301  &  1.0917868  &  1.2013922  &  2.13407275 & 1.66913269  & -1.5168895  & -1.219127  \\\\\n",
       "\t  0.20463161 & -0.17552926 &  0.7187814  &  0.3423387  &  0.45645853 &  0.67368224 & -0.3625512  &  0.8699011  & -0.31569347 &  0.5772018  & ...         & -0.8092024  & -0.8564925  &  0.4933012  & -0.7963386  & -1.1169928  & -0.8577312  & -0.07384767 & 0.33604799  & -1.1036505  & -1.303828  \\\\\n",
       "\\end{tabular}\n"
      ],
      "text/markdown": [
       "\n",
       "| W1.2MedDifWRelFFM1 | W1Fc | W1Ox | W1Lac | W1tFc | W1tOx | W1tLac | W1tBorg | W1t5Fc | W1t5Ox | ... | PlieguePec | PliegueAx | PliegueTri | PliegueSub | PliegueAbd | PliegueSup | tpcgrasa1 | tpcgrasa2 | PerCue | PerCin |\n",
       "|---|---|---|---|---|---|---|---|---|---|---|---|---|---|---|---|---|---|---|---|---|\n",
       "| -0.46612522 |  0.09690101 | -0.3612723  | -0.2759823  | -1.45702474 |  0.54870046 | -1.5817296  | -1.2280957  | -3.38052307 | -0.7215023  | ...         | -0.8757439  | -0.8951047  |  1.0159821  | -1.0183111  | -1.2665456  | -1.0811267  |  0.37659536 | 0.02830971  | -2.2056212  | -1.727334   |\n",
       "| -0.01996573 | -1.03822515 | -0.6698591  |  1.5789808  | -0.61695891 | -1.07606258 |  0.2939295  | -1.2280957  | -2.55958657 |  0.2886009  | ...         | -1.0373448  | -1.0624242  | -0.8734794  | -1.2829706  | -1.3202312  | -1.1361661  | -0.43175736 | 0.03866565  | -0.8281578  | -1.462643   |\n",
       "|  0.36494556 |  1.32283727 |  0.5644880  | -1.0179676  | -0.01024471 |  0.79866401 | -1.1128148  |  0.8699011  |  0.01268113 |  0.2886009  | ...         | -1.1038863  | -1.2619206  | -1.1918942  | -1.5390928  | -1.4276024  | -1.4113634  | -0.86426995 | 0.23888577  | -2.2056212  | -1.674395   |\n",
       "|  0.36161104 |  0.59635652 |  0.4101946  | -0.3996465  | -0.66362924 | -1.82595321 |  0.2001465  | -1.2280957  |  1.10726313 |  0.4329014  | ...         | -0.8472261  | -0.6537784  |  0.3040546  | -0.6255905  | -0.6798385  | -0.4595045  |  0.61849286 | 1.07832946  | -0.9659042  | -1.356766   |\n",
       "| -0.26597295 | -2.03713617 |  0.4101946  |  0.8369956  |  0.36311788 |  0.04877337 |  0.8566272  | -0.1790973  | -0.09677707 | -1.0101032  | ...         |  1.2440796  |  0.8038323  |  1.8540739  |  0.8855301  |  1.0917868  |  1.2013922  |  2.13407275 | 1.66913269  | -1.5168895  | -1.219127   |\n",
       "|  0.20463161 | -0.17552926 |  0.7187814  |  0.3423387  |  0.45645853 |  0.67368224 | -0.3625512  |  0.8699011  | -0.31569347 |  0.5772018  | ...         | -0.8092024  | -0.8564925  |  0.4933012  | -0.7963386  | -1.1169928  | -0.8577312  | -0.07384767 | 0.33604799  | -1.1036505  | -1.303828   |\n",
       "\n"
      ],
      "text/plain": [
       "  W1.2MedDifWRelFFM1 W1Fc        W1Ox       W1Lac      W1tFc       W1tOx      \n",
       "1 -0.46612522         0.09690101 -0.3612723 -0.2759823 -1.45702474  0.54870046\n",
       "2 -0.01996573        -1.03822515 -0.6698591  1.5789808 -0.61695891 -1.07606258\n",
       "3  0.36494556         1.32283727  0.5644880 -1.0179676 -0.01024471  0.79866401\n",
       "4  0.36161104         0.59635652  0.4101946 -0.3996465 -0.66362924 -1.82595321\n",
       "5 -0.26597295        -2.03713617  0.4101946  0.8369956  0.36311788  0.04877337\n",
       "6  0.20463161        -0.17552926  0.7187814  0.3423387  0.45645853  0.67368224\n",
       "  W1tLac     W1tBorg    W1t5Fc      W1t5Ox     ... PlieguePec PliegueAx \n",
       "1 -1.5817296 -1.2280957 -3.38052307 -0.7215023 ... -0.8757439 -0.8951047\n",
       "2  0.2939295 -1.2280957 -2.55958657  0.2886009 ... -1.0373448 -1.0624242\n",
       "3 -1.1128148  0.8699011  0.01268113  0.2886009 ... -1.1038863 -1.2619206\n",
       "4  0.2001465 -1.2280957  1.10726313  0.4329014 ... -0.8472261 -0.6537784\n",
       "5  0.8566272 -0.1790973 -0.09677707 -1.0101032 ...  1.2440796  0.8038323\n",
       "6 -0.3625512  0.8699011 -0.31569347  0.5772018 ... -0.8092024 -0.8564925\n",
       "  PliegueTri PliegueSub PliegueAbd PliegueSup tpcgrasa1   tpcgrasa2  PerCue    \n",
       "1  1.0159821 -1.0183111 -1.2665456 -1.0811267  0.37659536 0.02830971 -2.2056212\n",
       "2 -0.8734794 -1.2829706 -1.3202312 -1.1361661 -0.43175736 0.03866565 -0.8281578\n",
       "3 -1.1918942 -1.5390928 -1.4276024 -1.4113634 -0.86426995 0.23888577 -2.2056212\n",
       "4  0.3040546 -0.6255905 -0.6798385 -0.4595045  0.61849286 1.07832946 -0.9659042\n",
       "5  1.8540739  0.8855301  1.0917868  1.2013922  2.13407275 1.66913269 -1.5168895\n",
       "6  0.4933012 -0.7963386 -1.1169928 -0.8577312 -0.07384767 0.33604799 -1.1036505\n",
       "  PerCin   \n",
       "1 -1.727334\n",
       "2 -1.462643\n",
       "3 -1.674395\n",
       "4 -1.356766\n",
       "5 -1.219127\n",
       "6 -1.303828"
      ]
     },
     "metadata": {},
     "output_type": "display_data"
    }
   ],
   "source": [
    "head(data_physical)"
   ]
  },
  {
   "cell_type": "code",
   "execution_count": 14,
   "metadata": {},
   "outputs": [
    {
     "data": {
      "text/html": [
       "<ol class=list-inline>\n",
       "\t<li>82</li>\n",
       "\t<li>34</li>\n",
       "</ol>\n"
      ],
      "text/latex": [
       "\\begin{enumerate*}\n",
       "\\item 82\n",
       "\\item 34\n",
       "\\end{enumerate*}\n"
      ],
      "text/markdown": [
       "1. 82\n",
       "2. 34\n",
       "\n",
       "\n"
      ],
      "text/plain": [
       "[1] 82 34"
      ]
     },
     "metadata": {},
     "output_type": "display_data"
    }
   ],
   "source": [
    "dim(data_physical)"
   ]
  },
  {
   "cell_type": "markdown",
   "metadata": {},
   "source": [
    "## Train/test partition <a class=\"anchor\" id =\"4\"></a>\n",
    "\n",
    "* [Returning to the index of contents](#index)"
   ]
  },
  {
   "cell_type": "markdown",
   "metadata": {},
   "source": [
    "Creating test subgroups using random sampling:"
   ]
  },
  {
   "cell_type": "code",
   "execution_count": 35,
   "metadata": {
    "scrolled": false
   },
   "outputs": [
    {
     "data": {
      "text/plain": [
       "group\n",
       " 1  2  3  4  5  6  7 \n",
       "12 12 12 12 12 11 11 "
      ]
     },
     "metadata": {},
     "output_type": "display_data"
    }
   ],
   "source": [
    "library(ISLR)\n",
    "library(leaps)\n",
    "set.seed(1)\n",
    "group <- sample(rep(x = 1:7, length = nrow(data_physical))) \n",
    "table(group)"
   ]
  },
  {
   "cell_type": "markdown",
   "metadata": {},
   "source": [
    "A vector of maximum length 7 has been chosen because in the case of making a train/test 85/15 partition, the test set would have 12 elements; if we divide 82 / 12 it gives us approximately 7, which means that there are approximately 7 sets of 12 elements contained in the total set of observations (82). Then, repeating a vector of 1:7 along the length of the data in a random way we could obtain 7 test subgroups formed by 11 or 12 elements."
   ]
  },
  {
   "cell_type": "markdown",
   "metadata": {},
   "source": [
    "Let's see an example:"
   ]
  },
  {
   "cell_type": "code",
   "execution_count": 36,
   "metadata": {},
   "outputs": [
    {
     "data": {
      "text/html": [
       "<ol class=list-inline>\n",
       "\t<li>8</li>\n",
       "\t<li>12</li>\n",
       "\t<li>14</li>\n",
       "\t<li>15</li>\n",
       "\t<li>24</li>\n",
       "\t<li>27</li>\n",
       "\t<li>34</li>\n",
       "\t<li>39</li>\n",
       "\t<li>53</li>\n",
       "\t<li>58</li>\n",
       "\t<li>62</li>\n",
       "\t<li>67</li>\n",
       "</ol>\n"
      ],
      "text/latex": [
       "\\begin{enumerate*}\n",
       "\\item 8\n",
       "\\item 12\n",
       "\\item 14\n",
       "\\item 15\n",
       "\\item 24\n",
       "\\item 27\n",
       "\\item 34\n",
       "\\item 39\n",
       "\\item 53\n",
       "\\item 58\n",
       "\\item 62\n",
       "\\item 67\n",
       "\\end{enumerate*}\n"
      ],
      "text/markdown": [
       "1. 8\n",
       "2. 12\n",
       "3. 14\n",
       "4. 15\n",
       "5. 24\n",
       "6. 27\n",
       "7. 34\n",
       "8. 39\n",
       "9. 53\n",
       "10. 58\n",
       "11. 62\n",
       "12. 67\n",
       "\n",
       "\n"
      ],
      "text/plain": [
       " [1]  8 12 14 15 24 27 34 39 53 58 62 67"
      ]
     },
     "metadata": {},
     "output_type": "display_data"
    }
   ],
   "source": [
    "which(group == 2)"
   ]
  },
  {
   "cell_type": "markdown",
   "metadata": {},
   "source": [
    "We are showing the test subgroup that would correspond to the positions in which a 2 was placed."
   ]
  },
  {
   "cell_type": "markdown",
   "metadata": {},
   "source": [
    "If we now use these positions to sample over the total observation set we would have the following:"
   ]
  },
  {
   "cell_type": "code",
   "execution_count": 37,
   "metadata": {
    "scrolled": false
   },
   "outputs": [
    {
     "data": {
      "text/html": [
       "<table>\n",
       "<thead><tr><th></th><th scope=col>W1.2MedDifWRelFFM1</th><th scope=col>W1Fc</th><th scope=col>W1Ox</th><th scope=col>W1Lac</th><th scope=col>W1tFc</th><th scope=col>W1tOx</th><th scope=col>W1tLac</th><th scope=col>W1tBorg</th><th scope=col>W1t5Fc</th><th scope=col>W1t5Ox</th><th scope=col>...</th><th scope=col>PlieguePec</th><th scope=col>PliegueAx</th><th scope=col>PliegueTri</th><th scope=col>PliegueSub</th><th scope=col>PliegueAbd</th><th scope=col>PliegueSup</th><th scope=col>tpcgrasa1</th><th scope=col>tpcgrasa2</th><th scope=col>PerCue</th><th scope=col>PerCin</th></tr></thead>\n",
       "<tbody>\n",
       "\t<tr><th scope=row>8</th><td>0.9576150   </td><td>-1.0382251  </td><td>-3.9100204  </td><td>-1.3889602  </td><td> 0.3631179  </td><td> 0.79866401 </td><td>-1.5817296  </td><td>-1.2280957  </td><td>-0.20623527 </td><td>-2.0202064  </td><td>...         </td><td>-0.31489375 </td><td>-0.8854516  </td><td>-0.759330670</td><td>-0.82195077 </td><td>-0.346220772</td><td>-0.5566330  </td><td>-0.02452807 </td><td> 0.5949183  </td><td>-2.067874858</td><td>-1.78027170 </td></tr>\n",
       "\t<tr><th scope=row>12</th><td>0.6362988   </td><td> 2.1855331  </td><td> 0.4101946  </td><td>-0.6469749  </td><td> 0.9231618  </td><td> 0.17375515 </td><td> 2.2633715  </td><td> 0.8699011  </td><td> 0.66943033 </td><td> 0.5772018  </td><td>...         </td><td> 0.63569973 </td><td> 2.3676266  </td><td> 3.530257526</td><td> 1.67097136 </td><td> 0.884713673</td><td> 0.7740270  </td><td> 2.58796484 </td><td> 1.7360663  </td><td>-0.552665173</td><td>-0.66857027 </td></tr>\n",
       "\t<tr><th scope=row>14</th><td>0.4524906   </td><td>-1.2198453  </td><td> 0.4101946  </td><td>-1.1416318  </td><td>-2.0170686  </td><td>-2.20089853 </td><td> 1.2317590  </td><td>-1.2280957  </td><td>-0.53460987 </td><td> 0.4329014  </td><td>...         </td><td>-0.22934034 </td><td>-0.7599619  </td><td> 0.268007680</td><td>-0.30970650 </td><td> 0.004653065</td><td>-0.4109403  </td><td> 0.96071656 </td><td> 0.7303007  </td><td>-1.930128523</td><td>-1.72733354 </td></tr>\n",
       "\t<tr><th scope=row>15</th><td>0.4428954   </td><td> 1.0958120  </td><td> 0.7187814  </td><td> 1.0843240  </td><td> 0.9698321  </td><td> 0.79866401 </td><td> 0.8566272  </td><td> 0.8699011  </td><td> 1.87347053 </td><td> 0.2886009  </td><td>...         </td><td>-0.06773945 </td><td>-0.1711258  </td><td> 0.673535975</td><td>-0.17310802 </td><td> 0.182965999</td><td>-0.2166833  </td><td> 0.75802453 </td><td> 1.4479816  </td><td>-1.379143183</td><td>-0.61563211 </td></tr>\n",
       "\t<tr><th scope=row>24</th><td>0.9618578   </td><td>-0.1301242  </td><td>-2.0584997  </td><td>-1.3889602  </td><td> 0.3631179  </td><td>-0.20119017 </td><td> 0.2939295  </td><td> 0.8699011  </td><td>-0.20623527 </td><td>-1.4430046  </td><td>...         </td><td>-0.52402432 </td><td>-0.4414113  </td><td>-0.020367998</td><td>-0.43776757 </td><td>-0.628070248</td><td>-0.3332375  </td><td> 0.35536251 </td><td> 1.7863198  </td><td>-0.001679833</td><td>-0.50975578 </td></tr>\n",
       "\t<tr><th scope=row>27</th><td>0.2621954   </td><td>-0.6749848  </td><td> 0.4101946  </td><td>-0.2759823  </td><td> 0.4564585  </td><td>-1.32602612 </td><td>-0.5501171  </td><td>-2.2770941  </td><td>-0.09677707 </td><td>-0.4329014  </td><td>...         </td><td>-0.53353026 </td><td>-0.1711258  </td><td>-1.011659387</td><td>-0.34385612 </td><td> 0.056421336</td><td>-0.2555347  </td><td>-0.84404809 </td><td>-1.3427991  </td><td> 0.549305507</td><td>-0.13918863 </td></tr>\n",
       "\t<tr><th scope=row>34</th><td>1.7819454   </td><td> 0.7779767  </td><td> 0.4101946  </td><td> 0.7133313  </td><td> 1.0165024  </td><td> 0.79866401 </td><td> 0.6690613  </td><td> 0.8699011  </td><td> 1.10726313 </td><td> 0.5772018  </td><td>...         </td><td> 0.86384217 </td><td>-0.3738399  </td><td> 0.213937240</td><td> 1.16726449 </td><td> 0.407295173</td><td> 0.4340774  </td><td> 0.18691392 </td><td>-0.2955858  </td><td> 0.687051841</td><td> 0.49606933 </td></tr>\n",
       "\t<tr><th scope=row>39</th><td>0.9870713   </td><td> 0.2331162  </td><td> 0.5644880  </td><td> 0.2186745  </td><td> 0.3164476  </td><td> 0.92364578 </td><td>-0.1749853  </td><td>-0.1790973  </td><td> 0.23159753 </td><td> 0.2886009  </td><td>...         </td><td>-0.46698871 </td><td> 0.2439554  </td><td>-0.488978473</td><td>-0.23286986 </td><td>-0.397989043</td><td>-0.3429503  </td><td>-0.67350687 </td><td>-0.5187898  </td><td>-0.001679833</td><td> 0.23137851 </td></tr>\n",
       "\t<tr><th scope=row>53</th><td>0.6770763   </td><td>-0.6295797  </td><td>-0.5155657  </td><td>-1.0179676  </td><td> 0.3631179  </td><td>-1.07606258 </td><td> 0.6690613  </td><td> 0.8699011  </td><td> 0.55997213 </td><td> 0.2886009  </td><td>...         </td><td>-0.60957773 </td><td>-0.4124521  </td><td>-0.362814114</td><td> 0.15985075 </td><td>-0.737358820</td><td>-0.5274944  </td><td>-0.75749532 </td><td>-0.7893516  </td><td>-0.001679833</td><td> 0.01962586 </td></tr>\n",
       "\t<tr><th scope=row>58</th><td>0.8644917   </td><td> 0.6417616  </td><td>-0.2069789  </td><td>-0.3996465  </td><td> 0.1297663  </td><td> 0.79866401 </td><td>-0.9252489  </td><td>-1.2280957  </td><td> 0.39578483 </td><td> 0.4329014  </td><td>...         </td><td> 0.54064039 </td><td> 0.6107713  </td><td>-0.002344518</td><td> 0.16838816 </td><td> 0.769673071</td><td> 0.7934527  </td><td> 0.21634631 </td><td>-0.1346308  </td><td> 0.962544511</td><td> 1.07838913 </td></tr>\n",
       "\t<tr><th scope=row>62</th><td>0.6767254   </td><td>-0.7657949  </td><td> 0.7187814  </td><td>-0.3996465  </td><td> 0.1764366  </td><td> 0.04877337 </td><td>-0.8314659  </td><td> 0.8699011  </td><td>-1.30081727 </td><td> 0.4329014  </td><td>...         </td><td> 0.18892080 </td><td> 0.7555671  </td><td> 0.601442056</td><td>-0.15603322 </td><td> 0.487823595</td><td> 0.9779968  </td><td> 0.30937419 </td><td> 0.0662769  </td><td> 1.375783516</td><td> 1.34307994 </td></tr>\n",
       "\t<tr><th scope=row>67</th><td>0.9793552   </td><td>-0.4025545  </td><td>-0.8241525  </td><td>-1.0179676  </td><td> 0.5031289  </td><td>-0.07620840 </td><td>-0.6439000  </td><td>-0.1790973  </td><td> 0.55997213 </td><td> 0.4329014  </td><td>...         </td><td>-0.58105993 </td><td>-0.4510643  </td><td>-0.975612428</td><td> 0.07447671 </td><td>-0.605062127</td><td>-0.5469201  </td><td>-0.86544994 </td><td>-1.3909441  </td><td> 1.238037181</td><td> 0.07256402 </td></tr>\n",
       "</tbody>\n",
       "</table>\n"
      ],
      "text/latex": [
       "\\begin{tabular}{r|llllllllllllllllllllllllllllllllll}\n",
       "  & W1.2MedDifWRelFFM1 & W1Fc & W1Ox & W1Lac & W1tFc & W1tOx & W1tLac & W1tBorg & W1t5Fc & W1t5Ox & ... & PlieguePec & PliegueAx & PliegueTri & PliegueSub & PliegueAbd & PliegueSup & tpcgrasa1 & tpcgrasa2 & PerCue & PerCin\\\\\n",
       "\\hline\n",
       "\t8 & 0.9576150    & -1.0382251   & -3.9100204   & -1.3889602   &  0.3631179   &  0.79866401  & -1.5817296   & -1.2280957   & -0.20623527  & -2.0202064   & ...          & -0.31489375  & -0.8854516   & -0.759330670 & -0.82195077  & -0.346220772 & -0.5566330   & -0.02452807  &  0.5949183   & -2.067874858 & -1.78027170 \\\\\n",
       "\t12 & 0.6362988    &  2.1855331   &  0.4101946   & -0.6469749   &  0.9231618   &  0.17375515  &  2.2633715   &  0.8699011   &  0.66943033  &  0.5772018   & ...          &  0.63569973  &  2.3676266   &  3.530257526 &  1.67097136  &  0.884713673 &  0.7740270   &  2.58796484  &  1.7360663   & -0.552665173 & -0.66857027 \\\\\n",
       "\t14 & 0.4524906    & -1.2198453   &  0.4101946   & -1.1416318   & -2.0170686   & -2.20089853  &  1.2317590   & -1.2280957   & -0.53460987  &  0.4329014   & ...          & -0.22934034  & -0.7599619   &  0.268007680 & -0.30970650  &  0.004653065 & -0.4109403   &  0.96071656  &  0.7303007   & -1.930128523 & -1.72733354 \\\\\n",
       "\t15 & 0.4428954    &  1.0958120   &  0.7187814   &  1.0843240   &  0.9698321   &  0.79866401  &  0.8566272   &  0.8699011   &  1.87347053  &  0.2886009   & ...          & -0.06773945  & -0.1711258   &  0.673535975 & -0.17310802  &  0.182965999 & -0.2166833   &  0.75802453  &  1.4479816   & -1.379143183 & -0.61563211 \\\\\n",
       "\t24 & 0.9618578    & -0.1301242   & -2.0584997   & -1.3889602   &  0.3631179   & -0.20119017  &  0.2939295   &  0.8699011   & -0.20623527  & -1.4430046   & ...          & -0.52402432  & -0.4414113   & -0.020367998 & -0.43776757  & -0.628070248 & -0.3332375   &  0.35536251  &  1.7863198   & -0.001679833 & -0.50975578 \\\\\n",
       "\t27 & 0.2621954    & -0.6749848   &  0.4101946   & -0.2759823   &  0.4564585   & -1.32602612  & -0.5501171   & -2.2770941   & -0.09677707  & -0.4329014   & ...          & -0.53353026  & -0.1711258   & -1.011659387 & -0.34385612  &  0.056421336 & -0.2555347   & -0.84404809  & -1.3427991   &  0.549305507 & -0.13918863 \\\\\n",
       "\t34 & 1.7819454    &  0.7779767   &  0.4101946   &  0.7133313   &  1.0165024   &  0.79866401  &  0.6690613   &  0.8699011   &  1.10726313  &  0.5772018   & ...          &  0.86384217  & -0.3738399   &  0.213937240 &  1.16726449  &  0.407295173 &  0.4340774   &  0.18691392  & -0.2955858   &  0.687051841 &  0.49606933 \\\\\n",
       "\t39 & 0.9870713    &  0.2331162   &  0.5644880   &  0.2186745   &  0.3164476   &  0.92364578  & -0.1749853   & -0.1790973   &  0.23159753  &  0.2886009   & ...          & -0.46698871  &  0.2439554   & -0.488978473 & -0.23286986  & -0.397989043 & -0.3429503   & -0.67350687  & -0.5187898   & -0.001679833 &  0.23137851 \\\\\n",
       "\t53 & 0.6770763    & -0.6295797   & -0.5155657   & -1.0179676   &  0.3631179   & -1.07606258  &  0.6690613   &  0.8699011   &  0.55997213  &  0.2886009   & ...          & -0.60957773  & -0.4124521   & -0.362814114 &  0.15985075  & -0.737358820 & -0.5274944   & -0.75749532  & -0.7893516   & -0.001679833 &  0.01962586 \\\\\n",
       "\t58 & 0.8644917    &  0.6417616   & -0.2069789   & -0.3996465   &  0.1297663   &  0.79866401  & -0.9252489   & -1.2280957   &  0.39578483  &  0.4329014   & ...          &  0.54064039  &  0.6107713   & -0.002344518 &  0.16838816  &  0.769673071 &  0.7934527   &  0.21634631  & -0.1346308   &  0.962544511 &  1.07838913 \\\\\n",
       "\t62 & 0.6767254    & -0.7657949   &  0.7187814   & -0.3996465   &  0.1764366   &  0.04877337  & -0.8314659   &  0.8699011   & -1.30081727  &  0.4329014   & ...          &  0.18892080  &  0.7555671   &  0.601442056 & -0.15603322  &  0.487823595 &  0.9779968   &  0.30937419  &  0.0662769   &  1.375783516 &  1.34307994 \\\\\n",
       "\t67 & 0.9793552    & -0.4025545   & -0.8241525   & -1.0179676   &  0.5031289   & -0.07620840  & -0.6439000   & -0.1790973   &  0.55997213  &  0.4329014   & ...          & -0.58105993  & -0.4510643   & -0.975612428 &  0.07447671  & -0.605062127 & -0.5469201   & -0.86544994  & -1.3909441   &  1.238037181 &  0.07256402 \\\\\n",
       "\\end{tabular}\n"
      ],
      "text/markdown": [
       "\n",
       "| <!--/--> | W1.2MedDifWRelFFM1 | W1Fc | W1Ox | W1Lac | W1tFc | W1tOx | W1tLac | W1tBorg | W1t5Fc | W1t5Ox | ... | PlieguePec | PliegueAx | PliegueTri | PliegueSub | PliegueAbd | PliegueSup | tpcgrasa1 | tpcgrasa2 | PerCue | PerCin |\n",
       "|---|---|---|---|---|---|---|---|---|---|---|---|---|---|---|---|---|---|---|---|---|---|\n",
       "| 8 | 0.9576150    | -1.0382251   | -3.9100204   | -1.3889602   |  0.3631179   |  0.79866401  | -1.5817296   | -1.2280957   | -0.20623527  | -2.0202064   | ...          | -0.31489375  | -0.8854516   | -0.759330670 | -0.82195077  | -0.346220772 | -0.5566330   | -0.02452807  |  0.5949183   | -2.067874858 | -1.78027170  |\n",
       "| 12 | 0.6362988    |  2.1855331   |  0.4101946   | -0.6469749   |  0.9231618   |  0.17375515  |  2.2633715   |  0.8699011   |  0.66943033  |  0.5772018   | ...          |  0.63569973  |  2.3676266   |  3.530257526 |  1.67097136  |  0.884713673 |  0.7740270   |  2.58796484  |  1.7360663   | -0.552665173 | -0.66857027  |\n",
       "| 14 | 0.4524906    | -1.2198453   |  0.4101946   | -1.1416318   | -2.0170686   | -2.20089853  |  1.2317590   | -1.2280957   | -0.53460987  |  0.4329014   | ...          | -0.22934034  | -0.7599619   |  0.268007680 | -0.30970650  |  0.004653065 | -0.4109403   |  0.96071656  |  0.7303007   | -1.930128523 | -1.72733354  |\n",
       "| 15 | 0.4428954    |  1.0958120   |  0.7187814   |  1.0843240   |  0.9698321   |  0.79866401  |  0.8566272   |  0.8699011   |  1.87347053  |  0.2886009   | ...          | -0.06773945  | -0.1711258   |  0.673535975 | -0.17310802  |  0.182965999 | -0.2166833   |  0.75802453  |  1.4479816   | -1.379143183 | -0.61563211  |\n",
       "| 24 | 0.9618578    | -0.1301242   | -2.0584997   | -1.3889602   |  0.3631179   | -0.20119017  |  0.2939295   |  0.8699011   | -0.20623527  | -1.4430046   | ...          | -0.52402432  | -0.4414113   | -0.020367998 | -0.43776757  | -0.628070248 | -0.3332375   |  0.35536251  |  1.7863198   | -0.001679833 | -0.50975578  |\n",
       "| 27 | 0.2621954    | -0.6749848   |  0.4101946   | -0.2759823   |  0.4564585   | -1.32602612  | -0.5501171   | -2.2770941   | -0.09677707  | -0.4329014   | ...          | -0.53353026  | -0.1711258   | -1.011659387 | -0.34385612  |  0.056421336 | -0.2555347   | -0.84404809  | -1.3427991   |  0.549305507 | -0.13918863  |\n",
       "| 34 | 1.7819454    |  0.7779767   |  0.4101946   |  0.7133313   |  1.0165024   |  0.79866401  |  0.6690613   |  0.8699011   |  1.10726313  |  0.5772018   | ...          |  0.86384217  | -0.3738399   |  0.213937240 |  1.16726449  |  0.407295173 |  0.4340774   |  0.18691392  | -0.2955858   |  0.687051841 |  0.49606933  |\n",
       "| 39 | 0.9870713    |  0.2331162   |  0.5644880   |  0.2186745   |  0.3164476   |  0.92364578  | -0.1749853   | -0.1790973   |  0.23159753  |  0.2886009   | ...          | -0.46698871  |  0.2439554   | -0.488978473 | -0.23286986  | -0.397989043 | -0.3429503   | -0.67350687  | -0.5187898   | -0.001679833 |  0.23137851  |\n",
       "| 53 | 0.6770763    | -0.6295797   | -0.5155657   | -1.0179676   |  0.3631179   | -1.07606258  |  0.6690613   |  0.8699011   |  0.55997213  |  0.2886009   | ...          | -0.60957773  | -0.4124521   | -0.362814114 |  0.15985075  | -0.737358820 | -0.5274944   | -0.75749532  | -0.7893516   | -0.001679833 |  0.01962586  |\n",
       "| 58 | 0.8644917    |  0.6417616   | -0.2069789   | -0.3996465   |  0.1297663   |  0.79866401  | -0.9252489   | -1.2280957   |  0.39578483  |  0.4329014   | ...          |  0.54064039  |  0.6107713   | -0.002344518 |  0.16838816  |  0.769673071 |  0.7934527   |  0.21634631  | -0.1346308   |  0.962544511 |  1.07838913  |\n",
       "| 62 | 0.6767254    | -0.7657949   |  0.7187814   | -0.3996465   |  0.1764366   |  0.04877337  | -0.8314659   |  0.8699011   | -1.30081727  |  0.4329014   | ...          |  0.18892080  |  0.7555671   |  0.601442056 | -0.15603322  |  0.487823595 |  0.9779968   |  0.30937419  |  0.0662769   |  1.375783516 |  1.34307994  |\n",
       "| 67 | 0.9793552    | -0.4025545   | -0.8241525   | -1.0179676   |  0.5031289   | -0.07620840  | -0.6439000   | -0.1790973   |  0.55997213  |  0.4329014   | ...          | -0.58105993  | -0.4510643   | -0.975612428 |  0.07447671  | -0.605062127 | -0.5469201   | -0.86544994  | -1.3909441   |  1.238037181 |  0.07256402  |\n",
       "\n"
      ],
      "text/plain": [
       "   W1.2MedDifWRelFFM1 W1Fc       W1Ox       W1Lac      W1tFc      W1tOx      \n",
       "8  0.9576150          -1.0382251 -3.9100204 -1.3889602  0.3631179  0.79866401\n",
       "12 0.6362988           2.1855331  0.4101946 -0.6469749  0.9231618  0.17375515\n",
       "14 0.4524906          -1.2198453  0.4101946 -1.1416318 -2.0170686 -2.20089853\n",
       "15 0.4428954           1.0958120  0.7187814  1.0843240  0.9698321  0.79866401\n",
       "24 0.9618578          -0.1301242 -2.0584997 -1.3889602  0.3631179 -0.20119017\n",
       "27 0.2621954          -0.6749848  0.4101946 -0.2759823  0.4564585 -1.32602612\n",
       "34 1.7819454           0.7779767  0.4101946  0.7133313  1.0165024  0.79866401\n",
       "39 0.9870713           0.2331162  0.5644880  0.2186745  0.3164476  0.92364578\n",
       "53 0.6770763          -0.6295797 -0.5155657 -1.0179676  0.3631179 -1.07606258\n",
       "58 0.8644917           0.6417616 -0.2069789 -0.3996465  0.1297663  0.79866401\n",
       "62 0.6767254          -0.7657949  0.7187814 -0.3996465  0.1764366  0.04877337\n",
       "67 0.9793552          -0.4025545 -0.8241525 -1.0179676  0.5031289 -0.07620840\n",
       "   W1tLac     W1tBorg    W1t5Fc      W1t5Ox     ... PlieguePec  PliegueAx \n",
       "8  -1.5817296 -1.2280957 -0.20623527 -2.0202064 ... -0.31489375 -0.8854516\n",
       "12  2.2633715  0.8699011  0.66943033  0.5772018 ...  0.63569973  2.3676266\n",
       "14  1.2317590 -1.2280957 -0.53460987  0.4329014 ... -0.22934034 -0.7599619\n",
       "15  0.8566272  0.8699011  1.87347053  0.2886009 ... -0.06773945 -0.1711258\n",
       "24  0.2939295  0.8699011 -0.20623527 -1.4430046 ... -0.52402432 -0.4414113\n",
       "27 -0.5501171 -2.2770941 -0.09677707 -0.4329014 ... -0.53353026 -0.1711258\n",
       "34  0.6690613  0.8699011  1.10726313  0.5772018 ...  0.86384217 -0.3738399\n",
       "39 -0.1749853 -0.1790973  0.23159753  0.2886009 ... -0.46698871  0.2439554\n",
       "53  0.6690613  0.8699011  0.55997213  0.2886009 ... -0.60957773 -0.4124521\n",
       "58 -0.9252489 -1.2280957  0.39578483  0.4329014 ...  0.54064039  0.6107713\n",
       "62 -0.8314659  0.8699011 -1.30081727  0.4329014 ...  0.18892080  0.7555671\n",
       "67 -0.6439000 -0.1790973  0.55997213  0.4329014 ... -0.58105993 -0.4510643\n",
       "   PliegueTri   PliegueSub  PliegueAbd   PliegueSup tpcgrasa1   tpcgrasa2 \n",
       "8  -0.759330670 -0.82195077 -0.346220772 -0.5566330 -0.02452807  0.5949183\n",
       "12  3.530257526  1.67097136  0.884713673  0.7740270  2.58796484  1.7360663\n",
       "14  0.268007680 -0.30970650  0.004653065 -0.4109403  0.96071656  0.7303007\n",
       "15  0.673535975 -0.17310802  0.182965999 -0.2166833  0.75802453  1.4479816\n",
       "24 -0.020367998 -0.43776757 -0.628070248 -0.3332375  0.35536251  1.7863198\n",
       "27 -1.011659387 -0.34385612  0.056421336 -0.2555347 -0.84404809 -1.3427991\n",
       "34  0.213937240  1.16726449  0.407295173  0.4340774  0.18691392 -0.2955858\n",
       "39 -0.488978473 -0.23286986 -0.397989043 -0.3429503 -0.67350687 -0.5187898\n",
       "53 -0.362814114  0.15985075 -0.737358820 -0.5274944 -0.75749532 -0.7893516\n",
       "58 -0.002344518  0.16838816  0.769673071  0.7934527  0.21634631 -0.1346308\n",
       "62  0.601442056 -0.15603322  0.487823595  0.9779968  0.30937419  0.0662769\n",
       "67 -0.975612428  0.07447671 -0.605062127 -0.5469201 -0.86544994 -1.3909441\n",
       "   PerCue       PerCin     \n",
       "8  -2.067874858 -1.78027170\n",
       "12 -0.552665173 -0.66857027\n",
       "14 -1.930128523 -1.72733354\n",
       "15 -1.379143183 -0.61563211\n",
       "24 -0.001679833 -0.50975578\n",
       "27  0.549305507 -0.13918863\n",
       "34  0.687051841  0.49606933\n",
       "39 -0.001679833  0.23137851\n",
       "53 -0.001679833  0.01962586\n",
       "58  0.962544511  1.07838913\n",
       "62  1.375783516  1.34307994\n",
       "67  1.238037181  0.07256402"
      ]
     },
     "metadata": {},
     "output_type": "display_data"
    }
   ],
   "source": [
    "data_physical[group == 2,]"
   ]
  },
  {
   "cell_type": "markdown",
   "metadata": {},
   "source": [
    "## Mulitple Linear Regression with Best Subset Selection <a class=\"anchor\" id=\"6\"></a>"
   ]
  },
  {
   "cell_type": "markdown",
   "metadata": {},
   "source": [
    "* [Returning to the index of contents](#index)"
   ]
  },
  {
   "cell_type": "markdown",
   "metadata": {},
   "source": [
    "For the R function that allows to apply the Best Subset Selection model, regsubsets(), the predict() function does not work, that is why we need to create our own function [[1]](#james2013)."
   ]
  },
  {
   "cell_type": "code",
   "execution_count": 19,
   "metadata": {},
   "outputs": [],
   "source": [
    "predict.regsubsets  <- function(object, newdata, id, ...){\n",
    "    form <- as.formula(object$call[[2]])#we extract the regression formula\n",
    "    mat <- model.matrix(form, newdata)\n",
    "    coefi <- coef(object , id = id)\n",
    "    xvars <- names(coefi) #we store the preditors names\n",
    "    mat[ , xvars] %*% coefi\n",
    "}"
   ]
  },
  {
   "cell_type": "markdown",
   "metadata": {},
   "source": [
    "### Cross validation  [[2]](#rodrigo2016): <a class=\"anchor\" id=\"7\"></a>"
   ]
  },
  {
   "cell_type": "markdown",
   "metadata": {},
   "source": [
    "* [Returning to the index of contents](#index)"
   ]
  },
  {
   "cell_type": "code",
   "execution_count": 55,
   "metadata": {},
   "outputs": [],
   "source": [
    "error_matrix <- matrix(data = NA, nrow = 7, ncol = 33,\n",
    "                       dimnames = list(NULL, c(1:33)))\n",
    "num_validations <- 7\n",
    "num_predictors <- 33\n",
    "\n",
    "for (k in 1:num_validations) {\n",
    "    train <- data_physical[group != k, ]\n",
    "    best_models <- regsubsets(W1.2MedDifWRelFFM1~., data = train, nvmax = 33,\n",
    "                                  method = \"exhaustive\")\n",
    "    for (i in 1:num_predictors) {\n",
    "        test <- data_physical[group == k, ]\n",
    "        predictions <- predict.regsubsets(object = best_models,\n",
    "                                           newdata = test, id = i)\n",
    "        error_matrix[k,i] <- sqrt(mean((test$W1.2MedDifWRelFFM1 - predictions)^2))\n",
    "        }\n",
    "}"
   ]
  },
  {
   "cell_type": "markdown",
   "metadata": {},
   "source": [
    "Now we can see the evolution of the RMSE error based on the number of predictors:"
   ]
  },
  {
   "cell_type": "code",
   "execution_count": 52,
   "metadata": {
    "scrolled": false
   },
   "outputs": [
    {
     "data": {
      "image/png": "[encoded data removed]",
      "text/plain": [
       "plot without title"
      ]
     },
     "metadata": {},
     "output_type": "display_data"
    }
   ],
   "source": [
    "library(caret)\n",
    "ggplot(data = data.frame(n_predictores = 1:33, mean_cv_error = mean_cv_error),\n",
    "       aes(x = n_predictores, y = mean_cv_error)) +\n",
    "  geom_line() +\n",
    "  geom_point() +\n",
    "  geom_point(aes(x = n_predictores[which.min(mean_cv_error)],\n",
    "                 y = mean_cv_error[which.min(mean_cv_error)]),\n",
    "             colour = \"red\", size = 3) +\n",
    "  scale_x_continuous(breaks = c(0:33)) +\n",
    "  theme_bw() +\n",
    "  labs(title = \"Cross-validation RMSE error vs predictor number\",\n",
    "       x = \"Predictor number\")"
   ]
  },
  {
   "cell_type": "markdown",
   "metadata": {},
   "source": [
    "As we can see in the plot, the minimum RMSE is for the model with 5 predictors:"
   ]
  },
  {
   "cell_type": "code",
   "execution_count": 39,
   "metadata": {},
   "outputs": [
    {
     "data": {
      "text/html": [
       "<strong>5:</strong> 5"
      ],
      "text/latex": [
       "\\textbf{5:} 5"
      ],
      "text/markdown": [
       "**5:** 5"
      ],
      "text/plain": [
       "5 \n",
       "5 "
      ]
     },
     "metadata": {},
     "output_type": "display_data"
    }
   ],
   "source": [
    "mean_cv_error <- apply(X = error_matrix, MARGIN = 2, FUN = mean)\n",
    "which.min(x = mean_cv_error)"
   ]
  },
  {
   "cell_type": "code",
   "execution_count": 54,
   "metadata": {},
   "outputs": [
    {
     "data": {
      "text/html": [
       "<strong>5:</strong> 0.593873117165924"
      ],
      "text/latex": [
       "\\textbf{5:} 0.593873117165924"
      ],
      "text/markdown": [
       "**5:** 0.593873117165924"
      ],
      "text/plain": [
       "        5 \n",
       "0.5938731 "
      ]
     },
     "metadata": {},
     "output_type": "display_data"
    }
   ],
   "source": [
    "mean_cv_error[which.min(x = mean_cv_error)[1]]"
   ]
  },
  {
   "cell_type": "markdown",
   "metadata": {},
   "source": [
    "The coefficients associated to this model are:"
   ]
  },
  {
   "cell_type": "code",
   "execution_count": 48,
   "metadata": {
    "scrolled": false
   },
   "outputs": [
    {
     "data": {
      "text/html": [
       "<dl class=dl-horizontal>\n",
       "\t<dt>(Intercept)</dt>\n",
       "\t\t<dd>1.09007724239024</dd>\n",
       "\t<dt>W1Ox</dt>\n",
       "\t\t<dd>-0.207588057710726</dd>\n",
       "\t<dt>W1Lac</dt>\n",
       "\t\t<dd>0.206878955012777</dd>\n",
       "\t<dt>W2t10Fc</dt>\n",
       "\t\t<dd>0.244151291245743</dd>\n",
       "\t<dt>PliegueAbd</dt>\n",
       "\t\t<dd>0.230652094004678</dd>\n",
       "\t<dt>PerCue</dt>\n",
       "\t\t<dd>0.35958144027296</dd>\n",
       "</dl>\n"
      ],
      "text/latex": [
       "\\begin{description*}\n",
       "\\item[(Intercept)] 1.09007724239024\n",
       "\\item[W1Ox] -0.207588057710726\n",
       "\\item[W1Lac] 0.206878955012777\n",
       "\\item[W2t10Fc] 0.244151291245743\n",
       "\\item[PliegueAbd] 0.230652094004678\n",
       "\\item[PerCue] 0.35958144027296\n",
       "\\end{description*}\n"
      ],
      "text/markdown": [
       "(Intercept)\n",
       ":   1.09007724239024W1Ox\n",
       ":   -0.207588057710726W1Lac\n",
       ":   0.206878955012777W2t10Fc\n",
       ":   0.244151291245743PliegueAbd\n",
       ":   0.230652094004678PerCue\n",
       ":   0.35958144027296\n",
       "\n"
      ],
      "text/plain": [
       "(Intercept)        W1Ox       W1Lac     W2t10Fc  PliegueAbd      PerCue \n",
       "  1.0900772  -0.2075881   0.2068790   0.2441513   0.2306521   0.3595814 "
      ]
     },
     "metadata": {},
     "output_type": "display_data"
    }
   ],
   "source": [
    "full_model <- regsubsets(W1.2MedDifWRelFFM1~., data = data_physical, nvmax = 33)\n",
    "coef(object = full_model, 5)"
   ]
  },
  {
   "cell_type": "code",
   "execution_count": 50,
   "metadata": {},
   "outputs": [
    {
     "name": "stdout",
     "output_type": "stream",
     "text": [
      "[1] \"The adjusted R squared is: 0.55897049373082\"\n"
     ]
    }
   ],
   "source": [
    "print(paste('The adjusted R squared is:',summary(full_model)$adjr2[5]))"
   ]
  },
  {
   "cell_type": "markdown",
   "metadata": {},
   "source": [
    "Regarding to the BIC value in the next plot we can see the evolution:\n",
    "\n",
    "(For being able to display all the predictors names some adjustments were needed [[2]](#stackoverflow))"
   ]
  },
  {
   "cell_type": "code",
   "execution_count": 80,
   "metadata": {},
   "outputs": [],
   "source": [
    "plot.regsubsets2 <- \n",
    "function (x, labels = obj$xnames, main = NULL, scale = c(\"bic\", \n",
    "    \"Cp\", \"adjr2\", \"r2\"), col = gray(seq(0, 0.9, length = 10)), \n",
    "    ...) \n",
    "{\n",
    "    obj <- x\n",
    "    lsum <- summary(obj)\n",
    "    par(mar = c(7, 5, 6, 3) + 0.1)\n",
    "    nmodels <- length(lsum$rsq)\n",
    "    np <- obj$np\n",
    "    propscale <- FALSE\n",
    "    sscale <- pmatch(scale[1], c(\"bic\", \"Cp\", \"adjr2\", \"r2\"), \n",
    "        nomatch = 0)\n",
    "    if (sscale == 0) \n",
    "        stop(paste(\"Unrecognised scale=\", scale))\n",
    "    if (propscale) \n",
    "        stop(paste(\"Proportional scaling only for probabilities\"))\n",
    "    yscale <- switch(sscale, lsum$bic, lsum$cp, lsum$adjr2, lsum$rsq)\n",
    "    up <- switch(sscale, -1, -1, 1, 1)\n",
    "    index <- order(yscale * up)\n",
    "    colorscale <- switch(sscale, yscale, yscale, -log(pmax(yscale, \n",
    "        1e-04)), -log(pmax(yscale, 1e-04)))\n",
    "    image(z = t(ifelse(lsum$which[index, ], colorscale[index], \n",
    "        NA + max(colorscale) * 1.5)), xaxt = \"n\", yaxt = \"n\", \n",
    "        x = (1:np), y = 1:nmodels, xlab = \"\", ylab = scale[1], \n",
    "        col = col)\n",
    "    laspar <- par(\"las\")\n",
    "    on.exit(par(las = laspar))\n",
    "    par(las = 2)\n",
    "    axis(1, at = 1:np, labels = labels, ...) # I modified this line\n",
    "    axis(2, at = 1:nmodels, labels = signif(yscale[index], 2))\n",
    "    if (!is.null(main)) \n",
    "        title(main = main)\n",
    "    box()\n",
    "    invisible(NULL)\n",
    "}"
   ]
  },
  {
   "cell_type": "code",
   "execution_count": 81,
   "metadata": {},
   "outputs": [
    {
     "data": {
      "image/png": "[encoded data removed]",
      "text/plain": [
       "plot without title"
      ]
     },
     "metadata": {},
     "output_type": "display_data"
    }
   ],
   "source": [
    "plot.regsubsets2(modelo_final, cex.axis = 0.75)\n"
   ]
  },
  {
   "cell_type": "markdown",
   "metadata": {},
   "source": [
    "This plot shows the importance of the predictors in the model by the color of squares, the darker is the color the more important the predictor."
   ]
  },
  {
   "cell_type": "code",
   "execution_count": 49,
   "metadata": {
    "scrolled": false
   },
   "outputs": [
    {
     "name": "stdout",
     "output_type": "stream",
     "text": [
      "[1] \"The BIC value is: -45.9131481430341\"\n"
     ]
    }
   ],
   "source": [
    "print(paste('The BIC value is:',summary(full_model)$bic[5]))"
   ]
  },
  {
   "cell_type": "markdown",
   "metadata": {},
   "source": [
    "The value of the BIC is quite low, being very close to the minimum value (-46, optimum value), so this model, compared to the rest of the possible ones, is the one with the lowest tendency to commit errors in the test."
   ]
  },
  {
   "cell_type": "markdown",
   "metadata": {},
   "source": [
    "## References <a class=\"anchor\" id=\"ref\"></a>"
   ]
  },
  {
   "cell_type": "markdown",
   "metadata": {},
   "source": [
    "* [Returning to the index of contents](#index)"
   ]
  },
  {
   "cell_type": "markdown",
   "metadata": {},
   "source": [
    "[1] James, G., Witten, D., Hastie, T. and Tibshirani, R. (2013) \"Linear model selection and regularization\", in James, G., Witten, D., Hastie, T., and Tibshirani, R. (eds.) An introduction to statistical learning with applications in R. Springer Science+Business Media, pp. 203–264. doi:https://doi.org/10.1007/978-1-4614-7138-7.<a class=\"anchor\" id=\"james2013\"></a>\n",
    "\n",
    "[2] Rodrigo, J. A. (2016) Selección de predictores y mejor modelo lineal múltiple: subset selection, ridge regression, lasso regression y dimension reduction. Available at: https://rpubs.com/Joaquin_AR/242707 (Accessed: May 3, 2020).<a class=\"anchor\" id=\"rodrigo2016\"></a>\n",
    "\n",
    "[2] stackoverflow (2014) Cannot change text size in regsubsets plot. Available at: https://stackoverflow.com/questions/21708764/cannot-change-text-size-in-regsubsets-plot (Accessed: May 3, 2020).<a class=\"anchor\" id=\"stackoverflow2014\"></a>"
   ]
  }
 ],
 "metadata": {
  "kernelspec": {
   "display_name": "R",
   "language": "R",
   "name": "ir"
  },
  "language_info": {
   "codemirror_mode": "r",
   "file_extension": ".r",
   "mimetype": "text/x-r-source",
   "name": "R",
   "pygments_lexer": "r",
   "version": "3.6.1"
  }
 },
 "nbformat": 4,
 "nbformat_minor": 4
}
