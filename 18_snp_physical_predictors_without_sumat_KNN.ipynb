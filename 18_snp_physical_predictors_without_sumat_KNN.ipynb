{
 "cells": [
  {
   "cell_type": "markdown",
   "metadata": {},
   "source": [
    "# <p style=\"text-align: justify;\"><div class=\"alert alert-info\" role=\"alert\">Principal Components Analysis coupled with K-Nearest Neighbors </div></p>"
   ]
  },
  {
   "cell_type": "markdown",
   "metadata": {},
   "source": [
    "## `Ana González Guerra` \n",
    "\n",
    "### ` Student of the master in Data Science at the University of Cantabria` "
   ]
  },
  {
   "cell_type": "markdown",
   "metadata": {},
   "source": [
    "## Index<a class=\"anchor\" id=\"index\"></a>\n",
    "\n",
    "* [Data loading](#1)\n",
    "    * [Genetic predictors](#2)\n",
    "    * [Physical predictors](#3)\n",
    "    * [Target variables](#4)\n",
    "    * [Creating the dataframe for the analysis](#5)\n",
    "* [Principal Components Analysis (PCA)](#6)\n",
    "    * [Train test partition : 85/15](#7)\n",
    "    * [Principal components in train set](#8)\n",
    "* [K-Nearest Neighbors (KNN)](#9)\n",
    "    * [Training](#10)\n",
    "    * [Test prediction](#11)"
   ]
  },
  {
   "cell_type": "markdown",
   "metadata": {},
   "source": [
    "## Data loading <a class=\"anchor\" id=\"1\"></a>"
   ]
  },
  {
   "cell_type": "markdown",
   "metadata": {},
   "source": [
    "### Genetic predictors <a class=\"anchor\" id=\"2\"></a>"
   ]
  },
  {
   "cell_type": "markdown",
   "metadata": {},
   "source": [
    "* [Returning to the index of contents](#index)"
   ]
  },
  {
   "cell_type": "markdown",
   "metadata": {},
   "source": [
    "<p style=\"text-align: justify;\">With the intention of making easier the operations and the pooling between the classification for newer observations through the calculus of K-Nearest Neighbours classifier, the dataset use for genetic variables will be the one in which the genetic variables have their levels codified as 1,2,3 and the genetic variables with only one state or variance near zero has been deleted.</p>"
   ]
  },
  {
   "cell_type": "code",
   "execution_count": 64,
   "metadata": {},
   "outputs": [
    {
     "data": {
      "text/html": [
       "<table>\n",
       "<thead><tr><th scope=col>rs10034661</th><th scope=col>rs10063949</th><th scope=col>rs1024610</th><th scope=col>rs1024611</th><th scope=col>rs1042713</th><th scope=col>rs1045485</th><th scope=col>rs10491003</th><th scope=col>rs1049305</th><th scope=col>rs1049434</th><th scope=col>rs10497520</th><th scope=col>...</th><th scope=col>rs8111989</th><th scope=col>rs8192678</th><th scope=col>rs824205</th><th scope=col>rs833070</th><th scope=col>rs884736</th><th scope=col>rs921943</th><th scope=col>rs9469199</th><th scope=col>rs970547</th><th scope=col>rs9902453</th><th scope=col>rs9939609</th></tr></thead>\n",
       "<tbody>\n",
       "\t<tr><td>3  </td><td>2  </td><td>2  </td><td>3  </td><td>1  </td><td>2  </td><td>3  </td><td>2  </td><td>2  </td><td>2  </td><td>...</td><td>2  </td><td>2  </td><td>2  </td><td>2  </td><td>2  </td><td>2  </td><td>2  </td><td>1  </td><td>2  </td><td>1  </td></tr>\n",
       "\t<tr><td>3  </td><td>2  </td><td>2  </td><td>2  </td><td>2  </td><td>3  </td><td>3  </td><td>3  </td><td>1  </td><td>1  </td><td>...</td><td>2  </td><td>2  </td><td>1  </td><td>2  </td><td>2  </td><td>2  </td><td>3  </td><td>2  </td><td>2  </td><td>3  </td></tr>\n",
       "\t<tr><td>3  </td><td>3  </td><td>2  </td><td>3  </td><td>2  </td><td>3  </td><td>3  </td><td>2  </td><td>1  </td><td>1  </td><td>...</td><td>2  </td><td>2  </td><td>2  </td><td>2  </td><td>2  </td><td>1  </td><td>3  </td><td>2  </td><td>2  </td><td>1  </td></tr>\n",
       "\t<tr><td>3  </td><td>3  </td><td>3  </td><td>2  </td><td>2  </td><td>3  </td><td>3  </td><td>1  </td><td>2  </td><td>1  </td><td>...</td><td>2  </td><td>2  </td><td>2  </td><td>2  </td><td>2  </td><td>2  </td><td>3  </td><td>1  </td><td>1  </td><td>1  </td></tr>\n",
       "\t<tr><td>3  </td><td>2  </td><td>3  </td><td>2  </td><td>3  </td><td>1  </td><td>3  </td><td>2  </td><td>3  </td><td>1  </td><td>...</td><td>2  </td><td>2  </td><td>2  </td><td>3  </td><td>3  </td><td>3  </td><td>3  </td><td>1  </td><td>2  </td><td>2  </td></tr>\n",
       "\t<tr><td>3  </td><td>2  </td><td>3  </td><td>2  </td><td>2  </td><td>3  </td><td>3  </td><td>2  </td><td>2  </td><td>1  </td><td>...</td><td>2  </td><td>2  </td><td>2  </td><td>3  </td><td>2  </td><td>2  </td><td>3  </td><td>2  </td><td>3  </td><td>3  </td></tr>\n",
       "</tbody>\n",
       "</table>\n"
      ],
      "text/latex": [
       "\\begin{tabular}{r|llllllllllllllllllllllllllllllllllllllllllllllllllllllllllllllllllllllllllllllllllllllllllllllllllllllllllllllllllllllllllllllllllllllllllllllllllllllllllllllllllllllllllllllllll}\n",
       " rs10034661 & rs10063949 & rs1024610 & rs1024611 & rs1042713 & rs1045485 & rs10491003 & rs1049305 & rs1049434 & rs10497520 & ... & rs8111989 & rs8192678 & rs824205 & rs833070 & rs884736 & rs921943 & rs9469199 & rs970547 & rs9902453 & rs9939609\\\\\n",
       "\\hline\n",
       "\t 3   & 2   & 2   & 3   & 1   & 2   & 3   & 2   & 2   & 2   & ... & 2   & 2   & 2   & 2   & 2   & 2   & 2   & 1   & 2   & 1  \\\\\n",
       "\t 3   & 2   & 2   & 2   & 2   & 3   & 3   & 3   & 1   & 1   & ... & 2   & 2   & 1   & 2   & 2   & 2   & 3   & 2   & 2   & 3  \\\\\n",
       "\t 3   & 3   & 2   & 3   & 2   & 3   & 3   & 2   & 1   & 1   & ... & 2   & 2   & 2   & 2   & 2   & 1   & 3   & 2   & 2   & 1  \\\\\n",
       "\t 3   & 3   & 3   & 2   & 2   & 3   & 3   & 1   & 2   & 1   & ... & 2   & 2   & 2   & 2   & 2   & 2   & 3   & 1   & 1   & 1  \\\\\n",
       "\t 3   & 2   & 3   & 2   & 3   & 1   & 3   & 2   & 3   & 1   & ... & 2   & 2   & 2   & 3   & 3   & 3   & 3   & 1   & 2   & 2  \\\\\n",
       "\t 3   & 2   & 3   & 2   & 2   & 3   & 3   & 2   & 2   & 1   & ... & 2   & 2   & 2   & 3   & 2   & 2   & 3   & 2   & 3   & 3  \\\\\n",
       "\\end{tabular}\n"
      ],
      "text/markdown": [
       "\n",
       "| rs10034661 | rs10063949 | rs1024610 | rs1024611 | rs1042713 | rs1045485 | rs10491003 | rs1049305 | rs1049434 | rs10497520 | ... | rs8111989 | rs8192678 | rs824205 | rs833070 | rs884736 | rs921943 | rs9469199 | rs970547 | rs9902453 | rs9939609 |\n",
       "|---|---|---|---|---|---|---|---|---|---|---|---|---|---|---|---|---|---|---|---|---|\n",
       "| 3   | 2   | 2   | 3   | 1   | 2   | 3   | 2   | 2   | 2   | ... | 2   | 2   | 2   | 2   | 2   | 2   | 2   | 1   | 2   | 1   |\n",
       "| 3   | 2   | 2   | 2   | 2   | 3   | 3   | 3   | 1   | 1   | ... | 2   | 2   | 1   | 2   | 2   | 2   | 3   | 2   | 2   | 3   |\n",
       "| 3   | 3   | 2   | 3   | 2   | 3   | 3   | 2   | 1   | 1   | ... | 2   | 2   | 2   | 2   | 2   | 1   | 3   | 2   | 2   | 1   |\n",
       "| 3   | 3   | 3   | 2   | 2   | 3   | 3   | 1   | 2   | 1   | ... | 2   | 2   | 2   | 2   | 2   | 2   | 3   | 1   | 1   | 1   |\n",
       "| 3   | 2   | 3   | 2   | 3   | 1   | 3   | 2   | 3   | 1   | ... | 2   | 2   | 2   | 3   | 3   | 3   | 3   | 1   | 2   | 2   |\n",
       "| 3   | 2   | 3   | 2   | 2   | 3   | 3   | 2   | 2   | 1   | ... | 2   | 2   | 2   | 3   | 2   | 2   | 3   | 2   | 3   | 3   |\n",
       "\n"
      ],
      "text/plain": [
       "  rs10034661 rs10063949 rs1024610 rs1024611 rs1042713 rs1045485 rs10491003\n",
       "1 3          2          2         3         1         2         3         \n",
       "2 3          2          2         2         2         3         3         \n",
       "3 3          3          2         3         2         3         3         \n",
       "4 3          3          3         2         2         3         3         \n",
       "5 3          2          3         2         3         1         3         \n",
       "6 3          2          3         2         2         3         3         \n",
       "  rs1049305 rs1049434 rs10497520 ... rs8111989 rs8192678 rs824205 rs833070\n",
       "1 2         2         2          ... 2         2         2        2       \n",
       "2 3         1         1          ... 2         2         1        2       \n",
       "3 2         1         1          ... 2         2         2        2       \n",
       "4 1         2         1          ... 2         2         2        2       \n",
       "5 2         3         1          ... 2         2         2        3       \n",
       "6 2         2         1          ... 2         2         2        3       \n",
       "  rs884736 rs921943 rs9469199 rs970547 rs9902453 rs9939609\n",
       "1 2        2        2         1        2         1        \n",
       "2 2        2        3         2        2         3        \n",
       "3 2        1        3         2        2         1        \n",
       "4 2        2        3         1        1         1        \n",
       "5 3        3        3         1        2         2        \n",
       "6 2        2        3         2        3         3        "
      ]
     },
     "metadata": {},
     "output_type": "display_data"
    }
   ],
   "source": [
    "handle_genetic <-  read.csv('handle_genetic_cod_28_04_20.csv')\n",
    "\n",
    "head(handle_genetic)"
   ]
  },
  {
   "cell_type": "markdown",
   "metadata": {},
   "source": [
    "### Physical predictors <a class=\"anchor\" id =\"3\"></a>"
   ]
  },
  {
   "cell_type": "markdown",
   "metadata": {},
   "source": [
    "* [Returning to the index of contents](#index)"
   ]
  },
  {
   "cell_type": "code",
   "execution_count": 65,
   "metadata": {},
   "outputs": [
    {
     "data": {
      "text/html": [
       "<table>\n",
       "<thead><tr><th scope=col>W1Fc</th><th scope=col>W1Ox</th><th scope=col>W1Lac</th><th scope=col>W1tFc</th><th scope=col>W1tOx</th><th scope=col>W1tLac</th><th scope=col>W1tBorg</th><th scope=col>W1t5Fc</th><th scope=col>W1t5Ox</th><th scope=col>W1t5Lac</th><th scope=col>...</th><th scope=col>PlieguePec</th><th scope=col>PliegueAx</th><th scope=col>PliegueTri</th><th scope=col>PliegueSub</th><th scope=col>PliegueAbd</th><th scope=col>PliegueSup</th><th scope=col>tpcgrasa1</th><th scope=col>tpcgrasa2</th><th scope=col>PerCue</th><th scope=col>PerCin</th></tr></thead>\n",
       "<tbody>\n",
       "\t<tr><td> 0.09690101</td><td>-0.3612723 </td><td>-0.2759823 </td><td>-1.45702474</td><td> 0.54870046</td><td>-1.5817296 </td><td>-1.2280957 </td><td>-3.38052307</td><td>-0.7215023 </td><td>-2.7847814 </td><td>...        </td><td>-0.8757439 </td><td>-0.8951047 </td><td> 1.0159821 </td><td>-1.0183111 </td><td>-1.2665456 </td><td>-1.0811267 </td><td> 0.37659536</td><td>0.02830971 </td><td>-2.2056212 </td><td>-1.727334  </td></tr>\n",
       "\t<tr><td>-1.03822515</td><td>-0.6698591 </td><td> 1.5789808 </td><td>-0.61695891</td><td>-1.07606258</td><td> 0.2939295 </td><td>-1.2280957 </td><td>-2.55958657</td><td> 0.2886009 </td><td>-2.1390350 </td><td>...        </td><td>-1.0373448 </td><td>-1.0624242 </td><td>-0.8734794 </td><td>-1.2829706 </td><td>-1.3202312 </td><td>-1.1361661 </td><td>-0.43175736</td><td>0.03866565 </td><td>-0.8281578 </td><td>-1.462643  </td></tr>\n",
       "\t<tr><td> 1.32283727</td><td> 0.5644880 </td><td>-1.0179676 </td><td>-0.01024471</td><td> 0.79866401</td><td>-1.1128148 </td><td> 0.8699011 </td><td> 0.01268113</td><td> 0.2886009 </td><td>-1.0493379 </td><td>...        </td><td>-1.1038863 </td><td>-1.2619206 </td><td>-1.1918942 </td><td>-1.5390928 </td><td>-1.4276024 </td><td>-1.4113634 </td><td>-0.86426995</td><td>0.23888577 </td><td>-2.2056212 </td><td>-1.674395  </td></tr>\n",
       "\t<tr><td> 0.59635652</td><td> 0.4101946 </td><td>-0.3996465 </td><td>-0.66362924</td><td>-1.82595321</td><td> 0.2001465 </td><td>-1.2280957 </td><td> 1.10726313</td><td> 0.4329014 </td><td>-0.7668239 </td><td>...        </td><td>-0.8472261 </td><td>-0.6537784 </td><td> 0.3040546 </td><td>-0.6255905 </td><td>-0.6798385 </td><td>-0.4595045 </td><td> 0.61849286</td><td>1.07832946 </td><td>-0.9659042 </td><td>-1.356766  </td></tr>\n",
       "\t<tr><td>-2.03713617</td><td> 0.4101946 </td><td> 0.8369956 </td><td> 0.36311788</td><td> 0.04877337</td><td> 0.8566272 </td><td>-0.1790973 </td><td>-0.09677707</td><td>-1.0101032 </td><td>-0.3228732 </td><td>...        </td><td> 1.2440796 </td><td> 0.8038323 </td><td> 1.8540739 </td><td> 0.8855301 </td><td> 1.0917868 </td><td> 1.2013922 </td><td> 2.13407275</td><td>1.66913269 </td><td>-1.5168895 </td><td>-1.219127  </td></tr>\n",
       "\t<tr><td>-0.17552926</td><td> 0.7187814 </td><td> 0.3423387 </td><td> 0.45645853</td><td> 0.67368224</td><td>-0.3625512 </td><td> 0.8699011 </td><td>-0.31569347</td><td> 0.5772018 </td><td>-0.9282605 </td><td>...        </td><td>-0.8092024 </td><td>-0.8564925 </td><td> 0.4933012 </td><td>-0.7963386 </td><td>-1.1169928 </td><td>-0.8577312 </td><td>-0.07384767</td><td>0.33604799 </td><td>-1.1036505 </td><td>-1.303828  </td></tr>\n",
       "</tbody>\n",
       "</table>\n"
      ],
      "text/latex": [
       "\\begin{tabular}{r|llllllllllllllllllllllllllllllllll}\n",
       " W1Fc & W1Ox & W1Lac & W1tFc & W1tOx & W1tLac & W1tBorg & W1t5Fc & W1t5Ox & W1t5Lac & ... & PlieguePec & PliegueAx & PliegueTri & PliegueSub & PliegueAbd & PliegueSup & tpcgrasa1 & tpcgrasa2 & PerCue & PerCin\\\\\n",
       "\\hline\n",
       "\t  0.09690101 & -0.3612723  & -0.2759823  & -1.45702474 &  0.54870046 & -1.5817296  & -1.2280957  & -3.38052307 & -0.7215023  & -2.7847814  & ...         & -0.8757439  & -0.8951047  &  1.0159821  & -1.0183111  & -1.2665456  & -1.0811267  &  0.37659536 & 0.02830971  & -2.2056212  & -1.727334  \\\\\n",
       "\t -1.03822515 & -0.6698591  &  1.5789808  & -0.61695891 & -1.07606258 &  0.2939295  & -1.2280957  & -2.55958657 &  0.2886009  & -2.1390350  & ...         & -1.0373448  & -1.0624242  & -0.8734794  & -1.2829706  & -1.3202312  & -1.1361661  & -0.43175736 & 0.03866565  & -0.8281578  & -1.462643  \\\\\n",
       "\t  1.32283727 &  0.5644880  & -1.0179676  & -0.01024471 &  0.79866401 & -1.1128148  &  0.8699011  &  0.01268113 &  0.2886009  & -1.0493379  & ...         & -1.1038863  & -1.2619206  & -1.1918942  & -1.5390928  & -1.4276024  & -1.4113634  & -0.86426995 & 0.23888577  & -2.2056212  & -1.674395  \\\\\n",
       "\t  0.59635652 &  0.4101946  & -0.3996465  & -0.66362924 & -1.82595321 &  0.2001465  & -1.2280957  &  1.10726313 &  0.4329014  & -0.7668239  & ...         & -0.8472261  & -0.6537784  &  0.3040546  & -0.6255905  & -0.6798385  & -0.4595045  &  0.61849286 & 1.07832946  & -0.9659042  & -1.356766  \\\\\n",
       "\t -2.03713617 &  0.4101946  &  0.8369956  &  0.36311788 &  0.04877337 &  0.8566272  & -0.1790973  & -0.09677707 & -1.0101032  & -0.3228732  & ...         &  1.2440796  &  0.8038323  &  1.8540739  &  0.8855301  &  1.0917868  &  1.2013922  &  2.13407275 & 1.66913269  & -1.5168895  & -1.219127  \\\\\n",
       "\t -0.17552926 &  0.7187814  &  0.3423387  &  0.45645853 &  0.67368224 & -0.3625512  &  0.8699011  & -0.31569347 &  0.5772018  & -0.9282605  & ...         & -0.8092024  & -0.8564925  &  0.4933012  & -0.7963386  & -1.1169928  & -0.8577312  & -0.07384767 & 0.33604799  & -1.1036505  & -1.303828  \\\\\n",
       "\\end{tabular}\n"
      ],
      "text/markdown": [
       "\n",
       "| W1Fc | W1Ox | W1Lac | W1tFc | W1tOx | W1tLac | W1tBorg | W1t5Fc | W1t5Ox | W1t5Lac | ... | PlieguePec | PliegueAx | PliegueTri | PliegueSub | PliegueAbd | PliegueSup | tpcgrasa1 | tpcgrasa2 | PerCue | PerCin |\n",
       "|---|---|---|---|---|---|---|---|---|---|---|---|---|---|---|---|---|---|---|---|---|\n",
       "|  0.09690101 | -0.3612723  | -0.2759823  | -1.45702474 |  0.54870046 | -1.5817296  | -1.2280957  | -3.38052307 | -0.7215023  | -2.7847814  | ...         | -0.8757439  | -0.8951047  |  1.0159821  | -1.0183111  | -1.2665456  | -1.0811267  |  0.37659536 | 0.02830971  | -2.2056212  | -1.727334   |\n",
       "| -1.03822515 | -0.6698591  |  1.5789808  | -0.61695891 | -1.07606258 |  0.2939295  | -1.2280957  | -2.55958657 |  0.2886009  | -2.1390350  | ...         | -1.0373448  | -1.0624242  | -0.8734794  | -1.2829706  | -1.3202312  | -1.1361661  | -0.43175736 | 0.03866565  | -0.8281578  | -1.462643   |\n",
       "|  1.32283727 |  0.5644880  | -1.0179676  | -0.01024471 |  0.79866401 | -1.1128148  |  0.8699011  |  0.01268113 |  0.2886009  | -1.0493379  | ...         | -1.1038863  | -1.2619206  | -1.1918942  | -1.5390928  | -1.4276024  | -1.4113634  | -0.86426995 | 0.23888577  | -2.2056212  | -1.674395   |\n",
       "|  0.59635652 |  0.4101946  | -0.3996465  | -0.66362924 | -1.82595321 |  0.2001465  | -1.2280957  |  1.10726313 |  0.4329014  | -0.7668239  | ...         | -0.8472261  | -0.6537784  |  0.3040546  | -0.6255905  | -0.6798385  | -0.4595045  |  0.61849286 | 1.07832946  | -0.9659042  | -1.356766   |\n",
       "| -2.03713617 |  0.4101946  |  0.8369956  |  0.36311788 |  0.04877337 |  0.8566272  | -0.1790973  | -0.09677707 | -1.0101032  | -0.3228732  | ...         |  1.2440796  |  0.8038323  |  1.8540739  |  0.8855301  |  1.0917868  |  1.2013922  |  2.13407275 | 1.66913269  | -1.5168895  | -1.219127   |\n",
       "| -0.17552926 |  0.7187814  |  0.3423387  |  0.45645853 |  0.67368224 | -0.3625512  |  0.8699011  | -0.31569347 |  0.5772018  | -0.9282605  | ...         | -0.8092024  | -0.8564925  |  0.4933012  | -0.7963386  | -1.1169928  | -0.8577312  | -0.07384767 | 0.33604799  | -1.1036505  | -1.303828   |\n",
       "\n"
      ],
      "text/plain": [
       "  W1Fc        W1Ox       W1Lac      W1tFc       W1tOx       W1tLac    \n",
       "1  0.09690101 -0.3612723 -0.2759823 -1.45702474  0.54870046 -1.5817296\n",
       "2 -1.03822515 -0.6698591  1.5789808 -0.61695891 -1.07606258  0.2939295\n",
       "3  1.32283727  0.5644880 -1.0179676 -0.01024471  0.79866401 -1.1128148\n",
       "4  0.59635652  0.4101946 -0.3996465 -0.66362924 -1.82595321  0.2001465\n",
       "5 -2.03713617  0.4101946  0.8369956  0.36311788  0.04877337  0.8566272\n",
       "6 -0.17552926  0.7187814  0.3423387  0.45645853  0.67368224 -0.3625512\n",
       "  W1tBorg    W1t5Fc      W1t5Ox     W1t5Lac    ... PlieguePec PliegueAx \n",
       "1 -1.2280957 -3.38052307 -0.7215023 -2.7847814 ... -0.8757439 -0.8951047\n",
       "2 -1.2280957 -2.55958657  0.2886009 -2.1390350 ... -1.0373448 -1.0624242\n",
       "3  0.8699011  0.01268113  0.2886009 -1.0493379 ... -1.1038863 -1.2619206\n",
       "4 -1.2280957  1.10726313  0.4329014 -0.7668239 ... -0.8472261 -0.6537784\n",
       "5 -0.1790973 -0.09677707 -1.0101032 -0.3228732 ...  1.2440796  0.8038323\n",
       "6  0.8699011 -0.31569347  0.5772018 -0.9282605 ... -0.8092024 -0.8564925\n",
       "  PliegueTri PliegueSub PliegueAbd PliegueSup tpcgrasa1   tpcgrasa2  PerCue    \n",
       "1  1.0159821 -1.0183111 -1.2665456 -1.0811267  0.37659536 0.02830971 -2.2056212\n",
       "2 -0.8734794 -1.2829706 -1.3202312 -1.1361661 -0.43175736 0.03866565 -0.8281578\n",
       "3 -1.1918942 -1.5390928 -1.4276024 -1.4113634 -0.86426995 0.23888577 -2.2056212\n",
       "4  0.3040546 -0.6255905 -0.6798385 -0.4595045  0.61849286 1.07832946 -0.9659042\n",
       "5  1.8540739  0.8855301  1.0917868  1.2013922  2.13407275 1.66913269 -1.5168895\n",
       "6  0.4933012 -0.7963386 -1.1169928 -0.8577312 -0.07384767 0.33604799 -1.1036505\n",
       "  PerCin   \n",
       "1 -1.727334\n",
       "2 -1.462643\n",
       "3 -1.674395\n",
       "4 -1.356766\n",
       "5 -1.219127\n",
       "6 -1.303828"
      ]
     },
     "metadata": {},
     "output_type": "display_data"
    },
    {
     "data": {
      "text/html": [
       "<ol class=list-inline>\n",
       "\t<li>'W1Fc'</li>\n",
       "\t<li>'W1Ox'</li>\n",
       "\t<li>'W1Lac'</li>\n",
       "\t<li>'W1tFc'</li>\n",
       "\t<li>'W1tOx'</li>\n",
       "\t<li>'W1tLac'</li>\n",
       "\t<li>'W1tBorg'</li>\n",
       "\t<li>'W1t5Fc'</li>\n",
       "\t<li>'W1t5Ox'</li>\n",
       "\t<li>'W1t5Lac'</li>\n",
       "\t<li>'W2tFc'</li>\n",
       "\t<li>'W2tOx'</li>\n",
       "\t<li>'W2tLac'</li>\n",
       "\t<li>'W2tBorg'</li>\n",
       "\t<li>'W2t5Fc'</li>\n",
       "\t<li>'W2t5Ox'</li>\n",
       "\t<li>'W2t5Lac'</li>\n",
       "\t<li>'W2t10Fc'</li>\n",
       "\t<li>'W2t10Ox'</li>\n",
       "\t<li>'W2t10Lac'</li>\n",
       "\t<li>'Sumat'</li>\n",
       "\t<li>'Peso'</li>\n",
       "\t<li>'Edad'</li>\n",
       "\t<li>'Altura'</li>\n",
       "\t<li>'PlieguePec'</li>\n",
       "\t<li>'PliegueAx'</li>\n",
       "\t<li>'PliegueTri'</li>\n",
       "\t<li>'PliegueSub'</li>\n",
       "\t<li>'PliegueAbd'</li>\n",
       "\t<li>'PliegueSup'</li>\n",
       "\t<li>'tpcgrasa1'</li>\n",
       "\t<li>'tpcgrasa2'</li>\n",
       "\t<li>'PerCue'</li>\n",
       "\t<li>'PerCin'</li>\n",
       "</ol>\n"
      ],
      "text/latex": [
       "\\begin{enumerate*}\n",
       "\\item 'W1Fc'\n",
       "\\item 'W1Ox'\n",
       "\\item 'W1Lac'\n",
       "\\item 'W1tFc'\n",
       "\\item 'W1tOx'\n",
       "\\item 'W1tLac'\n",
       "\\item 'W1tBorg'\n",
       "\\item 'W1t5Fc'\n",
       "\\item 'W1t5Ox'\n",
       "\\item 'W1t5Lac'\n",
       "\\item 'W2tFc'\n",
       "\\item 'W2tOx'\n",
       "\\item 'W2tLac'\n",
       "\\item 'W2tBorg'\n",
       "\\item 'W2t5Fc'\n",
       "\\item 'W2t5Ox'\n",
       "\\item 'W2t5Lac'\n",
       "\\item 'W2t10Fc'\n",
       "\\item 'W2t10Ox'\n",
       "\\item 'W2t10Lac'\n",
       "\\item 'Sumat'\n",
       "\\item 'Peso'\n",
       "\\item 'Edad'\n",
       "\\item 'Altura'\n",
       "\\item 'PlieguePec'\n",
       "\\item 'PliegueAx'\n",
       "\\item 'PliegueTri'\n",
       "\\item 'PliegueSub'\n",
       "\\item 'PliegueAbd'\n",
       "\\item 'PliegueSup'\n",
       "\\item 'tpcgrasa1'\n",
       "\\item 'tpcgrasa2'\n",
       "\\item 'PerCue'\n",
       "\\item 'PerCin'\n",
       "\\end{enumerate*}\n"
      ],
      "text/markdown": [
       "1. 'W1Fc'\n",
       "2. 'W1Ox'\n",
       "3. 'W1Lac'\n",
       "4. 'W1tFc'\n",
       "5. 'W1tOx'\n",
       "6. 'W1tLac'\n",
       "7. 'W1tBorg'\n",
       "8. 'W1t5Fc'\n",
       "9. 'W1t5Ox'\n",
       "10. 'W1t5Lac'\n",
       "11. 'W2tFc'\n",
       "12. 'W2tOx'\n",
       "13. 'W2tLac'\n",
       "14. 'W2tBorg'\n",
       "15. 'W2t5Fc'\n",
       "16. 'W2t5Ox'\n",
       "17. 'W2t5Lac'\n",
       "18. 'W2t10Fc'\n",
       "19. 'W2t10Ox'\n",
       "20. 'W2t10Lac'\n",
       "21. 'Sumat'\n",
       "22. 'Peso'\n",
       "23. 'Edad'\n",
       "24. 'Altura'\n",
       "25. 'PlieguePec'\n",
       "26. 'PliegueAx'\n",
       "27. 'PliegueTri'\n",
       "28. 'PliegueSub'\n",
       "29. 'PliegueAbd'\n",
       "30. 'PliegueSup'\n",
       "31. 'tpcgrasa1'\n",
       "32. 'tpcgrasa2'\n",
       "33. 'PerCue'\n",
       "34. 'PerCin'\n",
       "\n",
       "\n"
      ],
      "text/plain": [
       " [1] \"W1Fc\"       \"W1Ox\"       \"W1Lac\"      \"W1tFc\"      \"W1tOx\"     \n",
       " [6] \"W1tLac\"     \"W1tBorg\"    \"W1t5Fc\"     \"W1t5Ox\"     \"W1t5Lac\"   \n",
       "[11] \"W2tFc\"      \"W2tOx\"      \"W2tLac\"     \"W2tBorg\"    \"W2t5Fc\"    \n",
       "[16] \"W2t5Ox\"     \"W2t5Lac\"    \"W2t10Fc\"    \"W2t10Ox\"    \"W2t10Lac\"  \n",
       "[21] \"Sumat\"      \"Peso\"       \"Edad\"       \"Altura\"     \"PlieguePec\"\n",
       "[26] \"PliegueAx\"  \"PliegueTri\" \"PliegueSub\" \"PliegueAbd\" \"PliegueSup\"\n",
       "[31] \"tpcgrasa1\"  \"tpcgrasa2\"  \"PerCue\"     \"PerCin\"    "
      ]
     },
     "metadata": {},
     "output_type": "display_data"
    }
   ],
   "source": [
    "handle_physic <- read.csv('handle_physical_transformed_for_multiple_linear_regression.csv')\n",
    "rownames(handle_physic) <- NULL    \n",
    "head(handle_physic)\n",
    "names(handle_physic)"
   ]
  },
  {
   "cell_type": "markdown",
   "metadata": {},
   "source": [
    "<p style=\"text-align: justify;\">In this notebook the target value will be W1.2MedDifWRelFFM1 and related variables will be deleted, that means, all variables that in its names contain the substring 'FM'.</p>"
   ]
  },
  {
   "cell_type": "code",
   "execution_count": 66,
   "metadata": {},
   "outputs": [
    {
     "data": {
      "text/html": [
       "<ol class=list-inline>\n",
       "\t<li>'W1Fc'</li>\n",
       "\t<li>'W1Ox'</li>\n",
       "\t<li>'W1Lac'</li>\n",
       "\t<li>'W1tFc'</li>\n",
       "\t<li>'W1tOx'</li>\n",
       "\t<li>'W1tLac'</li>\n",
       "\t<li>'W1tBorg'</li>\n",
       "\t<li>'W1t5Fc'</li>\n",
       "\t<li>'W1t5Ox'</li>\n",
       "\t<li>'W1t5Lac'</li>\n",
       "\t<li>'W2tFc'</li>\n",
       "\t<li>'W2tOx'</li>\n",
       "\t<li>'W2tLac'</li>\n",
       "\t<li>'W2tBorg'</li>\n",
       "\t<li>'W2t5Fc'</li>\n",
       "\t<li>'W2t5Ox'</li>\n",
       "\t<li>'W2t5Lac'</li>\n",
       "\t<li>'W2t10Fc'</li>\n",
       "\t<li>'W2t10Ox'</li>\n",
       "\t<li>'W2t10Lac'</li>\n",
       "\t<li>'Sumat'</li>\n",
       "\t<li>'Peso'</li>\n",
       "\t<li>'Edad'</li>\n",
       "\t<li>'Altura'</li>\n",
       "\t<li>'PlieguePec'</li>\n",
       "\t<li>'PliegueAx'</li>\n",
       "\t<li>'PliegueTri'</li>\n",
       "\t<li>'PliegueSub'</li>\n",
       "\t<li>'PliegueAbd'</li>\n",
       "\t<li>'PliegueSup'</li>\n",
       "\t<li>'tpcgrasa1'</li>\n",
       "\t<li>'tpcgrasa2'</li>\n",
       "\t<li>'PerCue'</li>\n",
       "\t<li>'PerCin'</li>\n",
       "</ol>\n"
      ],
      "text/latex": [
       "\\begin{enumerate*}\n",
       "\\item 'W1Fc'\n",
       "\\item 'W1Ox'\n",
       "\\item 'W1Lac'\n",
       "\\item 'W1tFc'\n",
       "\\item 'W1tOx'\n",
       "\\item 'W1tLac'\n",
       "\\item 'W1tBorg'\n",
       "\\item 'W1t5Fc'\n",
       "\\item 'W1t5Ox'\n",
       "\\item 'W1t5Lac'\n",
       "\\item 'W2tFc'\n",
       "\\item 'W2tOx'\n",
       "\\item 'W2tLac'\n",
       "\\item 'W2tBorg'\n",
       "\\item 'W2t5Fc'\n",
       "\\item 'W2t5Ox'\n",
       "\\item 'W2t5Lac'\n",
       "\\item 'W2t10Fc'\n",
       "\\item 'W2t10Ox'\n",
       "\\item 'W2t10Lac'\n",
       "\\item 'Sumat'\n",
       "\\item 'Peso'\n",
       "\\item 'Edad'\n",
       "\\item 'Altura'\n",
       "\\item 'PlieguePec'\n",
       "\\item 'PliegueAx'\n",
       "\\item 'PliegueTri'\n",
       "\\item 'PliegueSub'\n",
       "\\item 'PliegueAbd'\n",
       "\\item 'PliegueSup'\n",
       "\\item 'tpcgrasa1'\n",
       "\\item 'tpcgrasa2'\n",
       "\\item 'PerCue'\n",
       "\\item 'PerCin'\n",
       "\\end{enumerate*}\n"
      ],
      "text/markdown": [
       "1. 'W1Fc'\n",
       "2. 'W1Ox'\n",
       "3. 'W1Lac'\n",
       "4. 'W1tFc'\n",
       "5. 'W1tOx'\n",
       "6. 'W1tLac'\n",
       "7. 'W1tBorg'\n",
       "8. 'W1t5Fc'\n",
       "9. 'W1t5Ox'\n",
       "10. 'W1t5Lac'\n",
       "11. 'W2tFc'\n",
       "12. 'W2tOx'\n",
       "13. 'W2tLac'\n",
       "14. 'W2tBorg'\n",
       "15. 'W2t5Fc'\n",
       "16. 'W2t5Ox'\n",
       "17. 'W2t5Lac'\n",
       "18. 'W2t10Fc'\n",
       "19. 'W2t10Ox'\n",
       "20. 'W2t10Lac'\n",
       "21. 'Sumat'\n",
       "22. 'Peso'\n",
       "23. 'Edad'\n",
       "24. 'Altura'\n",
       "25. 'PlieguePec'\n",
       "26. 'PliegueAx'\n",
       "27. 'PliegueTri'\n",
       "28. 'PliegueSub'\n",
       "29. 'PliegueAbd'\n",
       "30. 'PliegueSup'\n",
       "31. 'tpcgrasa1'\n",
       "32. 'tpcgrasa2'\n",
       "33. 'PerCue'\n",
       "34. 'PerCin'\n",
       "\n",
       "\n"
      ],
      "text/plain": [
       " [1] \"W1Fc\"       \"W1Ox\"       \"W1Lac\"      \"W1tFc\"      \"W1tOx\"     \n",
       " [6] \"W1tLac\"     \"W1tBorg\"    \"W1t5Fc\"     \"W1t5Ox\"     \"W1t5Lac\"   \n",
       "[11] \"W2tFc\"      \"W2tOx\"      \"W2tLac\"     \"W2tBorg\"    \"W2t5Fc\"    \n",
       "[16] \"W2t5Ox\"     \"W2t5Lac\"    \"W2t10Fc\"    \"W2t10Ox\"    \"W2t10Lac\"  \n",
       "[21] \"Sumat\"      \"Peso\"       \"Edad\"       \"Altura\"     \"PlieguePec\"\n",
       "[26] \"PliegueAx\"  \"PliegueTri\" \"PliegueSub\" \"PliegueAbd\" \"PliegueSup\"\n",
       "[31] \"tpcgrasa1\"  \"tpcgrasa2\"  \"PerCue\"     \"PerCin\"    "
      ]
     },
     "metadata": {},
     "output_type": "display_data"
    }
   ],
   "source": [
    "handle_physic <- handle_physic[!grepl('FM',names(handle_physic))] \n",
    "names(handle_physic)"
   ]
  },
  {
   "cell_type": "markdown",
   "metadata": {},
   "source": [
    "<p style=\"text-align: justify;\">Having in account that Sumat did not show a significant difference in previous analysis and the other variables related to the fat folds, like thigh skinfold , seemed more important, in this case this variable will not be included.</p>"
   ]
  },
  {
   "cell_type": "code",
   "execution_count": 68,
   "metadata": {},
   "outputs": [
    {
     "data": {
      "text/html": [
       "<ol class=list-inline>\n",
       "\t<li>'W1Fc'</li>\n",
       "\t<li>'W1Ox'</li>\n",
       "\t<li>'W1Lac'</li>\n",
       "\t<li>'W1tFc'</li>\n",
       "\t<li>'W1tOx'</li>\n",
       "\t<li>'W1tLac'</li>\n",
       "\t<li>'W1tBorg'</li>\n",
       "\t<li>'W1t5Fc'</li>\n",
       "\t<li>'W1t5Ox'</li>\n",
       "\t<li>'W1t5Lac'</li>\n",
       "\t<li>'W2tFc'</li>\n",
       "\t<li>'W2tOx'</li>\n",
       "\t<li>'W2tLac'</li>\n",
       "\t<li>'W2tBorg'</li>\n",
       "\t<li>'W2t5Fc'</li>\n",
       "\t<li>'W2t5Ox'</li>\n",
       "\t<li>'W2t5Lac'</li>\n",
       "\t<li>'W2t10Fc'</li>\n",
       "\t<li>'W2t10Ox'</li>\n",
       "\t<li>'W2t10Lac'</li>\n",
       "\t<li>'Peso'</li>\n",
       "\t<li>'Edad'</li>\n",
       "\t<li>'Altura'</li>\n",
       "\t<li>'PlieguePec'</li>\n",
       "\t<li>'PliegueAx'</li>\n",
       "\t<li>'PliegueTri'</li>\n",
       "\t<li>'PliegueSub'</li>\n",
       "\t<li>'PliegueAbd'</li>\n",
       "\t<li>'PliegueSup'</li>\n",
       "\t<li>'tpcgrasa1'</li>\n",
       "\t<li>'tpcgrasa2'</li>\n",
       "\t<li>'PerCue'</li>\n",
       "\t<li>'PerCin'</li>\n",
       "</ol>\n"
      ],
      "text/latex": [
       "\\begin{enumerate*}\n",
       "\\item 'W1Fc'\n",
       "\\item 'W1Ox'\n",
       "\\item 'W1Lac'\n",
       "\\item 'W1tFc'\n",
       "\\item 'W1tOx'\n",
       "\\item 'W1tLac'\n",
       "\\item 'W1tBorg'\n",
       "\\item 'W1t5Fc'\n",
       "\\item 'W1t5Ox'\n",
       "\\item 'W1t5Lac'\n",
       "\\item 'W2tFc'\n",
       "\\item 'W2tOx'\n",
       "\\item 'W2tLac'\n",
       "\\item 'W2tBorg'\n",
       "\\item 'W2t5Fc'\n",
       "\\item 'W2t5Ox'\n",
       "\\item 'W2t5Lac'\n",
       "\\item 'W2t10Fc'\n",
       "\\item 'W2t10Ox'\n",
       "\\item 'W2t10Lac'\n",
       "\\item 'Peso'\n",
       "\\item 'Edad'\n",
       "\\item 'Altura'\n",
       "\\item 'PlieguePec'\n",
       "\\item 'PliegueAx'\n",
       "\\item 'PliegueTri'\n",
       "\\item 'PliegueSub'\n",
       "\\item 'PliegueAbd'\n",
       "\\item 'PliegueSup'\n",
       "\\item 'tpcgrasa1'\n",
       "\\item 'tpcgrasa2'\n",
       "\\item 'PerCue'\n",
       "\\item 'PerCin'\n",
       "\\end{enumerate*}\n"
      ],
      "text/markdown": [
       "1. 'W1Fc'\n",
       "2. 'W1Ox'\n",
       "3. 'W1Lac'\n",
       "4. 'W1tFc'\n",
       "5. 'W1tOx'\n",
       "6. 'W1tLac'\n",
       "7. 'W1tBorg'\n",
       "8. 'W1t5Fc'\n",
       "9. 'W1t5Ox'\n",
       "10. 'W1t5Lac'\n",
       "11. 'W2tFc'\n",
       "12. 'W2tOx'\n",
       "13. 'W2tLac'\n",
       "14. 'W2tBorg'\n",
       "15. 'W2t5Fc'\n",
       "16. 'W2t5Ox'\n",
       "17. 'W2t5Lac'\n",
       "18. 'W2t10Fc'\n",
       "19. 'W2t10Ox'\n",
       "20. 'W2t10Lac'\n",
       "21. 'Peso'\n",
       "22. 'Edad'\n",
       "23. 'Altura'\n",
       "24. 'PlieguePec'\n",
       "25. 'PliegueAx'\n",
       "26. 'PliegueTri'\n",
       "27. 'PliegueSub'\n",
       "28. 'PliegueAbd'\n",
       "29. 'PliegueSup'\n",
       "30. 'tpcgrasa1'\n",
       "31. 'tpcgrasa2'\n",
       "32. 'PerCue'\n",
       "33. 'PerCin'\n",
       "\n",
       "\n"
      ],
      "text/plain": [
       " [1] \"W1Fc\"       \"W1Ox\"       \"W1Lac\"      \"W1tFc\"      \"W1tOx\"     \n",
       " [6] \"W1tLac\"     \"W1tBorg\"    \"W1t5Fc\"     \"W1t5Ox\"     \"W1t5Lac\"   \n",
       "[11] \"W2tFc\"      \"W2tOx\"      \"W2tLac\"     \"W2tBorg\"    \"W2t5Fc\"    \n",
       "[16] \"W2t5Ox\"     \"W2t5Lac\"    \"W2t10Fc\"    \"W2t10Ox\"    \"W2t10Lac\"  \n",
       "[21] \"Peso\"       \"Edad\"       \"Altura\"     \"PlieguePec\" \"PliegueAx\" \n",
       "[26] \"PliegueTri\" \"PliegueSub\" \"PliegueAbd\" \"PliegueSup\" \"tpcgrasa1\" \n",
       "[31] \"tpcgrasa2\"  \"PerCue\"     \"PerCin\"    "
      ]
     },
     "metadata": {},
     "output_type": "display_data"
    }
   ],
   "source": [
    "handle_physic <- handle_physic[!grepl('Sumat',names(handle_physic))] \n",
    "names(handle_physic)"
   ]
  },
  {
   "cell_type": "markdown",
   "metadata": {},
   "source": [
    "### Target variables<a class=\"anchor\" id=\"4\"></a>\n"
   ]
  },
  {
   "cell_type": "markdown",
   "metadata": {},
   "source": [
    "* [Returning to the index of contents](#index)"
   ]
  },
  {
   "cell_type": "code",
   "execution_count": 1,
   "metadata": {},
   "outputs": [
    {
     "data": {
      "text/html": [
       "<table>\n",
       "<thead><tr><th scope=col>W1MaxWAbs</th><th scope=col>W1MaxWRel</th><th scope=col>W1maxRPM</th><th scope=col>W1MedWAbs</th><th scope=col>W1MedWRel</th><th scope=col>W1medRPM</th><th scope=col>W2MaxWAbs</th><th scope=col>W2MaxWRel</th><th scope=col>W2maxRPM</th><th scope=col>W2MedWAbs</th><th scope=col>...</th><th scope=col>W2DifWRelFFM1</th><th scope=col>W2DifWRelFFM2</th><th scope=col>W1.2MaxDifWAbs</th><th scope=col>W1.2MaxDifWRel</th><th scope=col>W1.2MaxDifWRelFFM1</th><th scope=col>W1.2MaxDifWRelFFM2</th><th scope=col>W1.2MedDifWAbs</th><th scope=col>W1.2MedDifWRel</th><th scope=col>W1.2MedDifWRelFFM1</th><th scope=col>W1.2MedDifWRelFFM2</th></tr></thead>\n",
       "<tbody>\n",
       "\t<tr><td>398        </td><td> 8.747253  </td><td>122        </td><td>206        </td><td>4.527473   </td><td>100        </td><td>397        </td><td>8.725275   </td><td>122        </td><td>224        </td><td>...        </td><td> 4.479981  </td><td> 4.544592  </td><td>  1        </td><td> 0.02197802</td><td> 0.02589585</td><td> 0.02626932</td><td>-18        </td><td>-0.39560440</td><td>-0.46612522</td><td>-0.47284774</td></tr>\n",
       "\t<tr><td>511        </td><td> 8.964912  </td><td>128        </td><td>294        </td><td>5.157895   </td><td>109        </td><td>523        </td><td>9.175439   </td><td>122        </td><td>295        </td><td>...        </td><td> 4.552187  </td><td> 4.889881  </td><td>-12        </td><td>-0.21052632</td><td>-0.23958880</td><td>-0.25736216</td><td> -1        </td><td>-0.01754386</td><td>-0.01996573</td><td>-0.02144685</td></tr>\n",
       "\t<tr><td>524        </td><td>10.174757  </td><td>130        </td><td>262        </td><td>5.087379   </td><td>107        </td><td>476        </td><td>9.242718   </td><td>125        </td><td>245        </td><td>...        </td><td> 4.958966  </td><td> 5.566747  </td><td> 48        </td><td> 0.93203883</td><td> 1.03043453</td><td> 1.15672661</td><td> 17        </td><td> 0.33009709</td><td> 0.36494556</td><td> 0.40967401</td></tr>\n",
       "\t<tr><td>541        </td><td> 8.868852  </td><td>128        </td><td>351        </td><td>5.754098   </td><td>118        </td><td>472        </td><td>7.737705   </td><td>130        </td><td>333        </td><td>...        </td><td> 2.792441  </td><td> 3.020719  </td><td> 69        </td><td> 1.13114754</td><td> 1.38617564</td><td> 1.49949379</td><td> 18        </td><td> 0.29508197</td><td> 0.36161104</td><td> 0.39117229</td></tr>\n",
       "\t<tr><td>547        </td><td> 9.596491  </td><td>143        </td><td>291        </td><td>5.105263   </td><td>116        </td><td>169        </td><td>2.964912   </td><td>130        </td><td>302        </td><td>...        </td><td>-3.215855  </td><td>-3.248973  </td><td>378        </td><td> 6.63157895</td><td> 9.13979775</td><td> 9.23392354</td><td>-11        </td><td>-0.19298246</td><td>-0.26597295</td><td>-0.26871206</td></tr>\n",
       "\t<tr><td>553        </td><td> 9.701754  </td><td>133        </td><td>365        </td><td>6.403509   </td><td>121        </td><td>556        </td><td>9.754386   </td><td>136        </td><td>355        </td><td>...        </td><td> 4.113095  </td><td> 4.408965  </td><td> -3        </td><td>-0.05263158</td><td>-0.06138948</td><td>-0.06580544</td><td> 10        </td><td> 0.17543860</td><td> 0.20463161</td><td> 0.21935148</td></tr>\n",
       "</tbody>\n",
       "</table>\n"
      ],
      "text/latex": [
       "\\begin{tabular}{r|llllllllllllllllllllllllllllllllllll}\n",
       " W1MaxWAbs & W1MaxWRel & W1maxRPM & W1MedWAbs & W1MedWRel & W1medRPM & W2MaxWAbs & W2MaxWRel & W2maxRPM & W2MedWAbs & ... & W2DifWRelFFM1 & W2DifWRelFFM2 & W1.2MaxDifWAbs & W1.2MaxDifWRel & W1.2MaxDifWRelFFM1 & W1.2MaxDifWRelFFM2 & W1.2MedDifWAbs & W1.2MedDifWRel & W1.2MedDifWRelFFM1 & W1.2MedDifWRelFFM2\\\\\n",
       "\\hline\n",
       "\t 398         &  8.747253   & 122         & 206         & 4.527473    & 100         & 397         & 8.725275    & 122         & 224         & ...         &  4.479981   &  4.544592   &   1         &  0.02197802 &  0.02589585 &  0.02626932 & -18         & -0.39560440 & -0.46612522 & -0.47284774\\\\\n",
       "\t 511         &  8.964912   & 128         & 294         & 5.157895    & 109         & 523         & 9.175439    & 122         & 295         & ...         &  4.552187   &  4.889881   & -12         & -0.21052632 & -0.23958880 & -0.25736216 &  -1         & -0.01754386 & -0.01996573 & -0.02144685\\\\\n",
       "\t 524         & 10.174757   & 130         & 262         & 5.087379    & 107         & 476         & 9.242718    & 125         & 245         & ...         &  4.958966   &  5.566747   &  48         &  0.93203883 &  1.03043453 &  1.15672661 &  17         &  0.33009709 &  0.36494556 &  0.40967401\\\\\n",
       "\t 541         &  8.868852   & 128         & 351         & 5.754098    & 118         & 472         & 7.737705    & 130         & 333         & ...         &  2.792441   &  3.020719   &  69         &  1.13114754 &  1.38617564 &  1.49949379 &  18         &  0.29508197 &  0.36161104 &  0.39117229\\\\\n",
       "\t 547         &  9.596491   & 143         & 291         & 5.105263    & 116         & 169         & 2.964912    & 130         & 302         & ...         & -3.215855   & -3.248973   & 378         &  6.63157895 &  9.13979775 &  9.23392354 & -11         & -0.19298246 & -0.26597295 & -0.26871206\\\\\n",
       "\t 553         &  9.701754   & 133         & 365         & 6.403509    & 121         & 556         & 9.754386    & 136         & 355         & ...         &  4.113095   &  4.408965   &  -3         & -0.05263158 & -0.06138948 & -0.06580544 &  10         &  0.17543860 &  0.20463161 &  0.21935148\\\\\n",
       "\\end{tabular}\n"
      ],
      "text/markdown": [
       "\n",
       "| W1MaxWAbs | W1MaxWRel | W1maxRPM | W1MedWAbs | W1MedWRel | W1medRPM | W2MaxWAbs | W2MaxWRel | W2maxRPM | W2MedWAbs | ... | W2DifWRelFFM1 | W2DifWRelFFM2 | W1.2MaxDifWAbs | W1.2MaxDifWRel | W1.2MaxDifWRelFFM1 | W1.2MaxDifWRelFFM2 | W1.2MedDifWAbs | W1.2MedDifWRel | W1.2MedDifWRelFFM1 | W1.2MedDifWRelFFM2 |\n",
       "|---|---|---|---|---|---|---|---|---|---|---|---|---|---|---|---|---|---|---|---|---|\n",
       "| 398         |  8.747253   | 122         | 206         | 4.527473    | 100         | 397         | 8.725275    | 122         | 224         | ...         |  4.479981   |  4.544592   |   1         |  0.02197802 |  0.02589585 |  0.02626932 | -18         | -0.39560440 | -0.46612522 | -0.47284774 |\n",
       "| 511         |  8.964912   | 128         | 294         | 5.157895    | 109         | 523         | 9.175439    | 122         | 295         | ...         |  4.552187   |  4.889881   | -12         | -0.21052632 | -0.23958880 | -0.25736216 |  -1         | -0.01754386 | -0.01996573 | -0.02144685 |\n",
       "| 524         | 10.174757   | 130         | 262         | 5.087379    | 107         | 476         | 9.242718    | 125         | 245         | ...         |  4.958966   |  5.566747   |  48         |  0.93203883 |  1.03043453 |  1.15672661 |  17         |  0.33009709 |  0.36494556 |  0.40967401 |\n",
       "| 541         |  8.868852   | 128         | 351         | 5.754098    | 118         | 472         | 7.737705    | 130         | 333         | ...         |  2.792441   |  3.020719   |  69         |  1.13114754 |  1.38617564 |  1.49949379 |  18         |  0.29508197 |  0.36161104 |  0.39117229 |\n",
       "| 547         |  9.596491   | 143         | 291         | 5.105263    | 116         | 169         | 2.964912    | 130         | 302         | ...         | -3.215855   | -3.248973   | 378         |  6.63157895 |  9.13979775 |  9.23392354 | -11         | -0.19298246 | -0.26597295 | -0.26871206 |\n",
       "| 553         |  9.701754   | 133         | 365         | 6.403509    | 121         | 556         | 9.754386    | 136         | 355         | ...         |  4.113095   |  4.408965   |  -3         | -0.05263158 | -0.06138948 | -0.06580544 |  10         |  0.17543860 |  0.20463161 |  0.21935148 |\n",
       "\n"
      ],
      "text/plain": [
       "  W1MaxWAbs W1MaxWRel W1maxRPM W1MedWAbs W1MedWRel W1medRPM W2MaxWAbs W2MaxWRel\n",
       "1 398        8.747253 122      206       4.527473  100      397       8.725275 \n",
       "2 511        8.964912 128      294       5.157895  109      523       9.175439 \n",
       "3 524       10.174757 130      262       5.087379  107      476       9.242718 \n",
       "4 541        8.868852 128      351       5.754098  118      472       7.737705 \n",
       "5 547        9.596491 143      291       5.105263  116      169       2.964912 \n",
       "6 553        9.701754 133      365       6.403509  121      556       9.754386 \n",
       "  W2maxRPM W2MedWAbs ... W2DifWRelFFM1 W2DifWRelFFM2 W1.2MaxDifWAbs\n",
       "1 122      224       ...  4.479981      4.544592       1           \n",
       "2 122      295       ...  4.552187      4.889881     -12           \n",
       "3 125      245       ...  4.958966      5.566747      48           \n",
       "4 130      333       ...  2.792441      3.020719      69           \n",
       "5 130      302       ... -3.215855     -3.248973     378           \n",
       "6 136      355       ...  4.113095      4.408965      -3           \n",
       "  W1.2MaxDifWRel W1.2MaxDifWRelFFM1 W1.2MaxDifWRelFFM2 W1.2MedDifWAbs\n",
       "1  0.02197802     0.02589585         0.02626932        -18           \n",
       "2 -0.21052632    -0.23958880        -0.25736216         -1           \n",
       "3  0.93203883     1.03043453         1.15672661         17           \n",
       "4  1.13114754     1.38617564         1.49949379         18           \n",
       "5  6.63157895     9.13979775         9.23392354        -11           \n",
       "6 -0.05263158    -0.06138948        -0.06580544         10           \n",
       "  W1.2MedDifWRel W1.2MedDifWRelFFM1 W1.2MedDifWRelFFM2\n",
       "1 -0.39560440    -0.46612522        -0.47284774       \n",
       "2 -0.01754386    -0.01996573        -0.02144685       \n",
       "3  0.33009709     0.36494556         0.40967401       \n",
       "4  0.29508197     0.36161104         0.39117229       \n",
       "5 -0.19298246    -0.26597295        -0.26871206       \n",
       "6  0.17543860     0.20463161         0.21935148       "
      ]
     },
     "metadata": {},
     "output_type": "display_data"
    }
   ],
   "source": [
    "handle_target <- read.csv('handle_target_fusion_31_03_20.csv', row.name = 1)\n",
    "rownames(handle_target)<- NULL\n",
    "head(handle_target)"
   ]
  },
  {
   "cell_type": "markdown",
   "metadata": {},
   "source": [
    "### Creating the dataframe for the anaylisis <a class =\"anchor\" id =\"5\"></a>"
   ]
  },
  {
   "cell_type": "markdown",
   "metadata": {},
   "source": [
    "* [Returning to the index of contents](#index)"
   ]
  },
  {
   "cell_type": "code",
   "execution_count": 103,
   "metadata": {},
   "outputs": [
    {
     "data": {
      "text/plain": [
       " W1.2MedDifWRelFFM1\n",
       " Min.   :-0.4661   \n",
       " 1st Qu.: 0.5708   \n",
       " Median : 1.0594   \n",
       " Mean   : 1.0901   \n",
       " 3rd Qu.: 1.6031   \n",
       " Max.   : 3.0179   "
      ]
     },
     "metadata": {},
     "output_type": "display_data"
    }
   ],
   "source": [
    "summary(handle_target['W1.2MedDifWRelFFM1'])"
   ]
  },
  {
   "cell_type": "code",
   "execution_count": 70,
   "metadata": {},
   "outputs": [],
   "source": [
    "ind_med <- cbind(handle_target['W1.2MedDifWRelFFM1'],handle_genetic, handle_physic)"
   ]
  },
  {
   "cell_type": "code",
   "execution_count": 71,
   "metadata": {},
   "outputs": [],
   "source": [
    "#Making binary the target value\n",
    "\n",
    "W1_W2MedWRelFFM1Bin <- factor(as.numeric(ind_med[1]>=median(ind_med[,1])))"
   ]
  },
  {
   "cell_type": "code",
   "execution_count": 72,
   "metadata": {},
   "outputs": [],
   "source": [
    "ind_med <- cbind(W1_W2MedWRelFFM1Bin, ind_med)"
   ]
  },
  {
   "cell_type": "code",
   "execution_count": 73,
   "metadata": {},
   "outputs": [],
   "source": [
    "#Deleting the old target variable\n",
    "\n",
    "ind_med[2] <- NULL"
   ]
  },
  {
   "cell_type": "code",
   "execution_count": 74,
   "metadata": {},
   "outputs": [
    {
     "data": {
      "text/html": [
       "<table>\n",
       "<thead><tr><th scope=col>W1_W2MedWRelFFM1Bin</th><th scope=col>rs10034661</th><th scope=col>rs10063949</th><th scope=col>rs1024610</th><th scope=col>rs1024611</th><th scope=col>rs1042713</th><th scope=col>rs1045485</th><th scope=col>rs10491003</th><th scope=col>rs1049305</th><th scope=col>rs1049434</th><th scope=col>...</th><th scope=col>PlieguePec</th><th scope=col>PliegueAx</th><th scope=col>PliegueTri</th><th scope=col>PliegueSub</th><th scope=col>PliegueAbd</th><th scope=col>PliegueSup</th><th scope=col>tpcgrasa1</th><th scope=col>tpcgrasa2</th><th scope=col>PerCue</th><th scope=col>PerCin</th></tr></thead>\n",
       "<tbody>\n",
       "\t<tr><td>0          </td><td>3          </td><td>2          </td><td>2          </td><td>3          </td><td>1          </td><td>2          </td><td>3          </td><td>2          </td><td>2          </td><td>...        </td><td>-0.8757439 </td><td>-0.8951047 </td><td> 1.0159821 </td><td>-1.0183111 </td><td>-1.2665456 </td><td>-1.0811267 </td><td> 0.37659536</td><td>0.02830971 </td><td>-2.2056212 </td><td>-1.727334  </td></tr>\n",
       "\t<tr><td>0          </td><td>3          </td><td>2          </td><td>2          </td><td>2          </td><td>2          </td><td>3          </td><td>3          </td><td>3          </td><td>1          </td><td>...        </td><td>-1.0373448 </td><td>-1.0624242 </td><td>-0.8734794 </td><td>-1.2829706 </td><td>-1.3202312 </td><td>-1.1361661 </td><td>-0.43175736</td><td>0.03866565 </td><td>-0.8281578 </td><td>-1.462643  </td></tr>\n",
       "\t<tr><td>0          </td><td>3          </td><td>3          </td><td>2          </td><td>3          </td><td>2          </td><td>3          </td><td>3          </td><td>2          </td><td>1          </td><td>...        </td><td>-1.1038863 </td><td>-1.2619206 </td><td>-1.1918942 </td><td>-1.5390928 </td><td>-1.4276024 </td><td>-1.4113634 </td><td>-0.86426995</td><td>0.23888577 </td><td>-2.2056212 </td><td>-1.674395  </td></tr>\n",
       "\t<tr><td>0          </td><td>3          </td><td>3          </td><td>3          </td><td>2          </td><td>2          </td><td>3          </td><td>3          </td><td>1          </td><td>2          </td><td>...        </td><td>-0.8472261 </td><td>-0.6537784 </td><td> 0.3040546 </td><td>-0.6255905 </td><td>-0.6798385 </td><td>-0.4595045 </td><td> 0.61849286</td><td>1.07832946 </td><td>-0.9659042 </td><td>-1.356766  </td></tr>\n",
       "\t<tr><td>0          </td><td>3          </td><td>2          </td><td>3          </td><td>2          </td><td>3          </td><td>1          </td><td>3          </td><td>2          </td><td>3          </td><td>...        </td><td> 1.2440796 </td><td> 0.8038323 </td><td> 1.8540739 </td><td> 0.8855301 </td><td> 1.0917868 </td><td> 1.2013922 </td><td> 2.13407275</td><td>1.66913269 </td><td>-1.5168895 </td><td>-1.219127  </td></tr>\n",
       "\t<tr><td>0          </td><td>3          </td><td>2          </td><td>3          </td><td>2          </td><td>2          </td><td>3          </td><td>3          </td><td>2          </td><td>2          </td><td>...        </td><td>-0.8092024 </td><td>-0.8564925 </td><td> 0.4933012 </td><td>-0.7963386 </td><td>-1.1169928 </td><td>-0.8577312 </td><td>-0.07384767</td><td>0.33604799 </td><td>-1.1036505 </td><td>-1.303828  </td></tr>\n",
       "</tbody>\n",
       "</table>\n"
      ],
      "text/latex": [
       "\\begin{tabular}{r|llllllllllllllllllllllllllllllllllllllllllllllllllllllllllllllllllllllllllllllllllllllllllllllllllllllllllllllllllllllllllllllllllllllllllllllllllllllllllllllllllllllllllllllllllllllllllllllllllllllllllllllllllll}\n",
       " W1\\_W2MedWRelFFM1Bin & rs10034661 & rs10063949 & rs1024610 & rs1024611 & rs1042713 & rs1045485 & rs10491003 & rs1049305 & rs1049434 & ... & PlieguePec & PliegueAx & PliegueTri & PliegueSub & PliegueAbd & PliegueSup & tpcgrasa1 & tpcgrasa2 & PerCue & PerCin\\\\\n",
       "\\hline\n",
       "\t 0           & 3           & 2           & 2           & 3           & 1           & 2           & 3           & 2           & 2           & ...         & -0.8757439  & -0.8951047  &  1.0159821  & -1.0183111  & -1.2665456  & -1.0811267  &  0.37659536 & 0.02830971  & -2.2056212  & -1.727334  \\\\\n",
       "\t 0           & 3           & 2           & 2           & 2           & 2           & 3           & 3           & 3           & 1           & ...         & -1.0373448  & -1.0624242  & -0.8734794  & -1.2829706  & -1.3202312  & -1.1361661  & -0.43175736 & 0.03866565  & -0.8281578  & -1.462643  \\\\\n",
       "\t 0           & 3           & 3           & 2           & 3           & 2           & 3           & 3           & 2           & 1           & ...         & -1.1038863  & -1.2619206  & -1.1918942  & -1.5390928  & -1.4276024  & -1.4113634  & -0.86426995 & 0.23888577  & -2.2056212  & -1.674395  \\\\\n",
       "\t 0           & 3           & 3           & 3           & 2           & 2           & 3           & 3           & 1           & 2           & ...         & -0.8472261  & -0.6537784  &  0.3040546  & -0.6255905  & -0.6798385  & -0.4595045  &  0.61849286 & 1.07832946  & -0.9659042  & -1.356766  \\\\\n",
       "\t 0           & 3           & 2           & 3           & 2           & 3           & 1           & 3           & 2           & 3           & ...         &  1.2440796  &  0.8038323  &  1.8540739  &  0.8855301  &  1.0917868  &  1.2013922  &  2.13407275 & 1.66913269  & -1.5168895  & -1.219127  \\\\\n",
       "\t 0           & 3           & 2           & 3           & 2           & 2           & 3           & 3           & 2           & 2           & ...         & -0.8092024  & -0.8564925  &  0.4933012  & -0.7963386  & -1.1169928  & -0.8577312  & -0.07384767 & 0.33604799  & -1.1036505  & -1.303828  \\\\\n",
       "\\end{tabular}\n"
      ],
      "text/markdown": [
       "\n",
       "| W1_W2MedWRelFFM1Bin | rs10034661 | rs10063949 | rs1024610 | rs1024611 | rs1042713 | rs1045485 | rs10491003 | rs1049305 | rs1049434 | ... | PlieguePec | PliegueAx | PliegueTri | PliegueSub | PliegueAbd | PliegueSup | tpcgrasa1 | tpcgrasa2 | PerCue | PerCin |\n",
       "|---|---|---|---|---|---|---|---|---|---|---|---|---|---|---|---|---|---|---|---|---|\n",
       "| 0           | 3           | 2           | 2           | 3           | 1           | 2           | 3           | 2           | 2           | ...         | -0.8757439  | -0.8951047  |  1.0159821  | -1.0183111  | -1.2665456  | -1.0811267  |  0.37659536 | 0.02830971  | -2.2056212  | -1.727334   |\n",
       "| 0           | 3           | 2           | 2           | 2           | 2           | 3           | 3           | 3           | 1           | ...         | -1.0373448  | -1.0624242  | -0.8734794  | -1.2829706  | -1.3202312  | -1.1361661  | -0.43175736 | 0.03866565  | -0.8281578  | -1.462643   |\n",
       "| 0           | 3           | 3           | 2           | 3           | 2           | 3           | 3           | 2           | 1           | ...         | -1.1038863  | -1.2619206  | -1.1918942  | -1.5390928  | -1.4276024  | -1.4113634  | -0.86426995 | 0.23888577  | -2.2056212  | -1.674395   |\n",
       "| 0           | 3           | 3           | 3           | 2           | 2           | 3           | 3           | 1           | 2           | ...         | -0.8472261  | -0.6537784  |  0.3040546  | -0.6255905  | -0.6798385  | -0.4595045  |  0.61849286 | 1.07832946  | -0.9659042  | -1.356766   |\n",
       "| 0           | 3           | 2           | 3           | 2           | 3           | 1           | 3           | 2           | 3           | ...         |  1.2440796  |  0.8038323  |  1.8540739  |  0.8855301  |  1.0917868  |  1.2013922  |  2.13407275 | 1.66913269  | -1.5168895  | -1.219127   |\n",
       "| 0           | 3           | 2           | 3           | 2           | 2           | 3           | 3           | 2           | 2           | ...         | -0.8092024  | -0.8564925  |  0.4933012  | -0.7963386  | -1.1169928  | -0.8577312  | -0.07384767 | 0.33604799  | -1.1036505  | -1.303828   |\n",
       "\n"
      ],
      "text/plain": [
       "  W1_W2MedWRelFFM1Bin rs10034661 rs10063949 rs1024610 rs1024611 rs1042713\n",
       "1 0                   3          2          2         3         1        \n",
       "2 0                   3          2          2         2         2        \n",
       "3 0                   3          3          2         3         2        \n",
       "4 0                   3          3          3         2         2        \n",
       "5 0                   3          2          3         2         3        \n",
       "6 0                   3          2          3         2         2        \n",
       "  rs1045485 rs10491003 rs1049305 rs1049434 ... PlieguePec PliegueAx  PliegueTri\n",
       "1 2         3          2         2         ... -0.8757439 -0.8951047  1.0159821\n",
       "2 3         3          3         1         ... -1.0373448 -1.0624242 -0.8734794\n",
       "3 3         3          2         1         ... -1.1038863 -1.2619206 -1.1918942\n",
       "4 3         3          1         2         ... -0.8472261 -0.6537784  0.3040546\n",
       "5 1         3          2         3         ...  1.2440796  0.8038323  1.8540739\n",
       "6 3         3          2         2         ... -0.8092024 -0.8564925  0.4933012\n",
       "  PliegueSub PliegueAbd PliegueSup tpcgrasa1   tpcgrasa2  PerCue     PerCin   \n",
       "1 -1.0183111 -1.2665456 -1.0811267  0.37659536 0.02830971 -2.2056212 -1.727334\n",
       "2 -1.2829706 -1.3202312 -1.1361661 -0.43175736 0.03866565 -0.8281578 -1.462643\n",
       "3 -1.5390928 -1.4276024 -1.4113634 -0.86426995 0.23888577 -2.2056212 -1.674395\n",
       "4 -0.6255905 -0.6798385 -0.4595045  0.61849286 1.07832946 -0.9659042 -1.356766\n",
       "5  0.8855301  1.0917868  1.2013922  2.13407275 1.66913269 -1.5168895 -1.219127\n",
       "6 -0.7963386 -1.1169928 -0.8577312 -0.07384767 0.33604799 -1.1036505 -1.303828"
      ]
     },
     "metadata": {},
     "output_type": "display_data"
    }
   ],
   "source": [
    "head(ind_med)"
   ]
  },
  {
   "cell_type": "markdown",
   "metadata": {},
   "source": [
    "## Principal Components Analysis: PCA <a class=\"anchor\" id=\"6\"></a>"
   ]
  },
  {
   "cell_type": "markdown",
   "metadata": {},
   "source": [
    "* [Returning to the index of contents](#index)"
   ]
  },
  {
   "cell_type": "markdown",
   "metadata": {},
   "source": [
    "### Train test partition : 85/15<a class=\"anchor\" id=\"7\"></a>"
   ]
  },
  {
   "cell_type": "code",
   "execution_count": 75,
   "metadata": {
    "scrolled": true
   },
   "outputs": [
    {
     "data": {
      "text/html": [
       "<ol class=list-inline>\n",
       "\t<li>70</li>\n",
       "\t<li>212</li>\n",
       "</ol>\n"
      ],
      "text/latex": [
       "\\begin{enumerate*}\n",
       "\\item 70\n",
       "\\item 212\n",
       "\\end{enumerate*}\n"
      ],
      "text/markdown": [
       "1. 70\n",
       "2. 212\n",
       "\n",
       "\n"
      ],
      "text/plain": [
       "[1]  70 212"
      ]
     },
     "metadata": {},
     "output_type": "display_data"
    },
    {
     "data": {
      "text/html": [
       "<ol class=list-inline>\n",
       "\t<li>12</li>\n",
       "\t<li>212</li>\n",
       "</ol>\n"
      ],
      "text/latex": [
       "\\begin{enumerate*}\n",
       "\\item 12\n",
       "\\item 212\n",
       "\\end{enumerate*}\n"
      ],
      "text/markdown": [
       "1. 12\n",
       "2. 212\n",
       "\n",
       "\n"
      ],
      "text/plain": [
       "[1]  12 212"
      ]
     },
     "metadata": {},
     "output_type": "display_data"
    }
   ],
   "source": [
    "library(caret)\n",
    "\n",
    "set.seed(10)\n",
    "id_df <- createDataPartition(ind_med$W1_W2MedWRelFFM1Bin,p = 0.85,list = FALSE)\n",
    "ind_med_train <- ind_med[id_df,]\n",
    "ind_med_test <- ind_med[-id_df,]\n",
    "\n",
    "dim(ind_med_train)\n",
    "\n",
    "dim(ind_med_test)"
   ]
  },
  {
   "cell_type": "markdown",
   "metadata": {},
   "source": [
    "### Principal components in train set <a class =\"anchor\" id=\"8\"></a>"
   ]
  },
  {
   "cell_type": "markdown",
   "metadata": {},
   "source": [
    "* [Returning to the index of contents](#index)"
   ]
  },
  {
   "cell_type": "code",
   "execution_count": 76,
   "metadata": {},
   "outputs": [],
   "source": [
    "pca_train<- prcomp(ind_med_train[, -1], scale = TRUE)\n",
    "#target variable is not having in account during the building of principal components"
   ]
  },
  {
   "cell_type": "code",
   "execution_count": 77,
   "metadata": {
    "scrolled": true
   },
   "outputs": [
    {
     "name": "stdout",
     "output_type": "stream",
     "text": [
      "List of 5\n",
      " $ sdev    : num [1:70] 3.35 3.02 2.71 2.65 2.6 ...\n",
      " $ rotation: num [1:211, 1:70] 0.0548 0.0202 0.0917 -0.058 -0.0691 ...\n",
      "  ..- attr(*, \"dimnames\")=List of 2\n",
      "  .. ..$ : chr [1:211] \"rs10034661\" \"rs10063949\" \"rs1024610\" \"rs1024611\" ...\n",
      "  .. ..$ : chr [1:70] \"PC1\" \"PC2\" \"PC3\" \"PC4\" ...\n",
      " $ center  : Named num [1:211] 2.54 2.31 2.4 2.54 2.2 ...\n",
      "  ..- attr(*, \"names\")= chr [1:211] \"rs10034661\" \"rs10063949\" \"rs1024610\" \"rs1024611\" ...\n",
      " $ scale   : Named num [1:211] 0.63 0.671 0.6 0.606 0.714 ...\n",
      "  ..- attr(*, \"names\")= chr [1:211] \"rs10034661\" \"rs10063949\" \"rs1024610\" \"rs1024611\" ...\n",
      " $ x       : num [1:70, 1:70] 9.8 7.44 3.99 2.77 1.6 ...\n",
      "  ..- attr(*, \"dimnames\")=List of 2\n",
      "  .. ..$ : chr [1:70] \"1\" \"2\" \"3\" \"4\" ...\n",
      "  .. ..$ : chr [1:70] \"PC1\" \"PC2\" \"PC3\" \"PC4\" ...\n",
      " - attr(*, \"class\")= chr \"prcomp\"\n"
     ]
    }
   ],
   "source": [
    "str(pca_train)"
   ]
  },
  {
   "cell_type": "markdown",
   "metadata": {},
   "source": [
    "There is a maximum of 70 principal components"
   ]
  },
  {
   "cell_type": "code",
   "execution_count": 78,
   "metadata": {},
   "outputs": [
    {
     "data": {
      "text/html": [
       "70"
      ],
      "text/latex": [
       "70"
      ],
      "text/markdown": [
       "70"
      ],
      "text/plain": [
       "[1] 70"
      ]
     },
     "metadata": {},
     "output_type": "display_data"
    }
   ],
   "source": [
    "dim(pca_train$x)[1]"
   ]
  },
  {
   "cell_type": "markdown",
   "metadata": {},
   "source": [
    "* Acumulated proportion of explained variance"
   ]
  },
  {
   "cell_type": "code",
   "execution_count": 79,
   "metadata": {},
   "outputs": [
    {
     "data": {
      "image/png": "[encoded data removed]",
      "text/plain": [
       "Plot with title \"Acumulated proportion of explained variance\""
      ]
     },
     "metadata": {},
     "output_type": "display_data"
    }
   ],
   "source": [
    "prop_variance <- cumsum(pca_train$sdev^2)/sum(pca_train$sdev^2)*100\n",
    "\n",
    "plot(prop_variance,main=\"Acumulated proportion of explained variance\",xlim=c(1,70),xlab = 'Number of principal components', ylab = 'Percentage of acumulated variance')\n",
    "abline(v = which(pca_train$rotation[1,] == max(pca_train$rotation[1,])))\n",
    "grid()"
   ]
  },
  {
   "cell_type": "markdown",
   "metadata": {},
   "source": [
    "As it can be apreciated in the plot shown, the principal component to which target variable contribution is the biggest is:"
   ]
  },
  {
   "cell_type": "code",
   "execution_count": 80,
   "metadata": {
    "scrolled": false
   },
   "outputs": [
    {
     "data": {
      "text/html": [
       "<strong>PC35:</strong> 0.165048127845276"
      ],
      "text/latex": [
       "\\textbf{PC35:} 0.165048127845276"
      ],
      "text/markdown": [
       "**PC35:** 0.165048127845276"
      ],
      "text/plain": [
       "     PC35 \n",
       "0.1650481 "
      ]
     },
     "metadata": {},
     "output_type": "display_data"
    }
   ],
   "source": [
    "pca_train$rotation[1,][which(pca_train$rotation[1,] == max(pca_train$rotation[1,]))]"
   ]
  },
  {
   "cell_type": "markdown",
   "metadata": {},
   "source": [
    "With an acumulated proportion of explained variance of:"
   ]
  },
  {
   "cell_type": "code",
   "execution_count": 81,
   "metadata": {},
   "outputs": [
    {
     "data": {
      "text/html": [
       "77.3565256106684"
      ],
      "text/latex": [
       "77.3565256106684"
      ],
      "text/markdown": [
       "77.3565256106684"
      ],
      "text/plain": [
       "[1] 77.35653"
      ]
     },
     "metadata": {},
     "output_type": "display_data"
    }
   ],
   "source": [
    "prop_variance[35]"
   ]
  },
  {
   "cell_type": "markdown",
   "metadata": {},
   "source": [
    "Then, in order to have consistent results, the smallest number of principal components for the analysis will be 35."
   ]
  },
  {
   "cell_type": "markdown",
   "metadata": {},
   "source": [
    "<p style=\"text-align: justify;\">Now, it is shown a plot ot the target variable influence in the set of principal components obtained in train with the objetive of checking if for a certain number of principal component makes or does not make sense to use in the model the target variable.</p>"
   ]
  },
  {
   "cell_type": "code",
   "execution_count": 82,
   "metadata": {},
   "outputs": [
    {
     "data": {
      "image/png": "[encoded data removed]",
      "text/plain": [
       "Plot with title \"Target variable contribution to principal components\""
      ]
     },
     "metadata": {},
     "output_type": "display_data"
    }
   ],
   "source": [
    "plot(pca_train$rotation[1,], main = 'Target variable contribution to principal components', \n",
    "     xlab = 'Principal components obtained in train', xlim = c(1,70),ylab = 'Target variable contribution')"
   ]
  },
  {
   "cell_type": "markdown",
   "metadata": {},
   "source": [
    "The plot shows an uniform distribution of the target variable contribution, so it makes sense to keep the target variable for the model."
   ]
  },
  {
   "cell_type": "markdown",
   "metadata": {},
   "source": [
    "Now, in order to put in context the target variable contribution, we show down below an histogram of the original variables (included the target variable) contribution to the first principal component."
   ]
  },
  {
   "cell_type": "code",
   "execution_count": 83,
   "metadata": {},
   "outputs": [
    {
     "data": {
      "image/png": "[encoded data removed]",
      "text/plain": [
       "Plot with title \"Original variables contribution to the first principal component\""
      ]
     },
     "metadata": {},
     "output_type": "display_data"
    }
   ],
   "source": [
    "hist(pca_train$rotation[,1], breaks = 'FD',main = 'Original variables contribution to the first principal component', \n",
    "     xlab = 'Original variables contribution', ylab = 'Frequency contribution', col = 'blue', xlim=c(-0.25,0.25))\n",
    "abline(v = max(pca_train$rotation[1,]), col = 'red')"
   ]
  },
  {
   "cell_type": "markdown",
   "metadata": {},
   "source": [
    "In red, target variable contribution can be noted, it is far away from the rest of original variables contribution to  first principal component, being the highest apportation."
   ]
  },
  {
   "cell_type": "markdown",
   "metadata": {},
   "source": [
    "Different number of principal components will be studied, from the minimum of 35 PC (77,4% of explained variance), until a maximum number of components for which the level of explained variance is 95%."
   ]
  },
  {
   "cell_type": "code",
   "execution_count": 84,
   "metadata": {},
   "outputs": [],
   "source": [
    "thresholds_prop_variance <- c(which(prop_variance >= 77)[1], which(prop_variance >= 80)[1], which(prop_variance>= 85)[1], which(prop_variance >= 90)[1], which(prop_variance >= 95[1]))"
   ]
  },
  {
   "cell_type": "markdown",
   "metadata": {},
   "source": [
    "Number of principal components studied."
   ]
  },
  {
   "cell_type": "code",
   "execution_count": 85,
   "metadata": {
    "scrolled": true
   },
   "outputs": [
    {
     "data": {
      "text/html": [
       "<ol class=list-inline>\n",
       "\t<li>35</li>\n",
       "\t<li>38</li>\n",
       "\t<li>43</li>\n",
       "\t<li>49</li>\n",
       "\t<li>57</li>\n",
       "\t<li>58</li>\n",
       "\t<li>59</li>\n",
       "\t<li>60</li>\n",
       "\t<li>61</li>\n",
       "\t<li>62</li>\n",
       "\t<li>63</li>\n",
       "\t<li>64</li>\n",
       "\t<li>65</li>\n",
       "\t<li>66</li>\n",
       "\t<li>67</li>\n",
       "\t<li>68</li>\n",
       "\t<li>69</li>\n",
       "\t<li>70</li>\n",
       "</ol>\n"
      ],
      "text/latex": [
       "\\begin{enumerate*}\n",
       "\\item 35\n",
       "\\item 38\n",
       "\\item 43\n",
       "\\item 49\n",
       "\\item 57\n",
       "\\item 58\n",
       "\\item 59\n",
       "\\item 60\n",
       "\\item 61\n",
       "\\item 62\n",
       "\\item 63\n",
       "\\item 64\n",
       "\\item 65\n",
       "\\item 66\n",
       "\\item 67\n",
       "\\item 68\n",
       "\\item 69\n",
       "\\item 70\n",
       "\\end{enumerate*}\n"
      ],
      "text/markdown": [
       "1. 35\n",
       "2. 38\n",
       "3. 43\n",
       "4. 49\n",
       "5. 57\n",
       "6. 58\n",
       "7. 59\n",
       "8. 60\n",
       "9. 61\n",
       "10. 62\n",
       "11. 63\n",
       "12. 64\n",
       "13. 65\n",
       "14. 66\n",
       "15. 67\n",
       "16. 68\n",
       "17. 69\n",
       "18. 70\n",
       "\n",
       "\n"
      ],
      "text/plain": [
       " [1] 35 38 43 49 57 58 59 60 61 62 63 64 65 66 67 68 69 70"
      ]
     },
     "metadata": {},
     "output_type": "display_data"
    }
   ],
   "source": [
    "thresholds_prop_variance"
   ]
  },
  {
   "cell_type": "code",
   "execution_count": 86,
   "metadata": {},
   "outputs": [],
   "source": [
    "pca_train <- cbind(ind_med_train['W1_W2MedWRelFFM1Bin'],pca_train$x)"
   ]
  },
  {
   "cell_type": "code",
   "execution_count": 87,
   "metadata": {},
   "outputs": [
    {
     "data": {
      "text/html": [
       "<table>\n",
       "<thead><tr><th scope=col>W1_W2MedWRelFFM1Bin</th><th scope=col>PC1</th><th scope=col>PC2</th><th scope=col>PC3</th><th scope=col>PC4</th><th scope=col>PC5</th><th scope=col>PC6</th><th scope=col>PC7</th><th scope=col>PC8</th><th scope=col>PC9</th><th scope=col>...</th><th scope=col>PC61</th><th scope=col>PC62</th><th scope=col>PC63</th><th scope=col>PC64</th><th scope=col>PC65</th><th scope=col>PC66</th><th scope=col>PC67</th><th scope=col>PC68</th><th scope=col>PC69</th><th scope=col>PC70</th></tr></thead>\n",
       "<tbody>\n",
       "\t<tr><td>0            </td><td>9.803878     </td><td>-6.491983    </td><td> 1.240417    </td><td>-5.17451308  </td><td> 2.855829    </td><td>-1.1427720   </td><td> 1.2305455   </td><td>-2.6246150   </td><td> 0.7722514   </td><td>...          </td><td> 0.5606699   </td><td>-1.9463154   </td><td>-0.29645889  </td><td>-0.1554723   </td><td> 0.8982879   </td><td>-0.22488532  </td><td>-0.07232166  </td><td> 0.44017898  </td><td>-0.2471261   </td><td>-2.511880e-15</td></tr>\n",
       "\t<tr><td>0            </td><td>7.438964     </td><td> 1.191192    </td><td> 0.462978    </td><td> 1.98274920  </td><td>-3.277300    </td><td>-3.3777013   </td><td>-7.0204798   </td><td> 5.2999012   </td><td>-1.8056904   </td><td>...          </td><td> 0.6352097   </td><td> 0.5450508   </td><td> 0.68352679  </td><td> 0.3689099   </td><td>-0.3703127   </td><td>-0.37447364  </td><td>-0.09816029  </td><td> 0.35947577  </td><td> 0.3165508   </td><td>-4.718448e-16</td></tr>\n",
       "\t<tr><td>0            </td><td>3.992403     </td><td>-0.363151    </td><td>-2.426133    </td><td>-0.03949225  </td><td>-4.426511    </td><td>-0.6312258   </td><td> 0.9544492   </td><td>-2.4189008   </td><td> 4.7140320   </td><td>...          </td><td>-0.3716252   </td><td>-1.4913992   </td><td>-0.83809639  </td><td>-0.2810921   </td><td>-0.9398880   </td><td> 0.04777468  </td><td>-0.46041990  </td><td>-0.02899951  </td><td> 0.7477801   </td><td>-2.858824e-15</td></tr>\n",
       "\t<tr><td>0            </td><td>2.766404     </td><td> 2.128683    </td><td>-5.474271    </td><td> 3.27253311  </td><td> 3.403339    </td><td> 1.6568849   </td><td> 2.1546298   </td><td> 0.9123194   </td><td> 0.7461983   </td><td>...          </td><td> 0.6169426   </td><td> 0.2891146   </td><td>-1.55278355  </td><td> 0.9580144   </td><td> 0.8644052   </td><td> 0.95258568  </td><td> 0.51307335  </td><td>-0.39207444  </td><td>-1.3821300   </td><td>-4.746203e-15</td></tr>\n",
       "\t<tr><td>0            </td><td>1.600038     </td><td>-1.969938    </td><td>-2.683235    </td><td> 0.01004668  </td><td> 2.196908    </td><td>-5.6808874   </td><td> 1.7777180   </td><td> 5.8584164   </td><td>-0.3868966   </td><td>...          </td><td>-1.1714861   </td><td>-0.1576358   </td><td>-0.08340955  </td><td> 0.4035201   </td><td>-0.8962280   </td><td>-0.32752727  </td><td> 0.89174980  </td><td> 0.56943414  </td><td> 1.0264640   </td><td>-1.817990e-15</td></tr>\n",
       "\t<tr><td>0            </td><td>4.297382     </td><td> 1.355464    </td><td>-3.779475    </td><td> 4.52895575  </td><td>-1.035419    </td><td> 1.9110381   </td><td>-1.9499546   </td><td> 2.2444168   </td><td> 3.4631530   </td><td>...          </td><td>-1.9583969   </td><td> 0.3914073   </td><td> 0.62380869  </td><td>-0.3301636   </td><td> 0.4286639   </td><td>-0.56334470  </td><td>-1.86561410  </td><td> 0.77488665  </td><td>-0.5134788   </td><td>-2.650657e-15</td></tr>\n",
       "</tbody>\n",
       "</table>\n"
      ],
      "text/latex": [
       "\\begin{tabular}{r|lllllllllllllllllllllllllllllllllllllllllllllllllllllllllllllllllllllll}\n",
       " W1\\_W2MedWRelFFM1Bin & PC1 & PC2 & PC3 & PC4 & PC5 & PC6 & PC7 & PC8 & PC9 & ... & PC61 & PC62 & PC63 & PC64 & PC65 & PC66 & PC67 & PC68 & PC69 & PC70\\\\\n",
       "\\hline\n",
       "\t 0             & 9.803878      & -6.491983     &  1.240417     & -5.17451308   &  2.855829     & -1.1427720    &  1.2305455    & -2.6246150    &  0.7722514    & ...           &  0.5606699    & -1.9463154    & -0.29645889   & -0.1554723    &  0.8982879    & -0.22488532   & -0.07232166   &  0.44017898   & -0.2471261    & -2.511880e-15\\\\\n",
       "\t 0             & 7.438964      &  1.191192     &  0.462978     &  1.98274920   & -3.277300     & -3.3777013    & -7.0204798    &  5.2999012    & -1.8056904    & ...           &  0.6352097    &  0.5450508    &  0.68352679   &  0.3689099    & -0.3703127    & -0.37447364   & -0.09816029   &  0.35947577   &  0.3165508    & -4.718448e-16\\\\\n",
       "\t 0             & 3.992403      & -0.363151     & -2.426133     & -0.03949225   & -4.426511     & -0.6312258    &  0.9544492    & -2.4189008    &  4.7140320    & ...           & -0.3716252    & -1.4913992    & -0.83809639   & -0.2810921    & -0.9398880    &  0.04777468   & -0.46041990   & -0.02899951   &  0.7477801    & -2.858824e-15\\\\\n",
       "\t 0             & 2.766404      &  2.128683     & -5.474271     &  3.27253311   &  3.403339     &  1.6568849    &  2.1546298    &  0.9123194    &  0.7461983    & ...           &  0.6169426    &  0.2891146    & -1.55278355   &  0.9580144    &  0.8644052    &  0.95258568   &  0.51307335   & -0.39207444   & -1.3821300    & -4.746203e-15\\\\\n",
       "\t 0             & 1.600038      & -1.969938     & -2.683235     &  0.01004668   &  2.196908     & -5.6808874    &  1.7777180    &  5.8584164    & -0.3868966    & ...           & -1.1714861    & -0.1576358    & -0.08340955   &  0.4035201    & -0.8962280    & -0.32752727   &  0.89174980   &  0.56943414   &  1.0264640    & -1.817990e-15\\\\\n",
       "\t 0             & 4.297382      &  1.355464     & -3.779475     &  4.52895575   & -1.035419     &  1.9110381    & -1.9499546    &  2.2444168    &  3.4631530    & ...           & -1.9583969    &  0.3914073    &  0.62380869   & -0.3301636    &  0.4286639    & -0.56334470   & -1.86561410   &  0.77488665   & -0.5134788    & -2.650657e-15\\\\\n",
       "\\end{tabular}\n"
      ],
      "text/markdown": [
       "\n",
       "| W1_W2MedWRelFFM1Bin | PC1 | PC2 | PC3 | PC4 | PC5 | PC6 | PC7 | PC8 | PC9 | ... | PC61 | PC62 | PC63 | PC64 | PC65 | PC66 | PC67 | PC68 | PC69 | PC70 |\n",
       "|---|---|---|---|---|---|---|---|---|---|---|---|---|---|---|---|---|---|---|---|---|\n",
       "| 0             | 9.803878      | -6.491983     |  1.240417     | -5.17451308   |  2.855829     | -1.1427720    |  1.2305455    | -2.6246150    |  0.7722514    | ...           |  0.5606699    | -1.9463154    | -0.29645889   | -0.1554723    |  0.8982879    | -0.22488532   | -0.07232166   |  0.44017898   | -0.2471261    | -2.511880e-15 |\n",
       "| 0             | 7.438964      |  1.191192     |  0.462978     |  1.98274920   | -3.277300     | -3.3777013    | -7.0204798    |  5.2999012    | -1.8056904    | ...           |  0.6352097    |  0.5450508    |  0.68352679   |  0.3689099    | -0.3703127    | -0.37447364   | -0.09816029   |  0.35947577   |  0.3165508    | -4.718448e-16 |\n",
       "| 0             | 3.992403      | -0.363151     | -2.426133     | -0.03949225   | -4.426511     | -0.6312258    |  0.9544492    | -2.4189008    |  4.7140320    | ...           | -0.3716252    | -1.4913992    | -0.83809639   | -0.2810921    | -0.9398880    |  0.04777468   | -0.46041990   | -0.02899951   |  0.7477801    | -2.858824e-15 |\n",
       "| 0             | 2.766404      |  2.128683     | -5.474271     |  3.27253311   |  3.403339     |  1.6568849    |  2.1546298    |  0.9123194    |  0.7461983    | ...           |  0.6169426    |  0.2891146    | -1.55278355   |  0.9580144    |  0.8644052    |  0.95258568   |  0.51307335   | -0.39207444   | -1.3821300    | -4.746203e-15 |\n",
       "| 0             | 1.600038      | -1.969938     | -2.683235     |  0.01004668   |  2.196908     | -5.6808874    |  1.7777180    |  5.8584164    | -0.3868966    | ...           | -1.1714861    | -0.1576358    | -0.08340955   |  0.4035201    | -0.8962280    | -0.32752727   |  0.89174980   |  0.56943414   |  1.0264640    | -1.817990e-15 |\n",
       "| 0             | 4.297382      |  1.355464     | -3.779475     |  4.52895575   | -1.035419     |  1.9110381    | -1.9499546    |  2.2444168    |  3.4631530    | ...           | -1.9583969    |  0.3914073    |  0.62380869   | -0.3301636    |  0.4286639    | -0.56334470   | -1.86561410   |  0.77488665   | -0.5134788    | -2.650657e-15 |\n",
       "\n"
      ],
      "text/plain": [
       "  W1_W2MedWRelFFM1Bin PC1      PC2       PC3       PC4         PC5      \n",
       "1 0                   9.803878 -6.491983  1.240417 -5.17451308  2.855829\n",
       "2 0                   7.438964  1.191192  0.462978  1.98274920 -3.277300\n",
       "3 0                   3.992403 -0.363151 -2.426133 -0.03949225 -4.426511\n",
       "4 0                   2.766404  2.128683 -5.474271  3.27253311  3.403339\n",
       "5 0                   1.600038 -1.969938 -2.683235  0.01004668  2.196908\n",
       "6 0                   4.297382  1.355464 -3.779475  4.52895575 -1.035419\n",
       "  PC6        PC7        PC8        PC9        ... PC61       PC62      \n",
       "1 -1.1427720  1.2305455 -2.6246150  0.7722514 ...  0.5606699 -1.9463154\n",
       "2 -3.3777013 -7.0204798  5.2999012 -1.8056904 ...  0.6352097  0.5450508\n",
       "3 -0.6312258  0.9544492 -2.4189008  4.7140320 ... -0.3716252 -1.4913992\n",
       "4  1.6568849  2.1546298  0.9123194  0.7461983 ...  0.6169426  0.2891146\n",
       "5 -5.6808874  1.7777180  5.8584164 -0.3868966 ... -1.1714861 -0.1576358\n",
       "6  1.9110381 -1.9499546  2.2444168  3.4631530 ... -1.9583969  0.3914073\n",
       "  PC63        PC64       PC65       PC66        PC67        PC68       \n",
       "1 -0.29645889 -0.1554723  0.8982879 -0.22488532 -0.07232166  0.44017898\n",
       "2  0.68352679  0.3689099 -0.3703127 -0.37447364 -0.09816029  0.35947577\n",
       "3 -0.83809639 -0.2810921 -0.9398880  0.04777468 -0.46041990 -0.02899951\n",
       "4 -1.55278355  0.9580144  0.8644052  0.95258568  0.51307335 -0.39207444\n",
       "5 -0.08340955  0.4035201 -0.8962280 -0.32752727  0.89174980  0.56943414\n",
       "6  0.62380869 -0.3301636  0.4286639 -0.56334470 -1.86561410  0.77488665\n",
       "  PC69       PC70         \n",
       "1 -0.2471261 -2.511880e-15\n",
       "2  0.3165508 -4.718448e-16\n",
       "3  0.7477801 -2.858824e-15\n",
       "4 -1.3821300 -4.746203e-15\n",
       "5  1.0264640 -1.817990e-15\n",
       "6 -0.5134788 -2.650657e-15"
      ]
     },
     "metadata": {},
     "output_type": "display_data"
    }
   ],
   "source": [
    "head(pca_train)"
   ]
  },
  {
   "cell_type": "markdown",
   "metadata": {},
   "source": [
    "## K-Nearest Neighbors (KNN)<a class=\"anchor\" id=\"9\"></a>"
   ]
  },
  {
   "cell_type": "markdown",
   "metadata": {},
   "source": [
    "* [Returning to the index of contents](#index)"
   ]
  },
  {
   "cell_type": "markdown",
   "metadata": {},
   "source": [
    "### Training <a class=\"anchor\" id =\"10\"></a>"
   ]
  },
  {
   "cell_type": "code",
   "execution_count": 88,
   "metadata": {},
   "outputs": [],
   "source": [
    "set.seed(1)\n",
    "trctrl = trainControl(method = \"cv\", number = 2) #crossvalidation with two folds\n",
    "tuneGrid_ <- expand.grid(k = 1 : 30) # As maximum 30 neighbors will be tested\n",
    "k<- c()# optimal number of k neighbors considered\n",
    "acc <- c() #accuracy values associated with the optimal k for each case\n",
    "for (i in thresholds_prop_variance){\n",
    "    j <- i + 1 #columns selected of the original train dataframe\n",
    "    df_train<- pca_train[, 1: j]\n",
    "    knn.fit = train(W1_W2MedWRelFFM1Bin~ .,\n",
    "                df_train,\n",
    "                method = \"knn\",\n",
    "                trControl = trctrl,\n",
    "                preProcess = c(\"center\", \"scale\"),\n",
    "                tuneGrid = tuneGrid_)\n",
    "\n",
    "  k<- c(k, knn.fit$bestTune)  \n",
    "  acc <- c(acc, knn.fit$results[knn.fit$bestTune[[1]],]$Accuracy)\n",
    " \n",
    "\n",
    "}"
   ]
  },
  {
   "cell_type": "code",
   "execution_count": 102,
   "metadata": {},
   "outputs": [
    {
     "data": {
      "image/png": "[encoded data removed]",
      "text/plain": [
       "plot without title"
      ]
     },
     "metadata": {},
     "output_type": "display_data"
    }
   ],
   "source": [
    "ggplot(data = data.frame(acc, pc = thresholds_prop_variance),\n",
    "       aes(x = pc, y = acc, group = 1)) +\n",
    "  geom_point() +\n",
    "  geom_line() +\n",
    "  labs(title='Accuracy evolution based on principal components considered in KNN')+\n",
    "  geom_label(aes(label = round(acc,3))) +\n",
    "  theme_bw() +\n",
    "  labs(x = \"Principal components\", \n",
    "       y = \"Accuracy\")"
   ]
  },
  {
   "cell_type": "markdown",
   "metadata": {},
   "source": [
    "As it can be appreciated in the plot, accuracy is stabilized to a value of 58%, we will choose the fifth number of principal components among the possibilities included in the vector thresholds_prop_variance:"
   ]
  },
  {
   "cell_type": "code",
   "execution_count": 90,
   "metadata": {
    "scrolled": true
   },
   "outputs": [
    {
     "name": "stdout",
     "output_type": "stream",
     "text": [
      "[1] \"Number of principal components choosen: 57\"\n",
      "[1] \"Percentage of explained variance accumulated with 57 principal components: 95.4474105731821 %\"\n"
     ]
    }
   ],
   "source": [
    "print(paste('Number of principal components choosen:',thresholds_prop_variance[5]))\n",
    "print(paste('Percentage of explained variance accumulated with', thresholds_prop_variance[5],'principal components:',prop_variance[57],'%'))"
   ]
  },
  {
   "cell_type": "code",
   "execution_count": 91,
   "metadata": {
    "scrolled": true
   },
   "outputs": [
    {
     "name": "stdout",
     "output_type": "stream",
     "text": [
      "[1] \"Number of optimal k neighbors in train: 14\"\n"
     ]
    }
   ],
   "source": [
    "print(paste('Number of optimal k neighbors in train:',k[5]))"
   ]
  },
  {
   "cell_type": "markdown",
   "metadata": {},
   "source": [
    "### Test prediction <a class=\"anchor\" id=\"11\"></a>"
   ]
  },
  {
   "cell_type": "markdown",
   "metadata": {},
   "source": [
    "* [Returning to the index of contents](#index)"
   ]
  },
  {
   "cell_type": "code",
   "execution_count": 92,
   "metadata": {
    "scrolled": true
   },
   "outputs": [],
   "source": [
    "library(class)"
   ]
  },
  {
   "cell_type": "markdown",
   "metadata": {},
   "source": [
    "Projection of principal components obtained in train on test data:"
   ]
  },
  {
   "cell_type": "code",
   "execution_count": 93,
   "metadata": {},
   "outputs": [
    {
     "name": "stdout",
     "output_type": "stream",
     "text": [
      " num [1:12, 1:70] 1.6146 1.2133 -0.2284 4.4004 -0.0139 ...\n",
      " - attr(*, \"dimnames\")=List of 2\n",
      "  ..$ : chr [1:12] \"11\" \"16\" \"21\" \"25\" ...\n",
      "  ..$ : chr [1:70] \"PC1\" \"PC2\" \"PC3\" \"PC4\" ...\n"
     ]
    }
   ],
   "source": [
    "pca_test_pred <- predict(prcomp(ind_med_train[, -1], scale = TRUE), newdata = ind_med_test[,-1] )\n",
    "str(pca_test_pred)"
   ]
  },
  {
   "cell_type": "markdown",
   "metadata": {},
   "source": [
    "Prediction of responsable variable for test data using the knn classifier trained:"
   ]
  },
  {
   "cell_type": "code",
   "execution_count": 95,
   "metadata": {},
   "outputs": [],
   "source": [
    "pred <- knn(train = pca_train[,2:57],test =pca_test_pred[,2:57], cl =pca_train$W1_W2MedWRelFFM1Bin ,k = 14)"
   ]
  },
  {
   "cell_type": "code",
   "execution_count": 96,
   "metadata": {
    "scrolled": true
   },
   "outputs": [
    {
     "data": {
      "text/html": [
       "<ol class=list-inline>\n",
       "\t<li>1</li>\n",
       "\t<li>1</li>\n",
       "\t<li>0</li>\n",
       "\t<li>0</li>\n",
       "\t<li>1</li>\n",
       "\t<li>0</li>\n",
       "\t<li>0</li>\n",
       "\t<li>1</li>\n",
       "\t<li>1</li>\n",
       "\t<li>0</li>\n",
       "\t<li>1</li>\n",
       "\t<li>1</li>\n",
       "</ol>\n",
       "\n",
       "<details>\n",
       "\t<summary style=display:list-item;cursor:pointer>\n",
       "\t\t<strong>Levels</strong>:\n",
       "\t</summary>\n",
       "\t<ol class=list-inline>\n",
       "\t\t<li>'0'</li>\n",
       "\t\t<li>'1'</li>\n",
       "\t</ol>\n",
       "</details>"
      ],
      "text/latex": [
       "\\begin{enumerate*}\n",
       "\\item 1\n",
       "\\item 1\n",
       "\\item 0\n",
       "\\item 0\n",
       "\\item 1\n",
       "\\item 0\n",
       "\\item 0\n",
       "\\item 1\n",
       "\\item 1\n",
       "\\item 0\n",
       "\\item 1\n",
       "\\item 1\n",
       "\\end{enumerate*}\n",
       "\n",
       "\\emph{Levels}: \\begin{enumerate*}\n",
       "\\item '0'\n",
       "\\item '1'\n",
       "\\end{enumerate*}\n"
      ],
      "text/markdown": [
       "1. 1\n",
       "2. 1\n",
       "3. 0\n",
       "4. 0\n",
       "5. 1\n",
       "6. 0\n",
       "7. 0\n",
       "8. 1\n",
       "9. 1\n",
       "10. 0\n",
       "11. 1\n",
       "12. 1\n",
       "\n",
       "\n",
       "\n",
       "**Levels**: 1. '0'\n",
       "2. '1'\n",
       "\n",
       "\n"
      ],
      "text/plain": [
       " [1] 1 1 0 0 1 0 0 1 1 0 1 1\n",
       "Levels: 0 1"
      ]
     },
     "metadata": {},
     "output_type": "display_data"
    }
   ],
   "source": [
    "pred"
   ]
  },
  {
   "cell_type": "code",
   "execution_count": 97,
   "metadata": {
    "scrolled": true
   },
   "outputs": [
    {
     "data": {
      "text/html": [
       "<ol class=list-inline>\n",
       "\t<li>0</li>\n",
       "\t<li>0</li>\n",
       "\t<li>0</li>\n",
       "\t<li>0</li>\n",
       "\t<li>1</li>\n",
       "\t<li>1</li>\n",
       "\t<li>1</li>\n",
       "\t<li>1</li>\n",
       "\t<li>0</li>\n",
       "\t<li>1</li>\n",
       "\t<li>0</li>\n",
       "\t<li>1</li>\n",
       "</ol>\n",
       "\n",
       "<details>\n",
       "\t<summary style=display:list-item;cursor:pointer>\n",
       "\t\t<strong>Levels</strong>:\n",
       "\t</summary>\n",
       "\t<ol class=list-inline>\n",
       "\t\t<li>'0'</li>\n",
       "\t\t<li>'1'</li>\n",
       "\t</ol>\n",
       "</details>"
      ],
      "text/latex": [
       "\\begin{enumerate*}\n",
       "\\item 0\n",
       "\\item 0\n",
       "\\item 0\n",
       "\\item 0\n",
       "\\item 1\n",
       "\\item 1\n",
       "\\item 1\n",
       "\\item 1\n",
       "\\item 0\n",
       "\\item 1\n",
       "\\item 0\n",
       "\\item 1\n",
       "\\end{enumerate*}\n",
       "\n",
       "\\emph{Levels}: \\begin{enumerate*}\n",
       "\\item '0'\n",
       "\\item '1'\n",
       "\\end{enumerate*}\n"
      ],
      "text/markdown": [
       "1. 0\n",
       "2. 0\n",
       "3. 0\n",
       "4. 0\n",
       "5. 1\n",
       "6. 1\n",
       "7. 1\n",
       "8. 1\n",
       "9. 0\n",
       "10. 1\n",
       "11. 0\n",
       "12. 1\n",
       "\n",
       "\n",
       "\n",
       "**Levels**: 1. '0'\n",
       "2. '1'\n",
       "\n",
       "\n"
      ],
      "text/plain": [
       " [1] 0 0 0 0 1 1 1 1 0 1 0 1\n",
       "Levels: 0 1"
      ]
     },
     "metadata": {},
     "output_type": "display_data"
    }
   ],
   "source": [
    "ind_med_test$W1_W2MedWRelFFM1Bin"
   ]
  },
  {
   "cell_type": "markdown",
   "metadata": {},
   "source": [
    "Error in test prediction"
   ]
  },
  {
   "cell_type": "code",
   "execution_count": 98,
   "metadata": {},
   "outputs": [
    {
     "name": "stdout",
     "output_type": "stream",
     "text": [
      "[1] \"58.3333333333333 % of predictions in test are wrong\"\n"
     ]
    }
   ],
   "source": [
    "acc.class = function(x,y){\n",
    "    stopifnot(length(x) == length(y))\n",
    "    return(sum(diag(table(x,y)))/length(x)* 100)\n",
    "}\n",
    "\n",
    "\n",
    "error <- 100 - acc.class(ind_med_test$W1_W2MedWRelFFM1Bin,pred)\n",
    "\n",
    "print(paste(error,'% of predictions in test are wrong'))"
   ]
  },
  {
   "cell_type": "markdown",
   "metadata": {},
   "source": [
    "Matrix of confusion:"
   ]
  },
  {
   "cell_type": "code",
   "execution_count": 99,
   "metadata": {
    "scrolled": true
   },
   "outputs": [
    {
     "data": {
      "text/plain": [
       "   pred\n",
       "    0 1\n",
       "  0 2 4\n",
       "  1 3 3"
      ]
     },
     "metadata": {},
     "output_type": "display_data"
    }
   ],
   "source": [
    "table(ind_med_test$W1_W2MedWRelFFM1Bin,pred)"
   ]
  },
  {
   "cell_type": "markdown",
   "metadata": {},
   "source": [
    "Accuracy in test prediction:"
   ]
  },
  {
   "cell_type": "code",
   "execution_count": 100,
   "metadata": {},
   "outputs": [
    {
     "name": "stdout",
     "output_type": "stream",
     "text": [
      "[1] \"41.6666666666667 % of predictions in test are correct\"\n"
     ]
    }
   ],
   "source": [
    "print(paste(acc.class(ind_med_test$W1_W2MedWRelFFM1Bin,pred),'% of predictions in test are correct'))"
   ]
  }
 ],
 "metadata": {
  "kernelspec": {
   "display_name": "R",
   "language": "R",
   "name": "ir"
  },
  "language_info": {
   "codemirror_mode": "r",
   "file_extension": ".r",
   "mimetype": "text/x-r-source",
   "name": "R",
   "pygments_lexer": "r",
   "version": "3.6.1"
  }
 },
 "nbformat": 4,
 "nbformat_minor": 4
}
